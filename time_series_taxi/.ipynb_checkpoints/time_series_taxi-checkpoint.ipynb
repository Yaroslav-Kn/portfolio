{
 "cells": [
  {
   "cell_type": "markdown",
   "metadata": {
    "toc": true
   },
   "source": [
    "<h1>Содержание<span class=\"tocSkip\"></span></h1>\n",
    "<div class=\"toc\"><ul class=\"toc-item\"><li><span><a href=\"#Подготовка\" data-toc-modified-id=\"Подготовка-1\"><span class=\"toc-item-num\">1&nbsp;&nbsp;</span>Подготовка</a></span><ul class=\"toc-item\"><li><span><a href=\"#Выводы\" data-toc-modified-id=\"Выводы-1.1\"><span class=\"toc-item-num\">1.1&nbsp;&nbsp;</span>Выводы</a></span></li></ul></li><li><span><a href=\"#Анализ\" data-toc-modified-id=\"Анализ-2\"><span class=\"toc-item-num\">2&nbsp;&nbsp;</span>Анализ</a></span><ul class=\"toc-item\"><li><span><a href=\"#Выводы\" data-toc-modified-id=\"Выводы-2.1\"><span class=\"toc-item-num\">2.1&nbsp;&nbsp;</span>Выводы</a></span></li></ul></li><li><span><a href=\"#Обучение\" data-toc-modified-id=\"Обучение-3\"><span class=\"toc-item-num\">3&nbsp;&nbsp;</span>Обучение</a></span><ul class=\"toc-item\"><li><span><a href=\"#Выводы\" data-toc-modified-id=\"Выводы-3.1\"><span class=\"toc-item-num\">3.1&nbsp;&nbsp;</span>Выводы</a></span></li></ul></li><li><span><a href=\"#Тестирование\" data-toc-modified-id=\"Тестирование-4\"><span class=\"toc-item-num\">4&nbsp;&nbsp;</span>Тестирование</a></span><ul class=\"toc-item\"><li><span><a href=\"#Выводы\" data-toc-modified-id=\"Выводы-4.1\"><span class=\"toc-item-num\">4.1&nbsp;&nbsp;</span>Выводы</a></span></li></ul></li><li><span><a href=\"#Общие-выводы\" data-toc-modified-id=\"Общие-выводы-5\"><span class=\"toc-item-num\">5&nbsp;&nbsp;</span>Общие выводы</a></span></li></ul></div>"
   ]
  },
  {
   "cell_type": "markdown",
   "metadata": {},
   "source": [
    "#  Прогнозирование заказов такси"
   ]
  },
  {
   "cell_type": "markdown",
   "metadata": {},
   "source": [
    "Исходя из исторических данных о заказах такси в аэропортах, необходимо построить модель, которая будет прогнозировать количество заказов на ближайший час. Поскольку мы имеем дело с задачей регрессии, то в качестве метрики выбрано *RMSE*, при этом, согласно условиям технического задания значение метрики на тестовой выборке должно быть не больше 48.\n",
    "\n",
    "В ходе данного проекта необходимо сделать следующее:\n",
    "\n",
    "1. Загрузить данные и выполнить их ресемплирование по одному часу.\n",
    "2. Проанализировать данные.\n",
    "3. Сделать тестовую выборку размером 10% от исходных данных. Обучить разные модели с различными гиперпараметрами и выбрать лучшую модель. \n",
    "4. Проверить данные на тестовой выборке."
   ]
  },
  {
   "cell_type": "markdown",
   "metadata": {},
   "source": [
    "## Подготовка"
   ]
  },
  {
   "cell_type": "code",
   "execution_count": 1,
   "metadata": {},
   "outputs": [],
   "source": [
    "import pandas as pd\n",
    "import numpy as np\n",
    "import matplotlib.pyplot as plt\n",
    "\n",
    "from tqdm import tqdm\n",
    "\n",
    "from sklearn.linear_model import LinearRegression\n",
    "from sklearn.tree import DecisionTreeRegressor\n",
    "from sklearn.ensemble import RandomForestRegressor\n",
    "from catboost import CatBoostRegressor\n",
    "\n",
    "from sklearn.metrics import mean_squared_error\n",
    "\n",
    "from sklearn.model_selection import train_test_split, TimeSeriesSplit, GridSearchCV\n",
    "\n",
    "from statsmodels.tsa.seasonal import seasonal_decompose"
   ]
  },
  {
   "cell_type": "markdown",
   "metadata": {},
   "source": [
    "Откроемм данные и выведем первые 5 строк."
   ]
  },
  {
   "cell_type": "code",
   "execution_count": 2,
   "metadata": {},
   "outputs": [
    {
     "data": {
      "text/html": [
       "<div>\n",
       "<style scoped>\n",
       "    .dataframe tbody tr th:only-of-type {\n",
       "        vertical-align: middle;\n",
       "    }\n",
       "\n",
       "    .dataframe tbody tr th {\n",
       "        vertical-align: top;\n",
       "    }\n",
       "\n",
       "    .dataframe thead th {\n",
       "        text-align: right;\n",
       "    }\n",
       "</style>\n",
       "<table border=\"1\" class=\"dataframe\">\n",
       "  <thead>\n",
       "    <tr style=\"text-align: right;\">\n",
       "      <th></th>\n",
       "      <th>datetime</th>\n",
       "      <th>num_orders</th>\n",
       "    </tr>\n",
       "  </thead>\n",
       "  <tbody>\n",
       "    <tr>\n",
       "      <th>0</th>\n",
       "      <td>2018-03-01 00:00:00</td>\n",
       "      <td>9</td>\n",
       "    </tr>\n",
       "    <tr>\n",
       "      <th>1</th>\n",
       "      <td>2018-03-01 00:10:00</td>\n",
       "      <td>14</td>\n",
       "    </tr>\n",
       "    <tr>\n",
       "      <th>2</th>\n",
       "      <td>2018-03-01 00:20:00</td>\n",
       "      <td>28</td>\n",
       "    </tr>\n",
       "    <tr>\n",
       "      <th>3</th>\n",
       "      <td>2018-03-01 00:30:00</td>\n",
       "      <td>20</td>\n",
       "    </tr>\n",
       "    <tr>\n",
       "      <th>4</th>\n",
       "      <td>2018-03-01 00:40:00</td>\n",
       "      <td>32</td>\n",
       "    </tr>\n",
       "  </tbody>\n",
       "</table>\n",
       "</div>"
      ],
      "text/plain": [
       "              datetime  num_orders\n",
       "0  2018-03-01 00:00:00           9\n",
       "1  2018-03-01 00:10:00          14\n",
       "2  2018-03-01 00:20:00          28\n",
       "3  2018-03-01 00:30:00          20\n",
       "4  2018-03-01 00:40:00          32"
      ]
     },
     "metadata": {},
     "output_type": "display_data"
    }
   ],
   "source": [
    "data = pd.read_csv('taxi.csv')\n",
    "display(data.head())"
   ]
  },
  {
   "cell_type": "markdown",
   "metadata": {},
   "source": [
    "Выведем информацию по датасету."
   ]
  },
  {
   "cell_type": "code",
   "execution_count": 3,
   "metadata": {},
   "outputs": [
    {
     "name": "stdout",
     "output_type": "stream",
     "text": [
      "<class 'pandas.core.frame.DataFrame'>\n",
      "RangeIndex: 26496 entries, 0 to 26495\n",
      "Data columns (total 2 columns):\n",
      " #   Column      Non-Null Count  Dtype \n",
      "---  ------      --------------  ----- \n",
      " 0   datetime    26496 non-null  object\n",
      " 1   num_orders  26496 non-null  int64 \n",
      "dtypes: int64(1), object(1)\n",
      "memory usage: 414.1+ KB\n"
     ]
    }
   ],
   "source": [
    "data.info()"
   ]
  },
  {
   "cell_type": "markdown",
   "metadata": {},
   "source": [
    "В датасете всего 2 столбца один из них дата, но он идёт не в правильном формате. Перезапишем данные, но теперь поменяем формат на правильный и сделаем данные индексом. После чего отсортируем индекс по возрастанию и проверим на монотоннсоть."
   ]
  },
  {
   "cell_type": "code",
   "execution_count": 4,
   "metadata": {},
   "outputs": [
    {
     "name": "stdout",
     "output_type": "stream",
     "text": [
      "True\n"
     ]
    },
    {
     "data": {
      "text/html": [
       "<div>\n",
       "<style scoped>\n",
       "    .dataframe tbody tr th:only-of-type {\n",
       "        vertical-align: middle;\n",
       "    }\n",
       "\n",
       "    .dataframe tbody tr th {\n",
       "        vertical-align: top;\n",
       "    }\n",
       "\n",
       "    .dataframe thead th {\n",
       "        text-align: right;\n",
       "    }\n",
       "</style>\n",
       "<table border=\"1\" class=\"dataframe\">\n",
       "  <thead>\n",
       "    <tr style=\"text-align: right;\">\n",
       "      <th></th>\n",
       "      <th>num_orders</th>\n",
       "    </tr>\n",
       "    <tr>\n",
       "      <th>datetime</th>\n",
       "      <th></th>\n",
       "    </tr>\n",
       "  </thead>\n",
       "  <tbody>\n",
       "    <tr>\n",
       "      <th>2018-03-01 00:00:00</th>\n",
       "      <td>9</td>\n",
       "    </tr>\n",
       "    <tr>\n",
       "      <th>2018-03-01 00:10:00</th>\n",
       "      <td>14</td>\n",
       "    </tr>\n",
       "    <tr>\n",
       "      <th>2018-03-01 00:20:00</th>\n",
       "      <td>28</td>\n",
       "    </tr>\n",
       "    <tr>\n",
       "      <th>2018-03-01 00:30:00</th>\n",
       "      <td>20</td>\n",
       "    </tr>\n",
       "    <tr>\n",
       "      <th>2018-03-01 00:40:00</th>\n",
       "      <td>32</td>\n",
       "    </tr>\n",
       "  </tbody>\n",
       "</table>\n",
       "</div>"
      ],
      "text/plain": [
       "                     num_orders\n",
       "datetime                       \n",
       "2018-03-01 00:00:00           9\n",
       "2018-03-01 00:10:00          14\n",
       "2018-03-01 00:20:00          28\n",
       "2018-03-01 00:30:00          20\n",
       "2018-03-01 00:40:00          32"
      ]
     },
     "metadata": {},
     "output_type": "display_data"
    }
   ],
   "source": [
    "data = pd.read_csv('taxi.csv', index_col=[0], parse_dates=[0])\n",
    "data.sort_index(inplace=True)\n",
    "\n",
    "print(data.index.is_monotonic)\n",
    "display(data.head())"
   ]
  },
  {
   "cell_type": "markdown",
   "metadata": {},
   "source": [
    "Данные импортированные корректно, проведём ресемплирование данных по часу. После этого построим график динамики заказзов по дням."
   ]
  },
  {
   "cell_type": "code",
   "execution_count": 5,
   "metadata": {},
   "outputs": [
    {
     "data": {
      "image/png": "[encoded data removed]",
      "text/plain": [
       "<Figure size 576x432 with 1 Axes>"
      ]
     },
     "metadata": {
      "needs_background": "light"
     },
     "output_type": "display_data"
    }
   ],
   "source": [
    "data = data.resample(\"1H\").sum() \n",
    "\n",
    "data_day = data.resample(\"1D\").sum() \n",
    "plt.figure(figsize=(8,6))\n",
    "plt.plot(data_day)\n",
    "plt.show()"
   ]
  },
  {
   "cell_type": "markdown",
   "metadata": {},
   "source": [
    "По графику видно, что в рассматриваемый период имелся восходящий тренд, также в графике наблюдается некая сезонность."
   ]
  },
  {
   "cell_type": "markdown",
   "metadata": {},
   "source": [
    "### Выводы"
   ]
  },
  {
   "cell_type": "markdown",
   "metadata": {},
   "source": [
    "В данном разделе были импортированы и подготовлены данные для последующего анализа. Был выведен первичный график распределения заказов такси по времени."
   ]
  },
  {
   "cell_type": "markdown",
   "metadata": {},
   "source": [
    "## Анализ"
   ]
  },
  {
   "cell_type": "markdown",
   "metadata": {},
   "source": [
    "Исходя из предварительного анализа на предыдущей стадии был сделан вывод о том, что график имеет некую сезонность и восходящий тренд. Чтобы убедиться в этом выделим из ряда тренд."
   ]
  },
  {
   "cell_type": "code",
   "execution_count": 6,
   "metadata": {},
   "outputs": [
    {
     "data": {
      "image/png": "[encoded data removed]",
      "text/plain": [
       "<Figure size 576x432 with 1 Axes>"
      ]
     },
     "metadata": {
      "needs_background": "light"
     },
     "output_type": "display_data"
    }
   ],
   "source": [
    "data_day = data.resample(\"1D\").sum() \n",
    "decomposed = seasonal_decompose(data_day)\n",
    "plt.figure(figsize=(8,6))\n",
    "plt.plot(decomposed.trend)\n",
    "plt.title('Trend')\n",
    "plt.show()"
   ]
  },
  {
   "cell_type": "markdown",
   "metadata": {},
   "source": [
    "Как видно из полученного графика тренд имеет ярко выраженную восходящую тенденцию. Выделим из данных сезонные тенденции."
   ]
  },
  {
   "cell_type": "code",
   "execution_count": 7,
   "metadata": {},
   "outputs": [
    {
     "data": {
      "image/png": "[encoded data removed]",
      "text/plain": [
       "<Figure size 576x432 with 1 Axes>"
      ]
     },
     "metadata": {
      "needs_background": "light"
     },
     "output_type": "display_data"
    }
   ],
   "source": [
    "plt.figure(figsize=(8,6))\n",
    "plt.plot(decomposed.seasonal)\n",
    "plt.title('Seasonality')\n",
    "plt.show()"
   ]
  },
  {
   "cell_type": "markdown",
   "metadata": {},
   "source": [
    "При таком масштабе сложно понять сезонность количества заказов, поэтому выделим первые 14 дней марта и построим график по ним"
   ]
  },
  {
   "cell_type": "code",
   "execution_count": 8,
   "metadata": {},
   "outputs": [
    {
     "data": {
      "image/png": "[encoded data removed]",
      "text/plain": [
       "<Figure size 576x432 with 1 Axes>"
      ]
     },
     "metadata": {
      "needs_background": "light"
     },
     "output_type": "display_data"
    }
   ],
   "source": [
    "decomposed = seasonal_decompose(data_day['2018-03-01':'2018-03-14'])\n",
    "plt.figure(figsize=(8,6))\n",
    "plt.grid()\n",
    "plt.xticks(rotation=45)\n",
    "plt.plot(decomposed.seasonal)\n",
    "plt.title('Seasonality')\n",
    "plt.show()"
   ]
  },
  {
   "cell_type": "markdown",
   "metadata": {},
   "source": [
    "Из графика видно что сезонность имеет период в 1 неделю. При этом есть основной максимум и имнимум, а так же между нимименьшие максимумы и минимумы, вероятнее всего это связано с днями недели."
   ]
  },
  {
   "cell_type": "markdown",
   "metadata": {},
   "source": [
    "### Выводы"
   ]
  },
  {
   "cell_type": "markdown",
   "metadata": {},
   "source": [
    "В ходе анализа было установлено, что на момент ананлиза данные имеют восходящий тренд. Также данные имеют сезонность с периодом в неделю. При этом в самом периоде есть как глобальные максимумы и минимуму, так и локальные, которые тоже имеют периодичность равнуюю 7 дням. Вероятнее всего это связано с днями недели."
   ]
  },
  {
   "cell_type": "markdown",
   "metadata": {},
   "source": [
    "## Обучение"
   ]
  },
  {
   "cell_type": "markdown",
   "metadata": {},
   "source": [
    "Разделим выборку на обучающую и тестовую, и выведем информацию о размерах полученных подвыборок. "
   ]
  },
  {
   "cell_type": "code",
   "execution_count": 9,
   "metadata": {},
   "outputs": [
    {
     "name": "stdout",
     "output_type": "stream",
     "text": [
      "(3974, 1)\n",
      "(442, 1)\n"
     ]
    }
   ],
   "source": [
    "train, test = train_test_split(data, shuffle=False, test_size=0.1)\n",
    "\n",
    "print(train.shape)\n",
    "print(test.shape)\n"
   ]
  },
  {
   "cell_type": "markdown",
   "metadata": {},
   "source": [
    "Создадим функцию, который будет генерировать разные признаки для данного времянного ряда."
   ]
  },
  {
   "cell_type": "code",
   "execution_count": 10,
   "metadata": {},
   "outputs": [],
   "source": [
    "def make_features(data, max_lag, rolling_mean_size):\n",
    "    new_data = data.copy(deep=True)\n",
    "    new_data['year'] = new_data.index.year\n",
    "    new_data['hour'] = new_data.index.hour\n",
    "    new_data['month'] = new_data.index.month\n",
    "    new_data['day'] = new_data.index.day\n",
    "    new_data['dayofweek'] = new_data.index.dayofweek\n",
    "    \n",
    "    for lag in range(1, max_lag + 1):\n",
    "        new_data['lag_{}'.format(lag)] = new_data['num_orders'].shift(lag)\n",
    "\n",
    "    new_data['rolling_mean'] = new_data['num_orders'].shift().rolling(rolling_mean_size).mean()\n",
    "    return new_data"
   ]
  },
  {
   "cell_type": "markdown",
   "metadata": {},
   "source": [
    "Создадим функцию, которая будет обучать модель и подбирать оптимальные значения для генерации признаков"
   ]
  },
  {
   "cell_type": "code",
   "execution_count": 11,
   "metadata": {},
   "outputs": [],
   "source": [
    "def get_opt_features (train_data, model, return_bool=False, cat=False):\n",
    "    S_MAX_LAG = 21\n",
    "    S_ROLLING_M_S = 40\n",
    "    \n",
    "    opt_max_lag = 0\n",
    "    opt_max_rolling_mean_size = 0\n",
    "    opt_RMSE = data['num_orders'].max()\n",
    "    \n",
    "    opt_train_futures = pd.DataFrame()\n",
    "    opt_train_target = pd.DataFrame()\n",
    "    opt_valid_futures = pd.DataFrame()\n",
    "    opt_valid_target = pd.DataFrame()\n",
    "\n",
    "    \n",
    "    for max_lag in tqdm(range(1, S_MAX_LAG+1)):\n",
    "        \n",
    "        for rolling_mean_size in range(1, S_ROLLING_M_S+1):\n",
    "            \n",
    "            new_train_data = make_features(train_data, max_lag, rolling_mean_size)\n",
    "            new_train_data = new_train_data.dropna()            \n",
    "                \n",
    "            train, valid = train_test_split(new_train_data, shuffle=False, test_size=0.2)\n",
    "              \n",
    "            train_futures = train.drop(['num_orders'], axis=1)\n",
    "            train_target = train['num_orders']\n",
    "\n",
    "            valid_futures = valid.drop(['num_orders'], axis=1)\n",
    "            valid_target = valid['num_orders']\n",
    "            \n",
    "            if cat:\n",
    "                model.fit(train_futures, train_target, verbose=False)\n",
    "                \n",
    "            else:\n",
    "                model.fit(train_futures, train_target)\n",
    "            \n",
    "            predictions = model.predict(valid_futures)\n",
    "            RMSE = mean_squared_error(predictions, valid_target)**0.5\n",
    "            \n",
    "            if RMSE<opt_RMSE:\n",
    "                \n",
    "                opt_max_lag = max_lag\n",
    "                opt_max_rolling_mean_size = rolling_mean_size\n",
    "                opt_RMSE = RMSE\n",
    "                \n",
    "                opt_train_futures = train_futures\n",
    "                opt_train_target = train_target\n",
    "                opt_valid_futures = valid_futures\n",
    "                opt_valid_target = valid_target\n",
    "\n",
    "    print('Минимальное значение RMSE =', opt_RMSE)\n",
    "    print('Оптимальное значение отстающих значений =', opt_max_lag)\n",
    "    print('Оптимальное значение периода скользящего среднего =', opt_max_rolling_mean_size)\n",
    "    \n",
    "    if return_bool:\n",
    "        return opt_train_futures, opt_train_target, opt_valid_futures, opt_valid_target, opt_RMSE    \n",
    "               \n"
   ]
  },
  {
   "cell_type": "markdown",
   "metadata": {},
   "source": [
    "Создадим модель <b>линейной регресии</b> и подберём для неё признаки"
   ]
  },
  {
   "cell_type": "code",
   "execution_count": 12,
   "metadata": {},
   "outputs": [
    {
     "name": "stderr",
     "output_type": "stream",
     "text": [
      "100%|██████████████████████████████████████████████████████████████████████████████████| 21/21 [00:12<00:00,  1.65it/s]"
     ]
    },
    {
     "name": "stdout",
     "output_type": "stream",
     "text": [
      "Минимальное значение RMSE = 33.50176415720953\n",
      "Оптимальное значение отстающих значений = 21\n",
      "Оптимальное значение периода скользящего среднего = 24\n"
     ]
    },
    {
     "name": "stderr",
     "output_type": "stream",
     "text": [
      "\n"
     ]
    }
   ],
   "source": [
    "lin_model = LinearRegression()\n",
    "get_opt_features (train, lin_model)"
   ]
  },
  {
   "cell_type": "markdown",
   "metadata": {},
   "source": [
    "Создадим модель <b>решающего дерева</b>. Сначла на настройках по умолчанию подберём признаки, а потом будем подбирать гиперпараметры модели"
   ]
  },
  {
   "cell_type": "code",
   "execution_count": 13,
   "metadata": {},
   "outputs": [
    {
     "name": "stderr",
     "output_type": "stream",
     "text": [
      "100%|██████████████████████████████████████████████████████████████████████████████████| 21/21 [00:34<00:00,  1.66s/it]"
     ]
    },
    {
     "name": "stdout",
     "output_type": "stream",
     "text": [
      "Минимальное значение RMSE = 35.57992032704106\n",
      "Оптимальное значение отстающих значений = 1\n",
      "Оптимальное значение периода скользящего среднего = 4\n"
     ]
    },
    {
     "name": "stderr",
     "output_type": "stream",
     "text": [
      "\n"
     ]
    }
   ],
   "source": [
    "tree_model = DecisionTreeRegressor(random_state=123)\n",
    "train_futures, train_target, valid_futures, valid_target, opt_RMSE = get_opt_features (train, tree_model,True)"
   ]
  },
  {
   "cell_type": "markdown",
   "metadata": {},
   "source": [
    "Создадим признаки и цели для решающего дерева."
   ]
  },
  {
   "cell_type": "code",
   "execution_count": 14,
   "metadata": {},
   "outputs": [],
   "source": [
    "data_tree = make_features(train, 1, 4).dropna()\n",
    "features_tree = data_tree.drop(['num_orders'], axis=1)\n",
    "target_tree = data_tree['num_orders']"
   ]
  },
  {
   "cell_type": "markdown",
   "metadata": {},
   "source": [
    "Подберём гиперпараметры для решающего дерева при помощи GridSearchCV."
   ]
  },
  {
   "cell_type": "code",
   "execution_count": 15,
   "metadata": {},
   "outputs": [
    {
     "data": {
      "text/plain": [
       "GridSearchCV(cv=TimeSeriesSplit(gap=0, max_train_size=None, n_splits=5, test_size=None),\n",
       "             estimator=DecisionTreeRegressor(random_state=123), n_jobs=-1,\n",
       "             param_grid={'max_depth': range(1, 100),\n",
       "                         'min_samples_leaf': range(1, 10)},\n",
       "             scoring='neg_root_mean_squared_error')"
      ]
     },
     "execution_count": 15,
     "metadata": {},
     "output_type": "execute_result"
    }
   ],
   "source": [
    "tree_model = DecisionTreeRegressor(random_state=123)\n",
    "tree_param = {'max_depth':range(1,100),\n",
    "              'min_samples_leaf': range(1,10)\n",
    "             }\n",
    "cv_time = TimeSeriesSplit(n_splits=5)\n",
    "\n",
    "tree_grid = GridSearchCV(tree_model,\n",
    "                        tree_param,\n",
    "                        cv = cv_time,\n",
    "                        n_jobs=-1,\n",
    "                        scoring='neg_root_mean_squared_error')\n",
    "\n",
    "tree_grid.fit(features_tree, target_tree)"
   ]
  },
  {
   "cell_type": "code",
   "execution_count": 16,
   "metadata": {},
   "outputs": [
    {
     "name": "stdout",
     "output_type": "stream",
     "text": [
      "Оптимальные параметры для дерева решения: {'max_depth': 12, 'min_samples_leaf': 9}\n"
     ]
    }
   ],
   "source": [
    "print('Оптимальные параметры для дерева решения:', tree_grid.best_params_)"
   ]
  },
  {
   "cell_type": "code",
   "execution_count": 17,
   "metadata": {},
   "outputs": [
    {
     "name": "stdout",
     "output_type": "stream",
     "text": [
      "Метрика при оптимальных значениях равна: 27.287514945573264\n"
     ]
    }
   ],
   "source": [
    "print('Метрика при оптимальных значениях равна:', -tree_grid.best_score_)"
   ]
  },
  {
   "cell_type": "markdown",
   "metadata": {},
   "source": [
    "Создадим модель <b>случайного леса</b> и подберём для неё признаки. Сначла на настройках по умолчанию подберём признаки, а потом будем подбирать гиперпараметры модели"
   ]
  },
  {
   "cell_type": "code",
   "execution_count": 19,
   "metadata": {},
   "outputs": [
    {
     "name": "stderr",
     "output_type": "stream",
     "text": [
      "100%|██████████████████████████████████████████████████████████████████████████████████| 21/21 [06:22<00:00, 18.23s/it]"
     ]
    },
    {
     "name": "stdout",
     "output_type": "stream",
     "text": [
      "Минимальное значение RMSE = 30.898929223299383\n",
      "Оптимальное значение отстающих значений = 3\n",
      "Оптимальное значение периода скользящего среднего = 14\n"
     ]
    },
    {
     "name": "stderr",
     "output_type": "stream",
     "text": [
      "\n"
     ]
    }
   ],
   "source": [
    "forest_model = RandomForestRegressor(random_state=123, n_jobs=-1)\n",
    "forest_train_futures, forest_train_target, forest_valid_futures, forest_valid_target, forest_opt_RMSE = get_opt_features (train, forest_model,True)"
   ]
  },
  {
   "cell_type": "markdown",
   "metadata": {},
   "source": [
    "Создадим признаки и цели для решающего случайного леса."
   ]
  },
  {
   "cell_type": "code",
   "execution_count": 20,
   "metadata": {},
   "outputs": [],
   "source": [
    "data_forest = make_features(train, 3, 14).dropna()\n",
    "features_forest = data_forest.drop(['num_orders'], axis=1)\n",
    "target_forest = data_forest['num_orders']"
   ]
  },
  {
   "cell_type": "markdown",
   "metadata": {},
   "source": [
    "Подберём гиперпараметры для случайного леса при помощи GridSearchCV."
   ]
  },
  {
   "cell_type": "code",
   "execution_count": 21,
   "metadata": {},
   "outputs": [
    {
     "data": {
      "text/plain": [
       "GridSearchCV(cv=TimeSeriesSplit(gap=0, max_train_size=None, n_splits=5, test_size=None),\n",
       "             estimator=RandomForestRegressor(random_state=123), n_jobs=-1,\n",
       "             param_grid={'max_depth': range(1, 16),\n",
       "                         'min_samples_leaf': range(1, 10),\n",
       "                         'n_estimators': range(1, 101, 5)},\n",
       "             scoring='neg_root_mean_squared_error')"
      ]
     },
     "execution_count": 21,
     "metadata": {},
     "output_type": "execute_result"
    }
   ],
   "source": [
    "forest_model = RandomForestRegressor(random_state=123)\n",
    "forest_param = {'max_depth': range(1, 16),\n",
    "               'n_estimators': range(1, 101, 5),\n",
    "               'min_samples_leaf': range(1,10)}\n",
    "\n",
    "cv_time = TimeSeriesSplit(n_splits=5)\n",
    "\n",
    "forest_grid = GridSearchCV(forest_model,\n",
    "                          forest_param,\n",
    "                          cv=cv_time,\n",
    "                          n_jobs=-1,\n",
    "                          scoring='neg_root_mean_squared_error')\n",
    "\n",
    "forest_grid.fit(features_forest, target_forest)"
   ]
  },
  {
   "cell_type": "code",
   "execution_count": 22,
   "metadata": {},
   "outputs": [
    {
     "name": "stdout",
     "output_type": "stream",
     "text": [
      "Оптимальные параметры для модели случайного леса: {'max_depth': 15, 'min_samples_leaf': 4, 'n_estimators': 76}\n"
     ]
    }
   ],
   "source": [
    "print('Оптимальные параметры для модели случайного леса:', forest_grid.best_params_)"
   ]
  },
  {
   "cell_type": "code",
   "execution_count": 23,
   "metadata": {},
   "outputs": [
    {
     "name": "stdout",
     "output_type": "stream",
     "text": [
      "Метрика при оптимальных значениях равна: 24.78968123941011\n"
     ]
    }
   ],
   "source": [
    "print('Метрика при оптимальных значениях равна:', -forest_grid.best_score_)"
   ]
  },
  {
   "cell_type": "markdown",
   "metadata": {},
   "source": [
    "Обучим модель <b>CatBoost</b> и потом подберём для неё необходимые параметры"
   ]
  },
  {
   "cell_type": "code",
   "execution_count": 24,
   "metadata": {},
   "outputs": [
    {
     "name": "stderr",
     "output_type": "stream",
     "text": [
      "100%|██████████████████████████████████████████████████████████████████████████████████| 21/21 [26:26<00:00, 75.53s/it]"
     ]
    },
    {
     "name": "stdout",
     "output_type": "stream",
     "text": [
      "Минимальное значение RMSE = 30.000565911890313\n",
      "Оптимальное значение отстающих значений = 13\n",
      "Оптимальное значение периода скользящего среднего = 18\n"
     ]
    },
    {
     "name": "stderr",
     "output_type": "stream",
     "text": [
      "\n"
     ]
    }
   ],
   "source": [
    "cat_model = CatBoostRegressor(random_state=123)\n",
    "cat_train_futures, cat_train_target, cat_valid_futures, cat_valid_target, cat_opt_RMSE = get_opt_features (train, cat_model,True, True)"
   ]
  },
  {
   "cell_type": "markdown",
   "metadata": {},
   "source": [
    "Создадим признаки и цели для решающего CatBoost."
   ]
  },
  {
   "cell_type": "code",
   "execution_count": 25,
   "metadata": {},
   "outputs": [],
   "source": [
    "data_cat = make_features(train, 13, 18).dropna()\n",
    "features_cat = data_cat .drop(['num_orders'], axis=1)\n",
    "target_cat  = data_cat ['num_orders']"
   ]
  },
  {
   "cell_type": "markdown",
   "metadata": {},
   "source": [
    "Подберём гиперпараметры для CatBoost при помощи GridSearchCV."
   ]
  },
  {
   "cell_type": "code",
   "execution_count": 26,
   "metadata": {},
   "outputs": [
    {
     "name": "stdout",
     "output_type": "stream",
     "text": [
      "0:\tlearn: 37.5447235\ttotal: 3.18ms\tremaining: 1.59s\n",
      "100:\tlearn: 21.2299493\ttotal: 272ms\tremaining: 1.08s\n",
      "200:\tlearn: 18.8289931\ttotal: 548ms\tremaining: 817ms\n",
      "300:\tlearn: 16.9570432\ttotal: 788ms\tremaining: 524ms\n",
      "400:\tlearn: 15.6204636\ttotal: 1.03s\tremaining: 258ms\n",
      "500:\tlearn: 14.5759890\ttotal: 1.25s\tremaining: 0us\n"
     ]
    },
    {
     "data": {
      "text/plain": [
       "GridSearchCV(cv=TimeSeriesSplit(gap=0, max_train_size=None, n_splits=5, test_size=None),\n",
       "             estimator=<catboost.core.CatBoostRegressor object at 0x0000019ED25F09D0>,\n",
       "             n_jobs=-1,\n",
       "             param_grid={'learning_rate': array([0.01, 0.06, 0.11, 0.16, 0.21, 0.26, 0.31, 0.36, 0.41, 0.46, 0.51,\n",
       "       0.56, 0.61, 0.66, 0.71, 0.76, 0.81, 0.86, 0.91, 0.96]),\n",
       "                         'n_estimators': range(1, 1001, 50)},\n",
       "             scoring='neg_root_mean_squared_error')"
      ]
     },
     "execution_count": 26,
     "metadata": {},
     "output_type": "execute_result"
    }
   ],
   "source": [
    "cat_model = CatBoostRegressor(random_state=123, verbose=100)\n",
    "cat_param = {  'n_estimators': range(1, 1001, 50),\n",
    "               'learning_rate': np.arange(0.01,1, 0.05)}\n",
    "\n",
    "cv_time = TimeSeriesSplit(n_splits=5)\n",
    "\n",
    "cat_grid = GridSearchCV(cat_model,\n",
    "                          cat_param,\n",
    "                          cv=cv_time,\n",
    "                          n_jobs=-1,\n",
    "                          scoring='neg_root_mean_squared_error')\n",
    "\n",
    "cat_grid.fit(features_cat, target_cat)"
   ]
  },
  {
   "cell_type": "code",
   "execution_count": 27,
   "metadata": {},
   "outputs": [
    {
     "name": "stdout",
     "output_type": "stream",
     "text": [
      "Оптимальные параметры для CatBoost: {'learning_rate': 0.060000000000000005, 'n_estimators': 501}\n"
     ]
    }
   ],
   "source": [
    "print('Оптимальные параметры для CatBoost:', cat_grid.best_params_)"
   ]
  },
  {
   "cell_type": "code",
   "execution_count": 28,
   "metadata": {},
   "outputs": [
    {
     "name": "stdout",
     "output_type": "stream",
     "text": [
      "Метрика при оптимальных значениях равна: 24.387093577020995\n"
     ]
    }
   ],
   "source": [
    "print('Метрика при оптимальных значениях равна:', -cat_grid.best_score_)"
   ]
  },
  {
   "cell_type": "markdown",
   "metadata": {},
   "source": [
    "Подберём более точно количество выборщиков"
   ]
  },
  {
   "cell_type": "code",
   "execution_count": 30,
   "metadata": {},
   "outputs": [
    {
     "name": "stdout",
     "output_type": "stream",
     "text": [
      "0:\tlearn: 37.5447235\ttotal: 2.72ms\tremaining: 1.31s\n",
      "100:\tlearn: 21.2299493\ttotal: 200ms\tremaining: 754ms\n",
      "200:\tlearn: 18.8289931\ttotal: 394ms\tremaining: 550ms\n",
      "300:\tlearn: 16.9570432\ttotal: 583ms\tremaining: 351ms\n",
      "400:\tlearn: 15.6204636\ttotal: 776ms\tremaining: 157ms\n",
      "481:\tlearn: 14.7648693\ttotal: 928ms\tremaining: 0us\n"
     ]
    },
    {
     "data": {
      "text/plain": [
       "GridSearchCV(cv=TimeSeriesSplit(gap=0, max_train_size=None, n_splits=5, test_size=None),\n",
       "             estimator=<catboost.core.CatBoostRegressor object at 0x0000019ED25F2AA0>,\n",
       "             n_jobs=-1, param_grid={'n_estimators': range(451, 551)},\n",
       "             scoring='neg_root_mean_squared_error')"
      ]
     },
     "execution_count": 30,
     "metadata": {},
     "output_type": "execute_result"
    }
   ],
   "source": [
    "cat_model = CatBoostRegressor(random_state=123,\n",
    "                              learning_rate=0.06,\n",
    "                              verbose=100)\n",
    "cat_param = {  'n_estimators': range(451, 551)}\n",
    "\n",
    "cv_time = TimeSeriesSplit(n_splits=5)\n",
    "\n",
    "cat_grid = GridSearchCV(cat_model,\n",
    "                          cat_param,\n",
    "                          cv=cv_time,\n",
    "                          n_jobs=-1,\n",
    "                          scoring='neg_root_mean_squared_error')\n",
    "\n",
    "cat_grid.fit(features_cat, target_cat)"
   ]
  },
  {
   "cell_type": "code",
   "execution_count": 31,
   "metadata": {},
   "outputs": [
    {
     "name": "stdout",
     "output_type": "stream",
     "text": [
      "Оптимальные параметры для CatBoost: {'n_estimators': 482}\n"
     ]
    }
   ],
   "source": [
    "print('Оптимальные параметры для CatBoost:', cat_grid.best_params_)"
   ]
  },
  {
   "cell_type": "code",
   "execution_count": 32,
   "metadata": {},
   "outputs": [
    {
     "name": "stdout",
     "output_type": "stream",
     "text": [
      "Метрика при оптимальных значениях равна: 24.382573295101817\n"
     ]
    }
   ],
   "source": [
    "print('Метрика при оптимальных значениях равна:', -cat_grid.best_score_)"
   ]
  },
  {
   "cell_type": "markdown",
   "metadata": {},
   "source": [
    "Из рассмотренных моделей лучший результат показала модель CatBoost (RMSE на трейне = 27.707). Обучим данную модель с оптимальными гиперпараметрами на всех данных тренировочного датасета."
   ]
  },
  {
   "cell_type": "code",
   "execution_count": 33,
   "metadata": {},
   "outputs": [
    {
     "name": "stdout",
     "output_type": "stream",
     "text": [
      "0:\tlearn: 37.5447235\ttotal: 3.22ms\tremaining: 1.55s\n",
      "100:\tlearn: 21.2299493\ttotal: 205ms\tremaining: 773ms\n",
      "200:\tlearn: 18.8289931\ttotal: 396ms\tremaining: 554ms\n",
      "300:\tlearn: 16.9570432\ttotal: 588ms\tremaining: 354ms\n",
      "400:\tlearn: 15.6204636\ttotal: 778ms\tremaining: 157ms\n",
      "481:\tlearn: 14.7648693\ttotal: 934ms\tremaining: 0us\n"
     ]
    },
    {
     "data": {
      "text/plain": [
       "<catboost.core.CatBoostRegressor at 0x19ed1f089d0>"
      ]
     },
     "execution_count": 33,
     "metadata": {},
     "output_type": "execute_result"
    }
   ],
   "source": [
    "cat_model = CatBoostRegressor(random_state=123,\n",
    "                             learning_rate=0.06,\n",
    "                             n_estimators=482,\n",
    "                             verbose=100)\n",
    "\n",
    "cat_model.fit(features_cat, target_cat)"
   ]
  },
  {
   "cell_type": "markdown",
   "metadata": {},
   "source": [
    "### Выводы"
   ]
  },
  {
   "cell_type": "markdown",
   "metadata": {},
   "source": [
    "В данном разделе были обучены несколько моделей и подобраны для них гиперпараметры. В результате были получены следующие значение RMSE:\n",
    "    \n",
    "    Линейная модель: 33.501\n",
    "    Решающее дерево: 27.288\n",
    "    Случайный лес: 24.790\n",
    "    CatBoost: 24.383\n",
    "    \n",
    "Как видно из полученных результатов лучший результат получила модель CatBoost. При обучении были использованные следующие параметры модели и генерации признаков\n",
    "\n",
    "    Гиперпараметры модели:\n",
    "        \n",
    "       learning_rate: 0.06 \n",
    "       n_estimators: 482\n",
    "       \n",
    "    Параметры генерации признаков:\n",
    "   \n",
    "       Количество отстающих значений = 13\n",
    "       Количество значений периода скользящего среднего = 18"
   ]
  },
  {
   "cell_type": "markdown",
   "metadata": {},
   "source": [
    "## Тестирование"
   ]
  },
  {
   "cell_type": "markdown",
   "metadata": {},
   "source": [
    "Создадим финальный датасет модели с оптимальным набором признаков для нашей модели."
   ]
  },
  {
   "cell_type": "code",
   "execution_count": 35,
   "metadata": {},
   "outputs": [],
   "source": [
    "train_test_data = make_features(data, 13, 18).dropna().dropna()\n",
    "\n",
    "final_train, final_test = train_test_split(train_test_data, shuffle=False, test_size=0.1)\n",
    "\n",
    "final_test_futures = final_test.drop(['num_orders'], axis=1)\n",
    "final_test_target = final_test['num_orders']"
   ]
  },
  {
   "cell_type": "markdown",
   "metadata": {},
   "source": [
    "Для того, чтобы можно было оценить качество получившейся модели создадим вда простейших варианта предсказаний: \n",
    "\n",
    "    1. По среднему значению \n",
    "    2. По предыдущему дню\n",
    "    \n",
    "Рассчитаем RMSE для таких предсказаний и уже с ними будем сравнивать наши результаты."
   ]
  },
  {
   "cell_type": "code",
   "execution_count": 36,
   "metadata": {},
   "outputs": [
    {
     "name": "stdout",
     "output_type": "stream",
     "text": [
      "RMSE по среднему значению: 87.21093811714634\n"
     ]
    }
   ],
   "source": [
    "pred_median = np.ones(final_test_target.shape) * final_train['num_orders'].median()\n",
    "print(\"RMSE по среднему значению:\", mean_squared_error(pred_median, final_test_target)**0.5)"
   ]
  },
  {
   "cell_type": "code",
   "execution_count": 37,
   "metadata": {},
   "outputs": [
    {
     "name": "stdout",
     "output_type": "stream",
     "text": [
      "RMSE по предыдущему дню: 58.881776776551476\n"
     ]
    }
   ],
   "source": [
    "pred_previous = final_test_target.shift()\n",
    "pred_previous.iloc[0] = final_train['num_orders'].iloc[-1]\n",
    "print(\"RMSE по предыдущему дню:\", mean_squared_error(pred_previous, final_test_target)**0.5)"
   ]
  },
  {
   "cell_type": "markdown",
   "metadata": {},
   "source": [
    "Как видно из полученных результатов стратегия предсказания по предыдущему дню даёт лучшие показатели, чем предсказания по среднему. Теперь проверим какой результат даст наша модель на тестовой выборке"
   ]
  },
  {
   "cell_type": "code",
   "execution_count": 38,
   "metadata": {},
   "outputs": [
    {
     "name": "stdout",
     "output_type": "stream",
     "text": [
      "RMSE на тестовой выборке равно: 42.160804511325395\n"
     ]
    }
   ],
   "source": [
    "predictions = cat_model.predict(final_test_futures)\n",
    "RMSE = mean_squared_error(final_test_target, predictions)**0.5\n",
    "\n",
    "print('RMSE на тестовой выборке равно:', RMSE) "
   ]
  },
  {
   "cell_type": "markdown",
   "metadata": {},
   "source": [
    "Метрики, полученные нашей моделью превосходят оба способа предсказаний, поэтому можно сделать вывод, что наша модель адекватна."
   ]
  },
  {
   "cell_type": "markdown",
   "metadata": {},
   "source": [
    "Выведем график реальных данных и предсказаний"
   ]
  },
  {
   "cell_type": "code",
   "execution_count": 39,
   "metadata": {},
   "outputs": [
    {
     "data": {
      "image/png": "[encoded data removed]",
      "text/plain": [
       "<Figure size 1008x720 with 1 Axes>"
      ]
     },
     "metadata": {
      "needs_background": "light"
     },
     "output_type": "display_data"
    }
   ],
   "source": [
    "predictions_series =  pd.Series(predictions, index=final_test_futures.index)\n",
    "\n",
    "plt.figure(figsize=(14,10))\n",
    "plt.plot(final_test_target, label = 'test')\n",
    "plt.plot(predictions_series, label = 'predict', color = 'r')\n",
    "plt.legend()\n",
    "plt.show()"
   ]
  },
  {
   "cell_type": "markdown",
   "metadata": {},
   "source": [
    "По графику видно, что модель достаточно точно предсказывает количество заказов особенно в начале тестовой выборки. Ближе к концу предсказания немного ниже, чем реальное количество заказов. Можно предположить, что в этой части начался новый тренд, или может присутствовать какая-то годовая сезонность, но чтобы сделать такой вывод, необходимы данные за несколько лет."
   ]
  },
  {
   "cell_type": "markdown",
   "metadata": {
    "scrolled": true
   },
   "source": [
    "### Выводы"
   ]
  },
  {
   "cell_type": "markdown",
   "metadata": {},
   "source": [
    "В данном разделе была проанализирована модель на тестовой выборке. На основании полученных данных, можно сделать вывод, что полученная модель вполне адекватна и укладывается в значение метрики RMSE указанное в техническом задании (на тесте получилось значение 42.161, согласно ТЗ, оно должно быть ниже 48)"
   ]
  },
  {
   "cell_type": "markdown",
   "metadata": {},
   "source": [
    "## Общие выводы"
   ]
  },
  {
   "cell_type": "markdown",
   "metadata": {},
   "source": [
    "В данной работе были импортированны и проанализированны данные по количеству заказов такси. В ходе анализа были выявленно, что в рассматриваемый период наблюдался восходящий тренд, а также, что данные имеют сезоннсть равную 7 дням. После этого были обучены различные модели и выбрана лучшая, которой оказалась CatBoost c глубиной обучения 0.06 и количеством выборщиков равным 482. Для обучения и предсказания данной модели необходимо сгенерировать следующие признаки: количество отстающих значений = 13, количество значений периода скользящего среднего = 18. Обученная модель показала начение RMSE равное 42.161."
   ]
  },
  {
   "cell_type": "code",
   "execution_count": null,
   "metadata": {},
   "outputs": [],
   "source": []
  }
 ],
 "metadata": {
  "ExecuteTimeLog": [
   {
    "duration": 531,
    "start_time": "2022-04-21T14:16:29.351Z"
   },
   {
    "duration": 792,
    "start_time": "2022-04-21T14:16:38.254Z"
   },
   {
    "duration": 86,
    "start_time": "2022-04-21T14:18:05.334Z"
   },
   {
    "duration": 45,
    "start_time": "2022-04-21T14:19:11.678Z"
   },
   {
    "duration": 89,
    "start_time": "2022-04-21T14:20:57.470Z"
   },
   {
    "duration": 64,
    "start_time": "2022-04-21T14:21:30.693Z"
   },
   {
    "duration": 26,
    "start_time": "2022-04-21T14:21:45.374Z"
   },
   {
    "duration": 93,
    "start_time": "2022-04-21T14:26:00.672Z"
   },
   {
    "duration": 53,
    "start_time": "2022-04-21T14:26:06.724Z"
   },
   {
    "duration": 54,
    "start_time": "2022-04-21T14:26:28.813Z"
   },
   {
    "duration": 67,
    "start_time": "2022-04-21T14:27:03.356Z"
   },
   {
    "duration": 53,
    "start_time": "2022-04-21T14:27:17.844Z"
   },
   {
    "duration": 13,
    "start_time": "2022-04-21T14:29:44.435Z"
   },
   {
    "duration": 21,
    "start_time": "2022-04-21T14:29:56.539Z"
   },
   {
    "duration": 13,
    "start_time": "2022-04-21T14:30:08.307Z"
   },
   {
    "duration": 13,
    "start_time": "2022-04-21T14:30:29.851Z"
   },
   {
    "duration": 15,
    "start_time": "2022-04-21T14:30:45.410Z"
   },
   {
    "duration": 14,
    "start_time": "2022-04-21T14:32:04.675Z"
   },
   {
    "duration": 13,
    "start_time": "2022-04-21T14:33:02.324Z"
   },
   {
    "duration": 14,
    "start_time": "2022-04-21T14:33:07.435Z"
   },
   {
    "duration": 15,
    "start_time": "2022-04-21T14:34:45.370Z"
   },
   {
    "duration": 14,
    "start_time": "2022-04-21T14:35:06.211Z"
   },
   {
    "duration": 16,
    "start_time": "2022-04-21T14:37:01.451Z"
   },
   {
    "duration": 13,
    "start_time": "2022-04-21T14:38:18.146Z"
   },
   {
    "duration": 2046,
    "start_time": "2022-04-21T14:39:02.333Z"
   },
   {
    "duration": 52,
    "start_time": "2022-04-21T14:39:04.382Z"
   },
   {
    "duration": 18,
    "start_time": "2022-04-21T14:39:04.437Z"
   },
   {
    "duration": 61,
    "start_time": "2022-04-21T14:39:04.458Z"
   },
   {
    "duration": 960,
    "start_time": "2022-04-21T14:39:04.521Z"
   },
   {
    "duration": 296,
    "start_time": "2022-04-21T14:39:25.300Z"
   },
   {
    "duration": 281,
    "start_time": "2022-04-21T14:43:44.657Z"
   },
   {
    "duration": 315,
    "start_time": "2022-04-21T14:44:02.587Z"
   },
   {
    "duration": 1578,
    "start_time": "2022-04-21T17:51:18.732Z"
   },
   {
    "duration": 36,
    "start_time": "2022-04-21T17:51:20.313Z"
   },
   {
    "duration": 11,
    "start_time": "2022-04-21T17:51:20.350Z"
   },
   {
    "duration": 30,
    "start_time": "2022-04-21T17:51:20.363Z"
   },
   {
    "duration": 222,
    "start_time": "2022-04-21T17:51:20.395Z"
   },
   {
    "duration": 178,
    "start_time": "2022-04-21T17:54:41.325Z"
   },
   {
    "duration": 264,
    "start_time": "2022-04-21T17:55:00.551Z"
   },
   {
    "duration": 167,
    "start_time": "2022-04-21T17:55:42.651Z"
   },
   {
    "duration": 197,
    "start_time": "2022-04-21T17:55:53.869Z"
   },
   {
    "duration": 125,
    "start_time": "2022-04-21T17:56:03.871Z"
   },
   {
    "duration": 104,
    "start_time": "2022-04-21T17:57:09.399Z"
   },
   {
    "duration": 121,
    "start_time": "2022-04-21T17:57:17.522Z"
   },
   {
    "duration": 169,
    "start_time": "2022-04-21T17:59:04.175Z"
   },
   {
    "duration": 4,
    "start_time": "2022-04-21T17:59:24.341Z"
   },
   {
    "duration": 142,
    "start_time": "2022-04-21T18:01:23.041Z"
   },
   {
    "duration": 122,
    "start_time": "2022-04-21T18:01:39.666Z"
   },
   {
    "duration": 18,
    "start_time": "2022-04-21T18:02:35.732Z"
   },
   {
    "duration": 101,
    "start_time": "2022-04-21T18:03:40.964Z"
   },
   {
    "duration": 133,
    "start_time": "2022-04-21T18:04:03.067Z"
   },
   {
    "duration": 136,
    "start_time": "2022-04-21T18:04:20.319Z"
   },
   {
    "duration": 133,
    "start_time": "2022-04-21T18:04:33.896Z"
   },
   {
    "duration": 135,
    "start_time": "2022-04-21T18:04:41.753Z"
   },
   {
    "duration": 129,
    "start_time": "2022-04-21T18:05:05.505Z"
   },
   {
    "duration": 131,
    "start_time": "2022-04-21T18:05:17.466Z"
   },
   {
    "duration": 3,
    "start_time": "2022-04-21T18:09:39.971Z"
   },
   {
    "duration": 21,
    "start_time": "2022-04-21T18:09:52.582Z"
   },
   {
    "duration": 16,
    "start_time": "2022-04-21T18:10:06.559Z"
   },
   {
    "duration": 1393,
    "start_time": "2022-04-21T18:10:24.063Z"
   },
   {
    "duration": 31,
    "start_time": "2022-04-21T18:10:25.458Z"
   },
   {
    "duration": 11,
    "start_time": "2022-04-21T18:10:25.490Z"
   },
   {
    "duration": 48,
    "start_time": "2022-04-21T18:10:25.503Z"
   },
   {
    "duration": 192,
    "start_time": "2022-04-21T18:10:25.553Z"
   },
   {
    "duration": 126,
    "start_time": "2022-04-21T18:10:25.747Z"
   },
   {
    "duration": 173,
    "start_time": "2022-04-21T18:10:25.875Z"
   },
   {
    "duration": 199,
    "start_time": "2022-04-21T18:10:26.050Z"
   },
   {
    "duration": 3,
    "start_time": "2022-04-21T18:15:21.906Z"
   },
   {
    "duration": 4,
    "start_time": "2022-04-21T18:17:06.206Z"
   },
   {
    "duration": 103,
    "start_time": "2022-04-21T18:17:36.286Z"
   },
   {
    "duration": 4,
    "start_time": "2022-04-21T18:17:43.151Z"
   },
   {
    "duration": 3,
    "start_time": "2022-04-21T18:22:29.477Z"
   },
   {
    "duration": 6,
    "start_time": "2022-04-21T18:41:04.073Z"
   },
   {
    "duration": 2017,
    "start_time": "2022-04-21T18:42:36.059Z"
   },
   {
    "duration": 4,
    "start_time": "2022-04-21T18:42:55.396Z"
   },
   {
    "duration": 6,
    "start_time": "2022-04-21T18:42:56.848Z"
   },
   {
    "duration": 18,
    "start_time": "2022-04-21T18:42:58.719Z"
   },
   {
    "duration": 5,
    "start_time": "2022-04-21T18:43:43.562Z"
   },
   {
    "duration": 30,
    "start_time": "2022-04-21T18:43:45.548Z"
   },
   {
    "duration": 6,
    "start_time": "2022-04-21T18:43:54.941Z"
   },
   {
    "duration": 151,
    "start_time": "2022-04-21T18:43:56.242Z"
   },
   {
    "duration": 5,
    "start_time": "2022-04-21T18:45:33.351Z"
   },
   {
    "duration": 176,
    "start_time": "2022-04-21T18:45:35.726Z"
   },
   {
    "duration": 5,
    "start_time": "2022-04-21T18:47:35.415Z"
   },
   {
    "duration": 32,
    "start_time": "2022-04-21T18:47:37.427Z"
   },
   {
    "duration": 5,
    "start_time": "2022-04-21T18:48:11.666Z"
   },
   {
    "duration": 91,
    "start_time": "2022-04-21T18:48:13.458Z"
   },
   {
    "duration": 5,
    "start_time": "2022-04-21T18:49:17.926Z"
   },
   {
    "duration": 98,
    "start_time": "2022-04-21T18:49:20.626Z"
   },
   {
    "duration": 6,
    "start_time": "2022-04-21T18:50:17.129Z"
   },
   {
    "duration": 117,
    "start_time": "2022-04-21T18:50:19.382Z"
   },
   {
    "duration": 5,
    "start_time": "2022-04-21T18:52:41.077Z"
   },
   {
    "duration": 12,
    "start_time": "2022-04-21T18:52:42.644Z"
   },
   {
    "duration": 6,
    "start_time": "2022-04-21T18:53:22.727Z"
   },
   {
    "duration": 144,
    "start_time": "2022-04-21T18:53:24.023Z"
   },
   {
    "duration": 6,
    "start_time": "2022-04-21T18:54:12.122Z"
   },
   {
    "duration": 187,
    "start_time": "2022-04-21T18:54:14.575Z"
   },
   {
    "duration": 5,
    "start_time": "2022-04-21T18:54:58.757Z"
   },
   {
    "duration": 216,
    "start_time": "2022-04-21T18:55:01.108Z"
   },
   {
    "duration": 6,
    "start_time": "2022-04-21T18:57:36.245Z"
   },
   {
    "duration": 139,
    "start_time": "2022-04-21T18:57:38.889Z"
   },
   {
    "duration": 5,
    "start_time": "2022-04-21T18:57:52.625Z"
   },
   {
    "duration": 160,
    "start_time": "2022-04-21T18:57:54.819Z"
   },
   {
    "duration": 5,
    "start_time": "2022-04-21T18:58:05.824Z"
   },
   {
    "duration": 197,
    "start_time": "2022-04-21T18:58:07.606Z"
   },
   {
    "duration": 6,
    "start_time": "2022-04-21T18:58:24.200Z"
   },
   {
    "duration": 234,
    "start_time": "2022-04-21T18:58:27.358Z"
   },
   {
    "duration": 5,
    "start_time": "2022-04-21T18:58:33.876Z"
   },
   {
    "duration": 6,
    "start_time": "2022-04-21T18:59:00.439Z"
   },
   {
    "duration": 191,
    "start_time": "2022-04-21T18:59:02.587Z"
   },
   {
    "duration": 6,
    "start_time": "2022-04-21T18:59:25.230Z"
   },
   {
    "duration": 531,
    "start_time": "2022-04-21T18:59:27.134Z"
   },
   {
    "duration": 7,
    "start_time": "2022-04-21T18:59:37.834Z"
   },
   {
    "duration": 17106,
    "start_time": "2022-04-21T18:59:40.026Z"
   },
   {
    "duration": 5,
    "start_time": "2022-04-21T19:00:47.276Z"
   },
   {
    "duration": 7756,
    "start_time": "2022-04-21T19:00:49.190Z"
   },
   {
    "duration": 5,
    "start_time": "2022-04-21T19:01:06.012Z"
   },
   {
    "duration": 16229,
    "start_time": "2022-04-21T19:01:08.183Z"
   },
   {
    "duration": 9,
    "start_time": "2022-04-21T19:01:50.889Z"
   },
   {
    "duration": 5,
    "start_time": "2022-04-21T19:02:14.204Z"
   },
   {
    "duration": 15831,
    "start_time": "2022-04-21T19:02:17.222Z"
   },
   {
    "duration": 15876,
    "start_time": "2022-04-21T19:03:35.479Z"
   },
   {
    "duration": 5,
    "start_time": "2022-04-21T19:04:19.569Z"
   },
   {
    "duration": 25529,
    "start_time": "2022-04-21T19:04:24.463Z"
   },
   {
    "duration": 25457,
    "start_time": "2022-04-21T19:05:03.606Z"
   },
   {
    "duration": 6,
    "start_time": "2022-04-21T19:05:37.535Z"
   },
   {
    "duration": 30903,
    "start_time": "2022-04-21T19:05:39.900Z"
   },
   {
    "duration": 30623,
    "start_time": "2022-04-21T19:06:10.805Z"
   },
   {
    "duration": 6,
    "start_time": "2022-04-21T19:09:02.965Z"
   },
   {
    "duration": 6,
    "start_time": "2022-04-21T19:09:23.160Z"
   },
   {
    "duration": 31675,
    "start_time": "2022-04-21T19:09:32.621Z"
   },
   {
    "duration": 4,
    "start_time": "2022-04-21T19:10:21.510Z"
   },
   {
    "duration": 16,
    "start_time": "2022-04-21T19:10:23.164Z"
   },
   {
    "duration": 4,
    "start_time": "2022-04-21T19:10:47.980Z"
   },
   {
    "duration": 39,
    "start_time": "2022-04-21T19:10:50.846Z"
   },
   {
    "duration": 43,
    "start_time": "2022-04-21T19:10:56.504Z"
   },
   {
    "duration": 31764,
    "start_time": "2022-04-21T19:12:25.494Z"
   },
   {
    "duration": 7,
    "start_time": "2022-04-21T19:13:04.112Z"
   },
   {
    "duration": 249998,
    "start_time": "2022-04-21T19:14:57.839Z"
   },
   {
    "duration": 4,
    "start_time": "2022-04-21T19:22:13.714Z"
   },
   {
    "duration": 535,
    "start_time": "2022-04-21T19:22:23.482Z"
   },
   {
    "duration": 198,
    "start_time": "2022-04-21T19:22:50.491Z"
   },
   {
    "duration": 4,
    "start_time": "2022-04-21T19:30:27.962Z"
   },
   {
    "duration": 1202,
    "start_time": "2022-04-21T19:30:28.436Z"
   },
   {
    "duration": 637,
    "start_time": "2022-04-21T19:30:30.459Z"
   },
   {
    "duration": 4,
    "start_time": "2022-04-21T19:31:20.928Z"
   },
   {
    "duration": 1178,
    "start_time": "2022-04-21T19:31:22.937Z"
   },
   {
    "duration": 363,
    "start_time": "2022-04-21T19:31:26.009Z"
   },
   {
    "duration": 4111,
    "start_time": "2022-04-21T19:31:37.004Z"
   },
   {
    "duration": 1449,
    "start_time": "2022-04-21T19:33:15.248Z"
   },
   {
    "duration": 3980,
    "start_time": "2022-04-21T19:33:20.114Z"
   },
   {
    "duration": 4,
    "start_time": "2022-04-21T19:33:31.193Z"
   },
   {
    "duration": 14,
    "start_time": "2022-04-21T19:34:12.485Z"
   },
   {
    "duration": 5,
    "start_time": "2022-04-21T19:34:26.086Z"
   },
   {
    "duration": 826,
    "start_time": "2022-04-21T19:34:28.305Z"
   },
   {
    "duration": 2784,
    "start_time": "2022-04-21T19:34:41.331Z"
   },
   {
    "duration": 113,
    "start_time": "2022-04-21T19:35:06.849Z"
   },
   {
    "duration": 254818,
    "start_time": "2022-04-21T19:35:56.964Z"
   },
   {
    "duration": 32241,
    "start_time": "2022-04-21T19:42:43.325Z"
   },
   {
    "duration": 124571,
    "start_time": "2022-04-21T19:45:51.447Z"
   },
   {
    "duration": 4,
    "start_time": "2022-04-21T19:57:46.573Z"
   },
   {
    "duration": 12,
    "start_time": "2022-04-21T19:57:51.101Z"
   },
   {
    "duration": 4,
    "start_time": "2022-04-21T19:58:33.360Z"
   },
   {
    "duration": 12,
    "start_time": "2022-04-21T19:58:35.562Z"
   },
   {
    "duration": 4,
    "start_time": "2022-04-21T19:58:47.010Z"
   },
   {
    "duration": 32690,
    "start_time": "2022-04-21T19:58:48.508Z"
   },
   {
    "duration": 4,
    "start_time": "2022-04-21T20:00:15.994Z"
   },
   {
    "duration": 35996,
    "start_time": "2022-04-21T20:00:18.741Z"
   },
   {
    "duration": 4,
    "start_time": "2022-04-21T20:01:43.830Z"
   },
   {
    "duration": 35010,
    "start_time": "2022-04-21T20:01:46.556Z"
   },
   {
    "duration": 4,
    "start_time": "2022-04-21T20:04:16.167Z"
   },
   {
    "duration": 33179,
    "start_time": "2022-04-21T20:04:21.157Z"
   },
   {
    "duration": 6,
    "start_time": "2022-04-21T20:05:17.406Z"
   },
   {
    "duration": 4,
    "start_time": "2022-04-21T20:05:19.887Z"
   },
   {
    "duration": 33436,
    "start_time": "2022-04-21T20:05:22.626Z"
   },
   {
    "duration": 7,
    "start_time": "2022-04-21T20:06:36.842Z"
   },
   {
    "duration": 27374,
    "start_time": "2022-04-21T20:06:41.868Z"
   },
   {
    "duration": 0,
    "start_time": "2022-04-21T20:07:09.244Z"
   },
   {
    "duration": 34023,
    "start_time": "2022-04-21T20:07:16.071Z"
   },
   {
    "duration": 35078,
    "start_time": "2022-04-21T20:08:39.415Z"
   },
   {
    "duration": 4,
    "start_time": "2022-04-21T20:09:17.305Z"
   },
   {
    "duration": 258299,
    "start_time": "2022-04-21T20:09:20.275Z"
   },
   {
    "duration": 6,
    "start_time": "2022-04-21T20:15:14.212Z"
   },
   {
    "duration": 4238,
    "start_time": "2022-04-21T20:15:17.466Z"
   },
   {
    "duration": 3,
    "start_time": "2022-04-21T20:15:31.390Z"
   },
   {
    "duration": 4,
    "start_time": "2022-04-21T20:15:37.786Z"
   },
   {
    "duration": 507763,
    "start_time": "2022-04-21T20:15:39.209Z"
   },
   {
    "duration": 6,
    "start_time": "2022-04-21T20:24:12.498Z"
   },
   {
    "duration": 5,
    "start_time": "2022-04-21T20:24:15.750Z"
   },
   {
    "duration": 1554606,
    "start_time": "2022-04-21T20:24:18.522Z"
   },
   {
    "duration": 4,
    "start_time": "2022-04-21T20:53:37.465Z"
   },
   {
    "duration": 115072,
    "start_time": "2022-04-21T20:53:39.334Z"
   },
   {
    "duration": 236568,
    "start_time": "2022-04-21T20:55:38.888Z"
   },
   {
    "duration": 7,
    "start_time": "2022-04-21T21:02:50.834Z"
   },
   {
    "duration": 1757,
    "start_time": "2022-04-22T05:51:38.933Z"
   },
   {
    "duration": 41,
    "start_time": "2022-04-22T05:51:40.693Z"
   },
   {
    "duration": 13,
    "start_time": "2022-04-22T05:51:40.736Z"
   },
   {
    "duration": 42,
    "start_time": "2022-04-22T05:51:40.751Z"
   },
   {
    "duration": 237,
    "start_time": "2022-04-22T05:51:40.795Z"
   },
   {
    "duration": 159,
    "start_time": "2022-04-22T05:51:41.034Z"
   },
   {
    "duration": 211,
    "start_time": "2022-04-22T05:51:41.194Z"
   },
   {
    "duration": 329,
    "start_time": "2022-04-22T05:51:41.407Z"
   },
   {
    "duration": 5,
    "start_time": "2022-04-22T05:51:41.737Z"
   },
   {
    "duration": 5,
    "start_time": "2022-04-22T05:51:41.744Z"
   },
   {
    "duration": 6,
    "start_time": "2022-04-22T05:51:41.750Z"
   },
   {
    "duration": 559047,
    "start_time": "2022-04-22T05:51:41.758Z"
   },
   {
    "duration": 2,
    "start_time": "2022-04-22T06:01:00.807Z"
   },
   {
    "duration": 18,
    "start_time": "2022-04-22T06:01:00.811Z"
   },
   {
    "duration": 2238528,
    "start_time": "2022-04-22T06:01:00.831Z"
   },
   {
    "duration": 2143255,
    "start_time": "2022-04-22T06:38:19.361Z"
   },
   {
    "duration": 0,
    "start_time": "2022-04-22T07:14:02.618Z"
   },
   {
    "duration": 0,
    "start_time": "2022-04-22T07:14:02.620Z"
   },
   {
    "duration": 0,
    "start_time": "2022-04-22T07:14:02.621Z"
   },
   {
    "duration": 0,
    "start_time": "2022-04-22T07:14:02.622Z"
   },
   {
    "duration": 0,
    "start_time": "2022-04-22T07:14:02.623Z"
   },
   {
    "duration": 0,
    "start_time": "2022-04-22T07:14:02.624Z"
   },
   {
    "duration": 5,
    "start_time": "2022-04-22T07:14:36.783Z"
   },
   {
    "duration": 5,
    "start_time": "2022-04-22T07:14:39.027Z"
   },
   {
    "duration": 6,
    "start_time": "2022-04-22T07:14:54.460Z"
   },
   {
    "duration": 593427,
    "start_time": "2022-04-22T07:14:54.469Z"
   },
   {
    "duration": 3,
    "start_time": "2022-04-22T07:24:47.897Z"
   },
   {
    "duration": 5,
    "start_time": "2022-04-22T07:24:47.902Z"
   },
   {
    "duration": 2244794,
    "start_time": "2022-04-22T07:24:47.909Z"
   },
   {
    "duration": 3679555,
    "start_time": "2022-04-22T08:02:12.705Z"
   },
   {
    "duration": 0,
    "start_time": "2022-04-22T09:03:32.263Z"
   },
   {
    "duration": 0,
    "start_time": "2022-04-22T09:03:32.264Z"
   },
   {
    "duration": 0,
    "start_time": "2022-04-22T09:03:32.266Z"
   },
   {
    "duration": 0,
    "start_time": "2022-04-22T09:03:32.267Z"
   },
   {
    "duration": 0,
    "start_time": "2022-04-22T09:03:32.293Z"
   },
   {
    "duration": 0,
    "start_time": "2022-04-22T09:03:32.294Z"
   },
   {
    "duration": 3,
    "start_time": "2022-04-22T09:04:07.749Z"
   },
   {
    "duration": 8,
    "start_time": "2022-04-22T09:04:07.754Z"
   },
   {
    "duration": 17432,
    "start_time": "2022-04-22T09:04:07.764Z"
   },
   {
    "duration": 0,
    "start_time": "2022-04-22T09:04:25.199Z"
   },
   {
    "duration": 0,
    "start_time": "2022-04-22T09:04:25.200Z"
   },
   {
    "duration": 0,
    "start_time": "2022-04-22T09:04:25.201Z"
   },
   {
    "duration": 820365,
    "start_time": "2022-04-22T09:18:46.080Z"
   },
   {
    "duration": 0,
    "start_time": "2022-04-22T09:32:26.449Z"
   },
   {
    "duration": 7,
    "start_time": "2022-04-22T09:32:38.198Z"
   },
   {
    "duration": 1552,
    "start_time": "2022-04-22T09:34:12.190Z"
   },
   {
    "duration": 41,
    "start_time": "2022-04-22T09:34:13.745Z"
   },
   {
    "duration": 12,
    "start_time": "2022-04-22T09:34:13.787Z"
   },
   {
    "duration": 31,
    "start_time": "2022-04-22T09:34:13.801Z"
   },
   {
    "duration": 235,
    "start_time": "2022-04-22T09:34:13.835Z"
   },
   {
    "duration": 156,
    "start_time": "2022-04-22T09:34:14.071Z"
   },
   {
    "duration": 208,
    "start_time": "2022-04-22T09:34:14.229Z"
   },
   {
    "duration": 228,
    "start_time": "2022-04-22T09:34:14.439Z"
   },
   {
    "duration": 5,
    "start_time": "2022-04-22T09:34:14.669Z"
   },
   {
    "duration": 18,
    "start_time": "2022-04-22T09:34:14.675Z"
   },
   {
    "duration": 10,
    "start_time": "2022-04-22T09:34:14.694Z"
   },
   {
    "duration": 34959,
    "start_time": "2022-04-22T09:34:14.706Z"
   },
   {
    "duration": 2,
    "start_time": "2022-04-22T09:34:49.667Z"
   },
   {
    "duration": 6,
    "start_time": "2022-04-22T09:34:49.672Z"
   },
   {
    "duration": 209983,
    "start_time": "2022-04-22T09:34:49.693Z"
   },
   {
    "duration": 715881,
    "start_time": "2022-04-22T09:38:19.679Z"
   },
   {
    "duration": 2,
    "start_time": "2022-04-22T09:50:15.562Z"
   },
   {
    "duration": 26,
    "start_time": "2022-04-22T09:50:15.565Z"
   },
   {
    "duration": 3262619,
    "start_time": "2022-04-22T09:50:15.593Z"
   },
   {
    "duration": 247878,
    "start_time": "2022-04-22T10:44:38.214Z"
   },
   {
    "duration": 0,
    "start_time": "2022-04-22T10:48:46.095Z"
   },
   {
    "duration": 0,
    "start_time": "2022-04-22T10:48:46.097Z"
   },
   {
    "duration": 0,
    "start_time": "2022-04-22T10:48:46.098Z"
   },
   {
    "duration": 5,
    "start_time": "2022-04-22T10:50:36.668Z"
   },
   {
    "duration": 11,
    "start_time": "2022-04-22T10:50:38.486Z"
   },
   {
    "duration": 39504,
    "start_time": "2022-04-22T10:50:41.749Z"
   },
   {
    "duration": 180784,
    "start_time": "2022-04-22T10:52:30.839Z"
   },
   {
    "duration": 159331,
    "start_time": "2022-04-22T10:56:16.347Z"
   },
   {
    "duration": 159955,
    "start_time": "2022-04-22T10:59:13.286Z"
   },
   {
    "duration": 13,
    "start_time": "2022-04-22T11:04:34.426Z"
   },
   {
    "duration": 236,
    "start_time": "2022-04-22T11:05:13.954Z"
   },
   {
    "duration": 165,
    "start_time": "2022-04-22T11:05:24.282Z"
   },
   {
    "duration": 260,
    "start_time": "2022-04-22T11:05:53.562Z"
   },
   {
    "duration": 151,
    "start_time": "2022-04-22T11:06:28.291Z"
   },
   {
    "duration": 189,
    "start_time": "2022-04-22T11:06:30.834Z"
   },
   {
    "duration": 172,
    "start_time": "2022-04-22T11:06:33.251Z"
   },
   {
    "duration": 167,
    "start_time": "2022-04-22T11:06:44.466Z"
   },
   {
    "duration": 20,
    "start_time": "2022-04-22T11:08:31.180Z"
   },
   {
    "duration": 17,
    "start_time": "2022-04-22T11:09:09.068Z"
   },
   {
    "duration": 18,
    "start_time": "2022-04-22T11:09:22.016Z"
   },
   {
    "duration": 189,
    "start_time": "2022-04-22T11:09:53.766Z"
   },
   {
    "duration": 15,
    "start_time": "2022-04-22T11:09:56.606Z"
   },
   {
    "duration": 16,
    "start_time": "2022-04-22T11:10:02.190Z"
   },
   {
    "duration": 15,
    "start_time": "2022-04-22T11:10:33.215Z"
   },
   {
    "duration": 192,
    "start_time": "2022-04-22T11:10:45.534Z"
   },
   {
    "duration": 14,
    "start_time": "2022-04-22T11:11:01.349Z"
   },
   {
    "duration": 163,
    "start_time": "2022-04-22T11:11:13.506Z"
   },
   {
    "duration": 15,
    "start_time": "2022-04-22T11:11:17.550Z"
   },
   {
    "duration": 183,
    "start_time": "2022-04-22T11:11:39.566Z"
   },
   {
    "duration": 176,
    "start_time": "2022-04-22T11:11:58.030Z"
   },
   {
    "duration": 6,
    "start_time": "2022-04-22T11:12:28.221Z"
   },
   {
    "duration": 7,
    "start_time": "2022-04-22T11:12:58.003Z"
   },
   {
    "duration": 377845,
    "start_time": "2022-04-22T11:13:00.654Z"
   },
   {
    "duration": 1684,
    "start_time": "2022-04-22T11:20:25.827Z"
   },
   {
    "duration": 39,
    "start_time": "2022-04-22T11:20:27.514Z"
   },
   {
    "duration": 13,
    "start_time": "2022-04-22T11:20:27.555Z"
   },
   {
    "duration": 50,
    "start_time": "2022-04-22T11:20:27.570Z"
   },
   {
    "duration": 247,
    "start_time": "2022-04-22T11:20:27.622Z"
   },
   {
    "duration": 171,
    "start_time": "2022-04-22T11:20:27.870Z"
   },
   {
    "duration": 219,
    "start_time": "2022-04-22T11:20:28.042Z"
   },
   {
    "duration": 262,
    "start_time": "2022-04-22T11:20:28.263Z"
   },
   {
    "duration": 5,
    "start_time": "2022-04-22T11:20:28.526Z"
   },
   {
    "duration": 5,
    "start_time": "2022-04-22T11:20:28.533Z"
   },
   {
    "duration": 7,
    "start_time": "2022-04-22T11:20:28.540Z"
   },
   {
    "duration": 253388,
    "start_time": "2022-04-22T11:20:28.549Z"
   },
   {
    "duration": 55,
    "start_time": "2022-04-22T11:24:41.939Z"
   },
   {
    "duration": 44,
    "start_time": "2022-04-22T11:24:41.997Z"
   },
   {
    "duration": 511791,
    "start_time": "2022-04-22T11:24:42.043Z"
   },
   {
    "duration": 1371469,
    "start_time": "2022-04-22T11:33:13.836Z"
   },
   {
    "duration": 3,
    "start_time": "2022-04-22T11:56:05.307Z"
   },
   {
    "duration": 35,
    "start_time": "2022-04-22T11:56:05.312Z"
   },
   {
    "duration": 198812,
    "start_time": "2022-04-22T11:56:05.349Z"
   },
   {
    "duration": 0,
    "start_time": "2022-04-22T11:59:24.162Z"
   },
   {
    "duration": 0,
    "start_time": "2022-04-22T11:59:24.163Z"
   },
   {
    "duration": 0,
    "start_time": "2022-04-22T11:59:24.164Z"
   },
   {
    "duration": 0,
    "start_time": "2022-04-22T11:59:24.165Z"
   },
   {
    "duration": 1319807,
    "start_time": "2022-04-22T12:00:14.492Z"
   },
   {
    "duration": 1603,
    "start_time": "2022-04-22T12:26:02.833Z"
   },
   {
    "duration": 43,
    "start_time": "2022-04-22T12:26:04.439Z"
   },
   {
    "duration": 13,
    "start_time": "2022-04-22T12:26:04.484Z"
   },
   {
    "duration": 64,
    "start_time": "2022-04-22T12:26:04.500Z"
   },
   {
    "duration": 230,
    "start_time": "2022-04-22T12:26:04.565Z"
   },
   {
    "duration": 145,
    "start_time": "2022-04-22T12:26:04.797Z"
   },
   {
    "duration": 210,
    "start_time": "2022-04-22T12:26:04.943Z"
   },
   {
    "duration": 237,
    "start_time": "2022-04-22T12:26:05.155Z"
   },
   {
    "duration": 5,
    "start_time": "2022-04-22T12:26:05.394Z"
   },
   {
    "duration": 14,
    "start_time": "2022-04-22T12:26:05.401Z"
   },
   {
    "duration": 16,
    "start_time": "2022-04-22T12:26:05.416Z"
   },
   {
    "duration": 53500,
    "start_time": "2022-04-22T12:26:05.434Z"
   },
   {
    "duration": 0,
    "start_time": "2022-04-22T12:26:58.936Z"
   },
   {
    "duration": 0,
    "start_time": "2022-04-22T12:26:58.937Z"
   },
   {
    "duration": 0,
    "start_time": "2022-04-22T12:26:58.938Z"
   },
   {
    "duration": 0,
    "start_time": "2022-04-22T12:26:58.940Z"
   },
   {
    "duration": 0,
    "start_time": "2022-04-22T12:26:58.941Z"
   },
   {
    "duration": 0,
    "start_time": "2022-04-22T12:26:58.942Z"
   },
   {
    "duration": 0,
    "start_time": "2022-04-22T12:26:58.942Z"
   },
   {
    "duration": 0,
    "start_time": "2022-04-22T12:26:58.944Z"
   },
   {
    "duration": 0,
    "start_time": "2022-04-22T12:26:58.945Z"
   },
   {
    "duration": 0,
    "start_time": "2022-04-22T12:26:58.946Z"
   },
   {
    "duration": 7,
    "start_time": "2022-04-22T12:27:12.458Z"
   },
   {
    "duration": 7,
    "start_time": "2022-04-22T12:27:18.658Z"
   },
   {
    "duration": 232430,
    "start_time": "2022-04-22T12:27:18.668Z"
   },
   {
    "duration": 93023,
    "start_time": "2022-04-22T12:31:11.101Z"
   },
   {
    "duration": 5,
    "start_time": "2022-04-22T12:32:44.125Z"
   },
   {
    "duration": 468,
    "start_time": "2022-04-22T12:32:44.132Z"
   },
   {
    "duration": 1109,
    "start_time": "2022-04-22T12:32:44.602Z"
   },
   {
    "duration": 240400,
    "start_time": "2022-04-22T12:32:45.712Z"
   },
   {
    "duration": 0,
    "start_time": "2022-04-22T12:36:46.115Z"
   },
   {
    "duration": 0,
    "start_time": "2022-04-22T12:36:46.116Z"
   },
   {
    "duration": 0,
    "start_time": "2022-04-22T12:36:46.117Z"
   },
   {
    "duration": 0,
    "start_time": "2022-04-22T12:36:46.118Z"
   },
   {
    "duration": 0,
    "start_time": "2022-04-22T12:36:46.119Z"
   },
   {
    "duration": 1672,
    "start_time": "2022-04-22T12:37:31.849Z"
   },
   {
    "duration": 40,
    "start_time": "2022-04-22T12:37:33.523Z"
   },
   {
    "duration": 12,
    "start_time": "2022-04-22T12:37:33.565Z"
   },
   {
    "duration": 41,
    "start_time": "2022-04-22T12:37:33.578Z"
   },
   {
    "duration": 238,
    "start_time": "2022-04-22T12:37:33.621Z"
   },
   {
    "duration": 153,
    "start_time": "2022-04-22T12:37:33.861Z"
   },
   {
    "duration": 209,
    "start_time": "2022-04-22T12:37:34.016Z"
   },
   {
    "duration": 232,
    "start_time": "2022-04-22T12:37:34.227Z"
   },
   {
    "duration": 5,
    "start_time": "2022-04-22T12:37:34.460Z"
   },
   {
    "duration": 8,
    "start_time": "2022-04-22T12:37:34.466Z"
   },
   {
    "duration": 27,
    "start_time": "2022-04-22T12:37:34.475Z"
   },
   {
    "duration": 225195,
    "start_time": "2022-04-22T12:37:34.504Z"
   },
   {
    "duration": 86548,
    "start_time": "2022-04-22T12:41:19.702Z"
   },
   {
    "duration": 5,
    "start_time": "2022-04-22T12:42:46.254Z"
   },
   {
    "duration": 462,
    "start_time": "2022-04-22T12:42:46.261Z"
   },
   {
    "duration": 1114,
    "start_time": "2022-04-22T12:42:46.725Z"
   },
   {
    "duration": 4059301,
    "start_time": "2022-04-22T12:42:47.841Z"
   },
   {
    "duration": 0,
    "start_time": "2022-04-22T13:50:27.144Z"
   },
   {
    "duration": 0,
    "start_time": "2022-04-22T13:50:27.146Z"
   },
   {
    "duration": 0,
    "start_time": "2022-04-22T13:50:27.147Z"
   },
   {
    "duration": 0,
    "start_time": "2022-04-22T13:50:27.148Z"
   },
   {
    "duration": 0,
    "start_time": "2022-04-22T13:50:27.149Z"
   },
   {
    "duration": 6,
    "start_time": "2022-04-22T14:20:03.422Z"
   },
   {
    "duration": 34,
    "start_time": "2022-04-22T14:20:03.430Z"
   },
   {
    "duration": 14,
    "start_time": "2022-04-22T14:20:03.466Z"
   },
   {
    "duration": 50,
    "start_time": "2022-04-22T14:20:03.483Z"
   },
   {
    "duration": 190,
    "start_time": "2022-04-22T14:20:03.535Z"
   },
   {
    "duration": 162,
    "start_time": "2022-04-22T14:20:03.726Z"
   },
   {
    "duration": 253,
    "start_time": "2022-04-22T14:20:03.890Z"
   },
   {
    "duration": 224,
    "start_time": "2022-04-22T14:20:04.145Z"
   },
   {
    "duration": 7,
    "start_time": "2022-04-22T14:20:04.371Z"
   },
   {
    "duration": 34,
    "start_time": "2022-04-22T14:20:04.381Z"
   },
   {
    "duration": 20,
    "start_time": "2022-04-22T14:20:04.417Z"
   },
   {
    "duration": 251957,
    "start_time": "2022-04-22T14:20:04.440Z"
   },
   {
    "duration": 94179,
    "start_time": "2022-04-22T14:24:16.403Z"
   },
   {
    "duration": 9,
    "start_time": "2022-04-22T14:25:50.584Z"
   },
   {
    "duration": 498,
    "start_time": "2022-04-22T14:25:50.596Z"
   },
   {
    "duration": 1177,
    "start_time": "2022-04-22T14:25:51.096Z"
   },
   {
    "duration": 1710,
    "start_time": "2022-04-22T15:36:33.962Z"
   },
   {
    "duration": 41,
    "start_time": "2022-04-22T15:36:35.674Z"
   },
   {
    "duration": 12,
    "start_time": "2022-04-22T15:36:35.717Z"
   },
   {
    "duration": 33,
    "start_time": "2022-04-22T15:36:35.731Z"
   },
   {
    "duration": 267,
    "start_time": "2022-04-22T15:36:35.765Z"
   },
   {
    "duration": 162,
    "start_time": "2022-04-22T15:36:36.034Z"
   },
   {
    "duration": 268,
    "start_time": "2022-04-22T15:36:36.197Z"
   },
   {
    "duration": 312,
    "start_time": "2022-04-22T15:36:36.467Z"
   },
   {
    "duration": 17,
    "start_time": "2022-04-22T15:36:36.780Z"
   },
   {
    "duration": 17,
    "start_time": "2022-04-22T15:36:36.800Z"
   },
   {
    "duration": 8,
    "start_time": "2022-04-22T15:36:36.819Z"
   },
   {
    "duration": 260287,
    "start_time": "2022-04-22T15:36:36.829Z"
   },
   {
    "duration": 108006,
    "start_time": "2022-04-22T15:40:57.126Z"
   },
   {
    "duration": 7,
    "start_time": "2022-04-22T15:42:45.133Z"
   },
   {
    "duration": 590,
    "start_time": "2022-04-22T15:42:45.141Z"
   },
   {
    "duration": 1479,
    "start_time": "2022-04-22T15:42:45.733Z"
   },
   {
    "duration": 4305041,
    "start_time": "2022-04-22T15:42:47.215Z"
   },
   {
    "duration": 4,
    "start_time": "2022-04-22T16:54:32.258Z"
   },
   {
    "duration": 44166,
    "start_time": "2022-04-22T16:55:02.469Z"
   },
   {
    "duration": 4,
    "start_time": "2022-04-22T16:55:46.637Z"
   },
   {
    "duration": 18110,
    "start_time": "2022-04-22T16:56:11.783Z"
   },
   {
    "duration": 9491,
    "start_time": "2022-04-22T16:56:29.895Z"
   },
   {
    "duration": 29718,
    "start_time": "2022-04-22T19:38:33.348Z"
   },
   {
    "duration": 4,
    "start_time": "2022-04-22T19:39:15.223Z"
   },
   {
    "duration": 11785,
    "start_time": "2022-04-22T19:39:18.690Z"
   },
   {
    "duration": 123,
    "start_time": "2022-04-22T19:46:07.036Z"
   },
   {
    "duration": 234400,
    "start_time": "2022-04-22T19:46:40.247Z"
   },
   {
    "duration": 0,
    "start_time": "2022-04-22T19:50:34.669Z"
   },
   {
    "duration": 0,
    "start_time": "2022-04-22T19:50:34.670Z"
   },
   {
    "duration": 16204,
    "start_time": "2022-04-22T19:51:24.845Z"
   },
   {
    "duration": 3765,
    "start_time": "2022-04-22T19:51:43.737Z"
   },
   {
    "duration": 167,
    "start_time": "2022-04-22T19:59:25.722Z"
   },
   {
    "duration": 51,
    "start_time": "2022-04-22T19:59:51.120Z"
   },
   {
    "duration": 195,
    "start_time": "2022-04-22T20:03:39.749Z"
   },
   {
    "duration": 23,
    "start_time": "2022-04-22T20:04:36.401Z"
   },
   {
    "duration": 5,
    "start_time": "2022-04-22T20:05:06.502Z"
   },
   {
    "duration": 39,
    "start_time": "2022-04-22T20:05:08.223Z"
   },
   {
    "duration": 6,
    "start_time": "2022-04-22T20:05:15.448Z"
   },
   {
    "duration": 0,
    "start_time": "2022-04-22T20:06:44.204Z"
   },
   {
    "duration": 0,
    "start_time": "2022-04-22T20:06:44.206Z"
   },
   {
    "duration": 0,
    "start_time": "2022-04-22T20:06:44.207Z"
   },
   {
    "duration": 0,
    "start_time": "2022-04-22T20:06:44.208Z"
   },
   {
    "duration": 0,
    "start_time": "2022-04-22T20:06:44.210Z"
   },
   {
    "duration": 0,
    "start_time": "2022-04-22T20:06:44.211Z"
   },
   {
    "duration": 0,
    "start_time": "2022-04-22T20:06:44.213Z"
   },
   {
    "duration": 0,
    "start_time": "2022-04-22T20:06:44.214Z"
   },
   {
    "duration": 0,
    "start_time": "2022-04-22T20:06:44.216Z"
   },
   {
    "duration": 6,
    "start_time": "2022-04-22T20:07:06.684Z"
   },
   {
    "duration": 0,
    "start_time": "2022-04-22T20:20:40.838Z"
   },
   {
    "duration": 0,
    "start_time": "2022-04-22T20:20:40.840Z"
   },
   {
    "duration": 0,
    "start_time": "2022-04-22T20:20:40.841Z"
   },
   {
    "duration": 0,
    "start_time": "2022-04-22T20:20:40.842Z"
   },
   {
    "duration": 0,
    "start_time": "2022-04-22T20:20:40.843Z"
   },
   {
    "duration": 0,
    "start_time": "2022-04-22T20:20:40.844Z"
   },
   {
    "duration": 0,
    "start_time": "2022-04-22T20:20:40.845Z"
   },
   {
    "duration": 1,
    "start_time": "2022-04-22T20:20:40.846Z"
   },
   {
    "duration": 0,
    "start_time": "2022-04-22T20:20:40.848Z"
   },
   {
    "duration": 2033184,
    "start_time": "2022-04-22T20:20:59.866Z"
   },
   {
    "duration": 5,
    "start_time": "2022-04-22T20:54:53.052Z"
   },
   {
    "duration": 11470,
    "start_time": "2022-04-22T20:54:53.058Z"
   },
   {
    "duration": 21327,
    "start_time": "2022-04-22T20:55:04.530Z"
   },
   {
    "duration": 5,
    "start_time": "2022-04-22T20:55:25.859Z"
   },
   {
    "duration": 8552,
    "start_time": "2022-04-22T20:55:25.865Z"
   },
   {
    "duration": 2598,
    "start_time": "2022-04-22T20:55:34.419Z"
   },
   {
    "duration": 34,
    "start_time": "2022-04-22T20:55:37.019Z"
   },
   {
    "duration": 19,
    "start_time": "2022-04-22T20:55:37.054Z"
   },
   {
    "duration": 22393,
    "start_time": "2022-04-22T20:57:40.672Z"
   },
   {
    "duration": 5,
    "start_time": "2022-04-22T20:59:12.847Z"
   },
   {
    "duration": 21722,
    "start_time": "2022-04-22T20:59:16.424Z"
   },
   {
    "duration": 4,
    "start_time": "2022-04-22T21:00:25.546Z"
   },
   {
    "duration": 22186,
    "start_time": "2022-04-22T21:00:27.591Z"
   },
   {
    "duration": 6931,
    "start_time": "2022-04-22T21:00:54.432Z"
   },
   {
    "duration": 4,
    "start_time": "2022-04-22T21:01:02.670Z"
   },
   {
    "duration": 39700,
    "start_time": "2022-04-22T21:01:04.036Z"
   },
   {
    "duration": 0,
    "start_time": "2022-04-22T21:01:43.738Z"
   },
   {
    "duration": 5,
    "start_time": "2022-04-22T21:02:04.676Z"
   },
   {
    "duration": 4,
    "start_time": "2022-04-22T21:02:09.228Z"
   },
   {
    "duration": 56881,
    "start_time": "2022-04-22T21:02:11.102Z"
   },
   {
    "duration": 24673,
    "start_time": "2022-04-22T21:03:42.690Z"
   },
   {
    "duration": 4,
    "start_time": "2022-04-22T21:04:09.120Z"
   },
   {
    "duration": 77667,
    "start_time": "2022-04-22T21:04:09.857Z"
   },
   {
    "duration": 5515,
    "start_time": "2022-04-22T21:05:27.526Z"
   },
   {
    "duration": 32153,
    "start_time": "2022-04-22T21:05:40.794Z"
   },
   {
    "duration": 576,
    "start_time": "2022-04-22T21:06:28.473Z"
   },
   {
    "duration": 26,
    "start_time": "2022-04-22T21:06:43.127Z"
   },
   {
    "duration": 29,
    "start_time": "2022-04-22T21:08:18.125Z"
   },
   {
    "duration": 27,
    "start_time": "2022-04-22T21:09:01.506Z"
   },
   {
    "duration": 3,
    "start_time": "2022-04-22T21:11:34.504Z"
   },
   {
    "duration": 8,
    "start_time": "2022-04-22T21:12:10.870Z"
   },
   {
    "duration": 61178,
    "start_time": "2022-04-22T21:12:17.680Z"
   },
   {
    "duration": 5,
    "start_time": "2022-04-22T21:13:34.231Z"
   },
   {
    "duration": 85,
    "start_time": "2022-04-22T21:13:37.385Z"
   },
   {
    "duration": 202,
    "start_time": "2022-04-22T21:13:42.578Z"
   },
   {
    "duration": 2101373,
    "start_time": "2022-04-22T21:14:11.911Z"
   },
   {
    "duration": 5,
    "start_time": "2022-04-22T21:49:17.239Z"
   },
   {
    "duration": 3977,
    "start_time": "2022-04-22T21:49:18.353Z"
   },
   {
    "duration": 12349,
    "start_time": "2022-04-22T21:49:36.724Z"
   },
   {
    "duration": 5,
    "start_time": "2022-04-22T21:49:55.798Z"
   },
   {
    "duration": 16586,
    "start_time": "2022-04-22T21:49:58.571Z"
   },
   {
    "duration": 26569,
    "start_time": "2022-04-22T21:50:30.131Z"
   },
   {
    "duration": 39123,
    "start_time": "2022-04-22T21:51:08.006Z"
   },
   {
    "duration": 2254,
    "start_time": "2022-04-22T21:51:56.421Z"
   },
   {
    "duration": 41,
    "start_time": "2022-04-22T21:52:02.528Z"
   },
   {
    "duration": 39,
    "start_time": "2022-04-22T21:52:05.191Z"
   },
   {
    "duration": 30,
    "start_time": "2022-04-22T21:52:50.472Z"
   },
   {
    "duration": 42,
    "start_time": "2022-04-22T21:53:42.653Z"
   },
   {
    "duration": 12,
    "start_time": "2022-04-22T21:54:11.593Z"
   },
   {
    "duration": 11,
    "start_time": "2022-04-22T21:54:24.767Z"
   },
   {
    "duration": 12,
    "start_time": "2022-04-22T21:55:03.641Z"
   },
   {
    "duration": 12,
    "start_time": "2022-04-22T21:55:27.821Z"
   },
   {
    "duration": 12,
    "start_time": "2022-04-22T21:55:38.401Z"
   },
   {
    "duration": 2406,
    "start_time": "2022-04-22T21:57:26.126Z"
   },
   {
    "duration": 41,
    "start_time": "2022-04-22T21:57:32.158Z"
   },
   {
    "duration": 2289,
    "start_time": "2022-04-22T21:57:39.322Z"
   },
   {
    "duration": 39,
    "start_time": "2022-04-22T21:57:43.957Z"
   },
   {
    "duration": 10,
    "start_time": "2022-04-22T21:58:46.869Z"
   },
   {
    "duration": 155,
    "start_time": "2022-04-22T21:58:53.172Z"
   },
   {
    "duration": 193,
    "start_time": "2022-04-22T21:59:25.817Z"
   },
   {
    "duration": 246,
    "start_time": "2022-04-22T21:59:34.790Z"
   },
   {
    "duration": 154,
    "start_time": "2022-04-22T22:00:07.568Z"
   },
   {
    "duration": 157,
    "start_time": "2022-04-22T22:00:33.896Z"
   },
   {
    "duration": 177,
    "start_time": "2022-04-22T22:01:05.475Z"
   },
   {
    "duration": 174,
    "start_time": "2022-04-22T22:01:19.285Z"
   },
   {
    "duration": 186,
    "start_time": "2022-04-22T22:02:51.258Z"
   },
   {
    "duration": 163,
    "start_time": "2022-04-22T22:03:00.732Z"
   },
   {
    "duration": 7,
    "start_time": "2022-04-22T22:03:09.476Z"
   },
   {
    "duration": 6,
    "start_time": "2022-04-22T22:03:22.695Z"
   },
   {
    "duration": 11,
    "start_time": "2022-04-22T22:04:26.658Z"
   },
   {
    "duration": 207,
    "start_time": "2022-04-22T22:05:01.430Z"
   },
   {
    "duration": 176,
    "start_time": "2022-04-22T22:05:32.317Z"
   },
   {
    "duration": 192,
    "start_time": "2022-04-22T22:05:50.276Z"
   },
   {
    "duration": 320,
    "start_time": "2022-04-22T22:05:56.278Z"
   },
   {
    "duration": 41,
    "start_time": "2022-04-22T22:06:03.543Z"
   },
   {
    "duration": 226,
    "start_time": "2022-04-22T22:06:05.208Z"
   },
   {
    "duration": 233,
    "start_time": "2022-04-22T22:06:30.595Z"
   },
   {
    "duration": 10,
    "start_time": "2022-04-22T22:07:29.583Z"
   },
   {
    "duration": 176,
    "start_time": "2022-04-22T22:08:35.100Z"
   },
   {
    "duration": 1826,
    "start_time": "2022-04-23T07:34:44.652Z"
   },
   {
    "duration": 40,
    "start_time": "2022-04-23T07:34:46.480Z"
   },
   {
    "duration": 13,
    "start_time": "2022-04-23T07:34:46.522Z"
   },
   {
    "duration": 31,
    "start_time": "2022-04-23T07:34:46.538Z"
   },
   {
    "duration": 255,
    "start_time": "2022-04-23T07:34:46.571Z"
   },
   {
    "duration": 154,
    "start_time": "2022-04-23T07:34:46.828Z"
   },
   {
    "duration": 270,
    "start_time": "2022-04-23T07:34:46.983Z"
   },
   {
    "duration": 166,
    "start_time": "2022-04-23T07:34:47.255Z"
   },
   {
    "duration": 5,
    "start_time": "2022-04-23T07:34:47.422Z"
   },
   {
    "duration": 7,
    "start_time": "2022-04-23T07:34:47.430Z"
   },
   {
    "duration": 9,
    "start_time": "2022-04-23T07:34:47.438Z"
   },
   {
    "duration": 138056,
    "start_time": "2022-04-23T07:34:47.448Z"
   },
   {
    "duration": 48081,
    "start_time": "2022-04-23T07:37:05.507Z"
   },
   {
    "duration": 4,
    "start_time": "2022-04-23T07:37:53.593Z"
   },
   {
    "duration": 94,
    "start_time": "2022-04-23T07:37:53.599Z"
   },
   {
    "duration": 199,
    "start_time": "2022-04-23T07:37:53.694Z"
   },
   {
    "duration": 2059336,
    "start_time": "2022-04-23T07:37:53.895Z"
   },
   {
    "duration": 4,
    "start_time": "2022-04-23T08:12:13.233Z"
   },
   {
    "duration": 3687,
    "start_time": "2022-04-23T08:12:13.239Z"
   },
   {
    "duration": 12248,
    "start_time": "2022-04-23T08:12:16.928Z"
   },
   {
    "duration": 17,
    "start_time": "2022-04-23T08:12:29.179Z"
   },
   {
    "duration": 24464,
    "start_time": "2022-04-23T08:12:29.198Z"
   },
   {
    "duration": 39289,
    "start_time": "2022-04-23T08:12:53.663Z"
   },
   {
    "duration": 2270,
    "start_time": "2022-04-23T08:13:32.953Z"
   },
   {
    "duration": 39,
    "start_time": "2022-04-23T08:13:35.225Z"
   },
   {
    "duration": 185,
    "start_time": "2022-04-23T08:13:35.266Z"
   },
   {
    "duration": 6,
    "start_time": "2022-04-23T08:13:35.452Z"
   },
   {
    "duration": 11,
    "start_time": "2022-04-23T08:44:56.555Z"
   },
   {
    "duration": 118,
    "start_time": "2022-04-23T08:48:24.213Z"
   },
   {
    "duration": 0,
    "start_time": "2022-04-23T08:48:24.334Z"
   },
   {
    "duration": 0,
    "start_time": "2022-04-23T08:48:24.336Z"
   },
   {
    "duration": 0,
    "start_time": "2022-04-23T08:48:24.337Z"
   },
   {
    "duration": 0,
    "start_time": "2022-04-23T08:48:24.338Z"
   },
   {
    "duration": 0,
    "start_time": "2022-04-23T08:48:24.340Z"
   },
   {
    "duration": 0,
    "start_time": "2022-04-23T08:48:24.341Z"
   },
   {
    "duration": 0,
    "start_time": "2022-04-23T08:48:24.343Z"
   },
   {
    "duration": 3,
    "start_time": "2022-04-23T08:48:44.945Z"
   },
   {
    "duration": 3735625,
    "start_time": "2022-04-23T08:48:44.949Z"
   },
   {
    "duration": 4,
    "start_time": "2022-04-23T09:51:00.576Z"
   },
   {
    "duration": 24,
    "start_time": "2022-04-23T09:51:00.582Z"
   },
   {
    "duration": 0,
    "start_time": "2022-04-23T09:51:00.608Z"
   },
   {
    "duration": 0,
    "start_time": "2022-04-23T09:51:00.610Z"
   },
   {
    "duration": 0,
    "start_time": "2022-04-23T09:51:00.611Z"
   },
   {
    "duration": 0,
    "start_time": "2022-04-23T09:51:00.612Z"
   },
   {
    "duration": 4,
    "start_time": "2022-04-23T09:52:23.602Z"
   },
   {
    "duration": 5018,
    "start_time": "2022-04-23T09:52:24.214Z"
   },
   {
    "duration": 4,
    "start_time": "2022-04-23T09:53:04.841Z"
   },
   {
    "duration": 50549,
    "start_time": "2022-04-23T09:53:05.332Z"
   },
   {
    "duration": 8744,
    "start_time": "2022-04-23T09:58:41.233Z"
   },
   {
    "duration": 46832,
    "start_time": "2022-04-23T09:58:52.741Z"
   },
   {
    "duration": 94676,
    "start_time": "2022-04-23T10:00:20.465Z"
   },
   {
    "duration": 4,
    "start_time": "2022-04-23T10:02:54.655Z"
   },
   {
    "duration": 3513,
    "start_time": "2022-04-23T10:03:23.638Z"
   },
   {
    "duration": 3354,
    "start_time": "2022-04-23T10:03:40.390Z"
   },
   {
    "duration": 20,
    "start_time": "2022-04-23T10:03:46.685Z"
   },
   {
    "duration": 3230,
    "start_time": "2022-04-23T10:07:26.362Z"
   },
   {
    "duration": 22,
    "start_time": "2022-04-23T10:07:55.817Z"
   },
   {
    "duration": 3266,
    "start_time": "2022-04-23T10:09:14.779Z"
   },
   {
    "duration": 18,
    "start_time": "2022-04-23T10:09:19.928Z"
   },
   {
    "duration": 3211,
    "start_time": "2022-04-23T10:09:24.254Z"
   },
   {
    "duration": 19,
    "start_time": "2022-04-23T10:09:30.173Z"
   },
   {
    "duration": 5148,
    "start_time": "2022-04-23T10:13:12.914Z"
   },
   {
    "duration": 25,
    "start_time": "2022-04-23T10:13:28.211Z"
   },
   {
    "duration": 181,
    "start_time": "2022-04-23T10:14:45.132Z"
   },
   {
    "duration": 371,
    "start_time": "2022-04-23T10:17:16.059Z"
   },
   {
    "duration": 370,
    "start_time": "2022-04-23T10:17:34.850Z"
   },
   {
    "duration": 2261,
    "start_time": "2022-04-23T10:18:12.682Z"
   },
   {
    "duration": 238,
    "start_time": "2022-04-23T10:18:35.748Z"
   },
   {
    "duration": 277,
    "start_time": "2022-04-23T10:20:37.473Z"
   },
   {
    "duration": 10,
    "start_time": "2022-04-23T10:24:08.185Z"
   },
   {
    "duration": 2236,
    "start_time": "2022-04-23T10:24:18.691Z"
   },
   {
    "duration": 6,
    "start_time": "2022-04-23T10:24:41.936Z"
   },
   {
    "duration": 18,
    "start_time": "2022-04-23T10:25:35.631Z"
   },
   {
    "duration": 15,
    "start_time": "2022-04-23T10:26:16.996Z"
   },
   {
    "duration": 5,
    "start_time": "2022-04-23T10:26:26.556Z"
   },
   {
    "duration": 5,
    "start_time": "2022-04-23T10:26:31.746Z"
   },
   {
    "duration": 6,
    "start_time": "2022-04-23T10:27:42.764Z"
   },
   {
    "duration": 5,
    "start_time": "2022-04-23T10:27:45.432Z"
   },
   {
    "duration": 6,
    "start_time": "2022-04-23T10:28:20.151Z"
   },
   {
    "duration": 5,
    "start_time": "2022-04-23T10:28:21.610Z"
   },
   {
    "duration": 47896,
    "start_time": "2022-04-23T10:39:38.013Z"
   },
   {
    "duration": 46955,
    "start_time": "2022-04-23T10:40:25.911Z"
   },
   {
    "duration": 96177,
    "start_time": "2022-04-23T10:41:12.868Z"
   }
  ],
  "kernelspec": {
   "display_name": "Python 3 (ipykernel)",
   "language": "python",
   "name": "python3"
  },
  "language_info": {
   "codemirror_mode": {
    "name": "ipython",
    "version": 3
   },
   "file_extension": ".py",
   "mimetype": "text/x-python",
   "name": "python",
   "nbconvert_exporter": "python",
   "pygments_lexer": "ipython3",
   "version": "3.10.4"
  },
  "toc": {
   "base_numbering": 1,
   "nav_menu": {},
   "number_sections": true,
   "sideBar": true,
   "skip_h1_title": true,
   "title_cell": "Содержание",
   "title_sidebar": "Contents",
   "toc_cell": true,
   "toc_position": {
    "height": "calc(100% - 180px)",
    "left": "10px",
    "top": "150px",
    "width": "359.097px"
   },
   "toc_section_display": true,
   "toc_window_display": true
  }
 },
 "nbformat": 4,
 "nbformat_minor": 2
}
