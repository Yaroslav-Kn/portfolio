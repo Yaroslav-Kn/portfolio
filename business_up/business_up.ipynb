{
 "cells": [
  {
   "cell_type": "markdown",
   "id": "f595b02c",
   "metadata": {},
   "source": [
    "# Проект Business UP (Чемпионат московской области цифровой прорыв 2022)"
   ]
  },
  {
   "cell_type": "markdown",
   "id": "4c499112",
   "metadata": {},
   "source": [
    "В последние несколько лет большое внимание уделяется развитию малого и среднего бизнеса. Одной из мер поддержки является дополнительное образование для предпринимателей в формате курсов, лекций, тематических игр и бизнес-симуляций.\n",
    "\n",
    "В данном проекте нам необходимо разработать и обучить модель машинного обучения на основе метаданных поведения пользователя в бизнес игре проекта Business UP. В ходе игры пользователь берёт под управление небольшое предприятие и развивают его, используя знания в таких областях, как общий менеджмент, управление финансами, маркетингом, персоналом, производством и логистикой. После чего проводиться оценка его действий экспертами. Внедрение машинного обучения в данный проект позволит в дальнейшем отказаться от привлечения экспертов при оценке действий пользователей."
   ]
  },
  {
   "cell_type": "code",
   "execution_count": 1,
   "id": "2be624dd",
   "metadata": {},
   "outputs": [],
   "source": [
    "import pandas as pd\n",
    "import seaborn as sns\n",
    "import matplotlib.pyplot as plt\n",
    "from sklearn.preprocessing import StandardScaler\n",
    "from sklearn.model_selection import train_test_split, GridSearchCV, cross_val_predict\n",
    "from sklearn.ensemble import RandomForestClassifier, ExtraTreesClassifier, VotingClassifier\n",
    "from sklearn.linear_model import SGDClassifier\n",
    "from sklearn.svm import SVC\n",
    "from sklearn import tree\n",
    "import numpy as np\n",
    "from sklearn.metrics import recall_score\n",
    "from tqdm import tqdm\n",
    "from catboost import CatBoostClassifier\n",
    "import warnings"
   ]
  },
  {
   "cell_type": "code",
   "execution_count": 2,
   "id": "e53bc7e9",
   "metadata": {},
   "outputs": [],
   "source": [
    "warnings.filterwarnings('ignore')"
   ]
  },
  {
   "cell_type": "markdown",
   "id": "f4036c6d",
   "metadata": {},
   "source": [
    "## Предварительный анализ датасетов"
   ]
  },
  {
   "cell_type": "markdown",
   "id": "b50717f2",
   "metadata": {},
   "source": [
    "Откроем обучающие данные и все логи и проанализируем их. Начнём с обучающего датасета."
   ]
  },
  {
   "cell_type": "code",
   "execution_count": 3,
   "id": "2666791f",
   "metadata": {
    "scrolled": true
   },
   "outputs": [
    {
     "data": {
      "text/html": [
       "<div>\n",
       "<style scoped>\n",
       "    .dataframe tbody tr th:only-of-type {\n",
       "        vertical-align: middle;\n",
       "    }\n",
       "\n",
       "    .dataframe tbody tr th {\n",
       "        vertical-align: top;\n",
       "    }\n",
       "\n",
       "    .dataframe thead th {\n",
       "        text-align: right;\n",
       "    }\n",
       "</style>\n",
       "<table border=\"1\" class=\"dataframe\">\n",
       "  <thead>\n",
       "    <tr style=\"text-align: right;\">\n",
       "      <th></th>\n",
       "      <th>id</th>\n",
       "      <th>Analytical thinking</th>\n",
       "      <th>Systemic thinking</th>\n",
       "      <th>Adaptability</th>\n",
       "      <th>Focus</th>\n",
       "    </tr>\n",
       "  </thead>\n",
       "  <tbody>\n",
       "    <tr>\n",
       "      <th>0</th>\n",
       "      <td>10884</td>\n",
       "      <td>4.0</td>\n",
       "      <td>4.0</td>\n",
       "      <td>4.0</td>\n",
       "      <td>4.0</td>\n",
       "    </tr>\n",
       "    <tr>\n",
       "      <th>1</th>\n",
       "      <td>10106</td>\n",
       "      <td>5.0</td>\n",
       "      <td>4.0</td>\n",
       "      <td>5.0</td>\n",
       "      <td>5.0</td>\n",
       "    </tr>\n",
       "    <tr>\n",
       "      <th>2</th>\n",
       "      <td>10438</td>\n",
       "      <td>6.0</td>\n",
       "      <td>5.0</td>\n",
       "      <td>5.0</td>\n",
       "      <td>5.0</td>\n",
       "    </tr>\n",
       "    <tr>\n",
       "      <th>3</th>\n",
       "      <td>10130</td>\n",
       "      <td>5.0</td>\n",
       "      <td>4.0</td>\n",
       "      <td>5.0</td>\n",
       "      <td>5.0</td>\n",
       "    </tr>\n",
       "    <tr>\n",
       "      <th>4</th>\n",
       "      <td>10667</td>\n",
       "      <td>4.0</td>\n",
       "      <td>5.0</td>\n",
       "      <td>5.0</td>\n",
       "      <td>5.0</td>\n",
       "    </tr>\n",
       "  </tbody>\n",
       "</table>\n",
       "</div>"
      ],
      "text/plain": [
       "      id  Analytical thinking  Systemic thinking  Adaptability  Focus\n",
       "0  10884                  4.0                4.0           4.0    4.0\n",
       "1  10106                  5.0                4.0           5.0    5.0\n",
       "2  10438                  6.0                5.0           5.0    5.0\n",
       "3  10130                  5.0                4.0           5.0    5.0\n",
       "4  10667                  4.0                5.0           5.0    5.0"
      ]
     },
     "execution_count": 3,
     "metadata": {},
     "output_type": "execute_result"
    }
   ],
   "source": [
    "df_train_dataset_train = pd.read_csv('train_dataset_train.csv')\n",
    "df_train_dataset_train.head(5)"
   ]
  },
  {
   "cell_type": "markdown",
   "id": "afa97391",
   "metadata": {},
   "source": [
    "Посмотрим размер и количество уникальных id  в данном датасете"
   ]
  },
  {
   "cell_type": "code",
   "execution_count": 4,
   "id": "55d5b7ed",
   "metadata": {},
   "outputs": [
    {
     "data": {
      "text/plain": [
       "(680, 5)"
      ]
     },
     "execution_count": 4,
     "metadata": {},
     "output_type": "execute_result"
    }
   ],
   "source": [
    "df_train_dataset_train.shape"
   ]
  },
  {
   "cell_type": "code",
   "execution_count": 5,
   "id": "8a1ec84b",
   "metadata": {},
   "outputs": [
    {
     "data": {
      "text/plain": [
       "680"
      ]
     },
     "execution_count": 5,
     "metadata": {},
     "output_type": "execute_result"
    }
   ],
   "source": [
    "len(df_train_dataset_train['id'].unique())"
   ]
  },
  {
   "cell_type": "markdown",
   "id": "4bf2b513",
   "metadata": {},
   "source": [
    "Оценим разброс оценок и примерное распределение по каждому из навыков"
   ]
  },
  {
   "cell_type": "code",
   "execution_count": 6,
   "id": "2301d3dd",
   "metadata": {},
   "outputs": [
    {
     "data": {
      "text/plain": [
       "4.0    417\n",
       "5.0    209\n",
       "3.0     36\n",
       "6.0     14\n",
       "1.0      4\n",
       "Name: Analytical thinking, dtype: int64"
      ]
     },
     "execution_count": 6,
     "metadata": {},
     "output_type": "execute_result"
    }
   ],
   "source": [
    "df_train_dataset_train['Analytical thinking'].value_counts()"
   ]
  },
  {
   "cell_type": "markdown",
   "id": "84cd48da",
   "metadata": {},
   "source": [
    "Шкала оценивания по данном навыку лежит в диапазоне от 1 до 6. Построим гистограмму чтобы оценить распределние данного навыка."
   ]
  },
  {
   "cell_type": "code",
   "execution_count": 7,
   "id": "02e5c5b9",
   "metadata": {},
   "outputs": [
    {
     "data": {
      "text/plain": [
       "Text(0, 0.5, 'Количество оценок')"
      ]
     },
     "execution_count": 7,
     "metadata": {},
     "output_type": "execute_result"
    },
    {
     "data": {
      "image/png": "[encoded data removed]",
      "text/plain": [
       "<Figure size 800x500 with 1 Axes>"
      ]
     },
     "metadata": {},
     "output_type": "display_data"
    }
   ],
   "source": [
    "plt.figure(figsize=(8, 5))\n",
    "sns.countplot(x='Analytical thinking', data=df_train_dataset_train)\n",
    "plt.title('Распределение оценок по навыку аналлитическое мышление')\n",
    "plt.xlabel('Баллы')\n",
    "plt.ylabel('Количество оценок')"
   ]
  },
  {
   "cell_type": "markdown",
   "id": "c46c5aaf",
   "metadata": {},
   "source": [
    "Как видно из данных, больше всего ставят 4 и 5 балов за аналитическое мышление, крайне редко данный навык оценивают ниже 3 баллов."
   ]
  },
  {
   "cell_type": "markdown",
   "id": "e72d5795",
   "metadata": {},
   "source": [
    "Для остальных навыков будем стротиь только гистограммы. Шкала оценивания, наверняка совпадает."
   ]
  },
  {
   "cell_type": "code",
   "execution_count": 8,
   "id": "82c4a3fa",
   "metadata": {},
   "outputs": [
    {
     "data": {
      "text/plain": [
       "Text(0, 0.5, 'Количество оценок')"
      ]
     },
     "execution_count": 8,
     "metadata": {},
     "output_type": "execute_result"
    },
    {
     "data": {
      "image/png": "[encoded data removed]",
      "text/plain": [
       "<Figure size 800x500 with 1 Axes>"
      ]
     },
     "metadata": {},
     "output_type": "display_data"
    }
   ],
   "source": [
    "plt.figure(figsize=(8, 5))\n",
    "sns.countplot(x='Systemic thinking', data=df_train_dataset_train)\n",
    "plt.title('Распределение оценок по навыку системное мышление')\n",
    "plt.xlabel('Баллы')\n",
    "plt.ylabel('Количество оценок')"
   ]
  },
  {
   "cell_type": "markdown",
   "id": "33697069",
   "metadata": {},
   "source": [
    "По системному мышлению распредление баллов ближе к нормальному, но также сохраняется тенденция. что чаще всего игроки получают 4 бала."
   ]
  },
  {
   "cell_type": "code",
   "execution_count": 9,
   "id": "684ea3bb",
   "metadata": {
    "scrolled": true
   },
   "outputs": [
    {
     "data": {
      "text/plain": [
       "Text(0, 0.5, 'Количество оценок')"
      ]
     },
     "execution_count": 9,
     "metadata": {},
     "output_type": "execute_result"
    },
    {
     "data": {
      "image/png": "[encoded data removed]",
      "text/plain": [
       "<Figure size 800x500 with 1 Axes>"
      ]
     },
     "metadata": {},
     "output_type": "display_data"
    }
   ],
   "source": [
    "plt.figure(figsize=(8, 5))\n",
    "sns.countplot(x='Adaptability', data=df_train_dataset_train)\n",
    "plt.title('Распределение оценок по навыку адаптивность и открытость к изменениям')\n",
    "plt.xlabel('Баллы')\n",
    "plt.ylabel('Количество оценок')"
   ]
  },
  {
   "cell_type": "markdown",
   "id": "32e54d55",
   "metadata": {},
   "source": [
    "По навыку адаптивность и открытость к изменениям в отличии от двх предыдущих чаще ставят 5 балов, немного реже получают 4 бала, остальные оценки ставят значительно реже."
   ]
  },
  {
   "cell_type": "code",
   "execution_count": 10,
   "id": "ea1e288a",
   "metadata": {
    "scrolled": true
   },
   "outputs": [
    {
     "data": {
      "text/plain": [
       "Text(0, 0.5, 'Количество оценок')"
      ]
     },
     "execution_count": 10,
     "metadata": {},
     "output_type": "execute_result"
    },
    {
     "data": {
      "image/png": "[encoded data removed]",
      "text/plain": [
       "<Figure size 800x500 with 1 Axes>"
      ]
     },
     "metadata": {},
     "output_type": "display_data"
    }
   ],
   "source": [
    "plt.figure(figsize=(8, 5))\n",
    "sns.countplot(x='Focus', data=df_train_dataset_train)\n",
    "plt.title('Распределение оценок по навыку нацеленность на достижение амбициозных результатов')\n",
    "plt.xlabel('Баллы')\n",
    "plt.ylabel('Количество оценок')"
   ]
  },
  {
   "cell_type": "markdown",
   "id": "0abdb4fa",
   "metadata": {},
   "source": [
    "Распределение оценок по навыку нацеленность на достижение амбициозных результатов, близко к распределению аналитического мышления. Нужно проверить коррелируются ли между собой все навыки"
   ]
  },
  {
   "cell_type": "code",
   "execution_count": 11,
   "id": "5dad770a",
   "metadata": {},
   "outputs": [
    {
     "data": {
      "image/png": "[encoded data removed]",
      "text/plain": [
       "<Figure size 800x800 with 2 Axes>"
      ]
     },
     "metadata": {},
     "output_type": "display_data"
    }
   ],
   "source": [
    "plt.figure(figsize=(8, 8))\n",
    "g = sns.heatmap(df_train_dataset_train.corr(), square = True, annot=True)"
   ]
  },
  {
   "cell_type": "markdown",
   "id": "de763716",
   "metadata": {},
   "source": [
    "Аналитическое мышление коррелируется почти со всеми навыками, адаптация с нацеленностью на достижение амбициозных результатов. А системное мышление немного хуже коррелируется с адаптацией и нацеленностью на амбициозный результат."
   ]
  },
  {
   "cell_type": "markdown",
   "id": "49ea4037",
   "metadata": {},
   "source": [
    "Исходя из полученных данных будем работать с многоклассовой классификацией. При этом для каждого навыка будем обучать отдельную модель."
   ]
  },
  {
   "cell_type": "markdown",
   "id": "2367cf4f",
   "metadata": {},
   "source": [
    "Изучим файл user.csv"
   ]
  },
  {
   "cell_type": "code",
   "execution_count": 12,
   "id": "8f83c634",
   "metadata": {},
   "outputs": [
    {
     "data": {
      "text/html": [
       "<div>\n",
       "<style scoped>\n",
       "    .dataframe tbody tr th:only-of-type {\n",
       "        vertical-align: middle;\n",
       "    }\n",
       "\n",
       "    .dataframe tbody tr th {\n",
       "        vertical-align: top;\n",
       "    }\n",
       "\n",
       "    .dataframe thead th {\n",
       "        text-align: right;\n",
       "    }\n",
       "</style>\n",
       "<table border=\"1\" class=\"dataframe\">\n",
       "  <thead>\n",
       "    <tr style=\"text-align: right;\">\n",
       "      <th></th>\n",
       "      <th>user_id</th>\n",
       "      <th>team_id</th>\n",
       "      <th>game_id</th>\n",
       "    </tr>\n",
       "  </thead>\n",
       "  <tbody>\n",
       "    <tr>\n",
       "      <th>0</th>\n",
       "      <td>10189</td>\n",
       "      <td>1664</td>\n",
       "      <td>235</td>\n",
       "    </tr>\n",
       "    <tr>\n",
       "      <th>1</th>\n",
       "      <td>10018</td>\n",
       "      <td>1690</td>\n",
       "      <td>237</td>\n",
       "    </tr>\n",
       "    <tr>\n",
       "      <th>2</th>\n",
       "      <td>10580</td>\n",
       "      <td>1394</td>\n",
       "      <td>194</td>\n",
       "    </tr>\n",
       "    <tr>\n",
       "      <th>3</th>\n",
       "      <td>10600</td>\n",
       "      <td>1908</td>\n",
       "      <td>262</td>\n",
       "    </tr>\n",
       "    <tr>\n",
       "      <th>4</th>\n",
       "      <td>10112</td>\n",
       "      <td>1592</td>\n",
       "      <td>219</td>\n",
       "    </tr>\n",
       "  </tbody>\n",
       "</table>\n",
       "</div>"
      ],
      "text/plain": [
       "   user_id  team_id  game_id\n",
       "0    10189     1664      235\n",
       "1    10018     1690      237\n",
       "2    10580     1394      194\n",
       "3    10600     1908      262\n",
       "4    10112     1592      219"
      ]
     },
     "execution_count": 12,
     "metadata": {},
     "output_type": "execute_result"
    }
   ],
   "source": [
    "df_user = pd.read_csv('user.csv')\n",
    "df_user.head(5)"
   ]
  },
  {
   "cell_type": "code",
   "execution_count": 13,
   "id": "8b4ffb04",
   "metadata": {},
   "outputs": [
    {
     "data": {
      "text/plain": [
       "(973, 3)"
      ]
     },
     "execution_count": 13,
     "metadata": {},
     "output_type": "execute_result"
    }
   ],
   "source": [
    "df_user.shape"
   ]
  },
  {
   "cell_type": "code",
   "execution_count": 14,
   "id": "fe7f519f",
   "metadata": {},
   "outputs": [
    {
     "data": {
      "text/plain": [
       "973"
      ]
     },
     "execution_count": 14,
     "metadata": {},
     "output_type": "execute_result"
    }
   ],
   "source": [
    "len(df_user['user_id'].unique())"
   ]
  },
  {
   "cell_type": "markdown",
   "id": "cb01fc2f",
   "metadata": {},
   "source": [
    "Количество уникальных id в общем своде игроков больше, чем в тренировочной таблице. Проверим все ли игроки из тренировочного датасета есть в user."
   ]
  },
  {
   "cell_type": "code",
   "execution_count": 15,
   "id": "e53d036f",
   "metadata": {},
   "outputs": [
    {
     "data": {
      "text/plain": [
       "(680, 5)"
      ]
     },
     "execution_count": 15,
     "metadata": {},
     "output_type": "execute_result"
    }
   ],
   "source": [
    "df_train_dataset_train[df_train_dataset_train['id'].isin(df_user['user_id'])].shape"
   ]
  },
  {
   "cell_type": "markdown",
   "id": "8c90039d",
   "metadata": {},
   "source": [
    "Действительно все записи по тренировочной выборке находятся в датасете user. Вероятнее всего оставшаяся часть это тестовый набор. Откроем файл sample_solution.csv посмотрим какие пользователи указаны в данном файле, их количество и наличие в таблице user"
   ]
  },
  {
   "cell_type": "code",
   "execution_count": 16,
   "id": "ee4a30b0",
   "metadata": {},
   "outputs": [
    {
     "data": {
      "text/html": [
       "<div>\n",
       "<style scoped>\n",
       "    .dataframe tbody tr th:only-of-type {\n",
       "        vertical-align: middle;\n",
       "    }\n",
       "\n",
       "    .dataframe tbody tr th {\n",
       "        vertical-align: top;\n",
       "    }\n",
       "\n",
       "    .dataframe thead th {\n",
       "        text-align: right;\n",
       "    }\n",
       "</style>\n",
       "<table border=\"1\" class=\"dataframe\">\n",
       "  <thead>\n",
       "    <tr style=\"text-align: right;\">\n",
       "      <th></th>\n",
       "      <th>id</th>\n",
       "      <th>Analytical thinking</th>\n",
       "      <th>Systemic thinking</th>\n",
       "      <th>Adaptability</th>\n",
       "      <th>Focus</th>\n",
       "    </tr>\n",
       "  </thead>\n",
       "  <tbody>\n",
       "    <tr>\n",
       "      <th>0</th>\n",
       "      <td>10199</td>\n",
       "      <td>0</td>\n",
       "      <td>0</td>\n",
       "      <td>0</td>\n",
       "      <td>0</td>\n",
       "    </tr>\n",
       "    <tr>\n",
       "      <th>1</th>\n",
       "      <td>10539</td>\n",
       "      <td>0</td>\n",
       "      <td>0</td>\n",
       "      <td>0</td>\n",
       "      <td>0</td>\n",
       "    </tr>\n",
       "    <tr>\n",
       "      <th>2</th>\n",
       "      <td>10174</td>\n",
       "      <td>0</td>\n",
       "      <td>0</td>\n",
       "      <td>0</td>\n",
       "      <td>0</td>\n",
       "    </tr>\n",
       "    <tr>\n",
       "      <th>3</th>\n",
       "      <td>10465</td>\n",
       "      <td>0</td>\n",
       "      <td>0</td>\n",
       "      <td>0</td>\n",
       "      <td>0</td>\n",
       "    </tr>\n",
       "    <tr>\n",
       "      <th>4</th>\n",
       "      <td>10066</td>\n",
       "      <td>0</td>\n",
       "      <td>0</td>\n",
       "      <td>0</td>\n",
       "      <td>0</td>\n",
       "    </tr>\n",
       "  </tbody>\n",
       "</table>\n",
       "</div>"
      ],
      "text/plain": [
       "      id  Analytical thinking  Systemic thinking  Adaptability  Focus\n",
       "0  10199                    0                  0             0      0\n",
       "1  10539                    0                  0             0      0\n",
       "2  10174                    0                  0             0      0\n",
       "3  10465                    0                  0             0      0\n",
       "4  10066                    0                  0             0      0"
      ]
     },
     "execution_count": 16,
     "metadata": {},
     "output_type": "execute_result"
    }
   ],
   "source": [
    "df_sample_solution = pd.read_csv('sample_solution.csv')\n",
    "df_sample_solution.head(5)"
   ]
  },
  {
   "cell_type": "code",
   "execution_count": 17,
   "id": "026710b4",
   "metadata": {},
   "outputs": [
    {
     "data": {
      "text/plain": [
       "(293, 5)"
      ]
     },
     "execution_count": 17,
     "metadata": {},
     "output_type": "execute_result"
    }
   ],
   "source": [
    "df_sample_solution.shape"
   ]
  },
  {
   "cell_type": "code",
   "execution_count": 18,
   "id": "7cf3fba5",
   "metadata": {},
   "outputs": [
    {
     "data": {
      "text/plain": [
       "293"
      ]
     },
     "execution_count": 18,
     "metadata": {},
     "output_type": "execute_result"
    }
   ],
   "source": [
    "len(df_sample_solution['id'].unique())"
   ]
  },
  {
   "cell_type": "code",
   "execution_count": 19,
   "id": "38d07423",
   "metadata": {},
   "outputs": [
    {
     "data": {
      "text/plain": [
       "(293, 5)"
      ]
     },
     "execution_count": 19,
     "metadata": {},
     "output_type": "execute_result"
    }
   ],
   "source": [
    "df_sample_solution[df_sample_solution['id'].isin(df_user['user_id'])].shape"
   ]
  },
  {
   "cell_type": "markdown",
   "id": "83143cf0",
   "metadata": {},
   "source": [
    "Действительно, оставшиеся строки относятся к тестовому набору. Лишних строк в df_user нет"
   ]
  },
  {
   "cell_type": "markdown",
   "id": "dbaabc9a",
   "metadata": {},
   "source": [
    "В самой таблице df_user есть неинформтивный столбец game_id удалим его"
   ]
  },
  {
   "cell_type": "code",
   "execution_count": 20,
   "id": "665a710e",
   "metadata": {},
   "outputs": [],
   "source": [
    "df_user = df_user.drop('game_id', axis=1)"
   ]
  },
  {
   "cell_type": "markdown",
   "id": "901e662d",
   "metadata": {},
   "source": [
    "### Выделение тренировочного и тестового набора. "
   ]
  },
  {
   "cell_type": "markdown",
   "id": "72728c54",
   "metadata": {},
   "source": [
    "Выделим выборку для обучения и финальную для загрузки на сайт"
   ]
  },
  {
   "cell_type": "code",
   "execution_count": 21,
   "id": "a2c5e2ec",
   "metadata": {},
   "outputs": [],
   "source": [
    "X_train = df_user[df_user['user_id'].isin(df_train_dataset_train['id'])]\n",
    "X_final_test = df_user[df_user['user_id'].isin(df_sample_solution['id'])]"
   ]
  },
  {
   "cell_type": "markdown",
   "id": "8435919c",
   "metadata": {},
   "source": [
    "Поскольку порядок оценок в тренировочной выборке и сами данные в этой выборке может не совпадать, то соединим два этих датасета"
   ]
  },
  {
   "cell_type": "code",
   "execution_count": 22,
   "id": "fcabb0da",
   "metadata": {},
   "outputs": [],
   "source": [
    "# переименование столбца для дальнейшего merge\n",
    "df_train_dataset_train = df_train_dataset_train.rename(columns = {'id':'user_id'})\n",
    "X_train = X_train.merge(df_train_dataset_train, on='user_id', how='left')  "
   ]
  },
  {
   "cell_type": "markdown",
   "id": "6240d4b2",
   "metadata": {},
   "source": [
    "Выделим таргеты,упорядоченные с основным датасетом"
   ]
  },
  {
   "cell_type": "code",
   "execution_count": 23,
   "id": "54510a49",
   "metadata": {},
   "outputs": [],
   "source": [
    "y_analytical = X_train['Analytical thinking']\n",
    "y_systemic = X_train['Systemic thinking']\n",
    "y_adaptability = X_train['Adaptability']\n",
    "y_focus = X_train['Focus']\n",
    "X_train = X_train.drop(['Analytical thinking', 'Systemic thinking', 'Adaptability', 'Focus'], axis=1)"
   ]
  },
  {
   "cell_type": "markdown",
   "id": "a5c89767",
   "metadata": {},
   "source": [
    "Разделим выборку на тренировочную, валидационную и тестовую"
   ]
  },
  {
   "cell_type": "code",
   "execution_count": 24,
   "id": "37a2049f",
   "metadata": {},
   "outputs": [],
   "source": [
    "(X_train, X_val, \n",
    "y_analytical_train, y_analytical_val,\n",
    "y_systemic_train, y_systemic_val,\n",
    "y_adaptability_train, y_adaptability_val,\n",
    "y_focus_train, y_focus_val) = train_test_split(X_train, y_analytical, y_systemic, \n",
    "                                               y_adaptability, y_focus,\n",
    "                                              test_size=0.4,\n",
    "                                              random_state=159)"
   ]
  },
  {
   "cell_type": "code",
   "execution_count": 25,
   "id": "cd43fa6f",
   "metadata": {},
   "outputs": [],
   "source": [
    "(X_val, X_test, \n",
    "y_analytical_val, y_analytical_test,\n",
    "y_systemic_val, y_systemic_test,\n",
    "y_adaptability_val, y_adaptability_test,\n",
    "y_focus_val, y_focus_test) = train_test_split(X_val,  y_analytical_val, y_systemic_val, \n",
    "                                              y_adaptability_val, y_focus_val,\n",
    "                                              test_size=0.5,\n",
    "                                              random_state=159)"
   ]
  },
  {
   "cell_type": "markdown",
   "id": "3d6fa511",
   "metadata": {},
   "source": [
    "### Анализ признаков и объединение датасетов"
   ]
  },
  {
   "cell_type": "markdown",
   "id": "0194d374",
   "metadata": {},
   "source": [
    "Откроем датасет user_decision.csv"
   ]
  },
  {
   "cell_type": "code",
   "execution_count": 26,
   "id": "0dece901",
   "metadata": {},
   "outputs": [
    {
     "data": {
      "text/html": [
       "<div>\n",
       "<style scoped>\n",
       "    .dataframe tbody tr th:only-of-type {\n",
       "        vertical-align: middle;\n",
       "    }\n",
       "\n",
       "    .dataframe tbody tr th {\n",
       "        vertical-align: top;\n",
       "    }\n",
       "\n",
       "    .dataframe thead th {\n",
       "        text-align: right;\n",
       "    }\n",
       "</style>\n",
       "<table border=\"1\" class=\"dataframe\">\n",
       "  <thead>\n",
       "    <tr style=\"text-align: right;\">\n",
       "      <th></th>\n",
       "      <th>user_id</th>\n",
       "      <th>period</th>\n",
       "      <th>decision_id</th>\n",
       "    </tr>\n",
       "  </thead>\n",
       "  <tbody>\n",
       "    <tr>\n",
       "      <th>0</th>\n",
       "      <td>10625</td>\n",
       "      <td>1</td>\n",
       "      <td>409</td>\n",
       "    </tr>\n",
       "    <tr>\n",
       "      <th>1</th>\n",
       "      <td>10318</td>\n",
       "      <td>3</td>\n",
       "      <td>203</td>\n",
       "    </tr>\n",
       "    <tr>\n",
       "      <th>2</th>\n",
       "      <td>10775</td>\n",
       "      <td>4</td>\n",
       "      <td>420</td>\n",
       "    </tr>\n",
       "    <tr>\n",
       "      <th>3</th>\n",
       "      <td>10236</td>\n",
       "      <td>2</td>\n",
       "      <td>284</td>\n",
       "    </tr>\n",
       "    <tr>\n",
       "      <th>4</th>\n",
       "      <td>10130</td>\n",
       "      <td>3</td>\n",
       "      <td>72</td>\n",
       "    </tr>\n",
       "  </tbody>\n",
       "</table>\n",
       "</div>"
      ],
      "text/plain": [
       "   user_id  period  decision_id\n",
       "0    10625       1          409\n",
       "1    10318       3          203\n",
       "2    10775       4          420\n",
       "3    10236       2          284\n",
       "4    10130       3           72"
      ]
     },
     "execution_count": 26,
     "metadata": {},
     "output_type": "execute_result"
    }
   ],
   "source": [
    "df_user_decision = pd.read_csv('user_decision.csv')\n",
    "df_user_decision.head(5)"
   ]
  },
  {
   "cell_type": "code",
   "execution_count": 27,
   "id": "41529c6f",
   "metadata": {},
   "outputs": [
    {
     "data": {
      "text/plain": [
       "(60228, 3)"
      ]
     },
     "execution_count": 27,
     "metadata": {},
     "output_type": "execute_result"
    }
   ],
   "source": [
    "df_user_decision.shape"
   ]
  },
  {
   "cell_type": "code",
   "execution_count": 28,
   "id": "8f38ff10",
   "metadata": {},
   "outputs": [
    {
     "data": {
      "text/plain": [
       "973"
      ]
     },
     "execution_count": 28,
     "metadata": {},
     "output_type": "execute_result"
    }
   ],
   "source": [
    "len(df_user_decision['user_id'].unique())"
   ]
  },
  {
   "cell_type": "markdown",
   "id": "72a240d3",
   "metadata": {},
   "source": [
    "В данной таблице для каждого игрока выделяется несколько периодов в которые он мог совершать действия. Посмотрим на распределение этих действий."
   ]
  },
  {
   "cell_type": "code",
   "execution_count": 29,
   "id": "e4074c6c",
   "metadata": {},
   "outputs": [
    {
     "data": {
      "text/plain": [
       "Text(0, 0.5, 'Количество действий')"
      ]
     },
     "execution_count": 29,
     "metadata": {},
     "output_type": "execute_result"
    },
    {
     "data": {
      "image/png": "[encoded data removed]",
      "text/plain": [
       "<Figure size 800x500 with 1 Axes>"
      ]
     },
     "metadata": {},
     "output_type": "display_data"
    }
   ],
   "source": [
    "plt.figure(figsize=(8, 5))\n",
    "sns.countplot(x = 'period' , data  = df_user_decision)\n",
    "plt.title('Распределение количества действий в каждом периоде')\n",
    "plt.xlabel('Период')\n",
    "plt.ylabel('Количество действий')"
   ]
  },
  {
   "cell_type": "markdown",
   "id": "2b8685ad",
   "metadata": {},
   "source": [
    "Больше всего действий было совершено в 3 период. Посмотрим насреднее количество действий игроков в каждый период"
   ]
  },
  {
   "cell_type": "markdown",
   "id": "3a14f31f",
   "metadata": {},
   "source": [
    "Откроем таблицу с действиями decision.xlsx"
   ]
  },
  {
   "cell_type": "code",
   "execution_count": 30,
   "id": "031c50bf",
   "metadata": {
    "scrolled": true
   },
   "outputs": [
    {
     "data": {
      "text/html": [
       "<div>\n",
       "<style scoped>\n",
       "    .dataframe tbody tr th:only-of-type {\n",
       "        vertical-align: middle;\n",
       "    }\n",
       "\n",
       "    .dataframe tbody tr th {\n",
       "        vertical-align: top;\n",
       "    }\n",
       "\n",
       "    .dataframe thead th {\n",
       "        text-align: right;\n",
       "    }\n",
       "</style>\n",
       "<table border=\"1\" class=\"dataframe\">\n",
       "  <thead>\n",
       "    <tr style=\"text-align: right;\">\n",
       "      <th></th>\n",
       "      <th>decision_id</th>\n",
       "      <th>decision_name</th>\n",
       "      <th>Unnamed: 2</th>\n",
       "    </tr>\n",
       "  </thead>\n",
       "  <tbody>\n",
       "    <tr>\n",
       "      <th>0</th>\n",
       "      <td>1</td>\n",
       "      <td>Dividend payout in cash</td>\n",
       "      <td>NaN</td>\n",
       "    </tr>\n",
       "    <tr>\n",
       "      <th>1</th>\n",
       "      <td>2</td>\n",
       "      <td>Dividend payout in stocks</td>\n",
       "      <td>NaN</td>\n",
       "    </tr>\n",
       "    <tr>\n",
       "      <th>2</th>\n",
       "      <td>3</td>\n",
       "      <td>Zero dividend policy</td>\n",
       "      <td>NaN</td>\n",
       "    </tr>\n",
       "    <tr>\n",
       "      <th>3</th>\n",
       "      <td>4</td>\n",
       "      <td>The distribution of the residue after the rein...</td>\n",
       "      <td>NaN</td>\n",
       "    </tr>\n",
       "    <tr>\n",
       "      <th>4</th>\n",
       "      <td>5</td>\n",
       "      <td>Fixed size of dividend payouts sum</td>\n",
       "      <td>NaN</td>\n",
       "    </tr>\n",
       "  </tbody>\n",
       "</table>\n",
       "</div>"
      ],
      "text/plain": [
       "   decision_id                                      decision_name Unnamed: 2\n",
       "0            1                            Dividend payout in cash        NaN\n",
       "1            2                          Dividend payout in stocks        NaN\n",
       "2            3                               Zero dividend policy        NaN\n",
       "3            4  The distribution of the residue after the rein...        NaN\n",
       "4            5                 Fixed size of dividend payouts sum        NaN"
      ]
     },
     "execution_count": 30,
     "metadata": {},
     "output_type": "execute_result"
    }
   ],
   "source": [
    "df_decision = pd.read_excel('decision.xlsx')\n",
    "df_decision.head(5)"
   ]
  },
  {
   "cell_type": "markdown",
   "id": "fe7b1923",
   "metadata": {},
   "source": [
    "Удалим пустой столбец"
   ]
  },
  {
   "cell_type": "code",
   "execution_count": 31,
   "id": "465f3197",
   "metadata": {},
   "outputs": [],
   "source": [
    "df_decision = df_decision.drop('Unnamed: 2', axis=1)"
   ]
  },
  {
   "cell_type": "code",
   "execution_count": 32,
   "id": "6fa3bf07",
   "metadata": {},
   "outputs": [
    {
     "data": {
      "text/plain": [
       "(437, 2)"
      ]
     },
     "execution_count": 32,
     "metadata": {},
     "output_type": "execute_result"
    }
   ],
   "source": [
    "df_decision.shape"
   ]
  },
  {
   "cell_type": "markdown",
   "id": "eef0aa15",
   "metadata": {},
   "source": [
    "Из данных видно, что перечень действий ограничен, соответственно нужно будет свести в одну таблицу Id пользователя, и количество конкретных действий, которые он совершал в каждый из периодов."
   ]
  },
  {
   "cell_type": "code",
   "execution_count": 33,
   "id": "87f55cbd",
   "metadata": {},
   "outputs": [],
   "source": [
    "# составим список из всех id действий\n",
    "list_decision = df_decision['decision_id'].unique()\n",
    "# составим список всех уникальных периодов\n",
    "list_period = range(1,5)\n",
    "\n",
    "\n",
    "# функция для добавление в датафрейм столбцов с действиями пользователей\n",
    "def get_decision_of_user(df, df_user_decision):\n",
    "    df_new = df.copy(deep=True)\n",
    "    for period in tqdm(list_period):\n",
    "        for decision in list_decision:\n",
    "            df_group_period = (df_user_decision[(df_user_decision['period']==period) & (df_user_decision['decision_id']==decision)]\n",
    "                       [['user_id', 'decision_id']].groupby(['user_id']).count())\n",
    "            df_group_period.columns = [ str(period) + '_' + str(decision)]\n",
    "            df_new = df_new.join(df_group_period, on='user_id')\n",
    "    df_new = df_new.fillna(0)\n",
    "    return df_new"
   ]
  },
  {
   "cell_type": "markdown",
   "id": "32b0c5c4",
   "metadata": {},
   "source": [
    "Заполним пустые значения 0"
   ]
  },
  {
   "cell_type": "code",
   "execution_count": 34,
   "id": "70e47b43",
   "metadata": {},
   "outputs": [
    {
     "name": "stderr",
     "output_type": "stream",
     "text": [
      "100%|████████████████████████████████████████████████████████████████████████████████████| 4/4 [00:18<00:00,  4.73s/it]\n",
      "100%|████████████████████████████████████████████████████████████████████████████████████| 4/4 [00:18<00:00,  4.59s/it]\n",
      "100%|████████████████████████████████████████████████████████████████████████████████████| 4/4 [00:18<00:00,  4.62s/it]\n",
      "100%|████████████████████████████████████████████████████████████████████████████████████| 4/4 [00:18<00:00,  4.71s/it]\n"
     ]
    }
   ],
   "source": [
    "X_train = get_decision_of_user(X_train, df_user_decision)\n",
    "X_val = get_decision_of_user(X_val, df_user_decision)\n",
    "X_test = get_decision_of_user(X_test, df_user_decision) \n",
    "X_final_test = get_decision_of_user(X_final_test, df_user_decision)"
   ]
  },
  {
   "cell_type": "code",
   "execution_count": 35,
   "id": "82938086",
   "metadata": {},
   "outputs": [
    {
     "data": {
      "text/html": [
       "<div>\n",
       "<style scoped>\n",
       "    .dataframe tbody tr th:only-of-type {\n",
       "        vertical-align: middle;\n",
       "    }\n",
       "\n",
       "    .dataframe tbody tr th {\n",
       "        vertical-align: top;\n",
       "    }\n",
       "\n",
       "    .dataframe thead th {\n",
       "        text-align: right;\n",
       "    }\n",
       "</style>\n",
       "<table border=\"1\" class=\"dataframe\">\n",
       "  <thead>\n",
       "    <tr style=\"text-align: right;\">\n",
       "      <th></th>\n",
       "      <th>user_id</th>\n",
       "      <th>team_id</th>\n",
       "      <th>1_1</th>\n",
       "      <th>1_2</th>\n",
       "      <th>1_3</th>\n",
       "      <th>1_4</th>\n",
       "      <th>1_5</th>\n",
       "      <th>1_6</th>\n",
       "      <th>1_7</th>\n",
       "      <th>1_8</th>\n",
       "      <th>...</th>\n",
       "      <th>4_429</th>\n",
       "      <th>4_430</th>\n",
       "      <th>4_431</th>\n",
       "      <th>4_432</th>\n",
       "      <th>4_433</th>\n",
       "      <th>4_434</th>\n",
       "      <th>4_435</th>\n",
       "      <th>4_436</th>\n",
       "      <th>4_437</th>\n",
       "      <th>4_438</th>\n",
       "    </tr>\n",
       "  </thead>\n",
       "  <tbody>\n",
       "    <tr>\n",
       "      <th>616</th>\n",
       "      <td>10421</td>\n",
       "      <td>1732</td>\n",
       "      <td>0.0</td>\n",
       "      <td>0.0</td>\n",
       "      <td>0.0</td>\n",
       "      <td>0.0</td>\n",
       "      <td>0.0</td>\n",
       "      <td>0.0</td>\n",
       "      <td>0.0</td>\n",
       "      <td>0.0</td>\n",
       "      <td>...</td>\n",
       "      <td>0.0</td>\n",
       "      <td>0.0</td>\n",
       "      <td>0.0</td>\n",
       "      <td>0.0</td>\n",
       "      <td>0.0</td>\n",
       "      <td>0.0</td>\n",
       "      <td>0.0</td>\n",
       "      <td>0.0</td>\n",
       "      <td>0.0</td>\n",
       "      <td>0.0</td>\n",
       "    </tr>\n",
       "    <tr>\n",
       "      <th>266</th>\n",
       "      <td>10212</td>\n",
       "      <td>1378</td>\n",
       "      <td>0.0</td>\n",
       "      <td>0.0</td>\n",
       "      <td>0.0</td>\n",
       "      <td>0.0</td>\n",
       "      <td>0.0</td>\n",
       "      <td>0.0</td>\n",
       "      <td>0.0</td>\n",
       "      <td>0.0</td>\n",
       "      <td>...</td>\n",
       "      <td>0.0</td>\n",
       "      <td>0.0</td>\n",
       "      <td>0.0</td>\n",
       "      <td>0.0</td>\n",
       "      <td>0.0</td>\n",
       "      <td>0.0</td>\n",
       "      <td>0.0</td>\n",
       "      <td>0.0</td>\n",
       "      <td>0.0</td>\n",
       "      <td>0.0</td>\n",
       "    </tr>\n",
       "    <tr>\n",
       "      <th>199</th>\n",
       "      <td>10506</td>\n",
       "      <td>1434</td>\n",
       "      <td>0.0</td>\n",
       "      <td>0.0</td>\n",
       "      <td>0.0</td>\n",
       "      <td>0.0</td>\n",
       "      <td>0.0</td>\n",
       "      <td>0.0</td>\n",
       "      <td>0.0</td>\n",
       "      <td>0.0</td>\n",
       "      <td>...</td>\n",
       "      <td>0.0</td>\n",
       "      <td>0.0</td>\n",
       "      <td>0.0</td>\n",
       "      <td>0.0</td>\n",
       "      <td>0.0</td>\n",
       "      <td>0.0</td>\n",
       "      <td>0.0</td>\n",
       "      <td>0.0</td>\n",
       "      <td>0.0</td>\n",
       "      <td>0.0</td>\n",
       "    </tr>\n",
       "    <tr>\n",
       "      <th>368</th>\n",
       "      <td>10095</td>\n",
       "      <td>1918</td>\n",
       "      <td>0.0</td>\n",
       "      <td>0.0</td>\n",
       "      <td>0.0</td>\n",
       "      <td>0.0</td>\n",
       "      <td>0.0</td>\n",
       "      <td>0.0</td>\n",
       "      <td>0.0</td>\n",
       "      <td>0.0</td>\n",
       "      <td>...</td>\n",
       "      <td>0.0</td>\n",
       "      <td>0.0</td>\n",
       "      <td>0.0</td>\n",
       "      <td>0.0</td>\n",
       "      <td>0.0</td>\n",
       "      <td>0.0</td>\n",
       "      <td>0.0</td>\n",
       "      <td>0.0</td>\n",
       "      <td>0.0</td>\n",
       "      <td>0.0</td>\n",
       "    </tr>\n",
       "    <tr>\n",
       "      <th>558</th>\n",
       "      <td>10200</td>\n",
       "      <td>1780</td>\n",
       "      <td>0.0</td>\n",
       "      <td>0.0</td>\n",
       "      <td>0.0</td>\n",
       "      <td>0.0</td>\n",
       "      <td>0.0</td>\n",
       "      <td>0.0</td>\n",
       "      <td>0.0</td>\n",
       "      <td>0.0</td>\n",
       "      <td>...</td>\n",
       "      <td>0.0</td>\n",
       "      <td>0.0</td>\n",
       "      <td>0.0</td>\n",
       "      <td>0.0</td>\n",
       "      <td>0.0</td>\n",
       "      <td>0.0</td>\n",
       "      <td>0.0</td>\n",
       "      <td>0.0</td>\n",
       "      <td>0.0</td>\n",
       "      <td>0.0</td>\n",
       "    </tr>\n",
       "  </tbody>\n",
       "</table>\n",
       "<p>5 rows × 1750 columns</p>\n",
       "</div>"
      ],
      "text/plain": [
       "     user_id  team_id  1_1  1_2  1_3  1_4  1_5  1_6  1_7  1_8  ...  4_429  \\\n",
       "616    10421     1732  0.0  0.0  0.0  0.0  0.0  0.0  0.0  0.0  ...    0.0   \n",
       "266    10212     1378  0.0  0.0  0.0  0.0  0.0  0.0  0.0  0.0  ...    0.0   \n",
       "199    10506     1434  0.0  0.0  0.0  0.0  0.0  0.0  0.0  0.0  ...    0.0   \n",
       "368    10095     1918  0.0  0.0  0.0  0.0  0.0  0.0  0.0  0.0  ...    0.0   \n",
       "558    10200     1780  0.0  0.0  0.0  0.0  0.0  0.0  0.0  0.0  ...    0.0   \n",
       "\n",
       "     4_430  4_431  4_432  4_433  4_434  4_435  4_436  4_437  4_438  \n",
       "616    0.0    0.0    0.0    0.0    0.0    0.0    0.0    0.0    0.0  \n",
       "266    0.0    0.0    0.0    0.0    0.0    0.0    0.0    0.0    0.0  \n",
       "199    0.0    0.0    0.0    0.0    0.0    0.0    0.0    0.0    0.0  \n",
       "368    0.0    0.0    0.0    0.0    0.0    0.0    0.0    0.0    0.0  \n",
       "558    0.0    0.0    0.0    0.0    0.0    0.0    0.0    0.0    0.0  \n",
       "\n",
       "[5 rows x 1750 columns]"
      ]
     },
     "execution_count": 35,
     "metadata": {},
     "output_type": "execute_result"
    }
   ],
   "source": [
    "X_train.head(5)"
   ]
  },
  {
   "cell_type": "markdown",
   "id": "4690365a",
   "metadata": {},
   "source": [
    "Изучим таблицу с данными о командах team_point.csv"
   ]
  },
  {
   "cell_type": "code",
   "execution_count": 36,
   "id": "f31cfbd9",
   "metadata": {},
   "outputs": [
    {
     "data": {
      "text/html": [
       "<div>\n",
       "<style scoped>\n",
       "    .dataframe tbody tr th:only-of-type {\n",
       "        vertical-align: middle;\n",
       "    }\n",
       "\n",
       "    .dataframe tbody tr th {\n",
       "        vertical-align: top;\n",
       "    }\n",
       "\n",
       "    .dataframe thead th {\n",
       "        text-align: right;\n",
       "    }\n",
       "</style>\n",
       "<table border=\"1\" class=\"dataframe\">\n",
       "  <thead>\n",
       "    <tr style=\"text-align: right;\">\n",
       "      <th></th>\n",
       "      <th>team_id</th>\n",
       "      <th>category_id</th>\n",
       "      <th>period</th>\n",
       "      <th>score</th>\n",
       "      <th>place</th>\n",
       "    </tr>\n",
       "  </thead>\n",
       "  <tbody>\n",
       "    <tr>\n",
       "      <th>0</th>\n",
       "      <td>1948</td>\n",
       "      <td>2</td>\n",
       "      <td>0</td>\n",
       "      <td>16</td>\n",
       "      <td>2</td>\n",
       "    </tr>\n",
       "    <tr>\n",
       "      <th>1</th>\n",
       "      <td>1934</td>\n",
       "      <td>3</td>\n",
       "      <td>4</td>\n",
       "      <td>45</td>\n",
       "      <td>6</td>\n",
       "    </tr>\n",
       "    <tr>\n",
       "      <th>2</th>\n",
       "      <td>1894</td>\n",
       "      <td>4</td>\n",
       "      <td>8</td>\n",
       "      <td>24</td>\n",
       "      <td>4</td>\n",
       "    </tr>\n",
       "    <tr>\n",
       "      <th>3</th>\n",
       "      <td>1688</td>\n",
       "      <td>4</td>\n",
       "      <td>0</td>\n",
       "      <td>27</td>\n",
       "      <td>4</td>\n",
       "    </tr>\n",
       "    <tr>\n",
       "      <th>4</th>\n",
       "      <td>1592</td>\n",
       "      <td>4</td>\n",
       "      <td>2</td>\n",
       "      <td>21</td>\n",
       "      <td>5</td>\n",
       "    </tr>\n",
       "  </tbody>\n",
       "</table>\n",
       "</div>"
      ],
      "text/plain": [
       "   team_id  category_id  period  score  place\n",
       "0     1948            2       0     16      2\n",
       "1     1934            3       4     45      6\n",
       "2     1894            4       8     24      4\n",
       "3     1688            4       0     27      4\n",
       "4     1592            4       2     21      5"
      ]
     },
     "execution_count": 36,
     "metadata": {},
     "output_type": "execute_result"
    }
   ],
   "source": [
    "df_team_point = pd.read_csv('team_point.csv')\n",
    "df_team_point.head(5)"
   ]
  },
  {
   "cell_type": "code",
   "execution_count": 37,
   "id": "703416b3",
   "metadata": {},
   "outputs": [
    {
     "data": {
      "text/plain": [
       "(10986, 5)"
      ]
     },
     "execution_count": 37,
     "metadata": {},
     "output_type": "execute_result"
    }
   ],
   "source": [
    "df_team_point.shape"
   ]
  },
  {
   "cell_type": "markdown",
   "id": "c77829bd",
   "metadata": {},
   "source": [
    "По первоначальным данным создаётся ощущение, что периоды пользователей и периоды команд не коррелируются(у команд явно есть и 0 и 8 период). Для наглядности выведем диаграмму"
   ]
  },
  {
   "cell_type": "code",
   "execution_count": 38,
   "id": "6a8fab74",
   "metadata": {},
   "outputs": [
    {
     "data": {
      "text/plain": [
       "Text(0, 0.5, 'Количество оценок')"
      ]
     },
     "execution_count": 38,
     "metadata": {},
     "output_type": "execute_result"
    },
    {
     "data": {
      "image/png": "[encoded data removed]",
      "text/plain": [
       "<Figure size 800x500 with 1 Axes>"
      ]
     },
     "metadata": {},
     "output_type": "display_data"
    }
   ],
   "source": [
    "plt.figure(figsize=(8, 5))\n",
    "sns.countplot(x = 'period' , data  = df_team_point)\n",
    "plt.title('Распределение количества оценок в каждом периоде для командного зачёта')\n",
    "plt.xlabel('Период')\n",
    "plt.ylabel('Количество оценок')"
   ]
  },
  {
   "cell_type": "markdown",
   "id": "11920767",
   "metadata": {},
   "source": [
    "Действительно количество этапов отличается. Крое того начиная с 5 этапа количество участников значительно снижается. Согласно разъяснению организаторов это тренировочные игры и не влияют на оценки игроков. Поэтому удалим их."
   ]
  },
  {
   "cell_type": "code",
   "execution_count": 39,
   "id": "e2daf04c",
   "metadata": {},
   "outputs": [],
   "source": [
    "df_team_point = df_team_point[df_team_point['period']<5]"
   ]
  },
  {
   "cell_type": "markdown",
   "id": "688573e5",
   "metadata": {},
   "source": [
    "Изучим распределение оценок для команд"
   ]
  },
  {
   "cell_type": "code",
   "execution_count": 40,
   "id": "3e98e481",
   "metadata": {},
   "outputs": [
    {
     "data": {
      "text/plain": [
       " 27     477\n",
       " 8      472\n",
       " 16     435\n",
       " 4      431\n",
       " 103    381\n",
       "       ... \n",
       "-75       1\n",
       " 315      1\n",
       " 311      1\n",
       " 293      1\n",
       " 287      1\n",
       "Name: score, Length: 406, dtype: int64"
      ]
     },
     "execution_count": 40,
     "metadata": {},
     "output_type": "execute_result"
    }
   ],
   "source": [
    "df_team_point['score'].value_counts()"
   ]
  },
  {
   "cell_type": "code",
   "execution_count": 41,
   "id": "632c2861",
   "metadata": {},
   "outputs": [
    {
     "data": {
      "text/plain": [
       "Text(0, 0.5, 'Количество оценок')"
      ]
     },
     "execution_count": 41,
     "metadata": {},
     "output_type": "execute_result"
    },
    {
     "data": {
      "image/png": "[encoded data removed]",
      "text/plain": [
       "<Figure size 1000x600 with 1 Axes>"
      ]
     },
     "metadata": {},
     "output_type": "display_data"
    }
   ],
   "source": [
    "plt.figure(figsize=(10, 6))\n",
    "sns.histplot(x = 'score' , data  = df_team_point)\n",
    "plt.title('Распределение оценок команд')\n",
    "plt.xlabel('Оценки команд')\n",
    "plt.ylabel('Количество оценок')"
   ]
  },
  {
   "cell_type": "markdown",
   "id": "73952eea",
   "metadata": {},
   "source": [
    "Как видно, оценки имеют большой разброс Основная часть сосредоточена в диапазоне от -50 до 200. При этом наблюдаются сильные пики в районе 50, 100 и 150 баллов."
   ]
  },
  {
   "cell_type": "markdown",
   "id": "1a487d21",
   "metadata": {},
   "source": [
    "Развернём данную таблицу так чтобы её удобнее было присоединить к таблице пользователей. В конечном результате должна получиться таблица с id команды и со столбцами код_периода_код_категории"
   ]
  },
  {
   "cell_type": "code",
   "execution_count": 42,
   "id": "7373642e",
   "metadata": {},
   "outputs": [
    {
     "name": "stderr",
     "output_type": "stream",
     "text": [
      "100%|████████████████████████████████████████████████████████████████████████████████████| 5/5 [00:00<00:00, 70.61it/s]\n"
     ]
    }
   ],
   "source": [
    "# составим список из всех category_id \n",
    "list_category_id = df_team_point['category_id'].unique()\n",
    "# составим список всех уникальных периодов команд\n",
    "list_period_team = df_team_point['period'].unique()\n",
    "# создадим датафрейм со столбцом уникальных id команд\n",
    "df_new_team_point = pd.DataFrame({'team_id': df_team_point['team_id'].unique()})\n",
    "\n",
    "\n",
    "for period in tqdm(list_period_team):\n",
    "    for category in list_category_id:\n",
    "        df_category_period = (df_team_point[(df_team_point['period']==period) & (df_team_point['category_id']==category)]\n",
    "                   [['team_id', 'score', 'place']])\n",
    "        df_category_period.columns = ['team_id', \n",
    "                                      'score_' + str(period) + '_' + str(category), \n",
    "                                      'place_'+str(period) + '_' + str(category)]\n",
    "        df_new_team_point = df_new_team_point.merge(df_category_period, on='team_id', how='left')  "
   ]
  },
  {
   "cell_type": "code",
   "execution_count": 43,
   "id": "5d91c702",
   "metadata": {},
   "outputs": [
    {
     "data": {
      "text/html": [
       "<div>\n",
       "<style scoped>\n",
       "    .dataframe tbody tr th:only-of-type {\n",
       "        vertical-align: middle;\n",
       "    }\n",
       "\n",
       "    .dataframe tbody tr th {\n",
       "        vertical-align: top;\n",
       "    }\n",
       "\n",
       "    .dataframe thead th {\n",
       "        text-align: right;\n",
       "    }\n",
       "</style>\n",
       "<table border=\"1\" class=\"dataframe\">\n",
       "  <thead>\n",
       "    <tr style=\"text-align: right;\">\n",
       "      <th></th>\n",
       "      <th>team_id</th>\n",
       "      <th>score_0_2</th>\n",
       "      <th>place_0_2</th>\n",
       "      <th>score_0_3</th>\n",
       "      <th>place_0_3</th>\n",
       "      <th>score_0_4</th>\n",
       "      <th>place_0_4</th>\n",
       "      <th>score_0_5</th>\n",
       "      <th>place_0_5</th>\n",
       "      <th>score_0_6</th>\n",
       "      <th>...</th>\n",
       "      <th>score_3_3</th>\n",
       "      <th>place_3_3</th>\n",
       "      <th>score_3_4</th>\n",
       "      <th>place_3_4</th>\n",
       "      <th>score_3_5</th>\n",
       "      <th>place_3_5</th>\n",
       "      <th>score_3_6</th>\n",
       "      <th>place_3_6</th>\n",
       "      <th>score_3_1</th>\n",
       "      <th>place_3_1</th>\n",
       "    </tr>\n",
       "  </thead>\n",
       "  <tbody>\n",
       "    <tr>\n",
       "      <th>0</th>\n",
       "      <td>1948</td>\n",
       "      <td>16</td>\n",
       "      <td>2</td>\n",
       "      <td>103</td>\n",
       "      <td>2</td>\n",
       "      <td>27</td>\n",
       "      <td>2</td>\n",
       "      <td>8</td>\n",
       "      <td>2</td>\n",
       "      <td>158</td>\n",
       "      <td>...</td>\n",
       "      <td>59</td>\n",
       "      <td>4</td>\n",
       "      <td>24</td>\n",
       "      <td>5</td>\n",
       "      <td>23</td>\n",
       "      <td>6</td>\n",
       "      <td>83</td>\n",
       "      <td>5</td>\n",
       "      <td>-4</td>\n",
       "      <td>5</td>\n",
       "    </tr>\n",
       "    <tr>\n",
       "      <th>1</th>\n",
       "      <td>1934</td>\n",
       "      <td>16</td>\n",
       "      <td>2</td>\n",
       "      <td>103</td>\n",
       "      <td>2</td>\n",
       "      <td>27</td>\n",
       "      <td>2</td>\n",
       "      <td>8</td>\n",
       "      <td>2</td>\n",
       "      <td>158</td>\n",
       "      <td>...</td>\n",
       "      <td>55</td>\n",
       "      <td>5</td>\n",
       "      <td>23</td>\n",
       "      <td>5</td>\n",
       "      <td>26</td>\n",
       "      <td>5</td>\n",
       "      <td>80</td>\n",
       "      <td>4</td>\n",
       "      <td>-6</td>\n",
       "      <td>4</td>\n",
       "    </tr>\n",
       "    <tr>\n",
       "      <th>2</th>\n",
       "      <td>1688</td>\n",
       "      <td>16</td>\n",
       "      <td>4</td>\n",
       "      <td>103</td>\n",
       "      <td>4</td>\n",
       "      <td>27</td>\n",
       "      <td>4</td>\n",
       "      <td>8</td>\n",
       "      <td>4</td>\n",
       "      <td>158</td>\n",
       "      <td>...</td>\n",
       "      <td>55</td>\n",
       "      <td>5</td>\n",
       "      <td>22</td>\n",
       "      <td>4</td>\n",
       "      <td>15</td>\n",
       "      <td>6</td>\n",
       "      <td>64</td>\n",
       "      <td>6</td>\n",
       "      <td>-4</td>\n",
       "      <td>5</td>\n",
       "    </tr>\n",
       "    <tr>\n",
       "      <th>3</th>\n",
       "      <td>1592</td>\n",
       "      <td>16</td>\n",
       "      <td>2</td>\n",
       "      <td>103</td>\n",
       "      <td>2</td>\n",
       "      <td>27</td>\n",
       "      <td>2</td>\n",
       "      <td>8</td>\n",
       "      <td>2</td>\n",
       "      <td>158</td>\n",
       "      <td>...</td>\n",
       "      <td>65</td>\n",
       "      <td>2</td>\n",
       "      <td>26</td>\n",
       "      <td>2</td>\n",
       "      <td>40</td>\n",
       "      <td>4</td>\n",
       "      <td>187</td>\n",
       "      <td>2</td>\n",
       "      <td>20</td>\n",
       "      <td>1</td>\n",
       "    </tr>\n",
       "    <tr>\n",
       "      <th>4</th>\n",
       "      <td>1344</td>\n",
       "      <td>16</td>\n",
       "      <td>6</td>\n",
       "      <td>103</td>\n",
       "      <td>6</td>\n",
       "      <td>27</td>\n",
       "      <td>6</td>\n",
       "      <td>8</td>\n",
       "      <td>6</td>\n",
       "      <td>158</td>\n",
       "      <td>...</td>\n",
       "      <td>61</td>\n",
       "      <td>6</td>\n",
       "      <td>27</td>\n",
       "      <td>5</td>\n",
       "      <td>19</td>\n",
       "      <td>5</td>\n",
       "      <td>117</td>\n",
       "      <td>5</td>\n",
       "      <td>3</td>\n",
       "      <td>5</td>\n",
       "    </tr>\n",
       "  </tbody>\n",
       "</table>\n",
       "<p>5 rows × 61 columns</p>\n",
       "</div>"
      ],
      "text/plain": [
       "   team_id  score_0_2  place_0_2  score_0_3  place_0_3  score_0_4  place_0_4  \\\n",
       "0     1948         16          2        103          2         27          2   \n",
       "1     1934         16          2        103          2         27          2   \n",
       "2     1688         16          4        103          4         27          4   \n",
       "3     1592         16          2        103          2         27          2   \n",
       "4     1344         16          6        103          6         27          6   \n",
       "\n",
       "   score_0_5  place_0_5  score_0_6  ...  score_3_3  place_3_3  score_3_4  \\\n",
       "0          8          2        158  ...         59          4         24   \n",
       "1          8          2        158  ...         55          5         23   \n",
       "2          8          4        158  ...         55          5         22   \n",
       "3          8          2        158  ...         65          2         26   \n",
       "4          8          6        158  ...         61          6         27   \n",
       "\n",
       "   place_3_4  score_3_5  place_3_5  score_3_6  place_3_6  score_3_1  place_3_1  \n",
       "0          5         23          6         83          5         -4          5  \n",
       "1          5         26          5         80          4         -6          4  \n",
       "2          4         15          6         64          6         -4          5  \n",
       "3          2         40          4        187          2         20          1  \n",
       "4          5         19          5        117          5          3          5  \n",
       "\n",
       "[5 rows x 61 columns]"
      ]
     },
     "execution_count": 43,
     "metadata": {},
     "output_type": "execute_result"
    }
   ],
   "source": [
    "df_new_team_point.head(5)"
   ]
  },
  {
   "cell_type": "markdown",
   "id": "cb91151b",
   "metadata": {},
   "source": [
    "Заполним пропуски в столбцах. При этом необходимо учесть, что баллы должны заполняться ниже минимальных, а места наоборот выше максимальных значений. "
   ]
  },
  {
   "cell_type": "code",
   "execution_count": 44,
   "id": "3c8b3aee",
   "metadata": {},
   "outputs": [],
   "source": [
    "for column in df_new_team_point.columns:\n",
    "    if column.count('score') == 1:\n",
    "        df_new_team_point[column].fillna(df_new_team_point[column].min()-1, inplace=True)\n",
    "    elif column.count('place') == 1:\n",
    "        df_new_team_point[column].fillna(df_new_team_point[column].max()+1, inplace=True)"
   ]
  },
  {
   "cell_type": "code",
   "execution_count": 45,
   "id": "201bc6b8",
   "metadata": {},
   "outputs": [
    {
     "data": {
      "text/html": [
       "<div>\n",
       "<style scoped>\n",
       "    .dataframe tbody tr th:only-of-type {\n",
       "        vertical-align: middle;\n",
       "    }\n",
       "\n",
       "    .dataframe tbody tr th {\n",
       "        vertical-align: top;\n",
       "    }\n",
       "\n",
       "    .dataframe thead th {\n",
       "        text-align: right;\n",
       "    }\n",
       "</style>\n",
       "<table border=\"1\" class=\"dataframe\">\n",
       "  <thead>\n",
       "    <tr style=\"text-align: right;\">\n",
       "      <th></th>\n",
       "      <th>team_id</th>\n",
       "      <th>score_0_2</th>\n",
       "      <th>place_0_2</th>\n",
       "      <th>score_0_3</th>\n",
       "      <th>place_0_3</th>\n",
       "      <th>score_0_4</th>\n",
       "      <th>place_0_4</th>\n",
       "      <th>score_0_5</th>\n",
       "      <th>place_0_5</th>\n",
       "      <th>score_0_6</th>\n",
       "      <th>...</th>\n",
       "      <th>score_3_3</th>\n",
       "      <th>place_3_3</th>\n",
       "      <th>score_3_4</th>\n",
       "      <th>place_3_4</th>\n",
       "      <th>score_3_5</th>\n",
       "      <th>place_3_5</th>\n",
       "      <th>score_3_6</th>\n",
       "      <th>place_3_6</th>\n",
       "      <th>score_3_1</th>\n",
       "      <th>place_3_1</th>\n",
       "    </tr>\n",
       "  </thead>\n",
       "  <tbody>\n",
       "    <tr>\n",
       "      <th>0</th>\n",
       "      <td>1948</td>\n",
       "      <td>16</td>\n",
       "      <td>2</td>\n",
       "      <td>103</td>\n",
       "      <td>2</td>\n",
       "      <td>27</td>\n",
       "      <td>2</td>\n",
       "      <td>8</td>\n",
       "      <td>2</td>\n",
       "      <td>158</td>\n",
       "      <td>...</td>\n",
       "      <td>59</td>\n",
       "      <td>4</td>\n",
       "      <td>24</td>\n",
       "      <td>5</td>\n",
       "      <td>23</td>\n",
       "      <td>6</td>\n",
       "      <td>83</td>\n",
       "      <td>5</td>\n",
       "      <td>-4</td>\n",
       "      <td>5</td>\n",
       "    </tr>\n",
       "    <tr>\n",
       "      <th>1</th>\n",
       "      <td>1934</td>\n",
       "      <td>16</td>\n",
       "      <td>2</td>\n",
       "      <td>103</td>\n",
       "      <td>2</td>\n",
       "      <td>27</td>\n",
       "      <td>2</td>\n",
       "      <td>8</td>\n",
       "      <td>2</td>\n",
       "      <td>158</td>\n",
       "      <td>...</td>\n",
       "      <td>55</td>\n",
       "      <td>5</td>\n",
       "      <td>23</td>\n",
       "      <td>5</td>\n",
       "      <td>26</td>\n",
       "      <td>5</td>\n",
       "      <td>80</td>\n",
       "      <td>4</td>\n",
       "      <td>-6</td>\n",
       "      <td>4</td>\n",
       "    </tr>\n",
       "    <tr>\n",
       "      <th>2</th>\n",
       "      <td>1688</td>\n",
       "      <td>16</td>\n",
       "      <td>4</td>\n",
       "      <td>103</td>\n",
       "      <td>4</td>\n",
       "      <td>27</td>\n",
       "      <td>4</td>\n",
       "      <td>8</td>\n",
       "      <td>4</td>\n",
       "      <td>158</td>\n",
       "      <td>...</td>\n",
       "      <td>55</td>\n",
       "      <td>5</td>\n",
       "      <td>22</td>\n",
       "      <td>4</td>\n",
       "      <td>15</td>\n",
       "      <td>6</td>\n",
       "      <td>64</td>\n",
       "      <td>6</td>\n",
       "      <td>-4</td>\n",
       "      <td>5</td>\n",
       "    </tr>\n",
       "    <tr>\n",
       "      <th>3</th>\n",
       "      <td>1592</td>\n",
       "      <td>16</td>\n",
       "      <td>2</td>\n",
       "      <td>103</td>\n",
       "      <td>2</td>\n",
       "      <td>27</td>\n",
       "      <td>2</td>\n",
       "      <td>8</td>\n",
       "      <td>2</td>\n",
       "      <td>158</td>\n",
       "      <td>...</td>\n",
       "      <td>65</td>\n",
       "      <td>2</td>\n",
       "      <td>26</td>\n",
       "      <td>2</td>\n",
       "      <td>40</td>\n",
       "      <td>4</td>\n",
       "      <td>187</td>\n",
       "      <td>2</td>\n",
       "      <td>20</td>\n",
       "      <td>1</td>\n",
       "    </tr>\n",
       "    <tr>\n",
       "      <th>4</th>\n",
       "      <td>1344</td>\n",
       "      <td>16</td>\n",
       "      <td>6</td>\n",
       "      <td>103</td>\n",
       "      <td>6</td>\n",
       "      <td>27</td>\n",
       "      <td>6</td>\n",
       "      <td>8</td>\n",
       "      <td>6</td>\n",
       "      <td>158</td>\n",
       "      <td>...</td>\n",
       "      <td>61</td>\n",
       "      <td>6</td>\n",
       "      <td>27</td>\n",
       "      <td>5</td>\n",
       "      <td>19</td>\n",
       "      <td>5</td>\n",
       "      <td>117</td>\n",
       "      <td>5</td>\n",
       "      <td>3</td>\n",
       "      <td>5</td>\n",
       "    </tr>\n",
       "  </tbody>\n",
       "</table>\n",
       "<p>5 rows × 61 columns</p>\n",
       "</div>"
      ],
      "text/plain": [
       "   team_id  score_0_2  place_0_2  score_0_3  place_0_3  score_0_4  place_0_4  \\\n",
       "0     1948         16          2        103          2         27          2   \n",
       "1     1934         16          2        103          2         27          2   \n",
       "2     1688         16          4        103          4         27          4   \n",
       "3     1592         16          2        103          2         27          2   \n",
       "4     1344         16          6        103          6         27          6   \n",
       "\n",
       "   score_0_5  place_0_5  score_0_6  ...  score_3_3  place_3_3  score_3_4  \\\n",
       "0          8          2        158  ...         59          4         24   \n",
       "1          8          2        158  ...         55          5         23   \n",
       "2          8          4        158  ...         55          5         22   \n",
       "3          8          2        158  ...         65          2         26   \n",
       "4          8          6        158  ...         61          6         27   \n",
       "\n",
       "   place_3_4  score_3_5  place_3_5  score_3_6  place_3_6  score_3_1  place_3_1  \n",
       "0          5         23          6         83          5         -4          5  \n",
       "1          5         26          5         80          4         -6          4  \n",
       "2          4         15          6         64          6         -4          5  \n",
       "3          2         40          4        187          2         20          1  \n",
       "4          5         19          5        117          5          3          5  \n",
       "\n",
       "[5 rows x 61 columns]"
      ]
     },
     "execution_count": 45,
     "metadata": {},
     "output_type": "execute_result"
    }
   ],
   "source": [
    "df_new_team_point.head(5)"
   ]
  },
  {
   "cell_type": "markdown",
   "id": "0e29c1f0",
   "metadata": {},
   "source": [
    "Присоединим к первоначальным таблицам таблицу с результатами команд"
   ]
  },
  {
   "cell_type": "code",
   "execution_count": 46,
   "id": "4c246da6",
   "metadata": {},
   "outputs": [],
   "source": [
    "X_train = X_train.merge(df_new_team_point, on='team_id', how='left')  \n",
    "X_val = X_val.merge(df_new_team_point, on='team_id', how='left')  \n",
    "X_test = X_test.merge(df_new_team_point, on='team_id', how='left')  \n",
    "X_final_test = X_final_test.merge(df_new_team_point, on='team_id', how='left')  "
   ]
  },
  {
   "cell_type": "code",
   "execution_count": 47,
   "id": "32ba2fc9",
   "metadata": {},
   "outputs": [
    {
     "data": {
      "text/html": [
       "<div>\n",
       "<style scoped>\n",
       "    .dataframe tbody tr th:only-of-type {\n",
       "        vertical-align: middle;\n",
       "    }\n",
       "\n",
       "    .dataframe tbody tr th {\n",
       "        vertical-align: top;\n",
       "    }\n",
       "\n",
       "    .dataframe thead th {\n",
       "        text-align: right;\n",
       "    }\n",
       "</style>\n",
       "<table border=\"1\" class=\"dataframe\">\n",
       "  <thead>\n",
       "    <tr style=\"text-align: right;\">\n",
       "      <th></th>\n",
       "      <th>user_id</th>\n",
       "      <th>team_id</th>\n",
       "      <th>1_1</th>\n",
       "      <th>1_2</th>\n",
       "      <th>1_3</th>\n",
       "      <th>1_4</th>\n",
       "      <th>1_5</th>\n",
       "      <th>1_6</th>\n",
       "      <th>1_7</th>\n",
       "      <th>1_8</th>\n",
       "      <th>...</th>\n",
       "      <th>score_3_3</th>\n",
       "      <th>place_3_3</th>\n",
       "      <th>score_3_4</th>\n",
       "      <th>place_3_4</th>\n",
       "      <th>score_3_5</th>\n",
       "      <th>place_3_5</th>\n",
       "      <th>score_3_6</th>\n",
       "      <th>place_3_6</th>\n",
       "      <th>score_3_1</th>\n",
       "      <th>place_3_1</th>\n",
       "    </tr>\n",
       "  </thead>\n",
       "  <tbody>\n",
       "    <tr>\n",
       "      <th>0</th>\n",
       "      <td>10421</td>\n",
       "      <td>1732</td>\n",
       "      <td>0.0</td>\n",
       "      <td>0.0</td>\n",
       "      <td>0.0</td>\n",
       "      <td>0.0</td>\n",
       "      <td>0.0</td>\n",
       "      <td>0.0</td>\n",
       "      <td>0.0</td>\n",
       "      <td>0.0</td>\n",
       "      <td>...</td>\n",
       "      <td>82</td>\n",
       "      <td>2</td>\n",
       "      <td>29</td>\n",
       "      <td>3</td>\n",
       "      <td>21</td>\n",
       "      <td>5</td>\n",
       "      <td>178</td>\n",
       "      <td>1</td>\n",
       "      <td>16</td>\n",
       "      <td>1</td>\n",
       "    </tr>\n",
       "    <tr>\n",
       "      <th>1</th>\n",
       "      <td>10212</td>\n",
       "      <td>1378</td>\n",
       "      <td>0.0</td>\n",
       "      <td>0.0</td>\n",
       "      <td>0.0</td>\n",
       "      <td>0.0</td>\n",
       "      <td>0.0</td>\n",
       "      <td>0.0</td>\n",
       "      <td>0.0</td>\n",
       "      <td>0.0</td>\n",
       "      <td>...</td>\n",
       "      <td>56</td>\n",
       "      <td>4</td>\n",
       "      <td>32</td>\n",
       "      <td>1</td>\n",
       "      <td>57</td>\n",
       "      <td>1</td>\n",
       "      <td>190</td>\n",
       "      <td>1</td>\n",
       "      <td>10</td>\n",
       "      <td>4</td>\n",
       "    </tr>\n",
       "    <tr>\n",
       "      <th>2</th>\n",
       "      <td>10506</td>\n",
       "      <td>1434</td>\n",
       "      <td>0.0</td>\n",
       "      <td>0.0</td>\n",
       "      <td>0.0</td>\n",
       "      <td>0.0</td>\n",
       "      <td>0.0</td>\n",
       "      <td>0.0</td>\n",
       "      <td>0.0</td>\n",
       "      <td>0.0</td>\n",
       "      <td>...</td>\n",
       "      <td>43</td>\n",
       "      <td>6</td>\n",
       "      <td>5</td>\n",
       "      <td>6</td>\n",
       "      <td>30</td>\n",
       "      <td>5</td>\n",
       "      <td>-11</td>\n",
       "      <td>6</td>\n",
       "      <td>-26</td>\n",
       "      <td>6</td>\n",
       "    </tr>\n",
       "    <tr>\n",
       "      <th>3</th>\n",
       "      <td>10095</td>\n",
       "      <td>1918</td>\n",
       "      <td>0.0</td>\n",
       "      <td>0.0</td>\n",
       "      <td>0.0</td>\n",
       "      <td>0.0</td>\n",
       "      <td>0.0</td>\n",
       "      <td>0.0</td>\n",
       "      <td>0.0</td>\n",
       "      <td>0.0</td>\n",
       "      <td>...</td>\n",
       "      <td>68</td>\n",
       "      <td>2</td>\n",
       "      <td>38</td>\n",
       "      <td>1</td>\n",
       "      <td>36</td>\n",
       "      <td>3</td>\n",
       "      <td>179</td>\n",
       "      <td>2</td>\n",
       "      <td>14</td>\n",
       "      <td>2</td>\n",
       "    </tr>\n",
       "    <tr>\n",
       "      <th>4</th>\n",
       "      <td>10200</td>\n",
       "      <td>1780</td>\n",
       "      <td>0.0</td>\n",
       "      <td>0.0</td>\n",
       "      <td>0.0</td>\n",
       "      <td>0.0</td>\n",
       "      <td>0.0</td>\n",
       "      <td>0.0</td>\n",
       "      <td>0.0</td>\n",
       "      <td>0.0</td>\n",
       "      <td>...</td>\n",
       "      <td>52</td>\n",
       "      <td>5</td>\n",
       "      <td>15</td>\n",
       "      <td>5</td>\n",
       "      <td>28</td>\n",
       "      <td>5</td>\n",
       "      <td>35</td>\n",
       "      <td>6</td>\n",
       "      <td>-14</td>\n",
       "      <td>5</td>\n",
       "    </tr>\n",
       "  </tbody>\n",
       "</table>\n",
       "<p>5 rows × 1810 columns</p>\n",
       "</div>"
      ],
      "text/plain": [
       "   user_id  team_id  1_1  1_2  1_3  1_4  1_5  1_6  1_7  1_8  ...  score_3_3  \\\n",
       "0    10421     1732  0.0  0.0  0.0  0.0  0.0  0.0  0.0  0.0  ...         82   \n",
       "1    10212     1378  0.0  0.0  0.0  0.0  0.0  0.0  0.0  0.0  ...         56   \n",
       "2    10506     1434  0.0  0.0  0.0  0.0  0.0  0.0  0.0  0.0  ...         43   \n",
       "3    10095     1918  0.0  0.0  0.0  0.0  0.0  0.0  0.0  0.0  ...         68   \n",
       "4    10200     1780  0.0  0.0  0.0  0.0  0.0  0.0  0.0  0.0  ...         52   \n",
       "\n",
       "   place_3_3  score_3_4  place_3_4  score_3_5  place_3_5  score_3_6  \\\n",
       "0          2         29          3         21          5        178   \n",
       "1          4         32          1         57          1        190   \n",
       "2          6          5          6         30          5        -11   \n",
       "3          2         38          1         36          3        179   \n",
       "4          5         15          5         28          5         35   \n",
       "\n",
       "   place_3_6  score_3_1  place_3_1  \n",
       "0          1         16          1  \n",
       "1          1         10          4  \n",
       "2          6        -26          6  \n",
       "3          2         14          2  \n",
       "4          6        -14          5  \n",
       "\n",
       "[5 rows x 1810 columns]"
      ]
     },
     "execution_count": 47,
     "metadata": {},
     "output_type": "execute_result"
    }
   ],
   "source": [
    "X_train.head(5)"
   ]
  },
  {
   "cell_type": "markdown",
   "id": "06f23986",
   "metadata": {},
   "source": [
    "Выделим выборку для обучения и финальную для загрузки на сайт"
   ]
  },
  {
   "cell_type": "markdown",
   "id": "fc0755b0",
   "metadata": {},
   "source": [
    "Удалим в датасетах столбцы с id пользователя и команды"
   ]
  },
  {
   "cell_type": "code",
   "execution_count": 48,
   "id": "3bf3667f",
   "metadata": {
    "scrolled": true
   },
   "outputs": [],
   "source": [
    "X_train = X_train.drop(['user_id', 'team_id'], axis=1)\n",
    "X_val = X_val.drop(['user_id', 'team_id'], axis=1)\n",
    "X_test = X_test.drop(['user_id', 'team_id'], axis=1)   "
   ]
  },
  {
   "cell_type": "markdown",
   "id": "5e11799b",
   "metadata": {},
   "source": [
    "## Создание моделей для предсказания результатов"
   ]
  },
  {
   "cell_type": "markdown",
   "id": "993dd483",
   "metadata": {},
   "source": [
    "Для решения данной задачи создадим отдельную модель для предсказания каждого из признаков и подберём оптимальные гиперпараметры для них. После этого обучим все получившиеся модели, проверим их на тестовой выборке и сделаем предсказание на финальном тесте."
   ]
  },
  {
   "cell_type": "markdown",
   "id": "dc5a7f23",
   "metadata": {},
   "source": [
    "### Подбор моделей и оптимальных гиперпараметров"
   ]
  },
  {
   "cell_type": "markdown",
   "id": "c24cfcd6",
   "metadata": {},
   "source": [
    "Протестируем несколько моделей и подберём оптимальную для предсказания каждого навыка. Для этого создажим функцию, которая на вход принимает тренировочный и валидационный датасет и находить оптимальные гиперпараметры для ряда, наиболее подходящих моделей."
   ]
  },
  {
   "cell_type": "code",
   "execution_count": 49,
   "id": "d6060688",
   "metadata": {},
   "outputs": [],
   "source": [
    "def get_predicator(X_tr, y_tr, X_v, y_v):\n",
    "    #SGDClassifier\n",
    "    lin_clf = SGDClassifier(random_state=159, \n",
    "                            penalty='elasticnet', \n",
    "                            l1_ratio=0.5)\n",
    "    lin_clf.fit(X_tr, y_tr)\n",
    "    y_pred = lin_clf.predict(X_v)\n",
    "    print('Метрика для SGDClassifier с параметрами по умолчанию', recall_score(y_v, y_pred, average='macro'))\n",
    "    \n",
    "    param = {'alpha': np.arange(0.5, 10, 0.5),\n",
    "             'l1_ratio': np.arange(0.1, 1.1, 0.1)}\n",
    "    lin_clf = SGDClassifier(random_state=159, \n",
    "                             penalty='elasticnet')\n",
    "    lin_grid_clf = GridSearchCV(lin_clf,\n",
    "                                       param,     \n",
    "                                       n_jobs=-1,\n",
    "                                       cv=3,\n",
    "                                       scoring='recall_macro',\n",
    "                                       verbose=False)\n",
    "    lin_grid_clf.fit(X_tr, y_tr)\n",
    "    print('Оптимальные параметры для SGDClassifier', lin_grid_clf.best_params_)\n",
    "    print('Метрика для SGDClassifier на кроссвалидации', lin_grid_clf.best_score_)\n",
    "    y_pred = lin_grid_clf.best_estimator_.predict(X_v)\n",
    "    print('Метрика для SGDClassifier с оптимальными параметрами', recall_score(y_v, y_pred, average='macro'))\n",
    "    print('')\n",
    "    \n",
    "    \n",
    "    #RandomForestClassifier\n",
    "    rnd_clf_analytical = RandomForestClassifier(random_state=159)\n",
    "    rnd_clf_analytical.fit(X_tr, y_tr)\n",
    "    y_pred = rnd_clf_analytical.predict(X_v)\n",
    "    print('Метрика для RandomForestClassifier с параметрами по умолчанию', recall_score(y_v, y_pred, average='macro'))\n",
    "   \n",
    "    param = {'max_depth': range(1, 101, 10), 'n_estimators': range(20, 1001, 20)}\n",
    "    rnd_clf = RandomForestClassifier(random_state=159)\n",
    "    rnd_grid_clf = GridSearchCV(rnd_clf,\n",
    "                           param,\n",
    "                           n_jobs=-1,\n",
    "                           cv=3,\n",
    "                           scoring='recall_macro',\n",
    "                           verbose=False)\n",
    "    rnd_grid_clf.fit(X_tr, y_tr)\n",
    "    print('Оптимальные параметры для RandomForestClassifier', rnd_grid_clf.best_params_)\n",
    "    print('Метрика для RandomForestClassifier на кроссвалидации', rnd_grid_clf.best_score_)\n",
    "    y_pred = rnd_grid_clf.best_estimator_.predict(X_v)\n",
    "    print('Метрика для RandomForestClassifier с оптимальными параметрами', recall_score(y_v, y_pred, average='macro'))\n",
    "    print('')\n",
    "    \n",
    "    \n",
    "    #ExtraTreesClassifier\n",
    "    extr_clf_analytical = ExtraTreesClassifier(random_state=159)\n",
    "    extr_clf_analytical.fit(X_tr, y_tr)\n",
    "    y_pred = extr_clf_analytical.predict(X_v)\n",
    "    print('Метрика для ExtraTreesClassifier с параметрами по умолчанию', recall_score(y_v, y_pred, average='macro'))\n",
    "    \n",
    "    param = {'max_depth': range(1, 101, 10), 'n_estimators': range(20, 1001, 20)}\n",
    "    ext_clf = ExtraTreesClassifier(random_state=159)\n",
    "    ext_grid_clf = GridSearchCV(ext_clf,\n",
    "                           param,\n",
    "                           n_jobs=-1,\n",
    "                           cv=3,\n",
    "                           scoring='recall_macro',\n",
    "                           verbose=False)\n",
    "    ext_grid_clf.fit(X_tr, y_tr)\n",
    "    print('Оптимальные параметры для ExtraTreesClassifier', ext_grid_clf.best_params_)\n",
    "    print('Метрика для ExtraTreesClassifier на кроссвалидации', ext_grid_clf.best_score_)\n",
    "    y_pred = ext_grid_clf.best_estimator_.predict(X_v)\n",
    "    print('Метрика для ExtraTreesClassifier с оптимальными параметрами', recall_score(y_v, y_pred, average='macro'))\n",
    "    print('')\n",
    "    \n",
    "    \n",
    "    #SVC\n",
    "    svm_clf_analytical = SVC(random_state=159, probability=True)\n",
    "    svm_clf_analytical.fit(X_tr, y_tr)\n",
    "    y_pred = svm_clf_analytical.predict(X_v)\n",
    "    print('Метрика для SVC с параметрами по умолчанию', recall_score(y_v, y_pred, average='macro'))\n",
    "    \n",
    "    param = {'C': np.arange(0.5, 100, 0.5)}\n",
    "    svm_clf = SVC(random_state=159, probability=True)\n",
    "    svm_grid_clf = GridSearchCV(svm_clf,\n",
    "                           param,\n",
    "                           n_jobs=-1,\n",
    "                           cv=3,\n",
    "                           scoring='recall_macro',\n",
    "                           verbose=False)\n",
    "    svm_grid_clf.fit(X_tr, y_tr)\n",
    "    print('Оптимальные параметры для SVC', svm_grid_clf.best_params_)\n",
    "    print('Метрика для SVC на кроссвалидации', svm_grid_clf.best_score_)\n",
    "    y_pred = svm_grid_clf.best_estimator_.predict(X_v)\n",
    "    print('Метрика для SVC с оптимальными параметрами', recall_score(y_v, y_pred, average='macro'))\n",
    "    print('')\n",
    "    \n",
    "    \n",
    "    #CatBoostClassifier\n",
    "    cat_clf = CatBoostClassifier(random_state=159,\n",
    "                            verbose=False)\n",
    "    cat_clf.fit(X_tr, y_tr)\n",
    "    y_pred = cat_clf.predict(X_v)\n",
    "    recall_score(y_analytical_val, y_pred, average='macro')\n",
    "    print('Метрика для CatBoostClassifier с параметрами по умолчанию', recall_score(y_v, y_pred, average='macro'))\n",
    "    \n",
    "    cat_param = {'iterations': range(20, 1020, 20)}\n",
    "    cat_clf = CatBoostClassifier(random_state=159,\n",
    "                                verbose=False)\n",
    "    cat_grid_clf = GridSearchCV(cat_clf,\n",
    "                           cat_param,\n",
    "                           cv=3,\n",
    "                           scoring='recall_macro',\n",
    "                           n_jobs=-1,\n",
    "                           verbose=False)\n",
    "    cat_grid_clf.fit(X_tr, y_tr)\n",
    "    print('Оптимальные параметры для CatBoostClassifier', cat_grid_clf.best_params_)\n",
    "    print('Метрика для CatBoostClassifier на кроссвалидации', cat_grid_clf.best_score_)\n",
    "    y_pred = cat_grid_clf.best_estimator_.predict(X_v)\n",
    "    print('Метрика для CatBoostClassifier с оптимальными параметрами', recall_score(y_v, y_pred, average='macro'))\n",
    "    print('')\n",
    "    \n",
    "    \n",
    "    #VotingClassifier\n",
    "    print('')\n",
    "    estimators = [('rnd', rnd_grid_clf.best_estimator_), \n",
    "                  ('extr', ext_grid_clf.best_estimator_), \n",
    "                  ('svm', svm_grid_clf.best_estimator_),\n",
    "                  ('cat', cat_grid_clf.best_estimator_)]\n",
    "    voting_clf = VotingClassifier(estimators=estimators,\n",
    "                                         voting='soft')\n",
    "    \n",
    "    y_pred = cross_val_predict(voting_clf, X_tr, y_tr, cv=3)\n",
    "    print('Метрика для VotingClassifier со всеми моделями на крос валидации', recall_score(y_tr, y_pred, average='macro'))\n",
    "    \n",
    "    voting_clf.fit(X_tr, y_tr)\n",
    "    y_pred = voting_clf.predict(X_v)\n",
    "    print('Метрика для VotingClassifier со всеми моделями', recall_score(y_v, y_pred, average='macro'))\n",
    "    print('')\n",
    "    \n",
    "    for i in range(len(estimators)):\n",
    "        new_estimators = estimators[:i] + estimators[i+1:]\n",
    "        voting_clf = VotingClassifier(estimators=new_estimators,\n",
    "                                         voting='soft')\n",
    "        y_pred = cross_val_predict(voting_clf, X_tr, y_tr, cv=3)\n",
    "        print(f'Метрика для VotingClassifier без {estimators[i][0]} на крос валидации', recall_score(y_tr, y_pred, average='macro'))\n",
    "        \n",
    "        voting_clf.fit(X_tr, y_tr)        \n",
    "        y_pred = voting_clf.predict(X_v)\n",
    "        print(f'Метрика для VotingClassifier без {estimators[i][0]}', recall_score(y_v, y_pred, average='macro'))\n",
    "        print('')"
   ]
  },
  {
   "cell_type": "code",
   "execution_count": 50,
   "id": "cb7a20af",
   "metadata": {},
   "outputs": [
    {
     "name": "stdout",
     "output_type": "stream",
     "text": [
      "Метрика для SGDClassifier с параметрами по умолчанию 0.24793956043956045\n",
      "Оптимальные параметры для SGDClassifier {'alpha': 2.5, 'l1_ratio': 0.1}\n",
      "Метрика для SGDClassifier на кроссвалидации 0.26853175310726446\n",
      "Метрика для SGDClassifier с оптимальными параметрами 0.2577838827838828\n",
      "\n",
      "Метрика для RandomForestClassifier с параметрами по умолчанию 0.30792124542124544\n",
      "Оптимальные параметры для RandomForestClassifier {'max_depth': 31, 'n_estimators': 340}\n",
      "Метрика для RandomForestClassifier на кроссвалидации 0.24918471833574105\n",
      "Метрика для RandomForestClassifier с оптимальными параметрами 0.2925824175824176\n",
      "\n",
      "Метрика для ExtraTreesClassifier с параметрами по умолчанию 0.2866300366300366\n",
      "Оптимальные параметры для ExtraTreesClassifier {'max_depth': 41, 'n_estimators': 500}\n",
      "Метрика для ExtraTreesClassifier на кроссвалидации 0.25975857522509244\n",
      "Метрика для ExtraTreesClassifier с оптимальными параметрами 0.3028846153846154\n",
      "\n",
      "Метрика для SVC с параметрами по умолчанию 0.25\n",
      "Оптимальные параметры для SVC {'C': 22.5}\n",
      "Метрика для SVC на кроссвалидации 0.21523927179573019\n",
      "Метрика для SVC с оптимальными параметрами 0.23511904761904762\n",
      "\n",
      "Метрика для CatBoostClassifier с параметрами по умолчанию 0.30242673992673996\n",
      "Оптимальные параметры для CatBoostClassifier {'iterations': 500}\n",
      "Метрика для CatBoostClassifier на кроссвалидации 0.2576021189358258\n",
      "Метрика для CatBoostClassifier с оптимальными параметрами 0.2960164835164835\n",
      "\n",
      "\n",
      "Метрика для VotingClassifier со всеми моделями на крос валидации 0.24321176831136987\n",
      "Метрика для VotingClassifier со всеми моделями 0.26304945054945056\n",
      "\n",
      "Метрика для VotingClassifier без rnd на крос валидации 0.24167330677290835\n",
      "Метрика для VotingClassifier без rnd 0.26304945054945056\n",
      "\n",
      "Метрика для VotingClassifier без extr на крос валидации 0.24098682194299723\n",
      "Метрика для VotingClassifier без extr 0.2728937728937729\n",
      "\n",
      "Метрика для VotingClassifier без svm на крос валидации 0.24601287159056082\n",
      "Метрика для VotingClassifier без svm 0.3019688644688645\n",
      "\n",
      "Метрика для VotingClassifier без cat на крос валидации 0.2296414342629482\n",
      "Метрика для VotingClassifier без cat 0.2591575091575091\n",
      "\n"
     ]
    }
   ],
   "source": [
    "get_predicator(X_train, y_analytical_train, X_val, y_analytical_val)"
   ]
  },
  {
   "cell_type": "code",
   "execution_count": 51,
   "id": "8a556141",
   "metadata": {},
   "outputs": [
    {
     "name": "stdout",
     "output_type": "stream",
     "text": [
      "Метрика для SGDClassifier с параметрами по умолчанию 0.22327044025157233\n",
      "Оптимальные параметры для SGDClassifier {'alpha': 0.5, 'l1_ratio': 1.0}\n",
      "Метрика для SGDClassifier на кроссвалидации 0.23669045730901397\n",
      "Метрика для SGDClassifier с оптимальными параметрами 0.23847259658580416\n",
      "\n",
      "Метрика для RandomForestClassifier с параметрами по умолчанию 0.20395327942497757\n",
      "Оптимальные параметры для RandomForestClassifier {'max_depth': 31, 'n_estimators': 20}\n",
      "Метрика для RandomForestClassifier на кроссвалидации 0.21226539783240814\n",
      "Метрика для RandomForestClassifier с оптимальными параметрами 0.24393530997304583\n",
      "\n",
      "Метрика для ExtraTreesClassifier с параметрами по умолчанию 0.23054806828391733\n",
      "Оптимальные параметры для ExtraTreesClassifier {'max_depth': 31, 'n_estimators': 140}\n",
      "Метрика для ExtraTreesClassifier на кроссвалидации 0.2124504361617764\n",
      "Метрика для ExtraTreesClassifier с оптимальными параметрами 0.2362982929020665\n",
      "\n",
      "Метрика для SVC с параметрами по умолчанию 0.2\n",
      "Оптимальные параметры для SVC {'C': 16.5}\n",
      "Метрика для SVC на кроссвалидации 0.20444091990483745\n",
      "Метрика для SVC с оптимальными параметрами 0.2\n",
      "\n",
      "Метрика для CatBoostClassifier с параметрами по умолчанию 0.2362982929020665\n",
      "Оптимальные параметры для CatBoostClassifier {'iterations': 240}\n",
      "Метрика для CatBoostClassifier на кроссвалидации 0.23823420565688605\n",
      "Метрика для CatBoostClassifier с оптимальными параметрами 0.21536388140161727\n",
      "\n",
      "\n",
      "Метрика для VotingClassifier со всеми моделями на крос валидации 0.20169177901136665\n",
      "Метрика для VotingClassifier со всеми моделями 0.21527403414195864\n",
      "\n",
      "Метрика для VotingClassifier без rnd на крос валидации 0.19981496167063179\n",
      "Метрика для VotingClassifier без rnd 0.2076370170709793\n",
      "\n",
      "Метрика для VotingClassifier без extr на крос валидации 0.2035685963521015\n",
      "Метрика для VotingClassifier без extr 0.21527403414195864\n",
      "\n",
      "Метрика для VotingClassifier без svm на крос валидации 0.21245043616177636\n",
      "Метрика для VotingClassifier без svm 0.23054806828391733\n",
      "\n",
      "Метрика для VotingClassifier без cat на крос валидации 0.19931271477663232\n",
      "Метрика для VotingClassifier без cat 0.20952380952380953\n",
      "\n"
     ]
    }
   ],
   "source": [
    "get_predicator(X_train, y_systemic_train, X_val, y_systemic_val)"
   ]
  },
  {
   "cell_type": "code",
   "execution_count": 52,
   "id": "e30a7816",
   "metadata": {},
   "outputs": [
    {
     "name": "stdout",
     "output_type": "stream",
     "text": [
      "Метрика для SGDClassifier с параметрами по умолчанию 0.2437724704673857\n",
      "Оптимальные параметры для SGDClassifier {'alpha': 4.5, 'l1_ratio': 0.2}\n",
      "Метрика для SGDClassifier на кроссвалидации 0.30551715309779826\n",
      "Метрика для SGDClassifier с оптимальными параметрами 0.2582177709296353\n",
      "\n",
      "Метрика для RandomForestClassifier с параметрами по умолчанию 0.27773497688751925\n",
      "Оптимальные параметры для RandomForestClassifier {'max_depth': 11, 'n_estimators': 460}\n",
      "Метрика для RandomForestClassifier на кроссвалидации 0.2828383683222393\n",
      "Метрика для RandomForestClassifier с оптимальными параметрами 0.2710580380071905\n",
      "\n",
      "Метрика для ExtraTreesClassifier с параметрами по умолчанию 0.297573189522342\n",
      "Оптимальные параметры для ExtraTreesClassifier {'max_depth': 41, 'n_estimators': 180}\n",
      "Метрика для ExtraTreesClassifier на кроссвалидации 0.2614908687489333\n",
      "Метрика для ExtraTreesClassifier с оптимальными параметрами 0.308487416538264\n",
      "\n",
      "Метрика для SVC с параметрами по умолчанию 0.29982023626091425\n",
      "Оптимальные параметры для SVC {'C': 42.0}\n",
      "Метрика для SVC на кроссвалидации 0.2563236047107015\n",
      "Метрика для SVC с оптимальными параметрами 0.22383153569594247\n",
      "\n",
      "Метрика для CatBoostClassifier с параметрами по умолчанию 0.32638353877760656\n",
      "Оптимальные параметры для CatBoostClassifier {'iterations': 520}\n",
      "Метрика для CatBoostClassifier на кроссвалидации 0.27298600443761734\n",
      "Метрика для CatBoostClassifier с оптимальными параметрами 0.3254847200821777\n",
      "\n",
      "\n",
      "Метрика для VotingClassifier со всеми моделями на крос валидации 0.25346602608098834\n",
      "Метрика для VotingClassifier со всеми моделями 0.2942347200821777\n",
      "\n",
      "Метрика для VotingClassifier без rnd на крос валидации 0.24921070693205216\n",
      "Метрика для VotingClassifier без rnd 0.2942347200821777\n",
      "\n",
      "Метрика для VotingClassifier без extr на крос валидации 0.25458705101807366\n",
      "Метрика для VotingClassifier без extr 0.28665896250642015\n",
      "\n",
      "Метрика для VotingClassifier без svm на крос валидации 0.25239075726378407\n",
      "Метрика для VotingClassifier без svm 0.28999743194658445\n",
      "\n",
      "Метрика для VotingClassifier без cat на крос валидации 0.2501830244795241\n",
      "Метрика для VotingClassifier без cat 0.2890986132511556\n",
      "\n"
     ]
    }
   ],
   "source": [
    "get_predicator(X_train, y_adaptability_train, X_val, y_adaptability_val)"
   ]
  },
  {
   "cell_type": "code",
   "execution_count": 53,
   "id": "d2a397fb",
   "metadata": {},
   "outputs": [
    {
     "name": "stdout",
     "output_type": "stream",
     "text": [
      "Метрика для SGDClassifier с параметрами по умолчанию 0.3333333333333333\n",
      "Оптимальные параметры для SGDClassifier {'alpha': 3.5, 'l1_ratio': 0.2}\n",
      "Метрика для SGDClassifier на кроссвалидации 0.2617021589302913\n",
      "Метрика для SGDClassifier с оптимальными параметрами 0.10972222222222222\n",
      "\n",
      "Метрика для RandomForestClassifier с параметрами по умолчанию 0.3703703703703704\n",
      "Оптимальные параметры для RandomForestClassifier {'max_depth': 21, 'n_estimators': 1000}\n",
      "Метрика для RandomForestClassifier на кроссвалидации 0.2618135452237107\n",
      "Метрика для RandomForestClassifier с оптимальными параметрами 0.38518518518518513\n",
      "\n",
      "Метрика для ExtraTreesClassifier с параметрами по умолчанию 0.39444444444444443\n",
      "Оптимальные параметры для ExtraTreesClassifier {'max_depth': 31, 'n_estimators': 260}\n",
      "Метрика для ExtraTreesClassifier на кроссвалидации 0.2705065230715349\n",
      "Метрика для ExtraTreesClassifier с оптимальными параметрами 0.3768518518518518\n",
      "\n",
      "Метрика для SVC с параметрами по умолчанию 0.3333333333333333\n",
      "Оптимальные параметры для SVC {'C': 28.0}\n",
      "Метрика для SVC на кроссвалидации 0.23833836791874616\n",
      "Метрика для SVC с оптимальными параметрами 0.33796296296296297\n",
      "\n",
      "Метрика для CatBoostClassifier с параметрами по умолчанию 0.3842592592592593\n",
      "Оптимальные параметры для CatBoostClassifier {'iterations': 1000}\n",
      "Метрика для CatBoostClassifier на кроссвалидации 0.2710334033797391\n",
      "Метрика для CatBoostClassifier с оптимальными параметрами 0.3842592592592593\n",
      "\n",
      "\n",
      "Метрика для VotingClassifier со всеми моделями на крос валидации 0.23762968173026203\n",
      "Метрика для VotingClassifier со всеми моделями 0.3888888888888889\n",
      "\n",
      "Метрика для VotingClassifier без rnd на крос валидации 0.2401090205732372\n",
      "Метрика для VotingClassifier без rnd 0.39351851851851855\n",
      "\n",
      "Метрика для VotingClassifier без extr на крос валидации 0.2338432682726687\n",
      "Метрика для VotingClassifier без extr 0.3787037037037037\n",
      "\n",
      "Метрика для VotingClassifier без svm на крос валидации 0.2409471894965125\n",
      "Метрика для VotingClassifier без svm 0.3814814814814815\n",
      "\n",
      "Метрика для VotingClassifier без cat на крос валидации 0.22804642166344294\n",
      "Метрика для VotingClassifier без cat 0.39444444444444443\n",
      "\n"
     ]
    }
   ],
   "source": [
    "get_predicator(X_train, y_focus_train, X_val, y_focus_val)"
   ]
  },
  {
   "cell_type": "markdown",
   "id": "82bd7bd4",
   "metadata": {},
   "source": [
    "Исходя из полученных данных, оптимальными моделями в первом проходе для каждого из навыков являются слудующие модели:\n",
    "\n",
    "Для Аналитического мышления ExtraTreesClassifier {'max_depth': 41, 'n_estimators': 500}\n",
    "\n",
    "Для Системного мышления CatBoostClassifier {'iterations': 240}\n",
    "\n",
    "Для Адаптивности и открытости к изменениям CatBoostClassifier {'iterations': 520}\n",
    "\n",
    "Для Нацеленности на достижение амбициозных результатов ExtraTreesClassifier {'max_depth': 31, 'n_estimators': 260}\n",
    "\n",
    "Сделаем более тонкий подбор гиперпараметров"
   ]
  },
  {
   "cell_type": "markdown",
   "id": "2bf1cb2b",
   "metadata": {},
   "source": [
    "#### Чистовой подбор гиперпараметров для Аналитического мышления"
   ]
  },
  {
   "cell_type": "markdown",
   "id": "8aa1602b",
   "metadata": {},
   "source": [
    "На черновом подборе для данного навыка лучший результат показала модель ExtraTreesClassifier с гиперпараметрами: 'max_depth': 41, 'n_estimators': 500. Подберём более точные значения для них использую GridSearchCV с более мелкой сеткой"
   ]
  },
  {
   "cell_type": "code",
   "execution_count": 54,
   "id": "d4f72ad4",
   "metadata": {},
   "outputs": [
    {
     "name": "stdout",
     "output_type": "stream",
     "text": [
      "Оптимальные параметры для ExtraTreesClassifier {'max_depth': 41, 'n_estimators': 495}\n",
      "Метрика для ExtraTreesClassifier на кроссвалидации 0.2605617880764981\n",
      "Метрика для ExtraTreesClassifier с оптимальными параметрами 0.3028846153846154\n"
     ]
    }
   ],
   "source": [
    "param = {'max_depth': range(32, 51), 'n_estimators': range(481, 520)}\n",
    "ext_clf = ExtraTreesClassifier(random_state=159)\n",
    "ext_grid_clf = GridSearchCV(ext_clf,\n",
    "                       param,\n",
    "                       n_jobs=-1,\n",
    "                       cv=3,\n",
    "                       scoring='recall_macro',\n",
    "                       verbose=False)\n",
    "ext_grid_clf.fit(X_train, y_analytical_train)\n",
    "print('Оптимальные параметры для ExtraTreesClassifier', ext_grid_clf.best_params_)\n",
    "print('Метрика для ExtraTreesClassifier на кроссвалидации', ext_grid_clf.best_score_)\n",
    "y_pred = ext_grid_clf.best_estimator_.predict(X_val)\n",
    "print('Метрика для ExtraTreesClassifier с оптимальными параметрами', recall_score(y_analytical_val, y_pred, average='macro'))"
   ]
  },
  {
   "cell_type": "markdown",
   "id": "594b4438",
   "metadata": {},
   "source": [
    "#### Чистовой подбор гиперпараметров для Системного мышления"
   ]
  },
  {
   "cell_type": "markdown",
   "id": "d3b1d0a5",
   "metadata": {},
   "source": [
    "На черновом подборе для данного навыка лучший результат показала модель CatBoostClassifier с гиперпараметром: 'iterations': 240. Подберём более точные значения для них использую GridSearchCV с более мелкой сеткой"
   ]
  },
  {
   "cell_type": "code",
   "execution_count": 55,
   "id": "5ef92197",
   "metadata": {},
   "outputs": [
    {
     "name": "stdout",
     "output_type": "stream",
     "text": [
      "Оптимальные параметры для CatBoostClassifier {'iterations': 240}\n",
      "Метрика для CatBoostClassifier на кроссвалидации 0.23823420565688605\n",
      "Метрика для CatBoostClassifier с оптимальными параметрами 0.21536388140161727\n"
     ]
    }
   ],
   "source": [
    "cat_param = {'iterations': range(221, 260)}\n",
    "cat_clf = CatBoostClassifier(random_state=159,\n",
    "                            verbose=False)\n",
    "cat_grid_clf = GridSearchCV(cat_clf,\n",
    "                       cat_param,\n",
    "                       cv=3,\n",
    "                       scoring='recall_macro',\n",
    "                       n_jobs=-1,\n",
    "                       verbose=False)\n",
    "cat_grid_clf.fit(X_train, y_systemic_train)\n",
    "print('Оптимальные параметры для CatBoostClassifier', cat_grid_clf.best_params_)\n",
    "print('Метрика для CatBoostClassifier на кроссвалидации', cat_grid_clf.best_score_)\n",
    "y_pred = cat_grid_clf.best_estimator_.predict(X_val)\n",
    "print('Метрика для CatBoostClassifier с оптимальными параметрами', recall_score(y_systemic_val, y_pred, average='macro'))"
   ]
  },
  {
   "cell_type": "markdown",
   "id": "db16fce9",
   "metadata": {},
   "source": [
    "#### Чистовой подбор гиперпараметров для Адаптивности и открытости к изменениям"
   ]
  },
  {
   "cell_type": "markdown",
   "id": "1058e8ba",
   "metadata": {},
   "source": [
    "На черновом подборе для данного навыка лучший результат показала модель CatBoostClassifier с гиперпараметром: 'iterations': 520. Подберём более точные значения для них использую GridSearchCV с более мелкой сеткой"
   ]
  },
  {
   "cell_type": "code",
   "execution_count": 56,
   "id": "e76fc777",
   "metadata": {},
   "outputs": [
    {
     "name": "stdout",
     "output_type": "stream",
     "text": [
      "Оптимальные параметры для CatBoostClassifier {'iterations': 525}\n",
      "Метрика для CatBoostClassifier на кроссвалидации 0.2813705410479604\n",
      "Метрика для CatBoostClassifier с оптимальными параметрами 0.31790896250642015\n"
     ]
    }
   ],
   "source": [
    "cat_param = {'iterations': range(501, 540)}\n",
    "cat_clf = CatBoostClassifier(random_state=159,\n",
    "                            verbose=False)\n",
    "cat_grid_clf = GridSearchCV(cat_clf,\n",
    "                       cat_param,\n",
    "                       cv=3,\n",
    "                       scoring='recall_macro',\n",
    "                       n_jobs=-1,\n",
    "                       verbose=False)\n",
    "cat_grid_clf.fit(X_train, y_adaptability_train)\n",
    "print('Оптимальные параметры для CatBoostClassifier', cat_grid_clf.best_params_)\n",
    "print('Метрика для CatBoostClassifier на кроссвалидации', cat_grid_clf.best_score_)\n",
    "y_pred = cat_grid_clf.best_estimator_.predict(X_val)\n",
    "print('Метрика для CatBoostClassifier с оптимальными параметрами', recall_score(y_adaptability_val, y_pred, average='macro'))"
   ]
  },
  {
   "cell_type": "markdown",
   "id": "1fd77419",
   "metadata": {},
   "source": [
    "#### Чистовой подбор гиперпараметров для Нацеленности на достижение амбициозных результатов"
   ]
  },
  {
   "cell_type": "markdown",
   "id": "5b45d14d",
   "metadata": {},
   "source": [
    "На черновом подборе для данного навыка лучший результат показала модель ExtraTreesClassifier с гиперпараметрами 'max_depth': 31, 'n_estimators': 260. Подберём более точные значения для них использую GridSearchCV с более мелкой сеткой"
   ]
  },
  {
   "cell_type": "code",
   "execution_count": 71,
   "id": "456745d0",
   "metadata": {},
   "outputs": [
    {
     "name": "stdout",
     "output_type": "stream",
     "text": [
      "Оптимальные параметры для ExtraTreesClassifier {'max_depth': 30, 'n_estimators': 272}\n",
      "Метрика для ExtraTreesClassifier на кроссвалидации 0.27265453988267224\n",
      "Метрика для ExtraTreesClassifier с оптимальными параметрами 0.39537037037037037\n"
     ]
    }
   ],
   "source": [
    "param = {'max_depth': range(12, 41), 'n_estimators': range(241, 280)}\n",
    "ext_clf = ExtraTreesClassifier(random_state=159)\n",
    "ext_grid_clf = GridSearchCV(ext_clf,\n",
    "                       param,\n",
    "                       n_jobs=-1,\n",
    "                       cv=3,\n",
    "                       scoring='recall_macro',\n",
    "                       verbose=False)\n",
    "ext_grid_clf.fit(X_train, y_focus_train)\n",
    "print('Оптимальные параметры для ExtraTreesClassifier', ext_grid_clf.best_params_)\n",
    "print('Метрика для ExtraTreesClassifier на кроссвалидации', ext_grid_clf.best_score_)\n",
    "y_pred = ext_grid_clf.best_estimator_.predict(X_val)\n",
    "print('Метрика для ExtraTreesClassifier с оптимальными параметрами', recall_score(y_focus_val, y_pred, average='macro'))"
   ]
  },
  {
   "cell_type": "markdown",
   "id": "6c54c9e8",
   "metadata": {},
   "source": [
    "### Финальное обучение моделей и проверка на тестовом датасете"
   ]
  },
  {
   "cell_type": "markdown",
   "id": "a9e0fcc7",
   "metadata": {},
   "source": [
    "Объединим трейновый и валидационный датасет и обучим лучшие модели на них."
   ]
  },
  {
   "cell_type": "code",
   "execution_count": 59,
   "id": "aaa775b8",
   "metadata": {},
   "outputs": [],
   "source": [
    "X_new_train = np.concatenate([X_train, X_val], axis=0)\n",
    "\n",
    "y_new_analytical_train = pd.concat([y_analytical_train, y_analytical_val], sort=False, axis=0)\n",
    "y_new_systemic_train = pd.concat([y_systemic_train, y_systemic_val], sort=False, axis=0)\n",
    "y_new_adaptability_train = pd.concat([y_adaptability_train, y_adaptability_val], sort=False, axis=0)\n",
    "y_new_focus_train = pd.concat([y_focus_train, y_focus_val], sort=False, axis=0)"
   ]
  },
  {
   "cell_type": "code",
   "execution_count": 72,
   "id": "b7ed81da",
   "metadata": {},
   "outputs": [
    {
     "data": {
      "text/html": [
       "<style>#sk-container-id-2 {color: black;background-color: white;}#sk-container-id-2 pre{padding: 0;}#sk-container-id-2 div.sk-toggleable {background-color: white;}#sk-container-id-2 label.sk-toggleable__label {cursor: pointer;display: block;width: 100%;margin-bottom: 0;padding: 0.3em;box-sizing: border-box;text-align: center;}#sk-container-id-2 label.sk-toggleable__label-arrow:before {content: \"▸\";float: left;margin-right: 0.25em;color: #696969;}#sk-container-id-2 label.sk-toggleable__label-arrow:hover:before {color: black;}#sk-container-id-2 div.sk-estimator:hover label.sk-toggleable__label-arrow:before {color: black;}#sk-container-id-2 div.sk-toggleable__content {max-height: 0;max-width: 0;overflow: hidden;text-align: left;background-color: #f0f8ff;}#sk-container-id-2 div.sk-toggleable__content pre {margin: 0.2em;color: black;border-radius: 0.25em;background-color: #f0f8ff;}#sk-container-id-2 input.sk-toggleable__control:checked~div.sk-toggleable__content {max-height: 200px;max-width: 100%;overflow: auto;}#sk-container-id-2 input.sk-toggleable__control:checked~label.sk-toggleable__label-arrow:before {content: \"▾\";}#sk-container-id-2 div.sk-estimator input.sk-toggleable__control:checked~label.sk-toggleable__label {background-color: #d4ebff;}#sk-container-id-2 div.sk-label input.sk-toggleable__control:checked~label.sk-toggleable__label {background-color: #d4ebff;}#sk-container-id-2 input.sk-hidden--visually {border: 0;clip: rect(1px 1px 1px 1px);clip: rect(1px, 1px, 1px, 1px);height: 1px;margin: -1px;overflow: hidden;padding: 0;position: absolute;width: 1px;}#sk-container-id-2 div.sk-estimator {font-family: monospace;background-color: #f0f8ff;border: 1px dotted black;border-radius: 0.25em;box-sizing: border-box;margin-bottom: 0.5em;}#sk-container-id-2 div.sk-estimator:hover {background-color: #d4ebff;}#sk-container-id-2 div.sk-parallel-item::after {content: \"\";width: 100%;border-bottom: 1px solid gray;flex-grow: 1;}#sk-container-id-2 div.sk-label:hover label.sk-toggleable__label {background-color: #d4ebff;}#sk-container-id-2 div.sk-serial::before {content: \"\";position: absolute;border-left: 1px solid gray;box-sizing: border-box;top: 0;bottom: 0;left: 50%;z-index: 0;}#sk-container-id-2 div.sk-serial {display: flex;flex-direction: column;align-items: center;background-color: white;padding-right: 0.2em;padding-left: 0.2em;position: relative;}#sk-container-id-2 div.sk-item {position: relative;z-index: 1;}#sk-container-id-2 div.sk-parallel {display: flex;align-items: stretch;justify-content: center;background-color: white;position: relative;}#sk-container-id-2 div.sk-item::before, #sk-container-id-2 div.sk-parallel-item::before {content: \"\";position: absolute;border-left: 1px solid gray;box-sizing: border-box;top: 0;bottom: 0;left: 50%;z-index: -1;}#sk-container-id-2 div.sk-parallel-item {display: flex;flex-direction: column;z-index: 1;position: relative;background-color: white;}#sk-container-id-2 div.sk-parallel-item:first-child::after {align-self: flex-end;width: 50%;}#sk-container-id-2 div.sk-parallel-item:last-child::after {align-self: flex-start;width: 50%;}#sk-container-id-2 div.sk-parallel-item:only-child::after {width: 0;}#sk-container-id-2 div.sk-dashed-wrapped {border: 1px dashed gray;margin: 0 0.4em 0.5em 0.4em;box-sizing: border-box;padding-bottom: 0.4em;background-color: white;}#sk-container-id-2 div.sk-label label {font-family: monospace;font-weight: bold;display: inline-block;line-height: 1.2em;}#sk-container-id-2 div.sk-label-container {text-align: center;}#sk-container-id-2 div.sk-container {/* jupyter's `normalize.less` sets `[hidden] { display: none; }` but bootstrap.min.css set `[hidden] { display: none !important; }` so we also need the `!important` here to be able to override the default hidden behavior on the sphinx rendered scikit-learn.org. See: https://github.com/scikit-learn/scikit-learn/issues/21755 */display: inline-block !important;position: relative;}#sk-container-id-2 div.sk-text-repr-fallback {display: none;}</style><div id=\"sk-container-id-2\" class=\"sk-top-container\"><div class=\"sk-text-repr-fallback\"><pre>ExtraTreesClassifier(max_depth=30, n_estimators=272, random_state=159)</pre><b>In a Jupyter environment, please rerun this cell to show the HTML representation or trust the notebook. <br />On GitHub, the HTML representation is unable to render, please try loading this page with nbviewer.org.</b></div><div class=\"sk-container\" hidden><div class=\"sk-item\"><div class=\"sk-estimator sk-toggleable\"><input class=\"sk-toggleable__control sk-hidden--visually\" id=\"sk-estimator-id-2\" type=\"checkbox\" checked><label for=\"sk-estimator-id-2\" class=\"sk-toggleable__label sk-toggleable__label-arrow\">ExtraTreesClassifier</label><div class=\"sk-toggleable__content\"><pre>ExtraTreesClassifier(max_depth=30, n_estimators=272, random_state=159)</pre></div></div></div></div></div>"
      ],
      "text/plain": [
       "ExtraTreesClassifier(max_depth=30, n_estimators=272, random_state=159)"
      ]
     },
     "execution_count": 72,
     "metadata": {},
     "output_type": "execute_result"
    }
   ],
   "source": [
    "model_analytical = ExtraTreesClassifier(random_state=159, \n",
    "                                        max_depth=41, \n",
    "                                        n_estimators=495)\n",
    "model_analytical.fit(X_new_train, y_new_analytical_train)\n",
    "\n",
    "model_systemic = CatBoostClassifier(random_state=159, \n",
    "                                    iterations=240,\n",
    "                                    verbose=False)\n",
    "model_systemic.fit(X_new_train, y_new_systemic_train)\n",
    "\n",
    "model_adaptability = CatBoostClassifier(random_state=159, \n",
    "                                        iterations=525,\n",
    "                                        verbose=False)\n",
    "model_adaptability.fit(X_new_train, y_new_adaptability_train)\n",
    "\n",
    "model_focus = ExtraTreesClassifier(random_state=159, \n",
    "                                        max_depth=30, \n",
    "                                        n_estimators=272)\n",
    "model_focus.fit(X_new_train, y_new_focus_train)"
   ]
  },
  {
   "cell_type": "markdown",
   "id": "e389e74a",
   "metadata": {},
   "source": [
    "Создадим функцию, для получения выходного датасета в требуемом виде."
   ]
  },
  {
   "cell_type": "code",
   "execution_count": 73,
   "id": "64aa584f",
   "metadata": {},
   "outputs": [],
   "source": [
    "def get_predict(X):\n",
    "    result = pd.DataFrame()\n",
    "    if 'user_id' in X.columns:\n",
    "        result['id'] = X['user_id']\n",
    "        X = X.drop('user_id', axis=1)\n",
    "    if 'team_id' in X.columns:\n",
    "        X = X.drop('team_id', axis=1)\n",
    "    if 'game_id' in X.columns:\n",
    "        X = X.drop('game_id', axis=1)\n",
    "        \n",
    "    result['Analytical thinking'] = model_analytical.predict(X)\n",
    "    result['Systemic thinking'] = model_systemic.predict(X)\n",
    "    result['Adaptability'] = model_adaptability.predict(X)\n",
    "    result['Focus'] = model_focus.predict(X)\n",
    "    return result"
   ]
  },
  {
   "cell_type": "markdown",
   "id": "b3c67dd6",
   "metadata": {},
   "source": [
    "Проверим полученную модель на тестовой выборке"
   ]
  },
  {
   "cell_type": "code",
   "execution_count": 74,
   "id": "94962807",
   "metadata": {},
   "outputs": [
    {
     "name": "stdout",
     "output_type": "stream",
     "text": [
      "Метрика на тесте для Analytical thinking 0.30106707317073167\n",
      "Метрика на тесте для Systemic thinking 0.2613829787234042\n",
      "Метрика на тесте для Adaptability 0.30319940476190477\n",
      "Метрика на тесте для Focus 0.2441860465116279\n",
      "Финальная метрика на тесте 0.27745887579191714\n"
     ]
    }
   ],
   "source": [
    "predict = get_predict(X_test)\n",
    "\n",
    "recall_analytical = recall_score(y_analytical_test, predict['Analytical thinking'], average='macro')\n",
    "recall_systemic = recall_score(y_systemic_test, predict['Systemic thinking'], average='macro')\n",
    "recall_adaptability = recall_score(y_adaptability_test, predict['Adaptability'], average='macro')\n",
    "recall_focus = recall_score(y_focus_test, predict['Focus'], average='macro')\n",
    "\n",
    "recall_finall = (0.25 * recall_analytical + 0.25 * recall_systemic + \n",
    "                 0.25 * recall_adaptability + 0.25 * recall_focus)\n",
    "\n",
    "print('Метрика на тесте для Analytical thinking', recall_analytical)\n",
    "print('Метрика на тесте для Systemic thinking', recall_systemic)\n",
    "print('Метрика на тесте для Adaptability', recall_adaptability)\n",
    "print('Метрика на тесте для Focus', recall_focus)\n",
    "print('Финальная метрика на тесте', recall_finall)"
   ]
  },
  {
   "cell_type": "markdown",
   "id": "1fcf01f8",
   "metadata": {},
   "source": [
    "Получим предсказания для финального теста и запишим даные в csv файл для проверки на платформе соревнования."
   ]
  },
  {
   "cell_type": "code",
   "execution_count": 75,
   "id": "a768014e",
   "metadata": {},
   "outputs": [],
   "source": [
    "predict = get_predict(X_final_test)\n",
    "predict.to_csv('predict_chemp_MO_new.csv', index=False)"
   ]
  },
  {
   "cell_type": "code",
   "execution_count": 76,
   "id": "aa9dda3f",
   "metadata": {},
   "outputs": [
    {
     "data": {
      "text/html": [
       "<div>\n",
       "<style scoped>\n",
       "    .dataframe tbody tr th:only-of-type {\n",
       "        vertical-align: middle;\n",
       "    }\n",
       "\n",
       "    .dataframe tbody tr th {\n",
       "        vertical-align: top;\n",
       "    }\n",
       "\n",
       "    .dataframe thead th {\n",
       "        text-align: right;\n",
       "    }\n",
       "</style>\n",
       "<table border=\"1\" class=\"dataframe\">\n",
       "  <thead>\n",
       "    <tr style=\"text-align: right;\">\n",
       "      <th></th>\n",
       "      <th>id</th>\n",
       "      <th>Analytical thinking</th>\n",
       "      <th>Systemic thinking</th>\n",
       "      <th>Adaptability</th>\n",
       "      <th>Focus</th>\n",
       "    </tr>\n",
       "  </thead>\n",
       "  <tbody>\n",
       "    <tr>\n",
       "      <th>0</th>\n",
       "      <td>10580</td>\n",
       "      <td>4.0</td>\n",
       "      <td>4.0</td>\n",
       "      <td>5.0</td>\n",
       "      <td>4.0</td>\n",
       "    </tr>\n",
       "    <tr>\n",
       "      <th>1</th>\n",
       "      <td>10352</td>\n",
       "      <td>4.0</td>\n",
       "      <td>4.0</td>\n",
       "      <td>4.0</td>\n",
       "      <td>4.0</td>\n",
       "    </tr>\n",
       "    <tr>\n",
       "      <th>2</th>\n",
       "      <td>10636</td>\n",
       "      <td>5.0</td>\n",
       "      <td>4.0</td>\n",
       "      <td>5.0</td>\n",
       "      <td>5.0</td>\n",
       "    </tr>\n",
       "    <tr>\n",
       "      <th>3</th>\n",
       "      <td>10622</td>\n",
       "      <td>4.0</td>\n",
       "      <td>4.0</td>\n",
       "      <td>4.0</td>\n",
       "      <td>4.0</td>\n",
       "    </tr>\n",
       "    <tr>\n",
       "      <th>4</th>\n",
       "      <td>10259</td>\n",
       "      <td>4.0</td>\n",
       "      <td>4.0</td>\n",
       "      <td>5.0</td>\n",
       "      <td>5.0</td>\n",
       "    </tr>\n",
       "  </tbody>\n",
       "</table>\n",
       "</div>"
      ],
      "text/plain": [
       "      id  Analytical thinking  Systemic thinking  Adaptability  Focus\n",
       "0  10580                  4.0                4.0           5.0    4.0\n",
       "1  10352                  4.0                4.0           4.0    4.0\n",
       "2  10636                  5.0                4.0           5.0    5.0\n",
       "3  10622                  4.0                4.0           4.0    4.0\n",
       "4  10259                  4.0                4.0           5.0    5.0"
      ]
     },
     "execution_count": 76,
     "metadata": {},
     "output_type": "execute_result"
    }
   ],
   "source": [
    "predict.head(5)"
   ]
  },
  {
   "cell_type": "markdown",
   "id": "d6d6bd2e",
   "metadata": {},
   "source": [
    "## Выводы"
   ]
  },
  {
   "cell_type": "markdown",
   "id": "79df2c21",
   "metadata": {},
   "source": [
    "1. В данном проекте был проведён анализ первоночальных данных выявленна неравномерность целевых признаков, которая повлияла на дальнейшее качество модели. По ряду оцениваемых характеристик представленно слишком мало некоторых оценок, в итоге модель не обучилась корректно их прогнозировать.\n",
    "2. Обучен ряд моделей и выбраны лучшие для каждого из предсказываемого признака. Выделение для каждого признака отдельной модели со своими гиперпараметрами позволило улучшить общее качество прогноза.\n",
    "3. Для дальнейшего улучшения модели требуется либо объединить ряд оценок в одну (с 1 до 3), что позволит модели лучше выделять данную группу оценок, либо привлечь экспертов для генерации искусственных последовательностей действий, приводящих к таким оценкам."
   ]
  }
 ],
 "metadata": {
  "kernelspec": {
   "display_name": "Python 3 (ipykernel)",
   "language": "python",
   "name": "python3"
  },
  "language_info": {
   "codemirror_mode": {
    "name": "ipython",
    "version": 3
   },
   "file_extension": ".py",
   "mimetype": "text/x-python",
   "name": "python",
   "nbconvert_exporter": "python",
   "pygments_lexer": "ipython3",
   "version": "3.10.9"
  },
  "toc": {
   "base_numbering": 1,
   "nav_menu": {},
   "number_sections": true,
   "sideBar": true,
   "skip_h1_title": true,
   "title_cell": "Table of Contents",
   "title_sidebar": "Contents",
   "toc_cell": false,
   "toc_position": {
    "height": "calc(100% - 180px)",
    "left": "10px",
    "top": "150px",
    "width": "256.591px"
   },
   "toc_section_display": true,
   "toc_window_display": true
  }
 },
 "nbformat": 4,
 "nbformat_minor": 5
}
