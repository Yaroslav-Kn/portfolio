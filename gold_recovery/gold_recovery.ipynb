{
 "cells": [
  {
   "cell_type": "markdown",
   "metadata": {},
   "source": [
    "# Восстановление золота из руды"
   ]
  },
  {
   "cell_type": "markdown",
   "metadata": {},
   "source": [
    "В данном проекте необходимо разарботать модель, которая будет предсказывать коэффициент восстановления золота, с целью оптимизации производства. Сам процесс восстановления золота сложный и происходит в несколько этапов:\n",
    "\n",
    "1. Флотация (в ходе него получают черновой концентрат);\n",
    "2. Двухэтапная очистка (в ходе данного этапа получают уже финальный концентрат).\n",
    "\n",
    "Данная задача является задачей регрессии. отрослеву специфику в качестве метрики качества необходимо использовать симметричное среднее абсолютное процентное отклонение (sMAPE). Приэтом итоговый показатель будет состоять из суммы 25% sMAPE на флотации и 75% sMAPE на этапе очистки.\n",
    "\n",
    "В данной работе нам потребуется:\n",
    "\n",
    "1. Подготовить данные;\n",
    "2. Провести исследовательский анализ данных;\n",
    "3. Построить и обучить модель."
   ]
  },
  {
   "cell_type": "markdown",
   "metadata": {
    "toc": true
   },
   "source": [
    "<h1>Содержание<span class=\"tocSkip\"></span></h1>\n",
    "<div class=\"toc\"><ul class=\"toc-item\"><li><span><a href=\"#Подготовка-данных\" data-toc-modified-id=\"Подготовка-данных-1\"><span class=\"toc-item-num\">1&nbsp;&nbsp;</span>Подготовка данных</a></span><ul class=\"toc-item\"><li><span><a href=\"#Первичное-изучение-данных\" data-toc-modified-id=\"Первичное-изучение-данных-1.1\"><span class=\"toc-item-num\">1.1&nbsp;&nbsp;</span>Первичное изучение данных</a></span></li><li><span><a href=\"#Проверка-рассчёта-эффективности\" data-toc-modified-id=\"Проверка-рассчёта-эффективности-1.2\"><span class=\"toc-item-num\">1.2&nbsp;&nbsp;</span>Проверка рассчёта эффективности</a></span></li><li><span><a href=\"#Анализ-тестовой-выборки-и-заполнение-пропусков\" data-toc-modified-id=\"Анализ-тестовой-выборки-и-заполнение-пропусков-1.3\"><span class=\"toc-item-num\">1.3&nbsp;&nbsp;</span>Анализ тестовой выборки и заполнение пропусков</a></span></li><li><span><a href=\"#Выводы\" data-toc-modified-id=\"Выводы-1.4\"><span class=\"toc-item-num\">1.4&nbsp;&nbsp;</span>Выводы</a></span></li></ul></li><li><span><a href=\"#Анализ-данных\" data-toc-modified-id=\"Анализ-данных-2\"><span class=\"toc-item-num\">2&nbsp;&nbsp;</span>Анализ данных</a></span><ul class=\"toc-item\"><li><span><a href=\"#Изучение-концентрации-металов-на-различных-этапах-очистки\" data-toc-modified-id=\"Изучение-концентрации-металов-на-различных-этапах-очистки-2.1\"><span class=\"toc-item-num\">2.1&nbsp;&nbsp;</span>Изучение концентрации металов на различных этапах очистки</a></span></li><li><span><a href=\"#Изучение-размеров-гранул-сырья-на-тестовой-и-обучающей-выборке\" data-toc-modified-id=\"Изучение-размеров-гранул-сырья-на-тестовой-и-обучающей-выборке-2.2\"><span class=\"toc-item-num\">2.2&nbsp;&nbsp;</span>Изучение размеров гранул сырья на тестовой и обучающей выборке</a></span></li><li><span><a href=\"#Исследование-суммарной-концентрации-веществ-на-различных-стадиях-обогощения\" data-toc-modified-id=\"Исследование-суммарной-концентрации-веществ-на-различных-стадиях-обогощения-2.3\"><span class=\"toc-item-num\">2.3&nbsp;&nbsp;</span>Исследование суммарной концентрации веществ на различных стадиях обогощения</a></span></li><li><span><a href=\"#Выводы\" data-toc-modified-id=\"Выводы-2.4\"><span class=\"toc-item-num\">2.4&nbsp;&nbsp;</span>Выводы</a></span></li></ul></li><li><span><a href=\"#Модель\" data-toc-modified-id=\"Модель-3\"><span class=\"toc-item-num\">3&nbsp;&nbsp;</span>Модель</a></span><ul class=\"toc-item\"><li><span><a href=\"#Создание-функции-для-рассчёта-итоговой-sMAPE\" data-toc-modified-id=\"Создание-функции-для-рассчёта-итоговой-sMAPE-3.1\"><span class=\"toc-item-num\">3.1&nbsp;&nbsp;</span>Создание функции для рассчёта итоговой sMAPE</a></span></li><li><span><a href=\"#Обучение-модели\" data-toc-modified-id=\"Обучение-модели-3.2\"><span class=\"toc-item-num\">3.2&nbsp;&nbsp;</span>Обучение модели</a></span><ul class=\"toc-item\"><li><span><a href=\"#Выбор-целей-и-признаков\" data-toc-modified-id=\"Выбор-целей-и-признаков-3.2.1\"><span class=\"toc-item-num\">3.2.1&nbsp;&nbsp;</span>Выбор целей и признаков</a></span></li><li><span><a href=\"#Dummy-модель\" data-toc-modified-id=\"Dummy-модель-3.2.2\"><span class=\"toc-item-num\">3.2.2&nbsp;&nbsp;</span>Dummy модель</a></span></li><li><span><a href=\"#Выбор-модели-для-операции-флотации\" data-toc-modified-id=\"Выбор-модели-для-операции-флотации-3.2.3\"><span class=\"toc-item-num\">3.2.3&nbsp;&nbsp;</span>Выбор модели для операции флотации</a></span></li><li><span><a href=\"#Выбор-модели-для-финального-перехода\" data-toc-modified-id=\"Выбор-модели-для-финального-перехода-3.2.4\"><span class=\"toc-item-num\">3.2.4&nbsp;&nbsp;</span>Выбор модели для финального перехода</a></span></li><li><span><a href=\"#Финальная-модель\" data-toc-modified-id=\"Финальная-модель-3.2.5\"><span class=\"toc-item-num\">3.2.5&nbsp;&nbsp;</span>Финальная модель</a></span></li></ul></li><li><span><a href=\"#Выводы\" data-toc-modified-id=\"Выводы-3.3\"><span class=\"toc-item-num\">3.3&nbsp;&nbsp;</span>Выводы</a></span></li></ul></li><li><span><a href=\"#Общие-выводы\" data-toc-modified-id=\"Общие-выводы-4\"><span class=\"toc-item-num\">4&nbsp;&nbsp;</span>Общие выводы</a></span></li></ul></div>"
   ]
  },
  {
   "cell_type": "markdown",
   "metadata": {},
   "source": [
    "## Подготовка данных"
   ]
  },
  {
   "cell_type": "code",
   "execution_count": 1,
   "metadata": {},
   "outputs": [],
   "source": [
    "import pandas as pd\n",
    "import numpy as np\n",
    "import matplotlib.pyplot as plt\n",
    "import seaborn as sns\n",
    "\n",
    "from sklearn.dummy import DummyRegressor\n",
    "\n",
    "from sklearn.linear_model import LinearRegression\n",
    "from sklearn.tree import DecisionTreeRegressor\n",
    "from sklearn.ensemble import RandomForestRegressor\n",
    "from sklearn.model_selection import GridSearchCV, cross_val_score\n",
    "from sklearn.metrics import make_scorer\n",
    "\n",
    "from catboost import CatBoostRegressor\n",
    "from catboost import cv\n",
    "from catboost import Pool\n",
    "\n",
    "import time"
   ]
  },
  {
   "cell_type": "markdown",
   "metadata": {},
   "source": [
    "### Первичное изучение данных"
   ]
  },
  {
   "cell_type": "markdown",
   "metadata": {},
   "source": [
    "Выведем информацию по исходным данным."
   ]
  },
  {
   "cell_type": "code",
   "execution_count": 2,
   "metadata": {},
   "outputs": [
    {
     "data": {
      "text/html": [
       "<div>\n",
       "<style scoped>\n",
       "    .dataframe tbody tr th:only-of-type {\n",
       "        vertical-align: middle;\n",
       "    }\n",
       "\n",
       "    .dataframe tbody tr th {\n",
       "        vertical-align: top;\n",
       "    }\n",
       "\n",
       "    .dataframe thead th {\n",
       "        text-align: right;\n",
       "    }\n",
       "</style>\n",
       "<table border=\"1\" class=\"dataframe\">\n",
       "  <thead>\n",
       "    <tr style=\"text-align: right;\">\n",
       "      <th></th>\n",
       "      <th>date</th>\n",
       "      <th>final.output.concentrate_ag</th>\n",
       "      <th>final.output.concentrate_pb</th>\n",
       "      <th>final.output.concentrate_sol</th>\n",
       "      <th>final.output.concentrate_au</th>\n",
       "      <th>final.output.recovery</th>\n",
       "      <th>final.output.tail_ag</th>\n",
       "      <th>final.output.tail_pb</th>\n",
       "      <th>final.output.tail_sol</th>\n",
       "      <th>final.output.tail_au</th>\n",
       "      <th>...</th>\n",
       "      <th>secondary_cleaner.state.floatbank4_a_air</th>\n",
       "      <th>secondary_cleaner.state.floatbank4_a_level</th>\n",
       "      <th>secondary_cleaner.state.floatbank4_b_air</th>\n",
       "      <th>secondary_cleaner.state.floatbank4_b_level</th>\n",
       "      <th>secondary_cleaner.state.floatbank5_a_air</th>\n",
       "      <th>secondary_cleaner.state.floatbank5_a_level</th>\n",
       "      <th>secondary_cleaner.state.floatbank5_b_air</th>\n",
       "      <th>secondary_cleaner.state.floatbank5_b_level</th>\n",
       "      <th>secondary_cleaner.state.floatbank6_a_air</th>\n",
       "      <th>secondary_cleaner.state.floatbank6_a_level</th>\n",
       "    </tr>\n",
       "  </thead>\n",
       "  <tbody>\n",
       "    <tr>\n",
       "      <th>0</th>\n",
       "      <td>2016-01-15 00:00:00</td>\n",
       "      <td>6.055403</td>\n",
       "      <td>9.889648</td>\n",
       "      <td>5.507324</td>\n",
       "      <td>42.192020</td>\n",
       "      <td>70.541216</td>\n",
       "      <td>10.411962</td>\n",
       "      <td>0.895447</td>\n",
       "      <td>16.904297</td>\n",
       "      <td>2.143149</td>\n",
       "      <td>...</td>\n",
       "      <td>14.016835</td>\n",
       "      <td>-502.488007</td>\n",
       "      <td>12.099931</td>\n",
       "      <td>-504.715942</td>\n",
       "      <td>9.925633</td>\n",
       "      <td>-498.310211</td>\n",
       "      <td>8.079666</td>\n",
       "      <td>-500.470978</td>\n",
       "      <td>14.151341</td>\n",
       "      <td>-605.841980</td>\n",
       "    </tr>\n",
       "    <tr>\n",
       "      <th>1</th>\n",
       "      <td>2016-01-15 01:00:00</td>\n",
       "      <td>6.029369</td>\n",
       "      <td>9.968944</td>\n",
       "      <td>5.257781</td>\n",
       "      <td>42.701629</td>\n",
       "      <td>69.266198</td>\n",
       "      <td>10.462676</td>\n",
       "      <td>0.927452</td>\n",
       "      <td>16.634514</td>\n",
       "      <td>2.224930</td>\n",
       "      <td>...</td>\n",
       "      <td>13.992281</td>\n",
       "      <td>-505.503262</td>\n",
       "      <td>11.950531</td>\n",
       "      <td>-501.331529</td>\n",
       "      <td>10.039245</td>\n",
       "      <td>-500.169983</td>\n",
       "      <td>7.984757</td>\n",
       "      <td>-500.582168</td>\n",
       "      <td>13.998353</td>\n",
       "      <td>-599.787184</td>\n",
       "    </tr>\n",
       "    <tr>\n",
       "      <th>2</th>\n",
       "      <td>2016-01-15 02:00:00</td>\n",
       "      <td>6.055926</td>\n",
       "      <td>10.213995</td>\n",
       "      <td>5.383759</td>\n",
       "      <td>42.657501</td>\n",
       "      <td>68.116445</td>\n",
       "      <td>10.507046</td>\n",
       "      <td>0.953716</td>\n",
       "      <td>16.208849</td>\n",
       "      <td>2.257889</td>\n",
       "      <td>...</td>\n",
       "      <td>14.015015</td>\n",
       "      <td>-502.520901</td>\n",
       "      <td>11.912783</td>\n",
       "      <td>-501.133383</td>\n",
       "      <td>10.070913</td>\n",
       "      <td>-500.129135</td>\n",
       "      <td>8.013877</td>\n",
       "      <td>-500.517572</td>\n",
       "      <td>14.028663</td>\n",
       "      <td>-601.427363</td>\n",
       "    </tr>\n",
       "    <tr>\n",
       "      <th>3</th>\n",
       "      <td>2016-01-15 03:00:00</td>\n",
       "      <td>6.047977</td>\n",
       "      <td>9.977019</td>\n",
       "      <td>4.858634</td>\n",
       "      <td>42.689819</td>\n",
       "      <td>68.347543</td>\n",
       "      <td>10.422762</td>\n",
       "      <td>0.883763</td>\n",
       "      <td>16.532835</td>\n",
       "      <td>2.146849</td>\n",
       "      <td>...</td>\n",
       "      <td>14.036510</td>\n",
       "      <td>-500.857308</td>\n",
       "      <td>11.999550</td>\n",
       "      <td>-501.193686</td>\n",
       "      <td>9.970366</td>\n",
       "      <td>-499.201640</td>\n",
       "      <td>7.977324</td>\n",
       "      <td>-500.255908</td>\n",
       "      <td>14.005551</td>\n",
       "      <td>-599.996129</td>\n",
       "    </tr>\n",
       "    <tr>\n",
       "      <th>4</th>\n",
       "      <td>2016-01-15 04:00:00</td>\n",
       "      <td>6.148599</td>\n",
       "      <td>10.142511</td>\n",
       "      <td>4.939416</td>\n",
       "      <td>42.774141</td>\n",
       "      <td>66.927016</td>\n",
       "      <td>10.360302</td>\n",
       "      <td>0.792826</td>\n",
       "      <td>16.525686</td>\n",
       "      <td>2.055292</td>\n",
       "      <td>...</td>\n",
       "      <td>14.027298</td>\n",
       "      <td>-499.838632</td>\n",
       "      <td>11.953070</td>\n",
       "      <td>-501.053894</td>\n",
       "      <td>9.925709</td>\n",
       "      <td>-501.686727</td>\n",
       "      <td>7.894242</td>\n",
       "      <td>-500.356035</td>\n",
       "      <td>13.996647</td>\n",
       "      <td>-601.496691</td>\n",
       "    </tr>\n",
       "  </tbody>\n",
       "</table>\n",
       "<p>5 rows × 87 columns</p>\n",
       "</div>"
      ],
      "text/plain": [
       "                  date  final.output.concentrate_ag  \\\n",
       "0  2016-01-15 00:00:00                     6.055403   \n",
       "1  2016-01-15 01:00:00                     6.029369   \n",
       "2  2016-01-15 02:00:00                     6.055926   \n",
       "3  2016-01-15 03:00:00                     6.047977   \n",
       "4  2016-01-15 04:00:00                     6.148599   \n",
       "\n",
       "   final.output.concentrate_pb  final.output.concentrate_sol  \\\n",
       "0                     9.889648                      5.507324   \n",
       "1                     9.968944                      5.257781   \n",
       "2                    10.213995                      5.383759   \n",
       "3                     9.977019                      4.858634   \n",
       "4                    10.142511                      4.939416   \n",
       "\n",
       "   final.output.concentrate_au  final.output.recovery  final.output.tail_ag  \\\n",
       "0                    42.192020              70.541216             10.411962   \n",
       "1                    42.701629              69.266198             10.462676   \n",
       "2                    42.657501              68.116445             10.507046   \n",
       "3                    42.689819              68.347543             10.422762   \n",
       "4                    42.774141              66.927016             10.360302   \n",
       "\n",
       "   final.output.tail_pb  final.output.tail_sol  final.output.tail_au  ...  \\\n",
       "0              0.895447              16.904297              2.143149  ...   \n",
       "1              0.927452              16.634514              2.224930  ...   \n",
       "2              0.953716              16.208849              2.257889  ...   \n",
       "3              0.883763              16.532835              2.146849  ...   \n",
       "4              0.792826              16.525686              2.055292  ...   \n",
       "\n",
       "   secondary_cleaner.state.floatbank4_a_air  \\\n",
       "0                                 14.016835   \n",
       "1                                 13.992281   \n",
       "2                                 14.015015   \n",
       "3                                 14.036510   \n",
       "4                                 14.027298   \n",
       "\n",
       "   secondary_cleaner.state.floatbank4_a_level  \\\n",
       "0                                 -502.488007   \n",
       "1                                 -505.503262   \n",
       "2                                 -502.520901   \n",
       "3                                 -500.857308   \n",
       "4                                 -499.838632   \n",
       "\n",
       "   secondary_cleaner.state.floatbank4_b_air  \\\n",
       "0                                 12.099931   \n",
       "1                                 11.950531   \n",
       "2                                 11.912783   \n",
       "3                                 11.999550   \n",
       "4                                 11.953070   \n",
       "\n",
       "   secondary_cleaner.state.floatbank4_b_level  \\\n",
       "0                                 -504.715942   \n",
       "1                                 -501.331529   \n",
       "2                                 -501.133383   \n",
       "3                                 -501.193686   \n",
       "4                                 -501.053894   \n",
       "\n",
       "   secondary_cleaner.state.floatbank5_a_air  \\\n",
       "0                                  9.925633   \n",
       "1                                 10.039245   \n",
       "2                                 10.070913   \n",
       "3                                  9.970366   \n",
       "4                                  9.925709   \n",
       "\n",
       "   secondary_cleaner.state.floatbank5_a_level  \\\n",
       "0                                 -498.310211   \n",
       "1                                 -500.169983   \n",
       "2                                 -500.129135   \n",
       "3                                 -499.201640   \n",
       "4                                 -501.686727   \n",
       "\n",
       "   secondary_cleaner.state.floatbank5_b_air  \\\n",
       "0                                  8.079666   \n",
       "1                                  7.984757   \n",
       "2                                  8.013877   \n",
       "3                                  7.977324   \n",
       "4                                  7.894242   \n",
       "\n",
       "   secondary_cleaner.state.floatbank5_b_level  \\\n",
       "0                                 -500.470978   \n",
       "1                                 -500.582168   \n",
       "2                                 -500.517572   \n",
       "3                                 -500.255908   \n",
       "4                                 -500.356035   \n",
       "\n",
       "   secondary_cleaner.state.floatbank6_a_air  \\\n",
       "0                                 14.151341   \n",
       "1                                 13.998353   \n",
       "2                                 14.028663   \n",
       "3                                 14.005551   \n",
       "4                                 13.996647   \n",
       "\n",
       "   secondary_cleaner.state.floatbank6_a_level  \n",
       "0                                 -605.841980  \n",
       "1                                 -599.787184  \n",
       "2                                 -601.427363  \n",
       "3                                 -599.996129  \n",
       "4                                 -601.496691  \n",
       "\n",
       "[5 rows x 87 columns]"
      ]
     },
     "metadata": {},
     "output_type": "display_data"
    }
   ],
   "source": [
    "data_full = pd.read_csv('gold_recovery_full_new.csv')\n",
    "display (data_full.head())"
   ]
  },
  {
   "cell_type": "code",
   "execution_count": 3,
   "metadata": {},
   "outputs": [
    {
     "name": "stdout",
     "output_type": "stream",
     "text": [
      "<class 'pandas.core.frame.DataFrame'>\n",
      "RangeIndex: 19439 entries, 0 to 19438\n",
      "Data columns (total 87 columns):\n",
      " #   Column                                              Non-Null Count  Dtype  \n",
      "---  ------                                              --------------  -----  \n",
      " 0   date                                                19439 non-null  object \n",
      " 1   final.output.concentrate_ag                         19438 non-null  float64\n",
      " 2   final.output.concentrate_pb                         19438 non-null  float64\n",
      " 3   final.output.concentrate_sol                        19228 non-null  float64\n",
      " 4   final.output.concentrate_au                         19439 non-null  float64\n",
      " 5   final.output.recovery                               19439 non-null  float64\n",
      " 6   final.output.tail_ag                                19438 non-null  float64\n",
      " 7   final.output.tail_pb                                19338 non-null  float64\n",
      " 8   final.output.tail_sol                               19433 non-null  float64\n",
      " 9   final.output.tail_au                                19439 non-null  float64\n",
      " 10  primary_cleaner.input.sulfate                       19415 non-null  float64\n",
      " 11  primary_cleaner.input.depressant                    19402 non-null  float64\n",
      " 12  primary_cleaner.input.feed_size                     19439 non-null  float64\n",
      " 13  primary_cleaner.input.xanthate                      19335 non-null  float64\n",
      " 14  primary_cleaner.output.concentrate_ag               19439 non-null  float64\n",
      " 15  primary_cleaner.output.concentrate_pb               19323 non-null  float64\n",
      " 16  primary_cleaner.output.concentrate_sol              19069 non-null  float64\n",
      " 17  primary_cleaner.output.concentrate_au               19439 non-null  float64\n",
      " 18  primary_cleaner.output.tail_ag                      19435 non-null  float64\n",
      " 19  primary_cleaner.output.tail_pb                      19418 non-null  float64\n",
      " 20  primary_cleaner.output.tail_sol                     19377 non-null  float64\n",
      " 21  primary_cleaner.output.tail_au                      19439 non-null  float64\n",
      " 22  primary_cleaner.state.floatbank8_a_air              19435 non-null  float64\n",
      " 23  primary_cleaner.state.floatbank8_a_level            19438 non-null  float64\n",
      " 24  primary_cleaner.state.floatbank8_b_air              19435 non-null  float64\n",
      " 25  primary_cleaner.state.floatbank8_b_level            19438 non-null  float64\n",
      " 26  primary_cleaner.state.floatbank8_c_air              19437 non-null  float64\n",
      " 27  primary_cleaner.state.floatbank8_c_level            19438 non-null  float64\n",
      " 28  primary_cleaner.state.floatbank8_d_air              19436 non-null  float64\n",
      " 29  primary_cleaner.state.floatbank8_d_level            19438 non-null  float64\n",
      " 30  rougher.calculation.sulfate_to_au_concentrate       19437 non-null  float64\n",
      " 31  rougher.calculation.floatbank10_sulfate_to_au_feed  19437 non-null  float64\n",
      " 32  rougher.calculation.floatbank11_sulfate_to_au_feed  19437 non-null  float64\n",
      " 33  rougher.calculation.au_pb_ratio                     19439 non-null  float64\n",
      " 34  rougher.input.feed_ag                               19439 non-null  float64\n",
      " 35  rougher.input.feed_pb                               19339 non-null  float64\n",
      " 36  rougher.input.feed_rate                             19428 non-null  float64\n",
      " 37  rougher.input.feed_size                             19294 non-null  float64\n",
      " 38  rougher.input.feed_sol                              19340 non-null  float64\n",
      " 39  rougher.input.feed_au                               19439 non-null  float64\n",
      " 40  rougher.input.floatbank10_sulfate                   19405 non-null  float64\n",
      " 41  rougher.input.floatbank10_xanthate                  19431 non-null  float64\n",
      " 42  rougher.input.floatbank11_sulfate                   19395 non-null  float64\n",
      " 43  rougher.input.floatbank11_xanthate                  18986 non-null  float64\n",
      " 44  rougher.output.concentrate_ag                       19439 non-null  float64\n",
      " 45  rougher.output.concentrate_pb                       19439 non-null  float64\n",
      " 46  rougher.output.concentrate_sol                      19416 non-null  float64\n",
      " 47  rougher.output.concentrate_au                       19439 non-null  float64\n",
      " 48  rougher.output.recovery                             19439 non-null  float64\n",
      " 49  rougher.output.tail_ag                              19438 non-null  float64\n",
      " 50  rougher.output.tail_pb                              19439 non-null  float64\n",
      " 51  rougher.output.tail_sol                             19439 non-null  float64\n",
      " 52  rougher.output.tail_au                              19439 non-null  float64\n",
      " 53  rougher.state.floatbank10_a_air                     19438 non-null  float64\n",
      " 54  rougher.state.floatbank10_a_level                   19438 non-null  float64\n",
      " 55  rougher.state.floatbank10_b_air                     19438 non-null  float64\n",
      " 56  rougher.state.floatbank10_b_level                   19438 non-null  float64\n",
      " 57  rougher.state.floatbank10_c_air                     19438 non-null  float64\n",
      " 58  rougher.state.floatbank10_c_level                   19438 non-null  float64\n",
      " 59  rougher.state.floatbank10_d_air                     19439 non-null  float64\n",
      " 60  rougher.state.floatbank10_d_level                   19439 non-null  float64\n",
      " 61  rougher.state.floatbank10_e_air                     19003 non-null  float64\n",
      " 62  rougher.state.floatbank10_e_level                   19439 non-null  float64\n",
      " 63  rougher.state.floatbank10_f_air                     19439 non-null  float64\n",
      " 64  rougher.state.floatbank10_f_level                   19439 non-null  float64\n",
      " 65  secondary_cleaner.output.tail_ag                    19437 non-null  float64\n",
      " 66  secondary_cleaner.output.tail_pb                    19427 non-null  float64\n",
      " 67  secondary_cleaner.output.tail_sol                   17691 non-null  float64\n",
      " 68  secondary_cleaner.output.tail_au                    19439 non-null  float64\n",
      " 69  secondary_cleaner.state.floatbank2_a_air            19219 non-null  float64\n",
      " 70  secondary_cleaner.state.floatbank2_a_level          19438 non-null  float64\n",
      " 71  secondary_cleaner.state.floatbank2_b_air            19416 non-null  float64\n",
      " 72  secondary_cleaner.state.floatbank2_b_level          19438 non-null  float64\n",
      " 73  secondary_cleaner.state.floatbank3_a_air            19426 non-null  float64\n",
      " 74  secondary_cleaner.state.floatbank3_a_level          19438 non-null  float64\n",
      " 75  secondary_cleaner.state.floatbank3_b_air            19438 non-null  float64\n",
      " 76  secondary_cleaner.state.floatbank3_b_level          19438 non-null  float64\n",
      " 77  secondary_cleaner.state.floatbank4_a_air            19433 non-null  float64\n",
      " 78  secondary_cleaner.state.floatbank4_a_level          19438 non-null  float64\n",
      " 79  secondary_cleaner.state.floatbank4_b_air            19438 non-null  float64\n",
      " 80  secondary_cleaner.state.floatbank4_b_level          19438 non-null  float64\n",
      " 81  secondary_cleaner.state.floatbank5_a_air            19438 non-null  float64\n",
      " 82  secondary_cleaner.state.floatbank5_a_level          19438 non-null  float64\n",
      " 83  secondary_cleaner.state.floatbank5_b_air            19438 non-null  float64\n",
      " 84  secondary_cleaner.state.floatbank5_b_level          19438 non-null  float64\n",
      " 85  secondary_cleaner.state.floatbank6_a_air            19437 non-null  float64\n",
      " 86  secondary_cleaner.state.floatbank6_a_level          19438 non-null  float64\n",
      "dtypes: float64(86), object(1)\n",
      "memory usage: 12.9+ MB\n",
      "None\n"
     ]
    }
   ],
   "source": [
    "print (data_full.info())"
   ]
  },
  {
   "cell_type": "markdown",
   "metadata": {},
   "source": [
    "Выведем информацию по тренировочной выборке."
   ]
  },
  {
   "cell_type": "code",
   "execution_count": 4,
   "metadata": {},
   "outputs": [
    {
     "data": {
      "text/html": [
       "<div>\n",
       "<style scoped>\n",
       "    .dataframe tbody tr th:only-of-type {\n",
       "        vertical-align: middle;\n",
       "    }\n",
       "\n",
       "    .dataframe tbody tr th {\n",
       "        vertical-align: top;\n",
       "    }\n",
       "\n",
       "    .dataframe thead th {\n",
       "        text-align: right;\n",
       "    }\n",
       "</style>\n",
       "<table border=\"1\" class=\"dataframe\">\n",
       "  <thead>\n",
       "    <tr style=\"text-align: right;\">\n",
       "      <th></th>\n",
       "      <th>date</th>\n",
       "      <th>final.output.concentrate_ag</th>\n",
       "      <th>final.output.concentrate_pb</th>\n",
       "      <th>final.output.concentrate_sol</th>\n",
       "      <th>final.output.concentrate_au</th>\n",
       "      <th>final.output.recovery</th>\n",
       "      <th>final.output.tail_ag</th>\n",
       "      <th>final.output.tail_pb</th>\n",
       "      <th>final.output.tail_sol</th>\n",
       "      <th>final.output.tail_au</th>\n",
       "      <th>...</th>\n",
       "      <th>secondary_cleaner.state.floatbank4_a_air</th>\n",
       "      <th>secondary_cleaner.state.floatbank4_a_level</th>\n",
       "      <th>secondary_cleaner.state.floatbank4_b_air</th>\n",
       "      <th>secondary_cleaner.state.floatbank4_b_level</th>\n",
       "      <th>secondary_cleaner.state.floatbank5_a_air</th>\n",
       "      <th>secondary_cleaner.state.floatbank5_a_level</th>\n",
       "      <th>secondary_cleaner.state.floatbank5_b_air</th>\n",
       "      <th>secondary_cleaner.state.floatbank5_b_level</th>\n",
       "      <th>secondary_cleaner.state.floatbank6_a_air</th>\n",
       "      <th>secondary_cleaner.state.floatbank6_a_level</th>\n",
       "    </tr>\n",
       "  </thead>\n",
       "  <tbody>\n",
       "    <tr>\n",
       "      <th>0</th>\n",
       "      <td>2016-01-15 00:00:00</td>\n",
       "      <td>6.055403</td>\n",
       "      <td>9.889648</td>\n",
       "      <td>5.507324</td>\n",
       "      <td>42.192020</td>\n",
       "      <td>70.541216</td>\n",
       "      <td>10.411962</td>\n",
       "      <td>0.895447</td>\n",
       "      <td>16.904297</td>\n",
       "      <td>2.143149</td>\n",
       "      <td>...</td>\n",
       "      <td>14.016835</td>\n",
       "      <td>-502.488007</td>\n",
       "      <td>12.099931</td>\n",
       "      <td>-504.715942</td>\n",
       "      <td>9.925633</td>\n",
       "      <td>-498.310211</td>\n",
       "      <td>8.079666</td>\n",
       "      <td>-500.470978</td>\n",
       "      <td>14.151341</td>\n",
       "      <td>-605.841980</td>\n",
       "    </tr>\n",
       "    <tr>\n",
       "      <th>1</th>\n",
       "      <td>2016-01-15 01:00:00</td>\n",
       "      <td>6.029369</td>\n",
       "      <td>9.968944</td>\n",
       "      <td>5.257781</td>\n",
       "      <td>42.701629</td>\n",
       "      <td>69.266198</td>\n",
       "      <td>10.462676</td>\n",
       "      <td>0.927452</td>\n",
       "      <td>16.634514</td>\n",
       "      <td>2.224930</td>\n",
       "      <td>...</td>\n",
       "      <td>13.992281</td>\n",
       "      <td>-505.503262</td>\n",
       "      <td>11.950531</td>\n",
       "      <td>-501.331529</td>\n",
       "      <td>10.039245</td>\n",
       "      <td>-500.169983</td>\n",
       "      <td>7.984757</td>\n",
       "      <td>-500.582168</td>\n",
       "      <td>13.998353</td>\n",
       "      <td>-599.787184</td>\n",
       "    </tr>\n",
       "    <tr>\n",
       "      <th>2</th>\n",
       "      <td>2016-01-15 02:00:00</td>\n",
       "      <td>6.055926</td>\n",
       "      <td>10.213995</td>\n",
       "      <td>5.383759</td>\n",
       "      <td>42.657501</td>\n",
       "      <td>68.116445</td>\n",
       "      <td>10.507046</td>\n",
       "      <td>0.953716</td>\n",
       "      <td>16.208849</td>\n",
       "      <td>2.257889</td>\n",
       "      <td>...</td>\n",
       "      <td>14.015015</td>\n",
       "      <td>-502.520901</td>\n",
       "      <td>11.912783</td>\n",
       "      <td>-501.133383</td>\n",
       "      <td>10.070913</td>\n",
       "      <td>-500.129135</td>\n",
       "      <td>8.013877</td>\n",
       "      <td>-500.517572</td>\n",
       "      <td>14.028663</td>\n",
       "      <td>-601.427363</td>\n",
       "    </tr>\n",
       "    <tr>\n",
       "      <th>3</th>\n",
       "      <td>2016-01-15 03:00:00</td>\n",
       "      <td>6.047977</td>\n",
       "      <td>9.977019</td>\n",
       "      <td>4.858634</td>\n",
       "      <td>42.689819</td>\n",
       "      <td>68.347543</td>\n",
       "      <td>10.422762</td>\n",
       "      <td>0.883763</td>\n",
       "      <td>16.532835</td>\n",
       "      <td>2.146849</td>\n",
       "      <td>...</td>\n",
       "      <td>14.036510</td>\n",
       "      <td>-500.857308</td>\n",
       "      <td>11.999550</td>\n",
       "      <td>-501.193686</td>\n",
       "      <td>9.970366</td>\n",
       "      <td>-499.201640</td>\n",
       "      <td>7.977324</td>\n",
       "      <td>-500.255908</td>\n",
       "      <td>14.005551</td>\n",
       "      <td>-599.996129</td>\n",
       "    </tr>\n",
       "    <tr>\n",
       "      <th>4</th>\n",
       "      <td>2016-01-15 04:00:00</td>\n",
       "      <td>6.148599</td>\n",
       "      <td>10.142511</td>\n",
       "      <td>4.939416</td>\n",
       "      <td>42.774141</td>\n",
       "      <td>66.927016</td>\n",
       "      <td>10.360302</td>\n",
       "      <td>0.792826</td>\n",
       "      <td>16.525686</td>\n",
       "      <td>2.055292</td>\n",
       "      <td>...</td>\n",
       "      <td>14.027298</td>\n",
       "      <td>-499.838632</td>\n",
       "      <td>11.953070</td>\n",
       "      <td>-501.053894</td>\n",
       "      <td>9.925709</td>\n",
       "      <td>-501.686727</td>\n",
       "      <td>7.894242</td>\n",
       "      <td>-500.356035</td>\n",
       "      <td>13.996647</td>\n",
       "      <td>-601.496691</td>\n",
       "    </tr>\n",
       "  </tbody>\n",
       "</table>\n",
       "<p>5 rows × 87 columns</p>\n",
       "</div>"
      ],
      "text/plain": [
       "                  date  final.output.concentrate_ag  \\\n",
       "0  2016-01-15 00:00:00                     6.055403   \n",
       "1  2016-01-15 01:00:00                     6.029369   \n",
       "2  2016-01-15 02:00:00                     6.055926   \n",
       "3  2016-01-15 03:00:00                     6.047977   \n",
       "4  2016-01-15 04:00:00                     6.148599   \n",
       "\n",
       "   final.output.concentrate_pb  final.output.concentrate_sol  \\\n",
       "0                     9.889648                      5.507324   \n",
       "1                     9.968944                      5.257781   \n",
       "2                    10.213995                      5.383759   \n",
       "3                     9.977019                      4.858634   \n",
       "4                    10.142511                      4.939416   \n",
       "\n",
       "   final.output.concentrate_au  final.output.recovery  final.output.tail_ag  \\\n",
       "0                    42.192020              70.541216             10.411962   \n",
       "1                    42.701629              69.266198             10.462676   \n",
       "2                    42.657501              68.116445             10.507046   \n",
       "3                    42.689819              68.347543             10.422762   \n",
       "4                    42.774141              66.927016             10.360302   \n",
       "\n",
       "   final.output.tail_pb  final.output.tail_sol  final.output.tail_au  ...  \\\n",
       "0              0.895447              16.904297              2.143149  ...   \n",
       "1              0.927452              16.634514              2.224930  ...   \n",
       "2              0.953716              16.208849              2.257889  ...   \n",
       "3              0.883763              16.532835              2.146849  ...   \n",
       "4              0.792826              16.525686              2.055292  ...   \n",
       "\n",
       "   secondary_cleaner.state.floatbank4_a_air  \\\n",
       "0                                 14.016835   \n",
       "1                                 13.992281   \n",
       "2                                 14.015015   \n",
       "3                                 14.036510   \n",
       "4                                 14.027298   \n",
       "\n",
       "   secondary_cleaner.state.floatbank4_a_level  \\\n",
       "0                                 -502.488007   \n",
       "1                                 -505.503262   \n",
       "2                                 -502.520901   \n",
       "3                                 -500.857308   \n",
       "4                                 -499.838632   \n",
       "\n",
       "   secondary_cleaner.state.floatbank4_b_air  \\\n",
       "0                                 12.099931   \n",
       "1                                 11.950531   \n",
       "2                                 11.912783   \n",
       "3                                 11.999550   \n",
       "4                                 11.953070   \n",
       "\n",
       "   secondary_cleaner.state.floatbank4_b_level  \\\n",
       "0                                 -504.715942   \n",
       "1                                 -501.331529   \n",
       "2                                 -501.133383   \n",
       "3                                 -501.193686   \n",
       "4                                 -501.053894   \n",
       "\n",
       "   secondary_cleaner.state.floatbank5_a_air  \\\n",
       "0                                  9.925633   \n",
       "1                                 10.039245   \n",
       "2                                 10.070913   \n",
       "3                                  9.970366   \n",
       "4                                  9.925709   \n",
       "\n",
       "   secondary_cleaner.state.floatbank5_a_level  \\\n",
       "0                                 -498.310211   \n",
       "1                                 -500.169983   \n",
       "2                                 -500.129135   \n",
       "3                                 -499.201640   \n",
       "4                                 -501.686727   \n",
       "\n",
       "   secondary_cleaner.state.floatbank5_b_air  \\\n",
       "0                                  8.079666   \n",
       "1                                  7.984757   \n",
       "2                                  8.013877   \n",
       "3                                  7.977324   \n",
       "4                                  7.894242   \n",
       "\n",
       "   secondary_cleaner.state.floatbank5_b_level  \\\n",
       "0                                 -500.470978   \n",
       "1                                 -500.582168   \n",
       "2                                 -500.517572   \n",
       "3                                 -500.255908   \n",
       "4                                 -500.356035   \n",
       "\n",
       "   secondary_cleaner.state.floatbank6_a_air  \\\n",
       "0                                 14.151341   \n",
       "1                                 13.998353   \n",
       "2                                 14.028663   \n",
       "3                                 14.005551   \n",
       "4                                 13.996647   \n",
       "\n",
       "   secondary_cleaner.state.floatbank6_a_level  \n",
       "0                                 -605.841980  \n",
       "1                                 -599.787184  \n",
       "2                                 -601.427363  \n",
       "3                                 -599.996129  \n",
       "4                                 -601.496691  \n",
       "\n",
       "[5 rows x 87 columns]"
      ]
     },
     "metadata": {},
     "output_type": "display_data"
    }
   ],
   "source": [
    "data_train = pd.read_csv('gold_recovery_train_new.csv')\n",
    "display (data_train.head())"
   ]
  },
  {
   "cell_type": "code",
   "execution_count": 5,
   "metadata": {},
   "outputs": [
    {
     "name": "stdout",
     "output_type": "stream",
     "text": [
      "<class 'pandas.core.frame.DataFrame'>\n",
      "RangeIndex: 14149 entries, 0 to 14148\n",
      "Data columns (total 87 columns):\n",
      " #   Column                                              Non-Null Count  Dtype  \n",
      "---  ------                                              --------------  -----  \n",
      " 0   date                                                14149 non-null  object \n",
      " 1   final.output.concentrate_ag                         14148 non-null  float64\n",
      " 2   final.output.concentrate_pb                         14148 non-null  float64\n",
      " 3   final.output.concentrate_sol                        13938 non-null  float64\n",
      " 4   final.output.concentrate_au                         14149 non-null  float64\n",
      " 5   final.output.recovery                               14149 non-null  float64\n",
      " 6   final.output.tail_ag                                14149 non-null  float64\n",
      " 7   final.output.tail_pb                                14049 non-null  float64\n",
      " 8   final.output.tail_sol                               14144 non-null  float64\n",
      " 9   final.output.tail_au                                14149 non-null  float64\n",
      " 10  primary_cleaner.input.sulfate                       14129 non-null  float64\n",
      " 11  primary_cleaner.input.depressant                    14117 non-null  float64\n",
      " 12  primary_cleaner.input.feed_size                     14149 non-null  float64\n",
      " 13  primary_cleaner.input.xanthate                      14049 non-null  float64\n",
      " 14  primary_cleaner.output.concentrate_ag               14149 non-null  float64\n",
      " 15  primary_cleaner.output.concentrate_pb               14063 non-null  float64\n",
      " 16  primary_cleaner.output.concentrate_sol              13863 non-null  float64\n",
      " 17  primary_cleaner.output.concentrate_au               14149 non-null  float64\n",
      " 18  primary_cleaner.output.tail_ag                      14148 non-null  float64\n",
      " 19  primary_cleaner.output.tail_pb                      14134 non-null  float64\n",
      " 20  primary_cleaner.output.tail_sol                     14103 non-null  float64\n",
      " 21  primary_cleaner.output.tail_au                      14149 non-null  float64\n",
      " 22  primary_cleaner.state.floatbank8_a_air              14145 non-null  float64\n",
      " 23  primary_cleaner.state.floatbank8_a_level            14148 non-null  float64\n",
      " 24  primary_cleaner.state.floatbank8_b_air              14145 non-null  float64\n",
      " 25  primary_cleaner.state.floatbank8_b_level            14148 non-null  float64\n",
      " 26  primary_cleaner.state.floatbank8_c_air              14147 non-null  float64\n",
      " 27  primary_cleaner.state.floatbank8_c_level            14148 non-null  float64\n",
      " 28  primary_cleaner.state.floatbank8_d_air              14146 non-null  float64\n",
      " 29  primary_cleaner.state.floatbank8_d_level            14148 non-null  float64\n",
      " 30  rougher.calculation.sulfate_to_au_concentrate       14148 non-null  float64\n",
      " 31  rougher.calculation.floatbank10_sulfate_to_au_feed  14148 non-null  float64\n",
      " 32  rougher.calculation.floatbank11_sulfate_to_au_feed  14148 non-null  float64\n",
      " 33  rougher.calculation.au_pb_ratio                     14149 non-null  float64\n",
      " 34  rougher.input.feed_ag                               14149 non-null  float64\n",
      " 35  rougher.input.feed_pb                               14049 non-null  float64\n",
      " 36  rougher.input.feed_rate                             14141 non-null  float64\n",
      " 37  rougher.input.feed_size                             14005 non-null  float64\n",
      " 38  rougher.input.feed_sol                              14071 non-null  float64\n",
      " 39  rougher.input.feed_au                               14149 non-null  float64\n",
      " 40  rougher.input.floatbank10_sulfate                   14120 non-null  float64\n",
      " 41  rougher.input.floatbank10_xanthate                  14141 non-null  float64\n",
      " 42  rougher.input.floatbank11_sulfate                   14113 non-null  float64\n",
      " 43  rougher.input.floatbank11_xanthate                  13721 non-null  float64\n",
      " 44  rougher.output.concentrate_ag                       14149 non-null  float64\n",
      " 45  rougher.output.concentrate_pb                       14149 non-null  float64\n",
      " 46  rougher.output.concentrate_sol                      14127 non-null  float64\n",
      " 47  rougher.output.concentrate_au                       14149 non-null  float64\n",
      " 48  rougher.output.recovery                             14149 non-null  float64\n",
      " 49  rougher.output.tail_ag                              14148 non-null  float64\n",
      " 50  rougher.output.tail_pb                              14149 non-null  float64\n",
      " 51  rougher.output.tail_sol                             14149 non-null  float64\n",
      " 52  rougher.output.tail_au                              14149 non-null  float64\n",
      " 53  rougher.state.floatbank10_a_air                     14148 non-null  float64\n",
      " 54  rougher.state.floatbank10_a_level                   14148 non-null  float64\n",
      " 55  rougher.state.floatbank10_b_air                     14148 non-null  float64\n",
      " 56  rougher.state.floatbank10_b_level                   14148 non-null  float64\n",
      " 57  rougher.state.floatbank10_c_air                     14148 non-null  float64\n",
      " 58  rougher.state.floatbank10_c_level                   14148 non-null  float64\n",
      " 59  rougher.state.floatbank10_d_air                     14149 non-null  float64\n",
      " 60  rougher.state.floatbank10_d_level                   14149 non-null  float64\n",
      " 61  rougher.state.floatbank10_e_air                     13713 non-null  float64\n",
      " 62  rougher.state.floatbank10_e_level                   14149 non-null  float64\n",
      " 63  rougher.state.floatbank10_f_air                     14149 non-null  float64\n",
      " 64  rougher.state.floatbank10_f_level                   14149 non-null  float64\n",
      " 65  secondary_cleaner.output.tail_ag                    14147 non-null  float64\n",
      " 66  secondary_cleaner.output.tail_pb                    14139 non-null  float64\n",
      " 67  secondary_cleaner.output.tail_sol                   12544 non-null  float64\n",
      " 68  secondary_cleaner.output.tail_au                    14149 non-null  float64\n",
      " 69  secondary_cleaner.state.floatbank2_a_air            13932 non-null  float64\n",
      " 70  secondary_cleaner.state.floatbank2_a_level          14148 non-null  float64\n",
      " 71  secondary_cleaner.state.floatbank2_b_air            14128 non-null  float64\n",
      " 72  secondary_cleaner.state.floatbank2_b_level          14148 non-null  float64\n",
      " 73  secondary_cleaner.state.floatbank3_a_air            14145 non-null  float64\n",
      " 74  secondary_cleaner.state.floatbank3_a_level          14148 non-null  float64\n",
      " 75  secondary_cleaner.state.floatbank3_b_air            14148 non-null  float64\n",
      " 76  secondary_cleaner.state.floatbank3_b_level          14148 non-null  float64\n",
      " 77  secondary_cleaner.state.floatbank4_a_air            14143 non-null  float64\n",
      " 78  secondary_cleaner.state.floatbank4_a_level          14148 non-null  float64\n",
      " 79  secondary_cleaner.state.floatbank4_b_air            14148 non-null  float64\n",
      " 80  secondary_cleaner.state.floatbank4_b_level          14148 non-null  float64\n",
      " 81  secondary_cleaner.state.floatbank5_a_air            14148 non-null  float64\n",
      " 82  secondary_cleaner.state.floatbank5_a_level          14148 non-null  float64\n",
      " 83  secondary_cleaner.state.floatbank5_b_air            14148 non-null  float64\n",
      " 84  secondary_cleaner.state.floatbank5_b_level          14148 non-null  float64\n",
      " 85  secondary_cleaner.state.floatbank6_a_air            14147 non-null  float64\n",
      " 86  secondary_cleaner.state.floatbank6_a_level          14148 non-null  float64\n",
      "dtypes: float64(86), object(1)\n",
      "memory usage: 9.4+ MB\n",
      "None\n"
     ]
    }
   ],
   "source": [
    "print (data_train.info())"
   ]
  },
  {
   "cell_type": "markdown",
   "metadata": {},
   "source": [
    "Выведем информацию по тестовой выборке"
   ]
  },
  {
   "cell_type": "code",
   "execution_count": 6,
   "metadata": {},
   "outputs": [
    {
     "data": {
      "text/html": [
       "<div>\n",
       "<style scoped>\n",
       "    .dataframe tbody tr th:only-of-type {\n",
       "        vertical-align: middle;\n",
       "    }\n",
       "\n",
       "    .dataframe tbody tr th {\n",
       "        vertical-align: top;\n",
       "    }\n",
       "\n",
       "    .dataframe thead th {\n",
       "        text-align: right;\n",
       "    }\n",
       "</style>\n",
       "<table border=\"1\" class=\"dataframe\">\n",
       "  <thead>\n",
       "    <tr style=\"text-align: right;\">\n",
       "      <th></th>\n",
       "      <th>date</th>\n",
       "      <th>primary_cleaner.input.sulfate</th>\n",
       "      <th>primary_cleaner.input.depressant</th>\n",
       "      <th>primary_cleaner.input.feed_size</th>\n",
       "      <th>primary_cleaner.input.xanthate</th>\n",
       "      <th>primary_cleaner.state.floatbank8_a_air</th>\n",
       "      <th>primary_cleaner.state.floatbank8_a_level</th>\n",
       "      <th>primary_cleaner.state.floatbank8_b_air</th>\n",
       "      <th>primary_cleaner.state.floatbank8_b_level</th>\n",
       "      <th>primary_cleaner.state.floatbank8_c_air</th>\n",
       "      <th>...</th>\n",
       "      <th>secondary_cleaner.state.floatbank4_a_air</th>\n",
       "      <th>secondary_cleaner.state.floatbank4_a_level</th>\n",
       "      <th>secondary_cleaner.state.floatbank4_b_air</th>\n",
       "      <th>secondary_cleaner.state.floatbank4_b_level</th>\n",
       "      <th>secondary_cleaner.state.floatbank5_a_air</th>\n",
       "      <th>secondary_cleaner.state.floatbank5_a_level</th>\n",
       "      <th>secondary_cleaner.state.floatbank5_b_air</th>\n",
       "      <th>secondary_cleaner.state.floatbank5_b_level</th>\n",
       "      <th>secondary_cleaner.state.floatbank6_a_air</th>\n",
       "      <th>secondary_cleaner.state.floatbank6_a_level</th>\n",
       "    </tr>\n",
       "  </thead>\n",
       "  <tbody>\n",
       "    <tr>\n",
       "      <th>0</th>\n",
       "      <td>2016-09-01 00:59:59</td>\n",
       "      <td>210.800909</td>\n",
       "      <td>14.993118</td>\n",
       "      <td>8.080000</td>\n",
       "      <td>1.005021</td>\n",
       "      <td>1398.981301</td>\n",
       "      <td>-500.225577</td>\n",
       "      <td>1399.144926</td>\n",
       "      <td>-499.919735</td>\n",
       "      <td>1400.102998</td>\n",
       "      <td>...</td>\n",
       "      <td>12.023554</td>\n",
       "      <td>-497.795834</td>\n",
       "      <td>8.016656</td>\n",
       "      <td>-501.289139</td>\n",
       "      <td>7.946562</td>\n",
       "      <td>-432.317850</td>\n",
       "      <td>4.872511</td>\n",
       "      <td>-500.037437</td>\n",
       "      <td>26.705889</td>\n",
       "      <td>-499.709414</td>\n",
       "    </tr>\n",
       "    <tr>\n",
       "      <th>1</th>\n",
       "      <td>2016-09-01 01:59:59</td>\n",
       "      <td>215.392455</td>\n",
       "      <td>14.987471</td>\n",
       "      <td>8.080000</td>\n",
       "      <td>0.990469</td>\n",
       "      <td>1398.777912</td>\n",
       "      <td>-500.057435</td>\n",
       "      <td>1398.055362</td>\n",
       "      <td>-499.778182</td>\n",
       "      <td>1396.151033</td>\n",
       "      <td>...</td>\n",
       "      <td>12.058140</td>\n",
       "      <td>-498.695773</td>\n",
       "      <td>8.130979</td>\n",
       "      <td>-499.634209</td>\n",
       "      <td>7.958270</td>\n",
       "      <td>-525.839648</td>\n",
       "      <td>4.878850</td>\n",
       "      <td>-500.162375</td>\n",
       "      <td>25.019940</td>\n",
       "      <td>-499.819438</td>\n",
       "    </tr>\n",
       "    <tr>\n",
       "      <th>2</th>\n",
       "      <td>2016-09-01 02:59:59</td>\n",
       "      <td>215.259946</td>\n",
       "      <td>12.884934</td>\n",
       "      <td>7.786667</td>\n",
       "      <td>0.996043</td>\n",
       "      <td>1398.493666</td>\n",
       "      <td>-500.868360</td>\n",
       "      <td>1398.860436</td>\n",
       "      <td>-499.764529</td>\n",
       "      <td>1398.075709</td>\n",
       "      <td>...</td>\n",
       "      <td>11.962366</td>\n",
       "      <td>-498.767484</td>\n",
       "      <td>8.096893</td>\n",
       "      <td>-500.827423</td>\n",
       "      <td>8.071056</td>\n",
       "      <td>-500.801673</td>\n",
       "      <td>4.905125</td>\n",
       "      <td>-499.828510</td>\n",
       "      <td>24.994862</td>\n",
       "      <td>-500.622559</td>\n",
       "    </tr>\n",
       "    <tr>\n",
       "      <th>3</th>\n",
       "      <td>2016-09-01 03:59:59</td>\n",
       "      <td>215.336236</td>\n",
       "      <td>12.006805</td>\n",
       "      <td>7.640000</td>\n",
       "      <td>0.863514</td>\n",
       "      <td>1399.618111</td>\n",
       "      <td>-498.863574</td>\n",
       "      <td>1397.440120</td>\n",
       "      <td>-499.211024</td>\n",
       "      <td>1400.129303</td>\n",
       "      <td>...</td>\n",
       "      <td>12.033091</td>\n",
       "      <td>-498.350935</td>\n",
       "      <td>8.074946</td>\n",
       "      <td>-499.474407</td>\n",
       "      <td>7.897085</td>\n",
       "      <td>-500.868509</td>\n",
       "      <td>4.931400</td>\n",
       "      <td>-499.963623</td>\n",
       "      <td>24.948919</td>\n",
       "      <td>-498.709987</td>\n",
       "    </tr>\n",
       "    <tr>\n",
       "      <th>4</th>\n",
       "      <td>2016-09-01 04:59:59</td>\n",
       "      <td>199.099327</td>\n",
       "      <td>10.682530</td>\n",
       "      <td>7.530000</td>\n",
       "      <td>0.805575</td>\n",
       "      <td>1401.268123</td>\n",
       "      <td>-500.808305</td>\n",
       "      <td>1398.128818</td>\n",
       "      <td>-499.504543</td>\n",
       "      <td>1402.172226</td>\n",
       "      <td>...</td>\n",
       "      <td>12.025367</td>\n",
       "      <td>-500.786497</td>\n",
       "      <td>8.054678</td>\n",
       "      <td>-500.397500</td>\n",
       "      <td>8.107890</td>\n",
       "      <td>-509.526725</td>\n",
       "      <td>4.957674</td>\n",
       "      <td>-500.360026</td>\n",
       "      <td>25.003331</td>\n",
       "      <td>-500.856333</td>\n",
       "    </tr>\n",
       "  </tbody>\n",
       "</table>\n",
       "<p>5 rows × 53 columns</p>\n",
       "</div>"
      ],
      "text/plain": [
       "                  date  primary_cleaner.input.sulfate  \\\n",
       "0  2016-09-01 00:59:59                     210.800909   \n",
       "1  2016-09-01 01:59:59                     215.392455   \n",
       "2  2016-09-01 02:59:59                     215.259946   \n",
       "3  2016-09-01 03:59:59                     215.336236   \n",
       "4  2016-09-01 04:59:59                     199.099327   \n",
       "\n",
       "   primary_cleaner.input.depressant  primary_cleaner.input.feed_size  \\\n",
       "0                         14.993118                         8.080000   \n",
       "1                         14.987471                         8.080000   \n",
       "2                         12.884934                         7.786667   \n",
       "3                         12.006805                         7.640000   \n",
       "4                         10.682530                         7.530000   \n",
       "\n",
       "   primary_cleaner.input.xanthate  primary_cleaner.state.floatbank8_a_air  \\\n",
       "0                        1.005021                             1398.981301   \n",
       "1                        0.990469                             1398.777912   \n",
       "2                        0.996043                             1398.493666   \n",
       "3                        0.863514                             1399.618111   \n",
       "4                        0.805575                             1401.268123   \n",
       "\n",
       "   primary_cleaner.state.floatbank8_a_level  \\\n",
       "0                               -500.225577   \n",
       "1                               -500.057435   \n",
       "2                               -500.868360   \n",
       "3                               -498.863574   \n",
       "4                               -500.808305   \n",
       "\n",
       "   primary_cleaner.state.floatbank8_b_air  \\\n",
       "0                             1399.144926   \n",
       "1                             1398.055362   \n",
       "2                             1398.860436   \n",
       "3                             1397.440120   \n",
       "4                             1398.128818   \n",
       "\n",
       "   primary_cleaner.state.floatbank8_b_level  \\\n",
       "0                               -499.919735   \n",
       "1                               -499.778182   \n",
       "2                               -499.764529   \n",
       "3                               -499.211024   \n",
       "4                               -499.504543   \n",
       "\n",
       "   primary_cleaner.state.floatbank8_c_air  ...  \\\n",
       "0                             1400.102998  ...   \n",
       "1                             1396.151033  ...   \n",
       "2                             1398.075709  ...   \n",
       "3                             1400.129303  ...   \n",
       "4                             1402.172226  ...   \n",
       "\n",
       "   secondary_cleaner.state.floatbank4_a_air  \\\n",
       "0                                 12.023554   \n",
       "1                                 12.058140   \n",
       "2                                 11.962366   \n",
       "3                                 12.033091   \n",
       "4                                 12.025367   \n",
       "\n",
       "   secondary_cleaner.state.floatbank4_a_level  \\\n",
       "0                                 -497.795834   \n",
       "1                                 -498.695773   \n",
       "2                                 -498.767484   \n",
       "3                                 -498.350935   \n",
       "4                                 -500.786497   \n",
       "\n",
       "   secondary_cleaner.state.floatbank4_b_air  \\\n",
       "0                                  8.016656   \n",
       "1                                  8.130979   \n",
       "2                                  8.096893   \n",
       "3                                  8.074946   \n",
       "4                                  8.054678   \n",
       "\n",
       "   secondary_cleaner.state.floatbank4_b_level  \\\n",
       "0                                 -501.289139   \n",
       "1                                 -499.634209   \n",
       "2                                 -500.827423   \n",
       "3                                 -499.474407   \n",
       "4                                 -500.397500   \n",
       "\n",
       "   secondary_cleaner.state.floatbank5_a_air  \\\n",
       "0                                  7.946562   \n",
       "1                                  7.958270   \n",
       "2                                  8.071056   \n",
       "3                                  7.897085   \n",
       "4                                  8.107890   \n",
       "\n",
       "   secondary_cleaner.state.floatbank5_a_level  \\\n",
       "0                                 -432.317850   \n",
       "1                                 -525.839648   \n",
       "2                                 -500.801673   \n",
       "3                                 -500.868509   \n",
       "4                                 -509.526725   \n",
       "\n",
       "   secondary_cleaner.state.floatbank5_b_air  \\\n",
       "0                                  4.872511   \n",
       "1                                  4.878850   \n",
       "2                                  4.905125   \n",
       "3                                  4.931400   \n",
       "4                                  4.957674   \n",
       "\n",
       "   secondary_cleaner.state.floatbank5_b_level  \\\n",
       "0                                 -500.037437   \n",
       "1                                 -500.162375   \n",
       "2                                 -499.828510   \n",
       "3                                 -499.963623   \n",
       "4                                 -500.360026   \n",
       "\n",
       "   secondary_cleaner.state.floatbank6_a_air  \\\n",
       "0                                 26.705889   \n",
       "1                                 25.019940   \n",
       "2                                 24.994862   \n",
       "3                                 24.948919   \n",
       "4                                 25.003331   \n",
       "\n",
       "   secondary_cleaner.state.floatbank6_a_level  \n",
       "0                                 -499.709414  \n",
       "1                                 -499.819438  \n",
       "2                                 -500.622559  \n",
       "3                                 -498.709987  \n",
       "4                                 -500.856333  \n",
       "\n",
       "[5 rows x 53 columns]"
      ]
     },
     "metadata": {},
     "output_type": "display_data"
    }
   ],
   "source": [
    "data_test = pd.read_csv('gold_recovery_test_new.csv')\n",
    "display (data_test.head())"
   ]
  },
  {
   "cell_type": "code",
   "execution_count": 7,
   "metadata": {},
   "outputs": [
    {
     "name": "stdout",
     "output_type": "stream",
     "text": [
      "<class 'pandas.core.frame.DataFrame'>\n",
      "RangeIndex: 5290 entries, 0 to 5289\n",
      "Data columns (total 53 columns):\n",
      " #   Column                                      Non-Null Count  Dtype  \n",
      "---  ------                                      --------------  -----  \n",
      " 0   date                                        5290 non-null   object \n",
      " 1   primary_cleaner.input.sulfate               5286 non-null   float64\n",
      " 2   primary_cleaner.input.depressant            5285 non-null   float64\n",
      " 3   primary_cleaner.input.feed_size             5290 non-null   float64\n",
      " 4   primary_cleaner.input.xanthate              5286 non-null   float64\n",
      " 5   primary_cleaner.state.floatbank8_a_air      5290 non-null   float64\n",
      " 6   primary_cleaner.state.floatbank8_a_level    5290 non-null   float64\n",
      " 7   primary_cleaner.state.floatbank8_b_air      5290 non-null   float64\n",
      " 8   primary_cleaner.state.floatbank8_b_level    5290 non-null   float64\n",
      " 9   primary_cleaner.state.floatbank8_c_air      5290 non-null   float64\n",
      " 10  primary_cleaner.state.floatbank8_c_level    5290 non-null   float64\n",
      " 11  primary_cleaner.state.floatbank8_d_air      5290 non-null   float64\n",
      " 12  primary_cleaner.state.floatbank8_d_level    5290 non-null   float64\n",
      " 13  rougher.input.feed_ag                       5290 non-null   float64\n",
      " 14  rougher.input.feed_pb                       5290 non-null   float64\n",
      " 15  rougher.input.feed_rate                     5287 non-null   float64\n",
      " 16  rougher.input.feed_size                     5289 non-null   float64\n",
      " 17  rougher.input.feed_sol                      5269 non-null   float64\n",
      " 18  rougher.input.feed_au                       5290 non-null   float64\n",
      " 19  rougher.input.floatbank10_sulfate           5285 non-null   float64\n",
      " 20  rougher.input.floatbank10_xanthate          5290 non-null   float64\n",
      " 21  rougher.input.floatbank11_sulfate           5282 non-null   float64\n",
      " 22  rougher.input.floatbank11_xanthate          5265 non-null   float64\n",
      " 23  rougher.state.floatbank10_a_air             5290 non-null   float64\n",
      " 24  rougher.state.floatbank10_a_level           5290 non-null   float64\n",
      " 25  rougher.state.floatbank10_b_air             5290 non-null   float64\n",
      " 26  rougher.state.floatbank10_b_level           5290 non-null   float64\n",
      " 27  rougher.state.floatbank10_c_air             5290 non-null   float64\n",
      " 28  rougher.state.floatbank10_c_level           5290 non-null   float64\n",
      " 29  rougher.state.floatbank10_d_air             5290 non-null   float64\n",
      " 30  rougher.state.floatbank10_d_level           5290 non-null   float64\n",
      " 31  rougher.state.floatbank10_e_air             5290 non-null   float64\n",
      " 32  rougher.state.floatbank10_e_level           5290 non-null   float64\n",
      " 33  rougher.state.floatbank10_f_air             5290 non-null   float64\n",
      " 34  rougher.state.floatbank10_f_level           5290 non-null   float64\n",
      " 35  secondary_cleaner.state.floatbank2_a_air    5287 non-null   float64\n",
      " 36  secondary_cleaner.state.floatbank2_a_level  5290 non-null   float64\n",
      " 37  secondary_cleaner.state.floatbank2_b_air    5288 non-null   float64\n",
      " 38  secondary_cleaner.state.floatbank2_b_level  5290 non-null   float64\n",
      " 39  secondary_cleaner.state.floatbank3_a_air    5281 non-null   float64\n",
      " 40  secondary_cleaner.state.floatbank3_a_level  5290 non-null   float64\n",
      " 41  secondary_cleaner.state.floatbank3_b_air    5290 non-null   float64\n",
      " 42  secondary_cleaner.state.floatbank3_b_level  5290 non-null   float64\n",
      " 43  secondary_cleaner.state.floatbank4_a_air    5290 non-null   float64\n",
      " 44  secondary_cleaner.state.floatbank4_a_level  5290 non-null   float64\n",
      " 45  secondary_cleaner.state.floatbank4_b_air    5290 non-null   float64\n",
      " 46  secondary_cleaner.state.floatbank4_b_level  5290 non-null   float64\n",
      " 47  secondary_cleaner.state.floatbank5_a_air    5290 non-null   float64\n",
      " 48  secondary_cleaner.state.floatbank5_a_level  5290 non-null   float64\n",
      " 49  secondary_cleaner.state.floatbank5_b_air    5290 non-null   float64\n",
      " 50  secondary_cleaner.state.floatbank5_b_level  5290 non-null   float64\n",
      " 51  secondary_cleaner.state.floatbank6_a_air    5290 non-null   float64\n",
      " 52  secondary_cleaner.state.floatbank6_a_level  5290 non-null   float64\n",
      "dtypes: float64(52), object(1)\n",
      "memory usage: 2.1+ MB\n",
      "None\n"
     ]
    }
   ],
   "source": [
    "print (data_test.info())"
   ]
  },
  {
   "cell_type": "markdown",
   "metadata": {},
   "source": [
    "Все столбцы в датасетах, кроме одного имеют формат float64. Также во всех столбцах есть пропуски и их нужно будет обработать в дальнейшем. Кроме того необходимо привести в нормальный вид формат времени"
   ]
  },
  {
   "cell_type": "code",
   "execution_count": 8,
   "metadata": {},
   "outputs": [],
   "source": [
    "data_full['date'] = pd.to_datetime(data_full['date'], format='%Y-%m-%d %H:%M:%S')\n",
    "data_train['date'] = pd.to_datetime(data_train['date'], format='%Y-%m-%d %H:%M:%S')\n",
    "data_test['date'] = pd.to_datetime(data_test['date'], format='%Y-%m-%d %H:%M:%S')"
   ]
  },
  {
   "cell_type": "markdown",
   "metadata": {},
   "source": [
    "### Проверка рассчёта эффективности"
   ]
  },
  {
   "cell_type": "markdown",
   "metadata": {},
   "source": [
    "Поскольку показатель эффективности рассчитывается на основе данных датасета, то проверим его корректность и расчитаем эффективность обогощения на обучающей выборке."
   ]
  },
  {
   "cell_type": "code",
   "execution_count": 9,
   "metadata": {},
   "outputs": [],
   "source": [
    "C = data_train['rougher.output.concentrate_au'] # доля золота в концентрате после флотации/очистки\n",
    "F = data_train['rougher.input.feed_au'] # доля золота в сырье/концентрате до флотации/очистки\n",
    "T = data_train['rougher.output.tail_au'] # доля золота в отвальных хвостах после флотации/очистки\n",
    "\n",
    "data_train['recovery'] = ( C * (F - T))/(F * (C - T)) * 100"
   ]
  },
  {
   "cell_type": "markdown",
   "metadata": {},
   "source": [
    "Расчитаем MAE по полученному признаку."
   ]
  },
  {
   "cell_type": "code",
   "execution_count": 10,
   "metadata": {},
   "outputs": [
    {
     "data": {
      "text/plain": [
       "1.3774226204077422e-10"
      ]
     },
     "execution_count": 10,
     "metadata": {},
     "output_type": "execute_result"
    }
   ],
   "source": [
    "MAE = np.sum(abs(data_train['rougher.output.recovery'] - data_train['recovery']))\n",
    "MAE"
   ]
  },
  {
   "cell_type": "markdown",
   "metadata": {},
   "source": [
    "MAE между эффективностью обогощения рассчитанное нами и полученое из данных крайне мало, вероятнее всего оно может быть связано с округлениями в процессе рассчёта. Соответственно можно сделать вывод, что данный признак в датасете посчитан верно"
   ]
  },
  {
   "cell_type": "markdown",
   "metadata": {},
   "source": [
    "### Анализ тестовой выборки и заполнение пропусков"
   ]
  },
  {
   "cell_type": "markdown",
   "metadata": {},
   "source": [
    "Проанализируем данные пропущенные в тестовой выборке. Для начало выведим количество пропущенных значений в датасете"
   ]
  },
  {
   "cell_type": "code",
   "execution_count": 11,
   "metadata": {
    "scrolled": true
   },
   "outputs": [
    {
     "data": {
      "text/plain": [
       "date                                           0\n",
       "primary_cleaner.input.sulfate                  4\n",
       "primary_cleaner.input.depressant               5\n",
       "primary_cleaner.input.feed_size                0\n",
       "primary_cleaner.input.xanthate                 4\n",
       "primary_cleaner.state.floatbank8_a_air         0\n",
       "primary_cleaner.state.floatbank8_a_level       0\n",
       "primary_cleaner.state.floatbank8_b_air         0\n",
       "primary_cleaner.state.floatbank8_b_level       0\n",
       "primary_cleaner.state.floatbank8_c_air         0\n",
       "primary_cleaner.state.floatbank8_c_level       0\n",
       "primary_cleaner.state.floatbank8_d_air         0\n",
       "primary_cleaner.state.floatbank8_d_level       0\n",
       "rougher.input.feed_ag                          0\n",
       "rougher.input.feed_pb                          0\n",
       "rougher.input.feed_rate                        3\n",
       "rougher.input.feed_size                        1\n",
       "rougher.input.feed_sol                        21\n",
       "rougher.input.feed_au                          0\n",
       "rougher.input.floatbank10_sulfate              5\n",
       "rougher.input.floatbank10_xanthate             0\n",
       "rougher.input.floatbank11_sulfate              8\n",
       "rougher.input.floatbank11_xanthate            25\n",
       "rougher.state.floatbank10_a_air                0\n",
       "rougher.state.floatbank10_a_level              0\n",
       "rougher.state.floatbank10_b_air                0\n",
       "rougher.state.floatbank10_b_level              0\n",
       "rougher.state.floatbank10_c_air                0\n",
       "rougher.state.floatbank10_c_level              0\n",
       "rougher.state.floatbank10_d_air                0\n",
       "rougher.state.floatbank10_d_level              0\n",
       "rougher.state.floatbank10_e_air                0\n",
       "rougher.state.floatbank10_e_level              0\n",
       "rougher.state.floatbank10_f_air                0\n",
       "rougher.state.floatbank10_f_level              0\n",
       "secondary_cleaner.state.floatbank2_a_air       3\n",
       "secondary_cleaner.state.floatbank2_a_level     0\n",
       "secondary_cleaner.state.floatbank2_b_air       2\n",
       "secondary_cleaner.state.floatbank2_b_level     0\n",
       "secondary_cleaner.state.floatbank3_a_air       9\n",
       "secondary_cleaner.state.floatbank3_a_level     0\n",
       "secondary_cleaner.state.floatbank3_b_air       0\n",
       "secondary_cleaner.state.floatbank3_b_level     0\n",
       "secondary_cleaner.state.floatbank4_a_air       0\n",
       "secondary_cleaner.state.floatbank4_a_level     0\n",
       "secondary_cleaner.state.floatbank4_b_air       0\n",
       "secondary_cleaner.state.floatbank4_b_level     0\n",
       "secondary_cleaner.state.floatbank5_a_air       0\n",
       "secondary_cleaner.state.floatbank5_a_level     0\n",
       "secondary_cleaner.state.floatbank5_b_air       0\n",
       "secondary_cleaner.state.floatbank5_b_level     0\n",
       "secondary_cleaner.state.floatbank6_a_air       0\n",
       "secondary_cleaner.state.floatbank6_a_level     0\n",
       "dtype: int64"
      ]
     },
     "execution_count": 11,
     "metadata": {},
     "output_type": "execute_result"
    }
   ],
   "source": [
    "data_test.isna().sum()"
   ]
  },
  {
   "cell_type": "markdown",
   "metadata": {},
   "source": [
    "Пропуски в данных встречаются более чем в 10 столбцах. выведем строки с пропусками. Больше всего пропусков (более 40) на тестовой выборке относится к процессу флотации"
   ]
  },
  {
   "cell_type": "markdown",
   "metadata": {},
   "source": [
    "Выведем строчки где есть хотя бы одно пропущенное значение"
   ]
  },
  {
   "cell_type": "code",
   "execution_count": 12,
   "metadata": {},
   "outputs": [
    {
     "data": {
      "text/html": [
       "<div>\n",
       "<style scoped>\n",
       "    .dataframe tbody tr th:only-of-type {\n",
       "        vertical-align: middle;\n",
       "    }\n",
       "\n",
       "    .dataframe tbody tr th {\n",
       "        vertical-align: top;\n",
       "    }\n",
       "\n",
       "    .dataframe thead th {\n",
       "        text-align: right;\n",
       "    }\n",
       "</style>\n",
       "<table border=\"1\" class=\"dataframe\">\n",
       "  <thead>\n",
       "    <tr style=\"text-align: right;\">\n",
       "      <th></th>\n",
       "      <th>date</th>\n",
       "      <th>primary_cleaner.input.sulfate</th>\n",
       "      <th>primary_cleaner.input.depressant</th>\n",
       "      <th>primary_cleaner.input.feed_size</th>\n",
       "      <th>primary_cleaner.input.xanthate</th>\n",
       "      <th>primary_cleaner.state.floatbank8_a_air</th>\n",
       "      <th>primary_cleaner.state.floatbank8_a_level</th>\n",
       "      <th>primary_cleaner.state.floatbank8_b_air</th>\n",
       "      <th>primary_cleaner.state.floatbank8_b_level</th>\n",
       "      <th>primary_cleaner.state.floatbank8_c_air</th>\n",
       "      <th>primary_cleaner.state.floatbank8_c_level</th>\n",
       "      <th>primary_cleaner.state.floatbank8_d_air</th>\n",
       "      <th>primary_cleaner.state.floatbank8_d_level</th>\n",
       "      <th>rougher.input.feed_ag</th>\n",
       "      <th>rougher.input.feed_pb</th>\n",
       "      <th>rougher.input.feed_rate</th>\n",
       "      <th>rougher.input.feed_size</th>\n",
       "      <th>rougher.input.feed_sol</th>\n",
       "      <th>rougher.input.feed_au</th>\n",
       "      <th>rougher.input.floatbank10_sulfate</th>\n",
       "      <th>rougher.input.floatbank10_xanthate</th>\n",
       "      <th>rougher.input.floatbank11_sulfate</th>\n",
       "      <th>rougher.input.floatbank11_xanthate</th>\n",
       "      <th>rougher.state.floatbank10_a_air</th>\n",
       "      <th>rougher.state.floatbank10_a_level</th>\n",
       "      <th>rougher.state.floatbank10_b_air</th>\n",
       "      <th>rougher.state.floatbank10_b_level</th>\n",
       "      <th>rougher.state.floatbank10_c_air</th>\n",
       "      <th>rougher.state.floatbank10_c_level</th>\n",
       "      <th>rougher.state.floatbank10_d_air</th>\n",
       "      <th>rougher.state.floatbank10_d_level</th>\n",
       "      <th>rougher.state.floatbank10_e_air</th>\n",
       "      <th>rougher.state.floatbank10_e_level</th>\n",
       "      <th>rougher.state.floatbank10_f_air</th>\n",
       "      <th>rougher.state.floatbank10_f_level</th>\n",
       "      <th>secondary_cleaner.state.floatbank2_a_air</th>\n",
       "      <th>secondary_cleaner.state.floatbank2_a_level</th>\n",
       "      <th>secondary_cleaner.state.floatbank2_b_air</th>\n",
       "      <th>secondary_cleaner.state.floatbank2_b_level</th>\n",
       "      <th>secondary_cleaner.state.floatbank3_a_air</th>\n",
       "      <th>secondary_cleaner.state.floatbank3_a_level</th>\n",
       "      <th>secondary_cleaner.state.floatbank3_b_air</th>\n",
       "      <th>secondary_cleaner.state.floatbank3_b_level</th>\n",
       "      <th>secondary_cleaner.state.floatbank4_a_air</th>\n",
       "      <th>secondary_cleaner.state.floatbank4_a_level</th>\n",
       "      <th>secondary_cleaner.state.floatbank4_b_air</th>\n",
       "      <th>secondary_cleaner.state.floatbank4_b_level</th>\n",
       "      <th>secondary_cleaner.state.floatbank5_a_air</th>\n",
       "      <th>secondary_cleaner.state.floatbank5_a_level</th>\n",
       "      <th>secondary_cleaner.state.floatbank5_b_air</th>\n",
       "      <th>secondary_cleaner.state.floatbank5_b_level</th>\n",
       "      <th>secondary_cleaner.state.floatbank6_a_air</th>\n",
       "      <th>secondary_cleaner.state.floatbank6_a_level</th>\n",
       "    </tr>\n",
       "  </thead>\n",
       "  <tbody>\n",
       "    <tr>\n",
       "      <th>30</th>\n",
       "      <td>2016-09-02 06:59:59</td>\n",
       "      <td>NaN</td>\n",
       "      <td>NaN</td>\n",
       "      <td>7.1600</td>\n",
       "      <td>NaN</td>\n",
       "      <td>4.126292e+02</td>\n",
       "      <td>-795.316337</td>\n",
       "      <td>4.137033e+02</td>\n",
       "      <td>-787.396567</td>\n",
       "      <td>4.416043e+02</td>\n",
       "      <td>-799.942901</td>\n",
       "      <td>2.779496e+02</td>\n",
       "      <td>-799.760111</td>\n",
       "      <td>0.568441</td>\n",
       "      <td>0.273677</td>\n",
       "      <td>0.185161</td>\n",
       "      <td>73.863127</td>\n",
       "      <td>3.091118</td>\n",
       "      <td>0.568632</td>\n",
       "      <td>NaN</td>\n",
       "      <td>0.005559</td>\n",
       "      <td>0.002121</td>\n",
       "      <td>0.017055</td>\n",
       "      <td>802.900908</td>\n",
       "      <td>-522.987484</td>\n",
       "      <td>900.542913</td>\n",
       "      <td>-650.245277</td>\n",
       "      <td>1005.732206</td>\n",
       "      <td>-439.919433</td>\n",
       "      <td>1009.700913</td>\n",
       "      <td>-619.995695</td>\n",
       "      <td>676.186135</td>\n",
       "      <td>-649.267537</td>\n",
       "      <td>617.387077</td>\n",
       "      <td>-445.400385</td>\n",
       "      <td>15.220105</td>\n",
       "      <td>-725.426349</td>\n",
       "      <td>6.004391</td>\n",
       "      <td>-788.919901</td>\n",
       "      <td>0.000000e+00</td>\n",
       "      <td>-796.177023</td>\n",
       "      <td>6.203523e+00</td>\n",
       "      <td>-660.374105</td>\n",
       "      <td>6.576244e+00</td>\n",
       "      <td>-616.550019</td>\n",
       "      <td>4.625908e+00</td>\n",
       "      <td>-678.347958</td>\n",
       "      <td>4.451592</td>\n",
       "      <td>-795.337422</td>\n",
       "      <td>3.544708</td>\n",
       "      <td>-800.024373</td>\n",
       "      <td>5.914889</td>\n",
       "      <td>-799.501783</td>\n",
       "    </tr>\n",
       "    <tr>\n",
       "      <th>31</th>\n",
       "      <td>2016-09-02 10:59:59</td>\n",
       "      <td>64.558863</td>\n",
       "      <td>0.061864</td>\n",
       "      <td>7.1095</td>\n",
       "      <td>0.520084</td>\n",
       "      <td>1.433955e+03</td>\n",
       "      <td>-499.688476</td>\n",
       "      <td>1.553150e+03</td>\n",
       "      <td>-500.878552</td>\n",
       "      <td>1.517895e+03</td>\n",
       "      <td>-507.108257</td>\n",
       "      <td>1.124912e+03</td>\n",
       "      <td>-498.156657</td>\n",
       "      <td>8.138400</td>\n",
       "      <td>3.903507</td>\n",
       "      <td>485.929637</td>\n",
       "      <td>70.322458</td>\n",
       "      <td>44.276094</td>\n",
       "      <td>8.144801</td>\n",
       "      <td>9.435013</td>\n",
       "      <td>5.278592</td>\n",
       "      <td>9.081144</td>\n",
       "      <td>5.284294</td>\n",
       "      <td>1000.270639</td>\n",
       "      <td>-349.387437</td>\n",
       "      <td>1250.841286</td>\n",
       "      <td>-399.344115</td>\n",
       "      <td>1249.962813</td>\n",
       "      <td>-398.580569</td>\n",
       "      <td>1199.336006</td>\n",
       "      <td>-402.251450</td>\n",
       "      <td>997.504708</td>\n",
       "      <td>-400.750459</td>\n",
       "      <td>948.095197</td>\n",
       "      <td>-397.325402</td>\n",
       "      <td>25.097560</td>\n",
       "      <td>-499.829794</td>\n",
       "      <td>12.029984</td>\n",
       "      <td>-500.482332</td>\n",
       "      <td>NaN</td>\n",
       "      <td>-501.187631</td>\n",
       "      <td>1.200799e+01</td>\n",
       "      <td>-506.368820</td>\n",
       "      <td>1.199375e+01</td>\n",
       "      <td>-499.148736</td>\n",
       "      <td>8.129055e+00</td>\n",
       "      <td>-500.125308</td>\n",
       "      <td>8.031323</td>\n",
       "      <td>-486.756657</td>\n",
       "      <td>5.047491</td>\n",
       "      <td>-467.938124</td>\n",
       "      <td>10.047098</td>\n",
       "      <td>-499.813489</td>\n",
       "    </tr>\n",
       "    <tr>\n",
       "      <th>32</th>\n",
       "      <td>2016-09-02 11:59:59</td>\n",
       "      <td>112.768923</td>\n",
       "      <td>6.061414</td>\n",
       "      <td>6.1500</td>\n",
       "      <td>0.819723</td>\n",
       "      <td>1.426909e+03</td>\n",
       "      <td>-500.749720</td>\n",
       "      <td>1.544540e+03</td>\n",
       "      <td>-501.570124</td>\n",
       "      <td>1.509087e+03</td>\n",
       "      <td>-504.328580</td>\n",
       "      <td>1.155663e+03</td>\n",
       "      <td>-498.748072</td>\n",
       "      <td>8.521644</td>\n",
       "      <td>3.885984</td>\n",
       "      <td>500.159628</td>\n",
       "      <td>77.206635</td>\n",
       "      <td>44.894493</td>\n",
       "      <td>8.156237</td>\n",
       "      <td>10.005237</td>\n",
       "      <td>5.591944</td>\n",
       "      <td>9.996164</td>\n",
       "      <td>5.598313</td>\n",
       "      <td>1000.678350</td>\n",
       "      <td>-350.181882</td>\n",
       "      <td>1249.590770</td>\n",
       "      <td>-401.880130</td>\n",
       "      <td>1249.794934</td>\n",
       "      <td>-402.143991</td>\n",
       "      <td>1203.829277</td>\n",
       "      <td>-401.651676</td>\n",
       "      <td>1000.538808</td>\n",
       "      <td>-401.464829</td>\n",
       "      <td>950.120669</td>\n",
       "      <td>-401.253866</td>\n",
       "      <td>25.114399</td>\n",
       "      <td>-500.224823</td>\n",
       "      <td>11.973063</td>\n",
       "      <td>-499.875561</td>\n",
       "      <td>NaN</td>\n",
       "      <td>-500.770087</td>\n",
       "      <td>1.201216e+01</td>\n",
       "      <td>-500.548062</td>\n",
       "      <td>1.205734e+01</td>\n",
       "      <td>-501.795391</td>\n",
       "      <td>8.100986e+00</td>\n",
       "      <td>-501.032511</td>\n",
       "      <td>8.053520</td>\n",
       "      <td>-506.002857</td>\n",
       "      <td>5.025161</td>\n",
       "      <td>-447.918397</td>\n",
       "      <td>9.911242</td>\n",
       "      <td>-497.922919</td>\n",
       "    </tr>\n",
       "    <tr>\n",
       "      <th>33</th>\n",
       "      <td>2016-09-02 12:59:59</td>\n",
       "      <td>132.526641</td>\n",
       "      <td>8.257739</td>\n",
       "      <td>6.6715</td>\n",
       "      <td>0.803072</td>\n",
       "      <td>1.419082e+03</td>\n",
       "      <td>-499.519835</td>\n",
       "      <td>1.530869e+03</td>\n",
       "      <td>-499.749240</td>\n",
       "      <td>1.494243e+03</td>\n",
       "      <td>-499.770361</td>\n",
       "      <td>1.077569e+03</td>\n",
       "      <td>-499.811063</td>\n",
       "      <td>8.544087</td>\n",
       "      <td>3.942040</td>\n",
       "      <td>494.430227</td>\n",
       "      <td>74.223202</td>\n",
       "      <td>45.660274</td>\n",
       "      <td>8.283520</td>\n",
       "      <td>10.006594</td>\n",
       "      <td>5.600524</td>\n",
       "      <td>10.006470</td>\n",
       "      <td>5.601279</td>\n",
       "      <td>999.592488</td>\n",
       "      <td>-349.874866</td>\n",
       "      <td>1248.339846</td>\n",
       "      <td>-398.963858</td>\n",
       "      <td>1247.309356</td>\n",
       "      <td>-399.529153</td>\n",
       "      <td>1197.350029</td>\n",
       "      <td>-398.536292</td>\n",
       "      <td>1000.318731</td>\n",
       "      <td>-400.839432</td>\n",
       "      <td>949.492077</td>\n",
       "      <td>-393.888648</td>\n",
       "      <td>25.037717</td>\n",
       "      <td>-500.134492</td>\n",
       "      <td>12.035171</td>\n",
       "      <td>-500.149291</td>\n",
       "      <td>NaN</td>\n",
       "      <td>-499.934905</td>\n",
       "      <td>1.203362e+01</td>\n",
       "      <td>-500.145056</td>\n",
       "      <td>1.205950e+01</td>\n",
       "      <td>-499.670889</td>\n",
       "      <td>8.075180e+00</td>\n",
       "      <td>-500.466176</td>\n",
       "      <td>8.077882</td>\n",
       "      <td>-509.265467</td>\n",
       "      <td>4.837108</td>\n",
       "      <td>-501.855340</td>\n",
       "      <td>9.891463</td>\n",
       "      <td>-504.150985</td>\n",
       "    </tr>\n",
       "    <tr>\n",
       "      <th>34</th>\n",
       "      <td>2016-09-02 13:59:59</td>\n",
       "      <td>138.109389</td>\n",
       "      <td>7.975929</td>\n",
       "      <td>7.6400</td>\n",
       "      <td>0.800642</td>\n",
       "      <td>1.420089e+03</td>\n",
       "      <td>-499.765691</td>\n",
       "      <td>1.522047e+03</td>\n",
       "      <td>-499.458234</td>\n",
       "      <td>1.483131e+03</td>\n",
       "      <td>-500.341037</td>\n",
       "      <td>1.027951e+03</td>\n",
       "      <td>-500.283853</td>\n",
       "      <td>8.054134</td>\n",
       "      <td>3.795038</td>\n",
       "      <td>506.442420</td>\n",
       "      <td>75.323449</td>\n",
       "      <td>44.450206</td>\n",
       "      <td>7.978776</td>\n",
       "      <td>9.995931</td>\n",
       "      <td>5.595679</td>\n",
       "      <td>10.005594</td>\n",
       "      <td>5.601865</td>\n",
       "      <td>999.807131</td>\n",
       "      <td>-350.080177</td>\n",
       "      <td>1250.494223</td>\n",
       "      <td>-400.535291</td>\n",
       "      <td>1248.959919</td>\n",
       "      <td>-400.203273</td>\n",
       "      <td>1205.861083</td>\n",
       "      <td>-401.473681</td>\n",
       "      <td>999.737519</td>\n",
       "      <td>-400.182823</td>\n",
       "      <td>949.791523</td>\n",
       "      <td>-400.367232</td>\n",
       "      <td>24.868593</td>\n",
       "      <td>-500.555021</td>\n",
       "      <td>11.956296</td>\n",
       "      <td>-499.958514</td>\n",
       "      <td>NaN</td>\n",
       "      <td>-499.864738</td>\n",
       "      <td>1.207519e+01</td>\n",
       "      <td>-499.859823</td>\n",
       "      <td>1.192250e+01</td>\n",
       "      <td>-499.468037</td>\n",
       "      <td>8.049423e+00</td>\n",
       "      <td>-500.135072</td>\n",
       "      <td>7.905382</td>\n",
       "      <td>-503.020886</td>\n",
       "      <td>4.925342</td>\n",
       "      <td>-500.552419</td>\n",
       "      <td>10.045443</td>\n",
       "      <td>-500.501492</td>\n",
       "    </tr>\n",
       "    <tr>\n",
       "      <th>...</th>\n",
       "      <td>...</td>\n",
       "      <td>...</td>\n",
       "      <td>...</td>\n",
       "      <td>...</td>\n",
       "      <td>...</td>\n",
       "      <td>...</td>\n",
       "      <td>...</td>\n",
       "      <td>...</td>\n",
       "      <td>...</td>\n",
       "      <td>...</td>\n",
       "      <td>...</td>\n",
       "      <td>...</td>\n",
       "      <td>...</td>\n",
       "      <td>...</td>\n",
       "      <td>...</td>\n",
       "      <td>...</td>\n",
       "      <td>...</td>\n",
       "      <td>...</td>\n",
       "      <td>...</td>\n",
       "      <td>...</td>\n",
       "      <td>...</td>\n",
       "      <td>...</td>\n",
       "      <td>...</td>\n",
       "      <td>...</td>\n",
       "      <td>...</td>\n",
       "      <td>...</td>\n",
       "      <td>...</td>\n",
       "      <td>...</td>\n",
       "      <td>...</td>\n",
       "      <td>...</td>\n",
       "      <td>...</td>\n",
       "      <td>...</td>\n",
       "      <td>...</td>\n",
       "      <td>...</td>\n",
       "      <td>...</td>\n",
       "      <td>...</td>\n",
       "      <td>...</td>\n",
       "      <td>...</td>\n",
       "      <td>...</td>\n",
       "      <td>...</td>\n",
       "      <td>...</td>\n",
       "      <td>...</td>\n",
       "      <td>...</td>\n",
       "      <td>...</td>\n",
       "      <td>...</td>\n",
       "      <td>...</td>\n",
       "      <td>...</td>\n",
       "      <td>...</td>\n",
       "      <td>...</td>\n",
       "      <td>...</td>\n",
       "      <td>...</td>\n",
       "      <td>...</td>\n",
       "      <td>...</td>\n",
       "    </tr>\n",
       "    <tr>\n",
       "      <th>5177</th>\n",
       "      <td>2017-12-26 15:59:59</td>\n",
       "      <td>65.955281</td>\n",
       "      <td>4.987334</td>\n",
       "      <td>5.8000</td>\n",
       "      <td>0.432814</td>\n",
       "      <td>1.602115e+03</td>\n",
       "      <td>-399.129844</td>\n",
       "      <td>1.602575e+03</td>\n",
       "      <td>-401.095627</td>\n",
       "      <td>1.300212e+03</td>\n",
       "      <td>-399.531723</td>\n",
       "      <td>1.598867e+03</td>\n",
       "      <td>-400.341939</td>\n",
       "      <td>11.009126</td>\n",
       "      <td>4.807537</td>\n",
       "      <td>207.835719</td>\n",
       "      <td>110.803508</td>\n",
       "      <td>35.370287</td>\n",
       "      <td>10.259331</td>\n",
       "      <td>10.001505</td>\n",
       "      <td>6.299765</td>\n",
       "      <td>0.180681</td>\n",
       "      <td>NaN</td>\n",
       "      <td>1351.602825</td>\n",
       "      <td>-300.198769</td>\n",
       "      <td>1199.986782</td>\n",
       "      <td>-500.622048</td>\n",
       "      <td>1099.573639</td>\n",
       "      <td>-500.004845</td>\n",
       "      <td>1002.908071</td>\n",
       "      <td>-502.245694</td>\n",
       "      <td>900.101095</td>\n",
       "      <td>-500.511994</td>\n",
       "      <td>900.290652</td>\n",
       "      <td>-501.091897</td>\n",
       "      <td>29.003730</td>\n",
       "      <td>-500.022449</td>\n",
       "      <td>26.974440</td>\n",
       "      <td>-500.050472</td>\n",
       "      <td>2.800786e+01</td>\n",
       "      <td>-499.936163</td>\n",
       "      <td>2.297470e+01</td>\n",
       "      <td>-500.006288</td>\n",
       "      <td>2.001978e+01</td>\n",
       "      <td>-500.257457</td>\n",
       "      <td>1.507806e+01</td>\n",
       "      <td>-499.553551</td>\n",
       "      <td>11.040759</td>\n",
       "      <td>-500.030707</td>\n",
       "      <td>8.939822</td>\n",
       "      <td>-499.982171</td>\n",
       "      <td>12.001369</td>\n",
       "      <td>-500.535695</td>\n",
       "    </tr>\n",
       "    <tr>\n",
       "      <th>5178</th>\n",
       "      <td>2017-12-26 16:59:59</td>\n",
       "      <td>68.748269</td>\n",
       "      <td>4.967088</td>\n",
       "      <td>5.8000</td>\n",
       "      <td>0.546002</td>\n",
       "      <td>1.601695e+03</td>\n",
       "      <td>-401.309128</td>\n",
       "      <td>1.603799e+03</td>\n",
       "      <td>-398.454978</td>\n",
       "      <td>1.306149e+03</td>\n",
       "      <td>-400.174497</td>\n",
       "      <td>1.599217e+03</td>\n",
       "      <td>-399.995205</td>\n",
       "      <td>11.073433</td>\n",
       "      <td>4.806203</td>\n",
       "      <td>209.562240</td>\n",
       "      <td>115.468181</td>\n",
       "      <td>36.162986</td>\n",
       "      <td>10.200718</td>\n",
       "      <td>10.000911</td>\n",
       "      <td>6.299047</td>\n",
       "      <td>0.167784</td>\n",
       "      <td>NaN</td>\n",
       "      <td>1351.232705</td>\n",
       "      <td>-299.493063</td>\n",
       "      <td>1200.486090</td>\n",
       "      <td>-499.664851</td>\n",
       "      <td>1098.201947</td>\n",
       "      <td>-499.528925</td>\n",
       "      <td>997.002403</td>\n",
       "      <td>-500.158570</td>\n",
       "      <td>899.159575</td>\n",
       "      <td>-498.630623</td>\n",
       "      <td>899.467260</td>\n",
       "      <td>-500.569695</td>\n",
       "      <td>28.941389</td>\n",
       "      <td>-498.950195</td>\n",
       "      <td>26.962906</td>\n",
       "      <td>-499.951292</td>\n",
       "      <td>2.797338e+01</td>\n",
       "      <td>-500.291145</td>\n",
       "      <td>2.299016e+01</td>\n",
       "      <td>-499.771156</td>\n",
       "      <td>2.000773e+01</td>\n",
       "      <td>-500.282320</td>\n",
       "      <td>1.511650e+01</td>\n",
       "      <td>-500.088520</td>\n",
       "      <td>11.053275</td>\n",
       "      <td>-500.223931</td>\n",
       "      <td>8.996529</td>\n",
       "      <td>-499.892002</td>\n",
       "      <td>12.003847</td>\n",
       "      <td>-500.072328</td>\n",
       "    </tr>\n",
       "    <tr>\n",
       "      <th>5179</th>\n",
       "      <td>2017-12-26 17:59:59</td>\n",
       "      <td>66.671316</td>\n",
       "      <td>4.982771</td>\n",
       "      <td>5.8000</td>\n",
       "      <td>0.546054</td>\n",
       "      <td>1.601798e+03</td>\n",
       "      <td>-399.342516</td>\n",
       "      <td>1.601004e+03</td>\n",
       "      <td>-399.589165</td>\n",
       "      <td>1.309597e+03</td>\n",
       "      <td>-400.158460</td>\n",
       "      <td>1.600829e+03</td>\n",
       "      <td>-399.293346</td>\n",
       "      <td>11.162702</td>\n",
       "      <td>4.852328</td>\n",
       "      <td>211.505442</td>\n",
       "      <td>107.832709</td>\n",
       "      <td>35.600084</td>\n",
       "      <td>10.146912</td>\n",
       "      <td>10.000339</td>\n",
       "      <td>6.300533</td>\n",
       "      <td>0.166596</td>\n",
       "      <td>NaN</td>\n",
       "      <td>1348.014230</td>\n",
       "      <td>-300.350466</td>\n",
       "      <td>1199.885945</td>\n",
       "      <td>-500.259369</td>\n",
       "      <td>1101.742638</td>\n",
       "      <td>-499.973446</td>\n",
       "      <td>1005.041856</td>\n",
       "      <td>-497.719002</td>\n",
       "      <td>901.874469</td>\n",
       "      <td>-500.459981</td>\n",
       "      <td>900.873672</td>\n",
       "      <td>-498.286419</td>\n",
       "      <td>28.961191</td>\n",
       "      <td>-500.948144</td>\n",
       "      <td>26.992667</td>\n",
       "      <td>-500.248787</td>\n",
       "      <td>2.799868e+01</td>\n",
       "      <td>-500.755227</td>\n",
       "      <td>2.300916e+01</td>\n",
       "      <td>-500.128782</td>\n",
       "      <td>1.997038e+01</td>\n",
       "      <td>-499.739051</td>\n",
       "      <td>1.503472e+01</td>\n",
       "      <td>-499.893765</td>\n",
       "      <td>11.005241</td>\n",
       "      <td>-498.989282</td>\n",
       "      <td>9.046014</td>\n",
       "      <td>-499.756903</td>\n",
       "      <td>11.983336</td>\n",
       "      <td>-498.917245</td>\n",
       "    </tr>\n",
       "    <tr>\n",
       "      <th>5184</th>\n",
       "      <td>2017-12-27 10:59:59</td>\n",
       "      <td>NaN</td>\n",
       "      <td>NaN</td>\n",
       "      <td>7.2000</td>\n",
       "      <td>0.028131</td>\n",
       "      <td>7.805874e-32</td>\n",
       "      <td>-782.505268</td>\n",
       "      <td>9.528241e-32</td>\n",
       "      <td>-496.652939</td>\n",
       "      <td>5.781792e-32</td>\n",
       "      <td>-799.960571</td>\n",
       "      <td>5.789652e-32</td>\n",
       "      <td>-799.794250</td>\n",
       "      <td>11.450708</td>\n",
       "      <td>5.413574</td>\n",
       "      <td>NaN</td>\n",
       "      <td>NaN</td>\n",
       "      <td>41.058594</td>\n",
       "      <td>11.629298</td>\n",
       "      <td>NaN</td>\n",
       "      <td>0.015914</td>\n",
       "      <td>NaN</td>\n",
       "      <td>0.006985</td>\n",
       "      <td>-0.020163</td>\n",
       "      <td>-651.930974</td>\n",
       "      <td>-0.661920</td>\n",
       "      <td>-650.065369</td>\n",
       "      <td>-0.056636</td>\n",
       "      <td>-647.544439</td>\n",
       "      <td>-0.992219</td>\n",
       "      <td>-76.397327</td>\n",
       "      <td>-1.982295</td>\n",
       "      <td>-638.512817</td>\n",
       "      <td>-2.593390</td>\n",
       "      <td>-649.880981</td>\n",
       "      <td>0.205329</td>\n",
       "      <td>-747.786377</td>\n",
       "      <td>0.187334</td>\n",
       "      <td>-782.658560</td>\n",
       "      <td>3.777482e-10</td>\n",
       "      <td>-799.755798</td>\n",
       "      <td>3.130303e-10</td>\n",
       "      <td>-809.333008</td>\n",
       "      <td>2.706261e-10</td>\n",
       "      <td>-799.798523</td>\n",
       "      <td>2.030172e-10</td>\n",
       "      <td>-800.836914</td>\n",
       "      <td>0.069227</td>\n",
       "      <td>-796.857296</td>\n",
       "      <td>0.528083</td>\n",
       "      <td>-800.220337</td>\n",
       "      <td>-0.079426</td>\n",
       "      <td>-742.843140</td>\n",
       "    </tr>\n",
       "    <tr>\n",
       "      <th>5185</th>\n",
       "      <td>2017-12-27 11:59:59</td>\n",
       "      <td>7.469704</td>\n",
       "      <td>NaN</td>\n",
       "      <td>7.2000</td>\n",
       "      <td>0.004984</td>\n",
       "      <td>5.445860e-32</td>\n",
       "      <td>-782.195107</td>\n",
       "      <td>6.647490e-32</td>\n",
       "      <td>-496.247779</td>\n",
       "      <td>4.033736e-32</td>\n",
       "      <td>-799.929370</td>\n",
       "      <td>4.039220e-32</td>\n",
       "      <td>-798.764856</td>\n",
       "      <td>11.450708</td>\n",
       "      <td>5.413574</td>\n",
       "      <td>NaN</td>\n",
       "      <td>65.574392</td>\n",
       "      <td>41.058594</td>\n",
       "      <td>11.629298</td>\n",
       "      <td>NaN</td>\n",
       "      <td>0.004386</td>\n",
       "      <td>0.005890</td>\n",
       "      <td>NaN</td>\n",
       "      <td>-0.042069</td>\n",
       "      <td>-654.799234</td>\n",
       "      <td>-0.721806</td>\n",
       "      <td>-650.033492</td>\n",
       "      <td>2.426204</td>\n",
       "      <td>-647.231558</td>\n",
       "      <td>-0.927401</td>\n",
       "      <td>-518.194683</td>\n",
       "      <td>-1.915434</td>\n",
       "      <td>-139.753025</td>\n",
       "      <td>-2.520792</td>\n",
       "      <td>-649.784186</td>\n",
       "      <td>2.397853</td>\n",
       "      <td>-776.952373</td>\n",
       "      <td>1.064790</td>\n",
       "      <td>-795.561931</td>\n",
       "      <td>2.187925e+00</td>\n",
       "      <td>-799.458106</td>\n",
       "      <td>2.040033e+00</td>\n",
       "      <td>-809.247497</td>\n",
       "      <td>3.265143e+00</td>\n",
       "      <td>-799.427634</td>\n",
       "      <td>1.080343e+00</td>\n",
       "      <td>-799.879409</td>\n",
       "      <td>0.200600</td>\n",
       "      <td>-797.323986</td>\n",
       "      <td>1.420606</td>\n",
       "      <td>-800.118587</td>\n",
       "      <td>0.016815</td>\n",
       "      <td>-789.840007</td>\n",
       "    </tr>\n",
       "  </tbody>\n",
       "</table>\n",
       "<p>61 rows × 53 columns</p>\n",
       "</div>"
      ],
      "text/plain": [
       "                    date  primary_cleaner.input.sulfate  \\\n",
       "30   2016-09-02 06:59:59                            NaN   \n",
       "31   2016-09-02 10:59:59                      64.558863   \n",
       "32   2016-09-02 11:59:59                     112.768923   \n",
       "33   2016-09-02 12:59:59                     132.526641   \n",
       "34   2016-09-02 13:59:59                     138.109389   \n",
       "...                  ...                            ...   \n",
       "5177 2017-12-26 15:59:59                      65.955281   \n",
       "5178 2017-12-26 16:59:59                      68.748269   \n",
       "5179 2017-12-26 17:59:59                      66.671316   \n",
       "5184 2017-12-27 10:59:59                            NaN   \n",
       "5185 2017-12-27 11:59:59                       7.469704   \n",
       "\n",
       "      primary_cleaner.input.depressant  primary_cleaner.input.feed_size  \\\n",
       "30                                 NaN                           7.1600   \n",
       "31                            0.061864                           7.1095   \n",
       "32                            6.061414                           6.1500   \n",
       "33                            8.257739                           6.6715   \n",
       "34                            7.975929                           7.6400   \n",
       "...                                ...                              ...   \n",
       "5177                          4.987334                           5.8000   \n",
       "5178                          4.967088                           5.8000   \n",
       "5179                          4.982771                           5.8000   \n",
       "5184                               NaN                           7.2000   \n",
       "5185                               NaN                           7.2000   \n",
       "\n",
       "      primary_cleaner.input.xanthate  primary_cleaner.state.floatbank8_a_air  \\\n",
       "30                               NaN                            4.126292e+02   \n",
       "31                          0.520084                            1.433955e+03   \n",
       "32                          0.819723                            1.426909e+03   \n",
       "33                          0.803072                            1.419082e+03   \n",
       "34                          0.800642                            1.420089e+03   \n",
       "...                              ...                                     ...   \n",
       "5177                        0.432814                            1.602115e+03   \n",
       "5178                        0.546002                            1.601695e+03   \n",
       "5179                        0.546054                            1.601798e+03   \n",
       "5184                        0.028131                            7.805874e-32   \n",
       "5185                        0.004984                            5.445860e-32   \n",
       "\n",
       "      primary_cleaner.state.floatbank8_a_level  \\\n",
       "30                                 -795.316337   \n",
       "31                                 -499.688476   \n",
       "32                                 -500.749720   \n",
       "33                                 -499.519835   \n",
       "34                                 -499.765691   \n",
       "...                                        ...   \n",
       "5177                               -399.129844   \n",
       "5178                               -401.309128   \n",
       "5179                               -399.342516   \n",
       "5184                               -782.505268   \n",
       "5185                               -782.195107   \n",
       "\n",
       "      primary_cleaner.state.floatbank8_b_air  \\\n",
       "30                              4.137033e+02   \n",
       "31                              1.553150e+03   \n",
       "32                              1.544540e+03   \n",
       "33                              1.530869e+03   \n",
       "34                              1.522047e+03   \n",
       "...                                      ...   \n",
       "5177                            1.602575e+03   \n",
       "5178                            1.603799e+03   \n",
       "5179                            1.601004e+03   \n",
       "5184                            9.528241e-32   \n",
       "5185                            6.647490e-32   \n",
       "\n",
       "      primary_cleaner.state.floatbank8_b_level  \\\n",
       "30                                 -787.396567   \n",
       "31                                 -500.878552   \n",
       "32                                 -501.570124   \n",
       "33                                 -499.749240   \n",
       "34                                 -499.458234   \n",
       "...                                        ...   \n",
       "5177                               -401.095627   \n",
       "5178                               -398.454978   \n",
       "5179                               -399.589165   \n",
       "5184                               -496.652939   \n",
       "5185                               -496.247779   \n",
       "\n",
       "      primary_cleaner.state.floatbank8_c_air  \\\n",
       "30                              4.416043e+02   \n",
       "31                              1.517895e+03   \n",
       "32                              1.509087e+03   \n",
       "33                              1.494243e+03   \n",
       "34                              1.483131e+03   \n",
       "...                                      ...   \n",
       "5177                            1.300212e+03   \n",
       "5178                            1.306149e+03   \n",
       "5179                            1.309597e+03   \n",
       "5184                            5.781792e-32   \n",
       "5185                            4.033736e-32   \n",
       "\n",
       "      primary_cleaner.state.floatbank8_c_level  \\\n",
       "30                                 -799.942901   \n",
       "31                                 -507.108257   \n",
       "32                                 -504.328580   \n",
       "33                                 -499.770361   \n",
       "34                                 -500.341037   \n",
       "...                                        ...   \n",
       "5177                               -399.531723   \n",
       "5178                               -400.174497   \n",
       "5179                               -400.158460   \n",
       "5184                               -799.960571   \n",
       "5185                               -799.929370   \n",
       "\n",
       "      primary_cleaner.state.floatbank8_d_air  \\\n",
       "30                              2.779496e+02   \n",
       "31                              1.124912e+03   \n",
       "32                              1.155663e+03   \n",
       "33                              1.077569e+03   \n",
       "34                              1.027951e+03   \n",
       "...                                      ...   \n",
       "5177                            1.598867e+03   \n",
       "5178                            1.599217e+03   \n",
       "5179                            1.600829e+03   \n",
       "5184                            5.789652e-32   \n",
       "5185                            4.039220e-32   \n",
       "\n",
       "      primary_cleaner.state.floatbank8_d_level  rougher.input.feed_ag  \\\n",
       "30                                 -799.760111               0.568441   \n",
       "31                                 -498.156657               8.138400   \n",
       "32                                 -498.748072               8.521644   \n",
       "33                                 -499.811063               8.544087   \n",
       "34                                 -500.283853               8.054134   \n",
       "...                                        ...                    ...   \n",
       "5177                               -400.341939              11.009126   \n",
       "5178                               -399.995205              11.073433   \n",
       "5179                               -399.293346              11.162702   \n",
       "5184                               -799.794250              11.450708   \n",
       "5185                               -798.764856              11.450708   \n",
       "\n",
       "      rougher.input.feed_pb  rougher.input.feed_rate  rougher.input.feed_size  \\\n",
       "30                 0.273677                 0.185161                73.863127   \n",
       "31                 3.903507               485.929637                70.322458   \n",
       "32                 3.885984               500.159628                77.206635   \n",
       "33                 3.942040               494.430227                74.223202   \n",
       "34                 3.795038               506.442420                75.323449   \n",
       "...                     ...                      ...                      ...   \n",
       "5177               4.807537               207.835719               110.803508   \n",
       "5178               4.806203               209.562240               115.468181   \n",
       "5179               4.852328               211.505442               107.832709   \n",
       "5184               5.413574                      NaN                      NaN   \n",
       "5185               5.413574                      NaN                65.574392   \n",
       "\n",
       "      rougher.input.feed_sol  rougher.input.feed_au  \\\n",
       "30                  3.091118               0.568632   \n",
       "31                 44.276094               8.144801   \n",
       "32                 44.894493               8.156237   \n",
       "33                 45.660274               8.283520   \n",
       "34                 44.450206               7.978776   \n",
       "...                      ...                    ...   \n",
       "5177               35.370287              10.259331   \n",
       "5178               36.162986              10.200718   \n",
       "5179               35.600084              10.146912   \n",
       "5184               41.058594              11.629298   \n",
       "5185               41.058594              11.629298   \n",
       "\n",
       "      rougher.input.floatbank10_sulfate  rougher.input.floatbank10_xanthate  \\\n",
       "30                                  NaN                            0.005559   \n",
       "31                             9.435013                            5.278592   \n",
       "32                            10.005237                            5.591944   \n",
       "33                            10.006594                            5.600524   \n",
       "34                             9.995931                            5.595679   \n",
       "...                                 ...                                 ...   \n",
       "5177                          10.001505                            6.299765   \n",
       "5178                          10.000911                            6.299047   \n",
       "5179                          10.000339                            6.300533   \n",
       "5184                                NaN                            0.015914   \n",
       "5185                                NaN                            0.004386   \n",
       "\n",
       "      rougher.input.floatbank11_sulfate  rougher.input.floatbank11_xanthate  \\\n",
       "30                             0.002121                            0.017055   \n",
       "31                             9.081144                            5.284294   \n",
       "32                             9.996164                            5.598313   \n",
       "33                            10.006470                            5.601279   \n",
       "34                            10.005594                            5.601865   \n",
       "...                                 ...                                 ...   \n",
       "5177                           0.180681                                 NaN   \n",
       "5178                           0.167784                                 NaN   \n",
       "5179                           0.166596                                 NaN   \n",
       "5184                                NaN                            0.006985   \n",
       "5185                           0.005890                                 NaN   \n",
       "\n",
       "      rougher.state.floatbank10_a_air  rougher.state.floatbank10_a_level  \\\n",
       "30                         802.900908                        -522.987484   \n",
       "31                        1000.270639                        -349.387437   \n",
       "32                        1000.678350                        -350.181882   \n",
       "33                         999.592488                        -349.874866   \n",
       "34                         999.807131                        -350.080177   \n",
       "...                               ...                                ...   \n",
       "5177                      1351.602825                        -300.198769   \n",
       "5178                      1351.232705                        -299.493063   \n",
       "5179                      1348.014230                        -300.350466   \n",
       "5184                        -0.020163                        -651.930974   \n",
       "5185                        -0.042069                        -654.799234   \n",
       "\n",
       "      rougher.state.floatbank10_b_air  rougher.state.floatbank10_b_level  \\\n",
       "30                         900.542913                        -650.245277   \n",
       "31                        1250.841286                        -399.344115   \n",
       "32                        1249.590770                        -401.880130   \n",
       "33                        1248.339846                        -398.963858   \n",
       "34                        1250.494223                        -400.535291   \n",
       "...                               ...                                ...   \n",
       "5177                      1199.986782                        -500.622048   \n",
       "5178                      1200.486090                        -499.664851   \n",
       "5179                      1199.885945                        -500.259369   \n",
       "5184                        -0.661920                        -650.065369   \n",
       "5185                        -0.721806                        -650.033492   \n",
       "\n",
       "      rougher.state.floatbank10_c_air  rougher.state.floatbank10_c_level  \\\n",
       "30                        1005.732206                        -439.919433   \n",
       "31                        1249.962813                        -398.580569   \n",
       "32                        1249.794934                        -402.143991   \n",
       "33                        1247.309356                        -399.529153   \n",
       "34                        1248.959919                        -400.203273   \n",
       "...                               ...                                ...   \n",
       "5177                      1099.573639                        -500.004845   \n",
       "5178                      1098.201947                        -499.528925   \n",
       "5179                      1101.742638                        -499.973446   \n",
       "5184                        -0.056636                        -647.544439   \n",
       "5185                         2.426204                        -647.231558   \n",
       "\n",
       "      rougher.state.floatbank10_d_air  rougher.state.floatbank10_d_level  \\\n",
       "30                        1009.700913                        -619.995695   \n",
       "31                        1199.336006                        -402.251450   \n",
       "32                        1203.829277                        -401.651676   \n",
       "33                        1197.350029                        -398.536292   \n",
       "34                        1205.861083                        -401.473681   \n",
       "...                               ...                                ...   \n",
       "5177                      1002.908071                        -502.245694   \n",
       "5178                       997.002403                        -500.158570   \n",
       "5179                      1005.041856                        -497.719002   \n",
       "5184                        -0.992219                         -76.397327   \n",
       "5185                        -0.927401                        -518.194683   \n",
       "\n",
       "      rougher.state.floatbank10_e_air  rougher.state.floatbank10_e_level  \\\n",
       "30                         676.186135                        -649.267537   \n",
       "31                         997.504708                        -400.750459   \n",
       "32                        1000.538808                        -401.464829   \n",
       "33                        1000.318731                        -400.839432   \n",
       "34                         999.737519                        -400.182823   \n",
       "...                               ...                                ...   \n",
       "5177                       900.101095                        -500.511994   \n",
       "5178                       899.159575                        -498.630623   \n",
       "5179                       901.874469                        -500.459981   \n",
       "5184                        -1.982295                        -638.512817   \n",
       "5185                        -1.915434                        -139.753025   \n",
       "\n",
       "      rougher.state.floatbank10_f_air  rougher.state.floatbank10_f_level  \\\n",
       "30                         617.387077                        -445.400385   \n",
       "31                         948.095197                        -397.325402   \n",
       "32                         950.120669                        -401.253866   \n",
       "33                         949.492077                        -393.888648   \n",
       "34                         949.791523                        -400.367232   \n",
       "...                               ...                                ...   \n",
       "5177                       900.290652                        -501.091897   \n",
       "5178                       899.467260                        -500.569695   \n",
       "5179                       900.873672                        -498.286419   \n",
       "5184                        -2.593390                        -649.880981   \n",
       "5185                        -2.520792                        -649.784186   \n",
       "\n",
       "      secondary_cleaner.state.floatbank2_a_air  \\\n",
       "30                                   15.220105   \n",
       "31                                   25.097560   \n",
       "32                                   25.114399   \n",
       "33                                   25.037717   \n",
       "34                                   24.868593   \n",
       "...                                        ...   \n",
       "5177                                 29.003730   \n",
       "5178                                 28.941389   \n",
       "5179                                 28.961191   \n",
       "5184                                  0.205329   \n",
       "5185                                  2.397853   \n",
       "\n",
       "      secondary_cleaner.state.floatbank2_a_level  \\\n",
       "30                                   -725.426349   \n",
       "31                                   -499.829794   \n",
       "32                                   -500.224823   \n",
       "33                                   -500.134492   \n",
       "34                                   -500.555021   \n",
       "...                                          ...   \n",
       "5177                                 -500.022449   \n",
       "5178                                 -498.950195   \n",
       "5179                                 -500.948144   \n",
       "5184                                 -747.786377   \n",
       "5185                                 -776.952373   \n",
       "\n",
       "      secondary_cleaner.state.floatbank2_b_air  \\\n",
       "30                                    6.004391   \n",
       "31                                   12.029984   \n",
       "32                                   11.973063   \n",
       "33                                   12.035171   \n",
       "34                                   11.956296   \n",
       "...                                        ...   \n",
       "5177                                 26.974440   \n",
       "5178                                 26.962906   \n",
       "5179                                 26.992667   \n",
       "5184                                  0.187334   \n",
       "5185                                  1.064790   \n",
       "\n",
       "      secondary_cleaner.state.floatbank2_b_level  \\\n",
       "30                                   -788.919901   \n",
       "31                                   -500.482332   \n",
       "32                                   -499.875561   \n",
       "33                                   -500.149291   \n",
       "34                                   -499.958514   \n",
       "...                                          ...   \n",
       "5177                                 -500.050472   \n",
       "5178                                 -499.951292   \n",
       "5179                                 -500.248787   \n",
       "5184                                 -782.658560   \n",
       "5185                                 -795.561931   \n",
       "\n",
       "      secondary_cleaner.state.floatbank3_a_air  \\\n",
       "30                                0.000000e+00   \n",
       "31                                         NaN   \n",
       "32                                         NaN   \n",
       "33                                         NaN   \n",
       "34                                         NaN   \n",
       "...                                        ...   \n",
       "5177                              2.800786e+01   \n",
       "5178                              2.797338e+01   \n",
       "5179                              2.799868e+01   \n",
       "5184                              3.777482e-10   \n",
       "5185                              2.187925e+00   \n",
       "\n",
       "      secondary_cleaner.state.floatbank3_a_level  \\\n",
       "30                                   -796.177023   \n",
       "31                                   -501.187631   \n",
       "32                                   -500.770087   \n",
       "33                                   -499.934905   \n",
       "34                                   -499.864738   \n",
       "...                                          ...   \n",
       "5177                                 -499.936163   \n",
       "5178                                 -500.291145   \n",
       "5179                                 -500.755227   \n",
       "5184                                 -799.755798   \n",
       "5185                                 -799.458106   \n",
       "\n",
       "      secondary_cleaner.state.floatbank3_b_air  \\\n",
       "30                                6.203523e+00   \n",
       "31                                1.200799e+01   \n",
       "32                                1.201216e+01   \n",
       "33                                1.203362e+01   \n",
       "34                                1.207519e+01   \n",
       "...                                        ...   \n",
       "5177                              2.297470e+01   \n",
       "5178                              2.299016e+01   \n",
       "5179                              2.300916e+01   \n",
       "5184                              3.130303e-10   \n",
       "5185                              2.040033e+00   \n",
       "\n",
       "      secondary_cleaner.state.floatbank3_b_level  \\\n",
       "30                                   -660.374105   \n",
       "31                                   -506.368820   \n",
       "32                                   -500.548062   \n",
       "33                                   -500.145056   \n",
       "34                                   -499.859823   \n",
       "...                                          ...   \n",
       "5177                                 -500.006288   \n",
       "5178                                 -499.771156   \n",
       "5179                                 -500.128782   \n",
       "5184                                 -809.333008   \n",
       "5185                                 -809.247497   \n",
       "\n",
       "      secondary_cleaner.state.floatbank4_a_air  \\\n",
       "30                                6.576244e+00   \n",
       "31                                1.199375e+01   \n",
       "32                                1.205734e+01   \n",
       "33                                1.205950e+01   \n",
       "34                                1.192250e+01   \n",
       "...                                        ...   \n",
       "5177                              2.001978e+01   \n",
       "5178                              2.000773e+01   \n",
       "5179                              1.997038e+01   \n",
       "5184                              2.706261e-10   \n",
       "5185                              3.265143e+00   \n",
       "\n",
       "      secondary_cleaner.state.floatbank4_a_level  \\\n",
       "30                                   -616.550019   \n",
       "31                                   -499.148736   \n",
       "32                                   -501.795391   \n",
       "33                                   -499.670889   \n",
       "34                                   -499.468037   \n",
       "...                                          ...   \n",
       "5177                                 -500.257457   \n",
       "5178                                 -500.282320   \n",
       "5179                                 -499.739051   \n",
       "5184                                 -799.798523   \n",
       "5185                                 -799.427634   \n",
       "\n",
       "      secondary_cleaner.state.floatbank4_b_air  \\\n",
       "30                                4.625908e+00   \n",
       "31                                8.129055e+00   \n",
       "32                                8.100986e+00   \n",
       "33                                8.075180e+00   \n",
       "34                                8.049423e+00   \n",
       "...                                        ...   \n",
       "5177                              1.507806e+01   \n",
       "5178                              1.511650e+01   \n",
       "5179                              1.503472e+01   \n",
       "5184                              2.030172e-10   \n",
       "5185                              1.080343e+00   \n",
       "\n",
       "      secondary_cleaner.state.floatbank4_b_level  \\\n",
       "30                                   -678.347958   \n",
       "31                                   -500.125308   \n",
       "32                                   -501.032511   \n",
       "33                                   -500.466176   \n",
       "34                                   -500.135072   \n",
       "...                                          ...   \n",
       "5177                                 -499.553551   \n",
       "5178                                 -500.088520   \n",
       "5179                                 -499.893765   \n",
       "5184                                 -800.836914   \n",
       "5185                                 -799.879409   \n",
       "\n",
       "      secondary_cleaner.state.floatbank5_a_air  \\\n",
       "30                                    4.451592   \n",
       "31                                    8.031323   \n",
       "32                                    8.053520   \n",
       "33                                    8.077882   \n",
       "34                                    7.905382   \n",
       "...                                        ...   \n",
       "5177                                 11.040759   \n",
       "5178                                 11.053275   \n",
       "5179                                 11.005241   \n",
       "5184                                  0.069227   \n",
       "5185                                  0.200600   \n",
       "\n",
       "      secondary_cleaner.state.floatbank5_a_level  \\\n",
       "30                                   -795.337422   \n",
       "31                                   -486.756657   \n",
       "32                                   -506.002857   \n",
       "33                                   -509.265467   \n",
       "34                                   -503.020886   \n",
       "...                                          ...   \n",
       "5177                                 -500.030707   \n",
       "5178                                 -500.223931   \n",
       "5179                                 -498.989282   \n",
       "5184                                 -796.857296   \n",
       "5185                                 -797.323986   \n",
       "\n",
       "      secondary_cleaner.state.floatbank5_b_air  \\\n",
       "30                                    3.544708   \n",
       "31                                    5.047491   \n",
       "32                                    5.025161   \n",
       "33                                    4.837108   \n",
       "34                                    4.925342   \n",
       "...                                        ...   \n",
       "5177                                  8.939822   \n",
       "5178                                  8.996529   \n",
       "5179                                  9.046014   \n",
       "5184                                  0.528083   \n",
       "5185                                  1.420606   \n",
       "\n",
       "      secondary_cleaner.state.floatbank5_b_level  \\\n",
       "30                                   -800.024373   \n",
       "31                                   -467.938124   \n",
       "32                                   -447.918397   \n",
       "33                                   -501.855340   \n",
       "34                                   -500.552419   \n",
       "...                                          ...   \n",
       "5177                                 -499.982171   \n",
       "5178                                 -499.892002   \n",
       "5179                                 -499.756903   \n",
       "5184                                 -800.220337   \n",
       "5185                                 -800.118587   \n",
       "\n",
       "      secondary_cleaner.state.floatbank6_a_air  \\\n",
       "30                                    5.914889   \n",
       "31                                   10.047098   \n",
       "32                                    9.911242   \n",
       "33                                    9.891463   \n",
       "34                                   10.045443   \n",
       "...                                        ...   \n",
       "5177                                 12.001369   \n",
       "5178                                 12.003847   \n",
       "5179                                 11.983336   \n",
       "5184                                 -0.079426   \n",
       "5185                                  0.016815   \n",
       "\n",
       "      secondary_cleaner.state.floatbank6_a_level  \n",
       "30                                   -799.501783  \n",
       "31                                   -499.813489  \n",
       "32                                   -497.922919  \n",
       "33                                   -504.150985  \n",
       "34                                   -500.501492  \n",
       "...                                          ...  \n",
       "5177                                 -500.535695  \n",
       "5178                                 -500.072328  \n",
       "5179                                 -498.917245  \n",
       "5184                                 -742.843140  \n",
       "5185                                 -789.840007  \n",
       "\n",
       "[61 rows x 53 columns]"
      ]
     },
     "metadata": {},
     "output_type": "display_data"
    }
   ],
   "source": [
    "pd.set_option('display.max_columns', None)\n",
    "display(data_test[data_test.isna().any(1)])"
   ]
  },
  {
   "cell_type": "markdown",
   "metadata": {},
   "source": [
    "Данные встречаются в разных столбцах и не коррелируются по времени. Вероятнее всего имеет место ошибка при передаче данных. однако эти пропуски как в тестовой так и в тренировочной выборке необходимо заполнить, иначе в процессе обучекния модели мы получим ошибку. Учитывая, что данные в датасете отсоротированны по времени, заполнять данные будеим ближайшим более ранним значением. для этого передадим в метод fillna() аргумент method = 'pad'."
   ]
  },
  {
   "cell_type": "code",
   "execution_count": 13,
   "metadata": {},
   "outputs": [],
   "source": [
    "data_train = data_train.fillna(method='pad')\n",
    "data_test = data_test.fillna(method='pad')"
   ]
  },
  {
   "cell_type": "markdown",
   "metadata": {},
   "source": [
    "### Выводы"
   ]
  },
  {
   "cell_type": "markdown",
   "metadata": {},
   "source": [
    "На данном этапе была проведена предообработка данных в ходе которой сделано следующее:\n",
    "\n",
    "    1. Открыты и изучены исходные данные, изменён формат даты.\n",
    "    2. Проведёна проверка правильности рассчёта эффективности обогощения для признака rougher.output.recovery, в ходе которой установлено, что эффективность рассчитана корректно.\n",
    "    3. Заполнены пропуски в обучающей и тестовой выборке."
   ]
  },
  {
   "cell_type": "markdown",
   "metadata": {},
   "source": [
    "## Анализ данных"
   ]
  },
  {
   "cell_type": "markdown",
   "metadata": {},
   "source": [
    "### Изучение концентрации металов на различных этапах очистки"
   ]
  },
  {
   "cell_type": "markdown",
   "metadata": {},
   "source": [
    "Изучим концентрацию металлов на различных этапах очистики, чтобы упростить процесс напишем функцию, которая будет принимать на вход датасет, список столбцов, название диаграммы, подписи по оси х, и будет строить даннуб диаграмму."
   ]
  },
  {
   "cell_type": "code",
   "execution_count": 14,
   "metadata": {},
   "outputs": [],
   "source": [
    "def concenntrate_hist (data, columns, name_titel, name_colomns):\n",
    "    list_for_hist = []\n",
    "    \n",
    "    for column in columns:\n",
    "        list_for_hist.append(data[column].mean())\n",
    "        \n",
    "    plt.figure (figsize=(12,6))     \n",
    "    plt.title(name_titel)\n",
    "    plt.bar(columns, list_for_hist)\n",
    "    plt.ylabel('Концентрация')\n",
    "    plt.xticks(columns, name_colomns)\n",
    "    plt.xlabel('Технологические этапы')\n",
    "    plt.show()"
   ]
  },
  {
   "cell_type": "markdown",
   "metadata": {},
   "source": [
    "Начнём с целевого металла - золота (Au) для этого составим список столбцов указывающих на количество золота на входе флотация и далее на выходе из каждой операции."
   ]
  },
  {
   "cell_type": "code",
   "execution_count": 15,
   "metadata": {},
   "outputs": [],
   "source": [
    "columns_au = (['rougher.input.feed_au', 'primary_cleaner.output.concentrate_au', 'final.output.concentrate_au',\n",
    "              'rougher.output.tail_au'])\n",
    "name_colomns =(['Флотация (вход)', 'Первичная очистка', 'Финальные значения', 'Отвальные хвосты после флотации'])"
   ]
  },
  {
   "cell_type": "code",
   "execution_count": 16,
   "metadata": {},
   "outputs": [
    {
     "data": {
      "image/png": "[encoded data removed]",
      "text/plain": [
       "<Figure size 864x432 with 1 Axes>"
      ]
     },
     "metadata": {
      "needs_background": "light"
     },
     "output_type": "display_data"
    }
   ],
   "source": [
    "concenntrate_hist(data_full, columns_au, 'Концентрация золота по перациям', name_colomns)"
   ]
  },
  {
   "cell_type": "markdown",
   "metadata": {},
   "source": [
    "Рассмотрим изменение концентрации серебра (Ag)"
   ]
  },
  {
   "cell_type": "code",
   "execution_count": 17,
   "metadata": {},
   "outputs": [
    {
     "data": {
      "image/png": "[encoded data removed]",
      "text/plain": [
       "<Figure size 864x432 with 1 Axes>"
      ]
     },
     "metadata": {
      "needs_background": "light"
     },
     "output_type": "display_data"
    }
   ],
   "source": [
    "columns_ag = ([ 'rougher.input.feed_ag', 'primary_cleaner.output.concentrate_ag', 'final.output.concentrate_ag',\n",
    "              'rougher.output.tail_ag'])\n",
    "\n",
    "concenntrate_hist(data_full, columns_ag, 'Концентрация серебра по перациям', name_colomns)"
   ]
  },
  {
   "cell_type": "markdown",
   "metadata": {},
   "source": [
    "Рассмотрим изменение концентрации свинца (Pb)"
   ]
  },
  {
   "cell_type": "code",
   "execution_count": 18,
   "metadata": {},
   "outputs": [
    {
     "data": {
      "image/png": "[encoded data removed]",
      "text/plain": [
       "<Figure size 864x432 with 1 Axes>"
      ]
     },
     "metadata": {
      "needs_background": "light"
     },
     "output_type": "display_data"
    }
   ],
   "source": [
    "columns_pb = ([ 'rougher.input.feed_pb', 'primary_cleaner.output.concentrate_pb', 'final.output.concentrate_pb',\n",
    "              'rougher.output.tail_pb'])\n",
    "concenntrate_hist(data_full, columns_pb, 'Концентрация свинца по перациям', name_colomns)"
   ]
  },
  {
   "cell_type": "markdown",
   "metadata": {},
   "source": [
    "Из полученных гистограмм видно, что после этапа флотации повышается концентрация золота и свинца повышается, а концентрация свинца падает. Также стоит отметить, что в отвальных хвостах содержится около 3 единиц золота, 5,5 единиц серебра и 0,5 свинца. В результате, не мсотря на то, что после финального этапа восстановления в сырье помимо золоа содержаться  и другие металлы, но их содержание  значительно меньше чем у золота (около 10 единиц свинца, 5,5 единиц серебра, на 43 единицы золота в среднем). "
   ]
  },
  {
   "cell_type": "markdown",
   "metadata": {},
   "source": [
    "### Изучение размеров гранул сырья на тестовой и обучающей выборке"
   ]
  },
  {
   "cell_type": "markdown",
   "metadata": {},
   "source": [
    "Рассмотрим размеры гранул сырья на тестовой и обучающей выборке, чтобы убедиться, что в данных условиях обученная модель будет давать результат близкий к реальности. Построим гистограммы для данного признака в обеих выборках."
   ]
  },
  {
   "cell_type": "code",
   "execution_count": 19,
   "metadata": {},
   "outputs": [
    {
     "data": {
      "image/png": "[encoded data removed]",
      "text/plain": [
       "<Figure size 720x432 with 1 Axes>"
      ]
     },
     "metadata": {
      "needs_background": "light"
     },
     "output_type": "display_data"
    }
   ],
   "source": [
    "plt.figure (figsize=(10,6))    \n",
    "plt.hist(data_train['rougher.input.feed_size']) \n",
    "plt.grid()\n",
    "plt.show()"
   ]
  },
  {
   "cell_type": "code",
   "execution_count": 20,
   "metadata": {},
   "outputs": [
    {
     "data": {
      "image/png": "[encoded data removed]",
      "text/plain": [
       "<Figure size 720x432 with 1 Axes>"
      ]
     },
     "metadata": {
      "needs_background": "light"
     },
     "output_type": "display_data"
    }
   ],
   "source": [
    "plt.figure (figsize=(10,6))    \n",
    "plt.hist(data_test['rougher.input.feed_size']) \n",
    "plt.grid()\n",
    "plt.show()"
   ]
  },
  {
   "cell_type": "markdown",
   "metadata": {},
   "source": [
    "В обоих выборках основная часть гранул имеет размерменьше 120, поэтому можно сделать вывод, что машинное обучение позволит получить правдивые результаты"
   ]
  },
  {
   "cell_type": "markdown",
   "metadata": {},
   "source": [
    "### Исследование суммарной концентрации веществ на различных стадиях обогощения"
   ]
  },
  {
   "cell_type": "markdown",
   "metadata": {},
   "source": [
    "Изучим сумарную концентрацию веществ на различных этапах производства для этого добавим дополнительные столбцы с суммой концентрации"
   ]
  },
  {
   "cell_type": "code",
   "execution_count": 21,
   "metadata": {},
   "outputs": [],
   "source": [
    "data_full['rougher.output.concentrate_all'] = (\n",
    "    data_full['rougher.output.concentrate_ag'] + data_full['rougher.output.concentrate_pb'] +\n",
    "    data_full['rougher.output.concentrate_sol'] + data_full['rougher.output.concentrate_au']\n",
    ")\n",
    "\n",
    "data_full['primary_cleaner.output.concentrate_all'] = (\n",
    "    data_full['primary_cleaner.output.concentrate_ag'] + data_full['primary_cleaner.output.concentrate_pb'] +\n",
    "    data_full['primary_cleaner.output.concentrate_sol'] + data_full['primary_cleaner.output.concentrate_au']\n",
    ")\n",
    "\n",
    "data_full['final.output.concentrate_all'] = (\n",
    "    data_full['final.output.concentrate_ag'] + data_full['final.output.concentrate_pb'] +\n",
    "    data_full['final.output.concentrate_sol'] + data_full['final.output.concentrate_au']\n",
    ")"
   ]
  },
  {
   "cell_type": "code",
   "execution_count": 22,
   "metadata": {
    "scrolled": true
   },
   "outputs": [
    {
     "data": {
      "image/png": "[encoded data removed]",
      "text/plain": [
       "<Figure size 864x576 with 1 Axes>"
      ]
     },
     "metadata": {
      "needs_background": "light"
     },
     "output_type": "display_data"
    }
   ],
   "source": [
    "plt.figure (figsize=(12,8))  \n",
    "plt.hist(data_full['rougher.output.concentrate_all'], bins=100, alpha=0.5, label='rougher')\n",
    "plt.hist(data_full['primary_cleaner.output.concentrate_all'], bins=100, alpha=0.5, label='primary_cleaner') \n",
    "plt.hist(data_full['final.output.concentrate_all'], bins=100, alpha=0.5, label='final') \n",
    "plt.title (\"Суммарная концентрация веществ на разных стадиях обогощения\")\n",
    "plt.legend()\n",
    "plt.grid()\n",
    "plt.show()"
   ]
  },
  {
   "cell_type": "markdown",
   "metadata": {},
   "source": [
    "На основании полученной гистограммы можно сделать вывод, что на черновом концентрате суммарная концентрация веществ увеличивается (вероятнее всего происходит избавление от пустой породы), а в финальном концентрате суммарная концентрация всех веществ уменьшается, за счёт того, что происходит избавление от лишних примесей. Так же на графике видны аномалии (есть строки с суммарной концентрацией равной 0). Эти анамалии придётся удалить. Помимо этого, чтобы облегчить обучение модели лучше убрать длиныый левый хвост и также почистить значения меньше 40."
   ]
  },
  {
   "cell_type": "code",
   "execution_count": 23,
   "metadata": {},
   "outputs": [],
   "source": [
    "def remove_zeros_sum (data):\n",
    "    data = data.loc[(\n",
    "    data_full['final.output.concentrate_ag'] + data_full['final.output.concentrate_pb'] +\n",
    "    data_full['final.output.concentrate_sol'] + data_full['final.output.concentrate_au'])>40]\n",
    "    \n",
    "    data = data.loc[(\n",
    "    data_full['primary_cleaner.output.concentrate_ag'] + data_full['primary_cleaner.output.concentrate_pb'] +\n",
    "    data_full['primary_cleaner.output.concentrate_sol'] + data_full['primary_cleaner.output.concentrate_au'])>40]\n",
    "    \n",
    "    data = data.loc[(\n",
    "    data_full['rougher.output.concentrate_ag'] + data_full['rougher.output.concentrate_pb'] +\n",
    "    data_full['rougher.output.concentrate_sol'] + data_full['rougher.output.concentrate_au'])>40]\n",
    "    \n",
    "    return data"
   ]
  },
  {
   "cell_type": "code",
   "execution_count": 24,
   "metadata": {},
   "outputs": [],
   "source": [
    "data_train = remove_zeros_sum(data_train)"
   ]
  },
  {
   "cell_type": "markdown",
   "metadata": {},
   "source": [
    "### Выводы"
   ]
  },
  {
   "cell_type": "markdown",
   "metadata": {},
   "source": [
    "В данном разделе были проанализированы исходные данные, в частности:\n",
    "\n",
    "    1. Изучены как меняются концентрации на различных стадиях очистки.\n",
    "    2. Исследован размер гранул в обучающей и тестовой выборке, на основании полученных результатов были сделаны выводы, что в данном случае можно применять машинное обучение.\n",
    "    3. Проанализировано как меняется суммарная концентрация веществ на различных этапах очищения, были выявлены аномалии (строки с нулевой концентрацией веществ). Такие строки было принято удалить."
   ]
  },
  {
   "cell_type": "markdown",
   "metadata": {},
   "source": [
    "## Модель"
   ]
  },
  {
   "cell_type": "markdown",
   "metadata": {},
   "source": [
    "### Создание функции для рассчёта итоговой sMAPE"
   ]
  },
  {
   "cell_type": "markdown",
   "metadata": {},
   "source": [
    "Как отмечалось ранее, учитывая специфику технологического процесса нам необходимо будет использовать метрику учитывающую эффективность модели на стадии флотации и на финальном этапе технологического процесса. Поэтому создадим функцию рассчитывающий данный параметр."
   ]
  },
  {
   "cell_type": "code",
   "execution_count": 25,
   "metadata": {},
   "outputs": [],
   "source": [
    "def sMAPE (y, predict_y):\n",
    "        \n",
    "        return np.mean((abs(y - predict_y) / ((abs(y)+abs(predict_y))/2))*100)\n",
    "\n",
    "def resulting_sMAPE (rougher_recovery, predict_rougher_recovery, final_recovery, predict_final_recovery):\n",
    "       \n",
    "        \n",
    "    rougher_sMAPE = sMAPE(rougher_recovery, predict_rougher_recovery)\n",
    "    final_sMAPE = sMAPE(final_recovery, predict_final_recovery)\n",
    "    \n",
    "    return 0.25 * rougher_sMAPE + 0.75 * final_sMAPE"
   ]
  },
  {
   "cell_type": "markdown",
   "metadata": {},
   "source": [
    "### Обучение модели"
   ]
  },
  {
   "cell_type": "markdown",
   "metadata": {},
   "source": [
    "#### Выбор целей и признаков"
   ]
  },
  {
   "cell_type": "markdown",
   "metadata": {},
   "source": [
    "Выделим из тестовой выборки цели, так же для того, чтобы модель мога предсказывать результаты и корректно отработать на тестовой выборке необходимо в качестве признаков оставить только столбцы, которые есть в тестовой выборке."
   ]
  },
  {
   "cell_type": "code",
   "execution_count": 26,
   "metadata": {},
   "outputs": [
    {
     "name": "stdout",
     "output_type": "stream",
     "text": [
      "(12913,)\n",
      "(12913,)\n",
      "(12913, 52)\n",
      "(5290, 52)\n"
     ]
    }
   ],
   "source": [
    "target_rougher = data_train['rougher.output.recovery'].reset_index(drop=True)\n",
    "target_final = data_train['final.output.recovery'].reset_index(drop=True)\n",
    "features = data_train[data_test.columns].reset_index(drop=True)\n",
    "\n",
    "features = features.drop('date', axis=1)\n",
    "features_test = data_test.drop('date', axis=1)\n",
    "\n",
    "print(target_rougher.shape)\n",
    "print(target_final.shape)\n",
    "print(features.shape)\n",
    "print(features_test.shape)"
   ]
  },
  {
   "cell_type": "markdown",
   "metadata": {},
   "source": [
    "Для работы с тес товой выборкой нужно будет подобрать соответствующие целевые признаки по строкам в тестовом датасете."
   ]
  },
  {
   "cell_type": "code",
   "execution_count": 27,
   "metadata": {},
   "outputs": [],
   "source": [
    "data_list = list(data_test['date'].values)\n",
    "data_full.index = data_full['date']\n",
    "\n",
    "rougher_output_recovery_test = data_full.loc[data_list]['rougher.output.recovery']\n",
    "final_output_recovery_test = data_full.loc[data_list]['final.output.recovery']"
   ]
  },
  {
   "cell_type": "markdown",
   "metadata": {},
   "source": [
    "#### Dummy модель"
   ]
  },
  {
   "cell_type": "markdown",
   "metadata": {},
   "source": [
    "Чтобы иметь возможность с чем-то сравнивать нашу модель обучим Dummy модель со стратегией \"median\"."
   ]
  },
  {
   "cell_type": "code",
   "execution_count": 28,
   "metadata": {},
   "outputs": [],
   "source": [
    "dummy_regressor_rougher = DummyRegressor(strategy=\"median\")\n",
    "dummy_regressor_rougher.fit(features, target_rougher)\n",
    "dummy_rougher_pred = dummy_regressor_rougher.predict(data_test.drop('date', axis=1))\n",
    "\n",
    "dummy_regressor_final = DummyRegressor(strategy=\"median\")\n",
    "dummy_regressor_final.fit(features, target_final)\n",
    "dummy_final_pred = dummy_regressor_final.predict(features_test)\n"
   ]
  },
  {
   "cell_type": "code",
   "execution_count": 29,
   "metadata": {},
   "outputs": [
    {
     "data": {
      "text/plain": [
       "9.441981488488604"
      ]
     },
     "execution_count": 29,
     "metadata": {},
     "output_type": "execute_result"
    }
   ],
   "source": [
    "resulting_sMAPE (rougher_output_recovery_test, dummy_rougher_pred, \n",
    "                 final_output_recovery_test, dummy_final_pred)"
   ]
  },
  {
   "cell_type": "markdown",
   "metadata": {},
   "source": [
    "#### Выбор модели для операции флотации"
   ]
  },
  {
   "cell_type": "markdown",
   "metadata": {},
   "source": [
    "Подберём модель и гиперпараметры для неё на операции флотации."
   ]
  },
  {
   "cell_type": "markdown",
   "metadata": {},
   "source": [
    "<b>Линейная регрессия.</b> Для линейной модели не будем подбирать гиперпараметры, посмотрим какую метрику даст данная модель на кросс-валидации. Для использования нашей метрики в кроссвалидации и GridSerchCV создадим scorer при помощи make_scorer  "
   ]
  },
  {
   "cell_type": "code",
   "execution_count": 30,
   "metadata": {},
   "outputs": [],
   "source": [
    "scorer = make_scorer(sMAPE, greater_is_better=False)"
   ]
  },
  {
   "cell_type": "code",
   "execution_count": 31,
   "metadata": {},
   "outputs": [
    {
     "data": {
      "text/plain": [
       "12.243810864330573"
      ]
     },
     "execution_count": 31,
     "metadata": {},
     "output_type": "execute_result"
    }
   ],
   "source": [
    "lin_model = LinearRegression()\n",
    "\n",
    "- cross_val_score(lin_model, \n",
    "                features, \n",
    "                target_rougher, \n",
    "                cv=5, \n",
    "                scoring=scorer).mean()"
   ]
  },
  {
   "cell_type": "markdown",
   "metadata": {},
   "source": [
    "<b>Дерево решений</b>. Подберём гиперпараметры для данной модели при помощи GridSearchCV. "
   ]
  },
  {
   "cell_type": "code",
   "execution_count": 32,
   "metadata": {},
   "outputs": [
    {
     "name": "stdout",
     "output_type": "stream",
     "text": [
      "CPU times: total: 51.9 s\n",
      "Wall time: 10min 23s\n"
     ]
    },
    {
     "data": {
      "text/plain": [
       "GridSearchCV(cv=5, estimator=DecisionTreeRegressor(random_state=123), n_jobs=-1,\n",
       "             param_grid={'max_depth': range(1, 16),\n",
       "                         'max_features': range(1, 52),\n",
       "                         'min_samples_leaf': range(1, 10)},\n",
       "             scoring=make_scorer(sMAPE, greater_is_better=False))"
      ]
     },
     "execution_count": 32,
     "metadata": {},
     "output_type": "execute_result"
    }
   ],
   "source": [
    "%%time\n",
    "tree_model = DecisionTreeRegressor(random_state=123)\n",
    "tree_param = {'max_depth': range(1,16),\n",
    "             'min_samples_leaf': range(1,10),\n",
    "             'max_features': range(1,len(features.columns))}\n",
    "\n",
    "tree_grid = GridSearchCV(tree_model,\n",
    "                       tree_param,\n",
    "                       n_jobs=-1,\n",
    "                       cv=5,\n",
    "                        scoring=scorer)\n",
    "\n",
    "tree_grid.fit(features, target_rougher)"
   ]
  },
  {
   "cell_type": "markdown",
   "metadata": {},
   "source": [
    "Оптимальные параметры для модели решающего дерева:"
   ]
  },
  {
   "cell_type": "code",
   "execution_count": 33,
   "metadata": {},
   "outputs": [
    {
     "data": {
      "text/plain": [
       "{'max_depth': 5, 'max_features': 5, 'min_samples_leaf': 9}"
      ]
     },
     "execution_count": 33,
     "metadata": {},
     "output_type": "execute_result"
    }
   ],
   "source": [
    "tree_grid.best_params_"
   ]
  },
  {
   "cell_type": "code",
   "execution_count": 34,
   "metadata": {},
   "outputs": [
    {
     "name": "stdout",
     "output_type": "stream",
     "text": [
      "Метрика при оптимальных параметрах для решающего дерева: 10.595102062543384\n"
     ]
    }
   ],
   "source": [
    "print(f'Метрика при оптимальных параметрах для решающего дерева: {-tree_grid.best_score_}')"
   ]
  },
  {
   "cell_type": "markdown",
   "metadata": {},
   "source": [
    "<b>Случайный лес</b>. Подберём гиперпараметры для данной модели"
   ]
  },
  {
   "cell_type": "code",
   "execution_count": 35,
   "metadata": {},
   "outputs": [
    {
     "name": "stdout",
     "output_type": "stream",
     "text": [
      "CPU times: total: 18.1 s\n",
      "Wall time: 58min 11s\n"
     ]
    },
    {
     "data": {
      "text/plain": [
       "GridSearchCV(cv=5, estimator=RandomForestRegressor(random_state=123), n_jobs=-1,\n",
       "             param_grid={'max_depth': range(2, 16, 2),\n",
       "                         'n_estimators': range(1, 1001, 100)},\n",
       "             scoring=make_scorer(sMAPE, greater_is_better=False))"
      ]
     },
     "execution_count": 35,
     "metadata": {},
     "output_type": "execute_result"
    }
   ],
   "source": [
    "%%time\n",
    "forest_model = RandomForestRegressor(random_state=123)\n",
    "forest_param = {'n_estimators': range(1,1001, 100),\n",
    "             'max_depth': range(2,16,2)}\n",
    "\n",
    "forest_grid = GridSearchCV(forest_model,\n",
    "                       forest_param,\n",
    "                       n_jobs=-1,\n",
    "                       cv=5,\n",
    "                        scoring=scorer)\n",
    "\n",
    "forest_grid.fit(features, target_rougher)"
   ]
  },
  {
   "cell_type": "code",
   "execution_count": 36,
   "metadata": {},
   "outputs": [
    {
     "data": {
      "text/plain": [
       "{'max_depth': 6, 'n_estimators': 101}"
      ]
     },
     "execution_count": 36,
     "metadata": {},
     "output_type": "execute_result"
    }
   ],
   "source": [
    "forest_grid.best_params_"
   ]
  },
  {
   "cell_type": "code",
   "execution_count": 37,
   "metadata": {},
   "outputs": [
    {
     "name": "stdout",
     "output_type": "stream",
     "text": [
      "Метрика при оптимальных параметрах для случайного леса: 11.03339531632299\n"
     ]
    }
   ],
   "source": [
    "print(f'Метрика при оптимальных параметрах для случайного леса: {-forest_grid.best_score_}')"
   ]
  },
  {
   "cell_type": "markdown",
   "metadata": {},
   "source": [
    "<b>CatBoost</b>. Подберём оптимальное гиперпараметры для данной модели."
   ]
  },
  {
   "cell_type": "code",
   "execution_count": 38,
   "metadata": {},
   "outputs": [
    {
     "name": "stdout",
     "output_type": "stream",
     "text": [
      "0:\tlearn: 14.0301463\ttotal: 151ms\tremaining: 1m 23s\n",
      "1:\tlearn: 13.9867342\ttotal: 156ms\tremaining: 42.9s\n",
      "2:\tlearn: 13.9446804\ttotal: 161ms\tremaining: 29.5s\n",
      "3:\tlearn: 13.8965977\ttotal: 167ms\tremaining: 22.8s\n",
      "4:\tlearn: 13.8495527\ttotal: 172ms\tremaining: 18.8s\n",
      "5:\tlearn: 13.8039300\ttotal: 178ms\tremaining: 16.1s\n",
      "6:\tlearn: 13.7608673\ttotal: 183ms\tremaining: 14.2s\n",
      "7:\tlearn: 13.7127721\ttotal: 189ms\tremaining: 12.8s\n",
      "8:\tlearn: 13.6686797\ttotal: 194ms\tremaining: 11.7s\n",
      "9:\tlearn: 13.6284906\ttotal: 200ms\tremaining: 10.8s\n",
      "10:\tlearn: 13.5844013\ttotal: 206ms\tremaining: 10.1s\n",
      "11:\tlearn: 13.5448199\ttotal: 211ms\tremaining: 9.48s\n",
      "12:\tlearn: 13.5031255\ttotal: 217ms\tremaining: 8.97s\n",
      "13:\tlearn: 13.4674220\ttotal: 222ms\tremaining: 8.51s\n",
      "14:\tlearn: 13.4344801\ttotal: 227ms\tremaining: 8.11s\n",
      "15:\tlearn: 13.3963480\ttotal: 232ms\tremaining: 7.77s\n",
      "16:\tlearn: 13.3572118\ttotal: 238ms\tremaining: 7.46s\n",
      "17:\tlearn: 13.3197549\ttotal: 243ms\tremaining: 7.2s\n",
      "18:\tlearn: 13.2829916\ttotal: 249ms\tremaining: 6.97s\n",
      "19:\tlearn: 13.2452410\ttotal: 254ms\tremaining: 6.75s\n",
      "20:\tlearn: 13.2110673\ttotal: 260ms\tremaining: 6.57s\n",
      "21:\tlearn: 13.1735485\ttotal: 266ms\tremaining: 6.39s\n",
      "22:\tlearn: 13.1350272\ttotal: 271ms\tremaining: 6.23s\n",
      "23:\tlearn: 13.0991978\ttotal: 277ms\tremaining: 6.08s\n",
      "24:\tlearn: 13.0652256\ttotal: 282ms\tremaining: 5.94s\n",
      "25:\tlearn: 13.0319480\ttotal: 288ms\tremaining: 5.81s\n",
      "26:\tlearn: 12.9937443\ttotal: 294ms\tremaining: 5.7s\n",
      "27:\tlearn: 12.9638786\ttotal: 299ms\tremaining: 5.59s\n",
      "28:\tlearn: 12.9323125\ttotal: 305ms\tremaining: 5.49s\n",
      "29:\tlearn: 12.9032706\ttotal: 311ms\tremaining: 5.39s\n",
      "30:\tlearn: 12.8708465\ttotal: 316ms\tremaining: 5.3s\n",
      "31:\tlearn: 12.8397567\ttotal: 323ms\tremaining: 5.23s\n",
      "32:\tlearn: 12.8104261\ttotal: 328ms\tremaining: 5.15s\n",
      "33:\tlearn: 12.7827687\ttotal: 334ms\tremaining: 5.08s\n",
      "34:\tlearn: 12.7567811\ttotal: 339ms\tremaining: 5s\n",
      "35:\tlearn: 12.7263972\ttotal: 345ms\tremaining: 4.93s\n",
      "36:\tlearn: 12.6966051\ttotal: 351ms\tremaining: 4.87s\n",
      "37:\tlearn: 12.6690525\ttotal: 357ms\tremaining: 4.82s\n",
      "38:\tlearn: 12.6414000\ttotal: 363ms\tremaining: 4.77s\n",
      "39:\tlearn: 12.6109264\ttotal: 369ms\tremaining: 4.71s\n",
      "40:\tlearn: 12.5833144\ttotal: 375ms\tremaining: 4.67s\n",
      "41:\tlearn: 12.5575757\ttotal: 382ms\tremaining: 4.63s\n",
      "42:\tlearn: 12.5333796\ttotal: 388ms\tremaining: 4.59s\n",
      "43:\tlearn: 12.5041816\ttotal: 394ms\tremaining: 4.54s\n",
      "44:\tlearn: 12.4799150\ttotal: 400ms\tremaining: 4.5s\n",
      "45:\tlearn: 12.4538171\ttotal: 406ms\tremaining: 4.46s\n",
      "46:\tlearn: 12.4266515\ttotal: 412ms\tremaining: 4.41s\n",
      "47:\tlearn: 12.4025148\ttotal: 417ms\tremaining: 4.37s\n",
      "48:\tlearn: 12.3782923\ttotal: 423ms\tremaining: 4.33s\n",
      "49:\tlearn: 12.3498157\ttotal: 429ms\tremaining: 4.3s\n",
      "50:\tlearn: 12.3212249\ttotal: 435ms\tremaining: 4.26s\n",
      "51:\tlearn: 12.3003614\ttotal: 441ms\tremaining: 4.23s\n",
      "52:\tlearn: 12.2778774\ttotal: 446ms\tremaining: 4.19s\n",
      "53:\tlearn: 12.2554260\ttotal: 452ms\tremaining: 4.16s\n",
      "54:\tlearn: 12.2292462\ttotal: 459ms\tremaining: 4.13s\n",
      "55:\tlearn: 12.2040446\ttotal: 465ms\tremaining: 4.11s\n",
      "56:\tlearn: 12.1781479\ttotal: 471ms\tremaining: 4.08s\n",
      "57:\tlearn: 12.1568581\ttotal: 477ms\tremaining: 4.05s\n",
      "58:\tlearn: 12.1378396\ttotal: 482ms\tremaining: 4.02s\n",
      "59:\tlearn: 12.1141839\ttotal: 488ms\tremaining: 4s\n",
      "60:\tlearn: 12.0947911\ttotal: 494ms\tremaining: 3.97s\n",
      "61:\tlearn: 12.0654224\ttotal: 499ms\tremaining: 3.94s\n",
      "62:\tlearn: 12.0424576\ttotal: 505ms\tremaining: 3.91s\n",
      "63:\tlearn: 12.0208193\ttotal: 511ms\tremaining: 3.89s\n",
      "64:\tlearn: 12.0003312\ttotal: 516ms\tremaining: 3.86s\n",
      "65:\tlearn: 11.9789724\ttotal: 522ms\tremaining: 3.83s\n",
      "66:\tlearn: 11.9606541\ttotal: 528ms\tremaining: 3.81s\n",
      "67:\tlearn: 11.9380584\ttotal: 534ms\tremaining: 3.79s\n",
      "68:\tlearn: 11.9158030\ttotal: 541ms\tremaining: 3.78s\n",
      "69:\tlearn: 11.8921951\ttotal: 547ms\tremaining: 3.75s\n",
      "70:\tlearn: 11.8684800\ttotal: 553ms\tremaining: 3.74s\n",
      "71:\tlearn: 11.8483546\ttotal: 559ms\tremaining: 3.72s\n",
      "72:\tlearn: 11.8263988\ttotal: 566ms\tremaining: 3.71s\n",
      "73:\tlearn: 11.8058322\ttotal: 573ms\tremaining: 3.69s\n",
      "74:\tlearn: 11.7880405\ttotal: 579ms\tremaining: 3.67s\n",
      "75:\tlearn: 11.7701284\ttotal: 586ms\tremaining: 3.66s\n",
      "76:\tlearn: 11.7520649\ttotal: 592ms\tremaining: 3.64s\n",
      "77:\tlearn: 11.7335787\ttotal: 598ms\tremaining: 3.63s\n",
      "78:\tlearn: 11.7162063\ttotal: 604ms\tremaining: 3.61s\n",
      "79:\tlearn: 11.6985406\ttotal: 610ms\tremaining: 3.59s\n",
      "80:\tlearn: 11.6805160\ttotal: 616ms\tremaining: 3.57s\n",
      "81:\tlearn: 11.6636677\ttotal: 623ms\tremaining: 3.56s\n",
      "82:\tlearn: 11.6413673\ttotal: 629ms\tremaining: 3.55s\n",
      "83:\tlearn: 11.6265386\ttotal: 635ms\tremaining: 3.53s\n",
      "84:\tlearn: 11.6081151\ttotal: 641ms\tremaining: 3.51s\n",
      "85:\tlearn: 11.5859931\ttotal: 647ms\tremaining: 3.5s\n",
      "86:\tlearn: 11.5720910\ttotal: 653ms\tremaining: 3.48s\n",
      "87:\tlearn: 11.5558355\ttotal: 659ms\tremaining: 3.46s\n",
      "88:\tlearn: 11.5403666\ttotal: 664ms\tremaining: 3.45s\n",
      "89:\tlearn: 11.5230021\ttotal: 670ms\tremaining: 3.43s\n",
      "90:\tlearn: 11.5068795\ttotal: 676ms\tremaining: 3.42s\n",
      "91:\tlearn: 11.4929073\ttotal: 682ms\tremaining: 3.4s\n",
      "92:\tlearn: 11.4785609\ttotal: 688ms\tremaining: 3.39s\n",
      "93:\tlearn: 11.4630398\ttotal: 695ms\tremaining: 3.38s\n",
      "94:\tlearn: 11.4493078\ttotal: 700ms\tremaining: 3.36s\n",
      "95:\tlearn: 11.4340705\ttotal: 706ms\tremaining: 3.35s\n",
      "96:\tlearn: 11.4171799\ttotal: 711ms\tremaining: 3.33s\n",
      "97:\tlearn: 11.4021810\ttotal: 717ms\tremaining: 3.31s\n",
      "98:\tlearn: 11.3840639\ttotal: 723ms\tremaining: 3.3s\n",
      "99:\tlearn: 11.3671830\ttotal: 729ms\tremaining: 3.29s\n",
      "100:\tlearn: 11.3473939\ttotal: 736ms\tremaining: 3.28s\n",
      "101:\tlearn: 11.3337004\ttotal: 741ms\tremaining: 3.26s\n",
      "102:\tlearn: 11.3195084\ttotal: 749ms\tremaining: 3.26s\n",
      "103:\tlearn: 11.3083361\ttotal: 755ms\tremaining: 3.25s\n",
      "104:\tlearn: 11.2906074\ttotal: 762ms\tremaining: 3.24s\n",
      "105:\tlearn: 11.2726439\ttotal: 769ms\tremaining: 3.23s\n",
      "106:\tlearn: 11.2607459\ttotal: 775ms\tremaining: 3.21s\n",
      "107:\tlearn: 11.2467545\ttotal: 781ms\tremaining: 3.2s\n",
      "108:\tlearn: 11.2314984\ttotal: 786ms\tremaining: 3.19s\n",
      "109:\tlearn: 11.2153834\ttotal: 792ms\tremaining: 3.17s\n",
      "110:\tlearn: 11.2004909\ttotal: 798ms\tremaining: 3.16s\n",
      "111:\tlearn: 11.1826773\ttotal: 803ms\tremaining: 3.15s\n",
      "112:\tlearn: 11.1687849\ttotal: 809ms\tremaining: 3.13s\n",
      "113:\tlearn: 11.1543072\ttotal: 814ms\tremaining: 3.12s\n",
      "114:\tlearn: 11.1411754\ttotal: 820ms\tremaining: 3.11s\n",
      "115:\tlearn: 11.1296784\ttotal: 826ms\tremaining: 3.1s\n",
      "116:\tlearn: 11.1151884\ttotal: 832ms\tremaining: 3.08s\n",
      "117:\tlearn: 11.0972547\ttotal: 838ms\tremaining: 3.07s\n",
      "118:\tlearn: 11.0820132\ttotal: 843ms\tremaining: 3.06s\n",
      "119:\tlearn: 11.0687791\ttotal: 849ms\tremaining: 3.05s\n",
      "120:\tlearn: 11.0549200\ttotal: 854ms\tremaining: 3.04s\n",
      "121:\tlearn: 11.0405061\ttotal: 861ms\tremaining: 3.03s\n",
      "122:\tlearn: 11.0288482\ttotal: 867ms\tremaining: 3.02s\n",
      "123:\tlearn: 11.0150561\ttotal: 872ms\tremaining: 3s\n",
      "124:\tlearn: 11.0034937\ttotal: 878ms\tremaining: 2.99s\n",
      "125:\tlearn: 10.9922514\ttotal: 884ms\tremaining: 2.98s\n",
      "126:\tlearn: 10.9825290\ttotal: 892ms\tremaining: 2.98s\n",
      "127:\tlearn: 10.9697065\ttotal: 897ms\tremaining: 2.96s\n",
      "128:\tlearn: 10.9566164\ttotal: 903ms\tremaining: 2.95s\n",
      "129:\tlearn: 10.9442057\ttotal: 909ms\tremaining: 2.94s\n",
      "130:\tlearn: 10.9301464\ttotal: 915ms\tremaining: 2.93s\n",
      "131:\tlearn: 10.9152305\ttotal: 921ms\tremaining: 2.92s\n",
      "132:\tlearn: 10.9059125\ttotal: 928ms\tremaining: 2.92s\n",
      "133:\tlearn: 10.8943621\ttotal: 934ms\tremaining: 2.91s\n",
      "134:\tlearn: 10.8838989\ttotal: 942ms\tremaining: 2.9s\n",
      "135:\tlearn: 10.8744574\ttotal: 948ms\tremaining: 2.89s\n",
      "136:\tlearn: 10.8603573\ttotal: 955ms\tremaining: 2.88s\n",
      "137:\tlearn: 10.8512386\ttotal: 962ms\tremaining: 2.88s\n",
      "138:\tlearn: 10.8408353\ttotal: 969ms\tremaining: 2.87s\n",
      "139:\tlearn: 10.8325295\ttotal: 975ms\tremaining: 2.86s\n",
      "140:\tlearn: 10.8219019\ttotal: 982ms\tremaining: 2.85s\n",
      "141:\tlearn: 10.8117390\ttotal: 988ms\tremaining: 2.85s\n",
      "142:\tlearn: 10.7978793\ttotal: 994ms\tremaining: 2.84s\n",
      "143:\tlearn: 10.7843995\ttotal: 1s\tremaining: 2.83s\n",
      "144:\tlearn: 10.7700806\ttotal: 1.01s\tremaining: 2.82s\n",
      "145:\tlearn: 10.7603258\ttotal: 1.01s\tremaining: 2.81s\n",
      "146:\tlearn: 10.7487289\ttotal: 1.02s\tremaining: 2.8s\n",
      "147:\tlearn: 10.7407106\ttotal: 1.02s\tremaining: 2.79s\n",
      "148:\tlearn: 10.7277344\ttotal: 1.03s\tremaining: 2.78s\n",
      "149:\tlearn: 10.7168671\ttotal: 1.04s\tremaining: 2.77s\n",
      "150:\tlearn: 10.7076647\ttotal: 1.04s\tremaining: 2.76s\n",
      "151:\tlearn: 10.6942980\ttotal: 1.05s\tremaining: 2.75s\n",
      "152:\tlearn: 10.6816417\ttotal: 1.05s\tremaining: 2.74s\n",
      "153:\tlearn: 10.6679254\ttotal: 1.06s\tremaining: 2.73s\n",
      "154:\tlearn: 10.6591854\ttotal: 1.07s\tremaining: 2.72s\n",
      "155:\tlearn: 10.6500160\ttotal: 1.07s\tremaining: 2.71s\n",
      "156:\tlearn: 10.6424436\ttotal: 1.08s\tremaining: 2.71s\n",
      "157:\tlearn: 10.6317416\ttotal: 1.08s\tremaining: 2.7s\n",
      "158:\tlearn: 10.6217511\ttotal: 1.09s\tremaining: 2.69s\n",
      "159:\tlearn: 10.6142248\ttotal: 1.1s\tremaining: 2.68s\n",
      "160:\tlearn: 10.6059222\ttotal: 1.1s\tremaining: 2.67s\n",
      "161:\tlearn: 10.5977192\ttotal: 1.11s\tremaining: 2.66s\n",
      "162:\tlearn: 10.5856587\ttotal: 1.11s\tremaining: 2.65s\n",
      "163:\tlearn: 10.5728269\ttotal: 1.12s\tremaining: 2.64s\n",
      "164:\tlearn: 10.5592590\ttotal: 1.13s\tremaining: 2.63s\n",
      "165:\tlearn: 10.5494041\ttotal: 1.13s\tremaining: 2.63s\n",
      "166:\tlearn: 10.5384071\ttotal: 1.14s\tremaining: 2.62s\n",
      "167:\tlearn: 10.5301344\ttotal: 1.14s\tremaining: 2.61s\n",
      "168:\tlearn: 10.5229738\ttotal: 1.15s\tremaining: 2.6s\n",
      "169:\tlearn: 10.5096739\ttotal: 1.16s\tremaining: 2.59s\n"
     ]
    },
    {
     "name": "stdout",
     "output_type": "stream",
     "text": [
      "170:\tlearn: 10.4992491\ttotal: 1.16s\tremaining: 2.58s\n",
      "171:\tlearn: 10.4921925\ttotal: 1.17s\tremaining: 2.58s\n",
      "172:\tlearn: 10.4796660\ttotal: 1.18s\tremaining: 2.57s\n",
      "173:\tlearn: 10.4714739\ttotal: 1.18s\tremaining: 2.56s\n",
      "174:\tlearn: 10.4602116\ttotal: 1.19s\tremaining: 2.55s\n",
      "175:\tlearn: 10.4513202\ttotal: 1.19s\tremaining: 2.54s\n",
      "176:\tlearn: 10.4440872\ttotal: 1.2s\tremaining: 2.53s\n",
      "177:\tlearn: 10.4359262\ttotal: 1.2s\tremaining: 2.52s\n",
      "178:\tlearn: 10.4284701\ttotal: 1.21s\tremaining: 2.52s\n",
      "179:\tlearn: 10.4169946\ttotal: 1.22s\tremaining: 2.51s\n",
      "180:\tlearn: 10.4064131\ttotal: 1.22s\tremaining: 2.5s\n",
      "181:\tlearn: 10.3949397\ttotal: 1.23s\tremaining: 2.49s\n",
      "182:\tlearn: 10.3866701\ttotal: 1.24s\tremaining: 2.48s\n",
      "183:\tlearn: 10.3790669\ttotal: 1.24s\tremaining: 2.48s\n",
      "184:\tlearn: 10.3718556\ttotal: 1.25s\tremaining: 2.47s\n",
      "185:\tlearn: 10.3610963\ttotal: 1.25s\tremaining: 2.46s\n",
      "186:\tlearn: 10.3547951\ttotal: 1.26s\tremaining: 2.45s\n",
      "187:\tlearn: 10.3496198\ttotal: 1.26s\tremaining: 2.44s\n",
      "188:\tlearn: 10.3442023\ttotal: 1.27s\tremaining: 2.43s\n",
      "189:\tlearn: 10.3313342\ttotal: 1.28s\tremaining: 2.42s\n",
      "190:\tlearn: 10.3248562\ttotal: 1.28s\tremaining: 2.42s\n",
      "191:\tlearn: 10.3120752\ttotal: 1.29s\tremaining: 2.41s\n",
      "192:\tlearn: 10.3071720\ttotal: 1.29s\tremaining: 2.4s\n",
      "193:\tlearn: 10.3000577\ttotal: 1.3s\tremaining: 2.39s\n",
      "194:\tlearn: 10.2885452\ttotal: 1.3s\tremaining: 2.38s\n",
      "195:\tlearn: 10.2776702\ttotal: 1.31s\tremaining: 2.38s\n",
      "196:\tlearn: 10.2703081\ttotal: 1.32s\tremaining: 2.37s\n",
      "197:\tlearn: 10.2634671\ttotal: 1.32s\tremaining: 2.36s\n",
      "198:\tlearn: 10.2575347\ttotal: 1.33s\tremaining: 2.35s\n",
      "199:\tlearn: 10.2526845\ttotal: 1.33s\tremaining: 2.34s\n",
      "200:\tlearn: 10.2453802\ttotal: 1.34s\tremaining: 2.33s\n",
      "201:\tlearn: 10.2385248\ttotal: 1.34s\tremaining: 2.32s\n",
      "202:\tlearn: 10.2324042\ttotal: 1.35s\tremaining: 2.31s\n",
      "203:\tlearn: 10.2246478\ttotal: 1.36s\tremaining: 2.31s\n",
      "204:\tlearn: 10.2185272\ttotal: 1.36s\tremaining: 2.3s\n",
      "205:\tlearn: 10.2088422\ttotal: 1.37s\tremaining: 2.29s\n",
      "206:\tlearn: 10.2003715\ttotal: 1.37s\tremaining: 2.28s\n",
      "207:\tlearn: 10.1911815\ttotal: 1.38s\tremaining: 2.28s\n",
      "208:\tlearn: 10.1819105\ttotal: 1.39s\tremaining: 2.27s\n",
      "209:\tlearn: 10.1769695\ttotal: 1.39s\tremaining: 2.26s\n",
      "210:\tlearn: 10.1685366\ttotal: 1.4s\tremaining: 2.25s\n",
      "211:\tlearn: 10.1639752\ttotal: 1.4s\tremaining: 2.24s\n",
      "212:\tlearn: 10.1577243\ttotal: 1.41s\tremaining: 2.24s\n",
      "213:\tlearn: 10.1520105\ttotal: 1.42s\tremaining: 2.23s\n",
      "214:\tlearn: 10.1448949\ttotal: 1.42s\tremaining: 2.22s\n",
      "215:\tlearn: 10.1399679\ttotal: 1.43s\tremaining: 2.22s\n",
      "216:\tlearn: 10.1345281\ttotal: 1.43s\tremaining: 2.21s\n",
      "217:\tlearn: 10.1264619\ttotal: 1.44s\tremaining: 2.2s\n",
      "218:\tlearn: 10.1220977\ttotal: 1.45s\tremaining: 2.19s\n",
      "219:\tlearn: 10.1118558\ttotal: 1.45s\tremaining: 2.19s\n",
      "220:\tlearn: 10.1072199\ttotal: 1.46s\tremaining: 2.18s\n",
      "221:\tlearn: 10.1018962\ttotal: 1.46s\tremaining: 2.17s\n",
      "222:\tlearn: 10.0958893\ttotal: 1.47s\tremaining: 2.16s\n",
      "223:\tlearn: 10.0846107\ttotal: 1.48s\tremaining: 2.15s\n",
      "224:\tlearn: 10.0767408\ttotal: 1.48s\tremaining: 2.15s\n",
      "225:\tlearn: 10.0713960\ttotal: 1.49s\tremaining: 2.14s\n",
      "226:\tlearn: 10.0648639\ttotal: 1.5s\tremaining: 2.13s\n",
      "227:\tlearn: 10.0562762\ttotal: 1.5s\tremaining: 2.13s\n",
      "228:\tlearn: 10.0496557\ttotal: 1.51s\tremaining: 2.12s\n",
      "229:\tlearn: 10.0427760\ttotal: 1.51s\tremaining: 2.11s\n",
      "230:\tlearn: 10.0372972\ttotal: 1.52s\tremaining: 2.1s\n",
      "231:\tlearn: 10.0312345\ttotal: 1.52s\tremaining: 2.1s\n",
      "232:\tlearn: 10.0254931\ttotal: 1.53s\tremaining: 2.09s\n",
      "233:\tlearn: 10.0212766\ttotal: 1.53s\tremaining: 2.08s\n",
      "234:\tlearn: 10.0141307\ttotal: 1.54s\tremaining: 2.07s\n",
      "235:\tlearn: 10.0078014\ttotal: 1.55s\tremaining: 2.06s\n",
      "236:\tlearn: 10.0008081\ttotal: 1.55s\tremaining: 2.06s\n",
      "237:\tlearn: 9.9909476\ttotal: 1.56s\tremaining: 2.05s\n",
      "238:\tlearn: 9.9855003\ttotal: 1.56s\tremaining: 2.04s\n",
      "239:\tlearn: 9.9771342\ttotal: 1.57s\tremaining: 2.03s\n",
      "240:\tlearn: 9.9699501\ttotal: 1.57s\tremaining: 2.02s\n",
      "241:\tlearn: 9.9654835\ttotal: 1.58s\tremaining: 2.02s\n",
      "242:\tlearn: 9.9600496\ttotal: 1.59s\tremaining: 2.01s\n",
      "243:\tlearn: 9.9539769\ttotal: 1.59s\tremaining: 2s\n",
      "244:\tlearn: 9.9497859\ttotal: 1.6s\tremaining: 2s\n",
      "245:\tlearn: 9.9432206\ttotal: 1.6s\tremaining: 1.99s\n",
      "246:\tlearn: 9.9367764\ttotal: 1.61s\tremaining: 1.98s\n",
      "247:\tlearn: 9.9323609\ttotal: 1.62s\tremaining: 1.97s\n",
      "248:\tlearn: 9.9240756\ttotal: 1.62s\tremaining: 1.97s\n",
      "249:\tlearn: 9.9206396\ttotal: 1.63s\tremaining: 1.96s\n",
      "250:\tlearn: 9.9147904\ttotal: 1.63s\tremaining: 1.95s\n",
      "251:\tlearn: 9.9112466\ttotal: 1.64s\tremaining: 1.95s\n",
      "252:\tlearn: 9.9067690\ttotal: 1.65s\tremaining: 1.94s\n",
      "253:\tlearn: 9.9014722\ttotal: 1.65s\tremaining: 1.93s\n",
      "254:\tlearn: 9.8956546\ttotal: 1.66s\tremaining: 1.92s\n",
      "255:\tlearn: 9.8887137\ttotal: 1.66s\tremaining: 1.92s\n",
      "256:\tlearn: 9.8841566\ttotal: 1.67s\tremaining: 1.91s\n",
      "257:\tlearn: 9.8802592\ttotal: 1.68s\tremaining: 1.9s\n",
      "258:\tlearn: 9.8725657\ttotal: 1.68s\tremaining: 1.9s\n",
      "259:\tlearn: 9.8634378\ttotal: 1.69s\tremaining: 1.89s\n",
      "260:\tlearn: 9.8557887\ttotal: 1.69s\tremaining: 1.88s\n",
      "261:\tlearn: 9.8511377\ttotal: 1.7s\tremaining: 1.87s\n",
      "262:\tlearn: 9.8388760\ttotal: 1.7s\tremaining: 1.87s\n",
      "263:\tlearn: 9.8285950\ttotal: 1.71s\tremaining: 1.86s\n",
      "264:\tlearn: 9.8250328\ttotal: 1.72s\tremaining: 1.85s\n",
      "265:\tlearn: 9.8180515\ttotal: 1.72s\tremaining: 1.84s\n",
      "266:\tlearn: 9.8132718\ttotal: 1.73s\tremaining: 1.84s\n",
      "267:\tlearn: 9.8093450\ttotal: 1.73s\tremaining: 1.83s\n",
      "268:\tlearn: 9.8043654\ttotal: 1.74s\tremaining: 1.82s\n",
      "269:\tlearn: 9.8007390\ttotal: 1.74s\tremaining: 1.81s\n",
      "270:\tlearn: 9.7962370\ttotal: 1.75s\tremaining: 1.81s\n",
      "271:\tlearn: 9.7887872\ttotal: 1.75s\tremaining: 1.8s\n",
      "272:\tlearn: 9.7812270\ttotal: 1.76s\tremaining: 1.79s\n",
      "273:\tlearn: 9.7745677\ttotal: 1.76s\tremaining: 1.78s\n",
      "274:\tlearn: 9.7681461\ttotal: 1.77s\tremaining: 1.78s\n",
      "275:\tlearn: 9.7648877\ttotal: 1.78s\tremaining: 1.77s\n",
      "276:\tlearn: 9.7588332\ttotal: 1.78s\tremaining: 1.76s\n",
      "277:\tlearn: 9.7557143\ttotal: 1.79s\tremaining: 1.75s\n",
      "278:\tlearn: 9.7512054\ttotal: 1.79s\tremaining: 1.75s\n",
      "279:\tlearn: 9.7468094\ttotal: 1.8s\tremaining: 1.74s\n",
      "280:\tlearn: 9.7401886\ttotal: 1.81s\tremaining: 1.74s\n",
      "281:\tlearn: 9.7359046\ttotal: 1.81s\tremaining: 1.73s\n",
      "282:\tlearn: 9.7318914\ttotal: 1.82s\tremaining: 1.72s\n",
      "283:\tlearn: 9.7275388\ttotal: 1.82s\tremaining: 1.71s\n",
      "284:\tlearn: 9.7242801\ttotal: 1.83s\tremaining: 1.71s\n",
      "285:\tlearn: 9.7213881\ttotal: 1.83s\tremaining: 1.7s\n",
      "286:\tlearn: 9.7164618\ttotal: 1.84s\tremaining: 1.69s\n",
      "287:\tlearn: 9.7110840\ttotal: 1.85s\tremaining: 1.69s\n",
      "288:\tlearn: 9.7024308\ttotal: 1.85s\tremaining: 1.68s\n",
      "289:\tlearn: 9.6965691\ttotal: 1.86s\tremaining: 1.67s\n",
      "290:\tlearn: 9.6914442\ttotal: 1.86s\tremaining: 1.66s\n",
      "291:\tlearn: 9.6880599\ttotal: 1.87s\tremaining: 1.66s\n",
      "292:\tlearn: 9.6846728\ttotal: 1.87s\tremaining: 1.65s\n",
      "293:\tlearn: 9.6807024\ttotal: 1.88s\tremaining: 1.64s\n",
      "294:\tlearn: 9.6767542\ttotal: 1.89s\tremaining: 1.64s\n",
      "295:\tlearn: 9.6722977\ttotal: 1.89s\tremaining: 1.63s\n",
      "296:\tlearn: 9.6693715\ttotal: 1.9s\tremaining: 1.62s\n",
      "297:\tlearn: 9.6663489\ttotal: 1.9s\tremaining: 1.61s\n",
      "298:\tlearn: 9.6560296\ttotal: 1.91s\tremaining: 1.61s\n",
      "299:\tlearn: 9.6506799\ttotal: 1.91s\tremaining: 1.6s\n",
      "300:\tlearn: 9.6473137\ttotal: 1.92s\tremaining: 1.59s\n",
      "301:\tlearn: 9.6413373\ttotal: 1.93s\tremaining: 1.59s\n",
      "302:\tlearn: 9.6322453\ttotal: 1.93s\tremaining: 1.58s\n",
      "303:\tlearn: 9.6272898\ttotal: 1.94s\tremaining: 1.57s\n",
      "304:\tlearn: 9.6188329\ttotal: 1.94s\tremaining: 1.57s\n",
      "305:\tlearn: 9.6152929\ttotal: 1.95s\tremaining: 1.56s\n",
      "306:\tlearn: 9.6106072\ttotal: 1.95s\tremaining: 1.55s\n",
      "307:\tlearn: 9.6041488\ttotal: 1.96s\tremaining: 1.55s\n",
      "308:\tlearn: 9.6011843\ttotal: 1.97s\tremaining: 1.54s\n",
      "309:\tlearn: 9.5980104\ttotal: 1.97s\tremaining: 1.53s\n",
      "310:\tlearn: 9.5892487\ttotal: 1.98s\tremaining: 1.52s\n",
      "311:\tlearn: 9.5861876\ttotal: 1.98s\tremaining: 1.52s\n",
      "312:\tlearn: 9.5819385\ttotal: 1.99s\tremaining: 1.51s\n",
      "313:\tlearn: 9.5789484\ttotal: 2s\tremaining: 1.51s\n",
      "314:\tlearn: 9.5757803\ttotal: 2s\tremaining: 1.5s\n",
      "315:\tlearn: 9.5678680\ttotal: 2.01s\tremaining: 1.49s\n",
      "316:\tlearn: 9.5633428\ttotal: 2.01s\tremaining: 1.49s\n",
      "317:\tlearn: 9.5576697\ttotal: 2.02s\tremaining: 1.48s\n",
      "318:\tlearn: 9.5506101\ttotal: 2.02s\tremaining: 1.47s\n",
      "319:\tlearn: 9.5467801\ttotal: 2.03s\tremaining: 1.47s\n",
      "320:\tlearn: 9.5393009\ttotal: 2.04s\tremaining: 1.46s\n",
      "321:\tlearn: 9.5331393\ttotal: 2.04s\tremaining: 1.45s\n",
      "322:\tlearn: 9.5266731\ttotal: 2.05s\tremaining: 1.45s\n",
      "323:\tlearn: 9.5220936\ttotal: 2.05s\tremaining: 1.44s\n",
      "324:\tlearn: 9.5155628\ttotal: 2.06s\tremaining: 1.43s\n",
      "325:\tlearn: 9.5065106\ttotal: 2.07s\tremaining: 1.43s\n",
      "326:\tlearn: 9.4989078\ttotal: 2.07s\tremaining: 1.42s\n",
      "327:\tlearn: 9.4952859\ttotal: 2.08s\tremaining: 1.41s\n",
      "328:\tlearn: 9.4919419\ttotal: 2.08s\tremaining: 1.4s\n",
      "329:\tlearn: 9.4857447\ttotal: 2.09s\tremaining: 1.4s\n",
      "330:\tlearn: 9.4830323\ttotal: 2.09s\tremaining: 1.39s\n",
      "331:\tlearn: 9.4796941\ttotal: 2.1s\tremaining: 1.38s\n",
      "332:\tlearn: 9.4766597\ttotal: 2.1s\tremaining: 1.38s\n",
      "333:\tlearn: 9.4732046\ttotal: 2.11s\tremaining: 1.37s\n",
      "334:\tlearn: 9.4667928\ttotal: 2.11s\tremaining: 1.36s\n",
      "335:\tlearn: 9.4619667\ttotal: 2.12s\tremaining: 1.35s\n",
      "336:\tlearn: 9.4558731\ttotal: 2.12s\tremaining: 1.35s\n",
      "337:\tlearn: 9.4529443\ttotal: 2.13s\tremaining: 1.34s\n",
      "338:\tlearn: 9.4465596\ttotal: 2.13s\tremaining: 1.33s\n",
      "339:\tlearn: 9.4427410\ttotal: 2.14s\tremaining: 1.33s\n",
      "340:\tlearn: 9.4401402\ttotal: 2.14s\tremaining: 1.32s\n",
      "341:\tlearn: 9.4352096\ttotal: 2.15s\tremaining: 1.31s\n",
      "342:\tlearn: 9.4316686\ttotal: 2.15s\tremaining: 1.31s\n",
      "343:\tlearn: 9.4285008\ttotal: 2.16s\tremaining: 1.3s\n",
      "344:\tlearn: 9.4249300\ttotal: 2.16s\tremaining: 1.29s\n",
      "345:\tlearn: 9.4222945\ttotal: 2.17s\tremaining: 1.28s\n",
      "346:\tlearn: 9.4153495\ttotal: 2.17s\tremaining: 1.28s\n",
      "347:\tlearn: 9.4078406\ttotal: 2.18s\tremaining: 1.27s\n"
     ]
    },
    {
     "name": "stdout",
     "output_type": "stream",
     "text": [
      "348:\tlearn: 9.4040808\ttotal: 2.18s\tremaining: 1.26s\n",
      "349:\tlearn: 9.4004129\ttotal: 2.19s\tremaining: 1.26s\n",
      "350:\tlearn: 9.3959124\ttotal: 2.2s\tremaining: 1.25s\n",
      "351:\tlearn: 9.3931586\ttotal: 2.2s\tremaining: 1.24s\n",
      "352:\tlearn: 9.3895413\ttotal: 2.21s\tremaining: 1.24s\n",
      "353:\tlearn: 9.3877699\ttotal: 2.21s\tremaining: 1.23s\n",
      "354:\tlearn: 9.3854721\ttotal: 2.22s\tremaining: 1.22s\n",
      "355:\tlearn: 9.3814107\ttotal: 2.22s\tremaining: 1.22s\n",
      "356:\tlearn: 9.3768771\ttotal: 2.23s\tremaining: 1.21s\n",
      "357:\tlearn: 9.3716479\ttotal: 2.23s\tremaining: 1.2s\n",
      "358:\tlearn: 9.3686749\ttotal: 2.24s\tremaining: 1.2s\n",
      "359:\tlearn: 9.3645602\ttotal: 2.24s\tremaining: 1.19s\n",
      "360:\tlearn: 9.3618020\ttotal: 2.25s\tremaining: 1.18s\n",
      "361:\tlearn: 9.3540009\ttotal: 2.25s\tremaining: 1.18s\n",
      "362:\tlearn: 9.3448962\ttotal: 2.26s\tremaining: 1.17s\n",
      "363:\tlearn: 9.3422895\ttotal: 2.27s\tremaining: 1.16s\n",
      "364:\tlearn: 9.3357284\ttotal: 2.27s\tremaining: 1.16s\n",
      "365:\tlearn: 9.3331589\ttotal: 2.28s\tremaining: 1.15s\n",
      "366:\tlearn: 9.3279966\ttotal: 2.28s\tremaining: 1.14s\n",
      "367:\tlearn: 9.3258280\ttotal: 2.29s\tremaining: 1.14s\n",
      "368:\tlearn: 9.3228550\ttotal: 2.29s\tremaining: 1.13s\n",
      "369:\tlearn: 9.3208089\ttotal: 2.29s\tremaining: 1.12s\n",
      "370:\tlearn: 9.3149844\ttotal: 2.3s\tremaining: 1.12s\n",
      "371:\tlearn: 9.3099675\ttotal: 2.31s\tremaining: 1.11s\n",
      "372:\tlearn: 9.3068532\ttotal: 2.31s\tremaining: 1.1s\n",
      "373:\tlearn: 9.3003337\ttotal: 2.31s\tremaining: 1.1s\n",
      "374:\tlearn: 9.2954994\ttotal: 2.32s\tremaining: 1.09s\n",
      "375:\tlearn: 9.2929952\ttotal: 2.33s\tremaining: 1.08s\n",
      "376:\tlearn: 9.2868957\ttotal: 2.33s\tremaining: 1.08s\n",
      "377:\tlearn: 9.2819589\ttotal: 2.34s\tremaining: 1.07s\n",
      "378:\tlearn: 9.2793810\ttotal: 2.34s\tremaining: 1.06s\n",
      "379:\tlearn: 9.2771848\ttotal: 2.35s\tremaining: 1.06s\n",
      "380:\tlearn: 9.2726074\ttotal: 2.35s\tremaining: 1.05s\n",
      "381:\tlearn: 9.2658182\ttotal: 2.36s\tremaining: 1.04s\n",
      "382:\tlearn: 9.2636244\ttotal: 2.36s\tremaining: 1.04s\n",
      "383:\tlearn: 9.2608059\ttotal: 2.37s\tremaining: 1.03s\n",
      "384:\tlearn: 9.2579077\ttotal: 2.37s\tremaining: 1.02s\n",
      "385:\tlearn: 9.2513034\ttotal: 2.38s\tremaining: 1.02s\n",
      "386:\tlearn: 9.2487244\ttotal: 2.38s\tremaining: 1.01s\n",
      "387:\tlearn: 9.2439142\ttotal: 2.39s\tremaining: 1s\n",
      "388:\tlearn: 9.2416644\ttotal: 2.39s\tremaining: 997ms\n",
      "389:\tlearn: 9.2394973\ttotal: 2.4s\tremaining: 990ms\n",
      "390:\tlearn: 9.2354135\ttotal: 2.4s\tremaining: 984ms\n",
      "391:\tlearn: 9.2340918\ttotal: 2.41s\tremaining: 977ms\n",
      "392:\tlearn: 9.2311575\ttotal: 2.41s\tremaining: 971ms\n",
      "393:\tlearn: 9.2265555\ttotal: 2.42s\tremaining: 965ms\n",
      "394:\tlearn: 9.2179223\ttotal: 2.43s\tremaining: 958ms\n",
      "395:\tlearn: 9.2150551\ttotal: 2.43s\tremaining: 952ms\n",
      "396:\tlearn: 9.2110993\ttotal: 2.44s\tremaining: 945ms\n",
      "397:\tlearn: 9.2091303\ttotal: 2.44s\tremaining: 939ms\n",
      "398:\tlearn: 9.2066596\ttotal: 2.45s\tremaining: 932ms\n",
      "399:\tlearn: 9.2036782\ttotal: 2.45s\tremaining: 926ms\n",
      "400:\tlearn: 9.1992788\ttotal: 2.46s\tremaining: 919ms\n",
      "401:\tlearn: 9.1970454\ttotal: 2.46s\tremaining: 913ms\n",
      "402:\tlearn: 9.1947795\ttotal: 2.47s\tremaining: 906ms\n",
      "403:\tlearn: 9.1881927\ttotal: 2.47s\tremaining: 900ms\n",
      "404:\tlearn: 9.1798137\ttotal: 2.48s\tremaining: 894ms\n",
      "405:\tlearn: 9.1770446\ttotal: 2.48s\tremaining: 887ms\n",
      "406:\tlearn: 9.1745840\ttotal: 2.49s\tremaining: 881ms\n",
      "407:\tlearn: 9.1721119\ttotal: 2.49s\tremaining: 874ms\n",
      "408:\tlearn: 9.1670073\ttotal: 2.5s\tremaining: 867ms\n",
      "409:\tlearn: 9.1642742\ttotal: 2.5s\tremaining: 861ms\n",
      "410:\tlearn: 9.1595170\ttotal: 2.51s\tremaining: 855ms\n",
      "411:\tlearn: 9.1569601\ttotal: 2.51s\tremaining: 848ms\n",
      "412:\tlearn: 9.1548700\ttotal: 2.52s\tremaining: 842ms\n",
      "413:\tlearn: 9.1525095\ttotal: 2.52s\tremaining: 835ms\n",
      "414:\tlearn: 9.1477640\ttotal: 2.53s\tremaining: 829ms\n",
      "415:\tlearn: 9.1444949\ttotal: 2.54s\tremaining: 823ms\n",
      "416:\tlearn: 9.1392267\ttotal: 2.54s\tremaining: 816ms\n",
      "417:\tlearn: 9.1326304\ttotal: 2.54s\tremaining: 810ms\n",
      "418:\tlearn: 9.1293069\ttotal: 2.55s\tremaining: 804ms\n",
      "419:\tlearn: 9.1235699\ttotal: 2.56s\tremaining: 797ms\n",
      "420:\tlearn: 9.1183961\ttotal: 2.56s\tremaining: 791ms\n",
      "421:\tlearn: 9.1135807\ttotal: 2.57s\tremaining: 785ms\n",
      "422:\tlearn: 9.1068397\ttotal: 2.57s\tremaining: 778ms\n",
      "423:\tlearn: 9.1028643\ttotal: 2.58s\tremaining: 772ms\n",
      "424:\tlearn: 9.0941440\ttotal: 2.58s\tremaining: 765ms\n",
      "425:\tlearn: 9.0880622\ttotal: 2.59s\tremaining: 759ms\n",
      "426:\tlearn: 9.0830244\ttotal: 2.59s\tremaining: 753ms\n",
      "427:\tlearn: 9.0800851\ttotal: 2.6s\tremaining: 746ms\n",
      "428:\tlearn: 9.0769048\ttotal: 2.6s\tremaining: 740ms\n",
      "429:\tlearn: 9.0713664\ttotal: 2.61s\tremaining: 734ms\n",
      "430:\tlearn: 9.0672987\ttotal: 2.61s\tremaining: 728ms\n",
      "431:\tlearn: 9.0629772\ttotal: 2.62s\tremaining: 721ms\n",
      "432:\tlearn: 9.0600965\ttotal: 2.62s\tremaining: 715ms\n",
      "433:\tlearn: 9.0555143\ttotal: 2.63s\tremaining: 708ms\n",
      "434:\tlearn: 9.0514050\ttotal: 2.63s\tremaining: 702ms\n",
      "435:\tlearn: 9.0501318\ttotal: 2.64s\tremaining: 696ms\n",
      "436:\tlearn: 9.0476492\ttotal: 2.64s\tremaining: 689ms\n",
      "437:\tlearn: 9.0430906\ttotal: 2.65s\tremaining: 683ms\n",
      "438:\tlearn: 9.0372747\ttotal: 2.65s\tremaining: 677ms\n",
      "439:\tlearn: 9.0339808\ttotal: 2.66s\tremaining: 671ms\n",
      "440:\tlearn: 9.0319703\ttotal: 2.66s\tremaining: 664ms\n",
      "441:\tlearn: 9.0292838\ttotal: 2.67s\tremaining: 658ms\n",
      "442:\tlearn: 9.0269788\ttotal: 2.67s\tremaining: 652ms\n",
      "443:\tlearn: 9.0245169\ttotal: 2.68s\tremaining: 646ms\n",
      "444:\tlearn: 9.0211311\ttotal: 2.68s\tremaining: 639ms\n",
      "445:\tlearn: 9.0202450\ttotal: 2.69s\tremaining: 633ms\n",
      "446:\tlearn: 9.0186117\ttotal: 2.69s\tremaining: 627ms\n",
      "447:\tlearn: 9.0166781\ttotal: 2.7s\tremaining: 620ms\n",
      "448:\tlearn: 9.0124547\ttotal: 2.7s\tremaining: 614ms\n",
      "449:\tlearn: 9.0105718\ttotal: 2.71s\tremaining: 608ms\n",
      "450:\tlearn: 9.0078661\ttotal: 2.71s\tremaining: 602ms\n",
      "451:\tlearn: 9.0045116\ttotal: 2.72s\tremaining: 595ms\n",
      "452:\tlearn: 9.0034881\ttotal: 2.72s\tremaining: 589ms\n",
      "453:\tlearn: 8.9968054\ttotal: 2.73s\tremaining: 583ms\n",
      "454:\tlearn: 8.9950674\ttotal: 2.73s\tremaining: 577ms\n",
      "455:\tlearn: 8.9924912\ttotal: 2.74s\tremaining: 570ms\n",
      "456:\tlearn: 8.9901981\ttotal: 2.74s\tremaining: 564ms\n",
      "457:\tlearn: 8.9869072\ttotal: 2.75s\tremaining: 558ms\n",
      "458:\tlearn: 8.9843426\ttotal: 2.75s\tremaining: 552ms\n",
      "459:\tlearn: 8.9780034\ttotal: 2.76s\tremaining: 546ms\n",
      "460:\tlearn: 8.9754209\ttotal: 2.76s\tremaining: 540ms\n",
      "461:\tlearn: 8.9739936\ttotal: 2.78s\tremaining: 536ms\n",
      "462:\tlearn: 8.9713657\ttotal: 2.79s\tremaining: 530ms\n",
      "463:\tlearn: 8.9674276\ttotal: 2.79s\tremaining: 524ms\n",
      "464:\tlearn: 8.9656610\ttotal: 2.8s\tremaining: 518ms\n",
      "465:\tlearn: 8.9633593\ttotal: 2.8s\tremaining: 511ms\n",
      "466:\tlearn: 8.9602503\ttotal: 2.81s\tremaining: 505ms\n",
      "467:\tlearn: 8.9577812\ttotal: 2.81s\tremaining: 499ms\n",
      "468:\tlearn: 8.9553354\ttotal: 2.82s\tremaining: 493ms\n",
      "469:\tlearn: 8.9533869\ttotal: 2.82s\tremaining: 487ms\n",
      "470:\tlearn: 8.9503325\ttotal: 2.83s\tremaining: 481ms\n",
      "471:\tlearn: 8.9463196\ttotal: 2.83s\tremaining: 475ms\n",
      "472:\tlearn: 8.9436447\ttotal: 2.84s\tremaining: 468ms\n",
      "473:\tlearn: 8.9417913\ttotal: 2.85s\tremaining: 462ms\n",
      "474:\tlearn: 8.9395748\ttotal: 2.85s\tremaining: 456ms\n",
      "475:\tlearn: 8.9370441\ttotal: 2.85s\tremaining: 450ms\n",
      "476:\tlearn: 8.9341845\ttotal: 2.86s\tremaining: 444ms\n",
      "477:\tlearn: 8.9278412\ttotal: 2.87s\tremaining: 438ms\n",
      "478:\tlearn: 8.9256575\ttotal: 2.87s\tremaining: 432ms\n",
      "479:\tlearn: 8.9230519\ttotal: 2.88s\tremaining: 425ms\n",
      "480:\tlearn: 8.9196467\ttotal: 2.88s\tremaining: 419ms\n",
      "481:\tlearn: 8.9116813\ttotal: 2.89s\tremaining: 413ms\n",
      "482:\tlearn: 8.9092648\ttotal: 2.89s\tremaining: 407ms\n",
      "483:\tlearn: 8.9073367\ttotal: 2.9s\tremaining: 401ms\n",
      "484:\tlearn: 8.9029229\ttotal: 2.9s\tremaining: 395ms\n",
      "485:\tlearn: 8.9008819\ttotal: 2.91s\tremaining: 389ms\n",
      "486:\tlearn: 8.8978239\ttotal: 2.91s\tremaining: 383ms\n",
      "487:\tlearn: 8.8931465\ttotal: 2.92s\tremaining: 377ms\n",
      "488:\tlearn: 8.8911519\ttotal: 2.92s\tremaining: 370ms\n",
      "489:\tlearn: 8.8861378\ttotal: 2.93s\tremaining: 364ms\n",
      "490:\tlearn: 8.8838453\ttotal: 2.93s\tremaining: 358ms\n",
      "491:\tlearn: 8.8792305\ttotal: 2.94s\tremaining: 352ms\n",
      "492:\tlearn: 8.8756120\ttotal: 2.94s\tremaining: 346ms\n",
      "493:\tlearn: 8.8728160\ttotal: 2.95s\tremaining: 340ms\n",
      "494:\tlearn: 8.8710557\ttotal: 2.95s\tremaining: 334ms\n",
      "495:\tlearn: 8.8679893\ttotal: 2.96s\tremaining: 328ms\n",
      "496:\tlearn: 8.8651787\ttotal: 2.96s\tremaining: 322ms\n",
      "497:\tlearn: 8.8608002\ttotal: 2.97s\tremaining: 316ms\n",
      "498:\tlearn: 8.8558391\ttotal: 2.97s\tremaining: 310ms\n",
      "499:\tlearn: 8.8505913\ttotal: 2.98s\tremaining: 304ms\n",
      "500:\tlearn: 8.8475067\ttotal: 2.98s\tremaining: 298ms\n",
      "501:\tlearn: 8.8447325\ttotal: 2.99s\tremaining: 292ms\n",
      "502:\tlearn: 8.8422515\ttotal: 2.99s\tremaining: 286ms\n",
      "503:\tlearn: 8.8399083\ttotal: 3s\tremaining: 280ms\n",
      "504:\tlearn: 8.8356448\ttotal: 3s\tremaining: 274ms\n",
      "505:\tlearn: 8.8337124\ttotal: 3.01s\tremaining: 268ms\n",
      "506:\tlearn: 8.8314370\ttotal: 3.02s\tremaining: 262ms\n",
      "507:\tlearn: 8.8282740\ttotal: 3.02s\tremaining: 256ms\n",
      "508:\tlearn: 8.8210361\ttotal: 3.03s\tremaining: 250ms\n",
      "509:\tlearn: 8.8188004\ttotal: 3.03s\tremaining: 244ms\n",
      "510:\tlearn: 8.8168234\ttotal: 3.04s\tremaining: 238ms\n",
      "511:\tlearn: 8.8132629\ttotal: 3.04s\tremaining: 232ms\n",
      "512:\tlearn: 8.8085797\ttotal: 3.05s\tremaining: 226ms\n",
      "513:\tlearn: 8.8071714\ttotal: 3.06s\tremaining: 220ms\n",
      "514:\tlearn: 8.8043992\ttotal: 3.06s\tremaining: 214ms\n",
      "515:\tlearn: 8.8023668\ttotal: 3.07s\tremaining: 208ms\n",
      "516:\tlearn: 8.7999917\ttotal: 3.07s\tremaining: 202ms\n",
      "517:\tlearn: 8.7978252\ttotal: 3.08s\tremaining: 196ms\n",
      "518:\tlearn: 8.7949673\ttotal: 3.08s\tremaining: 190ms\n",
      "519:\tlearn: 8.7928029\ttotal: 3.09s\tremaining: 184ms\n",
      "520:\tlearn: 8.7885661\ttotal: 3.09s\tremaining: 178ms\n",
      "521:\tlearn: 8.7846506\ttotal: 3.1s\tremaining: 172ms\n",
      "522:\tlearn: 8.7824518\ttotal: 3.1s\tremaining: 166ms\n",
      "523:\tlearn: 8.7785154\ttotal: 3.11s\tremaining: 160ms\n",
      "524:\tlearn: 8.7724506\ttotal: 3.12s\tremaining: 154ms\n",
      "525:\tlearn: 8.7709057\ttotal: 3.12s\tremaining: 148ms\n",
      "526:\tlearn: 8.7685938\ttotal: 3.13s\tremaining: 142ms\n",
      "527:\tlearn: 8.7627637\ttotal: 3.13s\tremaining: 136ms\n",
      "528:\tlearn: 8.7595775\ttotal: 3.14s\tremaining: 130ms\n",
      "529:\tlearn: 8.7564355\ttotal: 3.14s\tremaining: 125ms\n",
      "530:\tlearn: 8.7548741\ttotal: 3.15s\tremaining: 119ms\n",
      "531:\tlearn: 8.7521853\ttotal: 3.15s\tremaining: 113ms\n",
      "532:\tlearn: 8.7485388\ttotal: 3.16s\tremaining: 107ms\n",
      "533:\tlearn: 8.7453028\ttotal: 3.16s\tremaining: 101ms\n",
      "534:\tlearn: 8.7431030\ttotal: 3.17s\tremaining: 94.8ms\n",
      "535:\tlearn: 8.7403339\ttotal: 3.17s\tremaining: 88.8ms\n",
      "536:\tlearn: 8.7367957\ttotal: 3.18s\tremaining: 82.9ms\n",
      "537:\tlearn: 8.7349309\ttotal: 3.18s\tremaining: 76.9ms\n",
      "538:\tlearn: 8.7323773\ttotal: 3.19s\tremaining: 71ms\n"
     ]
    },
    {
     "name": "stdout",
     "output_type": "stream",
     "text": [
      "539:\tlearn: 8.7304010\ttotal: 3.19s\tremaining: 65.1ms\n",
      "540:\tlearn: 8.7270911\ttotal: 3.2s\tremaining: 59.1ms\n",
      "541:\tlearn: 8.7251640\ttotal: 3.21s\tremaining: 53.2ms\n",
      "542:\tlearn: 8.7226481\ttotal: 3.21s\tremaining: 47.3ms\n",
      "543:\tlearn: 8.7193785\ttotal: 3.22s\tremaining: 41.4ms\n",
      "544:\tlearn: 8.7173075\ttotal: 3.22s\tremaining: 35.5ms\n",
      "545:\tlearn: 8.7109540\ttotal: 3.23s\tremaining: 29.5ms\n",
      "546:\tlearn: 8.7055819\ttotal: 3.23s\tremaining: 23.6ms\n",
      "547:\tlearn: 8.7020776\ttotal: 3.24s\tremaining: 17.7ms\n",
      "548:\tlearn: 8.6992485\ttotal: 3.24s\tremaining: 11.8ms\n",
      "549:\tlearn: 8.6937536\ttotal: 3.25s\tremaining: 5.9ms\n",
      "550:\tlearn: 8.6907022\ttotal: 3.25s\tremaining: 0us\n",
      "CPU times: total: 37.1 s\n",
      "Wall time: 57min 12s\n"
     ]
    },
    {
     "data": {
      "text/plain": [
       "GridSearchCV(cv=5,\n",
       "             estimator=<catboost.core.CatBoostRegressor object at 0x0000017F18F1FDF0>,\n",
       "             n_jobs=-1,\n",
       "             param_grid={'learning_rate': array([0.01, 0.06, 0.11, 0.16, 0.21, 0.26, 0.31, 0.36, 0.41, 0.46, 0.51,\n",
       "       0.56, 0.61, 0.66, 0.71, 0.76, 0.81, 0.86, 0.91, 0.96]),\n",
       "                         'n_estimators': range(1, 1001, 50)},\n",
       "             scoring=make_scorer(sMAPE, greater_is_better=False))"
      ]
     },
     "execution_count": 38,
     "metadata": {},
     "output_type": "execute_result"
    }
   ],
   "source": [
    "%%time\n",
    "cat_model = CatBoostRegressor(random_seed=123)\n",
    "cat_param = {'n_estimators': range(1,1001, 50),\n",
    "             'learning_rate': np.arange(0.01,1,0.05)}\n",
    "\n",
    "cat_grid = GridSearchCV(cat_model,\n",
    "                       cat_param,\n",
    "                       n_jobs=-1,\n",
    "                       cv=5,\n",
    "                        scoring=scorer)\n",
    "\n",
    "cat_grid.fit(features, target_rougher)"
   ]
  },
  {
   "cell_type": "code",
   "execution_count": 39,
   "metadata": {},
   "outputs": [
    {
     "data": {
      "text/plain": [
       "{'learning_rate': 0.01, 'n_estimators': 551}"
      ]
     },
     "execution_count": 39,
     "metadata": {},
     "output_type": "execute_result"
    }
   ],
   "source": [
    "cat_grid.best_params_"
   ]
  },
  {
   "cell_type": "code",
   "execution_count": 40,
   "metadata": {},
   "outputs": [
    {
     "name": "stdout",
     "output_type": "stream",
     "text": [
      "Метрика при оптимальных параметрах для CatBoost: 10.160706020175123\n"
     ]
    }
   ],
   "source": [
    "print(f'Метрика при оптимальных параметрах для CatBoost: {-cat_grid.best_score_}')"
   ]
  },
  {
   "cell_type": "markdown",
   "metadata": {},
   "source": [
    "Лучший показатель метрики на операции флотации дала модель кэтбуста. Посмотрим какой результат мы получим на тестовой выборки для данной операции."
   ]
  },
  {
   "cell_type": "code",
   "execution_count": 58,
   "metadata": {},
   "outputs": [
    {
     "name": "stdout",
     "output_type": "stream",
     "text": [
      "0:\tlearn: 14.0301463\ttotal: 5.66ms\tremaining: 3.11s\n",
      "100:\tlearn: 11.3473939\ttotal: 514ms\tremaining: 2.29s\n",
      "200:\tlearn: 10.2453802\ttotal: 1.02s\tremaining: 1.77s\n",
      "300:\tlearn: 9.6473137\ttotal: 1.56s\tremaining: 1.29s\n",
      "400:\tlearn: 9.1992788\ttotal: 2.06s\tremaining: 770ms\n",
      "500:\tlearn: 8.8475067\ttotal: 2.56s\tremaining: 256ms\n",
      "550:\tlearn: 8.6907022\ttotal: 2.82s\tremaining: 0us\n"
     ]
    },
    {
     "data": {
      "text/plain": [
       "8.982034358769747"
      ]
     },
     "execution_count": 58,
     "metadata": {},
     "output_type": "execute_result"
    }
   ],
   "source": [
    "model_float_cat = CatBoostRegressor(random_seed=123, \n",
    "                                    verbose=100, \n",
    "                                    learning_rate=0.01, \n",
    "                                    n_estimators=551)\n",
    "model_float_cat.fit(features, target_rougher)\n",
    "predictions = model_float_cat.predict(features_test)\n",
    "sMAPE(predictions, rougher_output_recovery_test)"
   ]
  },
  {
   "cell_type": "markdown",
   "metadata": {},
   "source": [
    "Выбранная модель с подобранными гиперпараметрами показывает хороший результат на тестовой выборке."
   ]
  },
  {
   "cell_type": "markdown",
   "metadata": {},
   "source": [
    "#### Выбор модели для финального перехода"
   ]
  },
  {
   "cell_type": "markdown",
   "metadata": {},
   "source": [
    "Подберём модель для финального перехода."
   ]
  },
  {
   "cell_type": "markdown",
   "metadata": {},
   "source": [
    "<b>Линейная регрессия.</b>"
   ]
  },
  {
   "cell_type": "code",
   "execution_count": 42,
   "metadata": {},
   "outputs": [
    {
     "data": {
      "text/plain": [
       "11.280633783850755"
      ]
     },
     "execution_count": 42,
     "metadata": {},
     "output_type": "execute_result"
    }
   ],
   "source": [
    "lin_model = LinearRegression()\n",
    "\n",
    "-cross_val_score(lin_model, \n",
    "                features, \n",
    "                target_final, \n",
    "                cv=5, \n",
    "                scoring=scorer).mean()"
   ]
  },
  {
   "cell_type": "markdown",
   "metadata": {},
   "source": [
    "<b>Дерево решений</b>. Подберём гиперпараметры для данной модели при помощи GridSearchCV. "
   ]
  },
  {
   "cell_type": "code",
   "execution_count": 43,
   "metadata": {},
   "outputs": [
    {
     "name": "stdout",
     "output_type": "stream",
     "text": [
      "CPU times: total: 5.67 s\n",
      "Wall time: 1min 12s\n"
     ]
    },
    {
     "data": {
      "text/plain": [
       "GridSearchCV(cv=5, estimator=DecisionTreeRegressor(random_state=123), n_jobs=-1,\n",
       "             param_grid={'max_depth': range(1, 16),\n",
       "                         'max_features': range(1, 52, 10),\n",
       "                         'min_samples_leaf': range(1, 10)},\n",
       "             scoring=make_scorer(sMAPE, greater_is_better=False))"
      ]
     },
     "execution_count": 43,
     "metadata": {},
     "output_type": "execute_result"
    }
   ],
   "source": [
    "%%time\n",
    "tree_model = DecisionTreeRegressor(random_state=123)\n",
    "tree_param = {'max_depth': range(1,16),\n",
    "             'min_samples_leaf': range(1,10),\n",
    "             'max_features': range(1,len(features.columns), 10)}\n",
    "\n",
    "tree_grid = GridSearchCV(tree_model,\n",
    "                       tree_param,\n",
    "                       n_jobs=-1,\n",
    "                       cv=5,\n",
    "                        scoring=scorer)\n",
    "\n",
    "tree_grid.fit(features, target_final)"
   ]
  },
  {
   "cell_type": "code",
   "execution_count": 44,
   "metadata": {},
   "outputs": [
    {
     "data": {
      "text/plain": [
       "{'max_depth': 1, 'max_features': 51, 'min_samples_leaf': 1}"
      ]
     },
     "execution_count": 44,
     "metadata": {},
     "output_type": "execute_result"
    }
   ],
   "source": [
    "tree_grid.best_params_"
   ]
  },
  {
   "cell_type": "code",
   "execution_count": 45,
   "metadata": {},
   "outputs": [
    {
     "name": "stdout",
     "output_type": "stream",
     "text": [
      "Метрика при оптимальных параметрах для решающего дерева: 9.71838399140338\n"
     ]
    }
   ],
   "source": [
    "print(f'Метрика при оптимальных параметрах для решающего дерева: {-tree_grid.best_score_}')"
   ]
  },
  {
   "cell_type": "markdown",
   "metadata": {},
   "source": [
    "<b>Случайный лес</b>. Подберём гиперпараметры для данной модели"
   ]
  },
  {
   "cell_type": "code",
   "execution_count": 46,
   "metadata": {},
   "outputs": [
    {
     "name": "stdout",
     "output_type": "stream",
     "text": [
      "CPU times: total: 1min 50s\n",
      "Wall time: 1h 6min 4s\n"
     ]
    },
    {
     "data": {
      "text/plain": [
       "GridSearchCV(cv=5, estimator=RandomForestRegressor(random_state=123), n_jobs=-1,\n",
       "             param_grid={'max_depth': range(1, 16, 2),\n",
       "                         'n_estimators': range(1, 1001, 100)},\n",
       "             scoring=make_scorer(sMAPE, greater_is_better=False))"
      ]
     },
     "execution_count": 46,
     "metadata": {},
     "output_type": "execute_result"
    }
   ],
   "source": [
    "%%time\n",
    "forest_model = RandomForestRegressor(random_state=123)\n",
    "forest_param = {'n_estimators': range(1,1001, 100),\n",
    "             'max_depth': range(1,16,2)}\n",
    "\n",
    "forest_grid = GridSearchCV(forest_model,\n",
    "                       forest_param,\n",
    "                       n_jobs=-1,\n",
    "                       cv=5,\n",
    "                        scoring=scorer)\n",
    "\n",
    "forest_grid.fit(features, target_final)"
   ]
  },
  {
   "cell_type": "code",
   "execution_count": 47,
   "metadata": {},
   "outputs": [
    {
     "data": {
      "text/plain": [
       "{'max_depth': 5, 'n_estimators': 801}"
      ]
     },
     "execution_count": 47,
     "metadata": {},
     "output_type": "execute_result"
    }
   ],
   "source": [
    "forest_grid.best_params_"
   ]
  },
  {
   "cell_type": "code",
   "execution_count": 48,
   "metadata": {},
   "outputs": [
    {
     "name": "stdout",
     "output_type": "stream",
     "text": [
      "Метрика при оптимальных параметрах для решающего дерева: 9.42218452210928\n"
     ]
    }
   ],
   "source": [
    "print(f'Метрика при оптимальных параметрах для решающего дерева: {-forest_grid.best_score_}')"
   ]
  },
  {
   "cell_type": "markdown",
   "metadata": {},
   "source": [
    "<b>CatBoost</b>. Подберём оптимальное гиперпараметры для данной модели."
   ]
  },
  {
   "cell_type": "code",
   "execution_count": 49,
   "metadata": {},
   "outputs": [
    {
     "name": "stdout",
     "output_type": "stream",
     "text": [
      "0:\tlearn: 9.3896697\ttotal: 11ms\tremaining: 548ms\n",
      "1:\tlearn: 9.2334223\ttotal: 17.1ms\tremaining: 419ms\n",
      "2:\tlearn: 9.0916975\ttotal: 23.7ms\tremaining: 379ms\n",
      "3:\tlearn: 8.9655957\ttotal: 30.1ms\tremaining: 354ms\n",
      "4:\tlearn: 8.8451274\ttotal: 36.5ms\tremaining: 336ms\n",
      "5:\tlearn: 8.7300510\ttotal: 41.9ms\tremaining: 314ms\n",
      "6:\tlearn: 8.6324788\ttotal: 47.7ms\tremaining: 300ms\n",
      "7:\tlearn: 8.5290732\ttotal: 53.6ms\tremaining: 288ms\n",
      "8:\tlearn: 8.4447754\ttotal: 59.3ms\tremaining: 277ms\n",
      "9:\tlearn: 8.3616173\ttotal: 66.6ms\tremaining: 273ms\n",
      "10:\tlearn: 8.2812382\ttotal: 73.6ms\tremaining: 268ms\n",
      "11:\tlearn: 8.2055609\ttotal: 79.6ms\tremaining: 259ms\n",
      "12:\tlearn: 8.1453450\ttotal: 86.6ms\tremaining: 253ms\n",
      "13:\tlearn: 8.0820030\ttotal: 92.4ms\tremaining: 244ms\n",
      "14:\tlearn: 8.0148527\ttotal: 98.5ms\tremaining: 237ms\n",
      "15:\tlearn: 7.9598782\ttotal: 105ms\tremaining: 229ms\n",
      "16:\tlearn: 7.9096439\ttotal: 110ms\tremaining: 221ms\n",
      "17:\tlearn: 7.8541829\ttotal: 116ms\tremaining: 212ms\n",
      "18:\tlearn: 7.8086008\ttotal: 123ms\tremaining: 206ms\n",
      "19:\tlearn: 7.7594508\ttotal: 128ms\tremaining: 199ms\n",
      "20:\tlearn: 7.7097156\ttotal: 134ms\tremaining: 192ms\n",
      "21:\tlearn: 7.6711163\ttotal: 140ms\tremaining: 185ms\n",
      "22:\tlearn: 7.6290032\ttotal: 147ms\tremaining: 179ms\n",
      "23:\tlearn: 7.5873099\ttotal: 153ms\tremaining: 172ms\n",
      "24:\tlearn: 7.5574787\ttotal: 159ms\tremaining: 165ms\n",
      "25:\tlearn: 7.5255757\ttotal: 165ms\tremaining: 159ms\n",
      "26:\tlearn: 7.4994302\ttotal: 171ms\tremaining: 152ms\n",
      "27:\tlearn: 7.4703647\ttotal: 178ms\tremaining: 146ms\n",
      "28:\tlearn: 7.4428228\ttotal: 184ms\tremaining: 140ms\n",
      "29:\tlearn: 7.4185401\ttotal: 190ms\tremaining: 133ms\n",
      "30:\tlearn: 7.3909481\ttotal: 196ms\tremaining: 127ms\n",
      "31:\tlearn: 7.3669265\ttotal: 202ms\tremaining: 120ms\n",
      "32:\tlearn: 7.3460955\ttotal: 209ms\tremaining: 114ms\n",
      "33:\tlearn: 7.3322113\ttotal: 214ms\tremaining: 107ms\n",
      "34:\tlearn: 7.3121512\ttotal: 220ms\tremaining: 101ms\n",
      "35:\tlearn: 7.2883870\ttotal: 227ms\tremaining: 94.5ms\n",
      "36:\tlearn: 7.2677479\ttotal: 233ms\tremaining: 88.1ms\n",
      "37:\tlearn: 7.2512003\ttotal: 239ms\tremaining: 81.9ms\n",
      "38:\tlearn: 7.2268591\ttotal: 246ms\tremaining: 75.7ms\n",
      "39:\tlearn: 7.2107091\ttotal: 252ms\tremaining: 69.3ms\n",
      "40:\tlearn: 7.1932837\ttotal: 258ms\tremaining: 62.8ms\n",
      "41:\tlearn: 7.1771086\ttotal: 263ms\tremaining: 56.4ms\n",
      "42:\tlearn: 7.1595894\ttotal: 269ms\tremaining: 50ms\n",
      "43:\tlearn: 7.1442087\ttotal: 275ms\tremaining: 43.7ms\n",
      "44:\tlearn: 7.1251954\ttotal: 282ms\tremaining: 37.6ms\n",
      "45:\tlearn: 7.1154496\ttotal: 288ms\tremaining: 31.3ms\n",
      "46:\tlearn: 7.0999820\ttotal: 294ms\tremaining: 25ms\n",
      "47:\tlearn: 7.0823781\ttotal: 300ms\tremaining: 18.7ms\n",
      "48:\tlearn: 7.0676862\ttotal: 305ms\tremaining: 12.4ms\n",
      "49:\tlearn: 7.0530350\ttotal: 311ms\tremaining: 6.21ms\n",
      "50:\tlearn: 7.0396961\ttotal: 317ms\tremaining: 0us\n",
      "CPU times: total: 9.11 s\n",
      "Wall time: 56min 15s\n"
     ]
    },
    {
     "data": {
      "text/plain": [
       "GridSearchCV(cv=5,\n",
       "             estimator=<catboost.core.CatBoostRegressor object at 0x0000017F18C801F0>,\n",
       "             n_jobs=-1,\n",
       "             param_grid={'learning_rate': array([0.01, 0.06, 0.11, 0.16, 0.21, 0.26, 0.31, 0.36, 0.41, 0.46, 0.51,\n",
       "       0.56, 0.61, 0.66, 0.71, 0.76, 0.81, 0.86, 0.91, 0.96]),\n",
       "                         'n_estimators': range(1, 1001, 50)},\n",
       "             scoring=make_scorer(sMAPE, greater_is_better=False))"
      ]
     },
     "execution_count": 49,
     "metadata": {},
     "output_type": "execute_result"
    }
   ],
   "source": [
    "%%time\n",
    "cat_model = CatBoostRegressor(random_seed=123)\n",
    "cat_param = {'n_estimators': range(1,1001, 50),\n",
    "             'learning_rate': np.arange(0.01,1,0.05)}\n",
    "\n",
    "cat_grid = GridSearchCV(cat_model,\n",
    "                       cat_param,\n",
    "                       n_jobs=-1,\n",
    "                       cv=5,\n",
    "                        scoring=scorer)\n",
    "\n",
    "cat_grid.fit(features, target_final)"
   ]
  },
  {
   "cell_type": "code",
   "execution_count": 50,
   "metadata": {},
   "outputs": [
    {
     "data": {
      "text/plain": [
       "{'learning_rate': 0.060000000000000005, 'n_estimators': 51}"
      ]
     },
     "execution_count": 50,
     "metadata": {},
     "output_type": "execute_result"
    }
   ],
   "source": [
    "cat_grid.best_params_"
   ]
  },
  {
   "cell_type": "code",
   "execution_count": 51,
   "metadata": {},
   "outputs": [
    {
     "name": "stdout",
     "output_type": "stream",
     "text": [
      "Метрика при оптимальных параметрах для CatBoost: 8.970859559447733\n"
     ]
    }
   ],
   "source": [
    "print(f'Метрика при оптимальных параметрах для CatBoost: {-cat_grid.best_score_}')"
   ]
  },
  {
   "cell_type": "markdown",
   "metadata": {},
   "source": [
    "Лучший показатель для финального перехода также даёт модель кэтбуста. Посмотрим её результаты на тестовой выборке"
   ]
  },
  {
   "cell_type": "code",
   "execution_count": 64,
   "metadata": {},
   "outputs": [
    {
     "name": "stdout",
     "output_type": "stream",
     "text": [
      "0:\tlearn: 9.3896697\ttotal: 5.61ms\tremaining: 281ms\n",
      "50:\tlearn: 7.0396961\ttotal: 260ms\tremaining: 0us\n"
     ]
    },
    {
     "data": {
      "text/plain": [
       "9.10847628772065"
      ]
     },
     "execution_count": 64,
     "metadata": {},
     "output_type": "execute_result"
    }
   ],
   "source": [
    "model_final_cat = CatBoostRegressor(random_seed=123, \n",
    "                                    verbose=100, \n",
    "                                    learning_rate=0.06, \n",
    "                                    n_estimators=51)\n",
    "model_final_cat.fit(features, target_final)\n",
    "predictions = model_final_cat.predict(features_test)\n",
    "sMAPE(predictions, final_output_recovery_test)"
   ]
  },
  {
   "cell_type": "markdown",
   "metadata": {},
   "source": [
    "Данные на тесте незначительно хуже, чем на выборке (около 0,13), тем не менее этот результат лучше чем у друших моделей."
   ]
  },
  {
   "cell_type": "markdown",
   "metadata": {},
   "source": [
    "#### Финальная модель"
   ]
  },
  {
   "cell_type": "markdown",
   "metadata": {},
   "source": [
    "Финальная модель будет состоять из двух моделей, метрику по ним мы будем смотреть объединённую, которая будет рассчитываться при помощи функции написаной выше."
   ]
  },
  {
   "cell_type": "markdown",
   "metadata": {},
   "source": [
    "Обучим модель для операции флотации."
   ]
  },
  {
   "cell_type": "code",
   "execution_count": 65,
   "metadata": {},
   "outputs": [
    {
     "name": "stdout",
     "output_type": "stream",
     "text": [
      "0:\tlearn: 14.0301463\ttotal: 6.33ms\tremaining: 3.48s\n",
      "100:\tlearn: 11.3473939\ttotal: 509ms\tremaining: 2.27s\n",
      "200:\tlearn: 10.2453802\ttotal: 1.05s\tremaining: 1.83s\n",
      "300:\tlearn: 9.6473137\ttotal: 1.57s\tremaining: 1.31s\n",
      "400:\tlearn: 9.1992788\ttotal: 2.07s\tremaining: 776ms\n",
      "500:\tlearn: 8.8475067\ttotal: 2.58s\tremaining: 257ms\n",
      "550:\tlearn: 8.6907022\ttotal: 2.82s\tremaining: 0us\n"
     ]
    }
   ],
   "source": [
    "model_float_cat = CatBoostRegressor(random_seed=123, \n",
    "                                    verbose=100, \n",
    "                                    learning_rate=0.01, \n",
    "                                    n_estimators=551)\n",
    "model_float_cat.fit(features, target_rougher)\n",
    "predictions_float = model_float_cat.predict(features_test)"
   ]
  },
  {
   "cell_type": "markdown",
   "metadata": {},
   "source": [
    "Обучим модель для финального перехода"
   ]
  },
  {
   "cell_type": "code",
   "execution_count": 66,
   "metadata": {},
   "outputs": [
    {
     "name": "stdout",
     "output_type": "stream",
     "text": [
      "0:\tlearn: 9.3896697\ttotal: 5.62ms\tremaining: 281ms\n",
      "50:\tlearn: 7.0396961\ttotal: 260ms\tremaining: 0us\n"
     ]
    }
   ],
   "source": [
    "model_final_cat = CatBoostRegressor(random_seed=123, \n",
    "                                    verbose=100, \n",
    "                                    learning_rate=0.06, \n",
    "                                    n_estimators=51)\n",
    "model_final_cat.fit(features, target_final)\n",
    "predictions_final = model_final_cat.predict(features_test)"
   ]
  },
  {
   "cell_type": "markdown",
   "metadata": {},
   "source": [
    "Рассчитаем итоговый показатель для данной операции."
   ]
  },
  {
   "cell_type": "code",
   "execution_count": 68,
   "metadata": {},
   "outputs": [
    {
     "data": {
      "text/plain": [
       "9.076865805482925"
      ]
     },
     "execution_count": 68,
     "metadata": {},
     "output_type": "execute_result"
    }
   ],
   "source": [
    "resulting_sMAPE (rougher_output_recovery_test, predictions_float, \n",
    "                 final_output_recovery_test, predictions_final)"
   ]
  },
  {
   "cell_type": "markdown",
   "metadata": {},
   "source": [
    "Итоговая метрика оказалась лучше чем метрика у модели, которая использовала стратегию предсказания по медиане (9.44)."
   ]
  },
  {
   "cell_type": "markdown",
   "metadata": {},
   "source": [
    "### Выводы"
   ]
  },
  {
   "cell_type": "markdown",
   "metadata": {},
   "source": [
    "В данном разделе была написана функция для вычисления итогового значение sMAPE обучены разные модели и выбрана та, которая даёт лучший результат. На тестовой выборке значение итогового sMAPE получилось равным 9.07. Это лучше чем результат dummy модели со стратегией предсказания по медиане"
   ]
  },
  {
   "cell_type": "markdown",
   "metadata": {},
   "source": [
    "## Общие выводы"
   ]
  },
  {
   "cell_type": "markdown",
   "metadata": {},
   "source": [
    "В ходе данного исследования была проведена следующая работа:\n",
    "\n",
    "    1. Открыты и изучены исходные данные, проведена предобработка данных. Было установленно, что эффективнеость обогощения рассчитана правилльно и данный показатель можно использовать прямо из исходного датасета.\n",
    "    2. Изучено как меняются концентрации металлов на различных стадиях очистки. Исследован размер гранул в обучающей и тестовой выборке, на основании полученных результатов были сделаны выводы, что в данном случае можно применять машинное обучение, поскольку данные тестовой и обучающей выборки сопостовимы. Проанализировано как меняется суммарная концентрация веществ на различных этапах очищения, были выявлены аномалии (строки с нулевой концентрацией веществ). Такие строки было принято удалить.\n",
    "    3. Создана функция для рассчёта итогового sMAPE. Обучена модель, которая позволяет получить значение указанной метрики равной 9.07, что лучше чем у модели, которая делает предсказания по медиане."
   ]
  },
  {
   "cell_type": "code",
   "execution_count": null,
   "metadata": {},
   "outputs": [],
   "source": []
  }
 ],
 "metadata": {
  "ExecuteTimeLog": [
   {
    "duration": 657,
    "start_time": "2022-03-09T11:38:49.437Z"
   },
   {
    "duration": 1433,
    "start_time": "2022-03-09T11:40:08.346Z"
   },
   {
    "duration": 712,
    "start_time": "2022-03-09T11:40:44.404Z"
   },
   {
    "duration": 791,
    "start_time": "2022-03-09T11:42:04.463Z"
   },
   {
    "duration": 612,
    "start_time": "2022-03-09T11:42:33.598Z"
   },
   {
    "duration": 518,
    "start_time": "2022-03-09T11:49:36.184Z"
   },
   {
    "duration": 214,
    "start_time": "2022-03-09T11:50:11.392Z"
   },
   {
    "duration": 183,
    "start_time": "2022-03-09T11:50:31.344Z"
   },
   {
    "duration": 29,
    "start_time": "2022-03-09T11:50:38.735Z"
   },
   {
    "duration": 7,
    "start_time": "2022-03-09T11:50:45.079Z"
   },
   {
    "duration": 11,
    "start_time": "2022-03-09T11:51:58.719Z"
   },
   {
    "duration": 7,
    "start_time": "2022-03-09T11:52:18.744Z"
   },
   {
    "duration": 16,
    "start_time": "2022-03-09T11:52:34.936Z"
   },
   {
    "duration": 6,
    "start_time": "2022-03-09T12:07:49.168Z"
   },
   {
    "duration": 37,
    "start_time": "2022-03-09T12:07:58.919Z"
   },
   {
    "duration": 5,
    "start_time": "2022-03-09T12:08:56.818Z"
   },
   {
    "duration": 3,
    "start_time": "2022-03-09T12:10:59.379Z"
   },
   {
    "duration": 6,
    "start_time": "2022-03-09T12:11:46.851Z"
   },
   {
    "duration": 56,
    "start_time": "2022-03-09T12:15:40.045Z"
   },
   {
    "duration": 6,
    "start_time": "2022-03-09T12:15:51.332Z"
   },
   {
    "duration": 173,
    "start_time": "2022-03-09T12:19:47.963Z"
   },
   {
    "duration": 7,
    "start_time": "2022-03-09T12:20:06.843Z"
   },
   {
    "duration": 29,
    "start_time": "2022-03-09T12:21:36.911Z"
   },
   {
    "duration": 22,
    "start_time": "2022-03-09T12:22:03.085Z"
   },
   {
    "duration": 628,
    "start_time": "2022-03-09T12:22:23.182Z"
   },
   {
    "duration": 4,
    "start_time": "2022-03-09T12:22:42.502Z"
   },
   {
    "duration": 170,
    "start_time": "2022-03-09T12:22:56.678Z"
   },
   {
    "duration": 27,
    "start_time": "2022-03-09T12:23:53.854Z"
   },
   {
    "duration": 56,
    "start_time": "2022-03-09T12:25:39.160Z"
   },
   {
    "duration": 4409,
    "start_time": "2022-03-09T12:25:43.431Z"
   },
   {
    "duration": 20,
    "start_time": "2022-03-09T12:26:03.871Z"
   },
   {
    "duration": 11,
    "start_time": "2022-03-09T12:26:16.806Z"
   },
   {
    "duration": 38,
    "start_time": "2022-03-09T12:27:14.710Z"
   },
   {
    "duration": 177,
    "start_time": "2022-03-09T12:31:49.111Z"
   },
   {
    "duration": 173,
    "start_time": "2022-03-09T12:31:54.519Z"
   },
   {
    "duration": 174,
    "start_time": "2022-03-09T12:31:59.055Z"
   },
   {
    "duration": 24,
    "start_time": "2022-03-09T12:32:07.767Z"
   },
   {
    "duration": 45,
    "start_time": "2022-03-09T12:33:33.568Z"
   },
   {
    "duration": 48,
    "start_time": "2022-03-09T12:34:01.741Z"
   },
   {
    "duration": 99,
    "start_time": "2022-03-09T12:34:26.865Z"
   },
   {
    "duration": 105,
    "start_time": "2022-03-09T12:35:52.484Z"
   },
   {
    "duration": 545,
    "start_time": "2022-03-09T12:36:03.259Z"
   },
   {
    "duration": 671,
    "start_time": "2022-03-09T12:36:03.805Z"
   },
   {
    "duration": 538,
    "start_time": "2022-03-09T12:36:04.478Z"
   },
   {
    "duration": 246,
    "start_time": "2022-03-09T12:36:05.018Z"
   },
   {
    "duration": 8,
    "start_time": "2022-03-09T12:36:05.266Z"
   },
   {
    "duration": 16,
    "start_time": "2022-03-09T12:36:05.277Z"
   },
   {
    "duration": 11,
    "start_time": "2022-03-09T12:36:05.295Z"
   },
   {
    "duration": 70,
    "start_time": "2022-03-09T12:36:05.308Z"
   },
   {
    "duration": 9,
    "start_time": "2022-03-09T12:44:15.802Z"
   },
   {
    "duration": 76,
    "start_time": "2022-03-09T12:44:19.906Z"
   },
   {
    "duration": 15,
    "start_time": "2022-03-09T12:44:27.586Z"
   },
   {
    "duration": 11,
    "start_time": "2022-03-09T12:45:00.858Z"
   },
   {
    "duration": 528,
    "start_time": "2022-03-09T12:45:16.088Z"
   },
   {
    "duration": 648,
    "start_time": "2022-03-09T12:45:16.617Z"
   },
   {
    "duration": 534,
    "start_time": "2022-03-09T12:45:17.268Z"
   },
   {
    "duration": 230,
    "start_time": "2022-03-09T12:45:17.803Z"
   },
   {
    "duration": 19,
    "start_time": "2022-03-09T12:45:18.037Z"
   },
   {
    "duration": 7,
    "start_time": "2022-03-09T12:45:18.058Z"
   },
   {
    "duration": 5,
    "start_time": "2022-03-09T12:45:18.067Z"
   },
   {
    "duration": 7,
    "start_time": "2022-03-09T12:45:18.075Z"
   },
   {
    "duration": 83,
    "start_time": "2022-03-09T12:45:18.084Z"
   },
   {
    "duration": 13,
    "start_time": "2022-03-09T12:52:19.767Z"
   },
   {
    "duration": 6,
    "start_time": "2022-03-09T12:52:54.690Z"
   },
   {
    "duration": 569,
    "start_time": "2022-03-10T08:26:51.448Z"
   },
   {
    "duration": 637,
    "start_time": "2022-03-10T08:26:52.019Z"
   },
   {
    "duration": 543,
    "start_time": "2022-03-10T08:26:52.658Z"
   },
   {
    "duration": 229,
    "start_time": "2022-03-10T08:26:53.203Z"
   },
   {
    "duration": 17,
    "start_time": "2022-03-10T08:26:53.433Z"
   },
   {
    "duration": 16,
    "start_time": "2022-03-10T08:26:53.452Z"
   },
   {
    "duration": 15,
    "start_time": "2022-03-10T08:26:53.470Z"
   },
   {
    "duration": 16,
    "start_time": "2022-03-10T08:26:53.487Z"
   },
   {
    "duration": 53,
    "start_time": "2022-03-10T08:26:53.505Z"
   },
   {
    "duration": 15,
    "start_time": "2022-03-10T08:26:53.559Z"
   },
   {
    "duration": 4,
    "start_time": "2022-03-10T08:37:36.830Z"
   },
   {
    "duration": 80,
    "start_time": "2022-03-10T08:41:08.725Z"
   },
   {
    "duration": 3,
    "start_time": "2022-03-10T08:41:48.247Z"
   },
   {
    "duration": 537,
    "start_time": "2022-03-10T08:42:10.159Z"
   },
   {
    "duration": 3,
    "start_time": "2022-03-10T08:42:22.722Z"
   },
   {
    "duration": 196,
    "start_time": "2022-03-10T08:42:23.246Z"
   },
   {
    "duration": 4,
    "start_time": "2022-03-10T08:42:45.574Z"
   },
   {
    "duration": 177,
    "start_time": "2022-03-10T08:42:46.205Z"
   },
   {
    "duration": 3,
    "start_time": "2022-03-10T08:44:21.062Z"
   },
   {
    "duration": 6226,
    "start_time": "2022-03-10T08:44:23.480Z"
   },
   {
    "duration": 4,
    "start_time": "2022-03-10T08:44:38.165Z"
   },
   {
    "duration": 275,
    "start_time": "2022-03-10T08:44:40.133Z"
   },
   {
    "duration": 4,
    "start_time": "2022-03-10T08:46:04.965Z"
   },
   {
    "duration": 163,
    "start_time": "2022-03-10T08:46:05.981Z"
   },
   {
    "duration": 3,
    "start_time": "2022-03-10T08:46:32.350Z"
   },
   {
    "duration": 482,
    "start_time": "2022-03-10T08:46:32.878Z"
   },
   {
    "duration": 4,
    "start_time": "2022-03-10T08:46:44.182Z"
   },
   {
    "duration": 139,
    "start_time": "2022-03-10T08:46:45.586Z"
   },
   {
    "duration": 4,
    "start_time": "2022-03-10T08:47:20.982Z"
   },
   {
    "duration": 208,
    "start_time": "2022-03-10T08:47:21.567Z"
   },
   {
    "duration": 4,
    "start_time": "2022-03-10T08:47:28.405Z"
   },
   {
    "duration": 289,
    "start_time": "2022-03-10T08:47:29.629Z"
   },
   {
    "duration": 229,
    "start_time": "2022-03-10T08:48:07.670Z"
   },
   {
    "duration": 171,
    "start_time": "2022-03-10T08:48:22.982Z"
   },
   {
    "duration": 164,
    "start_time": "2022-03-10T08:49:26.125Z"
   },
   {
    "duration": 261,
    "start_time": "2022-03-10T08:49:48.142Z"
   },
   {
    "duration": 84,
    "start_time": "2022-03-10T08:55:43.128Z"
   },
   {
    "duration": 199,
    "start_time": "2022-03-10T08:55:48.014Z"
   },
   {
    "duration": 227,
    "start_time": "2022-03-10T08:56:41.485Z"
   },
   {
    "duration": 230,
    "start_time": "2022-03-10T08:56:57.207Z"
   },
   {
    "duration": 229,
    "start_time": "2022-03-10T08:57:11.059Z"
   },
   {
    "duration": 5,
    "start_time": "2022-03-10T09:11:25.396Z"
   },
   {
    "duration": 10,
    "start_time": "2022-03-10T09:12:22.235Z"
   },
   {
    "duration": 448,
    "start_time": "2022-03-10T09:13:18.787Z"
   },
   {
    "duration": 308,
    "start_time": "2022-03-10T09:19:35.718Z"
   },
   {
    "duration": 281,
    "start_time": "2022-03-10T09:19:57.448Z"
   },
   {
    "duration": 287,
    "start_time": "2022-03-10T09:20:10.625Z"
   },
   {
    "duration": 804,
    "start_time": "2022-03-10T09:20:45.073Z"
   },
   {
    "duration": 1210,
    "start_time": "2022-03-10T09:21:25.160Z"
   },
   {
    "duration": 959,
    "start_time": "2022-03-10T09:21:43.440Z"
   },
   {
    "duration": 938,
    "start_time": "2022-03-10T09:21:51.107Z"
   },
   {
    "duration": 390,
    "start_time": "2022-03-10T09:22:36.720Z"
   },
   {
    "duration": 896,
    "start_time": "2022-03-10T09:22:47.908Z"
   },
   {
    "duration": 236,
    "start_time": "2022-03-10T09:23:59.368Z"
   },
   {
    "duration": 1336,
    "start_time": "2022-03-10T09:24:51.695Z"
   },
   {
    "duration": 988,
    "start_time": "2022-03-10T09:26:37.489Z"
   },
   {
    "duration": 1049,
    "start_time": "2022-03-10T09:26:47.887Z"
   },
   {
    "duration": 1089,
    "start_time": "2022-03-10T09:26:59.512Z"
   },
   {
    "duration": 1437,
    "start_time": "2022-03-10T09:27:37.848Z"
   },
   {
    "duration": 945,
    "start_time": "2022-03-10T09:27:51.391Z"
   },
   {
    "duration": 3,
    "start_time": "2022-03-10T09:39:44.134Z"
   },
   {
    "duration": 3606,
    "start_time": "2022-03-10T09:40:16.054Z"
   },
   {
    "duration": 3,
    "start_time": "2022-03-10T09:40:42.829Z"
   },
   {
    "duration": 764,
    "start_time": "2022-03-10T09:40:43.431Z"
   },
   {
    "duration": 3,
    "start_time": "2022-03-10T09:41:21.653Z"
   },
   {
    "duration": 67,
    "start_time": "2022-03-10T09:41:22.381Z"
   },
   {
    "duration": 4,
    "start_time": "2022-03-10T09:42:38.374Z"
   },
   {
    "duration": 956,
    "start_time": "2022-03-10T09:43:04.158Z"
   },
   {
    "duration": 1319,
    "start_time": "2022-03-10T09:43:25.885Z"
   },
   {
    "duration": 253,
    "start_time": "2022-03-10T09:44:13.599Z"
   },
   {
    "duration": 1231,
    "start_time": "2022-03-10T09:44:21.359Z"
   },
   {
    "duration": 750,
    "start_time": "2022-03-10T09:44:22.593Z"
   },
   {
    "duration": 546,
    "start_time": "2022-03-10T09:44:23.346Z"
   },
   {
    "duration": 224,
    "start_time": "2022-03-10T09:44:23.901Z"
   },
   {
    "duration": 18,
    "start_time": "2022-03-10T09:44:24.127Z"
   },
   {
    "duration": 65,
    "start_time": "2022-03-10T09:44:24.148Z"
   },
   {
    "duration": 38,
    "start_time": "2022-03-10T09:44:24.215Z"
   },
   {
    "duration": 16,
    "start_time": "2022-03-10T09:44:24.257Z"
   },
   {
    "duration": 56,
    "start_time": "2022-03-10T09:44:24.276Z"
   },
   {
    "duration": 17,
    "start_time": "2022-03-10T09:44:24.334Z"
   },
   {
    "duration": 7,
    "start_time": "2022-03-10T09:44:24.354Z"
   },
   {
    "duration": 16,
    "start_time": "2022-03-10T09:44:24.363Z"
   },
   {
    "duration": 194,
    "start_time": "2022-03-10T09:44:24.381Z"
   },
   {
    "duration": 184,
    "start_time": "2022-03-10T09:44:24.577Z"
   },
   {
    "duration": 171,
    "start_time": "2022-03-10T09:44:24.763Z"
   },
   {
    "duration": 237,
    "start_time": "2022-03-10T09:44:24.936Z"
   },
   {
    "duration": 231,
    "start_time": "2022-03-10T09:44:25.175Z"
   },
   {
    "duration": 8,
    "start_time": "2022-03-10T09:44:25.408Z"
   },
   {
    "duration": 990,
    "start_time": "2022-03-10T09:44:25.418Z"
   },
   {
    "duration": 4,
    "start_time": "2022-03-10T09:44:26.410Z"
   },
   {
    "duration": 270,
    "start_time": "2022-03-10T09:44:26.416Z"
   },
   {
    "duration": 5,
    "start_time": "2022-03-10T11:22:51.416Z"
   },
   {
    "duration": 6,
    "start_time": "2022-03-10T11:30:28.505Z"
   },
   {
    "duration": 345,
    "start_time": "2022-03-10T11:31:06.560Z"
   },
   {
    "duration": 8,
    "start_time": "2022-03-10T11:31:14.177Z"
   },
   {
    "duration": 11,
    "start_time": "2022-03-10T11:31:25.737Z"
   },
   {
    "duration": 8,
    "start_time": "2022-03-10T11:32:07.112Z"
   },
   {
    "duration": 125,
    "start_time": "2022-03-10T11:33:05.143Z"
   },
   {
    "duration": 4,
    "start_time": "2022-03-10T11:34:10.512Z"
   },
   {
    "duration": 7,
    "start_time": "2022-03-10T11:53:46.547Z"
   },
   {
    "duration": 580,
    "start_time": "2022-03-10T11:54:55.892Z"
   },
   {
    "duration": 5,
    "start_time": "2022-03-10T11:55:12.701Z"
   },
   {
    "duration": 630,
    "start_time": "2022-03-10T11:55:13.269Z"
   },
   {
    "duration": 250,
    "start_time": "2022-03-10T11:56:56.741Z"
   },
   {
    "duration": 13,
    "start_time": "2022-03-10T11:57:04.269Z"
   },
   {
    "duration": 7,
    "start_time": "2022-03-10T11:57:07.349Z"
   },
   {
    "duration": 643,
    "start_time": "2022-03-10T11:57:09.436Z"
   },
   {
    "duration": 9,
    "start_time": "2022-03-10T11:57:53.251Z"
   },
   {
    "duration": 68,
    "start_time": "2022-03-10T11:58:00.484Z"
   },
   {
    "duration": 71,
    "start_time": "2022-03-10T11:58:13.948Z"
   },
   {
    "duration": 7,
    "start_time": "2022-03-10T11:58:18.261Z"
   },
   {
    "duration": 12,
    "start_time": "2022-03-10T11:58:48.347Z"
   },
   {
    "duration": 8,
    "start_time": "2022-03-10T11:58:54.251Z"
   },
   {
    "duration": 13,
    "start_time": "2022-03-10T11:58:57.059Z"
   },
   {
    "duration": 8,
    "start_time": "2022-03-10T11:59:00.660Z"
   },
   {
    "duration": 1286,
    "start_time": "2022-03-10T11:59:24.735Z"
   },
   {
    "duration": 678,
    "start_time": "2022-03-10T11:59:26.023Z"
   },
   {
    "duration": 563,
    "start_time": "2022-03-10T11:59:26.704Z"
   },
   {
    "duration": 303,
    "start_time": "2022-03-10T11:59:27.269Z"
   },
   {
    "duration": 40,
    "start_time": "2022-03-10T11:59:27.575Z"
   },
   {
    "duration": 11,
    "start_time": "2022-03-10T11:59:27.618Z"
   },
   {
    "duration": 11,
    "start_time": "2022-03-10T11:59:27.631Z"
   },
   {
    "duration": 9,
    "start_time": "2022-03-10T11:59:27.646Z"
   },
   {
    "duration": 101,
    "start_time": "2022-03-10T11:59:27.657Z"
   },
   {
    "duration": 21,
    "start_time": "2022-03-10T11:59:27.761Z"
   },
   {
    "duration": 18,
    "start_time": "2022-03-10T11:59:27.784Z"
   },
   {
    "duration": 8,
    "start_time": "2022-03-10T11:59:27.804Z"
   },
   {
    "duration": 200,
    "start_time": "2022-03-10T11:59:27.814Z"
   },
   {
    "duration": 212,
    "start_time": "2022-03-10T11:59:28.016Z"
   },
   {
    "duration": 274,
    "start_time": "2022-03-10T11:59:28.230Z"
   },
   {
    "duration": 376,
    "start_time": "2022-03-10T11:59:28.506Z"
   },
   {
    "duration": 439,
    "start_time": "2022-03-10T11:59:28.884Z"
   },
   {
    "duration": 12,
    "start_time": "2022-03-10T11:59:29.325Z"
   },
   {
    "duration": 1002,
    "start_time": "2022-03-10T11:59:29.340Z"
   },
   {
    "duration": 5,
    "start_time": "2022-03-10T11:59:30.345Z"
   },
   {
    "duration": 273,
    "start_time": "2022-03-10T11:59:30.351Z"
   },
   {
    "duration": 4,
    "start_time": "2022-03-10T11:59:30.626Z"
   },
   {
    "duration": 19,
    "start_time": "2022-03-10T11:59:30.633Z"
   },
   {
    "duration": 26,
    "start_time": "2022-03-10T11:59:30.655Z"
   },
   {
    "duration": 22,
    "start_time": "2022-03-10T11:59:30.683Z"
   },
   {
    "duration": 695,
    "start_time": "2022-03-10T11:59:30.707Z"
   },
   {
    "duration": 127,
    "start_time": "2022-03-10T12:04:16.935Z"
   },
   {
    "duration": 4,
    "start_time": "2022-03-10T12:04:32.184Z"
   },
   {
    "duration": 175,
    "start_time": "2022-03-10T12:04:33.502Z"
   },
   {
    "duration": 1660,
    "start_time": "2022-03-10T12:04:52.684Z"
   },
   {
    "duration": 1001,
    "start_time": "2022-03-10T12:04:54.347Z"
   },
   {
    "duration": 687,
    "start_time": "2022-03-10T12:04:55.350Z"
   },
   {
    "duration": 338,
    "start_time": "2022-03-10T12:04:56.040Z"
   },
   {
    "duration": 35,
    "start_time": "2022-03-10T12:04:56.381Z"
   },
   {
    "duration": 9,
    "start_time": "2022-03-10T12:04:56.419Z"
   },
   {
    "duration": 7,
    "start_time": "2022-03-10T12:04:56.430Z"
   },
   {
    "duration": 10,
    "start_time": "2022-03-10T12:04:56.440Z"
   },
   {
    "duration": 72,
    "start_time": "2022-03-10T12:04:56.453Z"
   },
   {
    "duration": 20,
    "start_time": "2022-03-10T12:04:56.527Z"
   },
   {
    "duration": 3,
    "start_time": "2022-03-10T12:04:56.549Z"
   },
   {
    "duration": 11,
    "start_time": "2022-03-10T12:04:56.554Z"
   },
   {
    "duration": 194,
    "start_time": "2022-03-10T12:04:56.567Z"
   },
   {
    "duration": 201,
    "start_time": "2022-03-10T12:04:56.763Z"
   },
   {
    "duration": 183,
    "start_time": "2022-03-10T12:04:56.966Z"
   },
   {
    "duration": 246,
    "start_time": "2022-03-10T12:04:57.151Z"
   },
   {
    "duration": 312,
    "start_time": "2022-03-10T12:04:57.401Z"
   },
   {
    "duration": 8,
    "start_time": "2022-03-10T12:04:57.716Z"
   },
   {
    "duration": 952,
    "start_time": "2022-03-10T12:04:57.726Z"
   },
   {
    "duration": 5,
    "start_time": "2022-03-10T12:04:58.680Z"
   },
   {
    "duration": 261,
    "start_time": "2022-03-10T12:04:58.700Z"
   },
   {
    "duration": 5,
    "start_time": "2022-03-10T12:04:58.963Z"
   },
   {
    "duration": 15,
    "start_time": "2022-03-10T12:04:58.972Z"
   },
   {
    "duration": 8,
    "start_time": "2022-03-10T12:04:59.003Z"
   },
   {
    "duration": 17,
    "start_time": "2022-03-10T12:04:59.013Z"
   },
   {
    "duration": 671,
    "start_time": "2022-03-10T12:04:59.032Z"
   },
   {
    "duration": 4,
    "start_time": "2022-03-10T12:05:34.836Z"
   },
   {
    "duration": 27,
    "start_time": "2022-03-10T12:05:35.683Z"
   },
   {
    "duration": 1298,
    "start_time": "2022-03-10T12:05:45.135Z"
   },
   {
    "duration": 699,
    "start_time": "2022-03-10T12:05:46.436Z"
   },
   {
    "duration": 579,
    "start_time": "2022-03-10T12:05:47.140Z"
   },
   {
    "duration": 238,
    "start_time": "2022-03-10T12:05:47.721Z"
   },
   {
    "duration": 16,
    "start_time": "2022-03-10T12:05:47.962Z"
   },
   {
    "duration": 27,
    "start_time": "2022-03-10T12:05:47.981Z"
   },
   {
    "duration": 5,
    "start_time": "2022-03-10T12:05:48.011Z"
   },
   {
    "duration": 15,
    "start_time": "2022-03-10T12:05:48.019Z"
   },
   {
    "duration": 69,
    "start_time": "2022-03-10T12:05:48.036Z"
   },
   {
    "duration": 21,
    "start_time": "2022-03-10T12:05:48.107Z"
   },
   {
    "duration": 3,
    "start_time": "2022-03-10T12:05:48.130Z"
   },
   {
    "duration": 11,
    "start_time": "2022-03-10T12:05:48.135Z"
   },
   {
    "duration": 198,
    "start_time": "2022-03-10T12:05:48.148Z"
   },
   {
    "duration": 192,
    "start_time": "2022-03-10T12:05:48.348Z"
   },
   {
    "duration": 182,
    "start_time": "2022-03-10T12:05:48.542Z"
   },
   {
    "duration": 254,
    "start_time": "2022-03-10T12:05:48.726Z"
   },
   {
    "duration": 305,
    "start_time": "2022-03-10T12:05:48.982Z"
   },
   {
    "duration": 17,
    "start_time": "2022-03-10T12:05:49.290Z"
   },
   {
    "duration": 925,
    "start_time": "2022-03-10T12:05:49.309Z"
   },
   {
    "duration": 6,
    "start_time": "2022-03-10T12:05:50.236Z"
   },
   {
    "duration": 33,
    "start_time": "2022-03-10T12:05:50.244Z"
   },
   {
    "duration": 21,
    "start_time": "2022-03-10T12:05:50.281Z"
   },
   {
    "duration": 11,
    "start_time": "2022-03-10T12:05:50.304Z"
   },
   {
    "duration": 8,
    "start_time": "2022-03-10T12:05:50.317Z"
   },
   {
    "duration": 15,
    "start_time": "2022-03-10T12:05:50.327Z"
   },
   {
    "duration": 693,
    "start_time": "2022-03-10T12:05:50.344Z"
   },
   {
    "duration": 1665,
    "start_time": "2022-03-10T12:06:38.322Z"
   },
   {
    "duration": 738,
    "start_time": "2022-03-10T12:06:39.990Z"
   },
   {
    "duration": 614,
    "start_time": "2022-03-10T12:06:40.730Z"
   },
   {
    "duration": 255,
    "start_time": "2022-03-10T12:06:41.346Z"
   },
   {
    "duration": 17,
    "start_time": "2022-03-10T12:06:41.603Z"
   },
   {
    "duration": 23,
    "start_time": "2022-03-10T12:06:41.622Z"
   },
   {
    "duration": 25,
    "start_time": "2022-03-10T12:06:41.647Z"
   },
   {
    "duration": 27,
    "start_time": "2022-03-10T12:06:41.675Z"
   },
   {
    "duration": 65,
    "start_time": "2022-03-10T12:06:41.705Z"
   },
   {
    "duration": 29,
    "start_time": "2022-03-10T12:06:41.772Z"
   },
   {
    "duration": 3,
    "start_time": "2022-03-10T12:06:41.803Z"
   },
   {
    "duration": 29,
    "start_time": "2022-03-10T12:06:41.809Z"
   },
   {
    "duration": 200,
    "start_time": "2022-03-10T12:06:41.840Z"
   },
   {
    "duration": 200,
    "start_time": "2022-03-10T12:06:42.042Z"
   },
   {
    "duration": 188,
    "start_time": "2022-03-10T12:06:42.245Z"
   },
   {
    "duration": 248,
    "start_time": "2022-03-10T12:06:42.436Z"
   },
   {
    "duration": 317,
    "start_time": "2022-03-10T12:06:42.686Z"
   },
   {
    "duration": 10,
    "start_time": "2022-03-10T12:06:43.006Z"
   },
   {
    "duration": 977,
    "start_time": "2022-03-10T12:06:43.018Z"
   },
   {
    "duration": 5,
    "start_time": "2022-03-10T12:06:44.002Z"
   },
   {
    "duration": 49,
    "start_time": "2022-03-10T12:06:44.008Z"
   },
   {
    "duration": 9,
    "start_time": "2022-03-10T12:06:44.059Z"
   },
   {
    "duration": 27,
    "start_time": "2022-03-10T12:06:44.071Z"
   },
   {
    "duration": 24,
    "start_time": "2022-03-10T12:06:44.100Z"
   },
   {
    "duration": 1155,
    "start_time": "2022-03-10T12:06:44.126Z"
   },
   {
    "duration": 45,
    "start_time": "2022-03-10T12:07:34.185Z"
   },
   {
    "duration": 8,
    "start_time": "2022-03-10T12:07:39.738Z"
   },
   {
    "duration": 5,
    "start_time": "2022-03-10T12:07:46.641Z"
   },
   {
    "duration": 6,
    "start_time": "2022-03-10T12:08:03.250Z"
   },
   {
    "duration": 6,
    "start_time": "2022-03-10T12:08:42.458Z"
   },
   {
    "duration": 542,
    "start_time": "2022-03-10T12:08:43.747Z"
   },
   {
    "duration": 6,
    "start_time": "2022-03-10T12:16:08.658Z"
   },
   {
    "duration": 552,
    "start_time": "2022-03-10T12:16:09.817Z"
   },
   {
    "duration": 7,
    "start_time": "2022-03-10T12:16:29.010Z"
   },
   {
    "duration": 681,
    "start_time": "2022-03-10T12:16:29.977Z"
   },
   {
    "duration": 6,
    "start_time": "2022-03-10T12:16:55.489Z"
   },
   {
    "duration": 7,
    "start_time": "2022-03-10T12:17:50.370Z"
   },
   {
    "duration": 6,
    "start_time": "2022-03-10T12:17:57.506Z"
   },
   {
    "duration": 583,
    "start_time": "2022-03-10T12:18:02.153Z"
   },
   {
    "duration": 14,
    "start_time": "2022-03-10T12:19:02.057Z"
   },
   {
    "duration": 6,
    "start_time": "2022-03-10T12:19:04.273Z"
   },
   {
    "duration": 611,
    "start_time": "2022-03-10T12:19:06.073Z"
   },
   {
    "duration": 57,
    "start_time": "2022-03-10T12:19:24.736Z"
   },
   {
    "duration": 14,
    "start_time": "2022-03-10T12:19:37.897Z"
   },
   {
    "duration": 12,
    "start_time": "2022-03-10T12:19:48.928Z"
   },
   {
    "duration": 11,
    "start_time": "2022-03-10T12:19:53.120Z"
   },
   {
    "duration": 12,
    "start_time": "2022-03-10T12:20:42.504Z"
   },
   {
    "duration": 6,
    "start_time": "2022-03-10T12:20:43.537Z"
   },
   {
    "duration": 618,
    "start_time": "2022-03-10T12:20:48.201Z"
   },
   {
    "duration": 7,
    "start_time": "2022-03-10T12:21:44.097Z"
   },
   {
    "duration": 7,
    "start_time": "2022-03-10T12:21:46.681Z"
   },
   {
    "duration": 543,
    "start_time": "2022-03-10T12:21:48.104Z"
   },
   {
    "duration": 7,
    "start_time": "2022-03-10T12:22:49.305Z"
   },
   {
    "duration": 7,
    "start_time": "2022-03-10T12:23:28.680Z"
   },
   {
    "duration": 948,
    "start_time": "2022-03-10T12:23:31.080Z"
   },
   {
    "duration": 7,
    "start_time": "2022-03-10T12:23:57.921Z"
   },
   {
    "duration": 686,
    "start_time": "2022-03-10T12:24:00.209Z"
   },
   {
    "duration": 16,
    "start_time": "2022-03-10T12:24:21.792Z"
   },
   {
    "duration": 8,
    "start_time": "2022-03-10T12:24:23.416Z"
   },
   {
    "duration": 3998,
    "start_time": "2022-03-10T12:24:25.425Z"
   },
   {
    "duration": 6,
    "start_time": "2022-03-10T12:24:38.281Z"
   },
   {
    "duration": 3401,
    "start_time": "2022-03-10T12:24:39.407Z"
   },
   {
    "duration": 1369,
    "start_time": "2022-03-10T12:25:04.657Z"
   },
   {
    "duration": 716,
    "start_time": "2022-03-10T12:25:06.028Z"
   },
   {
    "duration": 594,
    "start_time": "2022-03-10T12:25:06.747Z"
   },
   {
    "duration": 258,
    "start_time": "2022-03-10T12:25:07.343Z"
   },
   {
    "duration": 20,
    "start_time": "2022-03-10T12:25:07.603Z"
   },
   {
    "duration": 15,
    "start_time": "2022-03-10T12:25:07.625Z"
   },
   {
    "duration": 8,
    "start_time": "2022-03-10T12:25:07.642Z"
   },
   {
    "duration": 13,
    "start_time": "2022-03-10T12:25:07.653Z"
   },
   {
    "duration": 76,
    "start_time": "2022-03-10T12:25:07.668Z"
   },
   {
    "duration": 16,
    "start_time": "2022-03-10T12:25:07.746Z"
   },
   {
    "duration": 3,
    "start_time": "2022-03-10T12:25:07.764Z"
   },
   {
    "duration": 11,
    "start_time": "2022-03-10T12:25:07.769Z"
   },
   {
    "duration": 200,
    "start_time": "2022-03-10T12:25:07.782Z"
   },
   {
    "duration": 189,
    "start_time": "2022-03-10T12:25:07.984Z"
   },
   {
    "duration": 188,
    "start_time": "2022-03-10T12:25:08.176Z"
   },
   {
    "duration": 252,
    "start_time": "2022-03-10T12:25:08.366Z"
   },
   {
    "duration": 306,
    "start_time": "2022-03-10T12:25:08.621Z"
   },
   {
    "duration": 8,
    "start_time": "2022-03-10T12:25:08.930Z"
   },
   {
    "duration": 961,
    "start_time": "2022-03-10T12:25:08.940Z"
   },
   {
    "duration": 5,
    "start_time": "2022-03-10T12:25:09.903Z"
   },
   {
    "duration": 34,
    "start_time": "2022-03-10T12:25:09.911Z"
   },
   {
    "duration": 4,
    "start_time": "2022-03-10T12:25:09.947Z"
   },
   {
    "duration": 18,
    "start_time": "2022-03-10T12:25:09.954Z"
   },
   {
    "duration": 27,
    "start_time": "2022-03-10T12:25:09.974Z"
   },
   {
    "duration": 3785,
    "start_time": "2022-03-10T12:25:10.003Z"
   },
   {
    "duration": 7,
    "start_time": "2022-03-10T12:25:55.489Z"
   },
   {
    "duration": 3872,
    "start_time": "2022-03-10T12:25:58.047Z"
   },
   {
    "duration": 6,
    "start_time": "2022-03-10T12:27:23.303Z"
   },
   {
    "duration": 3865,
    "start_time": "2022-03-10T12:27:24.095Z"
   },
   {
    "duration": 8,
    "start_time": "2022-03-10T12:33:02.830Z"
   },
   {
    "duration": 4970,
    "start_time": "2022-03-10T12:33:03.702Z"
   },
   {
    "duration": 7,
    "start_time": "2022-03-10T12:34:41.422Z"
   },
   {
    "duration": 4055,
    "start_time": "2022-03-10T12:34:42.310Z"
   },
   {
    "duration": 7,
    "start_time": "2022-03-10T12:36:20.046Z"
   },
   {
    "duration": 3625,
    "start_time": "2022-03-10T12:36:21.829Z"
   },
   {
    "duration": 7,
    "start_time": "2022-03-10T12:38:03.270Z"
   },
   {
    "duration": 2723,
    "start_time": "2022-03-10T12:38:04.390Z"
   },
   {
    "duration": 10,
    "start_time": "2022-03-10T12:38:29.798Z"
   },
   {
    "duration": 3619,
    "start_time": "2022-03-10T12:38:31.094Z"
   },
   {
    "duration": 10739,
    "start_time": "2022-03-10T12:38:53.038Z"
   },
   {
    "duration": 9,
    "start_time": "2022-03-10T12:39:29.438Z"
   },
   {
    "duration": 10064,
    "start_time": "2022-03-10T12:39:30.605Z"
   },
   {
    "duration": 9797,
    "start_time": "2022-03-10T12:52:26.796Z"
   },
   {
    "duration": 10325,
    "start_time": "2022-03-10T12:52:51.083Z"
   },
   {
    "duration": 31459,
    "start_time": "2022-03-10T12:55:59.971Z"
   },
   {
    "duration": 29539,
    "start_time": "2022-03-10T12:57:39.771Z"
   },
   {
    "duration": 30346,
    "start_time": "2022-03-10T12:58:18.930Z"
   },
   {
    "duration": 243,
    "start_time": "2022-03-10T12:58:54.651Z"
   },
   {
    "duration": 29332,
    "start_time": "2022-03-10T12:58:59.490Z"
   },
   {
    "duration": 29850,
    "start_time": "2022-03-10T12:59:30.115Z"
   },
   {
    "duration": 30055,
    "start_time": "2022-03-10T13:00:19.570Z"
   },
   {
    "duration": 11016,
    "start_time": "2022-03-10T13:03:47.091Z"
   },
   {
    "duration": 5,
    "start_time": "2022-03-10T13:07:32.385Z"
   },
   {
    "duration": 103,
    "start_time": "2022-03-10T13:07:44.090Z"
   },
   {
    "duration": 5,
    "start_time": "2022-03-10T13:07:47.192Z"
   },
   {
    "duration": 4,
    "start_time": "2022-03-10T13:08:05.674Z"
   },
   {
    "duration": 50884,
    "start_time": "2022-03-10T13:11:14.920Z"
   },
   {
    "duration": 105470,
    "start_time": "2022-03-10T13:13:04.512Z"
   },
   {
    "duration": 113,
    "start_time": "2022-03-10T13:16:45.691Z"
   },
   {
    "duration": 9951,
    "start_time": "2022-03-10T13:16:56.583Z"
   },
   {
    "duration": 173,
    "start_time": "2022-03-10T13:22:48.879Z"
   },
   {
    "duration": 517,
    "start_time": "2022-03-10T13:22:53.822Z"
   },
   {
    "duration": 344,
    "start_time": "2022-03-10T13:27:03.487Z"
   },
   {
    "duration": 140,
    "start_time": "2022-03-10T13:29:37.357Z"
   },
   {
    "duration": 264,
    "start_time": "2022-03-10T13:29:42.774Z"
   },
   {
    "duration": 301,
    "start_time": "2022-03-10T13:29:55.854Z"
   },
   {
    "duration": 85,
    "start_time": "2022-03-10T13:30:18.548Z"
   },
   {
    "duration": 83,
    "start_time": "2022-03-10T13:30:41.958Z"
   },
   {
    "duration": 4,
    "start_time": "2022-03-10T13:30:47.309Z"
   },
   {
    "duration": 21,
    "start_time": "2022-03-10T13:30:51.677Z"
   },
   {
    "duration": 246,
    "start_time": "2022-03-10T13:31:06.678Z"
   },
   {
    "duration": 257,
    "start_time": "2022-03-10T13:31:18.758Z"
   },
   {
    "duration": 27,
    "start_time": "2022-03-10T13:32:18.758Z"
   },
   {
    "duration": 88,
    "start_time": "2022-03-10T13:32:27.765Z"
   },
   {
    "duration": 16,
    "start_time": "2022-03-10T13:32:49.382Z"
   },
   {
    "duration": 7,
    "start_time": "2022-03-10T13:32:51.375Z"
   },
   {
    "duration": 27,
    "start_time": "2022-03-10T13:33:47.037Z"
   },
   {
    "duration": 1477,
    "start_time": "2022-03-10T13:36:26.830Z"
   },
   {
    "duration": 284,
    "start_time": "2022-03-10T13:37:15.405Z"
   },
   {
    "duration": 45,
    "start_time": "2022-03-10T13:37:53.157Z"
   },
   {
    "duration": 8,
    "start_time": "2022-03-10T13:38:25.269Z"
   },
   {
    "duration": 2,
    "start_time": "2022-03-10T13:41:35.757Z"
   },
   {
    "duration": 1246,
    "start_time": "2022-03-11T07:39:36.058Z"
   },
   {
    "duration": 671,
    "start_time": "2022-03-11T07:39:37.306Z"
   },
   {
    "duration": 577,
    "start_time": "2022-03-11T07:39:37.979Z"
   },
   {
    "duration": 240,
    "start_time": "2022-03-11T07:39:38.558Z"
   },
   {
    "duration": 15,
    "start_time": "2022-03-11T07:39:38.800Z"
   },
   {
    "duration": 6,
    "start_time": "2022-03-11T07:39:41.058Z"
   },
   {
    "duration": 5,
    "start_time": "2022-03-11T07:39:41.596Z"
   },
   {
    "duration": 6,
    "start_time": "2022-03-11T07:39:44.385Z"
   },
   {
    "duration": 54,
    "start_time": "2022-03-11T07:39:59.836Z"
   },
   {
    "duration": 15,
    "start_time": "2022-03-11T07:40:05.429Z"
   },
   {
    "duration": 4,
    "start_time": "2022-03-11T07:53:33.414Z"
   },
   {
    "duration": 11,
    "start_time": "2022-03-11T07:53:35.392Z"
   },
   {
    "duration": 4,
    "start_time": "2022-03-11T07:53:47.296Z"
   },
   {
    "duration": 27,
    "start_time": "2022-03-11T07:53:48.933Z"
   },
   {
    "duration": 4,
    "start_time": "2022-03-11T07:53:54.425Z"
   },
   {
    "duration": 11,
    "start_time": "2022-03-11T07:53:55.591Z"
   },
   {
    "duration": 6,
    "start_time": "2022-03-11T07:54:02.308Z"
   },
   {
    "duration": 212832,
    "start_time": "2022-03-11T07:54:09.178Z"
   },
   {
    "duration": 1535,
    "start_time": "2022-03-11T07:58:15.481Z"
   },
   {
    "duration": 22,
    "start_time": "2022-03-11T07:58:18.495Z"
   },
   {
    "duration": 6,
    "start_time": "2022-03-11T07:58:19.393Z"
   },
   {
    "duration": 1501,
    "start_time": "2022-03-12T19:23:09.348Z"
   },
   {
    "duration": 885,
    "start_time": "2022-03-12T19:23:10.852Z"
   },
   {
    "duration": 766,
    "start_time": "2022-03-12T19:23:11.741Z"
   },
   {
    "duration": 343,
    "start_time": "2022-03-12T19:23:12.510Z"
   },
   {
    "duration": 32,
    "start_time": "2022-03-12T19:23:12.855Z"
   },
   {
    "duration": 11,
    "start_time": "2022-03-12T19:23:12.889Z"
   },
   {
    "duration": 6,
    "start_time": "2022-03-12T19:23:12.903Z"
   },
   {
    "duration": 12,
    "start_time": "2022-03-12T19:23:12.913Z"
   },
   {
    "duration": 114,
    "start_time": "2022-03-12T19:23:12.928Z"
   },
   {
    "duration": 18,
    "start_time": "2022-03-12T19:23:13.044Z"
   },
   {
    "duration": 23,
    "start_time": "2022-03-12T19:23:13.065Z"
   },
   {
    "duration": 12,
    "start_time": "2022-03-12T19:23:13.090Z"
   },
   {
    "duration": 290,
    "start_time": "2022-03-12T19:23:13.105Z"
   },
   {
    "duration": 298,
    "start_time": "2022-03-12T19:23:13.397Z"
   },
   {
    "duration": 301,
    "start_time": "2022-03-12T19:23:13.698Z"
   },
   {
    "duration": 413,
    "start_time": "2022-03-12T19:23:14.001Z"
   },
   {
    "duration": 466,
    "start_time": "2022-03-12T19:23:14.417Z"
   },
   {
    "duration": 11,
    "start_time": "2022-03-12T19:23:14.885Z"
   },
   {
    "duration": 1552,
    "start_time": "2022-03-12T19:23:14.899Z"
   },
   {
    "duration": 6,
    "start_time": "2022-03-12T19:23:16.454Z"
   },
   {
    "duration": 58,
    "start_time": "2022-03-12T19:23:16.462Z"
   },
   {
    "duration": 5,
    "start_time": "2022-03-12T19:23:16.523Z"
   },
   {
    "duration": 34,
    "start_time": "2022-03-12T19:23:16.532Z"
   },
   {
    "duration": 10,
    "start_time": "2022-03-12T19:23:16.569Z"
   },
   {
    "duration": 253210,
    "start_time": "2022-03-12T19:23:16.581Z"
   },
   {
    "duration": 2006,
    "start_time": "2022-03-12T19:27:29.794Z"
   },
   {
    "duration": 42,
    "start_time": "2022-03-12T19:27:31.803Z"
   },
   {
    "duration": 9,
    "start_time": "2022-03-12T19:27:31.847Z"
   },
   {
    "duration": 36,
    "start_time": "2022-03-12T19:27:31.859Z"
   },
   {
    "duration": 99,
    "start_time": "2022-03-12T19:27:31.899Z"
   },
   {
    "duration": 93,
    "start_time": "2022-03-12T19:28:46.516Z"
   },
   {
    "duration": 83,
    "start_time": "2022-03-12T19:33:43.535Z"
   },
   {
    "duration": 407,
    "start_time": "2022-03-12T19:33:48.596Z"
   },
   {
    "duration": 5,
    "start_time": "2022-03-12T19:34:33.249Z"
   },
   {
    "duration": 243,
    "start_time": "2022-03-12T19:34:39.791Z"
   },
   {
    "duration": 11,
    "start_time": "2022-03-12T19:34:55.731Z"
   },
   {
    "duration": 10,
    "start_time": "2022-03-12T19:35:44.914Z"
   },
   {
    "duration": 5,
    "start_time": "2022-03-12T19:36:02.872Z"
   },
   {
    "duration": 6,
    "start_time": "2022-03-12T19:36:30.238Z"
   },
   {
    "duration": 7,
    "start_time": "2022-03-12T19:38:22.013Z"
   },
   {
    "duration": 6,
    "start_time": "2022-03-12T19:38:34.220Z"
   },
   {
    "duration": 8,
    "start_time": "2022-03-12T19:39:01.988Z"
   },
   {
    "duration": 14,
    "start_time": "2022-03-12T19:41:03.975Z"
   },
   {
    "duration": 8988,
    "start_time": "2022-03-12T19:45:56.864Z"
   },
   {
    "duration": 33,
    "start_time": "2022-03-12T19:46:12.906Z"
   },
   {
    "duration": 10,
    "start_time": "2022-03-12T19:46:12.942Z"
   },
   {
    "duration": 136,
    "start_time": "2022-03-12T19:46:12.955Z"
   },
   {
    "duration": 100,
    "start_time": "2022-03-12T19:46:13.096Z"
   },
   {
    "duration": 11,
    "start_time": "2022-03-12T19:46:13.199Z"
   },
   {
    "duration": 13,
    "start_time": "2022-03-12T19:46:13.212Z"
   },
   {
    "duration": 17069,
    "start_time": "2022-03-12T19:46:13.228Z"
   },
   {
    "duration": 139611,
    "start_time": "2022-03-12T19:51:45.172Z"
   },
   {
    "duration": 11,
    "start_time": "2022-03-12T19:55:02.855Z"
   },
   {
    "duration": 468969,
    "start_time": "2022-03-12T19:55:19.864Z"
   },
   {
    "duration": 10066,
    "start_time": "2022-03-12T20:04:09.073Z"
   },
   {
    "duration": 35,
    "start_time": "2022-03-12T20:04:19.141Z"
   },
   {
    "duration": 8,
    "start_time": "2022-03-12T20:04:19.188Z"
   },
   {
    "duration": 21,
    "start_time": "2022-03-12T20:04:22.618Z"
   },
   {
    "duration": 9,
    "start_time": "2022-03-12T20:04:23.506Z"
   },
   {
    "duration": 10280,
    "start_time": "2022-03-12T20:04:37.307Z"
   },
   {
    "duration": 23,
    "start_time": "2022-03-12T20:04:47.590Z"
   },
   {
    "duration": 9,
    "start_time": "2022-03-12T20:04:48.815Z"
   },
   {
    "duration": 8986,
    "start_time": "2022-03-12T20:04:56.073Z"
   },
   {
    "duration": 192,
    "start_time": "2022-03-12T20:05:15.898Z"
   },
   {
    "duration": 10,
    "start_time": "2022-03-12T20:05:17.368Z"
   },
   {
    "duration": -35,
    "start_time": "2022-03-12T20:06:55.483Z"
   },
   {
    "duration": 680759,
    "start_time": "2022-03-12T20:06:58.628Z"
   },
   {
    "duration": 1688439,
    "start_time": "2022-03-12T20:20:25.460Z"
   },
   {
    "duration": 1582177,
    "start_time": "2022-03-12T20:51:38.233Z"
   },
   {
    "duration": 28283,
    "start_time": "2022-03-12T21:21:43.741Z"
   },
   {
    "duration": 39,
    "start_time": "2022-03-12T21:24:24.874Z"
   },
   {
    "duration": 508061,
    "start_time": "2022-03-12T21:27:31.042Z"
   },
   {
    "duration": 28427,
    "start_time": "2022-03-12T21:37:16.355Z"
   }
  ],
  "kernelspec": {
   "display_name": "Python 3 (ipykernel)",
   "language": "python",
   "name": "python3"
  },
  "language_info": {
   "codemirror_mode": {
    "name": "ipython",
    "version": 3
   },
   "file_extension": ".py",
   "mimetype": "text/x-python",
   "name": "python",
   "nbconvert_exporter": "python",
   "pygments_lexer": "ipython3",
   "version": "3.10.4"
  },
  "toc": {
   "base_numbering": 1,
   "nav_menu": {},
   "number_sections": true,
   "sideBar": true,
   "skip_h1_title": true,
   "title_cell": "Содержание",
   "title_sidebar": "Contents",
   "toc_cell": true,
   "toc_position": {
    "height": "1103px",
    "left": "56px",
    "top": "111.12px",
    "width": "356.594px"
   },
   "toc_section_display": true,
   "toc_window_display": true
  }
 },
 "nbformat": 4,
 "nbformat_minor": 2
}
