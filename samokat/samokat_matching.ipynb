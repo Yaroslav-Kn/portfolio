{
 "cells": [
  {
   "cell_type": "markdown",
   "id": "0658ca04",
   "metadata": {},
   "source": [
    "# Воркшоп от компании Samokat.tech (Векторный поиск в задаче матчинга)"
   ]
  },
  {
   "cell_type": "markdown",
   "id": "420646b7",
   "metadata": {},
   "source": [
    "## Описание проекта"
   ]
  },
  {
   "cell_type": "markdown",
   "id": "1b9100af",
   "metadata": {},
   "source": [
    "Одной из задач машинного обучения является сопостоваление товаров друг с другом (задача матчинга). В контексте предложенной задачи в рамках воркшопа от компании Samokat.tech необходимо было по запросу, найти в базе продукт наиболее соответствующий требованиям и предложить релевантный результат из 10 объектов."
   ]
  },
  {
   "cell_type": "markdown",
   "id": "b44e30a9",
   "metadata": {},
   "source": [
    "### Задачи"
   ]
  },
  {
   "cell_type": "markdown",
   "id": "fd0a45c4",
   "metadata": {},
   "source": [
    "* Провести анализ данных.\n",
    "* Подготовить решение.\n",
    "* Принять участие в соревнованиях на [платформе Kaggle](https://www.kaggle.com/competitions/samokattechworkshop/overview)"
   ]
  },
  {
   "cell_type": "markdown",
   "id": "59246691",
   "metadata": {},
   "source": [
    "### Предложенное решение"
   ]
  },
  {
   "cell_type": "markdown",
   "id": "77a76cc7",
   "metadata": {},
   "source": [
    "* В ходе анализа данных было установлено, что признаки имеют разное распределение, как по среднему так и по дисперсии. При этом есть признаки, которые имеют не нормальное распределение и значительный разброс значений. Учитывая, что в основной части планировалось использовать алгоритмы, работающие на расстояниях между образцами, то было принято решение использовать для масштабирования RobustScaler.\n",
    "\n",
    "* В качестве модели предложено использовать Faiss. Это достаточно мощный и быстрый инструмент, который позволяет находить ближайшие образцы. Были проанализированы оптимальные параметры для Faiss, также методом перебора были отсеяны шумные признаки, которые ухудшали качество модели. В результате метрика стала ровна 0.7507, что поволило занять 4 место на соревновании."
   ]
  },
  {
   "cell_type": "markdown",
   "id": "d112d985",
   "metadata": {},
   "source": [
    "## EDA"
   ]
  },
  {
   "cell_type": "markdown",
   "id": "56d33759",
   "metadata": {},
   "source": [
    "Импортируем нужные зависимости и пропишем пути к файлам."
   ]
  },
  {
   "cell_type": "code",
   "execution_count": 1,
   "id": "2448a7c4",
   "metadata": {},
   "outputs": [],
   "source": [
    "import pandas as pd\n",
    "import matplotlib.pyplot as plt\n",
    "import numpy as np\n",
    "from sklearn.preprocessing import RobustScaler\n",
    "import pickle\n",
    "from statistics import mean\n",
    "import matplotlib.pyplot as plt\n",
    "from tqdm import tqdm\n",
    "from sklearn.neighbors import NearestNeighbors\n",
    "import faiss"
   ]
  },
  {
   "cell_type": "code",
   "execution_count": 2,
   "id": "6fa77480",
   "metadata": {},
   "outputs": [],
   "source": [
    "PATH_RAW_BASE = '../data/raw/base.csv' # Путь к оригинальному base датасету\n",
    "PATH_RAW_TRAIN = '../data/raw/train.csv' # Путь к оригинальному train датасету\n",
    "PATH_RAW_TEST = '../data/raw/test.csv' # Путь к оригинальному test датасету\n",
    "\n",
    "PATH_PROC_BASE = '../data/processed/processed_base.csv' # Путь к обработанному base датасету\n",
    "PATH_ID_BASE = '../data/processed/id_base.csv' # Путь к датасету Id base\n",
    "PATH_PROC_TRAIN = '../data/processed/processed_train.csv' # Путь к обработанному train датасету\n",
    "PATH_TARGET_TRAIN = '../data/processed/id_target_train.csv' # Путь к таргету train\n",
    "PATH_PROC_TEST = '../data/processed/processed_test.csv' # Путь к обработанному test датасету\n",
    "PATH_ID_TEST = '../data/processed/id_test.csv' # Путь к датасету Id test\n",
    "\n",
    "PATH_SAVE_PREDICT = '../data/prediction/scaler_faiss.csv' # Путь к сохранению предсказания\n",
    "\n",
    "PATH_SCALER = '../models/scaler.pkl' # Путь к scaler\n",
    "PATH_MODEL = '../models/model.pkl' # Путь к финальной модели"
   ]
  },
  {
   "cell_type": "code",
   "execution_count": 3,
   "id": "e33dd867",
   "metadata": {},
   "outputs": [],
   "source": [
    "RANDOM_STATE = 134"
   ]
  },
  {
   "cell_type": "markdown",
   "id": "dda1adf3",
   "metadata": {},
   "source": [
    "### Базовый датасет"
   ]
  },
  {
   "cell_type": "markdown",
   "id": "914d94b9",
   "metadata": {},
   "source": [
    "Откроем файл с базой и изучим его"
   ]
  },
  {
   "cell_type": "code",
   "execution_count": 4,
   "id": "efb69cba",
   "metadata": {},
   "outputs": [
    {
     "data": {
      "text/html": [
       "<div>\n",
       "<style scoped>\n",
       "    .dataframe tbody tr th:only-of-type {\n",
       "        vertical-align: middle;\n",
       "    }\n",
       "\n",
       "    .dataframe tbody tr th {\n",
       "        vertical-align: top;\n",
       "    }\n",
       "\n",
       "    .dataframe thead th {\n",
       "        text-align: right;\n",
       "    }\n",
       "</style>\n",
       "<table border=\"1\" class=\"dataframe\">\n",
       "  <thead>\n",
       "    <tr style=\"text-align: right;\">\n",
       "      <th></th>\n",
       "      <th>Id</th>\n",
       "      <th>0</th>\n",
       "      <th>1</th>\n",
       "      <th>2</th>\n",
       "      <th>3</th>\n",
       "      <th>4</th>\n",
       "      <th>5</th>\n",
       "      <th>6</th>\n",
       "      <th>7</th>\n",
       "      <th>8</th>\n",
       "      <th>...</th>\n",
       "      <th>62</th>\n",
       "      <th>63</th>\n",
       "      <th>64</th>\n",
       "      <th>65</th>\n",
       "      <th>66</th>\n",
       "      <th>67</th>\n",
       "      <th>68</th>\n",
       "      <th>69</th>\n",
       "      <th>70</th>\n",
       "      <th>71</th>\n",
       "    </tr>\n",
       "  </thead>\n",
       "  <tbody>\n",
       "    <tr>\n",
       "      <th>0</th>\n",
       "      <td>0-base</td>\n",
       "      <td>-115.083890</td>\n",
       "      <td>11.152912</td>\n",
       "      <td>-64.426760</td>\n",
       "      <td>-118.88089</td>\n",
       "      <td>216.482440</td>\n",
       "      <td>-104.698060</td>\n",
       "      <td>-469.070588</td>\n",
       "      <td>44.348083</td>\n",
       "      <td>120.915344</td>\n",
       "      <td>...</td>\n",
       "      <td>-42.808693</td>\n",
       "      <td>38.800827</td>\n",
       "      <td>-151.76218</td>\n",
       "      <td>-74.389090</td>\n",
       "      <td>63.66634</td>\n",
       "      <td>-4.703861</td>\n",
       "      <td>92.933610</td>\n",
       "      <td>115.269190</td>\n",
       "      <td>-112.756640</td>\n",
       "      <td>-60.830353</td>\n",
       "    </tr>\n",
       "    <tr>\n",
       "      <th>1</th>\n",
       "      <td>1-base</td>\n",
       "      <td>-34.562202</td>\n",
       "      <td>13.332763</td>\n",
       "      <td>-69.787610</td>\n",
       "      <td>-166.53348</td>\n",
       "      <td>57.680607</td>\n",
       "      <td>-86.098370</td>\n",
       "      <td>-85.076666</td>\n",
       "      <td>-35.637436</td>\n",
       "      <td>119.718636</td>\n",
       "      <td>...</td>\n",
       "      <td>-117.767525</td>\n",
       "      <td>41.100000</td>\n",
       "      <td>-157.82940</td>\n",
       "      <td>-94.446806</td>\n",
       "      <td>68.20211</td>\n",
       "      <td>24.346846</td>\n",
       "      <td>179.937930</td>\n",
       "      <td>116.834000</td>\n",
       "      <td>-84.888941</td>\n",
       "      <td>-59.524610</td>\n",
       "    </tr>\n",
       "    <tr>\n",
       "      <th>2</th>\n",
       "      <td>2-base</td>\n",
       "      <td>-54.233746</td>\n",
       "      <td>6.379371</td>\n",
       "      <td>-29.210136</td>\n",
       "      <td>-133.41383</td>\n",
       "      <td>150.895830</td>\n",
       "      <td>-99.435326</td>\n",
       "      <td>52.554795</td>\n",
       "      <td>62.381706</td>\n",
       "      <td>128.951450</td>\n",
       "      <td>...</td>\n",
       "      <td>-76.397800</td>\n",
       "      <td>46.011803</td>\n",
       "      <td>-207.14442</td>\n",
       "      <td>127.325570</td>\n",
       "      <td>65.56618</td>\n",
       "      <td>66.325680</td>\n",
       "      <td>81.073490</td>\n",
       "      <td>116.594154</td>\n",
       "      <td>-1074.464888</td>\n",
       "      <td>-32.527206</td>\n",
       "    </tr>\n",
       "    <tr>\n",
       "      <th>3</th>\n",
       "      <td>3-base</td>\n",
       "      <td>-87.520130</td>\n",
       "      <td>4.037884</td>\n",
       "      <td>-87.803030</td>\n",
       "      <td>-185.06763</td>\n",
       "      <td>76.369540</td>\n",
       "      <td>-58.985165</td>\n",
       "      <td>-383.182845</td>\n",
       "      <td>-33.611237</td>\n",
       "      <td>122.031910</td>\n",
       "      <td>...</td>\n",
       "      <td>-70.647940</td>\n",
       "      <td>-6.358921</td>\n",
       "      <td>-147.20105</td>\n",
       "      <td>-37.692750</td>\n",
       "      <td>66.20289</td>\n",
       "      <td>-20.566910</td>\n",
       "      <td>137.206940</td>\n",
       "      <td>117.474100</td>\n",
       "      <td>-1074.464888</td>\n",
       "      <td>-72.915490</td>\n",
       "    </tr>\n",
       "    <tr>\n",
       "      <th>4</th>\n",
       "      <td>4-base</td>\n",
       "      <td>-72.743850</td>\n",
       "      <td>6.522049</td>\n",
       "      <td>43.671265</td>\n",
       "      <td>-140.60803</td>\n",
       "      <td>5.820023</td>\n",
       "      <td>-112.074080</td>\n",
       "      <td>-397.711282</td>\n",
       "      <td>45.182500</td>\n",
       "      <td>122.167180</td>\n",
       "      <td>...</td>\n",
       "      <td>-57.199104</td>\n",
       "      <td>56.642403</td>\n",
       "      <td>-159.35184</td>\n",
       "      <td>85.944724</td>\n",
       "      <td>66.76632</td>\n",
       "      <td>-2.505783</td>\n",
       "      <td>65.315285</td>\n",
       "      <td>135.051590</td>\n",
       "      <td>-1074.464888</td>\n",
       "      <td>0.319401</td>\n",
       "    </tr>\n",
       "  </tbody>\n",
       "</table>\n",
       "<p>5 rows × 73 columns</p>\n",
       "</div>"
      ],
      "text/plain": [
       "       Id           0          1          2          3           4   \n",
       "0  0-base -115.083890  11.152912 -64.426760 -118.88089  216.482440  \\\n",
       "1  1-base  -34.562202  13.332763 -69.787610 -166.53348   57.680607   \n",
       "2  2-base  -54.233746   6.379371 -29.210136 -133.41383  150.895830   \n",
       "3  3-base  -87.520130   4.037884 -87.803030 -185.06763   76.369540   \n",
       "4  4-base  -72.743850   6.522049  43.671265 -140.60803    5.820023   \n",
       "\n",
       "            5           6          7           8  ...          62         63   \n",
       "0 -104.698060 -469.070588  44.348083  120.915344  ...  -42.808693  38.800827  \\\n",
       "1  -86.098370  -85.076666 -35.637436  119.718636  ... -117.767525  41.100000   \n",
       "2  -99.435326   52.554795  62.381706  128.951450  ...  -76.397800  46.011803   \n",
       "3  -58.985165 -383.182845 -33.611237  122.031910  ...  -70.647940  -6.358921   \n",
       "4 -112.074080 -397.711282  45.182500  122.167180  ...  -57.199104  56.642403   \n",
       "\n",
       "          64          65        66         67          68          69   \n",
       "0 -151.76218  -74.389090  63.66634  -4.703861   92.933610  115.269190  \\\n",
       "1 -157.82940  -94.446806  68.20211  24.346846  179.937930  116.834000   \n",
       "2 -207.14442  127.325570  65.56618  66.325680   81.073490  116.594154   \n",
       "3 -147.20105  -37.692750  66.20289 -20.566910  137.206940  117.474100   \n",
       "4 -159.35184   85.944724  66.76632  -2.505783   65.315285  135.051590   \n",
       "\n",
       "            70         71  \n",
       "0  -112.756640 -60.830353  \n",
       "1   -84.888941 -59.524610  \n",
       "2 -1074.464888 -32.527206  \n",
       "3 -1074.464888 -72.915490  \n",
       "4 -1074.464888   0.319401  \n",
       "\n",
       "[5 rows x 73 columns]"
      ]
     },
     "execution_count": 4,
     "metadata": {},
     "output_type": "execute_result"
    }
   ],
   "source": [
    "df_base = pd.read_csv(PATH_RAW_BASE)\n",
    "df_base.head()"
   ]
  },
  {
   "cell_type": "code",
   "execution_count": 5,
   "id": "8ece9814",
   "metadata": {},
   "outputs": [
    {
     "name": "stdout",
     "output_type": "stream",
     "text": [
      "<class 'pandas.core.frame.DataFrame'>\n",
      "RangeIndex: 2918139 entries, 0 to 2918138\n",
      "Data columns (total 73 columns):\n",
      " #   Column  Dtype  \n",
      "---  ------  -----  \n",
      " 0   Id      object \n",
      " 1   0       float64\n",
      " 2   1       float64\n",
      " 3   2       float64\n",
      " 4   3       float64\n",
      " 5   4       float64\n",
      " 6   5       float64\n",
      " 7   6       float64\n",
      " 8   7       float64\n",
      " 9   8       float64\n",
      " 10  9       float64\n",
      " 11  10      float64\n",
      " 12  11      float64\n",
      " 13  12      float64\n",
      " 14  13      float64\n",
      " 15  14      float64\n",
      " 16  15      float64\n",
      " 17  16      float64\n",
      " 18  17      float64\n",
      " 19  18      float64\n",
      " 20  19      float64\n",
      " 21  20      float64\n",
      " 22  21      float64\n",
      " 23  22      float64\n",
      " 24  23      float64\n",
      " 25  24      float64\n",
      " 26  25      float64\n",
      " 27  26      float64\n",
      " 28  27      float64\n",
      " 29  28      float64\n",
      " 30  29      float64\n",
      " 31  30      float64\n",
      " 32  31      float64\n",
      " 33  32      float64\n",
      " 34  33      float64\n",
      " 35  34      float64\n",
      " 36  35      float64\n",
      " 37  36      float64\n",
      " 38  37      float64\n",
      " 39  38      float64\n",
      " 40  39      float64\n",
      " 41  40      float64\n",
      " 42  41      float64\n",
      " 43  42      float64\n",
      " 44  43      float64\n",
      " 45  44      float64\n",
      " 46  45      float64\n",
      " 47  46      float64\n",
      " 48  47      float64\n",
      " 49  48      float64\n",
      " 50  49      float64\n",
      " 51  50      float64\n",
      " 52  51      float64\n",
      " 53  52      float64\n",
      " 54  53      float64\n",
      " 55  54      float64\n",
      " 56  55      float64\n",
      " 57  56      float64\n",
      " 58  57      float64\n",
      " 59  58      float64\n",
      " 60  59      float64\n",
      " 61  60      float64\n",
      " 62  61      float64\n",
      " 63  62      float64\n",
      " 64  63      float64\n",
      " 65  64      float64\n",
      " 66  65      float64\n",
      " 67  66      float64\n",
      " 68  67      float64\n",
      " 69  68      float64\n",
      " 70  69      float64\n",
      " 71  70      float64\n",
      " 72  71      float64\n",
      "dtypes: float64(72), object(1)\n",
      "memory usage: 1.6+ GB\n"
     ]
    }
   ],
   "source": [
    "df_base.info()"
   ]
  },
  {
   "cell_type": "markdown",
   "id": "9e6612c0",
   "metadata": {},
   "source": [
    "В данных первый столбец является наименованием, остальные просто векторные представления объектов. При этом числовые столбцы представлены во float64 их можно преобразовать во float32, это незначительно уменьшит точность, но позволит уменьшить объём."
   ]
  },
  {
   "cell_type": "code",
   "execution_count": 6,
   "id": "7da1d660",
   "metadata": {},
   "outputs": [],
   "source": [
    "df_base[df_base.select_dtypes(include='float').columns] = df_base.select_dtypes(include='float').astype('float32')"
   ]
  },
  {
   "cell_type": "markdown",
   "id": "447979ec",
   "metadata": {},
   "source": [
    "Посмотрим как меняются данные в столбцах"
   ]
  },
  {
   "cell_type": "code",
   "execution_count": 7,
   "id": "dbd13f14",
   "metadata": {},
   "outputs": [
    {
     "data": {
      "text/html": [
       "<div>\n",
       "<style scoped>\n",
       "    .dataframe tbody tr th:only-of-type {\n",
       "        vertical-align: middle;\n",
       "    }\n",
       "\n",
       "    .dataframe tbody tr th {\n",
       "        vertical-align: top;\n",
       "    }\n",
       "\n",
       "    .dataframe thead th {\n",
       "        text-align: right;\n",
       "    }\n",
       "</style>\n",
       "<table border=\"1\" class=\"dataframe\">\n",
       "  <thead>\n",
       "    <tr style=\"text-align: right;\">\n",
       "      <th></th>\n",
       "      <th>0</th>\n",
       "      <th>1</th>\n",
       "      <th>2</th>\n",
       "      <th>3</th>\n",
       "      <th>4</th>\n",
       "      <th>5</th>\n",
       "      <th>6</th>\n",
       "      <th>7</th>\n",
       "      <th>8</th>\n",
       "      <th>9</th>\n",
       "      <th>...</th>\n",
       "      <th>62</th>\n",
       "      <th>63</th>\n",
       "      <th>64</th>\n",
       "      <th>65</th>\n",
       "      <th>66</th>\n",
       "      <th>67</th>\n",
       "      <th>68</th>\n",
       "      <th>69</th>\n",
       "      <th>70</th>\n",
       "      <th>71</th>\n",
       "    </tr>\n",
       "  </thead>\n",
       "  <tbody>\n",
       "    <tr>\n",
       "      <th>count</th>\n",
       "      <td>2.918139e+06</td>\n",
       "      <td>2.918139e+06</td>\n",
       "      <td>2.918139e+06</td>\n",
       "      <td>2.918139e+06</td>\n",
       "      <td>2.918139e+06</td>\n",
       "      <td>2.918139e+06</td>\n",
       "      <td>2.918139e+06</td>\n",
       "      <td>2.918139e+06</td>\n",
       "      <td>2.918139e+06</td>\n",
       "      <td>2.918139e+06</td>\n",
       "      <td>...</td>\n",
       "      <td>2.918139e+06</td>\n",
       "      <td>2.918139e+06</td>\n",
       "      <td>2.918139e+06</td>\n",
       "      <td>2.918139e+06</td>\n",
       "      <td>2.918139e+06</td>\n",
       "      <td>2.918139e+06</td>\n",
       "      <td>2.918139e+06</td>\n",
       "      <td>2.918139e+06</td>\n",
       "      <td>2.918139e+06</td>\n",
       "      <td>2.918139e+06</td>\n",
       "    </tr>\n",
       "    <tr>\n",
       "      <th>mean</th>\n",
       "      <td>-8.622946e+01</td>\n",
       "      <td>8.080074e+00</td>\n",
       "      <td>-4.458079e+01</td>\n",
       "      <td>-1.466350e+02</td>\n",
       "      <td>1.113166e+02</td>\n",
       "      <td>-7.199137e+01</td>\n",
       "      <td>-3.922237e+02</td>\n",
       "      <td>2.035283e+01</td>\n",
       "      <td>1.236843e+02</td>\n",
       "      <td>1.244581e+02</td>\n",
       "      <td>...</td>\n",
       "      <td>-7.902287e+01</td>\n",
       "      <td>3.329736e+01</td>\n",
       "      <td>-1.547961e+02</td>\n",
       "      <td>1.415133e+01</td>\n",
       "      <td>6.779169e+01</td>\n",
       "      <td>2.354489e+01</td>\n",
       "      <td>7.495934e+01</td>\n",
       "      <td>1.155667e+02</td>\n",
       "      <td>-7.993393e+02</td>\n",
       "      <td>-4.779124e+01</td>\n",
       "    </tr>\n",
       "    <tr>\n",
       "      <th>std</th>\n",
       "      <td>2.489132e+01</td>\n",
       "      <td>4.953387e+00</td>\n",
       "      <td>3.863166e+01</td>\n",
       "      <td>1.984480e+01</td>\n",
       "      <td>4.634809e+01</td>\n",
       "      <td>2.818607e+01</td>\n",
       "      <td>2.716550e+02</td>\n",
       "      <td>6.421638e+01</td>\n",
       "      <td>6.356110e+00</td>\n",
       "      <td>6.443058e+01</td>\n",
       "      <td>...</td>\n",
       "      <td>3.045642e+01</td>\n",
       "      <td>2.888603e+01</td>\n",
       "      <td>4.122929e+01</td>\n",
       "      <td>9.895115e+01</td>\n",
       "      <td>1.823356e+00</td>\n",
       "      <td>5.534224e+01</td>\n",
       "      <td>6.134501e+01</td>\n",
       "      <td>2.117518e+01</td>\n",
       "      <td>3.854131e+02</td>\n",
       "      <td>4.174802e+01</td>\n",
       "    </tr>\n",
       "    <tr>\n",
       "      <th>min</th>\n",
       "      <td>-1.994687e+02</td>\n",
       "      <td>-1.391461e+01</td>\n",
       "      <td>-2.400734e+02</td>\n",
       "      <td>-2.326671e+02</td>\n",
       "      <td>-1.055830e+02</td>\n",
       "      <td>-2.110086e+02</td>\n",
       "      <td>-7.914698e+02</td>\n",
       "      <td>-3.018597e+02</td>\n",
       "      <td>9.315305e+01</td>\n",
       "      <td>-1.738719e+02</td>\n",
       "      <td>...</td>\n",
       "      <td>-2.205663e+02</td>\n",
       "      <td>-8.850774e+01</td>\n",
       "      <td>-3.539028e+02</td>\n",
       "      <td>-1.575944e+02</td>\n",
       "      <td>5.950945e+01</td>\n",
       "      <td>-2.331382e+02</td>\n",
       "      <td>-2.036016e+02</td>\n",
       "      <td>1.572448e+01</td>\n",
       "      <td>-1.297932e+03</td>\n",
       "      <td>-2.267801e+02</td>\n",
       "    </tr>\n",
       "    <tr>\n",
       "      <th>25%</th>\n",
       "      <td>-1.030654e+02</td>\n",
       "      <td>4.708491e+00</td>\n",
       "      <td>-6.955949e+01</td>\n",
       "      <td>-1.599051e+02</td>\n",
       "      <td>8.050795e+01</td>\n",
       "      <td>-9.137994e+01</td>\n",
       "      <td>-6.293318e+02</td>\n",
       "      <td>-2.222147e+01</td>\n",
       "      <td>1.194840e+02</td>\n",
       "      <td>8.176751e+01</td>\n",
       "      <td>...</td>\n",
       "      <td>-9.876390e+01</td>\n",
       "      <td>1.698862e+01</td>\n",
       "      <td>-1.807798e+02</td>\n",
       "      <td>-7.130038e+01</td>\n",
       "      <td>6.658096e+01</td>\n",
       "      <td>-1.251624e+01</td>\n",
       "      <td>3.377574e+01</td>\n",
       "      <td>1.016867e+02</td>\n",
       "      <td>-1.074465e+03</td>\n",
       "      <td>-7.566641e+01</td>\n",
       "    </tr>\n",
       "    <tr>\n",
       "      <th>50%</th>\n",
       "      <td>-8.623150e+01</td>\n",
       "      <td>8.038950e+00</td>\n",
       "      <td>-4.381660e+01</td>\n",
       "      <td>-1.467768e+02</td>\n",
       "      <td>1.118730e+02</td>\n",
       "      <td>-7.192230e+01</td>\n",
       "      <td>-4.222016e+02</td>\n",
       "      <td>2.080477e+01</td>\n",
       "      <td>1.238923e+02</td>\n",
       "      <td>1.234977e+02</td>\n",
       "      <td>...</td>\n",
       "      <td>-7.848812e+01</td>\n",
       "      <td>3.471502e+01</td>\n",
       "      <td>-1.539773e+02</td>\n",
       "      <td>1.382693e+01</td>\n",
       "      <td>6.781458e+01</td>\n",
       "      <td>2.341649e+01</td>\n",
       "      <td>7.492997e+01</td>\n",
       "      <td>1.160244e+02</td>\n",
       "      <td>-1.074465e+03</td>\n",
       "      <td>-4.859196e+01</td>\n",
       "    </tr>\n",
       "    <tr>\n",
       "      <th>75%</th>\n",
       "      <td>-6.925658e+01</td>\n",
       "      <td>1.147007e+01</td>\n",
       "      <td>-1.962527e+01</td>\n",
       "      <td>-1.333277e+02</td>\n",
       "      <td>1.423743e+02</td>\n",
       "      <td>-5.244110e+01</td>\n",
       "      <td>-1.566686e+02</td>\n",
       "      <td>6.391821e+01</td>\n",
       "      <td>1.279705e+02</td>\n",
       "      <td>1.672206e+02</td>\n",
       "      <td>...</td>\n",
       "      <td>-5.853355e+01</td>\n",
       "      <td>5.216429e+01</td>\n",
       "      <td>-1.273405e+02</td>\n",
       "      <td>9.966753e+01</td>\n",
       "      <td>6.902666e+01</td>\n",
       "      <td>5.975511e+01</td>\n",
       "      <td>1.158760e+02</td>\n",
       "      <td>1.295524e+02</td>\n",
       "      <td>-5.057444e+02</td>\n",
       "      <td>-1.971424e+01</td>\n",
       "    </tr>\n",
       "    <tr>\n",
       "      <th>max</th>\n",
       "      <td>2.151555e+01</td>\n",
       "      <td>2.993721e+01</td>\n",
       "      <td>1.609372e+02</td>\n",
       "      <td>-5.137478e+01</td>\n",
       "      <td>3.196645e+02</td>\n",
       "      <td>5.880624e+01</td>\n",
       "      <td>1.096325e+02</td>\n",
       "      <td>3.412282e+02</td>\n",
       "      <td>1.522612e+02</td>\n",
       "      <td>4.275421e+02</td>\n",
       "      <td>...</td>\n",
       "      <td>6.017411e+01</td>\n",
       "      <td>1.541678e+02</td>\n",
       "      <td>2.436099e+01</td>\n",
       "      <td>1.850981e+02</td>\n",
       "      <td>7.571203e+01</td>\n",
       "      <td>3.148988e+02</td>\n",
       "      <td>3.395739e+02</td>\n",
       "      <td>2.147063e+02</td>\n",
       "      <td>9.877081e+01</td>\n",
       "      <td>1.269732e+02</td>\n",
       "    </tr>\n",
       "  </tbody>\n",
       "</table>\n",
       "<p>8 rows × 72 columns</p>\n",
       "</div>"
      ],
      "text/plain": [
       "                  0             1             2             3             4   \n",
       "count  2.918139e+06  2.918139e+06  2.918139e+06  2.918139e+06  2.918139e+06  \\\n",
       "mean  -8.622946e+01  8.080074e+00 -4.458079e+01 -1.466350e+02  1.113166e+02   \n",
       "std    2.489132e+01  4.953387e+00  3.863166e+01  1.984480e+01  4.634809e+01   \n",
       "min   -1.994687e+02 -1.391461e+01 -2.400734e+02 -2.326671e+02 -1.055830e+02   \n",
       "25%   -1.030654e+02  4.708491e+00 -6.955949e+01 -1.599051e+02  8.050795e+01   \n",
       "50%   -8.623150e+01  8.038950e+00 -4.381660e+01 -1.467768e+02  1.118730e+02   \n",
       "75%   -6.925658e+01  1.147007e+01 -1.962527e+01 -1.333277e+02  1.423743e+02   \n",
       "max    2.151555e+01  2.993721e+01  1.609372e+02 -5.137478e+01  3.196645e+02   \n",
       "\n",
       "                  5             6             7             8             9   \n",
       "count  2.918139e+06  2.918139e+06  2.918139e+06  2.918139e+06  2.918139e+06  \\\n",
       "mean  -7.199137e+01 -3.922237e+02  2.035283e+01  1.236843e+02  1.244581e+02   \n",
       "std    2.818607e+01  2.716550e+02  6.421638e+01  6.356110e+00  6.443058e+01   \n",
       "min   -2.110086e+02 -7.914698e+02 -3.018597e+02  9.315305e+01 -1.738719e+02   \n",
       "25%   -9.137994e+01 -6.293318e+02 -2.222147e+01  1.194840e+02  8.176751e+01   \n",
       "50%   -7.192230e+01 -4.222016e+02  2.080477e+01  1.238923e+02  1.234977e+02   \n",
       "75%   -5.244110e+01 -1.566686e+02  6.391821e+01  1.279705e+02  1.672206e+02   \n",
       "max    5.880624e+01  1.096325e+02  3.412282e+02  1.522612e+02  4.275421e+02   \n",
       "\n",
       "       ...            62            63            64            65   \n",
       "count  ...  2.918139e+06  2.918139e+06  2.918139e+06  2.918139e+06  \\\n",
       "mean   ... -7.902287e+01  3.329736e+01 -1.547961e+02  1.415133e+01   \n",
       "std    ...  3.045642e+01  2.888603e+01  4.122929e+01  9.895115e+01   \n",
       "min    ... -2.205663e+02 -8.850774e+01 -3.539028e+02 -1.575944e+02   \n",
       "25%    ... -9.876390e+01  1.698862e+01 -1.807798e+02 -7.130038e+01   \n",
       "50%    ... -7.848812e+01  3.471502e+01 -1.539773e+02  1.382693e+01   \n",
       "75%    ... -5.853355e+01  5.216429e+01 -1.273405e+02  9.966753e+01   \n",
       "max    ...  6.017411e+01  1.541678e+02  2.436099e+01  1.850981e+02   \n",
       "\n",
       "                 66            67            68            69            70   \n",
       "count  2.918139e+06  2.918139e+06  2.918139e+06  2.918139e+06  2.918139e+06  \\\n",
       "mean   6.779169e+01  2.354489e+01  7.495934e+01  1.155667e+02 -7.993393e+02   \n",
       "std    1.823356e+00  5.534224e+01  6.134501e+01  2.117518e+01  3.854131e+02   \n",
       "min    5.950945e+01 -2.331382e+02 -2.036016e+02  1.572448e+01 -1.297932e+03   \n",
       "25%    6.658096e+01 -1.251624e+01  3.377574e+01  1.016867e+02 -1.074465e+03   \n",
       "50%    6.781458e+01  2.341649e+01  7.492997e+01  1.160244e+02 -1.074465e+03   \n",
       "75%    6.902666e+01  5.975511e+01  1.158760e+02  1.295524e+02 -5.057444e+02   \n",
       "max    7.571203e+01  3.148988e+02  3.395739e+02  2.147063e+02  9.877081e+01   \n",
       "\n",
       "                 71  \n",
       "count  2.918139e+06  \n",
       "mean  -4.779124e+01  \n",
       "std    4.174802e+01  \n",
       "min   -2.267801e+02  \n",
       "25%   -7.566641e+01  \n",
       "50%   -4.859196e+01  \n",
       "75%   -1.971424e+01  \n",
       "max    1.269732e+02  \n",
       "\n",
       "[8 rows x 72 columns]"
      ]
     },
     "execution_count": 7,
     "metadata": {},
     "output_type": "execute_result"
    }
   ],
   "source": [
    "df_base.describe()"
   ]
  },
  {
   "cell_type": "code",
   "execution_count": 8,
   "id": "96c5c8c5",
   "metadata": {},
   "outputs": [
    {
     "data": {
      "image/png": "[encoded data removed]",
      "text/plain": [
       "<Figure size 640x480 with 1 Axes>"
      ]
     },
     "metadata": {},
     "output_type": "display_data"
    }
   ],
   "source": [
    "plt.title('Распредление среднего значения по столбцам')\n",
    "plt.hist(df_base.select_dtypes(include='float').mean(),\n",
    "        bins=20)\n",
    "plt.yticks(range(0, 30, 2))\n",
    "plt.grid()\n",
    "plt.xlabel('Значение среднего')\n",
    "plt.ylabel('Количество столбцов')           \n",
    "plt.show()"
   ]
  },
  {
   "cell_type": "code",
   "execution_count": 9,
   "id": "d73ead54",
   "metadata": {},
   "outputs": [
    {
     "data": {
      "image/png": "[encoded data removed]",
      "text/plain": [
       "<Figure size 640x480 with 1 Axes>"
      ]
     },
     "metadata": {},
     "output_type": "display_data"
    }
   ],
   "source": [
    "plt.title('Распредление стандартного отклонения по столбцам')\n",
    "plt.hist(df_base.select_dtypes(include='float').std(),\n",
    "        bins=40)\n",
    "plt.yticks(range(0, 12, 2))\n",
    "plt.grid()\n",
    "plt.xlabel('Стандартное отклонение')\n",
    "plt.ylabel('Количество столбцов')           \n",
    "plt.show()"
   ]
  },
  {
   "cell_type": "markdown",
   "id": "824148df",
   "metadata": {},
   "source": [
    "Основная часть стандартных отклонений и среднего по столбцам распределена около нуля, однако есть несколько столбцов со значениями значительно превосходящие остальные. Учитывая, что для определения схожести продуктов зачастую используется расстояние, то ко всем столбцам необходимо будет применить стандартизацию , азтем изменить тренировочные и тестовые датасеты."
   ]
  },
  {
   "cell_type": "markdown",
   "id": "5ab7ff33",
   "metadata": {},
   "source": [
    "Выведим столбцы с большим стандартным отклонением"
   ]
  },
  {
   "cell_type": "code",
   "execution_count": 10,
   "id": "6be79a46",
   "metadata": {},
   "outputs": [
    {
     "data": {
      "text/plain": [
       "['6', '21', '25', '33', '59', '65', '70']"
      ]
     },
     "execution_count": 10,
     "metadata": {},
     "output_type": "execute_result"
    }
   ],
   "source": [
    "list_column = []\n",
    "for i in range(0, 72):\n",
    "    column = df_base.select_dtypes(include='float').columns[i]\n",
    "    if df_base[column].std() > 80:\n",
    "        list_column.append(column)\n",
    "list_column"
   ]
  },
  {
   "cell_type": "markdown",
   "id": "954866f7",
   "metadata": {},
   "source": [
    "В процессе обучения необходимо будет посмотреть как влиют данные столбцы на качество обучения. Возможно некоторые из них являются шумом"
   ]
  },
  {
   "cell_type": "markdown",
   "id": "ef6937b6",
   "metadata": {},
   "source": [
    "Построим график с количеством разных значений"
   ]
  },
  {
   "cell_type": "code",
   "execution_count": 11,
   "id": "b7f52651",
   "metadata": {},
   "outputs": [],
   "source": [
    "list_count = []\n",
    "for i in range(0, 72):\n",
    "    column = df_base.select_dtypes(include='float').columns[i]\n",
    "    list_count.append(len(df_base[column].value_counts()))"
   ]
  },
  {
   "cell_type": "code",
   "execution_count": 12,
   "id": "c6b8c87c",
   "metadata": {},
   "outputs": [
    {
     "data": {
      "image/png": "[encoded data removed]",
      "text/plain": [
       "<Figure size 640x480 with 1 Axes>"
      ]
     },
     "metadata": {},
     "output_type": "display_data"
    }
   ],
   "source": [
    "plt.title('Количество разных значений в столбцах')\n",
    "plt.plot(range(0, 72), list_count)\n",
    "plt.xlabel('Номер столбца')\n",
    "plt.xticks(range(0, 75, 5))\n",
    "plt.ylabel('Количество значений')\n",
    "plt.grid()\n",
    "plt.show()"
   ]
  },
  {
   "cell_type": "markdown",
   "id": "00143eb9",
   "metadata": {},
   "source": [
    "Из графика видно, что есть столбцы с очень маленьким количеством разных значений, вероятнее всего, такие столбцы также не будут улучшать качество модели, но при этом будут добавлять лишнюю размерность."
   ]
  },
  {
   "cell_type": "markdown",
   "id": "f8588a08",
   "metadata": {},
   "source": [
    "### Тестовый и тренировочный датасеты"
   ]
  },
  {
   "cell_type": "markdown",
   "id": "9b8ba668",
   "metadata": {},
   "source": [
    "Откроем тренировочный и тестовый датасеты и изучим их"
   ]
  },
  {
   "cell_type": "code",
   "execution_count": 13,
   "id": "acf224e3",
   "metadata": {},
   "outputs": [
    {
     "data": {
      "text/html": [
       "<div>\n",
       "<style scoped>\n",
       "    .dataframe tbody tr th:only-of-type {\n",
       "        vertical-align: middle;\n",
       "    }\n",
       "\n",
       "    .dataframe tbody tr th {\n",
       "        vertical-align: top;\n",
       "    }\n",
       "\n",
       "    .dataframe thead th {\n",
       "        text-align: right;\n",
       "    }\n",
       "</style>\n",
       "<table border=\"1\" class=\"dataframe\">\n",
       "  <thead>\n",
       "    <tr style=\"text-align: right;\">\n",
       "      <th></th>\n",
       "      <th>Id</th>\n",
       "      <th>0</th>\n",
       "      <th>1</th>\n",
       "      <th>2</th>\n",
       "      <th>3</th>\n",
       "      <th>4</th>\n",
       "      <th>5</th>\n",
       "      <th>6</th>\n",
       "      <th>7</th>\n",
       "      <th>8</th>\n",
       "      <th>...</th>\n",
       "      <th>63</th>\n",
       "      <th>64</th>\n",
       "      <th>65</th>\n",
       "      <th>66</th>\n",
       "      <th>67</th>\n",
       "      <th>68</th>\n",
       "      <th>69</th>\n",
       "      <th>70</th>\n",
       "      <th>71</th>\n",
       "      <th>Target</th>\n",
       "    </tr>\n",
       "  </thead>\n",
       "  <tbody>\n",
       "    <tr>\n",
       "      <th>0</th>\n",
       "      <td>0-query</td>\n",
       "      <td>-53.882748</td>\n",
       "      <td>17.971436</td>\n",
       "      <td>-42.117104</td>\n",
       "      <td>-183.93668</td>\n",
       "      <td>187.517490</td>\n",
       "      <td>-87.144930</td>\n",
       "      <td>-347.360606</td>\n",
       "      <td>38.307602</td>\n",
       "      <td>109.085560</td>\n",
       "      <td>...</td>\n",
       "      <td>70.107360</td>\n",
       "      <td>-155.80257</td>\n",
       "      <td>-101.965943</td>\n",
       "      <td>65.903790</td>\n",
       "      <td>34.457500</td>\n",
       "      <td>62.642094</td>\n",
       "      <td>134.763600</td>\n",
       "      <td>-415.750254</td>\n",
       "      <td>-25.958572</td>\n",
       "      <td>675816-base</td>\n",
       "    </tr>\n",
       "    <tr>\n",
       "      <th>1</th>\n",
       "      <td>1-query</td>\n",
       "      <td>-87.776370</td>\n",
       "      <td>6.806268</td>\n",
       "      <td>-32.054546</td>\n",
       "      <td>-177.26039</td>\n",
       "      <td>120.803330</td>\n",
       "      <td>-83.810590</td>\n",
       "      <td>-94.572749</td>\n",
       "      <td>-78.433090</td>\n",
       "      <td>124.915900</td>\n",
       "      <td>...</td>\n",
       "      <td>4.669178</td>\n",
       "      <td>-151.69771</td>\n",
       "      <td>-1.638704</td>\n",
       "      <td>68.170876</td>\n",
       "      <td>25.096191</td>\n",
       "      <td>89.974976</td>\n",
       "      <td>130.589630</td>\n",
       "      <td>-1035.092211</td>\n",
       "      <td>-51.276833</td>\n",
       "      <td>366656-base</td>\n",
       "    </tr>\n",
       "    <tr>\n",
       "      <th>2</th>\n",
       "      <td>2-query</td>\n",
       "      <td>-49.979565</td>\n",
       "      <td>3.841486</td>\n",
       "      <td>-116.118590</td>\n",
       "      <td>-180.40198</td>\n",
       "      <td>190.128430</td>\n",
       "      <td>-50.837620</td>\n",
       "      <td>26.943937</td>\n",
       "      <td>-30.447489</td>\n",
       "      <td>125.771164</td>\n",
       "      <td>...</td>\n",
       "      <td>78.039764</td>\n",
       "      <td>-169.14620</td>\n",
       "      <td>82.144186</td>\n",
       "      <td>66.008220</td>\n",
       "      <td>18.400496</td>\n",
       "      <td>212.409730</td>\n",
       "      <td>121.931470</td>\n",
       "      <td>-1074.464888</td>\n",
       "      <td>-22.547178</td>\n",
       "      <td>1447819-base</td>\n",
       "    </tr>\n",
       "    <tr>\n",
       "      <th>3</th>\n",
       "      <td>3-query</td>\n",
       "      <td>-47.810562</td>\n",
       "      <td>9.086598</td>\n",
       "      <td>-115.401695</td>\n",
       "      <td>-121.01136</td>\n",
       "      <td>94.652840</td>\n",
       "      <td>-109.255410</td>\n",
       "      <td>-775.150134</td>\n",
       "      <td>79.186520</td>\n",
       "      <td>124.003100</td>\n",
       "      <td>...</td>\n",
       "      <td>44.515266</td>\n",
       "      <td>-145.41675</td>\n",
       "      <td>93.990981</td>\n",
       "      <td>64.131350</td>\n",
       "      <td>106.061920</td>\n",
       "      <td>83.178760</td>\n",
       "      <td>118.277725</td>\n",
       "      <td>-1074.464888</td>\n",
       "      <td>-19.902788</td>\n",
       "      <td>1472602-base</td>\n",
       "    </tr>\n",
       "    <tr>\n",
       "      <th>4</th>\n",
       "      <td>4-query</td>\n",
       "      <td>-79.632126</td>\n",
       "      <td>14.442886</td>\n",
       "      <td>-58.903397</td>\n",
       "      <td>-147.05254</td>\n",
       "      <td>57.127068</td>\n",
       "      <td>-16.239529</td>\n",
       "      <td>-321.317964</td>\n",
       "      <td>45.984676</td>\n",
       "      <td>125.941284</td>\n",
       "      <td>...</td>\n",
       "      <td>45.028910</td>\n",
       "      <td>-196.09207</td>\n",
       "      <td>-117.626337</td>\n",
       "      <td>66.926220</td>\n",
       "      <td>42.456170</td>\n",
       "      <td>77.621765</td>\n",
       "      <td>92.479930</td>\n",
       "      <td>-1074.464888</td>\n",
       "      <td>-21.149351</td>\n",
       "      <td>717819-base</td>\n",
       "    </tr>\n",
       "  </tbody>\n",
       "</table>\n",
       "<p>5 rows × 74 columns</p>\n",
       "</div>"
      ],
      "text/plain": [
       "        Id          0          1           2          3           4   \n",
       "0  0-query -53.882748  17.971436  -42.117104 -183.93668  187.517490  \\\n",
       "1  1-query -87.776370   6.806268  -32.054546 -177.26039  120.803330   \n",
       "2  2-query -49.979565   3.841486 -116.118590 -180.40198  190.128430   \n",
       "3  3-query -47.810562   9.086598 -115.401695 -121.01136   94.652840   \n",
       "4  4-query -79.632126  14.442886  -58.903397 -147.05254   57.127068   \n",
       "\n",
       "            5           6          7           8  ...         63         64   \n",
       "0  -87.144930 -347.360606  38.307602  109.085560  ...  70.107360 -155.80257  \\\n",
       "1  -83.810590  -94.572749 -78.433090  124.915900  ...   4.669178 -151.69771   \n",
       "2  -50.837620   26.943937 -30.447489  125.771164  ...  78.039764 -169.14620   \n",
       "3 -109.255410 -775.150134  79.186520  124.003100  ...  44.515266 -145.41675   \n",
       "4  -16.239529 -321.317964  45.984676  125.941284  ...  45.028910 -196.09207   \n",
       "\n",
       "           65         66          67          68          69           70   \n",
       "0 -101.965943  65.903790   34.457500   62.642094  134.763600  -415.750254  \\\n",
       "1   -1.638704  68.170876   25.096191   89.974976  130.589630 -1035.092211   \n",
       "2   82.144186  66.008220   18.400496  212.409730  121.931470 -1074.464888   \n",
       "3   93.990981  64.131350  106.061920   83.178760  118.277725 -1074.464888   \n",
       "4 -117.626337  66.926220   42.456170   77.621765   92.479930 -1074.464888   \n",
       "\n",
       "          71        Target  \n",
       "0 -25.958572   675816-base  \n",
       "1 -51.276833   366656-base  \n",
       "2 -22.547178  1447819-base  \n",
       "3 -19.902788  1472602-base  \n",
       "4 -21.149351   717819-base  \n",
       "\n",
       "[5 rows x 74 columns]"
      ]
     },
     "execution_count": 13,
     "metadata": {},
     "output_type": "execute_result"
    }
   ],
   "source": [
    "df_train = pd.read_csv(PATH_RAW_TRAIN)\n",
    "df_train.head()"
   ]
  },
  {
   "cell_type": "code",
   "execution_count": 14,
   "id": "ade438be",
   "metadata": {},
   "outputs": [
    {
     "data": {
      "text/html": [
       "<div>\n",
       "<style scoped>\n",
       "    .dataframe tbody tr th:only-of-type {\n",
       "        vertical-align: middle;\n",
       "    }\n",
       "\n",
       "    .dataframe tbody tr th {\n",
       "        vertical-align: top;\n",
       "    }\n",
       "\n",
       "    .dataframe thead th {\n",
       "        text-align: right;\n",
       "    }\n",
       "</style>\n",
       "<table border=\"1\" class=\"dataframe\">\n",
       "  <thead>\n",
       "    <tr style=\"text-align: right;\">\n",
       "      <th></th>\n",
       "      <th>Id</th>\n",
       "      <th>0</th>\n",
       "      <th>1</th>\n",
       "      <th>2</th>\n",
       "      <th>3</th>\n",
       "      <th>4</th>\n",
       "      <th>5</th>\n",
       "      <th>6</th>\n",
       "      <th>7</th>\n",
       "      <th>8</th>\n",
       "      <th>...</th>\n",
       "      <th>62</th>\n",
       "      <th>63</th>\n",
       "      <th>64</th>\n",
       "      <th>65</th>\n",
       "      <th>66</th>\n",
       "      <th>67</th>\n",
       "      <th>68</th>\n",
       "      <th>69</th>\n",
       "      <th>70</th>\n",
       "      <th>71</th>\n",
       "    </tr>\n",
       "  </thead>\n",
       "  <tbody>\n",
       "    <tr>\n",
       "      <th>0</th>\n",
       "      <td>100000-query</td>\n",
       "      <td>-57.372734</td>\n",
       "      <td>3.597752</td>\n",
       "      <td>-13.213642</td>\n",
       "      <td>-125.92679</td>\n",
       "      <td>110.74594</td>\n",
       "      <td>-81.279594</td>\n",
       "      <td>-461.003172</td>\n",
       "      <td>139.815720</td>\n",
       "      <td>112.880980</td>\n",
       "      <td>...</td>\n",
       "      <td>-75.51302</td>\n",
       "      <td>52.830902</td>\n",
       "      <td>-143.43945</td>\n",
       "      <td>59.051935</td>\n",
       "      <td>69.28224</td>\n",
       "      <td>61.927513</td>\n",
       "      <td>111.59253</td>\n",
       "      <td>115.140656</td>\n",
       "      <td>-1099.130485</td>\n",
       "      <td>-117.079360</td>\n",
       "    </tr>\n",
       "    <tr>\n",
       "      <th>1</th>\n",
       "      <td>100001-query</td>\n",
       "      <td>-53.758705</td>\n",
       "      <td>12.790300</td>\n",
       "      <td>-43.268543</td>\n",
       "      <td>-134.41762</td>\n",
       "      <td>114.44991</td>\n",
       "      <td>-90.520130</td>\n",
       "      <td>-759.626065</td>\n",
       "      <td>63.995087</td>\n",
       "      <td>127.117905</td>\n",
       "      <td>...</td>\n",
       "      <td>-79.44183</td>\n",
       "      <td>29.185436</td>\n",
       "      <td>-168.60590</td>\n",
       "      <td>-82.872443</td>\n",
       "      <td>70.76560</td>\n",
       "      <td>-65.975950</td>\n",
       "      <td>97.07716</td>\n",
       "      <td>123.391640</td>\n",
       "      <td>-744.442332</td>\n",
       "      <td>-25.009320</td>\n",
       "    </tr>\n",
       "    <tr>\n",
       "      <th>2</th>\n",
       "      <td>100002-query</td>\n",
       "      <td>-64.175095</td>\n",
       "      <td>-3.980927</td>\n",
       "      <td>-7.679249</td>\n",
       "      <td>-170.16093</td>\n",
       "      <td>96.44616</td>\n",
       "      <td>-62.377740</td>\n",
       "      <td>-759.626065</td>\n",
       "      <td>87.477554</td>\n",
       "      <td>131.270110</td>\n",
       "      <td>...</td>\n",
       "      <td>-134.79541</td>\n",
       "      <td>37.368730</td>\n",
       "      <td>-159.66231</td>\n",
       "      <td>-119.232725</td>\n",
       "      <td>67.71044</td>\n",
       "      <td>86.002060</td>\n",
       "      <td>137.63641</td>\n",
       "      <td>141.081630</td>\n",
       "      <td>-294.052271</td>\n",
       "      <td>-70.969604</td>\n",
       "    </tr>\n",
       "    <tr>\n",
       "      <th>3</th>\n",
       "      <td>100003-query</td>\n",
       "      <td>-99.286860</td>\n",
       "      <td>16.123936</td>\n",
       "      <td>9.837166</td>\n",
       "      <td>-148.06044</td>\n",
       "      <td>83.69708</td>\n",
       "      <td>-133.729720</td>\n",
       "      <td>58.576403</td>\n",
       "      <td>-19.046660</td>\n",
       "      <td>115.042404</td>\n",
       "      <td>...</td>\n",
       "      <td>-77.23611</td>\n",
       "      <td>44.100494</td>\n",
       "      <td>-132.53012</td>\n",
       "      <td>-106.318982</td>\n",
       "      <td>70.88396</td>\n",
       "      <td>23.577892</td>\n",
       "      <td>133.18396</td>\n",
       "      <td>143.252940</td>\n",
       "      <td>-799.363667</td>\n",
       "      <td>-89.392670</td>\n",
       "    </tr>\n",
       "    <tr>\n",
       "      <th>4</th>\n",
       "      <td>100004-query</td>\n",
       "      <td>-79.532920</td>\n",
       "      <td>-0.364173</td>\n",
       "      <td>-16.027431</td>\n",
       "      <td>-170.88495</td>\n",
       "      <td>165.45392</td>\n",
       "      <td>-28.291668</td>\n",
       "      <td>33.931936</td>\n",
       "      <td>34.411217</td>\n",
       "      <td>128.903980</td>\n",
       "      <td>...</td>\n",
       "      <td>-123.77025</td>\n",
       "      <td>45.635944</td>\n",
       "      <td>-134.25893</td>\n",
       "      <td>13.735359</td>\n",
       "      <td>70.61763</td>\n",
       "      <td>15.332115</td>\n",
       "      <td>154.56812</td>\n",
       "      <td>101.700640</td>\n",
       "      <td>-1171.892332</td>\n",
       "      <td>-125.307890</td>\n",
       "    </tr>\n",
       "  </tbody>\n",
       "</table>\n",
       "<p>5 rows × 73 columns</p>\n",
       "</div>"
      ],
      "text/plain": [
       "             Id          0          1          2          3          4   \n",
       "0  100000-query -57.372734   3.597752 -13.213642 -125.92679  110.74594  \\\n",
       "1  100001-query -53.758705  12.790300 -43.268543 -134.41762  114.44991   \n",
       "2  100002-query -64.175095  -3.980927  -7.679249 -170.16093   96.44616   \n",
       "3  100003-query -99.286860  16.123936   9.837166 -148.06044   83.69708   \n",
       "4  100004-query -79.532920  -0.364173 -16.027431 -170.88495  165.45392   \n",
       "\n",
       "            5           6           7           8  ...         62         63   \n",
       "0  -81.279594 -461.003172  139.815720  112.880980  ...  -75.51302  52.830902  \\\n",
       "1  -90.520130 -759.626065   63.995087  127.117905  ...  -79.44183  29.185436   \n",
       "2  -62.377740 -759.626065   87.477554  131.270110  ... -134.79541  37.368730   \n",
       "3 -133.729720   58.576403  -19.046660  115.042404  ...  -77.23611  44.100494   \n",
       "4  -28.291668   33.931936   34.411217  128.903980  ... -123.77025  45.635944   \n",
       "\n",
       "          64          65        66         67         68          69   \n",
       "0 -143.43945   59.051935  69.28224  61.927513  111.59253  115.140656  \\\n",
       "1 -168.60590  -82.872443  70.76560 -65.975950   97.07716  123.391640   \n",
       "2 -159.66231 -119.232725  67.71044  86.002060  137.63641  141.081630   \n",
       "3 -132.53012 -106.318982  70.88396  23.577892  133.18396  143.252940   \n",
       "4 -134.25893   13.735359  70.61763  15.332115  154.56812  101.700640   \n",
       "\n",
       "            70          71  \n",
       "0 -1099.130485 -117.079360  \n",
       "1  -744.442332  -25.009320  \n",
       "2  -294.052271  -70.969604  \n",
       "3  -799.363667  -89.392670  \n",
       "4 -1171.892332 -125.307890  \n",
       "\n",
       "[5 rows x 73 columns]"
      ]
     },
     "execution_count": 14,
     "metadata": {},
     "output_type": "execute_result"
    }
   ],
   "source": [
    "df_test = pd.read_csv(PATH_RAW_TEST)\n",
    "df_test.head()"
   ]
  },
  {
   "cell_type": "markdown",
   "id": "5f2d02a8",
   "metadata": {},
   "source": [
    "Данные имеют схожую структуру, однако первый столбец имеет форматы запроса, его нужно будет удалить и будем использовать только при создании предсказаний на лидерборд. Преобразуем все float64 во float32"
   ]
  },
  {
   "cell_type": "code",
   "execution_count": 15,
   "id": "76b46de8",
   "metadata": {},
   "outputs": [],
   "source": [
    "df_train[df_train.select_dtypes(include='float').columns] = df_train.select_dtypes(include='float').astype('float32')"
   ]
  },
  {
   "cell_type": "code",
   "execution_count": 16,
   "id": "80fb6f60",
   "metadata": {},
   "outputs": [],
   "source": [
    "df_test[df_test.select_dtypes(include='float').columns] = df_test.select_dtypes(include='float').astype('float32')"
   ]
  },
  {
   "cell_type": "markdown",
   "id": "1b04f338",
   "metadata": {},
   "source": [
    "Изучим как соотносятся средние и стандартное отклонение на тестовой и тренировочной выборке"
   ]
  },
  {
   "cell_type": "code",
   "execution_count": 17,
   "id": "f174fcfa",
   "metadata": {},
   "outputs": [
    {
     "data": {
      "image/png": "[encoded data removed]",
      "text/plain": [
       "<Figure size 1200x600 with 1 Axes>"
      ]
     },
     "metadata": {},
     "output_type": "display_data"
    }
   ],
   "source": [
    "plt.figure(figsize=(12,6))\n",
    "plt.title('Распредление среднего значения по столбцам')\n",
    "plt.bar(df_base.select_dtypes(include='float').mean().index,\n",
    "        df_base.select_dtypes(include='float').mean(),\n",
    "       alpha=0.3,\n",
    "       label='base')\n",
    "plt.bar(df_train.select_dtypes(include='float').mean().index,\n",
    "        df_train.select_dtypes(include='float').mean(),\n",
    "       alpha=0.3,\n",
    "       label='train')\n",
    "plt.bar(df_test.select_dtypes(include='float').mean().index,\n",
    "        df_test.select_dtypes(include='float').mean(),\n",
    "       alpha=0.3,\n",
    "       label='test')\n",
    "plt.xticks(rotation=90)\n",
    "plt.xlabel('Номер столбца')\n",
    "plt.ylabel('Количество столбцов') \n",
    "plt.legend()\n",
    "plt.show()"
   ]
  },
  {
   "cell_type": "code",
   "execution_count": 18,
   "id": "e491b8ac",
   "metadata": {},
   "outputs": [
    {
     "data": {
      "image/png": "[encoded data removed]",
      "text/plain": [
       "<Figure size 1200x600 with 1 Axes>"
      ]
     },
     "metadata": {},
     "output_type": "display_data"
    }
   ],
   "source": [
    "plt.figure(figsize=(12,6))\n",
    "plt.title('Распредление стандартного отклонения по столбцам')\n",
    "plt.bar(df_base.select_dtypes(include='float').std().index,\n",
    "        df_base.select_dtypes(include='float').std(),\n",
    "       alpha=0.3,\n",
    "       label='base')\n",
    "plt.bar(df_train.select_dtypes(include='float').std().index,\n",
    "        df_train.select_dtypes(include='float').std(),\n",
    "       alpha=0.3,\n",
    "       label='train')\n",
    "plt.bar(df_test.select_dtypes(include='float').std().index,\n",
    "        df_test.select_dtypes(include='float').std(),\n",
    "       alpha=0.3,\n",
    "       label='test')\n",
    "plt.xticks(rotation=90)\n",
    "plt.xlabel('Стандартное отклонение')\n",
    "plt.ylabel('Количество столбцов') \n",
    "plt.legend()\n",
    "plt.show()"
   ]
  },
  {
   "cell_type": "markdown",
   "id": "a2a66f82",
   "metadata": {},
   "source": [
    "Среднее значение и стандартоное отклонение в общей базе, трейновом и тестовом наборепочти полностью совпадают, соответствено адекватная модель должна давать сходие результате на трейне и тесте."
   ]
  },
  {
   "cell_type": "markdown",
   "id": "4346d574",
   "metadata": {},
   "source": [
    "Посмотрим какие целевые товары чаще встречаются в таргете, возможно получится создать dammy модель, которая будет всме рекомендовать наиболее часто встречающиеся товары."
   ]
  },
  {
   "cell_type": "code",
   "execution_count": 19,
   "id": "e9e41bd9",
   "metadata": {},
   "outputs": [
    {
     "data": {
      "text/plain": [
       "Target\n",
       "41568-base      7\n",
       "18784-base      7\n",
       "106681-base     6\n",
       "7473-base       6\n",
       "90018-base      6\n",
       "               ..\n",
       "1554551-base    1\n",
       "831164-base     1\n",
       "2309177-base    1\n",
       "1242930-base    1\n",
       "2769109-base    1\n",
       "Name: count, Length: 91794, dtype: int64"
      ]
     },
     "execution_count": 19,
     "metadata": {},
     "output_type": "execute_result"
    }
   ],
   "source": [
    "df_train['Target'].value_counts()"
   ]
  },
  {
   "cell_type": "code",
   "execution_count": 20,
   "id": "c60ac281",
   "metadata": {},
   "outputs": [
    {
     "data": {
      "image/png": "[encoded data removed]",
      "text/plain": [
       "<Figure size 640x480 with 1 Axes>"
      ]
     },
     "metadata": {},
     "output_type": "display_data"
    }
   ],
   "source": [
    "plt.title('Распредление частоты встречания товара')\n",
    "plt.hist(df_train['Target'].value_counts(),\n",
    "        bins=20)\n",
    "plt.grid()\n",
    "plt.xlabel('Количество совпадений')\n",
    "plt.ylabel('Количество повторений')           \n",
    "plt.show()"
   ]
  },
  {
   "cell_type": "markdown",
   "id": "6c1bc5c1",
   "metadata": {},
   "source": [
    "Большинство товаров встречается только один раз, поэтому дамми модель, которая будет всем указывать наиболее частые товары, вряд ли покажет нормальные результаты."
   ]
  },
  {
   "cell_type": "markdown",
   "id": "47075b16",
   "metadata": {},
   "source": [
    "### Выводы"
   ]
  },
  {
   "cell_type": "markdown",
   "id": "b4333b3d",
   "metadata": {},
   "source": [
    "Был проведён анализ данных, в ходе которого:\n",
    "\n",
    "    1. Принято решение изменить тип данных для чисел с плавающей точкой на float32, для ускорения рассчётов.\n",
    "    2. Изучено расспределение данных в базе, на основании которого принято решение стандартизировать данные перед обучением, поскольку есть столбцы, значения в которых сильно отличаются от остальных.\n",
    "    3. Проведён анализ распределения значений в первоначальной базе тестовом и тренировочном наборе. Было установлено, что данные распределены схожи.\n",
    "    4. Отвергнута dammy модель, которая бы предсказывала наиболее часто встречающиеся товары. "
   ]
  },
  {
   "cell_type": "markdown",
   "id": "f522e184",
   "metadata": {},
   "source": [
    "## Предобработка данных"
   ]
  },
  {
   "cell_type": "markdown",
   "id": "76c7e847",
   "metadata": {},
   "source": [
    "Преобразуем данные с учётом проведённого анализа, для этого напишем две функции, одна будет обрабатывать базовый датасет со всеми товарами, а вторая тренировочный и тестовый датасет. Обработанные файлы будем записывать в  новые файлы, чтобы в дальнейшем можно было уже использовать предобработанные датасеты."
   ]
  },
  {
   "cell_type": "code",
   "execution_count": 21,
   "id": "b3047605",
   "metadata": {},
   "outputs": [],
   "source": [
    "def preprocessing_base(input_path: str,\n",
    "                       output_path_data: str,\n",
    "                       output_path_id: str,\n",
    "                       output_path_scaler: str):\n",
    "    \"\"\"Функция для предообработки базового датасета\n",
    "    :param input_path: Путь к оригинальному датасету\n",
    "    :param output_path_data: Путь для записи обработаннумого датасета\n",
    "    :param output_path_id: Путь для записи датасета с Id\n",
    "    :param output_path_scaler: Путь для записи scaler (.pkl)\n",
    "    \"\"\"\n",
    "    df = pd.read_csv(input_path)\n",
    "    df_id = df['Id']\n",
    "    df = df.drop(['Id'], axis=1)\n",
    "    df[df.select_dtypes(include='float').\n",
    "       columns] = df.select_dtypes(include='float').astype('float32')\n",
    "\n",
    "    scaler = RobustScaler()\n",
    "    df_scaled = scaler.fit_transform(df)\n",
    "    df_scaled = pd.DataFrame(df_scaled)\n",
    "\n",
    "    df_scaled.to_csv(output_path_data, index=False)\n",
    "    df_id.to_csv(output_path_id, index=False)\n",
    "\n",
    "    with open(output_path_scaler, 'wb') as f:\n",
    "        pickle.dump(scaler, f)"
   ]
  },
  {
   "cell_type": "code",
   "execution_count": 22,
   "id": "392729de",
   "metadata": {},
   "outputs": [],
   "source": [
    "def preprocessing_train_test(input_train_path: str,\n",
    "                             input_test_path: str,\n",
    "                             input_scaler_path: str,\n",
    "                             output_train_path: str,\n",
    "                             output_test_path: str,\n",
    "                             output_train_target_path: str,\n",
    "                             output_test_id_path: str):\n",
    "    \"\"\"Функция для предообработки тренировочного и тестового датасета\n",
    "    :param input_train_path: Путь к оригинальному train датасету\n",
    "    :param input_test_path: Путь к оригинальному test датасету\n",
    "    :param input_scaler_path: Путь к обученному scaler (.pkl)\n",
    "    :param output_train_path: Путь для записи обработанного train датасета\n",
    "    :param output_test_path: Путь для записи обработанного test датасета\n",
    "    :param output_train_target_path: Путь для записи таргета из train датасета\n",
    "    :param output_test_id_path: Путь для записи Id из test датасета\n",
    "    :return:\n",
    "    \"\"\"\n",
    "    # открываем файлы, выделяем нужные столбцы, приводим типы\n",
    "    df_train = pd.read_csv(input_train_path)\n",
    "    df_train_target = df_train[['Id', 'Target']]\n",
    "    df_train = df_train.drop(['Id', 'Target'], axis=1)\n",
    "    df_train[df_train.select_dtypes(include='float').\n",
    "             columns] = df_train.select_dtypes(include='float').astype('float32')\n",
    "\n",
    "    df_test = pd.read_csv(input_test_path)\n",
    "    df_test_id = df_test['Id']\n",
    "    df_test = df_test.drop('Id', axis=1)\n",
    "    df_test[df_test.select_dtypes(include='float').\n",
    "            columns] = df_test.select_dtypes(include='float').astype('float32')\n",
    "\n",
    "    # открываем RobustScaler стандартизируем данные\n",
    "    with open(input_scaler_path, 'rb') as f:\n",
    "        scaler: RobustScaler = pickle.load(f)\n",
    "    df_train = pd.DataFrame(scaler.transform(df_train))\n",
    "    df_test = pd.DataFrame(scaler.transform(df_test))\n",
    "\n",
    "    # записываем результаты в файлы\n",
    "    df_train_target.to_csv(output_train_target_path, index=False)\n",
    "    df_test_id.to_csv(output_test_id_path, index=False)\n",
    "    df_train.to_csv(output_train_path, index=False)\n",
    "    df_test.to_csv(output_test_path, index=False)"
   ]
  },
  {
   "cell_type": "code",
   "execution_count": 23,
   "id": "0d83dadb",
   "metadata": {
    "scrolled": true
   },
   "outputs": [],
   "source": [
    "preprocessing_base(PATH_RAW_BASE,\n",
    "                   PATH_PROC_BASE,\n",
    "                   PATH_ID_BASE,\n",
    "                   PATH_SCALER)"
   ]
  },
  {
   "cell_type": "code",
   "execution_count": 24,
   "id": "dd053ae0",
   "metadata": {},
   "outputs": [],
   "source": [
    "preprocessing_train_test(PATH_RAW_TRAIN,\n",
    "                         PATH_RAW_TEST,\n",
    "                         PATH_SCALER,\n",
    "                         PATH_PROC_TRAIN,\n",
    "                         PATH_PROC_TEST,\n",
    "                         PATH_TARGET_TRAIN,\n",
    "                         PATH_ID_TEST)"
   ]
  },
  {
   "cell_type": "markdown",
   "id": "a89c840c",
   "metadata": {},
   "source": [
    "## Обучение моделей"
   ]
  },
  {
   "cell_type": "markdown",
   "id": "6adab2ba",
   "metadata": {},
   "source": [
    "Откроем обработанные датасеты"
   ]
  },
  {
   "cell_type": "code",
   "execution_count": 25,
   "id": "7ca654b8",
   "metadata": {},
   "outputs": [],
   "source": [
    "df_base = pd.read_csv(PATH_PROC_BASE)\n",
    "df_test = pd.read_csv(PATH_PROC_TEST)\n",
    "df_train = pd.read_csv(PATH_PROC_TRAIN)"
   ]
  },
  {
   "cell_type": "markdown",
   "id": "1d263aab",
   "metadata": {},
   "source": [
    "Создадим словарь с Id товаров и загрузим таргет для тренировочного датасета"
   ]
  },
  {
   "cell_type": "code",
   "execution_count": 26,
   "id": "85af29bb",
   "metadata": {},
   "outputs": [],
   "source": [
    "id_base_dict = dict(pd.read_csv(PATH_ID_BASE)['Id'])\n",
    "target_train = pd.read_csv(PATH_TARGET_TRAIN)['Target']"
   ]
  },
  {
   "cell_type": "markdown",
   "id": "7b456d41",
   "metadata": {},
   "source": [
    "Выведем размерности загруженных датасетов, чтобы убедиться, что всё обработанно корректно"
   ]
  },
  {
   "cell_type": "code",
   "execution_count": 27,
   "id": "40e61b53",
   "metadata": {},
   "outputs": [
    {
     "data": {
      "text/plain": [
       "((2918139, 72), (100000, 72), (100000, 72))"
      ]
     },
     "execution_count": 27,
     "metadata": {},
     "output_type": "execute_result"
    }
   ],
   "source": [
    "df_base.shape, df_test.shape, df_train.shape"
   ]
  },
  {
   "cell_type": "markdown",
   "id": "4053efae",
   "metadata": {},
   "source": [
    "### Метрика"
   ]
  },
  {
   "cell_type": "markdown",
   "id": "5c2998a3",
   "metadata": {},
   "source": [
    "Согласно условиям соревнования метрикой качества является Recall@10, которую можно рассчитать по формуле:"
   ]
  },
  {
   "cell_type": "markdown",
   "id": "3788c88b",
   "metadata": {},
   "source": [
    "$$ Recall@10 =  {\\sum найденных \\space в \\space топ10 \\space матчей \\over \\sum матчей} $$"
   ]
  },
  {
   "cell_type": "markdown",
   "id": "7210b82b",
   "metadata": {},
   "source": [
    "Создадим функцию, которая будет рассчитывать данную метрику"
   ]
  },
  {
   "cell_type": "code",
   "execution_count": 28,
   "id": "a2f19fb6",
   "metadata": {},
   "outputs": [],
   "source": [
    "def score_function(y_true, y_pred):\n",
    "    metrick_list = []\n",
    "    for i, y_p in enumerate(y_pred):\n",
    "        metrick_list.append(1 if y_true[i] in y_p.split() else 0)\n",
    "    return mean(metrick_list)    "
   ]
  },
  {
   "cell_type": "markdown",
   "id": "0628e5f0",
   "metadata": {},
   "source": [
    "### Faiss"
   ]
  },
  {
   "cell_type": "markdown",
   "id": "69e7caa1",
   "metadata": {},
   "source": [
    "Рассмотрим, как с этой задачей справится Faiss."
   ]
  },
  {
   "cell_type": "code",
   "execution_count": 29,
   "id": "6c916d9d",
   "metadata": {},
   "outputs": [],
   "source": [
    "base = df_base.copy(deep = True)\n",
    "test = df_test.copy(deep = True)\n",
    "train = df_train.copy(deep = True)"
   ]
  },
  {
   "cell_type": "markdown",
   "id": "64969f41",
   "metadata": {},
   "source": [
    "Создадим функцию, которая на вход будет принимать тестовой и тренировочные датасеты, а возвращать будет показатель метрики. При этом будем рассматривать только 10 тысяч записей датасета, чтобы ускорить обучение."
   ]
  },
  {
   "cell_type": "code",
   "execution_count": 30,
   "id": "dac0549e",
   "metadata": {},
   "outputs": [],
   "source": [
    "def train_predict_fias_10k(base, train):\n",
    "    d = len(base.columns)\n",
    "    nb = base.shape[0] \n",
    "    np.random.seed(RANDOM_STATE) \n",
    "\n",
    "    xb = base.values.astype('float32')\n",
    "    xq_train = train.values.astype('float32')\n",
    "    \n",
    "    nlist = 1\n",
    "    k = 10\n",
    "    quantizer = faiss.IndexFlatIP(d)  \n",
    "    index = faiss.IndexIVFFlat(quantizer, d, nlist)\n",
    "    assert not index.is_trained\n",
    "    index.train(xb)\n",
    "    assert index.is_trained\n",
    "    index.add(xb)\n",
    "    \n",
    "    train_10k = train.iloc[:10_000]\n",
    "    xq_train_10k = xq_train[:10_000]\n",
    "    target_train_10k = target_train[:10_000]\n",
    "        \n",
    "    D, I = index.search(xq_train_10k, k)\n",
    "    predicted_list = []\n",
    "    for candidates in I:\n",
    "        predicted_list.append(' '.join([id_base_dict[candidate] for candidate in candidates]))\n",
    "    \n",
    "    return score_function(target_train_10k, predicted_list)"
   ]
  },
  {
   "cell_type": "code",
   "execution_count": 31,
   "id": "d263192d",
   "metadata": {},
   "outputs": [
    {
     "name": "stdout",
     "output_type": "stream",
     "text": [
      "Значение метрики на смаштабированном датасете со всеми столбцами равно 0.5679\n",
      "CPU times: total: 45min 43s\n",
      "Wall time: 4min 9s\n"
     ]
    }
   ],
   "source": [
    "%%time\n",
    "score_all = train_predict_fias_10k(base, train)\n",
    "print(\"Значение метрики на смаштабированном датасете со всеми столбцами равно\", score_all)"
   ]
  },
  {
   "cell_type": "markdown",
   "id": "248e00af",
   "metadata": {},
   "source": [
    "Неплохой результат, лучше чем baseline без масштабирования, но попробуем улучшить этот результат."
   ]
  },
  {
   "cell_type": "markdown",
   "id": "568b73be",
   "metadata": {},
   "source": [
    "#### Выбор признаков для обучения"
   ]
  },
  {
   "cell_type": "markdown",
   "id": "cd48f686",
   "metadata": {},
   "source": [
    "Проверим предположение, что столбцы с высокой дисперсией ухудшают качесвто модели. Для этого удалим данные столбцы и посмотрим на качество модели."
   ]
  },
  {
   "cell_type": "code",
   "execution_count": 32,
   "id": "bc3abad7",
   "metadata": {},
   "outputs": [],
   "source": [
    "column_drop = list_column\n",
    "base = base.drop(column_drop, axis=1)\n",
    "train = train.drop(column_drop, axis=1)"
   ]
  },
  {
   "cell_type": "code",
   "execution_count": 33,
   "id": "3288d548",
   "metadata": {},
   "outputs": [
    {
     "name": "stdout",
     "output_type": "stream",
     "text": [
      "Значение метрики на смаштабированном датасете с удалёнными столбцами с большим стандартным отклонением равно 0.7474\n",
      "CPU times: total: 39min 30s\n",
      "Wall time: 3min 35s\n"
     ]
    }
   ],
   "source": [
    "%%time\n",
    "score = train_predict_fias_10k(base, train)\n",
    "print(\"Значение метрики на смаштабированном датасете с удалёнными столбцами с большим стандартным отклонением равно\", score)"
   ]
  },
  {
   "cell_type": "markdown",
   "id": "cd9e86f5",
   "metadata": {},
   "source": [
    "Качество значительно увеличилось, однако, мы могли удалить и значащие столбцы. Учитывая, что количество признаков не слишком много, переберём все столбцы по очереди и найдём те, которые можно удалить, чтобы улучшить качество модели."
   ]
  },
  {
   "cell_type": "code",
   "execution_count": 34,
   "id": "68148dbf",
   "metadata": {},
   "outputs": [],
   "source": [
    "base = df_base.copy(deep = True)\n",
    "train = df_train.copy(deep = True)"
   ]
  },
  {
   "cell_type": "code",
   "execution_count": 35,
   "id": "464bd31e",
   "metadata": {},
   "outputs": [
    {
     "name": "stderr",
     "output_type": "stream",
     "text": [
      "100%|███████████████████████████████████████████████████████████████████████████████████████████████████████████████████████████████████████████████████████████████████████████████████████████████| 72/72 [4:35:22<00:00, 229.47s/it]\n"
     ]
    }
   ],
   "source": [
    "column_drop = []\n",
    "top_score = score_all\n",
    "for col in tqdm(base.columns):\n",
    "    column_drop.append(col)\n",
    "    base = df_base.drop(column_drop, axis=1)\n",
    "    train = df_train.drop(column_drop, axis=1)\n",
    "    new_score = train_predict_fias_10k(base, train)\n",
    "    if top_score > new_score:\n",
    "        column_drop.remove(col)\n",
    "    else:\n",
    "        top_score = new_score    "
   ]
  },
  {
   "cell_type": "code",
   "execution_count": 60,
   "id": "78c88592",
   "metadata": {},
   "outputs": [
    {
     "name": "stdout",
     "output_type": "stream",
     "text": [
      "Значение метрики на смаштабированном датасете с удалёнными столбцами ['8', '11', '17', '21', '25', '33', '39', '59', '62', '65'] равно 0.7507\n"
     ]
    }
   ],
   "source": [
    "print(f\"Значение метрики на смаштабированном датасете с удалёнными столбцами {column_drop} равно {top_score}\")"
   ]
  },
  {
   "cell_type": "markdown",
   "id": "e532edea",
   "metadata": {},
   "source": [
    "Качество модели немного возрасло. Удалим полученные столбцы из датасетов и в дальнейшем будем экспериментировать уже на них."
   ]
  },
  {
   "cell_type": "code",
   "execution_count": 37,
   "id": "50209184",
   "metadata": {},
   "outputs": [],
   "source": [
    "base = df_base.copy(deep = True)\n",
    "test = df_test.copy(deep = True)\n",
    "train = df_train.copy(deep = True)"
   ]
  },
  {
   "cell_type": "code",
   "execution_count": 38,
   "id": "ce70061c",
   "metadata": {},
   "outputs": [],
   "source": [
    "base = df_base.drop(column_drop, axis=1)\n",
    "test = df_test.drop(column_drop, axis=1)\n",
    "train = df_train.drop(column_drop, axis=1)"
   ]
  },
  {
   "cell_type": "code",
   "execution_count": 47,
   "id": "e5463e49",
   "metadata": {},
   "outputs": [],
   "source": [
    "xb = base.values.astype('float32')\n",
    "xq_train = train.values.astype('float32')"
   ]
  },
  {
   "cell_type": "code",
   "execution_count": 48,
   "id": "d4296823",
   "metadata": {},
   "outputs": [],
   "source": [
    "train_10k = train.iloc[:10_000]\n",
    "xq_train_10k = xq_train[:10_000]\n",
    "target_train_10k = target_train[:10_000]"
   ]
  },
  {
   "cell_type": "markdown",
   "id": "f581aad8",
   "metadata": {},
   "source": [
    "#### Подбор параметров"
   ]
  },
  {
   "cell_type": "markdown",
   "id": "18266fdf",
   "metadata": {},
   "source": [
    "У IndexIVFFlat есть два параметра, которые влияют на качество модели и на скорость прогнозирования: nlist и nprobe. Изучим их влияние на качество модели."
   ]
  },
  {
   "cell_type": "code",
   "execution_count": 49,
   "id": "fad39ed1",
   "metadata": {},
   "outputs": [
    {
     "name": "stderr",
     "output_type": "stream",
     "text": [
      "100%|██████████████████████████████████████████████████████████████████████████████████████████████████████████████████████████████████████████████████████████████████████████████████████████████████| 10/10 [04:29<00:00, 26.90s/it]"
     ]
    },
    {
     "name": "stdout",
     "output_type": "stream",
     "text": [
      "CPU times: total: 46min 42s\n",
      "Wall time: 4min 29s\n"
     ]
    },
    {
     "name": "stderr",
     "output_type": "stream",
     "text": [
      "\n"
     ]
    }
   ],
   "source": [
    "%%time\n",
    "metric_list =[]\n",
    "for nlist in tqdm(range(1, 1001, 100)):    \n",
    "    k = 10\n",
    "    d = len(base.columns)\n",
    "    quantizer = faiss.IndexFlatIP(d)\n",
    "    index = faiss.IndexIVFFlat(quantizer, d, nlist)\n",
    "    assert not index.is_trained\n",
    "    index.train(xb)\n",
    "    assert index.is_trained\n",
    "    index.add(xb)\n",
    "    \n",
    "    D, I = index.search(xq_train_10k, k)\n",
    "    I[I==-1] = 0\n",
    "    predicted_list = []\n",
    "    for candidates in I:\n",
    "        predicted_list.append(' '.join([id_base_dict[candidate] for candidate in candidates]))\n",
    "    \n",
    "    metric_list.append(score_function(target_train_10k, predicted_list))"
   ]
  },
  {
   "cell_type": "code",
   "execution_count": 50,
   "id": "e55c4fc6",
   "metadata": {},
   "outputs": [
    {
     "data": {
      "image/png": "[encoded data removed]",
      "text/plain": [
       "<Figure size 640x480 with 1 Axes>"
      ]
     },
     "metadata": {},
     "output_type": "display_data"
    }
   ],
   "source": [
    "plt.title('Зависимость качества модели от параметра nlist')\n",
    "plt.plot(range(1, 1001, 100), metric_list)\n",
    "plt.xlabel('nlist')\n",
    "plt.ylabel('Значение метрики')\n",
    "plt.show()"
   ]
  },
  {
   "cell_type": "code",
   "execution_count": 51,
   "id": "d8c4d2f8",
   "metadata": {},
   "outputs": [
    {
     "name": "stderr",
     "output_type": "stream",
     "text": [
      "100%|██████████████████████████████████████████████████████████████████████████████████████████████████████████████████████████████████████████████████████████████████████████████████████████████████| 10/10 [03:42<00:00, 22.27s/it]"
     ]
    },
    {
     "name": "stdout",
     "output_type": "stream",
     "text": [
      "CPU times: total: 38min 7s\n",
      "Wall time: 3min 42s\n"
     ]
    },
    {
     "name": "stderr",
     "output_type": "stream",
     "text": [
      "\n"
     ]
    }
   ],
   "source": [
    "%%time\n",
    "metric_list =[]\n",
    "for nprobe in tqdm(range(1, 101, 10)):    \n",
    "    k = 10\n",
    "    d = len(base.columns)\n",
    "    quantizer = faiss.IndexFlatIP(d)\n",
    "    index = faiss.IndexIVFFlat(quantizer, d, nlist)\n",
    "    assert not index.is_trained\n",
    "    index.train(xb)\n",
    "    assert index.is_trained\n",
    "    index.add(xb)\n",
    "    index.nprobe = nprobe\n",
    "    \n",
    "    D, I = index.search(xq_train_10k, k)\n",
    "    I[I==-1] = 0\n",
    "    predicted_list = []\n",
    "    for candidates in I:\n",
    "        predicted_list.append(' '.join([id_base_dict[candidate] for candidate in candidates]))\n",
    "    \n",
    "    metric_list.append(score_function(target_train_10k, predicted_list))"
   ]
  },
  {
   "cell_type": "markdown",
   "id": "69981791",
   "metadata": {},
   "source": [
    "При увеличении параметра nlist качество модели ухудшается и начинает выравнивается в районе 0,63 - 0,64"
   ]
  },
  {
   "cell_type": "code",
   "execution_count": 52,
   "id": "94ff0d49",
   "metadata": {},
   "outputs": [
    {
     "data": {
      "image/png": "[encoded data removed]",
      "text/plain": [
       "<Figure size 640x480 with 1 Axes>"
      ]
     },
     "metadata": {},
     "output_type": "display_data"
    }
   ],
   "source": [
    "plt.title('Зависимость качества модели от параметра nprobe')\n",
    "plt.plot(range(1, 101, 10), metric_list)\n",
    "plt.xlabel('nprobe')\n",
    "plt.ylabel('Значение метрики')\n",
    "plt.show()"
   ]
  },
  {
   "cell_type": "markdown",
   "id": "8c4ddc7b",
   "metadata": {},
   "source": [
    "При увеличении значения параметра nprode качество улучшается, но всё равно остаётся хуже, чем при значению по умолчанию, хотя и приближается к нему при значениях данного параметра выше 50."
   ]
  },
  {
   "cell_type": "markdown",
   "id": "63e034c7",
   "metadata": {},
   "source": [
    "### KNN"
   ]
  },
  {
   "cell_type": "markdown",
   "id": "8046af2b",
   "metadata": {},
   "source": [
    "Проверим какое качества даст алгоритм ближайших соседей."
   ]
  },
  {
   "cell_type": "code",
   "execution_count": 53,
   "id": "8fc5cf8b",
   "metadata": {},
   "outputs": [
    {
     "data": {
      "text/html": [
       "<style>#sk-container-id-1 {color: black;background-color: white;}#sk-container-id-1 pre{padding: 0;}#sk-container-id-1 div.sk-toggleable {background-color: white;}#sk-container-id-1 label.sk-toggleable__label {cursor: pointer;display: block;width: 100%;margin-bottom: 0;padding: 0.3em;box-sizing: border-box;text-align: center;}#sk-container-id-1 label.sk-toggleable__label-arrow:before {content: \"▸\";float: left;margin-right: 0.25em;color: #696969;}#sk-container-id-1 label.sk-toggleable__label-arrow:hover:before {color: black;}#sk-container-id-1 div.sk-estimator:hover label.sk-toggleable__label-arrow:before {color: black;}#sk-container-id-1 div.sk-toggleable__content {max-height: 0;max-width: 0;overflow: hidden;text-align: left;background-color: #f0f8ff;}#sk-container-id-1 div.sk-toggleable__content pre {margin: 0.2em;color: black;border-radius: 0.25em;background-color: #f0f8ff;}#sk-container-id-1 input.sk-toggleable__control:checked~div.sk-toggleable__content {max-height: 200px;max-width: 100%;overflow: auto;}#sk-container-id-1 input.sk-toggleable__control:checked~label.sk-toggleable__label-arrow:before {content: \"▾\";}#sk-container-id-1 div.sk-estimator input.sk-toggleable__control:checked~label.sk-toggleable__label {background-color: #d4ebff;}#sk-container-id-1 div.sk-label input.sk-toggleable__control:checked~label.sk-toggleable__label {background-color: #d4ebff;}#sk-container-id-1 input.sk-hidden--visually {border: 0;clip: rect(1px 1px 1px 1px);clip: rect(1px, 1px, 1px, 1px);height: 1px;margin: -1px;overflow: hidden;padding: 0;position: absolute;width: 1px;}#sk-container-id-1 div.sk-estimator {font-family: monospace;background-color: #f0f8ff;border: 1px dotted black;border-radius: 0.25em;box-sizing: border-box;margin-bottom: 0.5em;}#sk-container-id-1 div.sk-estimator:hover {background-color: #d4ebff;}#sk-container-id-1 div.sk-parallel-item::after {content: \"\";width: 100%;border-bottom: 1px solid gray;flex-grow: 1;}#sk-container-id-1 div.sk-label:hover label.sk-toggleable__label {background-color: #d4ebff;}#sk-container-id-1 div.sk-serial::before {content: \"\";position: absolute;border-left: 1px solid gray;box-sizing: border-box;top: 0;bottom: 0;left: 50%;z-index: 0;}#sk-container-id-1 div.sk-serial {display: flex;flex-direction: column;align-items: center;background-color: white;padding-right: 0.2em;padding-left: 0.2em;position: relative;}#sk-container-id-1 div.sk-item {position: relative;z-index: 1;}#sk-container-id-1 div.sk-parallel {display: flex;align-items: stretch;justify-content: center;background-color: white;position: relative;}#sk-container-id-1 div.sk-item::before, #sk-container-id-1 div.sk-parallel-item::before {content: \"\";position: absolute;border-left: 1px solid gray;box-sizing: border-box;top: 0;bottom: 0;left: 50%;z-index: -1;}#sk-container-id-1 div.sk-parallel-item {display: flex;flex-direction: column;z-index: 1;position: relative;background-color: white;}#sk-container-id-1 div.sk-parallel-item:first-child::after {align-self: flex-end;width: 50%;}#sk-container-id-1 div.sk-parallel-item:last-child::after {align-self: flex-start;width: 50%;}#sk-container-id-1 div.sk-parallel-item:only-child::after {width: 0;}#sk-container-id-1 div.sk-dashed-wrapped {border: 1px dashed gray;margin: 0 0.4em 0.5em 0.4em;box-sizing: border-box;padding-bottom: 0.4em;background-color: white;}#sk-container-id-1 div.sk-label label {font-family: monospace;font-weight: bold;display: inline-block;line-height: 1.2em;}#sk-container-id-1 div.sk-label-container {text-align: center;}#sk-container-id-1 div.sk-container {/* jupyter's `normalize.less` sets `[hidden] { display: none; }` but bootstrap.min.css set `[hidden] { display: none !important; }` so we also need the `!important` here to be able to override the default hidden behavior on the sphinx rendered scikit-learn.org. See: https://github.com/scikit-learn/scikit-learn/issues/21755 */display: inline-block !important;position: relative;}#sk-container-id-1 div.sk-text-repr-fallback {display: none;}</style><div id=\"sk-container-id-1\" class=\"sk-top-container\"><div class=\"sk-text-repr-fallback\"><pre>NearestNeighbors(metric=&#x27;cosine&#x27;, n_neighbors=10)</pre><b>In a Jupyter environment, please rerun this cell to show the HTML representation or trust the notebook. <br />On GitHub, the HTML representation is unable to render, please try loading this page with nbviewer.org.</b></div><div class=\"sk-container\" hidden><div class=\"sk-item\"><div class=\"sk-estimator sk-toggleable\"><input class=\"sk-toggleable__control sk-hidden--visually\" id=\"sk-estimator-id-1\" type=\"checkbox\" checked><label for=\"sk-estimator-id-1\" class=\"sk-toggleable__label sk-toggleable__label-arrow\">NearestNeighbors</label><div class=\"sk-toggleable__content\"><pre>NearestNeighbors(metric=&#x27;cosine&#x27;, n_neighbors=10)</pre></div></div></div></div></div>"
      ],
      "text/plain": [
       "NearestNeighbors(metric='cosine', n_neighbors=10)"
      ]
     },
     "execution_count": 53,
     "metadata": {},
     "output_type": "execute_result"
    }
   ],
   "source": [
    "knn = NearestNeighbors(n_neighbors=k, metric=\"cosine\")\n",
    "knn.fit(xb)"
   ]
  },
  {
   "cell_type": "code",
   "execution_count": 54,
   "id": "77894a30",
   "metadata": {},
   "outputs": [
    {
     "name": "stderr",
     "output_type": "stream",
     "text": [
      "100%|████████████████████████████████████████████████████████████████████████████████████████████████████████████████████████████████████████████████████████████████████████████████████████| 10000/10000 [00:00<00:00, 128208.93it/s]"
     ]
    },
    {
     "name": "stdout",
     "output_type": "stream",
     "text": [
      "CPU times: total: 11min 50s\n",
      "Wall time: 7min 7s\n"
     ]
    },
    {
     "name": "stderr",
     "output_type": "stream",
     "text": [
      "\n"
     ]
    }
   ],
   "source": [
    "%%time\n",
    "knn_result = knn.kneighbors(xq_train_10k, n_neighbors=k)\n",
    "predicted_list = []\n",
    "for candidates in tqdm(I):\n",
    "    predicted_list.append(' '.join([id_base_dict[candidate] for candidate in candidates]))"
   ]
  },
  {
   "cell_type": "code",
   "execution_count": 55,
   "id": "74a1e167",
   "metadata": {},
   "outputs": [
    {
     "name": "stdout",
     "output_type": "stream",
     "text": [
      "Значение метрики для алгоритма KNN равно 0.7481\n"
     ]
    }
   ],
   "source": [
    "print(\"Значение метрики для алгоритма KNN равно\", score_function(target_train_10k, predicted_list))"
   ]
  },
  {
   "cell_type": "markdown",
   "id": "aaab2ac8",
   "metadata": {},
   "source": [
    "Как видим качество модели ближайших соседей не сильно отличается от Faiss, но работает почти в два раза дольше. Поэтому для предсказания на финальном датасете будем использовать Faiss."
   ]
  },
  {
   "cell_type": "markdown",
   "id": "4861b38d",
   "metadata": {},
   "source": [
    "### Выводы"
   ]
  },
  {
   "cell_type": "markdown",
   "id": "04138fee",
   "metadata": {},
   "source": [
    "В данном разделе были обучены и проанализированны модели Faiss и ближайших соседей. Модель Faiss показала себя немного лучше с точки зрения качества прогноза и значительно лучше с точки зрения производительности. Также в данном разделе были отобраны столбцы, удаление которых позволяет улучшить качество модели (с 0.5679 до 0.7507)."
   ]
  },
  {
   "cell_type": "markdown",
   "id": "b578826d",
   "metadata": {},
   "source": [
    "## Прогнозирование результата на тестовом датсете"
   ]
  },
  {
   "cell_type": "markdown",
   "id": "927e630d",
   "metadata": {},
   "source": [
    "Обучим выбранную модель и спрогназируем данные для тестового датасета."
   ]
  },
  {
   "cell_type": "code",
   "execution_count": 56,
   "id": "e2015f23",
   "metadata": {},
   "outputs": [],
   "source": [
    "d = len(base.columns)\n",
    "nb = base.shape[0] \n",
    "nq = test.shape[0] \n",
    "np.random.seed(134) \n",
    "\n",
    "xb = base.values.astype('float32')\n",
    "xq_test = test.values.astype('float32')\n",
    "\n",
    "nlist = 1\n",
    "k = 10\n",
    "quantizer = faiss.IndexFlatIP(d)\n",
    "index = faiss.IndexIVFFlat(quantizer, d, nlist)\n",
    "assert not index.is_trained\n",
    "index.train(xb)\n",
    "assert index.is_trained\n",
    "index.add(xb)"
   ]
  },
  {
   "cell_type": "code",
   "execution_count": 57,
   "id": "156fb5c3",
   "metadata": {},
   "outputs": [
    {
     "name": "stderr",
     "output_type": "stream",
     "text": [
      "100%|██████████████████████████████████████████████████████████████████████████████████████████████████████████████████████████████████████████████████████████████████████████████████████| 100000/100000 [00:00<00:00, 158982.65it/s]"
     ]
    },
    {
     "name": "stdout",
     "output_type": "stream",
     "text": [
      "CPU times: total: 6h 14min 53s\n",
      "Wall time: 33min 51s\n"
     ]
    },
    {
     "name": "stderr",
     "output_type": "stream",
     "text": [
      "\n"
     ]
    }
   ],
   "source": [
    "%%time\n",
    "D, I = index.search(xq_test, k)\n",
    "\n",
    "predicted_list = []\n",
    "for candidates in tqdm(I):\n",
    "    predicted_list.append(' '.join([id_base_dict[candidate] for candidate in candidates]))"
   ]
  },
  {
   "cell_type": "markdown",
   "id": "b61e74ac",
   "metadata": {},
   "source": [
    "Сохраним прогноз в файл."
   ]
  },
  {
   "cell_type": "code",
   "execution_count": 58,
   "id": "2ff84bcf",
   "metadata": {},
   "outputs": [],
   "source": [
    "df_predict = pd.read_csv(PATH_PROC_TEST)\n",
    "df_predict['Predicted'] = predicted_list\n",
    "\n",
    "df_predict.to_csv(PATH_SAVE_PREDICT, index=False)"
   ]
  },
  {
   "cell_type": "markdown",
   "id": "d57194f2",
   "metadata": {},
   "source": [
    "Метрика на public leaderboard оказалась равна 0.74560"
   ]
  },
  {
   "cell_type": "markdown",
   "id": "f6b38ca9",
   "metadata": {},
   "source": [
    "Сохраним обученную модель в файл."
   ]
  },
  {
   "cell_type": "code",
   "execution_count": 59,
   "id": "00b0a918",
   "metadata": {},
   "outputs": [],
   "source": [
    "with open(PATH_MODEL, 'wb') as f:\n",
    "    pickle.dump(index, f)"
   ]
  },
  {
   "cell_type": "markdown",
   "id": "86d8b75f",
   "metadata": {},
   "source": [
    "## Выводы"
   ]
  },
  {
   "cell_type": "markdown",
   "id": "d61c5efb",
   "metadata": {},
   "source": [
    "При выполнении данной работы были проведены следующие этапы:\n",
    "\n",
    "    1. Разведочный анализ данных, в ходе которого были проанализированны первоначальные данные и было установлено, что данные имеют разные значения и их необходимо будет стандартизировать, поскольку основные алгоритмы, используемые при прогнозировании схожих элементов, как правило используют расстояния между объектами. Также было обнаружено, что некоторые столбцы имеют высокое значение стандартного отклонения и могут содержать шум.\n",
    "    \n",
    "    2. На основе анализа данных была проведена предобработка данных, в результататом данного этапа стало получение подготовленных файлов как для обучения, так и для предсказания.\n",
    "    \n",
    "    3. На стадии обучение моделей был определён список зашумляющих столбцов, удаление которых позволило повысить значение метрики с 0.5679 до 0.7507. Так же были обучены несколько моделей лучшей из которых оказалась Faiss, которая показала на тестовом датасете значение 0,7456 на public leaderboard."
   ]
  },
  {
   "cell_type": "code",
   "execution_count": null,
   "id": "80813041",
   "metadata": {},
   "outputs": [],
   "source": []
  }
 ],
 "metadata": {
  "kernelspec": {
   "display_name": "Python 3 (ipykernel)",
   "language": "python",
   "name": "python3"
  },
  "language_info": {
   "codemirror_mode": {
    "name": "ipython",
    "version": 3
   },
   "file_extension": ".py",
   "mimetype": "text/x-python",
   "name": "python",
   "nbconvert_exporter": "python",
   "pygments_lexer": "ipython3",
   "version": "3.9.13"
  },
  "toc": {
   "base_numbering": 1,
   "nav_menu": {},
   "number_sections": true,
   "sideBar": true,
   "skip_h1_title": true,
   "title_cell": "Table of Contents",
   "title_sidebar": "Contents",
   "toc_cell": false,
   "toc_position": {
    "height": "calc(100% - 180px)",
    "left": "10px",
    "top": "150px",
    "width": "349.078px"
   },
   "toc_section_display": true,
   "toc_window_display": true
  },
  "varInspector": {
   "cols": {
    "lenName": 16,
    "lenType": 16,
    "lenVar": 40
   },
   "kernels_config": {
    "python": {
     "delete_cmd_postfix": "",
     "delete_cmd_prefix": "del ",
     "library": "var_list.py",
     "varRefreshCmd": "print(var_dic_list())"
    },
    "r": {
     "delete_cmd_postfix": ") ",
     "delete_cmd_prefix": "rm(",
     "library": "var_list.r",
     "varRefreshCmd": "cat(var_dic_list()) "
    }
   },
   "types_to_exclude": [
    "module",
    "function",
    "builtin_function_or_method",
    "instance",
    "_Feature"
   ],
   "window_display": false
  }
 },
 "nbformat": 4,
 "nbformat_minor": 5
}
