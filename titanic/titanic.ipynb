{
 "cells": [
  {
   "cell_type": "markdown",
   "id": "1a8d3288",
   "metadata": {},
   "source": [
    "# Titanic - ML"
   ]
  },
  {
   "cell_type": "markdown",
   "id": "9acc8226",
   "metadata": {},
   "source": [
    "Задание с  платформы Kaggle https://www.kaggle.com/competitions/titanic/overview Нашей целью будет обучить модель, которая сможет предсказывать выжил ли пассажир Титаника исходя из известных нам данных. В качетсве метрики качества будет использоваться accuracy.\n",
    "\n",
    "В ходе проекта нам необходимо будет изучить и подготовить данные, обучить несколько моделей машинного обучения, подобрать к ним гиперпараметры, выбрать лучшую и проверить её на тестовой выборке."
   ]
  },
  {
   "cell_type": "code",
   "execution_count": 1,
   "id": "284154d2",
   "metadata": {},
   "outputs": [],
   "source": [
    "import pandas as pd\n",
    "import numpy as np\n",
    "import seaborn as sns\n",
    "import matplotlib.pyplot as plt\n",
    "\n",
    "import copy\n",
    "\n",
    "from sklearn.preprocessing import OneHotEncoder\n",
    "from sklearn.model_selection import train_test_split\n",
    "\n",
    "from sklearn.model_selection import GridSearchCV, KFold, StratifiedKFold\n",
    "\n",
    "from sklearn.dummy import DummyClassifier\n",
    "from sklearn.linear_model import LogisticRegression, LogisticRegressionCV\n",
    "from sklearn.tree import DecisionTreeClassifier\n",
    "from sklearn.ensemble import RandomForestClassifier\n",
    "from sklearn.neighbors import KNeighborsClassifier\n",
    "\n",
    "from sklearn.pipeline import Pipeline, FeatureUnion\n",
    "from sklearn.impute import SimpleImputer\n",
    "from sklearn.preprocessing import StandardScaler\n",
    "from sklearn.base import BaseEstimator, TransformerMixin\n",
    "\n",
    "from catboost import CatBoostClassifier\n",
    "from catboost import cv\n",
    "from catboost import Pool\n",
    "\n",
    "from sklearn.metrics import accuracy_score, plot_roc_curve, roc_curve\n",
    "\n",
    "from tqdm import notebook \n",
    "from tqdm.notebook import tqdm"
   ]
  },
  {
   "cell_type": "markdown",
   "id": "e84b86ca",
   "metadata": {},
   "source": [
    "## Предварительный анализ данных"
   ]
  },
  {
   "cell_type": "markdown",
   "id": "383d0649",
   "metadata": {},
   "source": [
    "В данном разделе откроем и изучим данные, построим ряд диаграмм, чтобы посмотреть как распределены наши данные."
   ]
  },
  {
   "cell_type": "code",
   "execution_count": 2,
   "id": "055a8c34",
   "metadata": {},
   "outputs": [
    {
     "data": {
      "text/html": [
       "<div>\n",
       "<style scoped>\n",
       "    .dataframe tbody tr th:only-of-type {\n",
       "        vertical-align: middle;\n",
       "    }\n",
       "\n",
       "    .dataframe tbody tr th {\n",
       "        vertical-align: top;\n",
       "    }\n",
       "\n",
       "    .dataframe thead th {\n",
       "        text-align: right;\n",
       "    }\n",
       "</style>\n",
       "<table border=\"1\" class=\"dataframe\">\n",
       "  <thead>\n",
       "    <tr style=\"text-align: right;\">\n",
       "      <th></th>\n",
       "      <th>PassengerId</th>\n",
       "      <th>Survived</th>\n",
       "      <th>Pclass</th>\n",
       "      <th>Name</th>\n",
       "      <th>Sex</th>\n",
       "      <th>Age</th>\n",
       "      <th>SibSp</th>\n",
       "      <th>Parch</th>\n",
       "      <th>Ticket</th>\n",
       "      <th>Fare</th>\n",
       "      <th>Cabin</th>\n",
       "      <th>Embarked</th>\n",
       "    </tr>\n",
       "  </thead>\n",
       "  <tbody>\n",
       "    <tr>\n",
       "      <th>0</th>\n",
       "      <td>1</td>\n",
       "      <td>0</td>\n",
       "      <td>3</td>\n",
       "      <td>Braund, Mr. Owen Harris</td>\n",
       "      <td>male</td>\n",
       "      <td>22.0</td>\n",
       "      <td>1</td>\n",
       "      <td>0</td>\n",
       "      <td>A/5 21171</td>\n",
       "      <td>7.2500</td>\n",
       "      <td>NaN</td>\n",
       "      <td>S</td>\n",
       "    </tr>\n",
       "    <tr>\n",
       "      <th>1</th>\n",
       "      <td>2</td>\n",
       "      <td>1</td>\n",
       "      <td>1</td>\n",
       "      <td>Cumings, Mrs. John Bradley (Florence Briggs Th...</td>\n",
       "      <td>female</td>\n",
       "      <td>38.0</td>\n",
       "      <td>1</td>\n",
       "      <td>0</td>\n",
       "      <td>PC 17599</td>\n",
       "      <td>71.2833</td>\n",
       "      <td>C85</td>\n",
       "      <td>C</td>\n",
       "    </tr>\n",
       "    <tr>\n",
       "      <th>2</th>\n",
       "      <td>3</td>\n",
       "      <td>1</td>\n",
       "      <td>3</td>\n",
       "      <td>Heikkinen, Miss. Laina</td>\n",
       "      <td>female</td>\n",
       "      <td>26.0</td>\n",
       "      <td>0</td>\n",
       "      <td>0</td>\n",
       "      <td>STON/O2. 3101282</td>\n",
       "      <td>7.9250</td>\n",
       "      <td>NaN</td>\n",
       "      <td>S</td>\n",
       "    </tr>\n",
       "    <tr>\n",
       "      <th>3</th>\n",
       "      <td>4</td>\n",
       "      <td>1</td>\n",
       "      <td>1</td>\n",
       "      <td>Futrelle, Mrs. Jacques Heath (Lily May Peel)</td>\n",
       "      <td>female</td>\n",
       "      <td>35.0</td>\n",
       "      <td>1</td>\n",
       "      <td>0</td>\n",
       "      <td>113803</td>\n",
       "      <td>53.1000</td>\n",
       "      <td>C123</td>\n",
       "      <td>S</td>\n",
       "    </tr>\n",
       "    <tr>\n",
       "      <th>4</th>\n",
       "      <td>5</td>\n",
       "      <td>0</td>\n",
       "      <td>3</td>\n",
       "      <td>Allen, Mr. William Henry</td>\n",
       "      <td>male</td>\n",
       "      <td>35.0</td>\n",
       "      <td>0</td>\n",
       "      <td>0</td>\n",
       "      <td>373450</td>\n",
       "      <td>8.0500</td>\n",
       "      <td>NaN</td>\n",
       "      <td>S</td>\n",
       "    </tr>\n",
       "    <tr>\n",
       "      <th>...</th>\n",
       "      <td>...</td>\n",
       "      <td>...</td>\n",
       "      <td>...</td>\n",
       "      <td>...</td>\n",
       "      <td>...</td>\n",
       "      <td>...</td>\n",
       "      <td>...</td>\n",
       "      <td>...</td>\n",
       "      <td>...</td>\n",
       "      <td>...</td>\n",
       "      <td>...</td>\n",
       "      <td>...</td>\n",
       "    </tr>\n",
       "    <tr>\n",
       "      <th>886</th>\n",
       "      <td>887</td>\n",
       "      <td>0</td>\n",
       "      <td>2</td>\n",
       "      <td>Montvila, Rev. Juozas</td>\n",
       "      <td>male</td>\n",
       "      <td>27.0</td>\n",
       "      <td>0</td>\n",
       "      <td>0</td>\n",
       "      <td>211536</td>\n",
       "      <td>13.0000</td>\n",
       "      <td>NaN</td>\n",
       "      <td>S</td>\n",
       "    </tr>\n",
       "    <tr>\n",
       "      <th>887</th>\n",
       "      <td>888</td>\n",
       "      <td>1</td>\n",
       "      <td>1</td>\n",
       "      <td>Graham, Miss. Margaret Edith</td>\n",
       "      <td>female</td>\n",
       "      <td>19.0</td>\n",
       "      <td>0</td>\n",
       "      <td>0</td>\n",
       "      <td>112053</td>\n",
       "      <td>30.0000</td>\n",
       "      <td>B42</td>\n",
       "      <td>S</td>\n",
       "    </tr>\n",
       "    <tr>\n",
       "      <th>888</th>\n",
       "      <td>889</td>\n",
       "      <td>0</td>\n",
       "      <td>3</td>\n",
       "      <td>Johnston, Miss. Catherine Helen \"Carrie\"</td>\n",
       "      <td>female</td>\n",
       "      <td>NaN</td>\n",
       "      <td>1</td>\n",
       "      <td>2</td>\n",
       "      <td>W./C. 6607</td>\n",
       "      <td>23.4500</td>\n",
       "      <td>NaN</td>\n",
       "      <td>S</td>\n",
       "    </tr>\n",
       "    <tr>\n",
       "      <th>889</th>\n",
       "      <td>890</td>\n",
       "      <td>1</td>\n",
       "      <td>1</td>\n",
       "      <td>Behr, Mr. Karl Howell</td>\n",
       "      <td>male</td>\n",
       "      <td>26.0</td>\n",
       "      <td>0</td>\n",
       "      <td>0</td>\n",
       "      <td>111369</td>\n",
       "      <td>30.0000</td>\n",
       "      <td>C148</td>\n",
       "      <td>C</td>\n",
       "    </tr>\n",
       "    <tr>\n",
       "      <th>890</th>\n",
       "      <td>891</td>\n",
       "      <td>0</td>\n",
       "      <td>3</td>\n",
       "      <td>Dooley, Mr. Patrick</td>\n",
       "      <td>male</td>\n",
       "      <td>32.0</td>\n",
       "      <td>0</td>\n",
       "      <td>0</td>\n",
       "      <td>370376</td>\n",
       "      <td>7.7500</td>\n",
       "      <td>NaN</td>\n",
       "      <td>Q</td>\n",
       "    </tr>\n",
       "  </tbody>\n",
       "</table>\n",
       "<p>891 rows × 12 columns</p>\n",
       "</div>"
      ],
      "text/plain": [
       "     PassengerId  Survived  Pclass  \\\n",
       "0              1         0       3   \n",
       "1              2         1       1   \n",
       "2              3         1       3   \n",
       "3              4         1       1   \n",
       "4              5         0       3   \n",
       "..           ...       ...     ...   \n",
       "886          887         0       2   \n",
       "887          888         1       1   \n",
       "888          889         0       3   \n",
       "889          890         1       1   \n",
       "890          891         0       3   \n",
       "\n",
       "                                                  Name     Sex   Age  SibSp  \\\n",
       "0                              Braund, Mr. Owen Harris    male  22.0      1   \n",
       "1    Cumings, Mrs. John Bradley (Florence Briggs Th...  female  38.0      1   \n",
       "2                               Heikkinen, Miss. Laina  female  26.0      0   \n",
       "3         Futrelle, Mrs. Jacques Heath (Lily May Peel)  female  35.0      1   \n",
       "4                             Allen, Mr. William Henry    male  35.0      0   \n",
       "..                                                 ...     ...   ...    ...   \n",
       "886                              Montvila, Rev. Juozas    male  27.0      0   \n",
       "887                       Graham, Miss. Margaret Edith  female  19.0      0   \n",
       "888           Johnston, Miss. Catherine Helen \"Carrie\"  female   NaN      1   \n",
       "889                              Behr, Mr. Karl Howell    male  26.0      0   \n",
       "890                                Dooley, Mr. Patrick    male  32.0      0   \n",
       "\n",
       "     Parch            Ticket     Fare Cabin Embarked  \n",
       "0        0         A/5 21171   7.2500   NaN        S  \n",
       "1        0          PC 17599  71.2833   C85        C  \n",
       "2        0  STON/O2. 3101282   7.9250   NaN        S  \n",
       "3        0            113803  53.1000  C123        S  \n",
       "4        0            373450   8.0500   NaN        S  \n",
       "..     ...               ...      ...   ...      ...  \n",
       "886      0            211536  13.0000   NaN        S  \n",
       "887      0            112053  30.0000   B42        S  \n",
       "888      2        W./C. 6607  23.4500   NaN        S  \n",
       "889      0            111369  30.0000  C148        C  \n",
       "890      0            370376   7.7500   NaN        Q  \n",
       "\n",
       "[891 rows x 12 columns]"
      ]
     },
     "metadata": {},
     "output_type": "display_data"
    }
   ],
   "source": [
    "data = pd.read_csv('train.csv')\n",
    "display(data)"
   ]
  },
  {
   "cell_type": "code",
   "execution_count": 3,
   "id": "7b8e3f55",
   "metadata": {},
   "outputs": [
    {
     "name": "stdout",
     "output_type": "stream",
     "text": [
      "<class 'pandas.core.frame.DataFrame'>\n",
      "RangeIndex: 891 entries, 0 to 890\n",
      "Data columns (total 12 columns):\n",
      " #   Column       Non-Null Count  Dtype  \n",
      "---  ------       --------------  -----  \n",
      " 0   PassengerId  891 non-null    int64  \n",
      " 1   Survived     891 non-null    int64  \n",
      " 2   Pclass       891 non-null    int64  \n",
      " 3   Name         891 non-null    object \n",
      " 4   Sex          891 non-null    object \n",
      " 5   Age          714 non-null    float64\n",
      " 6   SibSp        891 non-null    int64  \n",
      " 7   Parch        891 non-null    int64  \n",
      " 8   Ticket       891 non-null    object \n",
      " 9   Fare         891 non-null    float64\n",
      " 10  Cabin        204 non-null    object \n",
      " 11  Embarked     889 non-null    object \n",
      "dtypes: float64(2), int64(5), object(5)\n",
      "memory usage: 83.7+ KB\n"
     ]
    }
   ],
   "source": [
    "data.info()"
   ]
  },
  {
   "cell_type": "markdown",
   "id": "cd40770a",
   "metadata": {},
   "source": [
    "В тренировочном датасете 891 строк, в некоторых из них есть пропуски. Посмотрим количество пропусков в каждом столбце."
   ]
  },
  {
   "cell_type": "code",
   "execution_count": 4,
   "id": "9c6ae405",
   "metadata": {},
   "outputs": [
    {
     "data": {
      "text/plain": [
       "PassengerId      0\n",
       "Survived         0\n",
       "Pclass           0\n",
       "Name             0\n",
       "Sex              0\n",
       "Age            177\n",
       "SibSp            0\n",
       "Parch            0\n",
       "Ticket           0\n",
       "Fare             0\n",
       "Cabin          687\n",
       "Embarked         2\n",
       "dtype: int64"
      ]
     },
     "execution_count": 4,
     "metadata": {},
     "output_type": "execute_result"
    }
   ],
   "source": [
    "data.isna().sum()"
   ]
  },
  {
   "cell_type": "markdown",
   "id": "78bbb9cf",
   "metadata": {},
   "source": [
    "Больше всего пропусков в столбце с номером каюты. Вероятнее всего от него придётся избавиться. Также есть пропуски в столбце с возрастом и с портом посадки, эти пропуски необходимо будет как-то обработать. Выведем отдельно информацию по числовым и категориальным признакам"
   ]
  },
  {
   "cell_type": "code",
   "execution_count": 5,
   "id": "8e810c12",
   "metadata": {},
   "outputs": [
    {
     "data": {
      "text/html": [
       "<div>\n",
       "<style scoped>\n",
       "    .dataframe tbody tr th:only-of-type {\n",
       "        vertical-align: middle;\n",
       "    }\n",
       "\n",
       "    .dataframe tbody tr th {\n",
       "        vertical-align: top;\n",
       "    }\n",
       "\n",
       "    .dataframe thead th {\n",
       "        text-align: right;\n",
       "    }\n",
       "</style>\n",
       "<table border=\"1\" class=\"dataframe\">\n",
       "  <thead>\n",
       "    <tr style=\"text-align: right;\">\n",
       "      <th></th>\n",
       "      <th>PassengerId</th>\n",
       "      <th>Survived</th>\n",
       "      <th>Pclass</th>\n",
       "      <th>Age</th>\n",
       "      <th>SibSp</th>\n",
       "      <th>Parch</th>\n",
       "      <th>Fare</th>\n",
       "    </tr>\n",
       "  </thead>\n",
       "  <tbody>\n",
       "    <tr>\n",
       "      <th>count</th>\n",
       "      <td>891.000000</td>\n",
       "      <td>891.000000</td>\n",
       "      <td>891.000000</td>\n",
       "      <td>714.000000</td>\n",
       "      <td>891.000000</td>\n",
       "      <td>891.000000</td>\n",
       "      <td>891.000000</td>\n",
       "    </tr>\n",
       "    <tr>\n",
       "      <th>mean</th>\n",
       "      <td>446.000000</td>\n",
       "      <td>0.383838</td>\n",
       "      <td>2.308642</td>\n",
       "      <td>29.699118</td>\n",
       "      <td>0.523008</td>\n",
       "      <td>0.381594</td>\n",
       "      <td>32.204208</td>\n",
       "    </tr>\n",
       "    <tr>\n",
       "      <th>std</th>\n",
       "      <td>257.353842</td>\n",
       "      <td>0.486592</td>\n",
       "      <td>0.836071</td>\n",
       "      <td>14.526497</td>\n",
       "      <td>1.102743</td>\n",
       "      <td>0.806057</td>\n",
       "      <td>49.693429</td>\n",
       "    </tr>\n",
       "    <tr>\n",
       "      <th>min</th>\n",
       "      <td>1.000000</td>\n",
       "      <td>0.000000</td>\n",
       "      <td>1.000000</td>\n",
       "      <td>0.420000</td>\n",
       "      <td>0.000000</td>\n",
       "      <td>0.000000</td>\n",
       "      <td>0.000000</td>\n",
       "    </tr>\n",
       "    <tr>\n",
       "      <th>25%</th>\n",
       "      <td>223.500000</td>\n",
       "      <td>0.000000</td>\n",
       "      <td>2.000000</td>\n",
       "      <td>20.125000</td>\n",
       "      <td>0.000000</td>\n",
       "      <td>0.000000</td>\n",
       "      <td>7.910400</td>\n",
       "    </tr>\n",
       "    <tr>\n",
       "      <th>50%</th>\n",
       "      <td>446.000000</td>\n",
       "      <td>0.000000</td>\n",
       "      <td>3.000000</td>\n",
       "      <td>28.000000</td>\n",
       "      <td>0.000000</td>\n",
       "      <td>0.000000</td>\n",
       "      <td>14.454200</td>\n",
       "    </tr>\n",
       "    <tr>\n",
       "      <th>75%</th>\n",
       "      <td>668.500000</td>\n",
       "      <td>1.000000</td>\n",
       "      <td>3.000000</td>\n",
       "      <td>38.000000</td>\n",
       "      <td>1.000000</td>\n",
       "      <td>0.000000</td>\n",
       "      <td>31.000000</td>\n",
       "    </tr>\n",
       "    <tr>\n",
       "      <th>max</th>\n",
       "      <td>891.000000</td>\n",
       "      <td>1.000000</td>\n",
       "      <td>3.000000</td>\n",
       "      <td>80.000000</td>\n",
       "      <td>8.000000</td>\n",
       "      <td>6.000000</td>\n",
       "      <td>512.329200</td>\n",
       "    </tr>\n",
       "  </tbody>\n",
       "</table>\n",
       "</div>"
      ],
      "text/plain": [
       "       PassengerId    Survived      Pclass         Age       SibSp  \\\n",
       "count   891.000000  891.000000  891.000000  714.000000  891.000000   \n",
       "mean    446.000000    0.383838    2.308642   29.699118    0.523008   \n",
       "std     257.353842    0.486592    0.836071   14.526497    1.102743   \n",
       "min       1.000000    0.000000    1.000000    0.420000    0.000000   \n",
       "25%     223.500000    0.000000    2.000000   20.125000    0.000000   \n",
       "50%     446.000000    0.000000    3.000000   28.000000    0.000000   \n",
       "75%     668.500000    1.000000    3.000000   38.000000    1.000000   \n",
       "max     891.000000    1.000000    3.000000   80.000000    8.000000   \n",
       "\n",
       "            Parch        Fare  \n",
       "count  891.000000  891.000000  \n",
       "mean     0.381594   32.204208  \n",
       "std      0.806057   49.693429  \n",
       "min      0.000000    0.000000  \n",
       "25%      0.000000    7.910400  \n",
       "50%      0.000000   14.454200  \n",
       "75%      0.000000   31.000000  \n",
       "max      6.000000  512.329200  "
      ]
     },
     "execution_count": 5,
     "metadata": {},
     "output_type": "execute_result"
    }
   ],
   "source": [
    "data.describe(include='number')"
   ]
  },
  {
   "cell_type": "markdown",
   "id": "406a2b7a",
   "metadata": {},
   "source": [
    "По числовым данным от столбца 'PassengerId' необходимо будет избавиться - он не несёт информативной нагрузки и использовать его в дальнейшем обучении не получится. Данные в остальных столбцах выглядят правдоподобно. "
   ]
  },
  {
   "cell_type": "code",
   "execution_count": 6,
   "id": "384aba19",
   "metadata": {},
   "outputs": [
    {
     "data": {
      "text/html": [
       "<div>\n",
       "<style scoped>\n",
       "    .dataframe tbody tr th:only-of-type {\n",
       "        vertical-align: middle;\n",
       "    }\n",
       "\n",
       "    .dataframe tbody tr th {\n",
       "        vertical-align: top;\n",
       "    }\n",
       "\n",
       "    .dataframe thead th {\n",
       "        text-align: right;\n",
       "    }\n",
       "</style>\n",
       "<table border=\"1\" class=\"dataframe\">\n",
       "  <thead>\n",
       "    <tr style=\"text-align: right;\">\n",
       "      <th></th>\n",
       "      <th>Name</th>\n",
       "      <th>Sex</th>\n",
       "      <th>Ticket</th>\n",
       "      <th>Cabin</th>\n",
       "      <th>Embarked</th>\n",
       "    </tr>\n",
       "  </thead>\n",
       "  <tbody>\n",
       "    <tr>\n",
       "      <th>count</th>\n",
       "      <td>891</td>\n",
       "      <td>891</td>\n",
       "      <td>891</td>\n",
       "      <td>204</td>\n",
       "      <td>889</td>\n",
       "    </tr>\n",
       "    <tr>\n",
       "      <th>unique</th>\n",
       "      <td>891</td>\n",
       "      <td>2</td>\n",
       "      <td>681</td>\n",
       "      <td>147</td>\n",
       "      <td>3</td>\n",
       "    </tr>\n",
       "    <tr>\n",
       "      <th>top</th>\n",
       "      <td>Braund, Mr. Owen Harris</td>\n",
       "      <td>male</td>\n",
       "      <td>347082</td>\n",
       "      <td>B96 B98</td>\n",
       "      <td>S</td>\n",
       "    </tr>\n",
       "    <tr>\n",
       "      <th>freq</th>\n",
       "      <td>1</td>\n",
       "      <td>577</td>\n",
       "      <td>7</td>\n",
       "      <td>4</td>\n",
       "      <td>644</td>\n",
       "    </tr>\n",
       "  </tbody>\n",
       "</table>\n",
       "</div>"
      ],
      "text/plain": [
       "                           Name   Sex  Ticket    Cabin Embarked\n",
       "count                       891   891     891      204      889\n",
       "unique                      891     2     681      147        3\n",
       "top     Braund, Mr. Owen Harris  male  347082  B96 B98        S\n",
       "freq                          1   577       7        4      644"
      ]
     },
     "execution_count": 6,
     "metadata": {},
     "output_type": "execute_result"
    }
   ],
   "source": [
    "data.describe(exclude='number')"
   ]
  },
  {
   "cell_type": "markdown",
   "id": "b42dd604",
   "metadata": {},
   "source": [
    "По категориальным признакам все имена уникальные, в графе пол всего два значения. Данные по билетам и каютам необходимо будет удалить. В столбце порт посадке есть 3 уникальных порта C = Cherbourg, Q = Queenstown, S = Southampton."
   ]
  },
  {
   "cell_type": "markdown",
   "id": "56e00fbd",
   "metadata": {},
   "source": [
    "Изучим целевой признак Survived. Выедем информацию по уникалным значениям"
   ]
  },
  {
   "cell_type": "code",
   "execution_count": 7,
   "id": "fe1fba1b",
   "metadata": {},
   "outputs": [
    {
     "data": {
      "text/plain": [
       "0    549\n",
       "1    342\n",
       "Name: Survived, dtype: int64"
      ]
     },
     "execution_count": 7,
     "metadata": {},
     "output_type": "execute_result"
    }
   ],
   "source": [
    "data['Survived'].value_counts()"
   ]
  },
  {
   "cell_type": "markdown",
   "id": "cde680a1",
   "metadata": {},
   "source": [
    "Данные в этом столбце принимают только 2 значения, соответственно мы имеет дело с задачей классификации. Целевой признак немного несбалансирован и это нужно будет учесть в ходе обучения моделей"
   ]
  },
  {
   "cell_type": "markdown",
   "id": "fe897129",
   "metadata": {},
   "source": [
    "Выведем информацию о проценте выживаемости в целом по датасету"
   ]
  },
  {
   "cell_type": "code",
   "execution_count": 8,
   "id": "675fc6a0",
   "metadata": {},
   "outputs": [
    {
     "data": {
      "text/plain": [
       "0.3838383838383838"
      ]
     },
     "execution_count": 8,
     "metadata": {},
     "output_type": "execute_result"
    }
   ],
   "source": [
    "data['Survived'].mean()"
   ]
  },
  {
   "cell_type": "markdown",
   "id": "14d6d31d",
   "metadata": {},
   "source": [
    "Изучим влияют ли пропуски в столбцах на процент выживаемости. Начнём с возраста"
   ]
  },
  {
   "cell_type": "code",
   "execution_count": 9,
   "id": "284656fb",
   "metadata": {},
   "outputs": [
    {
     "data": {
      "text/plain": [
       "0.2937853107344633"
      ]
     },
     "execution_count": 9,
     "metadata": {},
     "output_type": "execute_result"
    }
   ],
   "source": [
    "data[data['Age'].isna()]['Survived'].mean()"
   ]
  },
  {
   "cell_type": "markdown",
   "id": "018a90bd",
   "metadata": {},
   "source": [
    "Как видно из полученных данных при отсутсвии информации о возрасте пассажира выживаемссть становиться ниже средней на 10 процентов. В дальнейшем создадим соответствующий столбце, где выведем данную информацию."
   ]
  },
  {
   "cell_type": "markdown",
   "id": "eaadd250",
   "metadata": {},
   "source": [
    "В столбце Embarked всего 2 пропуска, поэтому его анализировать не эффективно, любые зависимости в нём могут быть случайными. Рассмотрим столбец с каютами."
   ]
  },
  {
   "cell_type": "code",
   "execution_count": 10,
   "id": "ad2418ae",
   "metadata": {},
   "outputs": [
    {
     "data": {
      "text/plain": [
       "0.29985443959243085"
      ]
     },
     "execution_count": 10,
     "metadata": {},
     "output_type": "execute_result"
    }
   ],
   "source": [
    "data[data['Cabin'].isna()]['Survived'].mean()"
   ]
  },
  {
   "cell_type": "markdown",
   "id": "2f78dc2e",
   "metadata": {},
   "source": [
    "Отсутсвие информации в данном столбце также влияет на выживаемость, поэтому его мы тоже закодируем."
   ]
  },
  {
   "cell_type": "markdown",
   "id": "a873cc9d",
   "metadata": {},
   "source": [
    "Рассмотрим данные по классу каюты, выведем уникальные значения в данном столбце и потом сгруппируем данные по ним."
   ]
  },
  {
   "cell_type": "code",
   "execution_count": 11,
   "id": "e3239309",
   "metadata": {},
   "outputs": [
    {
     "data": {
      "text/plain": [
       "3    491\n",
       "1    216\n",
       "2    184\n",
       "Name: Pclass, dtype: int64"
      ]
     },
     "execution_count": 11,
     "metadata": {},
     "output_type": "execute_result"
    }
   ],
   "source": [
    "data['Pclass'].value_counts()"
   ]
  },
  {
   "cell_type": "code",
   "execution_count": 12,
   "id": "99d5c767",
   "metadata": {
    "scrolled": true
   },
   "outputs": [
    {
     "data": {
      "text/html": [
       "<div>\n",
       "<style scoped>\n",
       "    .dataframe tbody tr th:only-of-type {\n",
       "        vertical-align: middle;\n",
       "    }\n",
       "\n",
       "    .dataframe tbody tr th {\n",
       "        vertical-align: top;\n",
       "    }\n",
       "\n",
       "    .dataframe thead tr th {\n",
       "        text-align: left;\n",
       "    }\n",
       "\n",
       "    .dataframe thead tr:last-of-type th {\n",
       "        text-align: right;\n",
       "    }\n",
       "</style>\n",
       "<table border=\"1\" class=\"dataframe\">\n",
       "  <thead>\n",
       "    <tr>\n",
       "      <th></th>\n",
       "      <th>count</th>\n",
       "      <th>mean</th>\n",
       "    </tr>\n",
       "    <tr>\n",
       "      <th></th>\n",
       "      <th>Survived</th>\n",
       "      <th>Survived</th>\n",
       "    </tr>\n",
       "    <tr>\n",
       "      <th>Pclass</th>\n",
       "      <th></th>\n",
       "      <th></th>\n",
       "    </tr>\n",
       "  </thead>\n",
       "  <tbody>\n",
       "    <tr>\n",
       "      <th>1</th>\n",
       "      <td>216</td>\n",
       "      <td>0.629630</td>\n",
       "    </tr>\n",
       "    <tr>\n",
       "      <th>2</th>\n",
       "      <td>184</td>\n",
       "      <td>0.472826</td>\n",
       "    </tr>\n",
       "    <tr>\n",
       "      <th>3</th>\n",
       "      <td>491</td>\n",
       "      <td>0.242363</td>\n",
       "    </tr>\n",
       "  </tbody>\n",
       "</table>\n",
       "</div>"
      ],
      "text/plain": [
       "          count      mean\n",
       "       Survived  Survived\n",
       "Pclass                   \n",
       "1           216  0.629630\n",
       "2           184  0.472826\n",
       "3           491  0.242363"
      ]
     },
     "execution_count": 12,
     "metadata": {},
     "output_type": "execute_result"
    }
   ],
   "source": [
    "data.pivot_table(index='Pclass', values='Survived', aggfunc=['count','mean'])"
   ]
  },
  {
   "cell_type": "markdown",
   "id": "4ba5bd5f",
   "metadata": {},
   "source": [
    "Для большей наглядности построим диаграмму распределения пассажиров по классу"
   ]
  },
  {
   "cell_type": "code",
   "execution_count": 13,
   "id": "6a6a2658",
   "metadata": {},
   "outputs": [
    {
     "data": {
      "text/plain": [
       "Text(0, 0.5, 'Количество пассжиров')"
      ]
     },
     "execution_count": 13,
     "metadata": {},
     "output_type": "execute_result"
    },
    {
     "data": {
      "image/png": "[encoded data removed]",
      "text/plain": [
       "<Figure size 720x432 with 1 Axes>"
      ]
     },
     "metadata": {
      "needs_background": "light"
     },
     "output_type": "display_data"
    }
   ],
   "source": [
    "plt.figure(figsize=(10,6))\n",
    "plt.title('Колчиество выживших и погибших пасажиров в зависимости от класса')\n",
    "\n",
    "bar = sns.barplot(data=data.pivot_table(index=['Pclass','Survived'], values='PassengerId', aggfunc='count').reset_index(drop=False), \n",
    "                   x='Pclass', \n",
    "                   y='PassengerId', \n",
    "                   hue='Survived')\n",
    "\n",
    "bar.set_xlabel('Класс каюты пассажира')\n",
    "bar.set_ylabel('Количество пассжиров')"
   ]
  },
  {
   "cell_type": "markdown",
   "id": "7af4a9e3",
   "metadata": {},
   "source": [
    "В исходных данных всего 3 класса. Больше всего путешественников было пассажирами 3 класа, при этом среди них был самый низкий процент выживших на борту."
   ]
  },
  {
   "cell_type": "markdown",
   "id": "f29fd486",
   "metadata": {},
   "source": [
    "Изучим влияние пола пассажира на процент выживаемости. Сначала отдельно, потом с учётом класса пассажира."
   ]
  },
  {
   "cell_type": "code",
   "execution_count": 14,
   "id": "7b74bb23",
   "metadata": {},
   "outputs": [
    {
     "data": {
      "text/html": [
       "<div>\n",
       "<style scoped>\n",
       "    .dataframe tbody tr th:only-of-type {\n",
       "        vertical-align: middle;\n",
       "    }\n",
       "\n",
       "    .dataframe tbody tr th {\n",
       "        vertical-align: top;\n",
       "    }\n",
       "\n",
       "    .dataframe thead tr th {\n",
       "        text-align: left;\n",
       "    }\n",
       "\n",
       "    .dataframe thead tr:last-of-type th {\n",
       "        text-align: right;\n",
       "    }\n",
       "</style>\n",
       "<table border=\"1\" class=\"dataframe\">\n",
       "  <thead>\n",
       "    <tr>\n",
       "      <th></th>\n",
       "      <th>count</th>\n",
       "      <th>mean</th>\n",
       "    </tr>\n",
       "    <tr>\n",
       "      <th></th>\n",
       "      <th>Survived</th>\n",
       "      <th>Survived</th>\n",
       "    </tr>\n",
       "    <tr>\n",
       "      <th>Sex</th>\n",
       "      <th></th>\n",
       "      <th></th>\n",
       "    </tr>\n",
       "  </thead>\n",
       "  <tbody>\n",
       "    <tr>\n",
       "      <th>female</th>\n",
       "      <td>314</td>\n",
       "      <td>0.742038</td>\n",
       "    </tr>\n",
       "    <tr>\n",
       "      <th>male</th>\n",
       "      <td>577</td>\n",
       "      <td>0.188908</td>\n",
       "    </tr>\n",
       "  </tbody>\n",
       "</table>\n",
       "</div>"
      ],
      "text/plain": [
       "          count      mean\n",
       "       Survived  Survived\n",
       "Sex                      \n",
       "female      314  0.742038\n",
       "male        577  0.188908"
      ]
     },
     "execution_count": 14,
     "metadata": {},
     "output_type": "execute_result"
    }
   ],
   "source": [
    "data.pivot_table(index='Sex', values='Survived', aggfunc=['count', 'mean'])"
   ]
  },
  {
   "cell_type": "markdown",
   "id": "12c81f53",
   "metadata": {},
   "source": [
    "Построим соответствующую диаграмму"
   ]
  },
  {
   "cell_type": "code",
   "execution_count": 15,
   "id": "cb556e69",
   "metadata": {},
   "outputs": [
    {
     "data": {
      "text/plain": [
       "Text(0, 0.5, 'Количество пассжиров')"
      ]
     },
     "execution_count": 15,
     "metadata": {},
     "output_type": "execute_result"
    },
    {
     "data": {
      "image/png": "[encoded data removed]",
      "text/plain": [
       "<Figure size 720x432 with 1 Axes>"
      ]
     },
     "metadata": {
      "needs_background": "light"
     },
     "output_type": "display_data"
    }
   ],
   "source": [
    "plt.figure(figsize=(10,6))\n",
    "plt.title('Колчиество выживших и погибших пасажиров в зависимости от пола')\n",
    "\n",
    "bar = sns.barplot(data=data.pivot_table(index=['Sex', 'Survived'], values='PassengerId', aggfunc='count').reset_index(drop=False),\n",
    "                 x='Sex',\n",
    "                 y='PassengerId',\n",
    "                 hue='Survived')\n",
    "\n",
    "bar.set_xlabel('Пол пассажира')\n",
    "bar.set_ylabel('Количество пассжиров')"
   ]
  },
  {
   "cell_type": "markdown",
   "id": "24b48db1",
   "metadata": {},
   "source": [
    "Количество мужчин в представленном датасете почти в два раза больше, чем женщин, при этом процент выживших среди женщин был значительно выше. Изучим вллияние сочетания класса и пола пострадавшего на выживаемость."
   ]
  },
  {
   "cell_type": "code",
   "execution_count": 16,
   "id": "c216e148",
   "metadata": {},
   "outputs": [
    {
     "data": {
      "text/html": [
       "<div>\n",
       "<style scoped>\n",
       "    .dataframe tbody tr th:only-of-type {\n",
       "        vertical-align: middle;\n",
       "    }\n",
       "\n",
       "    .dataframe tbody tr th {\n",
       "        vertical-align: top;\n",
       "    }\n",
       "\n",
       "    .dataframe thead tr th {\n",
       "        text-align: left;\n",
       "    }\n",
       "\n",
       "    .dataframe thead tr:last-of-type th {\n",
       "        text-align: right;\n",
       "    }\n",
       "</style>\n",
       "<table border=\"1\" class=\"dataframe\">\n",
       "  <thead>\n",
       "    <tr>\n",
       "      <th></th>\n",
       "      <th></th>\n",
       "      <th>count</th>\n",
       "      <th>mean</th>\n",
       "    </tr>\n",
       "    <tr>\n",
       "      <th></th>\n",
       "      <th></th>\n",
       "      <th>Survived</th>\n",
       "      <th>Survived</th>\n",
       "    </tr>\n",
       "    <tr>\n",
       "      <th>Sex</th>\n",
       "      <th>Pclass</th>\n",
       "      <th></th>\n",
       "      <th></th>\n",
       "    </tr>\n",
       "  </thead>\n",
       "  <tbody>\n",
       "    <tr>\n",
       "      <th rowspan=\"3\" valign=\"top\">female</th>\n",
       "      <th>1</th>\n",
       "      <td>94</td>\n",
       "      <td>0.968085</td>\n",
       "    </tr>\n",
       "    <tr>\n",
       "      <th>2</th>\n",
       "      <td>76</td>\n",
       "      <td>0.921053</td>\n",
       "    </tr>\n",
       "    <tr>\n",
       "      <th>3</th>\n",
       "      <td>144</td>\n",
       "      <td>0.500000</td>\n",
       "    </tr>\n",
       "    <tr>\n",
       "      <th rowspan=\"3\" valign=\"top\">male</th>\n",
       "      <th>1</th>\n",
       "      <td>122</td>\n",
       "      <td>0.368852</td>\n",
       "    </tr>\n",
       "    <tr>\n",
       "      <th>2</th>\n",
       "      <td>108</td>\n",
       "      <td>0.157407</td>\n",
       "    </tr>\n",
       "    <tr>\n",
       "      <th>3</th>\n",
       "      <td>347</td>\n",
       "      <td>0.135447</td>\n",
       "    </tr>\n",
       "  </tbody>\n",
       "</table>\n",
       "</div>"
      ],
      "text/plain": [
       "                 count      mean\n",
       "              Survived  Survived\n",
       "Sex    Pclass                   \n",
       "female 1            94  0.968085\n",
       "       2            76  0.921053\n",
       "       3           144  0.500000\n",
       "male   1           122  0.368852\n",
       "       2           108  0.157407\n",
       "       3           347  0.135447"
      ]
     },
     "execution_count": 16,
     "metadata": {},
     "output_type": "execute_result"
    }
   ],
   "source": [
    "data.pivot_table(index = ['Sex', 'Pclass'], values='Survived', aggfunc=['count', 'mean'])"
   ]
  },
  {
   "cell_type": "code",
   "execution_count": 17,
   "id": "6cb4ee61",
   "metadata": {},
   "outputs": [
    {
     "name": "stderr",
     "output_type": "stream",
     "text": [
      "C:\\Users\\Ярослав\\AppData\\Local\\Programs\\Python\\Python310\\lib\\site-packages\\seaborn\\axisgrid.py:670: UserWarning: Using the barplot function without specifying `order` is likely to produce an incorrect plot.\n",
      "  warnings.warn(warning)\n"
     ]
    },
    {
     "data": {
      "text/plain": [
       "Text(0.5, 0.98, 'Колчиество выживших и погибших пасажиров в зависимости от пола пассажира и класса каюты')"
      ]
     },
     "execution_count": 17,
     "metadata": {},
     "output_type": "execute_result"
    },
    {
     "data": {
      "image/png": "[encoded data removed]",
      "text/plain": [
       "<Figure size 864x360 with 3 Axes>"
      ]
     },
     "metadata": {
      "needs_background": "light"
     },
     "output_type": "display_data"
    }
   ],
   "source": [
    "g = sns.FacetGrid(data=data.pivot_table(index = ['Sex', 'Pclass', 'Survived'], values='PassengerId', aggfunc='count').reset_index(drop=False),\n",
    "                 col='Pclass',\n",
    "                 hue='Survived')\n",
    "\n",
    "g.map(sns.barplot,\n",
    "     'Sex',\n",
    "     'PassengerId',\n",
    "     alpha=0.5)\n",
    "\n",
    "g.axes[0,0].legend()\n",
    "g.fig.set_size_inches(12,5) \n",
    "\n",
    "g.set_xlabels('Пол пассажира')\n",
    "g.set_ylabels('Количество пассжиров')\n",
    "\n",
    "g.fig.suptitle('Колчиество выживших и погибших пасажиров в зависимости от пола пассажира и класса каюты')"
   ]
  },
  {
   "cell_type": "markdown",
   "id": "2633e38b",
   "metadata": {},
   "source": [
    "Обе обнаруженные ранее тенденции наблюдаются и в сводной таблице: женщины выживали чаще мужчин и пассажиры 1 класса выживали чаще, чем пассажиры 3 класса. При этом стоит отметить, что женщины 3 класса всё равно имеют больший процент выживаемости, чем мужчины 1 класса."
   ]
  },
  {
   "cell_type": "markdown",
   "id": "bddbf7f8",
   "metadata": {},
   "source": [
    "Изучим распределение возраста пассажиров на Титанике, для этого остроим гистограмму по соответствующему столбцу"
   ]
  },
  {
   "cell_type": "code",
   "execution_count": 18,
   "id": "3ff8e457",
   "metadata": {},
   "outputs": [
    {
     "data": {
      "text/plain": [
       "(array([ 54.,  46., 177., 169., 118.,  70.,  45.,  24.,   9.,   2.]),\n",
       " array([ 0.42 ,  8.378, 16.336, 24.294, 32.252, 40.21 , 48.168, 56.126,\n",
       "        64.084, 72.042, 80.   ]),\n",
       " <BarContainer object of 10 artists>)"
      ]
     },
     "execution_count": 18,
     "metadata": {},
     "output_type": "execute_result"
    },
    {
     "data": {
      "image/png": "[encoded data removed]",
      "text/plain": [
       "<Figure size 720x432 with 1 Axes>"
      ]
     },
     "metadata": {
      "needs_background": "light"
     },
     "output_type": "display_data"
    }
   ],
   "source": [
    "plt.figure(figsize=(10,6))\n",
    "plt.title('Распределение возраста пассажиров на Титанике')\n",
    "\n",
    "plt.hist(data['Age'], bins=10)"
   ]
  },
  {
   "cell_type": "markdown",
   "id": "41d203a4",
   "metadata": {},
   "source": [
    "Распределениенемного отличается от нормального и имеет резкий скачёк в районе 20-30 лет. Построим гистограммы, которые также учту пол пассажира и выжил он или нет."
   ]
  },
  {
   "cell_type": "code",
   "execution_count": 19,
   "id": "7fc9fcdd",
   "metadata": {},
   "outputs": [
    {
     "data": {
      "text/plain": [
       "Text(0.5, 0.98, 'Колчиество выживших и погибших пасажиров в зависимости от пола и возраста пассажира')"
      ]
     },
     "execution_count": 19,
     "metadata": {},
     "output_type": "execute_result"
    },
    {
     "data": {
      "image/png": "[encoded data removed]",
      "text/plain": [
       "<Figure size 864x360 with 2 Axes>"
      ]
     },
     "metadata": {
      "needs_background": "light"
     },
     "output_type": "display_data"
    }
   ],
   "source": [
    "bins = np.linspace(0, max(data['Age']), 15)\n",
    "\n",
    "g = sns.FacetGrid(data=data,\n",
    "                 col='Sex',\n",
    "                 hue='Survived')\n",
    "\n",
    "g.map(plt.hist,\n",
    "     'Age',\n",
    "     bins=bins,\n",
    "     alpha=0.5)\n",
    "\n",
    "g.axes[0,1].legend()\n",
    "g.fig.set_size_inches(12,5) \n",
    "\n",
    "g.set_xlabels('Возраст пассажира')\n",
    "g.set_ylabels('Количество пассжиров')\n",
    "\n",
    "g.fig.suptitle('Колчиество выживших и погибших пасажиров в зависимости от пола и возраста пассажира')"
   ]
  },
  {
   "cell_type": "markdown",
   "id": "13159b52",
   "metadata": {},
   "source": [
    "Создадим сводную таблицу по возрастным категоиям и полу. Возможно, данный параметр будет более информативный, чем возраст сам по себе. "
   ]
  },
  {
   "cell_type": "code",
   "execution_count": 20,
   "id": "382b52de",
   "metadata": {},
   "outputs": [],
   "source": [
    "data['Age_part'] = pd.cut(data[data['Age'].notna()]['Age'], bins=bins)"
   ]
  },
  {
   "cell_type": "code",
   "execution_count": 21,
   "id": "9465fa3e",
   "metadata": {},
   "outputs": [
    {
     "data": {
      "image/png": "[encoded data removed]",
      "text/plain": [
       "<Figure size 864x432 with 1 Axes>"
      ]
     },
     "metadata": {
      "needs_background": "light"
     },
     "output_type": "display_data"
    }
   ],
   "source": [
    "plt.show()\n",
    "plt.figure(figsize=(12, 6))\n",
    "plt.title('Выживаемость по возрастным группам')\n",
    "bar = sns.barplot(data =data.groupby(['Sex','Age_part'])['Survived'].agg('mean').reset_index().sort_values('Age_part'),\n",
    "            x='Age_part',\n",
    "            y='Survived',\n",
    "            hue='Sex')\n",
    "bar.set_xticklabels(bar.get_xticklabels(), rotation=45)\n",
    "bar.set_xlabel('Диапазон возрастной группы')\n",
    "bar.set_ylabel('Выживаемость')\n",
    "plt.show()"
   ]
  },
  {
   "cell_type": "markdown",
   "id": "1ea37a4a",
   "metadata": {},
   "source": [
    "Как видно из полученных данных выживаемость женщин была больше 50% для всех возрастов (кроме 10 летнего возраста, но вероятнее всего, это специфика выборки. У мужчин ситуация была обратной для всех возрастов, кроме детей младше 5 лет (высокая выживаемость в возрасте старше 74 лет у мужчин является скорее выбросом, поскольку таких наблюдений слишком мало). Изучим также как влияет класс на данное распределение."
   ]
  },
  {
   "cell_type": "code",
   "execution_count": 22,
   "id": "20bb4cb5",
   "metadata": {},
   "outputs": [
    {
     "name": "stderr",
     "output_type": "stream",
     "text": [
      "C:\\Users\\Ярослав\\AppData\\Local\\Programs\\Python\\Python310\\lib\\site-packages\\seaborn\\axisgrid.py:670: UserWarning: Using the violinplot function without specifying `order` is likely to produce an incorrect plot.\n",
      "  warnings.warn(warning)\n"
     ]
    },
    {
     "data": {
      "text/plain": [
       "Text(0.5, 0.98, 'Колчиество выживших и погибших пасажиров в зависимости от пола, возраста пассажира и класса каюты')"
      ]
     },
     "execution_count": 22,
     "metadata": {},
     "output_type": "execute_result"
    },
    {
     "data": {
      "image/png": "[encoded data removed]",
      "text/plain": [
       "<Figure size 1008x576 with 2 Axes>"
      ]
     },
     "metadata": {
      "needs_background": "light"
     },
     "output_type": "display_data"
    }
   ],
   "source": [
    "g = sns.FacetGrid(data=data,\n",
    "                 col='Sex')\n",
    "g.map(sns.violinplot,\n",
    "     \"Pclass\", \"Age\", hue=data[\"Survived\"], split=True, inner=\"quart\")\n",
    "\n",
    "g.axes[0,0].grid(True)\n",
    "g.axes[0,1].grid(True)\n",
    "\n",
    "g.axes[0,1].legend()\n",
    "g.fig.set_size_inches(14,8) \n",
    "\n",
    "g.set_xlabels('Класс каюты')\n",
    "g.set_ylabels('Возраст')\n",
    "\n",
    "g.fig.suptitle('Колчиество выживших и погибших пасажиров в зависимости от пола, возраста пассажира и класса каюты')"
   ]
  },
  {
   "cell_type": "markdown",
   "id": "f5625034",
   "metadata": {},
   "source": [
    "Из полученных данных видно, что среднее значение возраста выживших, как правило ниже среднего возраста погибших в каждом классе, кроме женщин путешествующих 1 классом, там эти данные имеют обратное распределение, вероятнее всего это связано с тем, что среди женщин 1 класса было много выживих, и каждая погибшая может оказать сильное влияние на перекос. Кроме того наиболее возрастные пассажиры путешествовали именно 1 классом."
   ]
  },
  {
   "cell_type": "markdown",
   "id": "495980d5",
   "metadata": {},
   "source": [
    "В первоначальных данных два столбца отвечают за наличие родственников на борту: 'SibSp' и 'Parch'. Объединим их и назовём 'Relatives' и изучим их влияние на выживаемость пассажиров."
   ]
  },
  {
   "cell_type": "code",
   "execution_count": 23,
   "id": "be050b09",
   "metadata": {},
   "outputs": [],
   "source": [
    "data['Relatives'] = data['SibSp'] + data['Parch']"
   ]
  },
  {
   "cell_type": "code",
   "execution_count": 24,
   "id": "38b17ee8",
   "metadata": {},
   "outputs": [
    {
     "data": {
      "text/html": [
       "<div>\n",
       "<style scoped>\n",
       "    .dataframe tbody tr th:only-of-type {\n",
       "        vertical-align: middle;\n",
       "    }\n",
       "\n",
       "    .dataframe tbody tr th {\n",
       "        vertical-align: top;\n",
       "    }\n",
       "\n",
       "    .dataframe thead tr th {\n",
       "        text-align: left;\n",
       "    }\n",
       "\n",
       "    .dataframe thead tr:last-of-type th {\n",
       "        text-align: right;\n",
       "    }\n",
       "</style>\n",
       "<table border=\"1\" class=\"dataframe\">\n",
       "  <thead>\n",
       "    <tr>\n",
       "      <th></th>\n",
       "      <th>count</th>\n",
       "      <th>mean</th>\n",
       "    </tr>\n",
       "    <tr>\n",
       "      <th></th>\n",
       "      <th>Survived</th>\n",
       "      <th>Survived</th>\n",
       "    </tr>\n",
       "    <tr>\n",
       "      <th>Relatives</th>\n",
       "      <th></th>\n",
       "      <th></th>\n",
       "    </tr>\n",
       "  </thead>\n",
       "  <tbody>\n",
       "    <tr>\n",
       "      <th>0</th>\n",
       "      <td>537</td>\n",
       "      <td>0.303538</td>\n",
       "    </tr>\n",
       "    <tr>\n",
       "      <th>1</th>\n",
       "      <td>161</td>\n",
       "      <td>0.552795</td>\n",
       "    </tr>\n",
       "    <tr>\n",
       "      <th>2</th>\n",
       "      <td>102</td>\n",
       "      <td>0.578431</td>\n",
       "    </tr>\n",
       "    <tr>\n",
       "      <th>3</th>\n",
       "      <td>29</td>\n",
       "      <td>0.724138</td>\n",
       "    </tr>\n",
       "    <tr>\n",
       "      <th>4</th>\n",
       "      <td>15</td>\n",
       "      <td>0.200000</td>\n",
       "    </tr>\n",
       "    <tr>\n",
       "      <th>5</th>\n",
       "      <td>22</td>\n",
       "      <td>0.136364</td>\n",
       "    </tr>\n",
       "    <tr>\n",
       "      <th>6</th>\n",
       "      <td>12</td>\n",
       "      <td>0.333333</td>\n",
       "    </tr>\n",
       "    <tr>\n",
       "      <th>7</th>\n",
       "      <td>6</td>\n",
       "      <td>0.000000</td>\n",
       "    </tr>\n",
       "    <tr>\n",
       "      <th>10</th>\n",
       "      <td>7</td>\n",
       "      <td>0.000000</td>\n",
       "    </tr>\n",
       "  </tbody>\n",
       "</table>\n",
       "</div>"
      ],
      "text/plain": [
       "             count      mean\n",
       "          Survived  Survived\n",
       "Relatives                   \n",
       "0              537  0.303538\n",
       "1              161  0.552795\n",
       "2              102  0.578431\n",
       "3               29  0.724138\n",
       "4               15  0.200000\n",
       "5               22  0.136364\n",
       "6               12  0.333333\n",
       "7                6  0.000000\n",
       "10               7  0.000000"
      ]
     },
     "execution_count": 24,
     "metadata": {},
     "output_type": "execute_result"
    }
   ],
   "source": [
    "data.pivot_table(index='Relatives', values='Survived', aggfunc = ['count', 'mean'])"
   ]
  },
  {
   "cell_type": "code",
   "execution_count": 25,
   "id": "13faedcb",
   "metadata": {},
   "outputs": [
    {
     "data": {
      "text/plain": [
       "Text(0, 0.5, 'Количество пассжиров')"
      ]
     },
     "execution_count": 25,
     "metadata": {},
     "output_type": "execute_result"
    },
    {
     "data": {
      "image/png": "[encoded data removed]",
      "text/plain": [
       "<Figure size 720x432 with 1 Axes>"
      ]
     },
     "metadata": {
      "needs_background": "light"
     },
     "output_type": "display_data"
    }
   ],
   "source": [
    "plt.figure(figsize=(10,6))\n",
    "plt.title('Колчиество выживших и погибших пасажиров в зависимости количества родственников на борту')\n",
    "\n",
    "bar = sns.barplot(data=data.pivot_table(index=['Relatives', 'Survived'], values='PassengerId', aggfunc = 'count').reset_index(drop=False), \n",
    "                   x='Relatives', \n",
    "                   y='PassengerId', \n",
    "                   hue='Survived')\n",
    "\n",
    "bar.set_xlabel('Количество родственников')\n",
    "bar.set_ylabel('Количество пассжиров')"
   ]
  },
  {
   "cell_type": "markdown",
   "id": "f4ccc063",
   "metadata": {},
   "source": [
    "Большинство пассажиров путешествовало без родственников, однако те у кого было от 1 до 3 родственника на борту выживали чаще, те у кого было 7 и более родственников, как правило погибали (возможно это связано с тем, что многодетные семьи путешествовали 3 классом и шансов выжить у них было меньше. Удали созданный столбец, чтобы в предобработке работать с чистым датасетом."
   ]
  },
  {
   "cell_type": "code",
   "execution_count": 26,
   "id": "6bbc5c18",
   "metadata": {},
   "outputs": [],
   "source": [
    "data = data.drop('Relatives', axis=1)"
   ]
  },
  {
   "cell_type": "markdown",
   "id": "03033230",
   "metadata": {},
   "source": [
    "### Выводы"
   ]
  },
  {
   "cell_type": "markdown",
   "id": "b05854ab",
   "metadata": {},
   "source": [
    "В данном разделе были проанализированны первоначальные данные, Было установлено, что целевой признак очень сильно зависит от пола и класса каюты."
   ]
  },
  {
   "cell_type": "markdown",
   "id": "ffd878ee",
   "metadata": {},
   "source": [
    "## Предобработка данных"
   ]
  },
  {
   "cell_type": "markdown",
   "id": "0b65bc68",
   "metadata": {},
   "source": [
    "### Создание Pipeline"
   ]
  },
  {
   "cell_type": "markdown",
   "id": "60d0890f",
   "metadata": {},
   "source": [
    "Создадим pipeline отдельно для категориальных, отдельно для количественных признаков. Для начала создадим списки указанных столбцов, а также список столбцов, в которых указано еоличество родных на титанике."
   ]
  },
  {
   "cell_type": "code",
   "execution_count": 27,
   "id": "4d0d88df",
   "metadata": {},
   "outputs": [],
   "source": [
    "num_colomns = ['SibSp', 'Parch', 'Fare']\n",
    "\n",
    "cat_columns = ['Name', 'Sex', 'Pclass', 'Embarked', 'Age']\n",
    "\n",
    "relatives_colomns =['SibSp', 'Parch']\n",
    "nan_columns = ['Sex', 'Age', 'Cabin' ]"
   ]
  },
  {
   "cell_type": "markdown",
   "id": "819acd43",
   "metadata": {},
   "source": [
    "Создадим класс для выбора объектов из датасета"
   ]
  },
  {
   "cell_type": "code",
   "execution_count": 28,
   "id": "81e07595",
   "metadata": {},
   "outputs": [],
   "source": [
    "class DateFrameSelecter (BaseEstimator, TransformerMixin):\n",
    "    \n",
    "    def __init__(self, atribute_name):\n",
    "        self.atribute_name = atribute_name\n",
    "        \n",
    "    def fit(self, X, y=None):\n",
    "        return self\n",
    "    \n",
    "    def transform (self, X):\n",
    "        return X[self.atribute_name]"
   ]
  },
  {
   "cell_type": "markdown",
   "id": "19b81da5",
   "metadata": {},
   "source": [
    "Для категориального столбца Name нам потребуется также создать класс, который сможет заберать из него информацию"
   ]
  },
  {
   "cell_type": "markdown",
   "id": "c54f8a3e",
   "metadata": {},
   "source": [
    "Отключим предупреждения pandas, поскольку при работе с категориальными признаками, нам нужно будет менять значения внутри DateFrame"
   ]
  },
  {
   "cell_type": "code",
   "execution_count": 29,
   "id": "9ba1e648",
   "metadata": {},
   "outputs": [],
   "source": [
    "pd.set_option('mode.chained_assignment', None)"
   ]
  },
  {
   "cell_type": "code",
   "execution_count": 30,
   "id": "764a4f82",
   "metadata": {},
   "outputs": [],
   "source": [
    "class CatHandler (BaseEstimator, TransformerMixin):\n",
    "    \n",
    "    def __init__ (self, cat_columns, colomn_name):\n",
    "        self.cat_columns = cat_columns\n",
    "        try:\n",
    "            self.name_ix = self.cat_columns.index(colomn_name)\n",
    "            self.colomn_name = colomn_name            \n",
    "        except:\n",
    "            self.name_ix = -1\n",
    "        \n",
    "    def fit (self, X, y=None):\n",
    "        return self\n",
    "    \n",
    "    def transform (self, X):\n",
    "        if self.name_ix!=-1:\n",
    "            X['Tit'] = X[self.colomn_name].str.extract(' ([A-Za-z]+)\\.', expand=False)\n",
    "            titel_map = {'Mr':'Mr','Miss':'Miss', 'Mrs':'Mrs', 'Master':'Master'}\n",
    "            X['Tit'] = X['Tit'].map(titel_map)\n",
    "            X['Tit'] = X['Tit'].fillna('other')\n",
    "            X = X.drop(self.colomn_name, axis=1)\n",
    "            \n",
    "        return X"
   ]
  },
  {
   "cell_type": "markdown",
   "id": "3e05af7a",
   "metadata": {},
   "source": [
    "Создадим клас, для объединения данных по семье на борту титаника"
   ]
  },
  {
   "cell_type": "code",
   "execution_count": 31,
   "id": "edb55854",
   "metadata": {},
   "outputs": [],
   "source": [
    "class NumHendler (BaseEstimator, TransformerMixin):\n",
    "    \n",
    "    def __init__(self, relatives_colomns):\n",
    "        self.relatives_colomns = relatives_colomns\n",
    "  \n",
    "        \n",
    "    def fit(self, X, y=None):\n",
    "        return self\n",
    "    \n",
    "    def transform(self, X):\n",
    "        X['Relatives'] = 0\n",
    "        for col in self.relatives_colomns:\n",
    "            X['Relatives'] += X[col]\n",
    "        X = X.drop(self.relatives_colomns, axis=1)\n",
    "                \n",
    "        return X"
   ]
  },
  {
   "cell_type": "markdown",
   "id": "09687102",
   "metadata": {},
   "source": [
    "Поскольку мы решили преобразовать возраст в возрастные диапазоны (т.е. сделать его из количественного признака - категориальный), то создадим для данного трансформера соответствующий класс."
   ]
  },
  {
   "cell_type": "code",
   "execution_count": 32,
   "id": "593dd7e6",
   "metadata": {},
   "outputs": [],
   "source": [
    "class AgeToCatAge (BaseEstimator, TransformerMixin):\n",
    "    \n",
    "    def __init__ (self, age_colomn, bins=15):\n",
    "        self.age_colomn = age_colomn\n",
    "        self.bins = bins\n",
    "        \n",
    "    def fit(self, X, y=None):\n",
    "        return self\n",
    "    \n",
    "    def transform (self, X):\n",
    "        age_bins = np.linspace(0, max(X[self.age_colomn]), self.bins)\n",
    "        X['Age_part'] = pd.cut(X[self.age_colomn], bins=age_bins)\n",
    "        X = X.drop(self.age_colomn, axis=1)\n",
    "        return X        "
   ]
  },
  {
   "cell_type": "markdown",
   "id": "bdc26499",
   "metadata": {},
   "source": [
    "Сделаем частотное кодирование по столбцам с пропусками. Учитывая, что пол также сильно влияет на выживаемость учтём и данный фактор."
   ]
  },
  {
   "cell_type": "code",
   "execution_count": 33,
   "id": "6596a7ea",
   "metadata": {},
   "outputs": [],
   "source": [
    "# Получим значения выживаемости для мужчин и женщин с учётом того пропущены у них данные в столбцах или нет. \n",
    "# И сделаем соответствующее заполнение\n",
    "NAN_CABIN_MALE = data[(data['Cabin'].isna()) & (data['Sex']=='male')]['Survived'].mean()\n",
    "NAN_CABIN_FEMALE = data[(data['Cabin'].isna()) & (data['Sex']=='female')]['Survived'].mean()\n",
    "TR_CABIN_MALE = data[(data['Cabin'].notna()) & (data['Sex']=='male')]['Survived'].mean()\n",
    "TR_CABIN_MALE = data[(data['Cabin'].notna()) & (data['Sex']=='female')]['Survived'].mean()\n",
    "\n",
    "NAN_AGE_MALE = data[(data['Age'].isna()) & (data['Sex']=='male')]['Survived'].mean()\n",
    "NAN_AGE_FEMALE = data[(data['Age'].isna()) & (data['Sex']=='female')]['Survived'].mean()\n",
    "TR_AGE_MALE = data[(data['Age'].notna()) & (data['Sex']=='male')]['Survived'].mean()\n",
    "TR_AGE_MALE =data[(data['Age'].notna()) & (data['Sex']=='female')]['Survived'].mean()\n",
    "\n",
    "class GetAgeCabNan (BaseEstimator, TransformerMixin):\n",
    "    \n",
    "    def __init__ (self, sex_column, age_colomn, colomn_cabin):\n",
    "        self.age_colomn = age_colomn\n",
    "        self.colomn_cabin = colomn_cabin\n",
    "        self.sex_colomn = sex_column\n",
    "        \n",
    "    def fit(self, X, y=None):\n",
    "        self.y = y\n",
    "        return self\n",
    "    \n",
    "    def transform (self, X):\n",
    "       # X['Nan_Age'] = np.where(X[self.age_colomn].isna(), 1, 0)\n",
    "       # X['Nan_Cabin'] = np.where(X[self.colomn_cabin].isna(), 1, 0)\n",
    "       # X = X.drop([self.colomn_cabin, self.age_colomn], axis=1)\n",
    "        X['Nan_Cabin'] = float(0.)\n",
    "        X['Nan_Age'] = float(0.)\n",
    "        \n",
    "        X['Nan_Cabin'] = np.where(((X[self.colomn_cabin].isna()) & (X[self.sex_colomn]=='male')), NAN_CABIN_MALE, X['Nan_Cabin'])\n",
    "        X['Nan_Cabin'] = np.where(((X[self.colomn_cabin].isna()) & (X[self.sex_colomn]=='female')), NAN_CABIN_FEMALE, X['Nan_Cabin'])\n",
    "        X['Nan_Cabin'] = np.where(((X[self.colomn_cabin].notna()) & (X[self.sex_colomn]=='male')), TR_CABIN_MALE, X['Nan_Cabin'])\n",
    "        X['Nan_Cabin'] = np.where(((X[self.colomn_cabin].notna()) & (X[self.sex_colomn]=='female')), TR_CABIN_MALE, X['Nan_Cabin'])\n",
    "\n",
    "        X['Nan_Age'] = np.where(((X[self.age_colomn].isna()) & (X[self.sex_colomn]=='male')), NAN_AGE_MALE, X['Nan_Age'])\n",
    "        X['Nan_Age'] = np.where(((X[self.age_colomn].isna()) & (X[self.sex_colomn]=='female')), NAN_AGE_FEMALE, X['Nan_Age'])\n",
    "        X['Nan_Age'] = np.where(((X[self.age_colomn].notna()) & (X[self.sex_colomn]=='male')), TR_AGE_MALE, X['Nan_Age'])\n",
    "        X['Nan_Age'] = np.where(((X[self.age_colomn].notna()) & (X[self.sex_colomn]=='female')), TR_AGE_MALE, X['Nan_Age'])\n",
    "            \n",
    "        X = X.drop([self.colomn_cabin, self.age_colomn, self.sex_colomn], axis=1)\n",
    "        return X    "
   ]
  },
  {
   "cell_type": "markdown",
   "id": "7d2affe3",
   "metadata": {},
   "source": [
    "Создадим количественный pipeline. Заполним пропущенные значения значением -1 (для моделей без встроенной обработки пропущенных значений)"
   ]
  },
  {
   "cell_type": "code",
   "execution_count": 34,
   "id": "1cf2c2ce",
   "metadata": {},
   "outputs": [],
   "source": [
    "num_pipeline_OHE = Pipeline([\n",
    "    ('selector1', DateFrameSelecter(num_colomns)),\n",
    "    ('selector2', NumHendler(relatives_colomns)),\n",
    "    ('imputer', SimpleImputer(strategy='mean')),\n",
    "    ('scaler', StandardScaler())\n",
    "])"
   ]
  },
  {
   "cell_type": "markdown",
   "id": "b79c30f6",
   "metadata": {},
   "source": [
    "Создадим количественный pipeline, без заполнения пропусков"
   ]
  },
  {
   "cell_type": "code",
   "execution_count": 35,
   "id": "392f11f9",
   "metadata": {},
   "outputs": [],
   "source": [
    "num_pipeline_without_OHE = Pipeline([\n",
    "    ('selector1', DateFrameSelecter(num_colomns)),\n",
    "    ('selector2', NumHendler(relatives_colomns)),\n",
    "    ('scaler', StandardScaler())\n",
    "])"
   ]
  },
  {
   "cell_type": "markdown",
   "id": "52e28acf",
   "metadata": {},
   "source": [
    "Создадим pipeline для количественных столбцов c OHE кодированием"
   ]
  },
  {
   "cell_type": "code",
   "execution_count": 36,
   "id": "508caee4",
   "metadata": {},
   "outputs": [],
   "source": [
    "cat_pipeline_OHE = Pipeline([\n",
    "                 ('selecter', DateFrameSelecter(cat_columns)),       \n",
    "                 ('selecter_2', CatHandler(cat_columns,'Name')),\n",
    "                 ('selecter_3', AgeToCatAge('Age', 15)),\n",
    "                 ('encoder', OneHotEncoder(handle_unknown='ignore'))\n",
    "])"
   ]
  },
  {
   "cell_type": "markdown",
   "id": "24ca94cb",
   "metadata": {},
   "source": [
    "Создадим pipeline для количественных столбцов без OHE кодированием"
   ]
  },
  {
   "cell_type": "code",
   "execution_count": 37,
   "id": "6f783507",
   "metadata": {},
   "outputs": [],
   "source": [
    "cat_pipeline_without_OHE = Pipeline([\n",
    "                 ('selecter', DateFrameSelecter(cat_columns)),       \n",
    "                 ('selecter_2', CatHandler(cat_columns,'Name')),\n",
    "                 ('converter', AgeToCatAge('Age', 15))\n",
    "])"
   ]
  },
  {
   "cell_type": "markdown",
   "id": "75bea6ef",
   "metadata": {},
   "source": [
    "Создадим пайплайн, для обработки пропусков в столбцах Age и Cabin"
   ]
  },
  {
   "cell_type": "code",
   "execution_count": 38,
   "id": "d0ec3738",
   "metadata": {},
   "outputs": [],
   "source": [
    "nan_pipeline = Pipeline([\n",
    "                 ('selecter', DateFrameSelecter(nan_columns)),       \n",
    "                 ('converter', GetAgeCabNan('Sex', 'Age','Cabin'))\n",
    "])"
   ]
  },
  {
   "cell_type": "markdown",
   "id": "d87af8d1",
   "metadata": {},
   "source": [
    "Создадим полный пайплайн с OHE И без OHE соответственно"
   ]
  },
  {
   "cell_type": "code",
   "execution_count": 39,
   "id": "f7926455",
   "metadata": {},
   "outputs": [],
   "source": [
    "ful_pipeline_OHE = FeatureUnion([\n",
    "                            ('num_pipeline', num_pipeline_OHE),\n",
    "                            ('cat_pipeline_OHE', cat_pipeline_OHE),\n",
    "                            ('nan_pipeline', nan_pipeline)\n",
    "])"
   ]
  },
  {
   "cell_type": "code",
   "execution_count": 40,
   "id": "54456172",
   "metadata": {},
   "outputs": [],
   "source": [
    "ful_pipeline_without_OHE = FeatureUnion([\n",
    "                            ('num_pipeline', num_pipeline_without_OHE),\n",
    "                            ('cat_pipeline_without_OHE', cat_pipeline_without_OHE),\n",
    "                            ('nan_pipeline', nan_pipeline)\n",
    "])"
   ]
  },
  {
   "cell_type": "markdown",
   "id": "8c97ceb3",
   "metadata": {},
   "source": [
    "### Получение признаков и целей для обучения"
   ]
  },
  {
   "cell_type": "markdown",
   "id": "0c87c5c4",
   "metadata": {},
   "source": [
    "Разделим датасет на обучающую и тестовую выборки, а затем выделим целевой признак и признаки для обучения."
   ]
  },
  {
   "cell_type": "code",
   "execution_count": 41,
   "id": "e21b7709",
   "metadata": {},
   "outputs": [],
   "source": [
    "data_train, data_test = train_test_split(data, test_size=0.2, random_state=123, stratify=data['Survived'])"
   ]
  },
  {
   "cell_type": "code",
   "execution_count": 42,
   "id": "97f5e719",
   "metadata": {},
   "outputs": [],
   "source": [
    "target_train = data_train['Survived']\n",
    "features_train = data_train.drop('Survived', axis=1)"
   ]
  },
  {
   "cell_type": "code",
   "execution_count": 43,
   "id": "b34aea8d",
   "metadata": {},
   "outputs": [],
   "source": [
    "target_test = data_test['Survived']\n",
    "features_test = data_test.drop('Survived', axis=1)"
   ]
  },
  {
   "cell_type": "markdown",
   "id": "f6b0698d",
   "metadata": {},
   "source": [
    "Обучим и преобразуем данные с OHE для тренировочной и тестовой выборки"
   ]
  },
  {
   "cell_type": "code",
   "execution_count": 44,
   "id": "3b8d79b4",
   "metadata": {},
   "outputs": [],
   "source": [
    "features_OHE_train = ful_pipeline_OHE.fit_transform(features_train, target_train)\n",
    "features_OHE_test = ful_pipeline_OHE.transform(features_test)"
   ]
  },
  {
   "cell_type": "markdown",
   "id": "014994a2",
   "metadata": {},
   "source": [
    "Обучим и преобразуем данные без OHE для тренировочной и тестовой выборки"
   ]
  },
  {
   "cell_type": "code",
   "execution_count": 45,
   "id": "85f28024",
   "metadata": {},
   "outputs": [],
   "source": [
    "features_without_OHE_train = ful_pipeline_without_OHE.fit_transform(features_train)\n",
    "features_without_OHE_test = ful_pipeline_without_OHE.transform(features_test)"
   ]
  },
  {
   "cell_type": "markdown",
   "id": "90732918",
   "metadata": {},
   "source": [
    "Преобразуем данные в датафрейм, чтобы было удобней работать с CatBoost"
   ]
  },
  {
   "cell_type": "code",
   "execution_count": 46,
   "id": "67d24dd4",
   "metadata": {
    "scrolled": true
   },
   "outputs": [],
   "source": [
    "all_colomns = [ 'Fare', 'Relatives', 'Sex', 'Pclass', 'Embarked', 'Tit',  'Age_part', 'Nan_Age', 'Nan_Cabin']\n",
    "features_without_OHE_train = pd.DataFrame(data=features_without_OHE_train, columns=all_colomns)\n",
    "features_without_OHE_test = pd.DataFrame(data=features_without_OHE_test, columns=all_colomns)"
   ]
  },
  {
   "cell_type": "markdown",
   "id": "742f2b56",
   "metadata": {},
   "source": [
    "Приведём типы категориальных столбцов в нормальное состояние (иначе CatBoost не сможет с ними корректно работать)"
   ]
  },
  {
   "cell_type": "code",
   "execution_count": 47,
   "id": "e6068ca5",
   "metadata": {},
   "outputs": [],
   "source": [
    "features_without_OHE_train[['Sex', 'Pclass', 'Embarked', 'Tit', 'Age_part']] = features_without_OHE_train[['Sex', 'Pclass', 'Embarked', 'Tit', 'Age_part']].astype(str)\n",
    "features_without_OHE_test[['Sex', 'Pclass', 'Embarked', 'Tit', 'Age_part']] = features_without_OHE_test[['Sex', 'Pclass', 'Embarked', 'Tit', 'Age_part']].astype(str)"
   ]
  },
  {
   "cell_type": "markdown",
   "id": "62c24d32",
   "metadata": {},
   "source": [
    "Также создадим полную выборку признаков и целей по всему датасету, для финального обучения моделей"
   ]
  },
  {
   "cell_type": "code",
   "execution_count": 48,
   "id": "767e6e23",
   "metadata": {},
   "outputs": [],
   "source": [
    "target = data['Survived']\n",
    "features = data.drop('Survived', axis=1)"
   ]
  },
  {
   "cell_type": "code",
   "execution_count": 49,
   "id": "cbe5cdf0",
   "metadata": {},
   "outputs": [],
   "source": [
    "features_OHE = ful_pipeline_OHE.fit_transform(features)\n",
    "features_without_OHE = ful_pipeline_without_OHE.fit_transform(features)\n",
    "features_without_OHE = pd.DataFrame(data=features_without_OHE, columns=all_colomns)\n",
    "features_without_OHE[['Sex', 'Pclass', 'Embarked', 'Tit', 'Age_part']] = features_without_OHE[['Sex', 'Pclass', 'Embarked', 'Tit', 'Age_part']].astype(str)"
   ]
  },
  {
   "cell_type": "markdown",
   "id": "e5075770",
   "metadata": {},
   "source": [
    "### Выводы"
   ]
  },
  {
   "cell_type": "markdown",
   "id": "33ba9f2b",
   "metadata": {},
   "source": [
    "В данном разделе были созданы pipline для получения признаков как с OHE так и без него"
   ]
  },
  {
   "cell_type": "markdown",
   "id": "86882c5b",
   "metadata": {},
   "source": [
    "## Обучение моделей"
   ]
  },
  {
   "cell_type": "markdown",
   "id": "4ceec07d",
   "metadata": {},
   "source": [
    "В данном разделе обучим несколько моделей, проведём подбор гиперпараметров и выберём лучшую из них"
   ]
  },
  {
   "cell_type": "markdown",
   "id": "42f6d637",
   "metadata": {},
   "source": [
    "### Базовая dummy модель"
   ]
  },
  {
   "cell_type": "markdown",
   "id": "a624baf2",
   "metadata": {},
   "source": [
    "Создадим и обучим dummy модель, чтобы понимать эффективны ли наши модели машинного обучения"
   ]
  },
  {
   "cell_type": "code",
   "execution_count": 50,
   "id": "42690631",
   "metadata": {},
   "outputs": [
    {
     "name": "stdout",
     "output_type": "stream",
     "text": [
      "Метрика accuracy для dummy модели равна 0.6145251396648045\n"
     ]
    }
   ],
   "source": [
    "dummy_model = DummyClassifier()\n",
    "dummy_model.fit(features_OHE_train, target_train)\n",
    "\n",
    "predictions = dummy_model.predict(features_OHE_test)\n",
    "print('Метрика accuracy для dummy модели равна', accuracy_score(target_test, predictions))"
   ]
  },
  {
   "cell_type": "markdown",
   "id": "d252f181",
   "metadata": {},
   "source": [
    "### Логистическая регресия"
   ]
  },
  {
   "cell_type": "code",
   "execution_count": 51,
   "id": "d6b52e1f",
   "metadata": {},
   "outputs": [
    {
     "name": "stdout",
     "output_type": "stream",
     "text": [
      "Метрика accuracy для логистической регресии равна 0.7988826815642458\n"
     ]
    }
   ],
   "source": [
    "lin_model = LogisticRegression(class_weight='balanced')\n",
    "lin_model.fit(features_OHE_train, target_train)\n",
    "\n",
    "predictions = lin_model.predict(features_OHE_test)\n",
    "print('Метрика accuracy для логистической регресии равна', accuracy_score(target_test, predictions))"
   ]
  },
  {
   "cell_type": "markdown",
   "id": "202d901c",
   "metadata": {},
   "source": [
    "Попробуем улучшить показатель логистической регрессии, для этого подберём коэффициент регляризации C"
   ]
  },
  {
   "cell_type": "code",
   "execution_count": 52,
   "id": "c49d14b9",
   "metadata": {},
   "outputs": [
    {
     "name": "stderr",
     "output_type": "stream",
     "text": [
      "[Parallel(n_jobs=-1)]: Using backend LokyBackend with 12 concurrent workers.\n",
      "[Parallel(n_jobs=-1)]: Done   2 out of   5 | elapsed:    9.8s remaining:   14.7s\n",
      "[Parallel(n_jobs=-1)]: Done   5 out of   5 | elapsed:   10.0s finished\n"
     ]
    },
    {
     "data": {
      "text/plain": [
       "LogisticRegressionCV(Cs=array([1.00000000e-01, 1.20679264e-01, 1.45634848e-01, 1.75751062e-01,\n",
       "       2.12095089e-01, 2.55954792e-01, 3.08884360e-01, 3.72759372e-01,\n",
       "       4.49843267e-01, 5.42867544e-01, 6.55128557e-01, 7.90604321e-01,\n",
       "       9.54095476e-01, 1.15139540e+00, 1.38949549e+00, 1.67683294e+00,\n",
       "       2.02358965e+00, 2.44205309e+00, 2.94705170e+00, 3.55648031e+00,\n",
       "       4.29193426e+00, 5.17...\n",
       "       4.09491506e+01, 4.94171336e+01, 5.96362332e+01, 7.19685673e+01,\n",
       "       8.68511374e+01, 1.04811313e+02, 1.26485522e+02, 1.52641797e+02,\n",
       "       1.84206997e+02, 2.22299648e+02, 2.68269580e+02, 3.23745754e+02,\n",
       "       3.90693994e+02, 4.71486636e+02, 5.68986603e+02, 6.86648845e+02,\n",
       "       8.28642773e+02, 1.00000000e+03]),\n",
       "                     class_weight='balanced',\n",
       "                     cv=StratifiedKFold(n_splits=5, random_state=17, shuffle=True),\n",
       "                     n_jobs=-1, scoring='accuracy', verbose=5)"
      ]
     },
     "execution_count": 52,
     "metadata": {},
     "output_type": "execute_result"
    }
   ],
   "source": [
    "\n",
    "skf = StratifiedKFold(n_splits=5, shuffle=True, random_state=17)\n",
    "c_values = np.logspace(-1, 3, 50)\n",
    "\n",
    "logit_searcher = LogisticRegressionCV(Cs=c_values, \n",
    "                                      cv=skf, \n",
    "                                      verbose=5, \n",
    "                                      n_jobs=-1, \n",
    "                                      class_weight='balanced', \n",
    "                                      scoring='accuracy')\n",
    "\n",
    "logit_searcher.fit(features_OHE_train, target_train)"
   ]
  },
  {
   "cell_type": "code",
   "execution_count": 53,
   "id": "a5297495",
   "metadata": {},
   "outputs": [
    {
     "name": "stdout",
     "output_type": "stream",
     "text": [
      "Метрика accuracy на тренировочной выборке при кросс валидации 0.8450704225352113\n"
     ]
    }
   ],
   "source": [
    "print('Метрика accuracy на тренировочной выборке при кросс валидации', logit_searcher.scores_[1].max())"
   ]
  },
  {
   "cell_type": "code",
   "execution_count": 54,
   "id": "2aeceafd",
   "metadata": {},
   "outputs": [
    {
     "name": "stdout",
     "output_type": "stream",
     "text": [
      "Оптимальное значение гиперпараметра C: [0.95409548]\n"
     ]
    }
   ],
   "source": [
    "print('Оптимальное значение гиперпараметра C:', logit_searcher.C_)"
   ]
  },
  {
   "cell_type": "code",
   "execution_count": 55,
   "id": "1753293c",
   "metadata": {},
   "outputs": [
    {
     "name": "stdout",
     "output_type": "stream",
     "text": [
      "Метрика accuracy для линейной модели на тестовой выборке после подбора uиперпараметра C равен 0.7988826815642458\n"
     ]
    }
   ],
   "source": [
    "predictions = logit_searcher.predict(features_OHE_test)\n",
    "print('Метрика accuracy для линейной модели на тестовой выборке после подбора uиперпараметра C равен', accuracy_score(target_test, predictions))"
   ]
  },
  {
   "cell_type": "markdown",
   "id": "83074113",
   "metadata": {},
   "source": [
    "### Дерево решений"
   ]
  },
  {
   "cell_type": "code",
   "execution_count": 56,
   "id": "2f726465",
   "metadata": {},
   "outputs": [
    {
     "name": "stdout",
     "output_type": "stream",
     "text": [
      "Метрика accuracy для модели решающего дерева 0.7821229050279329\n"
     ]
    }
   ],
   "source": [
    "tree_model = DecisionTreeClassifier(class_weight='balanced',\n",
    "                                    random_state=123)\n",
    "tree_model.fit(features_OHE_train, target_train)\n",
    "\n",
    "predictions = tree_model.predict(features_OHE_test)\n",
    "print('Метрика accuracy для модели решающего дерева', accuracy_score(target_test, predictions))"
   ]
  },
  {
   "cell_type": "markdown",
   "id": "79e9f210",
   "metadata": {},
   "source": [
    "Попробуем подобрать гиперпараметры при помощи GridSearchCV"
   ]
  },
  {
   "cell_type": "code",
   "execution_count": 57,
   "id": "89e3106a",
   "metadata": {},
   "outputs": [],
   "source": [
    "tree = DecisionTreeClassifier(class_weight='balanced',\n",
    "                                    random_state=123)\n",
    "\n",
    "tree_param = {'max_depth': range(1,20),\n",
    "              'max_features': range(2,features_OHE_train.shape[1], 10),\n",
    "              'min_samples_leaf': range(1,10)\n",
    "             }\n",
    "\n",
    "tree_grid = GridSearchCV(tree, \n",
    "                         tree_param,\n",
    "                         cv=5, \n",
    "                         n_jobs=-1,\n",
    "                         scoring = 'accuracy',\n",
    "                         verbose=True)"
   ]
  },
  {
   "cell_type": "code",
   "execution_count": 58,
   "id": "08116edb",
   "metadata": {},
   "outputs": [
    {
     "name": "stdout",
     "output_type": "stream",
     "text": [
      "Fitting 5 folds for each of 684 candidates, totalling 3420 fits\n"
     ]
    },
    {
     "data": {
      "text/plain": [
       "GridSearchCV(cv=5,\n",
       "             estimator=DecisionTreeClassifier(class_weight='balanced',\n",
       "                                              random_state=123),\n",
       "             n_jobs=-1,\n",
       "             param_grid={'max_depth': range(1, 20),\n",
       "                         'max_features': range(2, 33, 10),\n",
       "                         'min_samples_leaf': range(1, 10)},\n",
       "             scoring='accuracy', verbose=True)"
      ]
     },
     "execution_count": 58,
     "metadata": {},
     "output_type": "execute_result"
    }
   ],
   "source": [
    "tree_grid.fit(features_OHE_train, target_train)"
   ]
  },
  {
   "cell_type": "markdown",
   "id": "fc2c32de",
   "metadata": {},
   "source": [
    "Лучшее сочетание параметров для модели решающего дерева:"
   ]
  },
  {
   "cell_type": "code",
   "execution_count": 59,
   "id": "d75b30e7",
   "metadata": {},
   "outputs": [
    {
     "data": {
      "text/plain": [
       "{'max_depth': 4, 'max_features': 22, 'min_samples_leaf': 7}"
      ]
     },
     "execution_count": 59,
     "metadata": {},
     "output_type": "execute_result"
    }
   ],
   "source": [
    "tree_grid.best_params_"
   ]
  },
  {
   "cell_type": "code",
   "execution_count": 60,
   "id": "aff6561a",
   "metadata": {},
   "outputs": [
    {
     "name": "stdout",
     "output_type": "stream",
     "text": [
      "Метрика accuracy для лучшего сочетания параметров модели решающего дерева 0.8201516793066089\n"
     ]
    }
   ],
   "source": [
    "print('Метрика accuracy для лучшего сочетания параметров модели решающего дерева', tree_grid.best_score_)"
   ]
  },
  {
   "cell_type": "markdown",
   "id": "2f15dc29",
   "metadata": {},
   "source": [
    "Посчитаем значение метрики на тестовой выборке"
   ]
  },
  {
   "cell_type": "code",
   "execution_count": 61,
   "id": "be040b9f",
   "metadata": {},
   "outputs": [
    {
     "name": "stdout",
     "output_type": "stream",
     "text": [
      "Метрика accuracy для модели решающего дерева на тестовой выборке с оптимальными гиперпараметрами 0.8324022346368715\n"
     ]
    }
   ],
   "source": [
    "predictions = tree_grid.predict(features_OHE_test)\n",
    "print('Метрика accuracy для модели решающего дерева на тестовой выборке с оптимальными гиперпараметрами', accuracy_score(target_test, predictions))"
   ]
  },
  {
   "cell_type": "markdown",
   "id": "1d278628",
   "metadata": {},
   "source": [
    "### Модель случайного леса"
   ]
  },
  {
   "cell_type": "code",
   "execution_count": 62,
   "id": "e02e1762",
   "metadata": {},
   "outputs": [
    {
     "name": "stdout",
     "output_type": "stream",
     "text": [
      "Метрика accuracy для модели случайного леса 0.8156424581005587\n"
     ]
    }
   ],
   "source": [
    "forest_model = RandomForestClassifier(class_weight='balanced',\n",
    "                                      random_state=123)\n",
    "\n",
    "forest_model.fit(features_OHE_train, target_train)\n",
    "\n",
    "predictions = forest_model.predict(features_OHE_test)\n",
    "print('Метрика accuracy для модели случайного леса', accuracy_score(target_test, predictions))"
   ]
  },
  {
   "cell_type": "markdown",
   "id": "5e0f51e2",
   "metadata": {},
   "source": [
    "Попробуем подобрать гиперпараметры при помощи GridSearchCV"
   ]
  },
  {
   "cell_type": "code",
   "execution_count": 63,
   "id": "e95c9151",
   "metadata": {},
   "outputs": [
    {
     "name": "stdout",
     "output_type": "stream",
     "text": [
      "Fitting 5 folds for each of 1512 candidates, totalling 7560 fits\n",
      "CPU times: total: 12.9 s\n",
      "Wall time: 6min 17s\n"
     ]
    },
    {
     "data": {
      "text/plain": [
       "GridSearchCV(cv=5,\n",
       "             estimator=RandomForestClassifier(class_weight='balanced',\n",
       "                                              random_state=123),\n",
       "             n_jobs=-1,\n",
       "             param_grid={'max_depth': range(1, 15),\n",
       "                         'max_features': range(2, 33, 10),\n",
       "                         'min_samples_leaf': range(1, 4),\n",
       "                         'n_estimators': range(50, 500, 50)},\n",
       "             scoring='accuracy', verbose=True)"
      ]
     },
     "execution_count": 63,
     "metadata": {},
     "output_type": "execute_result"
    }
   ],
   "source": [
    "%%time\n",
    "forest = RandomForestClassifier(class_weight='balanced',\n",
    "                                      random_state=123)\n",
    "\n",
    "forest_params = {'n_estimators': range(50, 500, 50),\n",
    "                'max_depth': range(1,15),\n",
    "                'max_features': range(2,features_OHE_train.shape[1], 10),\n",
    "                'min_samples_leaf': range(1,4)\n",
    "             }\n",
    "\n",
    "forest_grid = GridSearchCV(forest, \n",
    "                         forest_params,\n",
    "                         cv=5, \n",
    "                         n_jobs=-1,\n",
    "                         scoring = 'accuracy',\n",
    "                         verbose=True)\n",
    "\n",
    "forest_grid.fit(features_OHE_train, target_train)"
   ]
  },
  {
   "cell_type": "markdown",
   "id": "b643e272",
   "metadata": {},
   "source": [
    "Лучшее сочетание параметров для модели случайного леса:"
   ]
  },
  {
   "cell_type": "code",
   "execution_count": 64,
   "id": "2f5c9ebb",
   "metadata": {},
   "outputs": [
    {
     "data": {
      "text/plain": [
       "{'max_depth': 6,\n",
       " 'max_features': 12,\n",
       " 'min_samples_leaf': 1,\n",
       " 'n_estimators': 150}"
      ]
     },
     "execution_count": 64,
     "metadata": {},
     "output_type": "execute_result"
    }
   ],
   "source": [
    "forest_grid.best_params_"
   ]
  },
  {
   "cell_type": "code",
   "execution_count": 65,
   "id": "6a53ab97",
   "metadata": {},
   "outputs": [
    {
     "name": "stdout",
     "output_type": "stream",
     "text": [
      "Метрика accuracy для лучшего сочетания параметров модели случайного леса равна 0.835585541219344\n"
     ]
    }
   ],
   "source": [
    "print('Метрика accuracy для лучшего сочетания параметров модели случайного леса равна', forest_grid.best_score_)"
   ]
  },
  {
   "cell_type": "code",
   "execution_count": 66,
   "id": "f747fa8b",
   "metadata": {},
   "outputs": [
    {
     "name": "stdout",
     "output_type": "stream",
     "text": [
      "Метрика accuracy для модели случайного леса на тестовой выборке с оптимальными гиперпараметрами 0.8100558659217877\n"
     ]
    }
   ],
   "source": [
    "predictions = forest_grid.predict(features_OHE_test)\n",
    "print('Метрика accuracy для модели случайного леса на тестовой выборке с оптимальными гиперпараметрами', accuracy_score(target_test, predictions))"
   ]
  },
  {
   "cell_type": "markdown",
   "id": "70f10103",
   "metadata": {},
   "source": [
    "### Модель k ближайших соседей"
   ]
  },
  {
   "cell_type": "code",
   "execution_count": 67,
   "id": "4bbf0771",
   "metadata": {},
   "outputs": [
    {
     "name": "stdout",
     "output_type": "stream",
     "text": [
      "Метрика accuracy для модели k ближайших соседей 0.7932960893854749\n"
     ]
    }
   ],
   "source": [
    "knn_model = KNeighborsClassifier()\n",
    "knn_model.fit(features_OHE_train, target_train)\n",
    "\n",
    "predictions = knn_model.predict(features_OHE_test)\n",
    "print('Метрика accuracy для модели k ближайших соседей', accuracy_score(target_test, predictions))"
   ]
  },
  {
   "cell_type": "markdown",
   "id": "6ae40d46",
   "metadata": {},
   "source": [
    "Попробуем подобрать гиперпараметры при помощи GridSearchCV"
   ]
  },
  {
   "cell_type": "code",
   "execution_count": 68,
   "id": "25bcd608",
   "metadata": {},
   "outputs": [
    {
     "name": "stdout",
     "output_type": "stream",
     "text": [
      "CPU times: total: 0 ns\n",
      "Wall time: 0 ns\n",
      "Fitting 5 folds for each of 99 candidates, totalling 495 fits\n"
     ]
    },
    {
     "data": {
      "text/plain": [
       "GridSearchCV(cv=5, estimator=KNeighborsClassifier(), n_jobs=-1,\n",
       "             param_grid={'n_neighbors': range(1, 100)}, scoring='accuracy',\n",
       "             verbose=True)"
      ]
     },
     "execution_count": 68,
     "metadata": {},
     "output_type": "execute_result"
    }
   ],
   "source": [
    "%time\n",
    "knn = KNeighborsClassifier()\n",
    "knn_params = {'n_neighbors': range(1,100)}\n",
    "\n",
    "knn_grid = GridSearchCV(knn,\n",
    "                       knn_params,\n",
    "                       cv=5,\n",
    "                       n_jobs=-1,\n",
    "                       scoring = 'accuracy',\n",
    "                       verbose=True)\n",
    "\n",
    "knn_grid.fit(features_OHE_train, target_train)"
   ]
  },
  {
   "cell_type": "markdown",
   "id": "bdd6afe9",
   "metadata": {},
   "source": [
    "Лучшее сочетание параметров для модели k Ближайших соседей:"
   ]
  },
  {
   "cell_type": "code",
   "execution_count": 69,
   "id": "b944f739",
   "metadata": {},
   "outputs": [
    {
     "data": {
      "text/plain": [
       "{'n_neighbors': 21}"
      ]
     },
     "execution_count": 69,
     "metadata": {},
     "output_type": "execute_result"
    }
   ],
   "source": [
    "knn_grid.best_params_"
   ]
  },
  {
   "cell_type": "code",
   "execution_count": 70,
   "id": "32379881",
   "metadata": {},
   "outputs": [
    {
     "name": "stdout",
     "output_type": "stream",
     "text": [
      "Метрика accuracy для лучшего сочетания параметров модели knn равна 0.8299418890968188\n"
     ]
    }
   ],
   "source": [
    "print('Метрика accuracy для лучшего сочетания параметров модели knn равна', knn_grid.best_score_)"
   ]
  },
  {
   "cell_type": "code",
   "execution_count": 71,
   "id": "0a4b225c",
   "metadata": {},
   "outputs": [
    {
     "name": "stdout",
     "output_type": "stream",
     "text": [
      "Метрика accuracy для модели knn на тестовой выборке с оптимальными гиперпараметрами 0.8156424581005587\n"
     ]
    }
   ],
   "source": [
    "predictions = knn_grid.predict(features_OHE_test)\n",
    "print('Метрика accuracy для модели knn на тестовой выборке с оптимальными гиперпараметрами', accuracy_score(target_test, predictions))"
   ]
  },
  {
   "cell_type": "markdown",
   "id": "60755499",
   "metadata": {},
   "source": [
    "### CatBoost с OHE"
   ]
  },
  {
   "cell_type": "code",
   "execution_count": 72,
   "id": "65d9a195",
   "metadata": {},
   "outputs": [
    {
     "name": "stdout",
     "output_type": "stream",
     "text": [
      "Learning rate set to 0.008911\n",
      "0:\tlearn: 0.6865875\ttotal: 159ms\tremaining: 2m 39s\n",
      "100:\tlearn: 0.4345451\ttotal: 269ms\tremaining: 2.4s\n",
      "200:\tlearn: 0.3781642\ttotal: 380ms\tremaining: 1.51s\n",
      "300:\tlearn: 0.3529250\ttotal: 492ms\tremaining: 1.14s\n",
      "400:\tlearn: 0.3361215\ttotal: 607ms\tremaining: 907ms\n",
      "500:\tlearn: 0.3225468\ttotal: 721ms\tremaining: 718ms\n",
      "600:\tlearn: 0.3112884\ttotal: 835ms\tremaining: 554ms\n",
      "700:\tlearn: 0.2998561\ttotal: 949ms\tremaining: 405ms\n",
      "800:\tlearn: 0.2872820\ttotal: 1.06s\tremaining: 264ms\n",
      "900:\tlearn: 0.2756571\ttotal: 1.18s\tremaining: 130ms\n",
      "999:\tlearn: 0.2655892\ttotal: 1.29s\tremaining: 0us\n",
      "Метрика accuracy для модели CatBoost с OHE  0.8044692737430168\n"
     ]
    }
   ],
   "source": [
    "cat_model = CatBoostClassifier(random_state=123, verbose=100)\n",
    "cat_model.fit(features_OHE_train, target_train)\n",
    "\n",
    "predictions = cat_model.predict(features_OHE_test)\n",
    "print('Метрика accuracy для модели CatBoost с OHE ', accuracy_score(target_test, predictions))"
   ]
  },
  {
   "cell_type": "markdown",
   "id": "c05102a0",
   "metadata": {},
   "source": [
    "Попробуем улучшить показатели модели при помощи GridSearchCV"
   ]
  },
  {
   "cell_type": "code",
   "execution_count": 73,
   "id": "419d5cee",
   "metadata": {},
   "outputs": [
    {
     "name": "stdout",
     "output_type": "stream",
     "text": [
      "Fitting 5 folds for each of 285 candidates, totalling 1425 fits\n",
      "Learning rate set to 0.010343\n",
      "0:\tlearn: 0.6863684\ttotal: 1.02ms\tremaining: 864ms\n",
      "1:\tlearn: 0.6801160\ttotal: 2.01ms\tremaining: 852ms\n",
      "2:\tlearn: 0.6737220\ttotal: 2.97ms\tremaining: 838ms\n",
      "3:\tlearn: 0.6678108\ttotal: 3.9ms\tremaining: 826ms\n",
      "4:\tlearn: 0.6619970\ttotal: 4.88ms\tremaining: 825ms\n",
      "5:\tlearn: 0.6569105\ttotal: 5.9ms\tremaining: 830ms\n",
      "6:\tlearn: 0.6510600\ttotal: 6.83ms\tremaining: 822ms\n",
      "7:\tlearn: 0.6457167\ttotal: 7.63ms\tremaining: 803ms\n",
      "8:\tlearn: 0.6403735\ttotal: 8.61ms\tremaining: 805ms\n",
      "9:\tlearn: 0.6361912\ttotal: 9.43ms\tremaining: 792ms\n",
      "10:\tlearn: 0.6313148\ttotal: 10.4ms\tremaining: 791ms\n",
      "11:\tlearn: 0.6260530\ttotal: 11.3ms\tremaining: 791ms\n",
      "12:\tlearn: 0.6208630\ttotal: 12.3ms\tremaining: 792ms\n",
      "13:\tlearn: 0.6159789\ttotal: 13.3ms\tremaining: 792ms\n",
      "14:\tlearn: 0.6112500\ttotal: 14.2ms\tremaining: 791ms\n",
      "15:\tlearn: 0.6064046\ttotal: 15.2ms\tremaining: 791ms\n",
      "16:\tlearn: 0.6025073\ttotal: 16.1ms\tremaining: 787ms\n",
      "17:\tlearn: 0.5998139\ttotal: 16.6ms\tremaining: 767ms\n",
      "18:\tlearn: 0.5949544\ttotal: 17.6ms\tremaining: 768ms\n",
      "19:\tlearn: 0.5910924\ttotal: 18.5ms\tremaining: 769ms\n",
      "20:\tlearn: 0.5872600\ttotal: 19.5ms\tremaining: 769ms\n",
      "21:\tlearn: 0.5832379\ttotal: 20.5ms\tremaining: 773ms\n",
      "22:\tlearn: 0.5797579\ttotal: 21.5ms\tremaining: 773ms\n",
      "23:\tlearn: 0.5761771\ttotal: 22.4ms\tremaining: 771ms\n",
      "24:\tlearn: 0.5723574\ttotal: 23.3ms\tremaining: 770ms\n",
      "25:\tlearn: 0.5688003\ttotal: 24.3ms\tremaining: 769ms\n",
      "26:\tlearn: 0.5650676\ttotal: 25.3ms\tremaining: 771ms\n",
      "27:\tlearn: 0.5625148\ttotal: 26.2ms\tremaining: 770ms\n",
      "28:\tlearn: 0.5594232\ttotal: 27.2ms\tremaining: 770ms\n",
      "29:\tlearn: 0.5559668\ttotal: 28.2ms\tremaining: 770ms\n",
      "30:\tlearn: 0.5528767\ttotal: 29.2ms\tremaining: 772ms\n",
      "31:\tlearn: 0.5489909\ttotal: 30.2ms\tremaining: 772ms\n",
      "32:\tlearn: 0.5458635\ttotal: 31.3ms\tremaining: 774ms\n",
      "33:\tlearn: 0.5428771\ttotal: 32.2ms\tremaining: 773ms\n",
      "34:\tlearn: 0.5403932\ttotal: 33.2ms\tremaining: 774ms\n",
      "35:\tlearn: 0.5370949\ttotal: 34.3ms\tremaining: 776ms\n",
      "36:\tlearn: 0.5338658\ttotal: 35.3ms\tremaining: 776ms\n",
      "37:\tlearn: 0.5309280\ttotal: 36.4ms\tremaining: 778ms\n",
      "38:\tlearn: 0.5279356\ttotal: 37.4ms\tremaining: 778ms\n",
      "39:\tlearn: 0.5249519\ttotal: 38.5ms\tremaining: 779ms\n",
      "40:\tlearn: 0.5219273\ttotal: 39.5ms\tremaining: 780ms\n",
      "41:\tlearn: 0.5190186\ttotal: 40.6ms\tremaining: 781ms\n",
      "42:\tlearn: 0.5160912\ttotal: 41.6ms\tremaining: 782ms\n",
      "43:\tlearn: 0.5137829\ttotal: 42.6ms\tremaining: 780ms\n",
      "44:\tlearn: 0.5112958\ttotal: 43.7ms\tremaining: 781ms\n",
      "45:\tlearn: 0.5086639\ttotal: 44.7ms\tremaining: 780ms\n",
      "46:\tlearn: 0.5065654\ttotal: 45.7ms\tremaining: 780ms\n",
      "47:\tlearn: 0.5045142\ttotal: 46.6ms\tremaining: 779ms\n",
      "48:\tlearn: 0.5020506\ttotal: 47.6ms\tremaining: 778ms\n",
      "49:\tlearn: 0.4998751\ttotal: 48.7ms\tremaining: 780ms\n",
      "50:\tlearn: 0.4974767\ttotal: 49.8ms\tremaining: 780ms\n",
      "51:\tlearn: 0.4957968\ttotal: 50.8ms\tremaining: 780ms\n",
      "52:\tlearn: 0.4936547\ttotal: 51.8ms\tremaining: 779ms\n",
      "53:\tlearn: 0.4917669\ttotal: 52.9ms\tremaining: 780ms\n",
      "54:\tlearn: 0.4901562\ttotal: 54.2ms\tremaining: 783ms\n",
      "55:\tlearn: 0.4880186\ttotal: 55.3ms\tremaining: 783ms\n",
      "56:\tlearn: 0.4860099\ttotal: 56.4ms\tremaining: 784ms\n",
      "57:\tlearn: 0.4840288\ttotal: 57.3ms\tremaining: 782ms\n",
      "58:\tlearn: 0.4815352\ttotal: 58.5ms\tremaining: 784ms\n",
      "59:\tlearn: 0.4791720\ttotal: 59.5ms\tremaining: 784ms\n",
      "60:\tlearn: 0.4778686\ttotal: 60.5ms\tremaining: 782ms\n",
      "61:\tlearn: 0.4763870\ttotal: 61.4ms\tremaining: 781ms\n",
      "62:\tlearn: 0.4748794\ttotal: 62.3ms\tremaining: 779ms\n",
      "63:\tlearn: 0.4731100\ttotal: 63.4ms\tremaining: 778ms\n",
      "64:\tlearn: 0.4706307\ttotal: 64.4ms\tremaining: 778ms\n",
      "65:\tlearn: 0.4691888\ttotal: 65.5ms\tremaining: 778ms\n",
      "66:\tlearn: 0.4676743\ttotal: 66.5ms\tremaining: 777ms\n",
      "67:\tlearn: 0.4661654\ttotal: 67.4ms\tremaining: 775ms\n",
      "68:\tlearn: 0.4647525\ttotal: 68.4ms\tremaining: 774ms\n",
      "69:\tlearn: 0.4632543\ttotal: 69.3ms\tremaining: 773ms\n",
      "70:\tlearn: 0.4619152\ttotal: 70.3ms\tremaining: 772ms\n",
      "71:\tlearn: 0.4607406\ttotal: 71.1ms\tremaining: 768ms\n",
      "72:\tlearn: 0.4596960\ttotal: 72.1ms\tremaining: 767ms\n",
      "73:\tlearn: 0.4580627\ttotal: 73.1ms\tremaining: 767ms\n",
      "74:\tlearn: 0.4572115\ttotal: 74ms\tremaining: 765ms\n",
      "75:\tlearn: 0.4555909\ttotal: 75ms\tremaining: 764ms\n",
      "76:\tlearn: 0.4542465\ttotal: 75.8ms\tremaining: 761ms\n",
      "77:\tlearn: 0.4529900\ttotal: 76.7ms\tremaining: 759ms\n",
      "78:\tlearn: 0.4518704\ttotal: 77.5ms\tremaining: 756ms\n",
      "79:\tlearn: 0.4511980\ttotal: 78.1ms\tremaining: 751ms\n",
      "80:\tlearn: 0.4495995\ttotal: 79ms\tremaining: 750ms\n",
      "81:\tlearn: 0.4486979\ttotal: 79.8ms\tremaining: 748ms\n",
      "82:\tlearn: 0.4477434\ttotal: 80.7ms\tremaining: 746ms\n",
      "83:\tlearn: 0.4463408\ttotal: 81.6ms\tremaining: 744ms\n",
      "84:\tlearn: 0.4452849\ttotal: 82.5ms\tremaining: 743ms\n",
      "85:\tlearn: 0.4438865\ttotal: 83.4ms\tremaining: 741ms\n",
      "86:\tlearn: 0.4426192\ttotal: 84.2ms\tremaining: 739ms\n",
      "87:\tlearn: 0.4413291\ttotal: 85.1ms\tremaining: 737ms\n",
      "88:\tlearn: 0.4397793\ttotal: 86ms\tremaining: 735ms\n",
      "89:\tlearn: 0.4391101\ttotal: 86.8ms\tremaining: 733ms\n",
      "90:\tlearn: 0.4378788\ttotal: 87.7ms\tremaining: 731ms\n",
      "91:\tlearn: 0.4371043\ttotal: 88.5ms\tremaining: 729ms\n",
      "92:\tlearn: 0.4363708\ttotal: 89.4ms\tremaining: 728ms\n",
      "93:\tlearn: 0.4348697\ttotal: 90.3ms\tremaining: 726ms\n",
      "94:\tlearn: 0.4341452\ttotal: 91.2ms\tremaining: 725ms\n",
      "95:\tlearn: 0.4329514\ttotal: 92.2ms\tremaining: 724ms\n",
      "96:\tlearn: 0.4316823\ttotal: 93.2ms\tremaining: 723ms\n",
      "97:\tlearn: 0.4307717\ttotal: 94ms\tremaining: 722ms\n",
      "98:\tlearn: 0.4301220\ttotal: 95ms\tremaining: 721ms\n",
      "99:\tlearn: 0.4295193\ttotal: 96ms\tremaining: 720ms\n",
      "100:\tlearn: 0.4285998\ttotal: 96.9ms\tremaining: 719ms\n",
      "101:\tlearn: 0.4271943\ttotal: 97.8ms\tremaining: 717ms\n",
      "102:\tlearn: 0.4264035\ttotal: 98.7ms\tremaining: 716ms\n",
      "103:\tlearn: 0.4258657\ttotal: 99.6ms\tremaining: 714ms\n",
      "104:\tlearn: 0.4248007\ttotal: 100ms\tremaining: 713ms\n",
      "105:\tlearn: 0.4241438\ttotal: 101ms\tremaining: 712ms\n",
      "106:\tlearn: 0.4230043\ttotal: 102ms\tremaining: 711ms\n",
      "107:\tlearn: 0.4223991\ttotal: 103ms\tremaining: 709ms\n",
      "108:\tlearn: 0.4215737\ttotal: 104ms\tremaining: 708ms\n",
      "109:\tlearn: 0.4207470\ttotal: 105ms\tremaining: 707ms\n",
      "110:\tlearn: 0.4197977\ttotal: 106ms\tremaining: 706ms\n",
      "111:\tlearn: 0.4192578\ttotal: 107ms\tremaining: 704ms\n",
      "112:\tlearn: 0.4183949\ttotal: 108ms\tremaining: 703ms\n",
      "113:\tlearn: 0.4172428\ttotal: 109ms\tremaining: 702ms\n",
      "114:\tlearn: 0.4165303\ttotal: 110ms\tremaining: 700ms\n",
      "115:\tlearn: 0.4158778\ttotal: 110ms\tremaining: 699ms\n",
      "116:\tlearn: 0.4152721\ttotal: 111ms\tremaining: 697ms\n",
      "117:\tlearn: 0.4146184\ttotal: 112ms\tremaining: 696ms\n",
      "118:\tlearn: 0.4140145\ttotal: 113ms\tremaining: 695ms\n",
      "119:\tlearn: 0.4133743\ttotal: 114ms\tremaining: 693ms\n",
      "120:\tlearn: 0.4127539\ttotal: 115ms\tremaining: 692ms\n",
      "121:\tlearn: 0.4122704\ttotal: 116ms\tremaining: 690ms\n",
      "122:\tlearn: 0.4117267\ttotal: 117ms\tremaining: 689ms\n",
      "123:\tlearn: 0.4113166\ttotal: 117ms\tremaining: 687ms\n",
      "124:\tlearn: 0.4102754\ttotal: 118ms\tremaining: 686ms\n",
      "125:\tlearn: 0.4093865\ttotal: 119ms\tremaining: 685ms\n",
      "126:\tlearn: 0.4090188\ttotal: 120ms\tremaining: 683ms\n",
      "127:\tlearn: 0.4080853\ttotal: 121ms\tremaining: 682ms\n",
      "128:\tlearn: 0.4077507\ttotal: 122ms\tremaining: 680ms\n",
      "129:\tlearn: 0.4074299\ttotal: 123ms\tremaining: 679ms\n",
      "130:\tlearn: 0.4068790\ttotal: 124ms\tremaining: 678ms\n",
      "131:\tlearn: 0.4062663\ttotal: 124ms\tremaining: 677ms\n",
      "132:\tlearn: 0.4055915\ttotal: 125ms\tremaining: 675ms\n",
      "133:\tlearn: 0.4049949\ttotal: 126ms\tremaining: 674ms\n",
      "134:\tlearn: 0.4045534\ttotal: 127ms\tremaining: 673ms\n",
      "135:\tlearn: 0.4040093\ttotal: 128ms\tremaining: 671ms\n",
      "136:\tlearn: 0.4038026\ttotal: 129ms\tremaining: 669ms\n",
      "137:\tlearn: 0.4033117\ttotal: 129ms\tremaining: 668ms\n",
      "138:\tlearn: 0.4030063\ttotal: 130ms\tremaining: 666ms\n",
      "139:\tlearn: 0.4024064\ttotal: 131ms\tremaining: 664ms\n",
      "140:\tlearn: 0.4018484\ttotal: 132ms\tremaining: 663ms\n",
      "141:\tlearn: 0.4013434\ttotal: 133ms\tremaining: 662ms\n",
      "142:\tlearn: 0.4009185\ttotal: 134ms\tremaining: 661ms\n",
      "143:\tlearn: 0.4004580\ttotal: 135ms\tremaining: 660ms\n",
      "144:\tlearn: 0.4001797\ttotal: 135ms\tremaining: 659ms\n",
      "145:\tlearn: 0.3999244\ttotal: 136ms\tremaining: 658ms\n",
      "146:\tlearn: 0.3992024\ttotal: 137ms\tremaining: 657ms\n",
      "147:\tlearn: 0.3988692\ttotal: 138ms\tremaining: 656ms\n",
      "148:\tlearn: 0.3982852\ttotal: 139ms\tremaining: 654ms\n",
      "149:\tlearn: 0.3976168\ttotal: 140ms\tremaining: 653ms\n",
      "150:\tlearn: 0.3971107\ttotal: 141ms\tremaining: 652ms\n",
      "151:\tlearn: 0.3967010\ttotal: 142ms\tremaining: 651ms\n",
      "152:\tlearn: 0.3962076\ttotal: 143ms\tremaining: 649ms\n",
      "153:\tlearn: 0.3958971\ttotal: 143ms\tremaining: 648ms\n",
      "154:\tlearn: 0.3954899\ttotal: 144ms\tremaining: 648ms\n",
      "155:\tlearn: 0.3949402\ttotal: 145ms\tremaining: 647ms\n",
      "156:\tlearn: 0.3945930\ttotal: 146ms\tremaining: 646ms\n",
      "157:\tlearn: 0.3943333\ttotal: 147ms\tremaining: 645ms\n",
      "158:\tlearn: 0.3940563\ttotal: 148ms\tremaining: 643ms\n",
      "159:\tlearn: 0.3938072\ttotal: 149ms\tremaining: 642ms\n",
      "160:\tlearn: 0.3933533\ttotal: 150ms\tremaining: 641ms\n",
      "161:\tlearn: 0.3928615\ttotal: 151ms\tremaining: 640ms\n",
      "162:\tlearn: 0.3923818\ttotal: 152ms\tremaining: 639ms\n",
      "163:\tlearn: 0.3920520\ttotal: 152ms\tremaining: 638ms\n",
      "164:\tlearn: 0.3916437\ttotal: 153ms\tremaining: 636ms\n",
      "165:\tlearn: 0.3912509\ttotal: 154ms\tremaining: 635ms\n",
      "166:\tlearn: 0.3911467\ttotal: 155ms\tremaining: 633ms\n",
      "167:\tlearn: 0.3909210\ttotal: 156ms\tremaining: 631ms\n",
      "168:\tlearn: 0.3904053\ttotal: 156ms\tremaining: 630ms\n",
      "169:\tlearn: 0.3900039\ttotal: 157ms\tremaining: 630ms\n",
      "170:\tlearn: 0.3895893\ttotal: 158ms\tremaining: 628ms\n",
      "171:\tlearn: 0.3893067\ttotal: 159ms\tremaining: 628ms\n",
      "172:\tlearn: 0.3889903\ttotal: 160ms\tremaining: 627ms\n",
      "173:\tlearn: 0.3887718\ttotal: 161ms\tremaining: 626ms\n",
      "174:\tlearn: 0.3884486\ttotal: 162ms\tremaining: 625ms\n",
      "175:\tlearn: 0.3882598\ttotal: 163ms\tremaining: 624ms\n",
      "176:\tlearn: 0.3879209\ttotal: 164ms\tremaining: 623ms\n",
      "177:\tlearn: 0.3875993\ttotal: 165ms\tremaining: 621ms\n",
      "178:\tlearn: 0.3872558\ttotal: 165ms\tremaining: 620ms\n",
      "179:\tlearn: 0.3867802\ttotal: 166ms\tremaining: 619ms\n",
      "180:\tlearn: 0.3864186\ttotal: 167ms\tremaining: 618ms\n",
      "181:\tlearn: 0.3861437\ttotal: 168ms\tremaining: 617ms\n",
      "182:\tlearn: 0.3859602\ttotal: 169ms\tremaining: 616ms\n",
      "183:\tlearn: 0.3857984\ttotal: 170ms\tremaining: 615ms\n",
      "184:\tlearn: 0.3854708\ttotal: 171ms\tremaining: 613ms\n",
      "185:\tlearn: 0.3850564\ttotal: 172ms\tremaining: 612ms\n",
      "186:\tlearn: 0.3845964\ttotal: 172ms\tremaining: 611ms\n",
      "187:\tlearn: 0.3843464\ttotal: 173ms\tremaining: 610ms\n",
      "188:\tlearn: 0.3839294\ttotal: 174ms\tremaining: 609ms\n",
      "189:\tlearn: 0.3837278\ttotal: 175ms\tremaining: 608ms\n",
      "190:\tlearn: 0.3834032\ttotal: 176ms\tremaining: 607ms\n",
      "191:\tlearn: 0.3831509\ttotal: 177ms\tremaining: 606ms\n",
      "192:\tlearn: 0.3828362\ttotal: 178ms\tremaining: 605ms\n",
      "193:\tlearn: 0.3824400\ttotal: 179ms\tremaining: 604ms\n",
      "194:\tlearn: 0.3821429\ttotal: 180ms\tremaining: 603ms\n",
      "195:\tlearn: 0.3817876\ttotal: 181ms\tremaining: 603ms\n",
      "196:\tlearn: 0.3815175\ttotal: 181ms\tremaining: 602ms\n",
      "197:\tlearn: 0.3812244\ttotal: 183ms\tremaining: 601ms\n",
      "198:\tlearn: 0.3809600\ttotal: 184ms\tremaining: 600ms\n",
      "199:\tlearn: 0.3807986\ttotal: 184ms\tremaining: 600ms\n",
      "200:\tlearn: 0.3805668\ttotal: 185ms\tremaining: 599ms\n",
      "201:\tlearn: 0.3803942\ttotal: 186ms\tremaining: 598ms\n",
      "202:\tlearn: 0.3801227\ttotal: 187ms\tremaining: 597ms\n",
      "203:\tlearn: 0.3798061\ttotal: 188ms\tremaining: 596ms\n",
      "204:\tlearn: 0.3795736\ttotal: 189ms\tremaining: 595ms\n",
      "205:\tlearn: 0.3790768\ttotal: 190ms\tremaining: 595ms\n",
      "206:\tlearn: 0.3787667\ttotal: 191ms\tremaining: 594ms\n",
      "207:\tlearn: 0.3784573\ttotal: 192ms\tremaining: 593ms\n",
      "208:\tlearn: 0.3782431\ttotal: 193ms\tremaining: 592ms\n",
      "209:\tlearn: 0.3779590\ttotal: 194ms\tremaining: 591ms\n",
      "210:\tlearn: 0.3776462\ttotal: 195ms\tremaining: 591ms\n"
     ]
    },
    {
     "name": "stdout",
     "output_type": "stream",
     "text": [
      "211:\tlearn: 0.3776291\ttotal: 196ms\tremaining: 590ms\n",
      "212:\tlearn: 0.3773936\ttotal: 197ms\tremaining: 589ms\n",
      "213:\tlearn: 0.3769368\ttotal: 198ms\tremaining: 588ms\n",
      "214:\tlearn: 0.3766945\ttotal: 199ms\tremaining: 587ms\n",
      "215:\tlearn: 0.3764906\ttotal: 200ms\tremaining: 586ms\n",
      "216:\tlearn: 0.3761204\ttotal: 201ms\tremaining: 585ms\n",
      "217:\tlearn: 0.3758902\ttotal: 201ms\tremaining: 584ms\n",
      "218:\tlearn: 0.3758595\ttotal: 202ms\tremaining: 582ms\n",
      "219:\tlearn: 0.3755226\ttotal: 203ms\tremaining: 581ms\n",
      "220:\tlearn: 0.3752148\ttotal: 204ms\tremaining: 580ms\n",
      "221:\tlearn: 0.3749164\ttotal: 205ms\tremaining: 579ms\n",
      "222:\tlearn: 0.3748190\ttotal: 205ms\tremaining: 578ms\n",
      "223:\tlearn: 0.3745547\ttotal: 206ms\tremaining: 577ms\n",
      "224:\tlearn: 0.3744031\ttotal: 207ms\tremaining: 576ms\n",
      "225:\tlearn: 0.3741546\ttotal: 208ms\tremaining: 575ms\n",
      "226:\tlearn: 0.3737347\ttotal: 209ms\tremaining: 574ms\n",
      "227:\tlearn: 0.3735088\ttotal: 210ms\tremaining: 574ms\n",
      "228:\tlearn: 0.3734535\ttotal: 211ms\tremaining: 572ms\n",
      "229:\tlearn: 0.3731595\ttotal: 212ms\tremaining: 571ms\n",
      "230:\tlearn: 0.3728131\ttotal: 213ms\tremaining: 571ms\n",
      "231:\tlearn: 0.3725598\ttotal: 214ms\tremaining: 570ms\n",
      "232:\tlearn: 0.3722854\ttotal: 215ms\tremaining: 569ms\n",
      "233:\tlearn: 0.3720639\ttotal: 216ms\tremaining: 569ms\n",
      "234:\tlearn: 0.3719609\ttotal: 217ms\tremaining: 568ms\n",
      "235:\tlearn: 0.3717395\ttotal: 218ms\tremaining: 567ms\n",
      "236:\tlearn: 0.3716220\ttotal: 219ms\tremaining: 566ms\n",
      "237:\tlearn: 0.3714459\ttotal: 220ms\tremaining: 565ms\n",
      "238:\tlearn: 0.3711326\ttotal: 221ms\tremaining: 564ms\n",
      "239:\tlearn: 0.3709853\ttotal: 222ms\tremaining: 563ms\n",
      "240:\tlearn: 0.3707742\ttotal: 223ms\tremaining: 563ms\n",
      "241:\tlearn: 0.3705384\ttotal: 224ms\tremaining: 562ms\n",
      "242:\tlearn: 0.3701685\ttotal: 225ms\tremaining: 561ms\n",
      "243:\tlearn: 0.3699325\ttotal: 226ms\tremaining: 560ms\n",
      "244:\tlearn: 0.3697208\ttotal: 227ms\tremaining: 559ms\n",
      "245:\tlearn: 0.3693841\ttotal: 228ms\tremaining: 559ms\n",
      "246:\tlearn: 0.3692395\ttotal: 228ms\tremaining: 558ms\n",
      "247:\tlearn: 0.3690834\ttotal: 229ms\tremaining: 557ms\n",
      "248:\tlearn: 0.3688478\ttotal: 230ms\tremaining: 556ms\n",
      "249:\tlearn: 0.3686384\ttotal: 231ms\tremaining: 555ms\n",
      "250:\tlearn: 0.3683095\ttotal: 232ms\tremaining: 554ms\n",
      "251:\tlearn: 0.3680415\ttotal: 233ms\tremaining: 553ms\n",
      "252:\tlearn: 0.3678403\ttotal: 234ms\tremaining: 552ms\n",
      "253:\tlearn: 0.3675382\ttotal: 235ms\tremaining: 551ms\n",
      "254:\tlearn: 0.3672854\ttotal: 236ms\tremaining: 550ms\n",
      "255:\tlearn: 0.3670600\ttotal: 237ms\tremaining: 549ms\n",
      "256:\tlearn: 0.3668519\ttotal: 238ms\tremaining: 548ms\n",
      "257:\tlearn: 0.3666155\ttotal: 239ms\tremaining: 548ms\n",
      "258:\tlearn: 0.3664849\ttotal: 240ms\tremaining: 547ms\n",
      "259:\tlearn: 0.3661746\ttotal: 241ms\tremaining: 546ms\n",
      "260:\tlearn: 0.3658776\ttotal: 241ms\tremaining: 545ms\n",
      "261:\tlearn: 0.3657284\ttotal: 242ms\tremaining: 544ms\n",
      "262:\tlearn: 0.3654205\ttotal: 243ms\tremaining: 543ms\n",
      "263:\tlearn: 0.3651940\ttotal: 244ms\tremaining: 542ms\n",
      "264:\tlearn: 0.3650259\ttotal: 245ms\tremaining: 542ms\n",
      "265:\tlearn: 0.3648064\ttotal: 246ms\tremaining: 541ms\n",
      "266:\tlearn: 0.3646185\ttotal: 247ms\tremaining: 539ms\n",
      "267:\tlearn: 0.3643907\ttotal: 248ms\tremaining: 539ms\n",
      "268:\tlearn: 0.3642432\ttotal: 249ms\tremaining: 538ms\n",
      "269:\tlearn: 0.3641156\ttotal: 250ms\tremaining: 537ms\n",
      "270:\tlearn: 0.3638759\ttotal: 251ms\tremaining: 536ms\n",
      "271:\tlearn: 0.3636668\ttotal: 252ms\tremaining: 535ms\n",
      "272:\tlearn: 0.3633897\ttotal: 253ms\tremaining: 534ms\n",
      "273:\tlearn: 0.3633619\ttotal: 253ms\tremaining: 532ms\n",
      "274:\tlearn: 0.3632128\ttotal: 254ms\tremaining: 531ms\n",
      "275:\tlearn: 0.3631095\ttotal: 255ms\tremaining: 530ms\n",
      "276:\tlearn: 0.3630291\ttotal: 256ms\tremaining: 529ms\n",
      "277:\tlearn: 0.3628001\ttotal: 257ms\tremaining: 529ms\n",
      "278:\tlearn: 0.3626400\ttotal: 258ms\tremaining: 528ms\n",
      "279:\tlearn: 0.3624121\ttotal: 259ms\tremaining: 526ms\n",
      "280:\tlearn: 0.3621069\ttotal: 260ms\tremaining: 525ms\n",
      "281:\tlearn: 0.3619966\ttotal: 260ms\tremaining: 525ms\n",
      "282:\tlearn: 0.3617456\ttotal: 261ms\tremaining: 524ms\n",
      "283:\tlearn: 0.3615175\ttotal: 262ms\tremaining: 523ms\n",
      "284:\tlearn: 0.3612380\ttotal: 263ms\tremaining: 522ms\n",
      "285:\tlearn: 0.3608231\ttotal: 264ms\tremaining: 520ms\n",
      "286:\tlearn: 0.3606195\ttotal: 265ms\tremaining: 519ms\n",
      "287:\tlearn: 0.3603919\ttotal: 266ms\tremaining: 518ms\n",
      "288:\tlearn: 0.3602084\ttotal: 266ms\tremaining: 517ms\n",
      "289:\tlearn: 0.3601162\ttotal: 267ms\tremaining: 516ms\n",
      "290:\tlearn: 0.3600293\ttotal: 268ms\tremaining: 515ms\n",
      "291:\tlearn: 0.3598349\ttotal: 269ms\tremaining: 514ms\n",
      "292:\tlearn: 0.3595649\ttotal: 270ms\tremaining: 513ms\n",
      "293:\tlearn: 0.3592765\ttotal: 271ms\tremaining: 512ms\n",
      "294:\tlearn: 0.3591665\ttotal: 271ms\tremaining: 511ms\n",
      "295:\tlearn: 0.3588436\ttotal: 272ms\tremaining: 510ms\n",
      "296:\tlearn: 0.3586944\ttotal: 273ms\tremaining: 509ms\n",
      "297:\tlearn: 0.3585816\ttotal: 274ms\tremaining: 508ms\n",
      "298:\tlearn: 0.3584822\ttotal: 275ms\tremaining: 507ms\n",
      "299:\tlearn: 0.3584203\ttotal: 276ms\tremaining: 506ms\n",
      "300:\tlearn: 0.3583353\ttotal: 277ms\tremaining: 505ms\n",
      "301:\tlearn: 0.3581656\ttotal: 278ms\tremaining: 504ms\n",
      "302:\tlearn: 0.3579776\ttotal: 279ms\tremaining: 504ms\n",
      "303:\tlearn: 0.3578052\ttotal: 280ms\tremaining: 503ms\n",
      "304:\tlearn: 0.3577014\ttotal: 281ms\tremaining: 502ms\n",
      "305:\tlearn: 0.3575610\ttotal: 282ms\tremaining: 501ms\n",
      "306:\tlearn: 0.3572651\ttotal: 283ms\tremaining: 500ms\n",
      "307:\tlearn: 0.3570823\ttotal: 284ms\tremaining: 499ms\n",
      "308:\tlearn: 0.3569686\ttotal: 284ms\tremaining: 498ms\n",
      "309:\tlearn: 0.3568243\ttotal: 285ms\tremaining: 497ms\n",
      "310:\tlearn: 0.3566517\ttotal: 286ms\tremaining: 496ms\n",
      "311:\tlearn: 0.3565370\ttotal: 287ms\tremaining: 496ms\n",
      "312:\tlearn: 0.3563134\ttotal: 288ms\tremaining: 495ms\n",
      "313:\tlearn: 0.3561358\ttotal: 289ms\tremaining: 494ms\n",
      "314:\tlearn: 0.3560065\ttotal: 290ms\tremaining: 493ms\n",
      "315:\tlearn: 0.3558390\ttotal: 291ms\tremaining: 492ms\n",
      "316:\tlearn: 0.3555632\ttotal: 292ms\tremaining: 491ms\n",
      "317:\tlearn: 0.3553678\ttotal: 293ms\tremaining: 490ms\n",
      "318:\tlearn: 0.3551978\ttotal: 294ms\tremaining: 489ms\n",
      "319:\tlearn: 0.3550969\ttotal: 295ms\tremaining: 488ms\n",
      "320:\tlearn: 0.3549521\ttotal: 296ms\tremaining: 487ms\n",
      "321:\tlearn: 0.3546731\ttotal: 297ms\tremaining: 487ms\n",
      "322:\tlearn: 0.3545792\ttotal: 298ms\tremaining: 486ms\n",
      "323:\tlearn: 0.3544255\ttotal: 299ms\tremaining: 485ms\n",
      "324:\tlearn: 0.3542974\ttotal: 299ms\tremaining: 484ms\n",
      "325:\tlearn: 0.3540747\ttotal: 300ms\tremaining: 483ms\n",
      "326:\tlearn: 0.3537669\ttotal: 301ms\tremaining: 482ms\n",
      "327:\tlearn: 0.3536917\ttotal: 302ms\tremaining: 481ms\n",
      "328:\tlearn: 0.3534783\ttotal: 303ms\tremaining: 480ms\n",
      "329:\tlearn: 0.3532869\ttotal: 304ms\tremaining: 479ms\n",
      "330:\tlearn: 0.3531279\ttotal: 305ms\tremaining: 478ms\n",
      "331:\tlearn: 0.3527948\ttotal: 306ms\tremaining: 477ms\n",
      "332:\tlearn: 0.3526651\ttotal: 307ms\tremaining: 477ms\n",
      "333:\tlearn: 0.3524433\ttotal: 308ms\tremaining: 476ms\n",
      "334:\tlearn: 0.3522255\ttotal: 309ms\tremaining: 475ms\n",
      "335:\tlearn: 0.3520545\ttotal: 310ms\tremaining: 474ms\n",
      "336:\tlearn: 0.3518685\ttotal: 311ms\tremaining: 473ms\n",
      "337:\tlearn: 0.3516856\ttotal: 312ms\tremaining: 472ms\n",
      "338:\tlearn: 0.3514901\ttotal: 312ms\tremaining: 471ms\n",
      "339:\tlearn: 0.3513192\ttotal: 313ms\tremaining: 470ms\n",
      "340:\tlearn: 0.3511000\ttotal: 314ms\tremaining: 469ms\n",
      "341:\tlearn: 0.3510361\ttotal: 315ms\tremaining: 468ms\n",
      "342:\tlearn: 0.3509519\ttotal: 316ms\tremaining: 467ms\n",
      "343:\tlearn: 0.3507899\ttotal: 317ms\tremaining: 466ms\n",
      "344:\tlearn: 0.3504918\ttotal: 317ms\tremaining: 465ms\n",
      "345:\tlearn: 0.3503419\ttotal: 318ms\tremaining: 464ms\n",
      "346:\tlearn: 0.3503101\ttotal: 319ms\tremaining: 462ms\n",
      "347:\tlearn: 0.3501539\ttotal: 320ms\tremaining: 461ms\n",
      "348:\tlearn: 0.3500650\ttotal: 321ms\tremaining: 460ms\n",
      "349:\tlearn: 0.3498908\ttotal: 321ms\tremaining: 459ms\n",
      "350:\tlearn: 0.3498506\ttotal: 322ms\tremaining: 458ms\n",
      "351:\tlearn: 0.3497299\ttotal: 323ms\tremaining: 457ms\n",
      "352:\tlearn: 0.3494653\ttotal: 324ms\tremaining: 456ms\n",
      "353:\tlearn: 0.3493359\ttotal: 325ms\tremaining: 455ms\n",
      "354:\tlearn: 0.3492617\ttotal: 326ms\tremaining: 454ms\n",
      "355:\tlearn: 0.3490066\ttotal: 327ms\tremaining: 454ms\n",
      "356:\tlearn: 0.3488433\ttotal: 328ms\tremaining: 453ms\n",
      "357:\tlearn: 0.3487117\ttotal: 329ms\tremaining: 452ms\n",
      "358:\tlearn: 0.3484717\ttotal: 330ms\tremaining: 451ms\n",
      "359:\tlearn: 0.3482941\ttotal: 330ms\tremaining: 450ms\n",
      "360:\tlearn: 0.3480949\ttotal: 331ms\tremaining: 449ms\n",
      "361:\tlearn: 0.3480253\ttotal: 332ms\tremaining: 448ms\n",
      "362:\tlearn: 0.3479018\ttotal: 333ms\tremaining: 447ms\n",
      "363:\tlearn: 0.3477325\ttotal: 334ms\tremaining: 446ms\n",
      "364:\tlearn: 0.3475763\ttotal: 335ms\tremaining: 445ms\n",
      "365:\tlearn: 0.3474818\ttotal: 336ms\tremaining: 444ms\n",
      "366:\tlearn: 0.3472985\ttotal: 337ms\tremaining: 443ms\n",
      "367:\tlearn: 0.3472389\ttotal: 338ms\tremaining: 442ms\n",
      "368:\tlearn: 0.3469530\ttotal: 338ms\tremaining: 441ms\n",
      "369:\tlearn: 0.3468148\ttotal: 339ms\tremaining: 440ms\n",
      "370:\tlearn: 0.3467535\ttotal: 340ms\tremaining: 439ms\n",
      "371:\tlearn: 0.3465429\ttotal: 341ms\tremaining: 438ms\n",
      "372:\tlearn: 0.3463675\ttotal: 342ms\tremaining: 437ms\n",
      "373:\tlearn: 0.3462741\ttotal: 343ms\tremaining: 436ms\n",
      "374:\tlearn: 0.3461138\ttotal: 344ms\tremaining: 435ms\n",
      "375:\tlearn: 0.3460265\ttotal: 344ms\tremaining: 434ms\n",
      "376:\tlearn: 0.3459214\ttotal: 345ms\tremaining: 433ms\n",
      "377:\tlearn: 0.3457896\ttotal: 346ms\tremaining: 432ms\n",
      "378:\tlearn: 0.3456549\ttotal: 347ms\tremaining: 431ms\n",
      "379:\tlearn: 0.3455382\ttotal: 348ms\tremaining: 430ms\n",
      "380:\tlearn: 0.3454088\ttotal: 349ms\tremaining: 429ms\n",
      "381:\tlearn: 0.3451677\ttotal: 350ms\tremaining: 429ms\n",
      "382:\tlearn: 0.3450293\ttotal: 351ms\tremaining: 428ms\n",
      "383:\tlearn: 0.3450119\ttotal: 352ms\tremaining: 427ms\n",
      "384:\tlearn: 0.3448589\ttotal: 352ms\tremaining: 426ms\n",
      "385:\tlearn: 0.3446244\ttotal: 353ms\tremaining: 425ms\n",
      "386:\tlearn: 0.3444820\ttotal: 354ms\tremaining: 424ms\n",
      "387:\tlearn: 0.3443524\ttotal: 355ms\tremaining: 423ms\n",
      "388:\tlearn: 0.3441741\ttotal: 356ms\tremaining: 422ms\n",
      "389:\tlearn: 0.3440548\ttotal: 357ms\tremaining: 421ms\n",
      "390:\tlearn: 0.3438666\ttotal: 357ms\tremaining: 420ms\n",
      "391:\tlearn: 0.3438205\ttotal: 358ms\tremaining: 419ms\n",
      "392:\tlearn: 0.3437337\ttotal: 359ms\tremaining: 418ms\n",
      "393:\tlearn: 0.3435080\ttotal: 360ms\tremaining: 417ms\n",
      "394:\tlearn: 0.3434149\ttotal: 361ms\tremaining: 416ms\n",
      "395:\tlearn: 0.3432181\ttotal: 362ms\tremaining: 415ms\n",
      "396:\tlearn: 0.3430859\ttotal: 363ms\tremaining: 414ms\n",
      "397:\tlearn: 0.3429768\ttotal: 364ms\tremaining: 413ms\n",
      "398:\tlearn: 0.3428550\ttotal: 364ms\tremaining: 412ms\n",
      "399:\tlearn: 0.3427661\ttotal: 365ms\tremaining: 411ms\n",
      "400:\tlearn: 0.3426128\ttotal: 366ms\tremaining: 410ms\n",
      "401:\tlearn: 0.3424604\ttotal: 367ms\tremaining: 409ms\n",
      "402:\tlearn: 0.3423975\ttotal: 368ms\tremaining: 408ms\n",
      "403:\tlearn: 0.3422492\ttotal: 369ms\tremaining: 408ms\n",
      "404:\tlearn: 0.3421383\ttotal: 370ms\tremaining: 407ms\n",
      "405:\tlearn: 0.3420830\ttotal: 371ms\tremaining: 406ms\n",
      "406:\tlearn: 0.3418924\ttotal: 372ms\tremaining: 405ms\n",
      "407:\tlearn: 0.3417166\ttotal: 373ms\tremaining: 404ms\n",
      "408:\tlearn: 0.3416561\ttotal: 374ms\tremaining: 403ms\n",
      "409:\tlearn: 0.3415595\ttotal: 375ms\tremaining: 402ms\n",
      "410:\tlearn: 0.3414865\ttotal: 376ms\tremaining: 401ms\n",
      "411:\tlearn: 0.3413092\ttotal: 377ms\tremaining: 401ms\n",
      "412:\tlearn: 0.3411854\ttotal: 378ms\tremaining: 400ms\n",
      "413:\tlearn: 0.3410253\ttotal: 379ms\tremaining: 399ms\n",
      "414:\tlearn: 0.3409527\ttotal: 380ms\tremaining: 398ms\n",
      "415:\tlearn: 0.3407817\ttotal: 380ms\tremaining: 397ms\n",
      "416:\tlearn: 0.3406558\ttotal: 381ms\tremaining: 396ms\n",
      "417:\tlearn: 0.3404847\ttotal: 382ms\tremaining: 395ms\n"
     ]
    },
    {
     "name": "stdout",
     "output_type": "stream",
     "text": [
      "418:\tlearn: 0.3402707\ttotal: 384ms\tremaining: 394ms\n",
      "419:\tlearn: 0.3401223\ttotal: 384ms\tremaining: 394ms\n",
      "420:\tlearn: 0.3399875\ttotal: 385ms\tremaining: 393ms\n",
      "421:\tlearn: 0.3398428\ttotal: 386ms\tremaining: 392ms\n",
      "422:\tlearn: 0.3396716\ttotal: 387ms\tremaining: 391ms\n",
      "423:\tlearn: 0.3396171\ttotal: 388ms\tremaining: 390ms\n",
      "424:\tlearn: 0.3395521\ttotal: 389ms\tremaining: 389ms\n",
      "425:\tlearn: 0.3394226\ttotal: 390ms\tremaining: 388ms\n",
      "426:\tlearn: 0.3391893\ttotal: 391ms\tremaining: 387ms\n",
      "427:\tlearn: 0.3389855\ttotal: 391ms\tremaining: 386ms\n",
      "428:\tlearn: 0.3389054\ttotal: 392ms\tremaining: 385ms\n",
      "429:\tlearn: 0.3387202\ttotal: 393ms\tremaining: 384ms\n",
      "430:\tlearn: 0.3385234\ttotal: 394ms\tremaining: 383ms\n",
      "431:\tlearn: 0.3384143\ttotal: 395ms\tremaining: 382ms\n",
      "432:\tlearn: 0.3382050\ttotal: 396ms\tremaining: 381ms\n",
      "433:\tlearn: 0.3381225\ttotal: 397ms\tremaining: 380ms\n",
      "434:\tlearn: 0.3380049\ttotal: 398ms\tremaining: 379ms\n",
      "435:\tlearn: 0.3378752\ttotal: 399ms\tremaining: 378ms\n",
      "436:\tlearn: 0.3377096\ttotal: 399ms\tremaining: 377ms\n",
      "437:\tlearn: 0.3375629\ttotal: 400ms\tremaining: 376ms\n",
      "438:\tlearn: 0.3374921\ttotal: 401ms\tremaining: 375ms\n",
      "439:\tlearn: 0.3372785\ttotal: 402ms\tremaining: 374ms\n",
      "440:\tlearn: 0.3370746\ttotal: 403ms\tremaining: 373ms\n",
      "441:\tlearn: 0.3368201\ttotal: 403ms\tremaining: 372ms\n",
      "442:\tlearn: 0.3367408\ttotal: 404ms\tremaining: 372ms\n",
      "443:\tlearn: 0.3366458\ttotal: 405ms\tremaining: 371ms\n",
      "444:\tlearn: 0.3365483\ttotal: 406ms\tremaining: 370ms\n",
      "445:\tlearn: 0.3363414\ttotal: 407ms\tremaining: 369ms\n",
      "446:\tlearn: 0.3361719\ttotal: 408ms\tremaining: 368ms\n",
      "447:\tlearn: 0.3360910\ttotal: 409ms\tremaining: 367ms\n",
      "448:\tlearn: 0.3359778\ttotal: 410ms\tremaining: 366ms\n",
      "449:\tlearn: 0.3358463\ttotal: 411ms\tremaining: 366ms\n",
      "450:\tlearn: 0.3357564\ttotal: 412ms\tremaining: 365ms\n",
      "451:\tlearn: 0.3356665\ttotal: 413ms\tremaining: 364ms\n",
      "452:\tlearn: 0.3355359\ttotal: 414ms\tremaining: 363ms\n",
      "453:\tlearn: 0.3354528\ttotal: 415ms\tremaining: 362ms\n",
      "454:\tlearn: 0.3353293\ttotal: 416ms\tremaining: 361ms\n",
      "455:\tlearn: 0.3352435\ttotal: 417ms\tremaining: 360ms\n",
      "456:\tlearn: 0.3351257\ttotal: 418ms\tremaining: 360ms\n",
      "457:\tlearn: 0.3349457\ttotal: 419ms\tremaining: 359ms\n",
      "458:\tlearn: 0.3347604\ttotal: 420ms\tremaining: 358ms\n",
      "459:\tlearn: 0.3346089\ttotal: 421ms\tremaining: 357ms\n",
      "460:\tlearn: 0.3345756\ttotal: 422ms\tremaining: 356ms\n",
      "461:\tlearn: 0.3344436\ttotal: 423ms\tremaining: 355ms\n",
      "462:\tlearn: 0.3344026\ttotal: 424ms\tremaining: 354ms\n",
      "463:\tlearn: 0.3343035\ttotal: 425ms\tremaining: 353ms\n",
      "464:\tlearn: 0.3341542\ttotal: 426ms\tremaining: 353ms\n",
      "465:\tlearn: 0.3340431\ttotal: 427ms\tremaining: 352ms\n",
      "466:\tlearn: 0.3339362\ttotal: 428ms\tremaining: 351ms\n",
      "467:\tlearn: 0.3338498\ttotal: 429ms\tremaining: 350ms\n",
      "468:\tlearn: 0.3337109\ttotal: 430ms\tremaining: 349ms\n",
      "469:\tlearn: 0.3334453\ttotal: 431ms\tremaining: 348ms\n",
      "470:\tlearn: 0.3333430\ttotal: 432ms\tremaining: 347ms\n",
      "471:\tlearn: 0.3331415\ttotal: 433ms\tremaining: 347ms\n",
      "472:\tlearn: 0.3329132\ttotal: 434ms\tremaining: 346ms\n",
      "473:\tlearn: 0.3326825\ttotal: 435ms\tremaining: 345ms\n",
      "474:\tlearn: 0.3325346\ttotal: 436ms\tremaining: 344ms\n",
      "475:\tlearn: 0.3324316\ttotal: 437ms\tremaining: 343ms\n",
      "476:\tlearn: 0.3323014\ttotal: 437ms\tremaining: 342ms\n",
      "477:\tlearn: 0.3321871\ttotal: 438ms\tremaining: 341ms\n",
      "478:\tlearn: 0.3320414\ttotal: 439ms\tremaining: 340ms\n",
      "479:\tlearn: 0.3319612\ttotal: 440ms\tremaining: 339ms\n",
      "480:\tlearn: 0.3318446\ttotal: 441ms\tremaining: 338ms\n",
      "481:\tlearn: 0.3316422\ttotal: 442ms\tremaining: 338ms\n",
      "482:\tlearn: 0.3314578\ttotal: 443ms\tremaining: 337ms\n",
      "483:\tlearn: 0.3313037\ttotal: 444ms\tremaining: 336ms\n",
      "484:\tlearn: 0.3311796\ttotal: 445ms\tremaining: 335ms\n",
      "485:\tlearn: 0.3310669\ttotal: 446ms\tremaining: 334ms\n",
      "486:\tlearn: 0.3309823\ttotal: 447ms\tremaining: 333ms\n",
      "487:\tlearn: 0.3309159\ttotal: 448ms\tremaining: 332ms\n",
      "488:\tlearn: 0.3307997\ttotal: 449ms\tremaining: 331ms\n",
      "489:\tlearn: 0.3306809\ttotal: 450ms\tremaining: 330ms\n",
      "490:\tlearn: 0.3306260\ttotal: 451ms\tremaining: 329ms\n",
      "491:\tlearn: 0.3304987\ttotal: 451ms\tremaining: 329ms\n",
      "492:\tlearn: 0.3302838\ttotal: 452ms\tremaining: 328ms\n",
      "493:\tlearn: 0.3301190\ttotal: 453ms\tremaining: 327ms\n",
      "494:\tlearn: 0.3300014\ttotal: 454ms\tremaining: 326ms\n",
      "495:\tlearn: 0.3298664\ttotal: 455ms\tremaining: 325ms\n",
      "496:\tlearn: 0.3297519\ttotal: 456ms\tremaining: 324ms\n",
      "497:\tlearn: 0.3296329\ttotal: 457ms\tremaining: 323ms\n",
      "498:\tlearn: 0.3293692\ttotal: 458ms\tremaining: 322ms\n",
      "499:\tlearn: 0.3292913\ttotal: 459ms\tremaining: 321ms\n",
      "500:\tlearn: 0.3291788\ttotal: 460ms\tremaining: 320ms\n",
      "501:\tlearn: 0.3291348\ttotal: 461ms\tremaining: 319ms\n",
      "502:\tlearn: 0.3290594\ttotal: 462ms\tremaining: 318ms\n",
      "503:\tlearn: 0.3290069\ttotal: 462ms\tremaining: 317ms\n",
      "504:\tlearn: 0.3289039\ttotal: 463ms\tremaining: 317ms\n",
      "505:\tlearn: 0.3288396\ttotal: 465ms\tremaining: 316ms\n",
      "506:\tlearn: 0.3286781\ttotal: 465ms\tremaining: 315ms\n",
      "507:\tlearn: 0.3285381\ttotal: 466ms\tremaining: 314ms\n",
      "508:\tlearn: 0.3284333\ttotal: 467ms\tremaining: 313ms\n",
      "509:\tlearn: 0.3283028\ttotal: 468ms\tremaining: 312ms\n",
      "510:\tlearn: 0.3282196\ttotal: 469ms\tremaining: 311ms\n",
      "511:\tlearn: 0.3280922\ttotal: 470ms\tremaining: 310ms\n",
      "512:\tlearn: 0.3278476\ttotal: 471ms\tremaining: 309ms\n",
      "513:\tlearn: 0.3277806\ttotal: 472ms\tremaining: 309ms\n",
      "514:\tlearn: 0.3277548\ttotal: 473ms\tremaining: 308ms\n",
      "515:\tlearn: 0.3276417\ttotal: 474ms\tremaining: 307ms\n",
      "516:\tlearn: 0.3275021\ttotal: 475ms\tremaining: 306ms\n",
      "517:\tlearn: 0.3273465\ttotal: 476ms\tremaining: 305ms\n",
      "518:\tlearn: 0.3271208\ttotal: 477ms\tremaining: 304ms\n",
      "519:\tlearn: 0.3269835\ttotal: 478ms\tremaining: 303ms\n",
      "520:\tlearn: 0.3268798\ttotal: 478ms\tremaining: 302ms\n",
      "521:\tlearn: 0.3267581\ttotal: 479ms\tremaining: 301ms\n",
      "522:\tlearn: 0.3267418\ttotal: 480ms\tremaining: 300ms\n",
      "523:\tlearn: 0.3266633\ttotal: 481ms\tremaining: 299ms\n",
      "524:\tlearn: 0.3265713\ttotal: 482ms\tremaining: 298ms\n",
      "525:\tlearn: 0.3264664\ttotal: 483ms\tremaining: 297ms\n",
      "526:\tlearn: 0.3263806\ttotal: 484ms\tremaining: 296ms\n",
      "527:\tlearn: 0.3263378\ttotal: 485ms\tremaining: 295ms\n",
      "528:\tlearn: 0.3262730\ttotal: 485ms\tremaining: 295ms\n",
      "529:\tlearn: 0.3262384\ttotal: 486ms\tremaining: 294ms\n",
      "530:\tlearn: 0.3260863\ttotal: 487ms\tremaining: 293ms\n",
      "531:\tlearn: 0.3259157\ttotal: 488ms\tremaining: 292ms\n",
      "532:\tlearn: 0.3257898\ttotal: 489ms\tremaining: 291ms\n",
      "533:\tlearn: 0.3256429\ttotal: 490ms\tremaining: 290ms\n",
      "534:\tlearn: 0.3254372\ttotal: 490ms\tremaining: 289ms\n",
      "535:\tlearn: 0.3253550\ttotal: 491ms\tremaining: 288ms\n",
      "536:\tlearn: 0.3252953\ttotal: 492ms\tremaining: 287ms\n",
      "537:\tlearn: 0.3251600\ttotal: 493ms\tremaining: 286ms\n",
      "538:\tlearn: 0.3250394\ttotal: 494ms\tremaining: 285ms\n",
      "539:\tlearn: 0.3249909\ttotal: 495ms\tremaining: 284ms\n",
      "540:\tlearn: 0.3248936\ttotal: 496ms\tremaining: 283ms\n",
      "541:\tlearn: 0.3248029\ttotal: 497ms\tremaining: 282ms\n",
      "542:\tlearn: 0.3247143\ttotal: 497ms\tremaining: 281ms\n",
      "543:\tlearn: 0.3246143\ttotal: 498ms\tremaining: 280ms\n",
      "544:\tlearn: 0.3244376\ttotal: 499ms\tremaining: 279ms\n",
      "545:\tlearn: 0.3243189\ttotal: 500ms\tremaining: 279ms\n",
      "546:\tlearn: 0.3242112\ttotal: 501ms\tremaining: 278ms\n",
      "547:\tlearn: 0.3240951\ttotal: 502ms\tremaining: 277ms\n",
      "548:\tlearn: 0.3238649\ttotal: 503ms\tremaining: 276ms\n",
      "549:\tlearn: 0.3238103\ttotal: 504ms\tremaining: 275ms\n",
      "550:\tlearn: 0.3237529\ttotal: 505ms\tremaining: 274ms\n",
      "551:\tlearn: 0.3237215\ttotal: 506ms\tremaining: 273ms\n",
      "552:\tlearn: 0.3236804\ttotal: 507ms\tremaining: 272ms\n",
      "553:\tlearn: 0.3234993\ttotal: 507ms\tremaining: 271ms\n",
      "554:\tlearn: 0.3233363\ttotal: 508ms\tremaining: 270ms\n",
      "555:\tlearn: 0.3232288\ttotal: 509ms\tremaining: 269ms\n",
      "556:\tlearn: 0.3231359\ttotal: 510ms\tremaining: 268ms\n",
      "557:\tlearn: 0.3230542\ttotal: 511ms\tremaining: 267ms\n",
      "558:\tlearn: 0.3229534\ttotal: 512ms\tremaining: 266ms\n",
      "559:\tlearn: 0.3228150\ttotal: 513ms\tremaining: 266ms\n",
      "560:\tlearn: 0.3227245\ttotal: 514ms\tremaining: 265ms\n",
      "561:\tlearn: 0.3225941\ttotal: 515ms\tremaining: 264ms\n",
      "562:\tlearn: 0.3225347\ttotal: 516ms\tremaining: 263ms\n",
      "563:\tlearn: 0.3224075\ttotal: 517ms\tremaining: 262ms\n",
      "564:\tlearn: 0.3222955\ttotal: 517ms\tremaining: 261ms\n",
      "565:\tlearn: 0.3222358\ttotal: 518ms\tremaining: 260ms\n",
      "566:\tlearn: 0.3220659\ttotal: 519ms\tremaining: 259ms\n",
      "567:\tlearn: 0.3220038\ttotal: 520ms\tremaining: 258ms\n",
      "568:\tlearn: 0.3219751\ttotal: 521ms\tremaining: 257ms\n",
      "569:\tlearn: 0.3218497\ttotal: 522ms\tremaining: 256ms\n",
      "570:\tlearn: 0.3217098\ttotal: 523ms\tremaining: 255ms\n",
      "571:\tlearn: 0.3216383\ttotal: 524ms\tremaining: 254ms\n",
      "572:\tlearn: 0.3215447\ttotal: 525ms\tremaining: 254ms\n",
      "573:\tlearn: 0.3214509\ttotal: 526ms\tremaining: 253ms\n",
      "574:\tlearn: 0.3212831\ttotal: 526ms\tremaining: 252ms\n",
      "575:\tlearn: 0.3211940\ttotal: 527ms\tremaining: 251ms\n",
      "576:\tlearn: 0.3210528\ttotal: 528ms\tremaining: 250ms\n",
      "577:\tlearn: 0.3209539\ttotal: 529ms\tremaining: 249ms\n",
      "578:\tlearn: 0.3208764\ttotal: 530ms\tremaining: 248ms\n",
      "579:\tlearn: 0.3207622\ttotal: 531ms\tremaining: 247ms\n",
      "580:\tlearn: 0.3204968\ttotal: 532ms\tremaining: 246ms\n",
      "581:\tlearn: 0.3203881\ttotal: 533ms\tremaining: 245ms\n",
      "582:\tlearn: 0.3203436\ttotal: 534ms\tremaining: 244ms\n",
      "583:\tlearn: 0.3202651\ttotal: 535ms\tremaining: 243ms\n",
      "584:\tlearn: 0.3202094\ttotal: 535ms\tremaining: 243ms\n",
      "585:\tlearn: 0.3200135\ttotal: 536ms\tremaining: 242ms\n",
      "586:\tlearn: 0.3199263\ttotal: 537ms\tremaining: 241ms\n",
      "587:\tlearn: 0.3197074\ttotal: 538ms\tremaining: 240ms\n",
      "588:\tlearn: 0.3195515\ttotal: 539ms\tremaining: 239ms\n",
      "589:\tlearn: 0.3194931\ttotal: 540ms\tremaining: 238ms\n",
      "590:\tlearn: 0.3194258\ttotal: 541ms\tremaining: 237ms\n",
      "591:\tlearn: 0.3193429\ttotal: 542ms\tremaining: 236ms\n",
      "592:\tlearn: 0.3192748\ttotal: 543ms\tremaining: 235ms\n",
      "593:\tlearn: 0.3191356\ttotal: 543ms\tremaining: 234ms\n",
      "594:\tlearn: 0.3190047\ttotal: 544ms\tremaining: 233ms\n",
      "595:\tlearn: 0.3189730\ttotal: 545ms\tremaining: 232ms\n",
      "596:\tlearn: 0.3187996\ttotal: 546ms\tremaining: 231ms\n",
      "597:\tlearn: 0.3186792\ttotal: 547ms\tremaining: 230ms\n",
      "598:\tlearn: 0.3185884\ttotal: 548ms\tremaining: 230ms\n",
      "599:\tlearn: 0.3185332\ttotal: 549ms\tremaining: 229ms\n",
      "600:\tlearn: 0.3185051\ttotal: 550ms\tremaining: 228ms\n",
      "601:\tlearn: 0.3184712\ttotal: 550ms\tremaining: 227ms\n",
      "602:\tlearn: 0.3183802\ttotal: 551ms\tremaining: 226ms\n",
      "603:\tlearn: 0.3182543\ttotal: 552ms\tremaining: 225ms\n",
      "604:\tlearn: 0.3181380\ttotal: 553ms\tremaining: 224ms\n",
      "605:\tlearn: 0.3179871\ttotal: 554ms\tremaining: 223ms\n",
      "606:\tlearn: 0.3178643\ttotal: 555ms\tremaining: 222ms\n",
      "607:\tlearn: 0.3176744\ttotal: 556ms\tremaining: 221ms\n",
      "608:\tlearn: 0.3174571\ttotal: 557ms\tremaining: 220ms\n",
      "609:\tlearn: 0.3173595\ttotal: 558ms\tremaining: 219ms\n",
      "610:\tlearn: 0.3172400\ttotal: 558ms\tremaining: 218ms\n",
      "611:\tlearn: 0.3170460\ttotal: 559ms\tremaining: 218ms\n",
      "612:\tlearn: 0.3170320\ttotal: 560ms\tremaining: 216ms\n",
      "613:\tlearn: 0.3168686\ttotal: 561ms\tremaining: 216ms\n",
      "614:\tlearn: 0.3167416\ttotal: 562ms\tremaining: 215ms\n",
      "615:\tlearn: 0.3166492\ttotal: 563ms\tremaining: 214ms\n",
      "616:\tlearn: 0.3165627\ttotal: 564ms\tremaining: 213ms\n",
      "617:\tlearn: 0.3164493\ttotal: 565ms\tremaining: 212ms\n",
      "618:\tlearn: 0.3163076\ttotal: 565ms\tremaining: 211ms\n",
      "619:\tlearn: 0.3162319\ttotal: 566ms\tremaining: 210ms\n",
      "620:\tlearn: 0.3160907\ttotal: 567ms\tremaining: 209ms\n",
      "621:\tlearn: 0.3160563\ttotal: 568ms\tremaining: 208ms\n",
      "622:\tlearn: 0.3159087\ttotal: 569ms\tremaining: 207ms\n"
     ]
    },
    {
     "name": "stdout",
     "output_type": "stream",
     "text": [
      "623:\tlearn: 0.3156590\ttotal: 570ms\tremaining: 206ms\n",
      "624:\tlearn: 0.3155472\ttotal: 571ms\tremaining: 206ms\n",
      "625:\tlearn: 0.3154596\ttotal: 572ms\tremaining: 205ms\n",
      "626:\tlearn: 0.3154053\ttotal: 573ms\tremaining: 204ms\n",
      "627:\tlearn: 0.3152762\ttotal: 574ms\tremaining: 203ms\n",
      "628:\tlearn: 0.3150839\ttotal: 575ms\tremaining: 202ms\n",
      "629:\tlearn: 0.3149799\ttotal: 576ms\tremaining: 201ms\n",
      "630:\tlearn: 0.3148921\ttotal: 577ms\tremaining: 200ms\n",
      "631:\tlearn: 0.3147387\ttotal: 578ms\tremaining: 199ms\n",
      "632:\tlearn: 0.3145968\ttotal: 579ms\tremaining: 198ms\n",
      "633:\tlearn: 0.3145296\ttotal: 580ms\tremaining: 197ms\n",
      "634:\tlearn: 0.3143369\ttotal: 581ms\tremaining: 197ms\n",
      "635:\tlearn: 0.3142842\ttotal: 582ms\tremaining: 196ms\n",
      "636:\tlearn: 0.3142416\ttotal: 582ms\tremaining: 195ms\n",
      "637:\tlearn: 0.3141615\ttotal: 583ms\tremaining: 194ms\n",
      "638:\tlearn: 0.3141013\ttotal: 584ms\tremaining: 193ms\n",
      "639:\tlearn: 0.3140433\ttotal: 585ms\tremaining: 192ms\n",
      "640:\tlearn: 0.3139704\ttotal: 586ms\tremaining: 191ms\n",
      "641:\tlearn: 0.3138461\ttotal: 587ms\tremaining: 190ms\n",
      "642:\tlearn: 0.3138390\ttotal: 588ms\tremaining: 189ms\n",
      "643:\tlearn: 0.3137112\ttotal: 589ms\tremaining: 188ms\n",
      "644:\tlearn: 0.3136085\ttotal: 590ms\tremaining: 187ms\n",
      "645:\tlearn: 0.3135136\ttotal: 591ms\tremaining: 186ms\n",
      "646:\tlearn: 0.3134850\ttotal: 592ms\tremaining: 186ms\n",
      "647:\tlearn: 0.3134091\ttotal: 592ms\tremaining: 185ms\n",
      "648:\tlearn: 0.3133060\ttotal: 593ms\tremaining: 184ms\n",
      "649:\tlearn: 0.3132307\ttotal: 594ms\tremaining: 183ms\n",
      "650:\tlearn: 0.3130927\ttotal: 595ms\tremaining: 182ms\n",
      "651:\tlearn: 0.3130359\ttotal: 596ms\tremaining: 181ms\n",
      "652:\tlearn: 0.3130003\ttotal: 597ms\tremaining: 180ms\n",
      "653:\tlearn: 0.3127999\ttotal: 598ms\tremaining: 179ms\n",
      "654:\tlearn: 0.3126013\ttotal: 599ms\tremaining: 178ms\n",
      "655:\tlearn: 0.3124883\ttotal: 600ms\tremaining: 177ms\n",
      "656:\tlearn: 0.3124018\ttotal: 600ms\tremaining: 176ms\n",
      "657:\tlearn: 0.3122890\ttotal: 601ms\tremaining: 175ms\n",
      "658:\tlearn: 0.3122005\ttotal: 602ms\tremaining: 175ms\n",
      "659:\tlearn: 0.3120959\ttotal: 603ms\tremaining: 174ms\n",
      "660:\tlearn: 0.3119364\ttotal: 604ms\tremaining: 173ms\n",
      "661:\tlearn: 0.3118035\ttotal: 605ms\tremaining: 172ms\n",
      "662:\tlearn: 0.3117509\ttotal: 606ms\tremaining: 171ms\n",
      "663:\tlearn: 0.3116151\ttotal: 606ms\tremaining: 170ms\n",
      "664:\tlearn: 0.3115704\ttotal: 607ms\tremaining: 169ms\n",
      "665:\tlearn: 0.3114158\ttotal: 608ms\tremaining: 168ms\n",
      "666:\tlearn: 0.3113004\ttotal: 609ms\tremaining: 167ms\n",
      "667:\tlearn: 0.3110969\ttotal: 610ms\tremaining: 166ms\n",
      "668:\tlearn: 0.3109687\ttotal: 611ms\tremaining: 165ms\n",
      "669:\tlearn: 0.3108307\ttotal: 612ms\tremaining: 164ms\n",
      "670:\tlearn: 0.3106663\ttotal: 613ms\tremaining: 164ms\n",
      "671:\tlearn: 0.3105520\ttotal: 614ms\tremaining: 163ms\n",
      "672:\tlearn: 0.3104062\ttotal: 615ms\tremaining: 162ms\n",
      "673:\tlearn: 0.3103359\ttotal: 616ms\tremaining: 161ms\n",
      "674:\tlearn: 0.3102224\ttotal: 616ms\tremaining: 160ms\n",
      "675:\tlearn: 0.3100790\ttotal: 617ms\tremaining: 159ms\n",
      "676:\tlearn: 0.3099997\ttotal: 618ms\tremaining: 158ms\n",
      "677:\tlearn: 0.3097648\ttotal: 619ms\tremaining: 157ms\n",
      "678:\tlearn: 0.3096306\ttotal: 620ms\tremaining: 156ms\n",
      "679:\tlearn: 0.3095410\ttotal: 621ms\tremaining: 155ms\n",
      "680:\tlearn: 0.3093714\ttotal: 622ms\tremaining: 154ms\n",
      "681:\tlearn: 0.3092993\ttotal: 623ms\tremaining: 153ms\n",
      "682:\tlearn: 0.3091589\ttotal: 624ms\tremaining: 153ms\n",
      "683:\tlearn: 0.3090940\ttotal: 624ms\tremaining: 152ms\n",
      "684:\tlearn: 0.3089696\ttotal: 625ms\tremaining: 151ms\n",
      "685:\tlearn: 0.3087850\ttotal: 626ms\tremaining: 150ms\n",
      "686:\tlearn: 0.3085152\ttotal: 627ms\tremaining: 149ms\n",
      "687:\tlearn: 0.3084021\ttotal: 628ms\tremaining: 148ms\n",
      "688:\tlearn: 0.3082852\ttotal: 629ms\tremaining: 147ms\n",
      "689:\tlearn: 0.3081686\ttotal: 630ms\tremaining: 146ms\n",
      "690:\tlearn: 0.3081112\ttotal: 630ms\tremaining: 145ms\n",
      "691:\tlearn: 0.3079992\ttotal: 631ms\tremaining: 144ms\n",
      "692:\tlearn: 0.3079572\ttotal: 632ms\tremaining: 143ms\n",
      "693:\tlearn: 0.3077332\ttotal: 633ms\tremaining: 142ms\n",
      "694:\tlearn: 0.3076722\ttotal: 634ms\tremaining: 141ms\n",
      "695:\tlearn: 0.3075302\ttotal: 635ms\tremaining: 140ms\n",
      "696:\tlearn: 0.3073313\ttotal: 636ms\tremaining: 140ms\n",
      "697:\tlearn: 0.3072547\ttotal: 637ms\tremaining: 139ms\n",
      "698:\tlearn: 0.3072104\ttotal: 637ms\tremaining: 138ms\n",
      "699:\tlearn: 0.3071566\ttotal: 638ms\tremaining: 137ms\n",
      "700:\tlearn: 0.3071176\ttotal: 639ms\tremaining: 136ms\n",
      "701:\tlearn: 0.3068662\ttotal: 640ms\tremaining: 135ms\n",
      "702:\tlearn: 0.3068181\ttotal: 641ms\tremaining: 134ms\n",
      "703:\tlearn: 0.3066657\ttotal: 641ms\tremaining: 133ms\n",
      "704:\tlearn: 0.3065874\ttotal: 642ms\tremaining: 132ms\n",
      "705:\tlearn: 0.3064662\ttotal: 643ms\tremaining: 131ms\n",
      "706:\tlearn: 0.3064261\ttotal: 644ms\tremaining: 130ms\n",
      "707:\tlearn: 0.3063417\ttotal: 645ms\tremaining: 129ms\n",
      "708:\tlearn: 0.3061561\ttotal: 646ms\tremaining: 128ms\n",
      "709:\tlearn: 0.3061017\ttotal: 646ms\tremaining: 127ms\n",
      "710:\tlearn: 0.3059752\ttotal: 647ms\tremaining: 127ms\n",
      "711:\tlearn: 0.3058024\ttotal: 648ms\tremaining: 126ms\n",
      "712:\tlearn: 0.3056330\ttotal: 649ms\tremaining: 125ms\n",
      "713:\tlearn: 0.3055196\ttotal: 650ms\tremaining: 124ms\n",
      "714:\tlearn: 0.3054376\ttotal: 651ms\tremaining: 123ms\n",
      "715:\tlearn: 0.3053445\ttotal: 651ms\tremaining: 122ms\n",
      "716:\tlearn: 0.3053057\ttotal: 652ms\tremaining: 121ms\n",
      "717:\tlearn: 0.3052210\ttotal: 653ms\tremaining: 120ms\n",
      "718:\tlearn: 0.3051532\ttotal: 654ms\tremaining: 119ms\n",
      "719:\tlearn: 0.3051019\ttotal: 655ms\tremaining: 118ms\n",
      "720:\tlearn: 0.3049072\ttotal: 656ms\tremaining: 117ms\n",
      "721:\tlearn: 0.3048658\ttotal: 657ms\tremaining: 116ms\n",
      "722:\tlearn: 0.3047469\ttotal: 658ms\tremaining: 116ms\n",
      "723:\tlearn: 0.3046568\ttotal: 659ms\tremaining: 115ms\n",
      "724:\tlearn: 0.3046113\ttotal: 660ms\tremaining: 114ms\n",
      "725:\tlearn: 0.3044909\ttotal: 660ms\tremaining: 113ms\n",
      "726:\tlearn: 0.3042686\ttotal: 661ms\tremaining: 112ms\n",
      "727:\tlearn: 0.3041592\ttotal: 662ms\tremaining: 111ms\n",
      "728:\tlearn: 0.3040764\ttotal: 663ms\tremaining: 110ms\n",
      "729:\tlearn: 0.3039295\ttotal: 664ms\tremaining: 109ms\n",
      "730:\tlearn: 0.3038934\ttotal: 665ms\tremaining: 108ms\n",
      "731:\tlearn: 0.3037270\ttotal: 666ms\tremaining: 107ms\n",
      "732:\tlearn: 0.3036279\ttotal: 667ms\tremaining: 106ms\n",
      "733:\tlearn: 0.3034595\ttotal: 668ms\tremaining: 106ms\n",
      "734:\tlearn: 0.3033640\ttotal: 669ms\tremaining: 105ms\n",
      "735:\tlearn: 0.3033329\ttotal: 670ms\tremaining: 104ms\n",
      "736:\tlearn: 0.3032423\ttotal: 671ms\tremaining: 103ms\n",
      "737:\tlearn: 0.3030850\ttotal: 672ms\tremaining: 102ms\n",
      "738:\tlearn: 0.3029522\ttotal: 673ms\tremaining: 101ms\n",
      "739:\tlearn: 0.3028426\ttotal: 674ms\tremaining: 100ms\n",
      "740:\tlearn: 0.3027770\ttotal: 675ms\tremaining: 99.3ms\n",
      "741:\tlearn: 0.3025781\ttotal: 676ms\tremaining: 98.4ms\n",
      "742:\tlearn: 0.3024784\ttotal: 677ms\tremaining: 97.4ms\n",
      "743:\tlearn: 0.3024111\ttotal: 678ms\tremaining: 96.5ms\n",
      "744:\tlearn: 0.3022001\ttotal: 678ms\tremaining: 95.6ms\n",
      "745:\tlearn: 0.3020934\ttotal: 679ms\tremaining: 94.7ms\n",
      "746:\tlearn: 0.3020701\ttotal: 680ms\tremaining: 93.8ms\n",
      "747:\tlearn: 0.3020280\ttotal: 681ms\tremaining: 92.9ms\n",
      "748:\tlearn: 0.3019248\ttotal: 682ms\tremaining: 92ms\n",
      "749:\tlearn: 0.3017130\ttotal: 683ms\tremaining: 91.1ms\n",
      "750:\tlearn: 0.3016335\ttotal: 684ms\tremaining: 90.1ms\n",
      "751:\tlearn: 0.3015082\ttotal: 685ms\tremaining: 89.2ms\n",
      "752:\tlearn: 0.3014313\ttotal: 686ms\tremaining: 88.3ms\n",
      "753:\tlearn: 0.3012515\ttotal: 686ms\tremaining: 87.4ms\n",
      "754:\tlearn: 0.3011826\ttotal: 687ms\tremaining: 86.5ms\n",
      "755:\tlearn: 0.3009611\ttotal: 688ms\tremaining: 85.6ms\n",
      "756:\tlearn: 0.3007423\ttotal: 689ms\tremaining: 84.7ms\n",
      "757:\tlearn: 0.3005933\ttotal: 690ms\tremaining: 83.7ms\n",
      "758:\tlearn: 0.3005126\ttotal: 691ms\tremaining: 82.8ms\n",
      "759:\tlearn: 0.3003157\ttotal: 692ms\tremaining: 81.9ms\n",
      "760:\tlearn: 0.3001628\ttotal: 693ms\tremaining: 81ms\n",
      "761:\tlearn: 0.2999848\ttotal: 694ms\tremaining: 80.1ms\n",
      "762:\tlearn: 0.2998767\ttotal: 694ms\tremaining: 79.2ms\n",
      "763:\tlearn: 0.2998324\ttotal: 695ms\tremaining: 78.3ms\n",
      "764:\tlearn: 0.2998021\ttotal: 696ms\tremaining: 77.3ms\n",
      "765:\tlearn: 0.2995809\ttotal: 697ms\tremaining: 76.4ms\n",
      "766:\tlearn: 0.2995486\ttotal: 698ms\tremaining: 75.5ms\n",
      "767:\tlearn: 0.2994966\ttotal: 698ms\tremaining: 74.6ms\n",
      "768:\tlearn: 0.2993170\ttotal: 699ms\tremaining: 73.7ms\n",
      "769:\tlearn: 0.2992742\ttotal: 700ms\tremaining: 72.7ms\n",
      "770:\tlearn: 0.2991994\ttotal: 701ms\tremaining: 71.8ms\n",
      "771:\tlearn: 0.2990014\ttotal: 702ms\tremaining: 70.9ms\n",
      "772:\tlearn: 0.2989532\ttotal: 703ms\tremaining: 70ms\n",
      "773:\tlearn: 0.2988832\ttotal: 703ms\tremaining: 69.1ms\n",
      "774:\tlearn: 0.2987690\ttotal: 704ms\tremaining: 68.2ms\n",
      "775:\tlearn: 0.2986065\ttotal: 705ms\tremaining: 67.2ms\n",
      "776:\tlearn: 0.2984885\ttotal: 706ms\tremaining: 66.3ms\n",
      "777:\tlearn: 0.2984235\ttotal: 707ms\tremaining: 65.4ms\n",
      "778:\tlearn: 0.2983030\ttotal: 708ms\tremaining: 64.5ms\n",
      "779:\tlearn: 0.2982214\ttotal: 709ms\tremaining: 63.6ms\n",
      "780:\tlearn: 0.2980930\ttotal: 709ms\tremaining: 62.7ms\n",
      "781:\tlearn: 0.2979989\ttotal: 710ms\tremaining: 61.8ms\n",
      "782:\tlearn: 0.2978681\ttotal: 711ms\tremaining: 60.9ms\n",
      "783:\tlearn: 0.2978088\ttotal: 712ms\tremaining: 59.9ms\n",
      "784:\tlearn: 0.2977181\ttotal: 713ms\tremaining: 59ms\n",
      "785:\tlearn: 0.2976395\ttotal: 714ms\tremaining: 58.1ms\n",
      "786:\tlearn: 0.2975097\ttotal: 714ms\tremaining: 57.2ms\n",
      "787:\tlearn: 0.2973885\ttotal: 715ms\tremaining: 56.3ms\n",
      "788:\tlearn: 0.2973149\ttotal: 716ms\tremaining: 55.4ms\n",
      "789:\tlearn: 0.2971997\ttotal: 717ms\tremaining: 54.5ms\n",
      "790:\tlearn: 0.2971374\ttotal: 718ms\tremaining: 53.6ms\n",
      "791:\tlearn: 0.2970656\ttotal: 719ms\tremaining: 52.6ms\n",
      "792:\tlearn: 0.2969320\ttotal: 720ms\tremaining: 51.7ms\n",
      "793:\tlearn: 0.2966811\ttotal: 721ms\tremaining: 50.8ms\n",
      "794:\tlearn: 0.2965338\ttotal: 721ms\tremaining: 49.9ms\n",
      "795:\tlearn: 0.2964155\ttotal: 722ms\tremaining: 49ms\n",
      "796:\tlearn: 0.2963131\ttotal: 723ms\tremaining: 48.1ms\n",
      "797:\tlearn: 0.2962073\ttotal: 724ms\tremaining: 47.2ms\n",
      "798:\tlearn: 0.2961325\ttotal: 725ms\tremaining: 46.3ms\n",
      "799:\tlearn: 0.2960637\ttotal: 726ms\tremaining: 45.4ms\n",
      "800:\tlearn: 0.2959601\ttotal: 727ms\tremaining: 44.4ms\n",
      "801:\tlearn: 0.2958327\ttotal: 727ms\tremaining: 43.5ms\n",
      "802:\tlearn: 0.2957243\ttotal: 728ms\tremaining: 42.6ms\n",
      "803:\tlearn: 0.2955855\ttotal: 729ms\tremaining: 41.7ms\n",
      "804:\tlearn: 0.2954301\ttotal: 730ms\tremaining: 40.8ms\n",
      "805:\tlearn: 0.2953664\ttotal: 731ms\tremaining: 39.9ms\n",
      "806:\tlearn: 0.2952539\ttotal: 732ms\tremaining: 39ms\n",
      "807:\tlearn: 0.2952217\ttotal: 733ms\tremaining: 38.1ms\n",
      "808:\tlearn: 0.2950253\ttotal: 733ms\tremaining: 37.2ms\n",
      "809:\tlearn: 0.2948897\ttotal: 734ms\tremaining: 36.3ms\n",
      "810:\tlearn: 0.2948086\ttotal: 735ms\tremaining: 35.4ms\n",
      "811:\tlearn: 0.2947076\ttotal: 736ms\tremaining: 34.4ms\n",
      "812:\tlearn: 0.2946760\ttotal: 737ms\tremaining: 33.5ms\n",
      "813:\tlearn: 0.2946313\ttotal: 738ms\tremaining: 32.6ms\n",
      "814:\tlearn: 0.2946023\ttotal: 738ms\tremaining: 31.7ms\n",
      "815:\tlearn: 0.2945014\ttotal: 739ms\tremaining: 30.8ms\n",
      "816:\tlearn: 0.2944050\ttotal: 740ms\tremaining: 29.9ms\n",
      "817:\tlearn: 0.2942940\ttotal: 741ms\tremaining: 29ms\n",
      "818:\tlearn: 0.2941258\ttotal: 742ms\tremaining: 28.1ms\n",
      "819:\tlearn: 0.2940855\ttotal: 743ms\tremaining: 27.2ms\n",
      "820:\tlearn: 0.2939771\ttotal: 743ms\tremaining: 26.3ms\n",
      "821:\tlearn: 0.2938414\ttotal: 744ms\tremaining: 25.4ms\n",
      "822:\tlearn: 0.2937130\ttotal: 745ms\tremaining: 24.4ms\n",
      "823:\tlearn: 0.2935086\ttotal: 746ms\tremaining: 23.5ms\n",
      "824:\tlearn: 0.2934503\ttotal: 747ms\tremaining: 22.6ms\n",
      "825:\tlearn: 0.2934171\ttotal: 748ms\tremaining: 21.7ms\n",
      "826:\tlearn: 0.2932693\ttotal: 749ms\tremaining: 20.8ms\n",
      "827:\tlearn: 0.2931020\ttotal: 749ms\tremaining: 19.9ms\n",
      "828:\tlearn: 0.2929130\ttotal: 750ms\tremaining: 19ms\n",
      "829:\tlearn: 0.2928700\ttotal: 751ms\tremaining: 18.1ms\n",
      "830:\tlearn: 0.2927601\ttotal: 752ms\tremaining: 17.2ms\n",
      "831:\tlearn: 0.2926322\ttotal: 753ms\tremaining: 16.3ms\n",
      "832:\tlearn: 0.2925733\ttotal: 754ms\tremaining: 15.4ms\n",
      "833:\tlearn: 0.2925174\ttotal: 755ms\tremaining: 14.5ms\n",
      "834:\tlearn: 0.2923563\ttotal: 756ms\tremaining: 13.6ms\n",
      "835:\tlearn: 0.2922539\ttotal: 757ms\tremaining: 12.7ms\n",
      "836:\tlearn: 0.2921619\ttotal: 757ms\tremaining: 11.8ms\n",
      "837:\tlearn: 0.2920200\ttotal: 758ms\tremaining: 10.9ms\n",
      "838:\tlearn: 0.2918067\ttotal: 759ms\tremaining: 9.95ms\n"
     ]
    },
    {
     "name": "stdout",
     "output_type": "stream",
     "text": [
      "839:\tlearn: 0.2916979\ttotal: 760ms\tremaining: 9.05ms\n",
      "840:\tlearn: 0.2916113\ttotal: 761ms\tremaining: 8.15ms\n",
      "841:\tlearn: 0.2914426\ttotal: 762ms\tremaining: 7.24ms\n",
      "842:\tlearn: 0.2913324\ttotal: 763ms\tremaining: 6.34ms\n",
      "843:\tlearn: 0.2912683\ttotal: 764ms\tremaining: 5.43ms\n",
      "844:\tlearn: 0.2911573\ttotal: 765ms\tremaining: 4.53ms\n",
      "845:\tlearn: 0.2910921\ttotal: 766ms\tremaining: 3.62ms\n",
      "846:\tlearn: 0.2908890\ttotal: 766ms\tremaining: 2.71ms\n",
      "847:\tlearn: 0.2907902\ttotal: 767ms\tremaining: 1.81ms\n",
      "848:\tlearn: 0.2907493\ttotal: 768ms\tremaining: 904us\n",
      "849:\tlearn: 0.2907299\ttotal: 769ms\tremaining: 0us\n",
      "CPU times: total: 10.1 s\n",
      "Wall time: 34min 39s\n"
     ]
    },
    {
     "data": {
      "text/plain": [
       "GridSearchCV(cv=5,\n",
       "             estimator=<catboost.core.CatBoostClassifier object at 0x00000234AC884460>,\n",
       "             n_jobs=-1,\n",
       "             param_grid={'max_depth': range(1, 16),\n",
       "                         'n_estimators': range(50, 1000, 50)},\n",
       "             scoring='accuracy', verbose=True)"
      ]
     },
     "execution_count": 73,
     "metadata": {},
     "output_type": "execute_result"
    }
   ],
   "source": [
    "%%time\n",
    "cat = CatBoostClassifier(random_state=123)\n",
    "cat_param = {'n_estimators': range(50, 1000, 50),\n",
    "                'max_depth': range(1,16)\n",
    "             }\n",
    "cat_grid = GridSearchCV(cat,\n",
    "                       cat_param,\n",
    "                       cv=5,\n",
    "                       n_jobs=-1,\n",
    "                       scoring = 'accuracy',\n",
    "                       verbose=True)\n",
    "\n",
    "cat_grid.fit(features_OHE_train, target_train)"
   ]
  },
  {
   "cell_type": "markdown",
   "id": "4db7d7a9",
   "metadata": {},
   "source": [
    "Оптимальное сочетание параметров для модели CatBoost с OHE"
   ]
  },
  {
   "cell_type": "code",
   "execution_count": 74,
   "id": "b86c8f0b",
   "metadata": {},
   "outputs": [
    {
     "data": {
      "text/plain": [
       "{'max_depth': 5, 'n_estimators': 850}"
      ]
     },
     "execution_count": 74,
     "metadata": {},
     "output_type": "execute_result"
    }
   ],
   "source": [
    "cat_grid.best_params_"
   ]
  },
  {
   "cell_type": "code",
   "execution_count": 75,
   "id": "d5521b24",
   "metadata": {},
   "outputs": [
    {
     "name": "stdout",
     "output_type": "stream",
     "text": [
      "Метрика accuracy для лучшего сочетания параметров модели CatBoost с OHE равна 0.8440559440559442\n"
     ]
    }
   ],
   "source": [
    "print('Метрика accuracy для лучшего сочетания параметров модели CatBoost с OHE равна', cat_grid.best_score_)"
   ]
  },
  {
   "cell_type": "code",
   "execution_count": 76,
   "id": "e62a89b7",
   "metadata": {},
   "outputs": [
    {
     "name": "stdout",
     "output_type": "stream",
     "text": [
      "Метрика accuracy для модели CatBoost с OHE на тестовой выборке с оптимальными гиперпараметрами 0.8100558659217877\n"
     ]
    }
   ],
   "source": [
    "predictions = cat_grid.predict(features_OHE_test)\n",
    "print('Метрика accuracy для модели CatBoost с OHE на тестовой выборке с оптимальными гиперпараметрами', accuracy_score(target_test, predictions))"
   ]
  },
  {
   "cell_type": "markdown",
   "id": "9505a611",
   "metadata": {},
   "source": [
    "#### Встроенная кроссвалидация"
   ]
  },
  {
   "cell_type": "markdown",
   "id": "bbd9ce41",
   "metadata": {},
   "source": [
    "У CatBoost есть ввстроенная кросс валидация, посмотрим, какие резкльтаты даст она"
   ]
  },
  {
   "cell_type": "code",
   "execution_count": 77,
   "id": "d8251ec1",
   "metadata": {},
   "outputs": [
    {
     "name": "stdout",
     "output_type": "stream",
     "text": [
      "Training on fold [0/5]\n",
      "\n",
      "bestTest = 0.3243361607\n",
      "bestIteration = 180\n",
      "\n",
      "Training on fold [1/5]\n",
      "\n",
      "bestTest = 0.4310689501\n",
      "bestIteration = 320\n",
      "\n",
      "Training on fold [2/5]\n",
      "\n",
      "bestTest = 0.421050042\n",
      "bestIteration = 124\n",
      "\n",
      "Training on fold [3/5]\n",
      "\n",
      "bestTest = 0.4115143209\n",
      "bestIteration = 350\n",
      "\n",
      "Training on fold [4/5]\n",
      "\n",
      "bestTest = 0.4530510109\n",
      "bestIteration = 93\n",
      "\n"
     ]
    }
   ],
   "source": [
    "params = {\n",
    "    'loss_function': 'Logloss',\n",
    "    'iterations': 3000,\n",
    "    'custom_loss': 'Accuracy'\n",
    "}\n",
    "\n",
    "cv_data = cv(\n",
    "    params=params,\n",
    "    pool=Pool(data=features_OHE_train, label=target_train),\n",
    "    fold_count=5,\n",
    "    shuffle=False, \n",
    "    partition_random_seed=0,\n",
    "    stratified=True, \n",
    "    verbose=False\n",
    ")\n"
   ]
  },
  {
   "cell_type": "code",
   "execution_count": 78,
   "id": "5e0e341b",
   "metadata": {},
   "outputs": [
    {
     "name": "stdout",
     "output_type": "stream",
     "text": [
      "Лучшее значение Accuracy: 0.8441+/-0.048 на шаге 342\n"
     ]
    }
   ],
   "source": [
    "best_value = np.max(cv_data['test-Accuracy-mean'])\n",
    "best_iter = np.argmax(cv_data['test-Accuracy-mean'])\n",
    "print(\"Лучшее значение Accuracy: {:.4f}+/-{:.3f} на шаге {}\".format(\n",
    "best_value, cv_data['test-Logloss-std'][best_iter], best_iter))"
   ]
  },
  {
   "cell_type": "code",
   "execution_count": 79,
   "id": "c46d85b2",
   "metadata": {},
   "outputs": [
    {
     "name": "stdout",
     "output_type": "stream",
     "text": [
      "Метрика accuracy для модели CatBoost с OHE на тестовой выборке по встроенной кросс валидации 0.8044692737430168\n"
     ]
    }
   ],
   "source": [
    "cat_model_OHE_CV = CatBoostClassifier(iterations=318,\n",
    "                               custom_loss = 'Accuracy')\n",
    "cat_model_OHE_CV.fit(features_OHE_train, target_train,\n",
    "             verbose=False\n",
    "             )\n",
    "\n",
    "predictions = cat_model_OHE_CV.predict(features_OHE_test)\n",
    "print('Метрика accuracy для модели CatBoost с OHE на тестовой выборке по встроенной кросс валидации', accuracy_score(target_test, predictions))"
   ]
  },
  {
   "cell_type": "markdown",
   "id": "20e9bda7",
   "metadata": {},
   "source": [
    "### CatBoost без OHE"
   ]
  },
  {
   "cell_type": "code",
   "execution_count": 80,
   "id": "e5ae2c76",
   "metadata": {},
   "outputs": [
    {
     "name": "stdout",
     "output_type": "stream",
     "text": [
      "Learning rate set to 0.008911\n",
      "0:\tlearn: 0.6891456\ttotal: 11.6ms\tremaining: 11.6s\n",
      "100:\tlearn: 0.4437468\ttotal: 1.13s\tremaining: 10.1s\n",
      "200:\tlearn: 0.3880910\ttotal: 2.18s\tremaining: 8.66s\n",
      "300:\tlearn: 0.3614615\ttotal: 3.19s\tremaining: 7.4s\n",
      "400:\tlearn: 0.3440940\ttotal: 4.17s\tremaining: 6.22s\n",
      "500:\tlearn: 0.3320783\ttotal: 5.19s\tremaining: 5.17s\n",
      "600:\tlearn: 0.3188823\ttotal: 6.17s\tremaining: 4.1s\n",
      "700:\tlearn: 0.3061481\ttotal: 7.28s\tremaining: 3.1s\n",
      "800:\tlearn: 0.2949479\ttotal: 8.31s\tremaining: 2.06s\n",
      "900:\tlearn: 0.2854988\ttotal: 9.3s\tremaining: 1.02s\n",
      "999:\tlearn: 0.2761174\ttotal: 10.3s\tremaining: 0us\n",
      "Метрика accuracy для модели CatBoost без OHE  0.8212290502793296\n"
     ]
    }
   ],
   "source": [
    "cat_colomns = ['Sex', 'Pclass', 'Embarked', 'Tit', 'Age_part']\n",
    "cat_model_without_OHE = CatBoostClassifier(random_state=123, \n",
    "                                           verbose=100, \n",
    "                                           cat_features=cat_colomns\n",
    "                                          )\n",
    "cat_model_without_OHE.fit(features_without_OHE_train, target_train)\n",
    "\n",
    "predictions = cat_model_without_OHE.predict(features_without_OHE_test)\n",
    "print('Метрика accuracy для модели CatBoost без OHE ', accuracy_score(target_test, predictions))"
   ]
  },
  {
   "cell_type": "markdown",
   "id": "8213b562",
   "metadata": {},
   "source": [
    "Попробуем улучшить показатели модели при помощи GridSearchCV"
   ]
  },
  {
   "cell_type": "code",
   "execution_count": 81,
   "id": "99628c0c",
   "metadata": {},
   "outputs": [
    {
     "name": "stdout",
     "output_type": "stream",
     "text": [
      "Fitting 5 folds for each of 285 candidates, totalling 1425 fits\n",
      "Learning rate set to 0.009341\n",
      "0:\tlearn: 0.6889536\ttotal: 4.66ms\tremaining: 4.42s\n",
      "1:\tlearn: 0.6838303\ttotal: 11.6ms\tremaining: 5.51s\n",
      "2:\tlearn: 0.6782423\ttotal: 18.6ms\tremaining: 5.87s\n",
      "3:\tlearn: 0.6727305\ttotal: 25.3ms\tremaining: 5.98s\n",
      "4:\tlearn: 0.6693738\ttotal: 29ms\tremaining: 5.48s\n",
      "5:\tlearn: 0.6647267\ttotal: 36ms\tremaining: 5.67s\n",
      "6:\tlearn: 0.6605323\ttotal: 42.7ms\tremaining: 5.75s\n",
      "7:\tlearn: 0.6555945\ttotal: 49.4ms\tremaining: 5.82s\n",
      "8:\tlearn: 0.6510142\ttotal: 57.1ms\tremaining: 5.97s\n",
      "9:\tlearn: 0.6468142\ttotal: 63.6ms\tremaining: 5.98s\n",
      "10:\tlearn: 0.6416397\ttotal: 70.3ms\tremaining: 6s\n",
      "11:\tlearn: 0.6377002\ttotal: 76.9ms\tremaining: 6.01s\n",
      "12:\tlearn: 0.6339226\ttotal: 83.7ms\tremaining: 6.03s\n",
      "13:\tlearn: 0.6301785\ttotal: 88.8ms\tremaining: 5.94s\n",
      "14:\tlearn: 0.6253730\ttotal: 95.9ms\tremaining: 5.98s\n",
      "15:\tlearn: 0.6220745\ttotal: 104ms\tremaining: 6.05s\n",
      "16:\tlearn: 0.6183803\ttotal: 110ms\tremaining: 6.06s\n",
      "17:\tlearn: 0.6144189\ttotal: 118ms\tremaining: 6.13s\n",
      "18:\tlearn: 0.6110724\ttotal: 125ms\tremaining: 6.13s\n",
      "19:\tlearn: 0.6071404\ttotal: 132ms\tremaining: 6.13s\n",
      "20:\tlearn: 0.6037637\ttotal: 139ms\tremaining: 6.17s\n",
      "21:\tlearn: 0.6001570\ttotal: 146ms\tremaining: 6.15s\n",
      "22:\tlearn: 0.5964371\ttotal: 152ms\tremaining: 6.13s\n",
      "23:\tlearn: 0.5933705\ttotal: 158ms\tremaining: 6.1s\n",
      "24:\tlearn: 0.5904604\ttotal: 164ms\tremaining: 6.07s\n",
      "25:\tlearn: 0.5876221\ttotal: 170ms\tremaining: 6.05s\n",
      "26:\tlearn: 0.5844062\ttotal: 176ms\tremaining: 6.02s\n",
      "27:\tlearn: 0.5816255\ttotal: 182ms\tremaining: 6s\n",
      "28:\tlearn: 0.5792682\ttotal: 187ms\tremaining: 5.94s\n",
      "29:\tlearn: 0.5763712\ttotal: 192ms\tremaining: 5.88s\n",
      "30:\tlearn: 0.5735706\ttotal: 198ms\tremaining: 5.86s\n",
      "31:\tlearn: 0.5705044\ttotal: 204ms\tremaining: 5.86s\n",
      "32:\tlearn: 0.5671247\ttotal: 212ms\tremaining: 5.89s\n",
      "33:\tlearn: 0.5644189\ttotal: 220ms\tremaining: 5.92s\n",
      "34:\tlearn: 0.5619103\ttotal: 228ms\tremaining: 5.96s\n",
      "35:\tlearn: 0.5589447\ttotal: 234ms\tremaining: 5.95s\n",
      "36:\tlearn: 0.5572098\ttotal: 238ms\tremaining: 5.87s\n",
      "37:\tlearn: 0.5544766\ttotal: 244ms\tremaining: 5.85s\n",
      "38:\tlearn: 0.5511175\ttotal: 250ms\tremaining: 5.83s\n",
      "39:\tlearn: 0.5483800\ttotal: 256ms\tremaining: 5.82s\n",
      "40:\tlearn: 0.5465102\ttotal: 262ms\tremaining: 5.8s\n",
      "41:\tlearn: 0.5444734\ttotal: 280ms\tremaining: 6.05s\n",
      "42:\tlearn: 0.5418835\ttotal: 286ms\tremaining: 6.03s\n",
      "43:\tlearn: 0.5402939\ttotal: 289ms\tremaining: 5.96s\n",
      "44:\tlearn: 0.5376726\ttotal: 295ms\tremaining: 5.94s\n",
      "45:\tlearn: 0.5355161\ttotal: 301ms\tremaining: 5.92s\n",
      "46:\tlearn: 0.5341038\ttotal: 305ms\tremaining: 5.86s\n",
      "47:\tlearn: 0.5312737\ttotal: 311ms\tremaining: 5.84s\n",
      "48:\tlearn: 0.5294184\ttotal: 318ms\tremaining: 5.84s\n",
      "49:\tlearn: 0.5273345\ttotal: 333ms\tremaining: 5.99s\n",
      "50:\tlearn: 0.5252678\ttotal: 357ms\tremaining: 6.29s\n",
      "51:\tlearn: 0.5234622\ttotal: 368ms\tremaining: 6.36s\n",
      "52:\tlearn: 0.5212153\ttotal: 405ms\tremaining: 6.85s\n",
      "53:\tlearn: 0.5187525\ttotal: 426ms\tremaining: 7.07s\n",
      "54:\tlearn: 0.5166442\ttotal: 442ms\tremaining: 7.19s\n",
      "55:\tlearn: 0.5149403\ttotal: 449ms\tremaining: 7.17s\n",
      "56:\tlearn: 0.5128413\ttotal: 457ms\tremaining: 7.15s\n",
      "57:\tlearn: 0.5110787\ttotal: 464ms\tremaining: 7.13s\n",
      "58:\tlearn: 0.5099853\ttotal: 471ms\tremaining: 7.11s\n",
      "59:\tlearn: 0.5083129\ttotal: 477ms\tremaining: 7.08s\n",
      "60:\tlearn: 0.5067565\ttotal: 485ms\tremaining: 7.07s\n",
      "61:\tlearn: 0.5052983\ttotal: 492ms\tremaining: 7.04s\n",
      "62:\tlearn: 0.5035112\ttotal: 498ms\tremaining: 7.02s\n",
      "63:\tlearn: 0.5019432\ttotal: 506ms\tremaining: 7.01s\n",
      "64:\tlearn: 0.5002343\ttotal: 514ms\tremaining: 7s\n",
      "65:\tlearn: 0.4980608\ttotal: 521ms\tremaining: 6.98s\n",
      "66:\tlearn: 0.4965921\ttotal: 546ms\tremaining: 7.2s\n",
      "67:\tlearn: 0.4955440\ttotal: 561ms\tremaining: 7.27s\n",
      "68:\tlearn: 0.4941905\ttotal: 570ms\tremaining: 7.27s\n",
      "69:\tlearn: 0.4925735\ttotal: 577ms\tremaining: 7.25s\n",
      "70:\tlearn: 0.4908987\ttotal: 583ms\tremaining: 7.22s\n",
      "71:\tlearn: 0.4895420\ttotal: 590ms\tremaining: 7.19s\n",
      "72:\tlearn: 0.4879246\ttotal: 596ms\tremaining: 7.16s\n",
      "73:\tlearn: 0.4864743\ttotal: 602ms\tremaining: 7.12s\n",
      "74:\tlearn: 0.4849198\ttotal: 609ms\tremaining: 7.1s\n",
      "75:\tlearn: 0.4837656\ttotal: 616ms\tremaining: 7.08s\n",
      "76:\tlearn: 0.4826083\ttotal: 654ms\tremaining: 7.41s\n",
      "77:\tlearn: 0.4815526\ttotal: 661ms\tremaining: 7.39s\n",
      "78:\tlearn: 0.4801451\ttotal: 668ms\tremaining: 7.36s\n",
      "79:\tlearn: 0.4794496\ttotal: 671ms\tremaining: 7.29s\n",
      "80:\tlearn: 0.4783641\ttotal: 675ms\tremaining: 7.25s\n",
      "81:\tlearn: 0.4773950\ttotal: 681ms\tremaining: 7.21s\n",
      "82:\tlearn: 0.4762052\ttotal: 687ms\tremaining: 7.18s\n",
      "83:\tlearn: 0.4749926\ttotal: 693ms\tremaining: 7.15s\n",
      "84:\tlearn: 0.4738092\ttotal: 699ms\tremaining: 7.11s\n",
      "85:\tlearn: 0.4726377\ttotal: 705ms\tremaining: 7.08s\n",
      "86:\tlearn: 0.4715757\ttotal: 711ms\tremaining: 7.05s\n",
      "87:\tlearn: 0.4707167\ttotal: 717ms\tremaining: 7.03s\n",
      "88:\tlearn: 0.4698159\ttotal: 724ms\tremaining: 7s\n",
      "89:\tlearn: 0.4687763\ttotal: 730ms\tremaining: 6.97s\n",
      "90:\tlearn: 0.4677938\ttotal: 736ms\tremaining: 6.94s\n",
      "91:\tlearn: 0.4668323\ttotal: 742ms\tremaining: 6.92s\n",
      "92:\tlearn: 0.4660854\ttotal: 748ms\tremaining: 6.89s\n",
      "93:\tlearn: 0.4654032\ttotal: 754ms\tremaining: 6.87s\n",
      "94:\tlearn: 0.4648836\ttotal: 759ms\tremaining: 6.83s\n",
      "95:\tlearn: 0.4642006\ttotal: 765ms\tremaining: 6.81s\n",
      "96:\tlearn: 0.4630256\ttotal: 772ms\tremaining: 6.79s\n",
      "97:\tlearn: 0.4621543\ttotal: 778ms\tremaining: 6.76s\n",
      "98:\tlearn: 0.4610017\ttotal: 784ms\tremaining: 6.74s\n",
      "99:\tlearn: 0.4601691\ttotal: 790ms\tremaining: 6.72s\n",
      "100:\tlearn: 0.4596171\ttotal: 796ms\tremaining: 6.69s\n",
      "101:\tlearn: 0.4589052\ttotal: 802ms\tremaining: 6.67s\n",
      "102:\tlearn: 0.4584927\ttotal: 806ms\tremaining: 6.62s\n",
      "103:\tlearn: 0.4576632\ttotal: 812ms\tremaining: 6.61s\n",
      "104:\tlearn: 0.4569775\ttotal: 819ms\tremaining: 6.59s\n",
      "105:\tlearn: 0.4563042\ttotal: 827ms\tremaining: 6.58s\n",
      "106:\tlearn: 0.4557225\ttotal: 833ms\tremaining: 6.57s\n",
      "107:\tlearn: 0.4551105\ttotal: 839ms\tremaining: 6.54s\n",
      "108:\tlearn: 0.4540917\ttotal: 858ms\tremaining: 6.62s\n",
      "109:\tlearn: 0.4534123\ttotal: 869ms\tremaining: 6.64s\n",
      "110:\tlearn: 0.4528745\ttotal: 878ms\tremaining: 6.63s\n",
      "111:\tlearn: 0.4525350\ttotal: 882ms\tremaining: 6.6s\n",
      "112:\tlearn: 0.4514863\ttotal: 889ms\tremaining: 6.58s\n",
      "113:\tlearn: 0.4509505\ttotal: 895ms\tremaining: 6.56s\n",
      "114:\tlearn: 0.4500806\ttotal: 901ms\tremaining: 6.54s\n",
      "115:\tlearn: 0.4491428\ttotal: 907ms\tremaining: 6.52s\n",
      "116:\tlearn: 0.4484241\ttotal: 913ms\tremaining: 6.5s\n",
      "117:\tlearn: 0.4477758\ttotal: 919ms\tremaining: 6.48s\n",
      "118:\tlearn: 0.4472027\ttotal: 926ms\tremaining: 6.46s\n",
      "119:\tlearn: 0.4465693\ttotal: 932ms\tremaining: 6.44s\n",
      "120:\tlearn: 0.4457470\ttotal: 938ms\tremaining: 6.43s\n",
      "121:\tlearn: 0.4451447\ttotal: 944ms\tremaining: 6.41s\n",
      "122:\tlearn: 0.4443734\ttotal: 950ms\tremaining: 6.39s\n",
      "123:\tlearn: 0.4437420\ttotal: 956ms\tremaining: 6.37s\n",
      "124:\tlearn: 0.4431879\ttotal: 962ms\tremaining: 6.35s\n",
      "125:\tlearn: 0.4425648\ttotal: 968ms\tremaining: 6.33s\n",
      "126:\tlearn: 0.4420556\ttotal: 974ms\tremaining: 6.31s\n",
      "127:\tlearn: 0.4415679\ttotal: 980ms\tremaining: 6.3s\n",
      "128:\tlearn: 0.4411554\ttotal: 987ms\tremaining: 6.28s\n",
      "129:\tlearn: 0.4406305\ttotal: 993ms\tremaining: 6.26s\n",
      "130:\tlearn: 0.4400789\ttotal: 999ms\tremaining: 6.25s\n",
      "131:\tlearn: 0.4392540\ttotal: 1s\tremaining: 6.23s\n",
      "132:\tlearn: 0.4387073\ttotal: 1.01s\tremaining: 6.21s\n",
      "133:\tlearn: 0.4381690\ttotal: 1.02s\tremaining: 6.2s\n",
      "134:\tlearn: 0.4376874\ttotal: 1.03s\tremaining: 6.2s\n",
      "135:\tlearn: 0.4373301\ttotal: 1.03s\tremaining: 6.19s\n",
      "136:\tlearn: 0.4365361\ttotal: 1.04s\tremaining: 6.18s\n",
      "137:\tlearn: 0.4361427\ttotal: 1.05s\tremaining: 6.17s\n",
      "138:\tlearn: 0.4357748\ttotal: 1.06s\tremaining: 6.16s\n",
      "139:\tlearn: 0.4350795\ttotal: 1.06s\tremaining: 6.15s\n",
      "140:\tlearn: 0.4347590\ttotal: 1.07s\tremaining: 6.13s\n",
      "141:\tlearn: 0.4343153\ttotal: 1.07s\tremaining: 6.12s\n",
      "142:\tlearn: 0.4341140\ttotal: 1.08s\tremaining: 6.09s\n",
      "143:\tlearn: 0.4330500\ttotal: 1.08s\tremaining: 6.07s\n",
      "144:\tlearn: 0.4326960\ttotal: 1.09s\tremaining: 6.06s\n",
      "145:\tlearn: 0.4321284\ttotal: 1.1s\tremaining: 6.04s\n",
      "146:\tlearn: 0.4317167\ttotal: 1.1s\tremaining: 6.03s\n",
      "147:\tlearn: 0.4312129\ttotal: 1.11s\tremaining: 6.01s\n",
      "148:\tlearn: 0.4307514\ttotal: 1.11s\tremaining: 6s\n",
      "149:\tlearn: 0.4303280\ttotal: 1.12s\tremaining: 5.98s\n",
      "150:\tlearn: 0.4299340\ttotal: 1.13s\tremaining: 5.97s\n",
      "151:\tlearn: 0.4294224\ttotal: 1.13s\tremaining: 5.95s\n",
      "152:\tlearn: 0.4289992\ttotal: 1.14s\tremaining: 5.94s\n",
      "153:\tlearn: 0.4282917\ttotal: 1.15s\tremaining: 5.93s\n",
      "154:\tlearn: 0.4274583\ttotal: 1.15s\tremaining: 5.91s\n",
      "155:\tlearn: 0.4270428\ttotal: 1.16s\tremaining: 5.9s\n",
      "156:\tlearn: 0.4267607\ttotal: 1.16s\tremaining: 5.88s\n",
      "157:\tlearn: 0.4264058\ttotal: 1.17s\tremaining: 5.87s\n",
      "158:\tlearn: 0.4259123\ttotal: 1.18s\tremaining: 5.85s\n",
      "159:\tlearn: 0.4254525\ttotal: 1.18s\tremaining: 5.84s\n",
      "160:\tlearn: 0.4250006\ttotal: 1.19s\tremaining: 5.83s\n",
      "161:\tlearn: 0.4247108\ttotal: 1.2s\tremaining: 5.81s\n",
      "162:\tlearn: 0.4243005\ttotal: 1.2s\tremaining: 5.8s\n",
      "163:\tlearn: 0.4239916\ttotal: 1.21s\tremaining: 5.79s\n",
      "164:\tlearn: 0.4235641\ttotal: 1.21s\tremaining: 5.78s\n"
     ]
    },
    {
     "name": "stdout",
     "output_type": "stream",
     "text": [
      "165:\tlearn: 0.4232944\ttotal: 1.22s\tremaining: 5.76s\n",
      "166:\tlearn: 0.4230048\ttotal: 1.23s\tremaining: 5.76s\n",
      "167:\tlearn: 0.4227489\ttotal: 1.24s\tremaining: 5.79s\n",
      "168:\tlearn: 0.4223193\ttotal: 1.25s\tremaining: 5.79s\n",
      "169:\tlearn: 0.4219830\ttotal: 1.26s\tremaining: 5.78s\n",
      "170:\tlearn: 0.4214679\ttotal: 1.27s\tremaining: 5.77s\n",
      "171:\tlearn: 0.4211632\ttotal: 1.27s\tremaining: 5.76s\n",
      "172:\tlearn: 0.4207897\ttotal: 1.28s\tremaining: 5.74s\n",
      "173:\tlearn: 0.4203213\ttotal: 1.28s\tremaining: 5.73s\n",
      "174:\tlearn: 0.4198418\ttotal: 1.29s\tremaining: 5.72s\n",
      "175:\tlearn: 0.4194992\ttotal: 1.3s\tremaining: 5.71s\n",
      "176:\tlearn: 0.4191742\ttotal: 1.3s\tremaining: 5.7s\n",
      "177:\tlearn: 0.4188022\ttotal: 1.31s\tremaining: 5.68s\n",
      "178:\tlearn: 0.4183304\ttotal: 1.31s\tremaining: 5.67s\n",
      "179:\tlearn: 0.4179143\ttotal: 1.32s\tremaining: 5.65s\n",
      "180:\tlearn: 0.4176055\ttotal: 1.33s\tremaining: 5.64s\n",
      "181:\tlearn: 0.4172914\ttotal: 1.33s\tremaining: 5.63s\n",
      "182:\tlearn: 0.4168720\ttotal: 1.34s\tremaining: 5.62s\n",
      "183:\tlearn: 0.4166253\ttotal: 1.35s\tremaining: 5.61s\n",
      "184:\tlearn: 0.4163132\ttotal: 1.35s\tremaining: 5.6s\n",
      "185:\tlearn: 0.4158989\ttotal: 1.36s\tremaining: 5.59s\n",
      "186:\tlearn: 0.4154982\ttotal: 1.37s\tremaining: 5.58s\n",
      "187:\tlearn: 0.4152009\ttotal: 1.37s\tremaining: 5.56s\n",
      "188:\tlearn: 0.4147922\ttotal: 1.38s\tremaining: 5.55s\n",
      "189:\tlearn: 0.4143810\ttotal: 1.39s\tremaining: 5.54s\n",
      "190:\tlearn: 0.4138430\ttotal: 1.39s\tremaining: 5.53s\n",
      "191:\tlearn: 0.4136291\ttotal: 1.4s\tremaining: 5.52s\n",
      "192:\tlearn: 0.4134692\ttotal: 1.4s\tremaining: 5.51s\n",
      "193:\tlearn: 0.4130709\ttotal: 1.41s\tremaining: 5.5s\n",
      "194:\tlearn: 0.4128686\ttotal: 1.42s\tremaining: 5.48s\n",
      "195:\tlearn: 0.4126398\ttotal: 1.42s\tremaining: 5.47s\n",
      "196:\tlearn: 0.4124446\ttotal: 1.43s\tremaining: 5.47s\n",
      "197:\tlearn: 0.4120061\ttotal: 1.44s\tremaining: 5.46s\n",
      "198:\tlearn: 0.4116183\ttotal: 1.44s\tremaining: 5.45s\n",
      "199:\tlearn: 0.4112698\ttotal: 1.45s\tremaining: 5.44s\n",
      "200:\tlearn: 0.4109885\ttotal: 1.46s\tremaining: 5.43s\n",
      "201:\tlearn: 0.4106940\ttotal: 1.46s\tremaining: 5.41s\n",
      "202:\tlearn: 0.4103042\ttotal: 1.47s\tremaining: 5.4s\n",
      "203:\tlearn: 0.4100600\ttotal: 1.47s\tremaining: 5.39s\n",
      "204:\tlearn: 0.4097902\ttotal: 1.48s\tremaining: 5.38s\n",
      "205:\tlearn: 0.4094631\ttotal: 1.49s\tremaining: 5.37s\n",
      "206:\tlearn: 0.4091369\ttotal: 1.49s\tremaining: 5.36s\n",
      "207:\tlearn: 0.4090357\ttotal: 1.5s\tremaining: 5.35s\n",
      "208:\tlearn: 0.4086919\ttotal: 1.5s\tremaining: 5.34s\n",
      "209:\tlearn: 0.4084409\ttotal: 1.51s\tremaining: 5.33s\n",
      "210:\tlearn: 0.4080587\ttotal: 1.52s\tremaining: 5.32s\n",
      "211:\tlearn: 0.4078871\ttotal: 1.52s\tremaining: 5.31s\n",
      "212:\tlearn: 0.4075882\ttotal: 1.53s\tremaining: 5.29s\n",
      "213:\tlearn: 0.4074340\ttotal: 1.54s\tremaining: 5.28s\n",
      "214:\tlearn: 0.4072931\ttotal: 1.54s\tremaining: 5.27s\n",
      "215:\tlearn: 0.4070526\ttotal: 1.55s\tremaining: 5.26s\n",
      "216:\tlearn: 0.4069577\ttotal: 1.55s\tremaining: 5.25s\n",
      "217:\tlearn: 0.4067651\ttotal: 1.56s\tremaining: 5.24s\n",
      "218:\tlearn: 0.4065682\ttotal: 1.57s\tremaining: 5.23s\n",
      "219:\tlearn: 0.4062396\ttotal: 1.57s\tremaining: 5.22s\n",
      "220:\tlearn: 0.4060713\ttotal: 1.58s\tremaining: 5.21s\n",
      "221:\tlearn: 0.4058658\ttotal: 1.58s\tremaining: 5.2s\n",
      "222:\tlearn: 0.4054429\ttotal: 1.59s\tremaining: 5.19s\n",
      "223:\tlearn: 0.4052466\ttotal: 1.6s\tremaining: 5.18s\n",
      "224:\tlearn: 0.4048792\ttotal: 1.6s\tremaining: 5.17s\n",
      "225:\tlearn: 0.4046457\ttotal: 1.61s\tremaining: 5.16s\n",
      "226:\tlearn: 0.4045426\ttotal: 1.61s\tremaining: 5.14s\n",
      "227:\tlearn: 0.4042922\ttotal: 1.62s\tremaining: 5.13s\n",
      "228:\tlearn: 0.4040712\ttotal: 1.63s\tremaining: 5.13s\n",
      "229:\tlearn: 0.4038492\ttotal: 1.64s\tremaining: 5.12s\n",
      "230:\tlearn: 0.4036561\ttotal: 1.64s\tremaining: 5.11s\n",
      "231:\tlearn: 0.4034341\ttotal: 1.65s\tremaining: 5.1s\n",
      "232:\tlearn: 0.4032462\ttotal: 1.66s\tremaining: 5.09s\n",
      "233:\tlearn: 0.4029208\ttotal: 1.66s\tremaining: 5.09s\n",
      "234:\tlearn: 0.4027213\ttotal: 1.67s\tremaining: 5.08s\n",
      "235:\tlearn: 0.4026797\ttotal: 1.67s\tremaining: 5.06s\n",
      "236:\tlearn: 0.4023687\ttotal: 1.68s\tremaining: 5.05s\n",
      "237:\tlearn: 0.4021696\ttotal: 1.68s\tremaining: 5.04s\n",
      "238:\tlearn: 0.4018319\ttotal: 1.69s\tremaining: 5.03s\n",
      "239:\tlearn: 0.4016257\ttotal: 1.7s\tremaining: 5.02s\n",
      "240:\tlearn: 0.4013050\ttotal: 1.7s\tremaining: 5.01s\n",
      "241:\tlearn: 0.4009109\ttotal: 1.71s\tremaining: 5s\n",
      "242:\tlearn: 0.4007495\ttotal: 1.72s\tremaining: 4.99s\n",
      "243:\tlearn: 0.4004388\ttotal: 1.72s\tremaining: 4.98s\n",
      "244:\tlearn: 0.4000959\ttotal: 1.73s\tremaining: 4.97s\n",
      "245:\tlearn: 0.3996975\ttotal: 1.73s\tremaining: 4.96s\n",
      "246:\tlearn: 0.3995876\ttotal: 1.74s\tremaining: 4.96s\n",
      "247:\tlearn: 0.3994263\ttotal: 1.75s\tremaining: 4.95s\n",
      "248:\tlearn: 0.3993010\ttotal: 1.75s\tremaining: 4.94s\n",
      "249:\tlearn: 0.3990791\ttotal: 1.76s\tremaining: 4.93s\n",
      "250:\tlearn: 0.3989280\ttotal: 1.77s\tremaining: 4.92s\n",
      "251:\tlearn: 0.3987040\ttotal: 1.77s\tremaining: 4.91s\n",
      "252:\tlearn: 0.3984744\ttotal: 1.78s\tremaining: 4.9s\n",
      "253:\tlearn: 0.3984011\ttotal: 1.78s\tremaining: 4.89s\n",
      "254:\tlearn: 0.3983690\ttotal: 1.79s\tremaining: 4.87s\n",
      "255:\tlearn: 0.3981930\ttotal: 1.79s\tremaining: 4.86s\n",
      "256:\tlearn: 0.3980494\ttotal: 1.8s\tremaining: 4.85s\n",
      "257:\tlearn: 0.3978768\ttotal: 1.81s\tremaining: 4.84s\n",
      "258:\tlearn: 0.3975605\ttotal: 1.81s\tremaining: 4.83s\n",
      "259:\tlearn: 0.3973215\ttotal: 1.82s\tremaining: 4.83s\n",
      "260:\tlearn: 0.3969071\ttotal: 1.82s\tremaining: 4.82s\n",
      "261:\tlearn: 0.3968454\ttotal: 1.83s\tremaining: 4.81s\n",
      "262:\tlearn: 0.3966120\ttotal: 1.84s\tremaining: 4.8s\n",
      "263:\tlearn: 0.3963017\ttotal: 1.84s\tremaining: 4.79s\n",
      "264:\tlearn: 0.3961691\ttotal: 1.85s\tremaining: 4.79s\n",
      "265:\tlearn: 0.3960148\ttotal: 1.86s\tremaining: 4.78s\n",
      "266:\tlearn: 0.3959292\ttotal: 1.86s\tremaining: 4.77s\n",
      "267:\tlearn: 0.3958602\ttotal: 1.87s\tremaining: 4.76s\n",
      "268:\tlearn: 0.3957559\ttotal: 1.88s\tremaining: 4.75s\n",
      "269:\tlearn: 0.3956951\ttotal: 1.88s\tremaining: 4.74s\n",
      "270:\tlearn: 0.3956357\ttotal: 1.89s\tremaining: 4.74s\n",
      "271:\tlearn: 0.3955709\ttotal: 1.9s\tremaining: 4.73s\n",
      "272:\tlearn: 0.3953914\ttotal: 1.9s\tremaining: 4.72s\n",
      "273:\tlearn: 0.3953010\ttotal: 1.91s\tremaining: 4.71s\n",
      "274:\tlearn: 0.3950540\ttotal: 1.92s\tremaining: 4.7s\n",
      "275:\tlearn: 0.3948643\ttotal: 1.93s\tremaining: 4.72s\n",
      "276:\tlearn: 0.3945456\ttotal: 1.94s\tremaining: 4.71s\n",
      "277:\tlearn: 0.3944569\ttotal: 1.94s\tremaining: 4.7s\n",
      "278:\tlearn: 0.3942090\ttotal: 1.95s\tremaining: 4.69s\n",
      "279:\tlearn: 0.3939831\ttotal: 1.96s\tremaining: 4.68s\n",
      "280:\tlearn: 0.3937973\ttotal: 1.96s\tremaining: 4.67s\n",
      "281:\tlearn: 0.3937270\ttotal: 1.97s\tremaining: 4.66s\n",
      "282:\tlearn: 0.3936188\ttotal: 1.97s\tremaining: 4.65s\n",
      "283:\tlearn: 0.3933274\ttotal: 1.98s\tremaining: 4.64s\n",
      "284:\tlearn: 0.3932781\ttotal: 1.99s\tremaining: 4.63s\n",
      "285:\tlearn: 0.3931597\ttotal: 1.99s\tremaining: 4.63s\n",
      "286:\tlearn: 0.3930330\ttotal: 2s\tremaining: 4.62s\n",
      "287:\tlearn: 0.3929023\ttotal: 2s\tremaining: 4.61s\n",
      "288:\tlearn: 0.3928223\ttotal: 2.01s\tremaining: 4.6s\n",
      "289:\tlearn: 0.3926958\ttotal: 2.02s\tremaining: 4.59s\n",
      "290:\tlearn: 0.3925671\ttotal: 2.02s\tremaining: 4.59s\n",
      "291:\tlearn: 0.3923026\ttotal: 2.03s\tremaining: 4.58s\n",
      "292:\tlearn: 0.3921972\ttotal: 2.04s\tremaining: 4.57s\n",
      "293:\tlearn: 0.3920219\ttotal: 2.05s\tremaining: 4.57s\n",
      "294:\tlearn: 0.3919614\ttotal: 2.05s\tremaining: 4.56s\n",
      "295:\tlearn: 0.3919108\ttotal: 2.06s\tremaining: 4.55s\n",
      "296:\tlearn: 0.3917824\ttotal: 2.07s\tremaining: 4.55s\n",
      "297:\tlearn: 0.3916775\ttotal: 2.08s\tremaining: 4.54s\n",
      "298:\tlearn: 0.3915383\ttotal: 2.08s\tremaining: 4.54s\n",
      "299:\tlearn: 0.3913862\ttotal: 2.09s\tremaining: 4.53s\n",
      "300:\tlearn: 0.3911101\ttotal: 2.1s\tremaining: 4.53s\n",
      "301:\tlearn: 0.3910195\ttotal: 2.11s\tremaining: 4.52s\n",
      "302:\tlearn: 0.3909913\ttotal: 2.11s\tremaining: 4.51s\n",
      "303:\tlearn: 0.3909538\ttotal: 2.14s\tremaining: 4.54s\n",
      "304:\tlearn: 0.3908761\ttotal: 2.14s\tremaining: 4.53s\n",
      "305:\tlearn: 0.3907948\ttotal: 2.15s\tremaining: 4.53s\n",
      "306:\tlearn: 0.3906002\ttotal: 2.16s\tremaining: 4.52s\n",
      "307:\tlearn: 0.3904589\ttotal: 2.16s\tremaining: 4.51s\n",
      "308:\tlearn: 0.3903325\ttotal: 2.17s\tremaining: 4.5s\n",
      "309:\tlearn: 0.3900924\ttotal: 2.18s\tremaining: 4.5s\n",
      "310:\tlearn: 0.3899395\ttotal: 2.19s\tremaining: 4.49s\n",
      "311:\tlearn: 0.3896825\ttotal: 2.19s\tremaining: 4.48s\n",
      "312:\tlearn: 0.3894580\ttotal: 2.2s\tremaining: 4.47s\n",
      "313:\tlearn: 0.3892808\ttotal: 2.21s\tremaining: 4.47s\n",
      "314:\tlearn: 0.3889768\ttotal: 2.21s\tremaining: 4.46s\n",
      "315:\tlearn: 0.3889442\ttotal: 2.22s\tremaining: 4.45s\n",
      "316:\tlearn: 0.3887531\ttotal: 2.23s\tremaining: 4.45s\n",
      "317:\tlearn: 0.3886309\ttotal: 2.23s\tremaining: 4.44s\n",
      "318:\tlearn: 0.3885502\ttotal: 2.24s\tremaining: 4.43s\n",
      "319:\tlearn: 0.3883833\ttotal: 2.25s\tremaining: 4.42s\n",
      "320:\tlearn: 0.3882770\ttotal: 2.25s\tremaining: 4.42s\n",
      "321:\tlearn: 0.3881284\ttotal: 2.26s\tremaining: 4.41s\n",
      "322:\tlearn: 0.3880504\ttotal: 2.27s\tremaining: 4.4s\n",
      "323:\tlearn: 0.3877970\ttotal: 2.27s\tremaining: 4.39s\n",
      "324:\tlearn: 0.3876205\ttotal: 2.28s\tremaining: 4.39s\n",
      "325:\tlearn: 0.3875357\ttotal: 2.29s\tremaining: 4.39s\n",
      "326:\tlearn: 0.3873396\ttotal: 2.3s\tremaining: 4.38s\n",
      "327:\tlearn: 0.3870191\ttotal: 2.31s\tremaining: 4.37s\n",
      "328:\tlearn: 0.3868000\ttotal: 2.31s\tremaining: 4.36s\n",
      "329:\tlearn: 0.3867402\ttotal: 2.32s\tremaining: 4.36s\n",
      "330:\tlearn: 0.3867324\ttotal: 2.33s\tremaining: 4.35s\n",
      "331:\tlearn: 0.3865462\ttotal: 2.33s\tremaining: 4.34s\n",
      "332:\tlearn: 0.3863930\ttotal: 2.34s\tremaining: 4.34s\n",
      "333:\tlearn: 0.3862453\ttotal: 2.35s\tremaining: 4.34s\n",
      "334:\tlearn: 0.3862154\ttotal: 2.36s\tremaining: 4.33s\n",
      "335:\tlearn: 0.3859162\ttotal: 2.37s\tremaining: 4.32s\n",
      "336:\tlearn: 0.3859003\ttotal: 2.37s\tremaining: 4.31s\n",
      "337:\tlearn: 0.3858052\ttotal: 2.38s\tremaining: 4.3s\n",
      "338:\tlearn: 0.3857700\ttotal: 2.38s\tremaining: 4.29s\n",
      "339:\tlearn: 0.3856938\ttotal: 2.39s\tremaining: 4.29s\n",
      "340:\tlearn: 0.3855707\ttotal: 2.4s\tremaining: 4.28s\n",
      "341:\tlearn: 0.3855077\ttotal: 2.4s\tremaining: 4.27s\n",
      "342:\tlearn: 0.3853971\ttotal: 2.41s\tremaining: 4.26s\n",
      "343:\tlearn: 0.3853146\ttotal: 2.42s\tremaining: 4.26s\n",
      "344:\tlearn: 0.3852043\ttotal: 2.42s\tremaining: 4.25s\n",
      "345:\tlearn: 0.3850537\ttotal: 2.43s\tremaining: 4.24s\n",
      "346:\tlearn: 0.3849202\ttotal: 2.44s\tremaining: 4.24s\n",
      "347:\tlearn: 0.3848319\ttotal: 2.44s\tremaining: 4.23s\n",
      "348:\tlearn: 0.3847754\ttotal: 2.45s\tremaining: 4.22s\n",
      "349:\tlearn: 0.3845517\ttotal: 2.46s\tremaining: 4.21s\n",
      "350:\tlearn: 0.3844174\ttotal: 2.46s\tremaining: 4.21s\n",
      "351:\tlearn: 0.3843538\ttotal: 2.47s\tremaining: 4.2s\n",
      "352:\tlearn: 0.3842027\ttotal: 2.48s\tremaining: 4.2s\n"
     ]
    },
    {
     "name": "stdout",
     "output_type": "stream",
     "text": [
      "353:\tlearn: 0.3841936\ttotal: 2.48s\tremaining: 4.18s\n",
      "354:\tlearn: 0.3841418\ttotal: 2.49s\tremaining: 4.18s\n",
      "355:\tlearn: 0.3840192\ttotal: 2.5s\tremaining: 4.17s\n",
      "356:\tlearn: 0.3840104\ttotal: 2.51s\tremaining: 4.16s\n",
      "357:\tlearn: 0.3839815\ttotal: 2.51s\tremaining: 4.16s\n",
      "358:\tlearn: 0.3839113\ttotal: 2.52s\tremaining: 4.15s\n",
      "359:\tlearn: 0.3838525\ttotal: 2.52s\tremaining: 4.14s\n",
      "360:\tlearn: 0.3837206\ttotal: 2.53s\tremaining: 4.13s\n",
      "361:\tlearn: 0.3836691\ttotal: 2.54s\tremaining: 4.12s\n",
      "362:\tlearn: 0.3836407\ttotal: 2.54s\tremaining: 4.12s\n",
      "363:\tlearn: 0.3836084\ttotal: 2.55s\tremaining: 4.11s\n",
      "364:\tlearn: 0.3834513\ttotal: 2.56s\tremaining: 4.1s\n",
      "365:\tlearn: 0.3834417\ttotal: 2.57s\tremaining: 4.09s\n",
      "366:\tlearn: 0.3833118\ttotal: 2.57s\tremaining: 4.09s\n",
      "367:\tlearn: 0.3832696\ttotal: 2.58s\tremaining: 4.08s\n",
      "368:\tlearn: 0.3831296\ttotal: 2.58s\tremaining: 4.07s\n",
      "369:\tlearn: 0.3831124\ttotal: 2.59s\tremaining: 4.06s\n",
      "370:\tlearn: 0.3829537\ttotal: 2.6s\tremaining: 4.06s\n",
      "371:\tlearn: 0.3828309\ttotal: 2.61s\tremaining: 4.05s\n",
      "372:\tlearn: 0.3827893\ttotal: 2.61s\tremaining: 4.04s\n",
      "373:\tlearn: 0.3827146\ttotal: 2.62s\tremaining: 4.04s\n",
      "374:\tlearn: 0.3824984\ttotal: 2.63s\tremaining: 4.03s\n",
      "375:\tlearn: 0.3824052\ttotal: 2.63s\tremaining: 4.02s\n",
      "376:\tlearn: 0.3822596\ttotal: 2.64s\tremaining: 4.01s\n",
      "377:\tlearn: 0.3822129\ttotal: 2.65s\tremaining: 4.01s\n",
      "378:\tlearn: 0.3821973\ttotal: 2.65s\tremaining: 4s\n",
      "379:\tlearn: 0.3820575\ttotal: 2.66s\tremaining: 3.99s\n",
      "380:\tlearn: 0.3819427\ttotal: 2.67s\tremaining: 3.98s\n",
      "381:\tlearn: 0.3819061\ttotal: 2.67s\tremaining: 3.98s\n",
      "382:\tlearn: 0.3819032\ttotal: 2.68s\tremaining: 3.96s\n",
      "383:\tlearn: 0.3816936\ttotal: 2.68s\tremaining: 3.96s\n",
      "384:\tlearn: 0.3816111\ttotal: 2.69s\tremaining: 3.95s\n",
      "385:\tlearn: 0.3815162\ttotal: 2.7s\tremaining: 3.94s\n",
      "386:\tlearn: 0.3813536\ttotal: 2.71s\tremaining: 3.94s\n",
      "387:\tlearn: 0.3810871\ttotal: 2.71s\tremaining: 3.93s\n",
      "388:\tlearn: 0.3810713\ttotal: 2.72s\tremaining: 3.92s\n",
      "389:\tlearn: 0.3809893\ttotal: 2.73s\tremaining: 3.91s\n",
      "390:\tlearn: 0.3809587\ttotal: 2.73s\tremaining: 3.9s\n",
      "391:\tlearn: 0.3809098\ttotal: 2.74s\tremaining: 3.9s\n",
      "392:\tlearn: 0.3808705\ttotal: 2.74s\tremaining: 3.89s\n",
      "393:\tlearn: 0.3806940\ttotal: 2.75s\tremaining: 3.88s\n",
      "394:\tlearn: 0.3806073\ttotal: 2.75s\tremaining: 3.87s\n",
      "395:\tlearn: 0.3805748\ttotal: 2.76s\tremaining: 3.86s\n",
      "396:\tlearn: 0.3804594\ttotal: 2.77s\tremaining: 3.85s\n",
      "397:\tlearn: 0.3804156\ttotal: 2.77s\tremaining: 3.85s\n",
      "398:\tlearn: 0.3803848\ttotal: 2.78s\tremaining: 3.84s\n",
      "399:\tlearn: 0.3803112\ttotal: 2.79s\tremaining: 3.83s\n",
      "400:\tlearn: 0.3802962\ttotal: 2.79s\tremaining: 3.82s\n",
      "401:\tlearn: 0.3802416\ttotal: 2.8s\tremaining: 3.81s\n",
      "402:\tlearn: 0.3802299\ttotal: 2.8s\tremaining: 3.8s\n",
      "403:\tlearn: 0.3798621\ttotal: 2.81s\tremaining: 3.79s\n",
      "404:\tlearn: 0.3798340\ttotal: 2.81s\tremaining: 3.79s\n",
      "405:\tlearn: 0.3795554\ttotal: 2.82s\tremaining: 3.78s\n",
      "406:\tlearn: 0.3794627\ttotal: 2.83s\tremaining: 3.77s\n",
      "407:\tlearn: 0.3793685\ttotal: 2.83s\tremaining: 3.76s\n",
      "408:\tlearn: 0.3793159\ttotal: 2.84s\tremaining: 3.75s\n",
      "409:\tlearn: 0.3791978\ttotal: 2.84s\tremaining: 3.75s\n",
      "410:\tlearn: 0.3791461\ttotal: 2.85s\tremaining: 3.74s\n",
      "411:\tlearn: 0.3790973\ttotal: 2.85s\tremaining: 3.73s\n",
      "412:\tlearn: 0.3789705\ttotal: 2.86s\tremaining: 3.72s\n",
      "413:\tlearn: 0.3789543\ttotal: 2.87s\tremaining: 3.71s\n",
      "414:\tlearn: 0.3789089\ttotal: 2.87s\tremaining: 3.7s\n",
      "415:\tlearn: 0.3788145\ttotal: 2.88s\tremaining: 3.7s\n",
      "416:\tlearn: 0.3787495\ttotal: 2.88s\tremaining: 3.69s\n",
      "417:\tlearn: 0.3786293\ttotal: 2.89s\tremaining: 3.68s\n",
      "418:\tlearn: 0.3785794\ttotal: 2.9s\tremaining: 3.67s\n",
      "419:\tlearn: 0.3785589\ttotal: 2.9s\tremaining: 3.66s\n",
      "420:\tlearn: 0.3784381\ttotal: 2.91s\tremaining: 3.66s\n",
      "421:\tlearn: 0.3783436\ttotal: 2.92s\tremaining: 3.65s\n",
      "422:\tlearn: 0.3782180\ttotal: 2.93s\tremaining: 3.65s\n",
      "423:\tlearn: 0.3780787\ttotal: 2.93s\tremaining: 3.64s\n",
      "424:\tlearn: 0.3778664\ttotal: 2.94s\tremaining: 3.63s\n",
      "425:\tlearn: 0.3778025\ttotal: 2.95s\tremaining: 3.63s\n",
      "426:\tlearn: 0.3777528\ttotal: 2.96s\tremaining: 3.62s\n",
      "427:\tlearn: 0.3776350\ttotal: 2.96s\tremaining: 3.62s\n",
      "428:\tlearn: 0.3775802\ttotal: 2.97s\tremaining: 3.61s\n",
      "429:\tlearn: 0.3775293\ttotal: 2.98s\tremaining: 3.6s\n",
      "430:\tlearn: 0.3774478\ttotal: 2.98s\tremaining: 3.59s\n",
      "431:\tlearn: 0.3773781\ttotal: 2.99s\tremaining: 3.59s\n",
      "432:\tlearn: 0.3772718\ttotal: 3s\tremaining: 3.58s\n",
      "433:\tlearn: 0.3771543\ttotal: 3.01s\tremaining: 3.58s\n",
      "434:\tlearn: 0.3771042\ttotal: 3.01s\tremaining: 3.57s\n",
      "435:\tlearn: 0.3769933\ttotal: 3.02s\tremaining: 3.56s\n",
      "436:\tlearn: 0.3767973\ttotal: 3.03s\tremaining: 3.55s\n",
      "437:\tlearn: 0.3767144\ttotal: 3.03s\tremaining: 3.55s\n",
      "438:\tlearn: 0.3765874\ttotal: 3.04s\tremaining: 3.54s\n",
      "439:\tlearn: 0.3765396\ttotal: 3.05s\tremaining: 3.53s\n",
      "440:\tlearn: 0.3764388\ttotal: 3.05s\tremaining: 3.52s\n",
      "441:\tlearn: 0.3764080\ttotal: 3.06s\tremaining: 3.52s\n",
      "442:\tlearn: 0.3761705\ttotal: 3.07s\tremaining: 3.51s\n",
      "443:\tlearn: 0.3759560\ttotal: 3.07s\tremaining: 3.5s\n",
      "444:\tlearn: 0.3758988\ttotal: 3.08s\tremaining: 3.5s\n",
      "445:\tlearn: 0.3757640\ttotal: 3.09s\tremaining: 3.49s\n",
      "446:\tlearn: 0.3757612\ttotal: 3.09s\tremaining: 3.48s\n",
      "447:\tlearn: 0.3757189\ttotal: 3.1s\tremaining: 3.47s\n",
      "448:\tlearn: 0.3756951\ttotal: 3.1s\tremaining: 3.46s\n",
      "449:\tlearn: 0.3754506\ttotal: 3.11s\tremaining: 3.46s\n",
      "450:\tlearn: 0.3753228\ttotal: 3.12s\tremaining: 3.45s\n",
      "451:\tlearn: 0.3752670\ttotal: 3.12s\tremaining: 3.44s\n",
      "452:\tlearn: 0.3751732\ttotal: 3.13s\tremaining: 3.43s\n",
      "453:\tlearn: 0.3751630\ttotal: 3.14s\tremaining: 3.43s\n",
      "454:\tlearn: 0.3751609\ttotal: 3.14s\tremaining: 3.42s\n",
      "455:\tlearn: 0.3751230\ttotal: 3.15s\tremaining: 3.41s\n",
      "456:\tlearn: 0.3750334\ttotal: 3.15s\tremaining: 3.4s\n",
      "457:\tlearn: 0.3748000\ttotal: 3.16s\tremaining: 3.4s\n",
      "458:\tlearn: 0.3747130\ttotal: 3.17s\tremaining: 3.39s\n",
      "459:\tlearn: 0.3746576\ttotal: 3.17s\tremaining: 3.38s\n",
      "460:\tlearn: 0.3745533\ttotal: 3.18s\tremaining: 3.37s\n",
      "461:\tlearn: 0.3744126\ttotal: 3.19s\tremaining: 3.37s\n",
      "462:\tlearn: 0.3743270\ttotal: 3.19s\tremaining: 3.36s\n",
      "463:\tlearn: 0.3743019\ttotal: 3.2s\tremaining: 3.35s\n",
      "464:\tlearn: 0.3742094\ttotal: 3.2s\tremaining: 3.34s\n",
      "465:\tlearn: 0.3741272\ttotal: 3.21s\tremaining: 3.33s\n",
      "466:\tlearn: 0.3741171\ttotal: 3.21s\tremaining: 3.33s\n",
      "467:\tlearn: 0.3740801\ttotal: 3.22s\tremaining: 3.32s\n",
      "468:\tlearn: 0.3740474\ttotal: 3.23s\tremaining: 3.31s\n",
      "469:\tlearn: 0.3739916\ttotal: 3.23s\tremaining: 3.3s\n",
      "470:\tlearn: 0.3739417\ttotal: 3.24s\tremaining: 3.29s\n",
      "471:\tlearn: 0.3739022\ttotal: 3.24s\tremaining: 3.29s\n",
      "472:\tlearn: 0.3738194\ttotal: 3.25s\tremaining: 3.28s\n",
      "473:\tlearn: 0.3737617\ttotal: 3.25s\tremaining: 3.27s\n",
      "474:\tlearn: 0.3736786\ttotal: 3.26s\tremaining: 3.26s\n",
      "475:\tlearn: 0.3736614\ttotal: 3.27s\tremaining: 3.25s\n",
      "476:\tlearn: 0.3734077\ttotal: 3.27s\tremaining: 3.25s\n",
      "477:\tlearn: 0.3731779\ttotal: 3.28s\tremaining: 3.24s\n",
      "478:\tlearn: 0.3729696\ttotal: 3.29s\tremaining: 3.23s\n",
      "479:\tlearn: 0.3729621\ttotal: 3.29s\tremaining: 3.22s\n",
      "480:\tlearn: 0.3728996\ttotal: 3.3s\tremaining: 3.21s\n",
      "481:\tlearn: 0.3728036\ttotal: 3.3s\tremaining: 3.21s\n",
      "482:\tlearn: 0.3726678\ttotal: 3.31s\tremaining: 3.2s\n",
      "483:\tlearn: 0.3726255\ttotal: 3.32s\tremaining: 3.2s\n",
      "484:\tlearn: 0.3725487\ttotal: 3.33s\tremaining: 3.19s\n",
      "485:\tlearn: 0.3724668\ttotal: 3.34s\tremaining: 3.19s\n",
      "486:\tlearn: 0.3724041\ttotal: 3.34s\tremaining: 3.18s\n",
      "487:\tlearn: 0.3721327\ttotal: 3.35s\tremaining: 3.17s\n",
      "488:\tlearn: 0.3720337\ttotal: 3.36s\tremaining: 3.16s\n",
      "489:\tlearn: 0.3719925\ttotal: 3.36s\tremaining: 3.16s\n",
      "490:\tlearn: 0.3719037\ttotal: 3.37s\tremaining: 3.15s\n",
      "491:\tlearn: 0.3718755\ttotal: 3.38s\tremaining: 3.14s\n",
      "492:\tlearn: 0.3717079\ttotal: 3.38s\tremaining: 3.13s\n",
      "493:\tlearn: 0.3715741\ttotal: 3.39s\tremaining: 3.13s\n",
      "494:\tlearn: 0.3715434\ttotal: 3.39s\tremaining: 3.12s\n",
      "495:\tlearn: 0.3714960\ttotal: 3.4s\tremaining: 3.11s\n",
      "496:\tlearn: 0.3714419\ttotal: 3.41s\tremaining: 3.1s\n",
      "497:\tlearn: 0.3714217\ttotal: 3.41s\tremaining: 3.1s\n",
      "498:\tlearn: 0.3713000\ttotal: 3.42s\tremaining: 3.09s\n",
      "499:\tlearn: 0.3712293\ttotal: 3.42s\tremaining: 3.08s\n",
      "500:\tlearn: 0.3711851\ttotal: 3.43s\tremaining: 3.07s\n",
      "501:\tlearn: 0.3711749\ttotal: 3.44s\tremaining: 3.06s\n",
      "502:\tlearn: 0.3708890\ttotal: 3.44s\tremaining: 3.06s\n",
      "503:\tlearn: 0.3707543\ttotal: 3.45s\tremaining: 3.05s\n",
      "504:\tlearn: 0.3707061\ttotal: 3.45s\tremaining: 3.04s\n",
      "505:\tlearn: 0.3705357\ttotal: 3.46s\tremaining: 3.03s\n",
      "506:\tlearn: 0.3705033\ttotal: 3.46s\tremaining: 3.03s\n",
      "507:\tlearn: 0.3703858\ttotal: 3.47s\tremaining: 3.02s\n",
      "508:\tlearn: 0.3702896\ttotal: 3.48s\tremaining: 3.01s\n",
      "509:\tlearn: 0.3701792\ttotal: 3.48s\tremaining: 3s\n",
      "510:\tlearn: 0.3701127\ttotal: 3.49s\tremaining: 3s\n",
      "511:\tlearn: 0.3699853\ttotal: 3.5s\tremaining: 2.99s\n",
      "512:\tlearn: 0.3699308\ttotal: 3.5s\tremaining: 2.98s\n",
      "513:\tlearn: 0.3698522\ttotal: 3.51s\tremaining: 2.97s\n",
      "514:\tlearn: 0.3698018\ttotal: 3.51s\tremaining: 2.97s\n"
     ]
    },
    {
     "name": "stdout",
     "output_type": "stream",
     "text": [
      "515:\tlearn: 0.3697131\ttotal: 3.52s\tremaining: 2.96s\n",
      "516:\tlearn: 0.3697033\ttotal: 3.53s\tremaining: 2.95s\n",
      "517:\tlearn: 0.3696302\ttotal: 3.53s\tremaining: 2.95s\n",
      "518:\tlearn: 0.3694742\ttotal: 3.55s\tremaining: 2.95s\n",
      "519:\tlearn: 0.3694508\ttotal: 3.56s\tremaining: 2.94s\n",
      "520:\tlearn: 0.3693844\ttotal: 3.57s\tremaining: 2.94s\n",
      "521:\tlearn: 0.3693255\ttotal: 3.6s\tremaining: 2.95s\n",
      "522:\tlearn: 0.3691582\ttotal: 3.61s\tremaining: 2.94s\n",
      "523:\tlearn: 0.3690430\ttotal: 3.62s\tremaining: 2.94s\n",
      "524:\tlearn: 0.3689079\ttotal: 3.62s\tremaining: 2.93s\n",
      "525:\tlearn: 0.3688557\ttotal: 3.63s\tremaining: 2.93s\n",
      "526:\tlearn: 0.3686900\ttotal: 3.64s\tremaining: 2.92s\n",
      "527:\tlearn: 0.3685964\ttotal: 3.64s\tremaining: 2.91s\n",
      "528:\tlearn: 0.3685623\ttotal: 3.65s\tremaining: 2.9s\n",
      "529:\tlearn: 0.3685234\ttotal: 3.65s\tremaining: 2.9s\n",
      "530:\tlearn: 0.3684726\ttotal: 3.66s\tremaining: 2.89s\n",
      "531:\tlearn: 0.3683999\ttotal: 3.67s\tremaining: 2.88s\n",
      "532:\tlearn: 0.3683462\ttotal: 3.67s\tremaining: 2.88s\n",
      "533:\tlearn: 0.3682728\ttotal: 3.68s\tremaining: 2.87s\n",
      "534:\tlearn: 0.3682023\ttotal: 3.69s\tremaining: 2.86s\n",
      "535:\tlearn: 0.3681921\ttotal: 3.69s\tremaining: 2.85s\n",
      "536:\tlearn: 0.3681414\ttotal: 3.7s\tremaining: 2.84s\n",
      "537:\tlearn: 0.3680968\ttotal: 3.7s\tremaining: 2.84s\n",
      "538:\tlearn: 0.3680754\ttotal: 3.71s\tremaining: 2.83s\n",
      "539:\tlearn: 0.3679796\ttotal: 3.72s\tremaining: 2.82s\n",
      "540:\tlearn: 0.3677983\ttotal: 3.72s\tremaining: 2.81s\n",
      "541:\tlearn: 0.3674988\ttotal: 3.73s\tremaining: 2.81s\n",
      "542:\tlearn: 0.3673983\ttotal: 3.73s\tremaining: 2.8s\n",
      "543:\tlearn: 0.3673047\ttotal: 3.74s\tremaining: 2.79s\n",
      "544:\tlearn: 0.3672668\ttotal: 3.75s\tremaining: 2.79s\n",
      "545:\tlearn: 0.3671885\ttotal: 3.76s\tremaining: 2.78s\n",
      "546:\tlearn: 0.3670441\ttotal: 3.78s\tremaining: 2.78s\n",
      "547:\tlearn: 0.3668733\ttotal: 3.79s\tremaining: 2.78s\n",
      "548:\tlearn: 0.3668490\ttotal: 3.79s\tremaining: 2.77s\n",
      "549:\tlearn: 0.3668440\ttotal: 3.8s\tremaining: 2.76s\n",
      "550:\tlearn: 0.3666569\ttotal: 3.8s\tremaining: 2.75s\n",
      "551:\tlearn: 0.3665778\ttotal: 3.81s\tremaining: 2.75s\n",
      "552:\tlearn: 0.3665682\ttotal: 3.82s\tremaining: 2.74s\n",
      "553:\tlearn: 0.3665630\ttotal: 3.82s\tremaining: 2.73s\n",
      "554:\tlearn: 0.3663655\ttotal: 3.83s\tremaining: 2.72s\n",
      "555:\tlearn: 0.3662307\ttotal: 3.83s\tremaining: 2.71s\n",
      "556:\tlearn: 0.3661558\ttotal: 3.84s\tremaining: 2.71s\n",
      "557:\tlearn: 0.3660873\ttotal: 3.84s\tremaining: 2.7s\n",
      "558:\tlearn: 0.3659461\ttotal: 3.85s\tremaining: 2.69s\n",
      "559:\tlearn: 0.3658736\ttotal: 3.86s\tremaining: 2.69s\n",
      "560:\tlearn: 0.3658400\ttotal: 3.86s\tremaining: 2.68s\n",
      "561:\tlearn: 0.3657572\ttotal: 3.87s\tremaining: 2.67s\n",
      "562:\tlearn: 0.3657223\ttotal: 3.88s\tremaining: 2.66s\n",
      "563:\tlearn: 0.3656626\ttotal: 3.88s\tremaining: 2.66s\n",
      "564:\tlearn: 0.3655902\ttotal: 3.89s\tremaining: 2.65s\n",
      "565:\tlearn: 0.3655608\ttotal: 3.89s\tremaining: 2.64s\n",
      "566:\tlearn: 0.3653374\ttotal: 3.9s\tremaining: 2.63s\n",
      "567:\tlearn: 0.3653341\ttotal: 3.9s\tremaining: 2.63s\n",
      "568:\tlearn: 0.3653034\ttotal: 3.91s\tremaining: 2.62s\n",
      "569:\tlearn: 0.3652314\ttotal: 3.92s\tremaining: 2.61s\n",
      "570:\tlearn: 0.3652231\ttotal: 3.92s\tremaining: 2.6s\n",
      "571:\tlearn: 0.3651913\ttotal: 3.93s\tremaining: 2.6s\n",
      "572:\tlearn: 0.3651500\ttotal: 3.93s\tremaining: 2.59s\n",
      "573:\tlearn: 0.3651306\ttotal: 3.94s\tremaining: 2.58s\n",
      "574:\tlearn: 0.3650823\ttotal: 3.95s\tremaining: 2.58s\n",
      "575:\tlearn: 0.3649838\ttotal: 3.96s\tremaining: 2.57s\n",
      "576:\tlearn: 0.3649074\ttotal: 3.96s\tremaining: 2.56s\n",
      "577:\tlearn: 0.3648513\ttotal: 3.97s\tremaining: 2.55s\n",
      "578:\tlearn: 0.3647316\ttotal: 3.97s\tremaining: 2.55s\n",
      "579:\tlearn: 0.3646684\ttotal: 3.98s\tremaining: 2.54s\n",
      "580:\tlearn: 0.3646127\ttotal: 3.99s\tremaining: 2.53s\n",
      "581:\tlearn: 0.3645209\ttotal: 3.99s\tremaining: 2.52s\n",
      "582:\tlearn: 0.3643872\ttotal: 4s\tremaining: 2.52s\n",
      "583:\tlearn: 0.3643535\ttotal: 4s\tremaining: 2.51s\n",
      "584:\tlearn: 0.3641489\ttotal: 4.01s\tremaining: 2.5s\n",
      "585:\tlearn: 0.3639833\ttotal: 4.02s\tremaining: 2.5s\n",
      "586:\tlearn: 0.3638052\ttotal: 4.02s\tremaining: 2.49s\n",
      "587:\tlearn: 0.3637176\ttotal: 4.03s\tremaining: 2.48s\n",
      "588:\tlearn: 0.3636470\ttotal: 4.04s\tremaining: 2.47s\n",
      "589:\tlearn: 0.3636403\ttotal: 4.04s\tremaining: 2.47s\n",
      "590:\tlearn: 0.3636064\ttotal: 4.05s\tremaining: 2.46s\n",
      "591:\tlearn: 0.3635954\ttotal: 4.05s\tremaining: 2.45s\n",
      "592:\tlearn: 0.3635502\ttotal: 4.06s\tremaining: 2.44s\n",
      "593:\tlearn: 0.3635496\ttotal: 4.06s\tremaining: 2.44s\n",
      "594:\tlearn: 0.3634553\ttotal: 4.07s\tremaining: 2.43s\n",
      "595:\tlearn: 0.3634068\ttotal: 4.08s\tremaining: 2.42s\n",
      "596:\tlearn: 0.3632761\ttotal: 4.09s\tremaining: 2.42s\n",
      "597:\tlearn: 0.3632199\ttotal: 4.09s\tremaining: 2.41s\n",
      "598:\tlearn: 0.3632104\ttotal: 4.1s\tremaining: 2.4s\n",
      "599:\tlearn: 0.3630758\ttotal: 4.11s\tremaining: 2.4s\n",
      "600:\tlearn: 0.3629054\ttotal: 4.11s\tremaining: 2.39s\n",
      "601:\tlearn: 0.3628347\ttotal: 4.12s\tremaining: 2.38s\n",
      "602:\tlearn: 0.3628165\ttotal: 4.12s\tremaining: 2.37s\n",
      "603:\tlearn: 0.3628058\ttotal: 4.13s\tremaining: 2.36s\n",
      "604:\tlearn: 0.3627546\ttotal: 4.13s\tremaining: 2.36s\n",
      "605:\tlearn: 0.3624943\ttotal: 4.14s\tremaining: 2.35s\n",
      "606:\tlearn: 0.3622797\ttotal: 4.15s\tremaining: 2.34s\n",
      "607:\tlearn: 0.3622004\ttotal: 4.16s\tremaining: 2.34s\n",
      "608:\tlearn: 0.3621587\ttotal: 4.16s\tremaining: 2.33s\n",
      "609:\tlearn: 0.3620866\ttotal: 4.17s\tremaining: 2.32s\n",
      "610:\tlearn: 0.3620640\ttotal: 4.17s\tremaining: 2.32s\n",
      "611:\tlearn: 0.3620262\ttotal: 4.18s\tremaining: 2.31s\n",
      "612:\tlearn: 0.3619159\ttotal: 4.19s\tremaining: 2.3s\n",
      "613:\tlearn: 0.3618877\ttotal: 4.19s\tremaining: 2.29s\n",
      "614:\tlearn: 0.3618234\ttotal: 4.2s\tremaining: 2.29s\n",
      "615:\tlearn: 0.3616425\ttotal: 4.21s\tremaining: 2.28s\n",
      "616:\tlearn: 0.3616386\ttotal: 4.21s\tremaining: 2.27s\n",
      "617:\tlearn: 0.3616175\ttotal: 4.22s\tremaining: 2.27s\n",
      "618:\tlearn: 0.3615004\ttotal: 4.22s\tremaining: 2.26s\n",
      "619:\tlearn: 0.3613962\ttotal: 4.23s\tremaining: 2.25s\n",
      "620:\tlearn: 0.3611758\ttotal: 4.24s\tremaining: 2.24s\n",
      "621:\tlearn: 0.3610584\ttotal: 4.24s\tremaining: 2.24s\n",
      "622:\tlearn: 0.3609925\ttotal: 4.25s\tremaining: 2.23s\n",
      "623:\tlearn: 0.3609716\ttotal: 4.25s\tremaining: 2.22s\n",
      "624:\tlearn: 0.3607201\ttotal: 4.26s\tremaining: 2.21s\n",
      "625:\tlearn: 0.3606614\ttotal: 4.27s\tremaining: 2.21s\n",
      "626:\tlearn: 0.3605504\ttotal: 4.27s\tremaining: 2.2s\n",
      "627:\tlearn: 0.3604552\ttotal: 4.28s\tremaining: 2.19s\n",
      "628:\tlearn: 0.3604362\ttotal: 4.28s\tremaining: 2.19s\n",
      "629:\tlearn: 0.3603668\ttotal: 4.29s\tremaining: 2.18s\n",
      "630:\tlearn: 0.3603336\ttotal: 4.3s\tremaining: 2.17s\n",
      "631:\tlearn: 0.3602620\ttotal: 4.3s\tremaining: 2.17s\n",
      "632:\tlearn: 0.3601908\ttotal: 4.31s\tremaining: 2.16s\n",
      "633:\tlearn: 0.3601126\ttotal: 4.32s\tremaining: 2.15s\n",
      "634:\tlearn: 0.3600562\ttotal: 4.32s\tremaining: 2.14s\n",
      "635:\tlearn: 0.3599789\ttotal: 4.33s\tremaining: 2.14s\n",
      "636:\tlearn: 0.3597592\ttotal: 4.33s\tremaining: 2.13s\n",
      "637:\tlearn: 0.3596996\ttotal: 4.34s\tremaining: 2.12s\n",
      "638:\tlearn: 0.3596689\ttotal: 4.35s\tremaining: 2.12s\n",
      "639:\tlearn: 0.3596067\ttotal: 4.36s\tremaining: 2.11s\n",
      "640:\tlearn: 0.3594623\ttotal: 4.36s\tremaining: 2.1s\n",
      "641:\tlearn: 0.3594404\ttotal: 4.37s\tremaining: 2.1s\n",
      "642:\tlearn: 0.3594063\ttotal: 4.37s\tremaining: 2.09s\n",
      "643:\tlearn: 0.3594063\ttotal: 4.38s\tremaining: 2.08s\n",
      "644:\tlearn: 0.3592976\ttotal: 4.38s\tremaining: 2.07s\n",
      "645:\tlearn: 0.3592368\ttotal: 4.39s\tremaining: 2.07s\n",
      "646:\tlearn: 0.3590567\ttotal: 4.4s\tremaining: 2.06s\n",
      "647:\tlearn: 0.3589668\ttotal: 4.4s\tremaining: 2.05s\n",
      "648:\tlearn: 0.3587895\ttotal: 4.41s\tremaining: 2.04s\n",
      "649:\tlearn: 0.3587036\ttotal: 4.43s\tremaining: 2.04s\n",
      "650:\tlearn: 0.3585334\ttotal: 4.44s\tremaining: 2.04s\n",
      "651:\tlearn: 0.3585334\ttotal: 4.44s\tremaining: 2.03s\n",
      "652:\tlearn: 0.3585125\ttotal: 4.45s\tremaining: 2.02s\n",
      "653:\tlearn: 0.3584395\ttotal: 4.45s\tremaining: 2.01s\n",
      "654:\tlearn: 0.3582508\ttotal: 4.46s\tremaining: 2.01s\n",
      "655:\tlearn: 0.3581829\ttotal: 4.46s\tremaining: 2s\n",
      "656:\tlearn: 0.3580756\ttotal: 4.47s\tremaining: 1.99s\n",
      "657:\tlearn: 0.3579131\ttotal: 4.47s\tremaining: 1.99s\n",
      "658:\tlearn: 0.3578205\ttotal: 4.48s\tremaining: 1.98s\n",
      "659:\tlearn: 0.3577580\ttotal: 4.49s\tremaining: 1.97s\n",
      "660:\tlearn: 0.3576215\ttotal: 4.49s\tremaining: 1.96s\n",
      "661:\tlearn: 0.3576003\ttotal: 4.5s\tremaining: 1.96s\n",
      "662:\tlearn: 0.3575105\ttotal: 4.51s\tremaining: 1.95s\n",
      "663:\tlearn: 0.3573728\ttotal: 4.51s\tremaining: 1.94s\n",
      "664:\tlearn: 0.3573141\ttotal: 4.52s\tremaining: 1.94s\n",
      "665:\tlearn: 0.3572492\ttotal: 4.52s\tremaining: 1.93s\n",
      "666:\tlearn: 0.3571128\ttotal: 4.53s\tremaining: 1.92s\n",
      "667:\tlearn: 0.3570190\ttotal: 4.54s\tremaining: 1.91s\n",
      "668:\tlearn: 0.3569084\ttotal: 4.54s\tremaining: 1.91s\n",
      "669:\tlearn: 0.3568782\ttotal: 4.55s\tremaining: 1.9s\n",
      "670:\tlearn: 0.3567740\ttotal: 4.56s\tremaining: 1.9s\n",
      "671:\tlearn: 0.3566231\ttotal: 4.56s\tremaining: 1.89s\n",
      "672:\tlearn: 0.3566023\ttotal: 4.57s\tremaining: 1.88s\n",
      "673:\tlearn: 0.3565916\ttotal: 4.58s\tremaining: 1.87s\n",
      "674:\tlearn: 0.3564828\ttotal: 4.58s\tremaining: 1.87s\n",
      "675:\tlearn: 0.3563660\ttotal: 4.59s\tremaining: 1.86s\n",
      "676:\tlearn: 0.3563530\ttotal: 4.59s\tremaining: 1.85s\n",
      "677:\tlearn: 0.3563148\ttotal: 4.6s\tremaining: 1.84s\n",
      "678:\tlearn: 0.3560915\ttotal: 4.61s\tremaining: 1.84s\n",
      "679:\tlearn: 0.3560279\ttotal: 4.61s\tremaining: 1.83s\n",
      "680:\tlearn: 0.3559138\ttotal: 4.62s\tremaining: 1.82s\n",
      "681:\tlearn: 0.3558285\ttotal: 4.63s\tremaining: 1.82s\n",
      "682:\tlearn: 0.3557957\ttotal: 4.63s\tremaining: 1.81s\n",
      "683:\tlearn: 0.3556145\ttotal: 4.64s\tremaining: 1.8s\n",
      "684:\tlearn: 0.3554950\ttotal: 4.64s\tremaining: 1.8s\n",
      "685:\tlearn: 0.3553948\ttotal: 4.65s\tremaining: 1.79s\n",
      "686:\tlearn: 0.3553291\ttotal: 4.66s\tremaining: 1.78s\n",
      "687:\tlearn: 0.3552905\ttotal: 4.66s\tremaining: 1.77s\n",
      "688:\tlearn: 0.3552637\ttotal: 4.67s\tremaining: 1.77s\n",
      "689:\tlearn: 0.3551412\ttotal: 4.67s\tremaining: 1.76s\n",
      "690:\tlearn: 0.3551064\ttotal: 4.68s\tremaining: 1.75s\n",
      "691:\tlearn: 0.3550982\ttotal: 4.69s\tremaining: 1.75s\n",
      "692:\tlearn: 0.3549617\ttotal: 4.69s\tremaining: 1.74s\n",
      "693:\tlearn: 0.3549036\ttotal: 4.7s\tremaining: 1.73s\n",
      "694:\tlearn: 0.3548788\ttotal: 4.71s\tremaining: 1.73s\n",
      "695:\tlearn: 0.3548086\ttotal: 4.71s\tremaining: 1.72s\n",
      "696:\tlearn: 0.3547580\ttotal: 4.72s\tremaining: 1.71s\n",
      "697:\tlearn: 0.3546833\ttotal: 4.72s\tremaining: 1.71s\n",
      "698:\tlearn: 0.3545435\ttotal: 4.73s\tremaining: 1.7s\n",
      "699:\tlearn: 0.3545296\ttotal: 4.74s\tremaining: 1.69s\n",
      "700:\tlearn: 0.3544772\ttotal: 4.74s\tremaining: 1.68s\n"
     ]
    },
    {
     "name": "stdout",
     "output_type": "stream",
     "text": [
      "701:\tlearn: 0.3543682\ttotal: 4.75s\tremaining: 1.68s\n",
      "702:\tlearn: 0.3543521\ttotal: 4.76s\tremaining: 1.67s\n",
      "703:\tlearn: 0.3542053\ttotal: 4.76s\tremaining: 1.66s\n",
      "704:\tlearn: 0.3540677\ttotal: 4.77s\tremaining: 1.66s\n",
      "705:\tlearn: 0.3539298\ttotal: 4.78s\tremaining: 1.65s\n",
      "706:\tlearn: 0.3538990\ttotal: 4.78s\tremaining: 1.64s\n",
      "707:\tlearn: 0.3538384\ttotal: 4.79s\tremaining: 1.64s\n",
      "708:\tlearn: 0.3537400\ttotal: 4.79s\tremaining: 1.63s\n",
      "709:\tlearn: 0.3537153\ttotal: 4.8s\tremaining: 1.62s\n",
      "710:\tlearn: 0.3536655\ttotal: 4.81s\tremaining: 1.61s\n",
      "711:\tlearn: 0.3536501\ttotal: 4.81s\tremaining: 1.61s\n",
      "712:\tlearn: 0.3535738\ttotal: 4.82s\tremaining: 1.6s\n",
      "713:\tlearn: 0.3535622\ttotal: 4.83s\tremaining: 1.59s\n",
      "714:\tlearn: 0.3533826\ttotal: 4.83s\tremaining: 1.59s\n",
      "715:\tlearn: 0.3533015\ttotal: 4.84s\tremaining: 1.58s\n",
      "716:\tlearn: 0.3533013\ttotal: 4.84s\tremaining: 1.57s\n",
      "717:\tlearn: 0.3532375\ttotal: 4.85s\tremaining: 1.57s\n",
      "718:\tlearn: 0.3531794\ttotal: 4.86s\tremaining: 1.56s\n",
      "719:\tlearn: 0.3531794\ttotal: 4.86s\tremaining: 1.55s\n",
      "720:\tlearn: 0.3531212\ttotal: 4.87s\tremaining: 1.55s\n",
      "721:\tlearn: 0.3531047\ttotal: 4.87s\tremaining: 1.54s\n",
      "722:\tlearn: 0.3530965\ttotal: 4.88s\tremaining: 1.53s\n",
      "723:\tlearn: 0.3530719\ttotal: 4.88s\tremaining: 1.52s\n",
      "724:\tlearn: 0.3528980\ttotal: 4.89s\tremaining: 1.52s\n",
      "725:\tlearn: 0.3527842\ttotal: 4.9s\tremaining: 1.51s\n",
      "726:\tlearn: 0.3527205\ttotal: 4.9s\tremaining: 1.5s\n",
      "727:\tlearn: 0.3526928\ttotal: 4.91s\tremaining: 1.5s\n",
      "728:\tlearn: 0.3526651\ttotal: 4.92s\tremaining: 1.49s\n",
      "729:\tlearn: 0.3525261\ttotal: 4.92s\tremaining: 1.48s\n",
      "730:\tlearn: 0.3524504\ttotal: 4.93s\tremaining: 1.48s\n",
      "731:\tlearn: 0.3524064\ttotal: 4.93s\tremaining: 1.47s\n",
      "732:\tlearn: 0.3523405\ttotal: 4.94s\tremaining: 1.46s\n",
      "733:\tlearn: 0.3523309\ttotal: 4.95s\tremaining: 1.46s\n",
      "734:\tlearn: 0.3523211\ttotal: 4.95s\tremaining: 1.45s\n",
      "735:\tlearn: 0.3522183\ttotal: 4.96s\tremaining: 1.44s\n",
      "736:\tlearn: 0.3521916\ttotal: 4.97s\tremaining: 1.44s\n",
      "737:\tlearn: 0.3520923\ttotal: 4.97s\tremaining: 1.43s\n",
      "738:\tlearn: 0.3520923\ttotal: 4.98s\tremaining: 1.42s\n",
      "739:\tlearn: 0.3520631\ttotal: 4.99s\tremaining: 1.41s\n",
      "740:\tlearn: 0.3520250\ttotal: 4.99s\tremaining: 1.41s\n",
      "741:\tlearn: 0.3519785\ttotal: 5s\tremaining: 1.4s\n",
      "742:\tlearn: 0.3519766\ttotal: 5.01s\tremaining: 1.39s\n",
      "743:\tlearn: 0.3519424\ttotal: 5.01s\tremaining: 1.39s\n",
      "744:\tlearn: 0.3519371\ttotal: 5.03s\tremaining: 1.38s\n",
      "745:\tlearn: 0.3517691\ttotal: 5.04s\tremaining: 1.38s\n",
      "746:\tlearn: 0.3517150\ttotal: 5.04s\tremaining: 1.37s\n",
      "747:\tlearn: 0.3516872\ttotal: 5.05s\tremaining: 1.36s\n",
      "748:\tlearn: 0.3516550\ttotal: 5.06s\tremaining: 1.36s\n",
      "749:\tlearn: 0.3515468\ttotal: 5.06s\tremaining: 1.35s\n",
      "750:\tlearn: 0.3515014\ttotal: 5.07s\tremaining: 1.34s\n",
      "751:\tlearn: 0.3514942\ttotal: 5.08s\tremaining: 1.34s\n",
      "752:\tlearn: 0.3514350\ttotal: 5.08s\tremaining: 1.33s\n",
      "753:\tlearn: 0.3514327\ttotal: 5.09s\tremaining: 1.32s\n",
      "754:\tlearn: 0.3512300\ttotal: 5.09s\tremaining: 1.32s\n",
      "755:\tlearn: 0.3511265\ttotal: 5.1s\tremaining: 1.31s\n",
      "756:\tlearn: 0.3511215\ttotal: 5.11s\tremaining: 1.3s\n",
      "757:\tlearn: 0.3511022\ttotal: 5.11s\tremaining: 1.29s\n",
      "758:\tlearn: 0.3510824\ttotal: 5.12s\tremaining: 1.29s\n",
      "759:\tlearn: 0.3510157\ttotal: 5.12s\tremaining: 1.28s\n",
      "760:\tlearn: 0.3509769\ttotal: 5.13s\tremaining: 1.27s\n",
      "761:\tlearn: 0.3509117\ttotal: 5.14s\tremaining: 1.27s\n",
      "762:\tlearn: 0.3508763\ttotal: 5.14s\tremaining: 1.26s\n",
      "763:\tlearn: 0.3508187\ttotal: 5.15s\tremaining: 1.25s\n",
      "764:\tlearn: 0.3508036\ttotal: 5.16s\tremaining: 1.25s\n",
      "765:\tlearn: 0.3507457\ttotal: 5.16s\tremaining: 1.24s\n",
      "766:\tlearn: 0.3507378\ttotal: 5.17s\tremaining: 1.23s\n",
      "767:\tlearn: 0.3506462\ttotal: 5.18s\tremaining: 1.23s\n",
      "768:\tlearn: 0.3505917\ttotal: 5.18s\tremaining: 1.22s\n",
      "769:\tlearn: 0.3505789\ttotal: 5.19s\tremaining: 1.21s\n",
      "770:\tlearn: 0.3504957\ttotal: 5.2s\tremaining: 1.21s\n",
      "771:\tlearn: 0.3504271\ttotal: 5.2s\tremaining: 1.2s\n",
      "772:\tlearn: 0.3503712\ttotal: 5.21s\tremaining: 1.19s\n",
      "773:\tlearn: 0.3503028\ttotal: 5.21s\tremaining: 1.19s\n",
      "774:\tlearn: 0.3502476\ttotal: 5.22s\tremaining: 1.18s\n",
      "775:\tlearn: 0.3501949\ttotal: 5.23s\tremaining: 1.17s\n",
      "776:\tlearn: 0.3501105\ttotal: 5.23s\tremaining: 1.16s\n",
      "777:\tlearn: 0.3500429\ttotal: 5.24s\tremaining: 1.16s\n",
      "778:\tlearn: 0.3499930\ttotal: 5.24s\tremaining: 1.15s\n",
      "779:\tlearn: 0.3499708\ttotal: 5.25s\tremaining: 1.14s\n",
      "780:\tlearn: 0.3498479\ttotal: 5.26s\tremaining: 1.14s\n",
      "781:\tlearn: 0.3498323\ttotal: 5.26s\tremaining: 1.13s\n",
      "782:\tlearn: 0.3497775\ttotal: 5.27s\tremaining: 1.12s\n",
      "783:\tlearn: 0.3496091\ttotal: 5.28s\tremaining: 1.12s\n",
      "784:\tlearn: 0.3495502\ttotal: 5.28s\tremaining: 1.11s\n",
      "785:\tlearn: 0.3494178\ttotal: 5.29s\tremaining: 1.1s\n",
      "786:\tlearn: 0.3492788\ttotal: 5.29s\tremaining: 1.1s\n",
      "787:\tlearn: 0.3492743\ttotal: 5.3s\tremaining: 1.09s\n",
      "788:\tlearn: 0.3492668\ttotal: 5.31s\tremaining: 1.08s\n",
      "789:\tlearn: 0.3492166\ttotal: 5.31s\tremaining: 1.08s\n",
      "790:\tlearn: 0.3491390\ttotal: 5.32s\tremaining: 1.07s\n",
      "791:\tlearn: 0.3490951\ttotal: 5.33s\tremaining: 1.06s\n",
      "792:\tlearn: 0.3490664\ttotal: 5.33s\tremaining: 1.05s\n",
      "793:\tlearn: 0.3490195\ttotal: 5.34s\tremaining: 1.05s\n",
      "794:\tlearn: 0.3489828\ttotal: 5.34s\tremaining: 1.04s\n",
      "795:\tlearn: 0.3489785\ttotal: 5.35s\tremaining: 1.03s\n",
      "796:\tlearn: 0.3489005\ttotal: 5.36s\tremaining: 1.03s\n",
      "797:\tlearn: 0.3488900\ttotal: 5.36s\tremaining: 1.02s\n",
      "798:\tlearn: 0.3488833\ttotal: 5.37s\tremaining: 1.01s\n",
      "799:\tlearn: 0.3488477\ttotal: 5.37s\tremaining: 1.01s\n",
      "800:\tlearn: 0.3488296\ttotal: 5.38s\tremaining: 1s\n",
      "801:\tlearn: 0.3487717\ttotal: 5.39s\tremaining: 994ms\n",
      "802:\tlearn: 0.3487442\ttotal: 5.39s\tremaining: 987ms\n",
      "803:\tlearn: 0.3487253\ttotal: 5.4s\tremaining: 981ms\n",
      "804:\tlearn: 0.3486856\ttotal: 5.41s\tremaining: 974ms\n",
      "805:\tlearn: 0.3486784\ttotal: 5.41s\tremaining: 967ms\n",
      "806:\tlearn: 0.3486381\ttotal: 5.42s\tremaining: 960ms\n",
      "807:\tlearn: 0.3486131\ttotal: 5.42s\tremaining: 953ms\n",
      "808:\tlearn: 0.3486000\ttotal: 5.43s\tremaining: 947ms\n",
      "809:\tlearn: 0.3484763\ttotal: 5.44s\tremaining: 940ms\n",
      "810:\tlearn: 0.3484201\ttotal: 5.44s\tremaining: 933ms\n",
      "811:\tlearn: 0.3482081\ttotal: 5.45s\tremaining: 926ms\n",
      "812:\tlearn: 0.3481567\ttotal: 5.46s\tremaining: 919ms\n",
      "813:\tlearn: 0.3481292\ttotal: 5.46s\tremaining: 913ms\n",
      "814:\tlearn: 0.3480542\ttotal: 5.47s\tremaining: 906ms\n",
      "815:\tlearn: 0.3478077\ttotal: 5.47s\tremaining: 899ms\n",
      "816:\tlearn: 0.3477405\ttotal: 5.48s\tremaining: 892ms\n",
      "817:\tlearn: 0.3477366\ttotal: 5.49s\tremaining: 885ms\n",
      "818:\tlearn: 0.3477261\ttotal: 5.49s\tremaining: 879ms\n",
      "819:\tlearn: 0.3476340\ttotal: 5.5s\tremaining: 872ms\n",
      "820:\tlearn: 0.3476001\ttotal: 5.5s\tremaining: 865ms\n",
      "821:\tlearn: 0.3474716\ttotal: 5.51s\tremaining: 858ms\n",
      "822:\tlearn: 0.3474403\ttotal: 5.52s\tremaining: 851ms\n",
      "823:\tlearn: 0.3474122\ttotal: 5.52s\tremaining: 844ms\n",
      "824:\tlearn: 0.3473836\ttotal: 5.53s\tremaining: 838ms\n",
      "825:\tlearn: 0.3473108\ttotal: 5.53s\tremaining: 831ms\n",
      "826:\tlearn: 0.3472179\ttotal: 5.54s\tremaining: 824ms\n",
      "827:\tlearn: 0.3470776\ttotal: 5.55s\tremaining: 817ms\n",
      "828:\tlearn: 0.3469322\ttotal: 5.55s\tremaining: 811ms\n",
      "829:\tlearn: 0.3469062\ttotal: 5.56s\tremaining: 804ms\n",
      "830:\tlearn: 0.3468814\ttotal: 5.57s\tremaining: 797ms\n",
      "831:\tlearn: 0.3468777\ttotal: 5.57s\tremaining: 790ms\n",
      "832:\tlearn: 0.3467261\ttotal: 5.58s\tremaining: 783ms\n",
      "833:\tlearn: 0.3466992\ttotal: 5.58s\tremaining: 776ms\n",
      "834:\tlearn: 0.3466104\ttotal: 5.59s\tremaining: 770ms\n",
      "835:\tlearn: 0.3463816\ttotal: 5.59s\tremaining: 763ms\n",
      "836:\tlearn: 0.3463388\ttotal: 5.6s\tremaining: 756ms\n",
      "837:\tlearn: 0.3462885\ttotal: 5.61s\tremaining: 749ms\n",
      "838:\tlearn: 0.3462106\ttotal: 5.61s\tremaining: 743ms\n",
      "839:\tlearn: 0.3461318\ttotal: 5.62s\tremaining: 736ms\n",
      "840:\tlearn: 0.3460770\ttotal: 5.63s\tremaining: 729ms\n",
      "841:\tlearn: 0.3460397\ttotal: 5.63s\tremaining: 722ms\n",
      "842:\tlearn: 0.3460204\ttotal: 5.64s\tremaining: 716ms\n",
      "843:\tlearn: 0.3457561\ttotal: 5.64s\tremaining: 709ms\n",
      "844:\tlearn: 0.3457372\ttotal: 5.65s\tremaining: 702ms\n",
      "845:\tlearn: 0.3457131\ttotal: 5.66s\tremaining: 696ms\n",
      "846:\tlearn: 0.3456063\ttotal: 5.66s\tremaining: 689ms\n",
      "847:\tlearn: 0.3456038\ttotal: 5.67s\tremaining: 682ms\n",
      "848:\tlearn: 0.3455601\ttotal: 5.68s\tremaining: 676ms\n",
      "849:\tlearn: 0.3455067\ttotal: 5.68s\tremaining: 669ms\n",
      "850:\tlearn: 0.3454603\ttotal: 5.69s\tremaining: 662ms\n",
      "851:\tlearn: 0.3453620\ttotal: 5.7s\tremaining: 655ms\n",
      "852:\tlearn: 0.3453397\ttotal: 5.7s\tremaining: 649ms\n",
      "853:\tlearn: 0.3453004\ttotal: 5.71s\tremaining: 642ms\n",
      "854:\tlearn: 0.3452678\ttotal: 5.71s\tremaining: 635ms\n",
      "855:\tlearn: 0.3452369\ttotal: 5.72s\tremaining: 628ms\n",
      "856:\tlearn: 0.3452205\ttotal: 5.73s\tremaining: 622ms\n",
      "857:\tlearn: 0.3451746\ttotal: 5.73s\tremaining: 615ms\n",
      "858:\tlearn: 0.3451276\ttotal: 5.74s\tremaining: 608ms\n",
      "859:\tlearn: 0.3450620\ttotal: 5.75s\tremaining: 601ms\n",
      "860:\tlearn: 0.3449766\ttotal: 5.75s\tremaining: 595ms\n",
      "861:\tlearn: 0.3449471\ttotal: 5.76s\tremaining: 588ms\n",
      "862:\tlearn: 0.3448726\ttotal: 5.76s\tremaining: 581ms\n",
      "863:\tlearn: 0.3448220\ttotal: 5.77s\tremaining: 574ms\n",
      "864:\tlearn: 0.3447405\ttotal: 5.78s\tremaining: 568ms\n",
      "865:\tlearn: 0.3447271\ttotal: 5.78s\tremaining: 561ms\n",
      "866:\tlearn: 0.3446727\ttotal: 5.79s\tremaining: 554ms\n",
      "867:\tlearn: 0.3446708\ttotal: 5.79s\tremaining: 548ms\n",
      "868:\tlearn: 0.3445759\ttotal: 5.8s\tremaining: 541ms\n"
     ]
    },
    {
     "name": "stdout",
     "output_type": "stream",
     "text": [
      "869:\tlearn: 0.3444881\ttotal: 5.81s\tremaining: 534ms\n",
      "870:\tlearn: 0.3444856\ttotal: 5.82s\tremaining: 527ms\n",
      "871:\tlearn: 0.3443624\ttotal: 5.82s\tremaining: 521ms\n",
      "872:\tlearn: 0.3442961\ttotal: 5.83s\tremaining: 514ms\n",
      "873:\tlearn: 0.3442249\ttotal: 5.83s\tremaining: 507ms\n",
      "874:\tlearn: 0.3442082\ttotal: 5.84s\tremaining: 501ms\n",
      "875:\tlearn: 0.3441401\ttotal: 5.85s\tremaining: 494ms\n",
      "876:\tlearn: 0.3441102\ttotal: 5.85s\tremaining: 487ms\n",
      "877:\tlearn: 0.3440360\ttotal: 5.86s\tremaining: 481ms\n",
      "878:\tlearn: 0.3439706\ttotal: 5.87s\tremaining: 474ms\n",
      "879:\tlearn: 0.3439311\ttotal: 5.87s\tremaining: 467ms\n",
      "880:\tlearn: 0.3438454\ttotal: 5.88s\tremaining: 460ms\n",
      "881:\tlearn: 0.3437746\ttotal: 5.88s\tremaining: 454ms\n",
      "882:\tlearn: 0.3437304\ttotal: 5.89s\tremaining: 447ms\n",
      "883:\tlearn: 0.3436578\ttotal: 5.9s\tremaining: 440ms\n",
      "884:\tlearn: 0.3436348\ttotal: 5.9s\tremaining: 434ms\n",
      "885:\tlearn: 0.3436109\ttotal: 5.91s\tremaining: 427ms\n",
      "886:\tlearn: 0.3435778\ttotal: 5.91s\tremaining: 420ms\n",
      "887:\tlearn: 0.3435096\ttotal: 5.92s\tremaining: 413ms\n",
      "888:\tlearn: 0.3434981\ttotal: 5.93s\tremaining: 407ms\n",
      "889:\tlearn: 0.3434549\ttotal: 5.93s\tremaining: 400ms\n",
      "890:\tlearn: 0.3433183\ttotal: 5.94s\tremaining: 393ms\n",
      "891:\tlearn: 0.3433063\ttotal: 5.95s\tremaining: 387ms\n",
      "892:\tlearn: 0.3433063\ttotal: 5.95s\tremaining: 380ms\n",
      "893:\tlearn: 0.3432843\ttotal: 5.96s\tremaining: 373ms\n",
      "894:\tlearn: 0.3432403\ttotal: 5.96s\tremaining: 366ms\n",
      "895:\tlearn: 0.3431987\ttotal: 5.97s\tremaining: 360ms\n",
      "896:\tlearn: 0.3431965\ttotal: 5.97s\tremaining: 353ms\n",
      "897:\tlearn: 0.3431722\ttotal: 5.98s\tremaining: 346ms\n",
      "898:\tlearn: 0.3430893\ttotal: 5.99s\tremaining: 340ms\n",
      "899:\tlearn: 0.3430023\ttotal: 5.99s\tremaining: 333ms\n",
      "900:\tlearn: 0.3429870\ttotal: 6s\tremaining: 326ms\n",
      "901:\tlearn: 0.3429510\ttotal: 6s\tremaining: 320ms\n",
      "902:\tlearn: 0.3428539\ttotal: 6.01s\tremaining: 313ms\n",
      "903:\tlearn: 0.3428476\ttotal: 6.02s\tremaining: 306ms\n",
      "904:\tlearn: 0.3427933\ttotal: 6.03s\tremaining: 300ms\n",
      "905:\tlearn: 0.3427282\ttotal: 6.03s\tremaining: 293ms\n",
      "906:\tlearn: 0.3426791\ttotal: 6.04s\tremaining: 286ms\n",
      "907:\tlearn: 0.3426159\ttotal: 6.04s\tremaining: 280ms\n",
      "908:\tlearn: 0.3425950\ttotal: 6.05s\tremaining: 273ms\n",
      "909:\tlearn: 0.3425121\ttotal: 6.06s\tremaining: 266ms\n",
      "910:\tlearn: 0.3424212\ttotal: 6.06s\tremaining: 260ms\n",
      "911:\tlearn: 0.3424182\ttotal: 6.07s\tremaining: 253ms\n",
      "912:\tlearn: 0.3423841\ttotal: 6.07s\tremaining: 246ms\n",
      "913:\tlearn: 0.3423366\ttotal: 6.08s\tremaining: 239ms\n",
      "914:\tlearn: 0.3423247\ttotal: 6.08s\tremaining: 233ms\n",
      "915:\tlearn: 0.3422879\ttotal: 6.09s\tremaining: 226ms\n",
      "916:\tlearn: 0.3422269\ttotal: 6.1s\tremaining: 219ms\n",
      "917:\tlearn: 0.3421915\ttotal: 6.1s\tremaining: 213ms\n",
      "918:\tlearn: 0.3421270\ttotal: 6.11s\tremaining: 206ms\n",
      "919:\tlearn: 0.3418980\ttotal: 6.12s\tremaining: 199ms\n",
      "920:\tlearn: 0.3418857\ttotal: 6.12s\tremaining: 193ms\n",
      "921:\tlearn: 0.3416505\ttotal: 6.13s\tremaining: 186ms\n",
      "922:\tlearn: 0.3416285\ttotal: 6.13s\tremaining: 179ms\n",
      "923:\tlearn: 0.3415933\ttotal: 6.14s\tremaining: 173ms\n",
      "924:\tlearn: 0.3415549\ttotal: 6.15s\tremaining: 166ms\n",
      "925:\tlearn: 0.3414390\ttotal: 6.15s\tremaining: 159ms\n",
      "926:\tlearn: 0.3413594\ttotal: 6.16s\tremaining: 153ms\n",
      "927:\tlearn: 0.3413501\ttotal: 6.17s\tremaining: 146ms\n",
      "928:\tlearn: 0.3413104\ttotal: 6.17s\tremaining: 140ms\n",
      "929:\tlearn: 0.3412822\ttotal: 6.18s\tremaining: 133ms\n",
      "930:\tlearn: 0.3412333\ttotal: 6.18s\tremaining: 126ms\n",
      "931:\tlearn: 0.3411955\ttotal: 6.19s\tremaining: 120ms\n",
      "932:\tlearn: 0.3411792\ttotal: 6.2s\tremaining: 113ms\n",
      "933:\tlearn: 0.3410468\ttotal: 6.2s\tremaining: 106ms\n",
      "934:\tlearn: 0.3409174\ttotal: 6.21s\tremaining: 99.6ms\n",
      "935:\tlearn: 0.3408996\ttotal: 6.21s\tremaining: 92.9ms\n",
      "936:\tlearn: 0.3408511\ttotal: 6.22s\tremaining: 86.3ms\n",
      "937:\tlearn: 0.3407845\ttotal: 6.23s\tremaining: 79.7ms\n",
      "938:\tlearn: 0.3407144\ttotal: 6.23s\tremaining: 73ms\n",
      "939:\tlearn: 0.3406958\ttotal: 6.24s\tremaining: 66.4ms\n",
      "940:\tlearn: 0.3406380\ttotal: 6.25s\tremaining: 59.7ms\n",
      "941:\tlearn: 0.3405079\ttotal: 6.25s\tremaining: 53.1ms\n",
      "942:\tlearn: 0.3404815\ttotal: 6.26s\tremaining: 46.5ms\n",
      "943:\tlearn: 0.3403005\ttotal: 6.26s\tremaining: 39.8ms\n",
      "944:\tlearn: 0.3402656\ttotal: 6.27s\tremaining: 33.2ms\n",
      "945:\tlearn: 0.3402462\ttotal: 6.28s\tremaining: 26.5ms\n",
      "946:\tlearn: 0.3402031\ttotal: 6.28s\tremaining: 19.9ms\n",
      "947:\tlearn: 0.3401608\ttotal: 6.29s\tremaining: 13.3ms\n",
      "948:\tlearn: 0.3400397\ttotal: 6.29s\tremaining: 6.63ms\n",
      "949:\tlearn: 0.3400200\ttotal: 6.3s\tremaining: 0us\n",
      "CPU times: total: 23.2 s\n",
      "Wall time: 4h 13min 57s\n"
     ]
    },
    {
     "data": {
      "text/plain": [
       "GridSearchCV(cv=5,\n",
       "             estimator=<catboost.core.CatBoostClassifier object at 0x00000234ACF26BC0>,\n",
       "             n_jobs=-1,\n",
       "             param_grid={'max_depth': range(1, 16),\n",
       "                         'n_estimators': range(50, 1000, 50)},\n",
       "             scoring='accuracy', verbose=True)"
      ]
     },
     "execution_count": 81,
     "metadata": {},
     "output_type": "execute_result"
    }
   ],
   "source": [
    "%%time\n",
    "cat_w = CatBoostClassifier(random_state=123, cat_features=cat_colomns)\n",
    "cat_param_w = {'n_estimators': range(50, 1000, 50),\n",
    "                'max_depth': range(1,16)\n",
    "             }\n",
    "cat_grid_w = GridSearchCV(cat_w,\n",
    "                       cat_param_w,\n",
    "                       cv=5,\n",
    "                       n_jobs=-1,\n",
    "                       scoring = 'accuracy',\n",
    "                       verbose=True)\n",
    "\n",
    "cat_grid_w.fit(features_without_OHE_train, target_train)"
   ]
  },
  {
   "cell_type": "markdown",
   "id": "60dbac1c",
   "metadata": {},
   "source": [
    "Оптимальное сочетание параметров для модели CatBoost без OHE"
   ]
  },
  {
   "cell_type": "code",
   "execution_count": 82,
   "id": "f574283e",
   "metadata": {},
   "outputs": [
    {
     "data": {
      "text/plain": [
       "{'max_depth': 4, 'n_estimators': 950}"
      ]
     },
     "execution_count": 82,
     "metadata": {},
     "output_type": "execute_result"
    }
   ],
   "source": [
    "cat_grid_w.best_params_"
   ]
  },
  {
   "cell_type": "code",
   "execution_count": 83,
   "id": "5bc044f2",
   "metadata": {},
   "outputs": [
    {
     "name": "stdout",
     "output_type": "stream",
     "text": [
      "Метрика accuracy для лучшего сочетания параметров модели CatBoost без OHE равна 0.8370038412291934\n"
     ]
    }
   ],
   "source": [
    "print('Метрика accuracy для лучшего сочетания параметров модели CatBoost без OHE равна', cat_grid_w.best_score_)"
   ]
  },
  {
   "cell_type": "code",
   "execution_count": 84,
   "id": "cf4eeadd",
   "metadata": {},
   "outputs": [
    {
     "name": "stdout",
     "output_type": "stream",
     "text": [
      "Метрика accuracy для модели CatBoost без OHE на тестовой выборке с оптимальными гиперпараметрами 0.8324022346368715\n"
     ]
    }
   ],
   "source": [
    "predictions = cat_grid_w.predict(features_without_OHE_test)\n",
    "print('Метрика accuracy для модели CatBoost без OHE на тестовой выборке с оптимальными гиперпараметрами', accuracy_score(target_test, predictions))"
   ]
  },
  {
   "cell_type": "markdown",
   "id": "d3c31241",
   "metadata": {},
   "source": [
    "#### Встроенная кроссвалидация"
   ]
  },
  {
   "cell_type": "code",
   "execution_count": 85,
   "id": "91351560",
   "metadata": {},
   "outputs": [
    {
     "name": "stdout",
     "output_type": "stream",
     "text": [
      "Training on fold [0/5]\n",
      "\n",
      "bestTest = 0.3186655234\n",
      "bestIteration = 284\n",
      "\n",
      "Training on fold [1/5]\n",
      "\n",
      "bestTest = 0.4337654834\n",
      "bestIteration = 369\n",
      "\n",
      "Training on fold [2/5]\n",
      "\n",
      "bestTest = 0.4275544808\n",
      "bestIteration = 364\n",
      "\n",
      "Training on fold [3/5]\n",
      "\n",
      "bestTest = 0.4285205715\n",
      "bestIteration = 309\n",
      "\n",
      "Training on fold [4/5]\n",
      "\n",
      "bestTest = 0.4615652952\n",
      "bestIteration = 72\n",
      "\n"
     ]
    }
   ],
   "source": [
    "params = {\n",
    "    'loss_function': 'Logloss',\n",
    "    'iterations': 3000,\n",
    "    'custom_loss': 'Accuracy'\n",
    "}\n",
    "\n",
    "cv_data = cv(\n",
    "    params=params,\n",
    "    pool=Pool(data=features_without_OHE_train, label=target_train, cat_features=cat_colomns),\n",
    "    fold_count=5,\n",
    "    shuffle=False, \n",
    "    partition_random_seed=0,\n",
    "    stratified=True, \n",
    "    verbose=False\n",
    ")"
   ]
  },
  {
   "cell_type": "code",
   "execution_count": 86,
   "id": "2aedf324",
   "metadata": {},
   "outputs": [
    {
     "name": "stdout",
     "output_type": "stream",
     "text": [
      "Лучшее значение Accuracy: 0.8370+/-0.054 на шаге 597\n"
     ]
    }
   ],
   "source": [
    "best_value = np.max(cv_data['test-Accuracy-mean'])\n",
    "best_iter = np.argmax(cv_data['test-Accuracy-mean'])\n",
    "print(\"Лучшее значение Accuracy: {:.4f}+/-{:.3f} на шаге {}\".format(\n",
    "best_value, cv_data['test-Logloss-std'][best_iter], best_iter))"
   ]
  },
  {
   "cell_type": "code",
   "execution_count": 87,
   "id": "a76211bf",
   "metadata": {},
   "outputs": [
    {
     "name": "stdout",
     "output_type": "stream",
     "text": [
      "Метрика accuracy для модели CatBoost с OHE на тестовой выборке по встроенной кросс валидации 0.8324022346368715\n"
     ]
    }
   ],
   "source": [
    "cat_model_without_OHE_CV = CatBoostClassifier(iterations=52,\n",
    "                                              custom_loss = 'Accuracy',\n",
    "                                              cat_features=cat_colomns)\n",
    "cat_model_without_OHE_CV.fit(features_without_OHE_train, target_train,\n",
    "             verbose=False\n",
    "             )\n",
    "\n",
    "predictions = cat_model_without_OHE_CV.predict(features_without_OHE_test)\n",
    "print('Метрика accuracy для модели CatBoost с OHE на тестовой выборке по встроенной кросс валидации', accuracy_score(target_test, predictions))"
   ]
  },
  {
   "cell_type": "markdown",
   "id": "cf72b250",
   "metadata": {},
   "source": [
    "### Сравнение моделей"
   ]
  },
  {
   "cell_type": "markdown",
   "id": "6933627c",
   "metadata": {},
   "source": [
    "Сравним все рассмотренные модели. Для этого сведём данные по ним в единую таблицу"
   ]
  },
  {
   "cell_type": "code",
   "execution_count": 149,
   "id": "35deb9f2",
   "metadata": {},
   "outputs": [],
   "source": [
    "df_result = pd.DataFrame({\n",
    "    'Модель':['Dummy модель',\n",
    "              'Логистическая регресия', \n",
    "              'Решающее дерево', \n",
    "              'Случайны лес', \n",
    "              'Модель k ближайших соседей', \n",
    "              'CatBoost с OHE', \n",
    "              'CatBoost с OHE со встроенной CV',\n",
    "              'CatBoost без OHE', \n",
    "              'CatBoost без OHE со встроенной CV'],\n",
    "    'Accuracy (тест) с параметрами по умолчанию': [0.6145, 0.7989, 0.7821, 0.8156, 0.7933, 0.8044, 0.8044, 0.8212, 0.8212],\n",
    "    'Оптимальные параметры (кроссвалидация)':['нет',\n",
    "                                              'С = 0.95409548', \n",
    "                                              \"'max_depth': 4, 'max_features': 22, 'min_samples_leaf': 7\", \n",
    "                                              \"'max_depth': 6,  'max_features': 12, 'min_samples_leaf': 1, 'n_estimators': 150\", \n",
    "                                              \"'n_neighbors': 21\", \n",
    "                                              \"'max_depth': 5, 'n_estimators': 850\", \n",
    "                                              \"iterations = 342\t\",\n",
    "                                              \"'max_depth': 4, 'n_estimators': 950\",\n",
    "                                             \"iterations = 597\"],\n",
    "    'Accuracy (кроссвалидация) с оптимальными параметрами': [0.6145, 0.8451, 0.8202, 0.8359, 0.8299, 0.8441, 0.8441, 0.8370, 0.8370],\n",
    "    'Accuracy (Тест) с оптимальными параметрами': [0.6145, 0.7989, 0.8324, 0.8100, 0.8156, 0.8106, 0.8045, 0.8324, 0.8324],\n",
    "    })"
   ]
  },
  {
   "cell_type": "code",
   "execution_count": 150,
   "id": "76d7c872",
   "metadata": {
    "scrolled": true
   },
   "outputs": [
    {
     "data": {
      "text/html": [
       "<style type=\"text/css\">\n",
       "#T_d7408_row0_col1, #T_d7408_row0_col3, #T_d7408_row0_col4 {\n",
       "  background-color: #f7fbff;\n",
       "  color: #000000;\n",
       "}\n",
       "#T_d7408_row1_col1, #T_d7408_row2_col3 {\n",
       "  background-color: #084c95;\n",
       "  color: #f1f1f1;\n",
       "}\n",
       "#T_d7408_row1_col3, #T_d7408_row2_col4, #T_d7408_row7_col1, #T_d7408_row7_col4, #T_d7408_row8_col1, #T_d7408_row8_col4 {\n",
       "  background-color: #08306b;\n",
       "  color: #f1f1f1;\n",
       "}\n",
       "#T_d7408_row1_col4 {\n",
       "  background-color: #0e58a2;\n",
       "  color: #f1f1f1;\n",
       "}\n",
       "#T_d7408_row2_col1 {\n",
       "  background-color: #1561a9;\n",
       "  color: #f1f1f1;\n",
       "}\n",
       "#T_d7408_row3_col1 {\n",
       "  background-color: #083674;\n",
       "  color: #f1f1f1;\n",
       "}\n",
       "#T_d7408_row3_col3 {\n",
       "  background-color: #083a7a;\n",
       "  color: #f1f1f1;\n",
       "}\n",
       "#T_d7408_row3_col4 {\n",
       "  background-color: #084b93;\n",
       "  color: #f1f1f1;\n",
       "}\n",
       "#T_d7408_row4_col1 {\n",
       "  background-color: #0a539e;\n",
       "  color: #f1f1f1;\n",
       "}\n",
       "#T_d7408_row4_col3 {\n",
       "  background-color: #084184;\n",
       "  color: #f1f1f1;\n",
       "}\n",
       "#T_d7408_row4_col4 {\n",
       "  background-color: #084488;\n",
       "  color: #f1f1f1;\n",
       "}\n",
       "#T_d7408_row5_col1, #T_d7408_row6_col1 {\n",
       "  background-color: #08458a;\n",
       "  color: #f1f1f1;\n",
       "}\n",
       "#T_d7408_row5_col3, #T_d7408_row6_col3 {\n",
       "  background-color: #08316d;\n",
       "  color: #f1f1f1;\n",
       "}\n",
       "#T_d7408_row5_col4 {\n",
       "  background-color: #084a91;\n",
       "  color: #f1f1f1;\n",
       "}\n",
       "#T_d7408_row6_col4 {\n",
       "  background-color: #08519c;\n",
       "  color: #f1f1f1;\n",
       "}\n",
       "#T_d7408_row7_col3, #T_d7408_row8_col3 {\n",
       "  background-color: #083877;\n",
       "  color: #f1f1f1;\n",
       "}\n",
       "</style>\n",
       "<table id=\"T_d7408\">\n",
       "  <thead>\n",
       "    <tr>\n",
       "      <th class=\"blank level0\" >&nbsp;</th>\n",
       "      <th id=\"T_d7408_level0_col0\" class=\"col_heading level0 col0\" >Модель</th>\n",
       "      <th id=\"T_d7408_level0_col1\" class=\"col_heading level0 col1\" >Accuracy (тест) с параметрами по умолчанию</th>\n",
       "      <th id=\"T_d7408_level0_col2\" class=\"col_heading level0 col2\" >Оптимальные параметры (кроссвалидация)</th>\n",
       "      <th id=\"T_d7408_level0_col3\" class=\"col_heading level0 col3\" >Accuracy (кроссвалидация) с оптимальными параметрами</th>\n",
       "      <th id=\"T_d7408_level0_col4\" class=\"col_heading level0 col4\" >Accuracy (Тест) с оптимальными параметрами</th>\n",
       "    </tr>\n",
       "  </thead>\n",
       "  <tbody>\n",
       "    <tr>\n",
       "      <th id=\"T_d7408_level0_row0\" class=\"row_heading level0 row0\" >0</th>\n",
       "      <td id=\"T_d7408_row0_col0\" class=\"data row0 col0\" >Dummy модель</td>\n",
       "      <td id=\"T_d7408_row0_col1\" class=\"data row0 col1\" >0.614500</td>\n",
       "      <td id=\"T_d7408_row0_col2\" class=\"data row0 col2\" >нет</td>\n",
       "      <td id=\"T_d7408_row0_col3\" class=\"data row0 col3\" >0.614500</td>\n",
       "      <td id=\"T_d7408_row0_col4\" class=\"data row0 col4\" >0.614500</td>\n",
       "    </tr>\n",
       "    <tr>\n",
       "      <th id=\"T_d7408_level0_row1\" class=\"row_heading level0 row1\" >1</th>\n",
       "      <td id=\"T_d7408_row1_col0\" class=\"data row1 col0\" >Логистическая регресия</td>\n",
       "      <td id=\"T_d7408_row1_col1\" class=\"data row1 col1\" >0.798900</td>\n",
       "      <td id=\"T_d7408_row1_col2\" class=\"data row1 col2\" >С = 0.95409548</td>\n",
       "      <td id=\"T_d7408_row1_col3\" class=\"data row1 col3\" >0.845100</td>\n",
       "      <td id=\"T_d7408_row1_col4\" class=\"data row1 col4\" >0.798900</td>\n",
       "    </tr>\n",
       "    <tr>\n",
       "      <th id=\"T_d7408_level0_row2\" class=\"row_heading level0 row2\" >2</th>\n",
       "      <td id=\"T_d7408_row2_col0\" class=\"data row2 col0\" >Решающее дерево</td>\n",
       "      <td id=\"T_d7408_row2_col1\" class=\"data row2 col1\" >0.782100</td>\n",
       "      <td id=\"T_d7408_row2_col2\" class=\"data row2 col2\" >'max_depth': 4, 'max_features': 22, 'min_samples_leaf': 7</td>\n",
       "      <td id=\"T_d7408_row2_col3\" class=\"data row2 col3\" >0.820200</td>\n",
       "      <td id=\"T_d7408_row2_col4\" class=\"data row2 col4\" >0.832400</td>\n",
       "    </tr>\n",
       "    <tr>\n",
       "      <th id=\"T_d7408_level0_row3\" class=\"row_heading level0 row3\" >3</th>\n",
       "      <td id=\"T_d7408_row3_col0\" class=\"data row3 col0\" >Случайны лес</td>\n",
       "      <td id=\"T_d7408_row3_col1\" class=\"data row3 col1\" >0.815600</td>\n",
       "      <td id=\"T_d7408_row3_col2\" class=\"data row3 col2\" >'max_depth': 6,  'max_features': 12, 'min_samples_leaf': 1, 'n_estimators': 150</td>\n",
       "      <td id=\"T_d7408_row3_col3\" class=\"data row3 col3\" >0.835900</td>\n",
       "      <td id=\"T_d7408_row3_col4\" class=\"data row3 col4\" >0.810000</td>\n",
       "    </tr>\n",
       "    <tr>\n",
       "      <th id=\"T_d7408_level0_row4\" class=\"row_heading level0 row4\" >4</th>\n",
       "      <td id=\"T_d7408_row4_col0\" class=\"data row4 col0\" >Модель k ближайших соседей</td>\n",
       "      <td id=\"T_d7408_row4_col1\" class=\"data row4 col1\" >0.793300</td>\n",
       "      <td id=\"T_d7408_row4_col2\" class=\"data row4 col2\" >'n_neighbors': 21</td>\n",
       "      <td id=\"T_d7408_row4_col3\" class=\"data row4 col3\" >0.829900</td>\n",
       "      <td id=\"T_d7408_row4_col4\" class=\"data row4 col4\" >0.815600</td>\n",
       "    </tr>\n",
       "    <tr>\n",
       "      <th id=\"T_d7408_level0_row5\" class=\"row_heading level0 row5\" >5</th>\n",
       "      <td id=\"T_d7408_row5_col0\" class=\"data row5 col0\" >CatBoost с OHE</td>\n",
       "      <td id=\"T_d7408_row5_col1\" class=\"data row5 col1\" >0.804400</td>\n",
       "      <td id=\"T_d7408_row5_col2\" class=\"data row5 col2\" >'max_depth': 5, 'n_estimators': 850</td>\n",
       "      <td id=\"T_d7408_row5_col3\" class=\"data row5 col3\" >0.844100</td>\n",
       "      <td id=\"T_d7408_row5_col4\" class=\"data row5 col4\" >0.810600</td>\n",
       "    </tr>\n",
       "    <tr>\n",
       "      <th id=\"T_d7408_level0_row6\" class=\"row_heading level0 row6\" >6</th>\n",
       "      <td id=\"T_d7408_row6_col0\" class=\"data row6 col0\" >CatBoost с OHE со встроенной CV</td>\n",
       "      <td id=\"T_d7408_row6_col1\" class=\"data row6 col1\" >0.804400</td>\n",
       "      <td id=\"T_d7408_row6_col2\" class=\"data row6 col2\" >iterations = 342\t</td>\n",
       "      <td id=\"T_d7408_row6_col3\" class=\"data row6 col3\" >0.844100</td>\n",
       "      <td id=\"T_d7408_row6_col4\" class=\"data row6 col4\" >0.804500</td>\n",
       "    </tr>\n",
       "    <tr>\n",
       "      <th id=\"T_d7408_level0_row7\" class=\"row_heading level0 row7\" >7</th>\n",
       "      <td id=\"T_d7408_row7_col0\" class=\"data row7 col0\" >CatBoost без OHE</td>\n",
       "      <td id=\"T_d7408_row7_col1\" class=\"data row7 col1\" >0.821200</td>\n",
       "      <td id=\"T_d7408_row7_col2\" class=\"data row7 col2\" >'max_depth': 4, 'n_estimators': 950</td>\n",
       "      <td id=\"T_d7408_row7_col3\" class=\"data row7 col3\" >0.837000</td>\n",
       "      <td id=\"T_d7408_row7_col4\" class=\"data row7 col4\" >0.832400</td>\n",
       "    </tr>\n",
       "    <tr>\n",
       "      <th id=\"T_d7408_level0_row8\" class=\"row_heading level0 row8\" >8</th>\n",
       "      <td id=\"T_d7408_row8_col0\" class=\"data row8 col0\" >CatBoost без OHE со встроенной CV</td>\n",
       "      <td id=\"T_d7408_row8_col1\" class=\"data row8 col1\" >0.821200</td>\n",
       "      <td id=\"T_d7408_row8_col2\" class=\"data row8 col2\" >iterations = 597</td>\n",
       "      <td id=\"T_d7408_row8_col3\" class=\"data row8 col3\" >0.837000</td>\n",
       "      <td id=\"T_d7408_row8_col4\" class=\"data row8 col4\" >0.832400</td>\n",
       "    </tr>\n",
       "  </tbody>\n",
       "</table>\n"
      ],
      "text/plain": [
       "<pandas.io.formats.style.Styler at 0x234acee8250>"
      ]
     },
     "metadata": {},
     "output_type": "display_data"
    }
   ],
   "source": [
    "display(df_result.style\n",
    " .background_gradient(subset=['Accuracy (тест) с параметрами по умолчанию',\n",
    "                              'Accuracy (кроссвалидация) с оптимальными параметрами', \n",
    "                              'Accuracy (Тест) с оптимальными параметрами'], \n",
    "                      cmap='Blues'))"
   ]
  },
  {
   "cell_type": "markdown",
   "id": "0aa5e8ba",
   "metadata": {},
   "source": [
    "Все модели дают результат вышем чем dummy предсказатель.  После подбора гиперпараметров все модели показывают хорошее качество как на кроссвалиадции так и на тесте. Также можено отметить, что по моделям CatBoost встроенная кроссвалидация даёт примерно такие же результаты как и посик по сетке, но занимает значительно меньше времени. Обучим все модели с оптимальными гиперпараметрами"
   ]
  },
  {
   "cell_type": "code",
   "execution_count": 151,
   "id": "1d9a32ce",
   "metadata": {},
   "outputs": [
    {
     "data": {
      "text/plain": [
       "LogisticRegression(C=0.95409548, class_weight='balanced')"
      ]
     },
     "execution_count": 151,
     "metadata": {},
     "output_type": "execute_result"
    }
   ],
   "source": [
    "lin_model = LogisticRegression(class_weight='balanced', C=0.95409548)\n",
    "lin_model.fit(features_OHE_train, target_train)"
   ]
  },
  {
   "cell_type": "code",
   "execution_count": 152,
   "id": "b1c5d386",
   "metadata": {},
   "outputs": [
    {
     "data": {
      "text/plain": [
       "DecisionTreeClassifier(class_weight='balanced', max_depth=4, max_features=22,\n",
       "                       min_samples_leaf=7, random_state=123)"
      ]
     },
     "execution_count": 152,
     "metadata": {},
     "output_type": "execute_result"
    }
   ],
   "source": [
    "tree_model = DecisionTreeClassifier(class_weight='balanced',\n",
    "                                   random_state=123,\n",
    "                                   max_depth=4,\n",
    "                                   max_features=22,\n",
    "                                   min_samples_leaf=7)\n",
    "tree_model.fit(features_OHE_train, target_train)"
   ]
  },
  {
   "cell_type": "code",
   "execution_count": 153,
   "id": "a33940ff",
   "metadata": {},
   "outputs": [
    {
     "data": {
      "text/plain": [
       "RandomForestClassifier(class_weight='balanced', max_depth=6, max_features=12,\n",
       "                       n_estimators=150, random_state=123)"
      ]
     },
     "execution_count": 153,
     "metadata": {},
     "output_type": "execute_result"
    }
   ],
   "source": [
    "forest_model = RandomForestClassifier(class_weight='balanced',\n",
    "                                     random_state=123,\n",
    "                                     max_depth=6,\n",
    "                                     max_features=12,\n",
    "                                     min_samples_leaf=1,\n",
    "                                     n_estimators=150)\n",
    "forest_model.fit(features_OHE_train, target_train)"
   ]
  },
  {
   "cell_type": "code",
   "execution_count": 154,
   "id": "5df32d66",
   "metadata": {},
   "outputs": [
    {
     "data": {
      "text/plain": [
       "KNeighborsClassifier(n_neighbors=21)"
      ]
     },
     "execution_count": 154,
     "metadata": {},
     "output_type": "execute_result"
    }
   ],
   "source": [
    "knn_model = KNeighborsClassifier(n_neighbors=21)\n",
    "knn_model.fit(features_OHE_train, target_train)"
   ]
  },
  {
   "cell_type": "code",
   "execution_count": 155,
   "id": "7ae106e9",
   "metadata": {},
   "outputs": [
    {
     "name": "stdout",
     "output_type": "stream",
     "text": [
      "Learning rate set to 0.010343\n",
      "0:\tlearn: 0.6863684\ttotal: 1.39ms\tremaining: 1.18s\n",
      "100:\tlearn: 0.4285998\ttotal: 93.2ms\tremaining: 691ms\n",
      "200:\tlearn: 0.3805668\ttotal: 181ms\tremaining: 585ms\n",
      "300:\tlearn: 0.3583353\ttotal: 268ms\tremaining: 488ms\n",
      "400:\tlearn: 0.3426128\ttotal: 355ms\tremaining: 397ms\n",
      "500:\tlearn: 0.3291788\ttotal: 442ms\tremaining: 308ms\n",
      "600:\tlearn: 0.3185051\ttotal: 529ms\tremaining: 219ms\n",
      "700:\tlearn: 0.3071176\ttotal: 615ms\tremaining: 131ms\n",
      "800:\tlearn: 0.2959601\ttotal: 701ms\tremaining: 42.9ms\n",
      "849:\tlearn: 0.2907299\ttotal: 745ms\tremaining: 0us\n"
     ]
    },
    {
     "data": {
      "text/plain": [
       "<catboost.core.CatBoostClassifier at 0x234acee8280>"
      ]
     },
     "execution_count": 155,
     "metadata": {},
     "output_type": "execute_result"
    }
   ],
   "source": [
    "cat_model_OHE = CatBoostClassifier(random_state=123, \n",
    "                                   verbose=100,\n",
    "                                  max_depth=5,\n",
    "                                  n_estimators=850)\n",
    "cat_model_OHE.fit(features_OHE_train, target_train)"
   ]
  },
  {
   "cell_type": "code",
   "execution_count": 156,
   "id": "623adbe0",
   "metadata": {},
   "outputs": [
    {
     "name": "stdout",
     "output_type": "stream",
     "text": [
      "Learning rate set to 0.023836\n",
      "0:\tlearn: 0.6757891\ttotal: 1.38ms\tremaining: 471ms\n",
      "318:\tlearn: 0.2820808\ttotal: 348ms\tremaining: 25.1ms\n",
      "341:\tlearn: 0.2752767\ttotal: 372ms\tremaining: 0us\n"
     ]
    },
    {
     "data": {
      "text/plain": [
       "<catboost.core.CatBoostClassifier at 0x234f49bf790>"
      ]
     },
     "execution_count": 156,
     "metadata": {},
     "output_type": "execute_result"
    }
   ],
   "source": [
    "cat_model_OHE_CV = CatBoostClassifier(random_state=123, \n",
    "                                   verbose=318,\n",
    "                                  iterations = 342)\n",
    "cat_model_OHE_CV.fit(features_OHE_train, target_train)"
   ]
  },
  {
   "cell_type": "code",
   "execution_count": 157,
   "id": "af89e1cc",
   "metadata": {},
   "outputs": [
    {
     "name": "stdout",
     "output_type": "stream",
     "text": [
      "Learning rate set to 0.009341\n",
      "0:\tlearn: 0.6889536\ttotal: 5.43ms\tremaining: 5.15s\n",
      "100:\tlearn: 0.4596171\ttotal: 674ms\tremaining: 5.67s\n",
      "200:\tlearn: 0.4109885\ttotal: 1.35s\tremaining: 5.02s\n",
      "300:\tlearn: 0.3911101\ttotal: 2.06s\tremaining: 4.45s\n",
      "400:\tlearn: 0.3802962\ttotal: 2.75s\tremaining: 3.76s\n",
      "500:\tlearn: 0.3711851\ttotal: 3.36s\tremaining: 3.01s\n",
      "600:\tlearn: 0.3629054\ttotal: 3.99s\tremaining: 2.32s\n",
      "700:\tlearn: 0.3544772\ttotal: 4.62s\tremaining: 1.64s\n",
      "800:\tlearn: 0.3488296\ttotal: 5.24s\tremaining: 974ms\n",
      "900:\tlearn: 0.3429870\ttotal: 5.89s\tremaining: 320ms\n",
      "949:\tlearn: 0.3400200\ttotal: 6.23s\tremaining: 0us\n"
     ]
    },
    {
     "data": {
      "text/plain": [
       "<catboost.core.CatBoostClassifier at 0x234acee8160>"
      ]
     },
     "execution_count": 157,
     "metadata": {},
     "output_type": "execute_result"
    }
   ],
   "source": [
    "cat_model_without_OHE = CatBoostClassifier(random_state=123, \n",
    "                                           verbose=100, \n",
    "                                           cat_features=cat_colomns,\n",
    "                                           max_depth=4,\n",
    "                                           n_estimators=950)\n",
    "cat_model_without_OHE.fit(features_without_OHE_train, target_train)"
   ]
  },
  {
   "cell_type": "code",
   "execution_count": 158,
   "id": "2d589e9b",
   "metadata": {},
   "outputs": [
    {
     "name": "stdout",
     "output_type": "stream",
     "text": [
      "Learning rate set to 0.014301\n",
      "0:\tlearn: 0.6867465\ttotal: 4.56ms\tremaining: 2.72s\n",
      "100:\tlearn: 0.4051725\ttotal: 1.12s\tremaining: 5.5s\n",
      "200:\tlearn: 0.3596026\ttotal: 2.21s\tremaining: 4.35s\n",
      "300:\tlearn: 0.3337044\ttotal: 3.23s\tremaining: 3.18s\n",
      "400:\tlearn: 0.3142314\ttotal: 4.23s\tremaining: 2.07s\n",
      "500:\tlearn: 0.2990143\ttotal: 5.23s\tremaining: 1s\n",
      "596:\tlearn: 0.2847737\ttotal: 6.31s\tremaining: 0us\n"
     ]
    },
    {
     "data": {
      "text/plain": [
       "<catboost.core.CatBoostClassifier at 0x234f49bf580>"
      ]
     },
     "execution_count": 158,
     "metadata": {},
     "output_type": "execute_result"
    }
   ],
   "source": [
    "cat_model_without_OHE_CV = CatBoostClassifier(random_state=123, \n",
    "                                           verbose=100, \n",
    "                                           cat_features=cat_colomns,\n",
    "                                           iterations = 597)\n",
    "cat_model_without_OHE_CV.fit(features_without_OHE_train, target_train)"
   ]
  },
  {
   "cell_type": "markdown",
   "id": "9761af9b",
   "metadata": {},
   "source": [
    "Построим roc кривые для полученных моделей"
   ]
  },
  {
   "cell_type": "code",
   "execution_count": 159,
   "id": "b67a6bab",
   "metadata": {},
   "outputs": [
    {
     "name": "stderr",
     "output_type": "stream",
     "text": [
      "C:\\Users\\Ярослав\\AppData\\Local\\Programs\\Python\\Python310\\lib\\site-packages\\sklearn\\utils\\deprecation.py:87: FutureWarning: Function plot_roc_curve is deprecated; Function :func:`plot_roc_curve` is deprecated in 1.0 and will be removed in 1.2. Use one of the class methods: :meth:`sklearn.metric.RocCurveDisplay.from_predictions` or :meth:`sklearn.metric.RocCurveDisplay.from_estimator`.\n",
      "  warnings.warn(msg, category=FutureWarning)\n",
      "C:\\Users\\Ярослав\\AppData\\Local\\Programs\\Python\\Python310\\lib\\site-packages\\sklearn\\utils\\deprecation.py:87: FutureWarning: Function plot_roc_curve is deprecated; Function :func:`plot_roc_curve` is deprecated in 1.0 and will be removed in 1.2. Use one of the class methods: :meth:`sklearn.metric.RocCurveDisplay.from_predictions` or :meth:`sklearn.metric.RocCurveDisplay.from_estimator`.\n",
      "  warnings.warn(msg, category=FutureWarning)\n",
      "C:\\Users\\Ярослав\\AppData\\Local\\Programs\\Python\\Python310\\lib\\site-packages\\sklearn\\utils\\deprecation.py:87: FutureWarning: Function plot_roc_curve is deprecated; Function :func:`plot_roc_curve` is deprecated in 1.0 and will be removed in 1.2. Use one of the class methods: :meth:`sklearn.metric.RocCurveDisplay.from_predictions` or :meth:`sklearn.metric.RocCurveDisplay.from_estimator`.\n",
      "  warnings.warn(msg, category=FutureWarning)\n",
      "C:\\Users\\Ярослав\\AppData\\Local\\Programs\\Python\\Python310\\lib\\site-packages\\sklearn\\utils\\deprecation.py:87: FutureWarning: Function plot_roc_curve is deprecated; Function :func:`plot_roc_curve` is deprecated in 1.0 and will be removed in 1.2. Use one of the class methods: :meth:`sklearn.metric.RocCurveDisplay.from_predictions` or :meth:`sklearn.metric.RocCurveDisplay.from_estimator`.\n",
      "  warnings.warn(msg, category=FutureWarning)\n",
      "C:\\Users\\Ярослав\\AppData\\Local\\Programs\\Python\\Python310\\lib\\site-packages\\sklearn\\utils\\deprecation.py:87: FutureWarning: Function plot_roc_curve is deprecated; Function :func:`plot_roc_curve` is deprecated in 1.0 and will be removed in 1.2. Use one of the class methods: :meth:`sklearn.metric.RocCurveDisplay.from_predictions` or :meth:`sklearn.metric.RocCurveDisplay.from_estimator`.\n",
      "  warnings.warn(msg, category=FutureWarning)\n",
      "C:\\Users\\Ярослав\\AppData\\Local\\Programs\\Python\\Python310\\lib\\site-packages\\sklearn\\utils\\deprecation.py:87: FutureWarning: Function plot_roc_curve is deprecated; Function :func:`plot_roc_curve` is deprecated in 1.0 and will be removed in 1.2. Use one of the class methods: :meth:`sklearn.metric.RocCurveDisplay.from_predictions` or :meth:`sklearn.metric.RocCurveDisplay.from_estimator`.\n",
      "  warnings.warn(msg, category=FutureWarning)\n",
      "C:\\Users\\Ярослав\\AppData\\Local\\Programs\\Python\\Python310\\lib\\site-packages\\sklearn\\utils\\deprecation.py:87: FutureWarning: Function plot_roc_curve is deprecated; Function :func:`plot_roc_curve` is deprecated in 1.0 and will be removed in 1.2. Use one of the class methods: :meth:`sklearn.metric.RocCurveDisplay.from_predictions` or :meth:`sklearn.metric.RocCurveDisplay.from_estimator`.\n",
      "  warnings.warn(msg, category=FutureWarning)\n",
      "C:\\Users\\Ярослав\\AppData\\Local\\Programs\\Python\\Python310\\lib\\site-packages\\sklearn\\utils\\deprecation.py:87: FutureWarning: Function plot_roc_curve is deprecated; Function :func:`plot_roc_curve` is deprecated in 1.0 and will be removed in 1.2. Use one of the class methods: :meth:`sklearn.metric.RocCurveDisplay.from_predictions` or :meth:`sklearn.metric.RocCurveDisplay.from_estimator`.\n",
      "  warnings.warn(msg, category=FutureWarning)\n",
      "C:\\Users\\Ярослав\\AppData\\Local\\Programs\\Python\\Python310\\lib\\site-packages\\sklearn\\utils\\deprecation.py:87: FutureWarning: Function plot_roc_curve is deprecated; Function :func:`plot_roc_curve` is deprecated in 1.0 and will be removed in 1.2. Use one of the class methods: :meth:`sklearn.metric.RocCurveDisplay.from_predictions` or :meth:`sklearn.metric.RocCurveDisplay.from_estimator`.\n",
      "  warnings.warn(msg, category=FutureWarning)\n"
     ]
    },
    {
     "data": {
      "image/png": "[encoded data removed]",
      "text/plain": [
       "<Figure size 864x576 with 1 Axes>"
      ]
     },
     "metadata": {
      "needs_background": "light"
     },
     "output_type": "display_data"
    }
   ],
   "source": [
    "plt.figure(figsize =(12,8))\n",
    "roc_disp = plot_roc_curve(dummy_model, features_OHE_test, target_test, ax=plt.axes(), name='Dummy модель')\n",
    "plot_roc_curve(lin_model, features_OHE_test, target_test, ax=roc_disp.ax_, name='Логистическая регрессия')\n",
    "plot_roc_curve(tree_model, features_OHE_test, target_test, ax=roc_disp.ax_, name='Дерево решений')\n",
    "plot_roc_curve(forest_model, features_OHE_test, target_test, ax=roc_disp.ax_, name='Случайный лес')\n",
    "plot_roc_curve(knn_model, features_OHE_test, target_test, ax=roc_disp.ax_, name='k Ближайших соседей')\n",
    "plot_roc_curve(cat_model_OHE, features_OHE_test, target_test, ax=roc_disp.ax_, name='CatBoost с OHE')\n",
    "plot_roc_curve(cat_model_OHE_CV, features_OHE_test, target_test, ax=roc_disp.ax_, name='CatBoost с OHE (CV)')\n",
    "plot_roc_curve(cat_model_without_OHE, features_without_OHE_test, target_test, ax=roc_disp.ax_, name='CatBoost без OHE')\n",
    "plot_roc_curve(cat_model_without_OHE_CV, features_without_OHE_test, target_test, ax=roc_disp.ax_, name='CatBoost без OHE (CV)')\n",
    "roc_disp.ax_.plot([0,1],[0,1], 'k--');"
   ]
  },
  {
   "cell_type": "markdown",
   "id": "60ab18c7",
   "metadata": {},
   "source": [
    "Как видно из графика почти все модели имеют одинаковое распределение. Попробуем подобрать пороги принятия решений для всех моделей (кроме k ближайших соседей, там такой возможности нет)."
   ]
  },
  {
   "cell_type": "markdown",
   "id": "bdceb972",
   "metadata": {},
   "source": [
    "#### Улучшение моделей"
   ]
  },
  {
   "cell_type": "markdown",
   "id": "9fed84ac",
   "metadata": {},
   "source": [
    "Напишим функции для рассчёта предсказаний в зависимости от порога и кроссвалидационной проверки подбора порога"
   ]
  },
  {
   "cell_type": "code",
   "execution_count": 160,
   "id": "dc3fe503",
   "metadata": {},
   "outputs": [],
   "source": [
    "# Функция для возвращаения значения в зависимости от порога\n",
    "def get_predict (model, threshold, feature):\n",
    "    \n",
    "    new_predict =[]\n",
    "    \n",
    "    probabilities = model.predict_proba(feature)\n",
    "    probabilities_one = probabilities[:, 1]\n",
    "\n",
    "    for predict in probabilities_one:                 \n",
    "\n",
    "        if predict>threshold:\n",
    "            new_predict.append(1)\n",
    "        else:\n",
    "            new_predict.append(0)\n",
    "                \n",
    "    return np.array(new_predict)"
   ]
  },
  {
   "cell_type": "code",
   "execution_count": 161,
   "id": "025e0ff9",
   "metadata": {},
   "outputs": [],
   "source": [
    "def thresholds_cv (model, feature, target):\n",
    "\n",
    "    target = target.reset_index(drop=True)\n",
    "    \n",
    "    kfold = KFold(n_splits=5)\n",
    "\n",
    "    probabilities_valid = model.predict_proba(feature)\n",
    "    probabilities_one_valid= probabilities_valid[:, 1]\n",
    "\n",
    "    fpr, tpr, thresholds = roc_curve(target, probabilities_one_valid)\n",
    "\n",
    "    opt_threshold = 0\n",
    "    opt_accuracy=0\n",
    "\n",
    "    for threshold in notebook.tqdm(thresholds): \n",
    "\n",
    "        accuracy_list =[]\n",
    "\n",
    "        for train_index, valid_index in kfold.split(target):\n",
    "\n",
    "            futures_train = feature[train_index]\n",
    "            futures_valid = feature[valid_index]\n",
    "\n",
    "            target_train_kfold = target[train_index]\n",
    "            target_valid = target[valid_index]\n",
    "\n",
    "            predictions = get_predict(model, threshold, futures_valid)\n",
    "\n",
    "            accuracy_kfold = accuracy_score(target_valid, np.array(predictions))\n",
    "            accuracy_list.append(accuracy_kfold)\n",
    "\n",
    "        if np.mean(accuracy_list)>opt_accuracy:        \n",
    "            opt_threshold = threshold\n",
    "            opt_accuracy = np.mean(accuracy_list)\n",
    "\n",
    "    print(f'Оптимальное порог = {opt_threshold},\\t accuracy={opt_accuracy}')    "
   ]
  },
  {
   "cell_type": "markdown",
   "id": "a5336222",
   "metadata": {},
   "source": [
    "Подбор порога дя <b>линейной модели</b> на кросс-валидации"
   ]
  },
  {
   "cell_type": "code",
   "execution_count": 162,
   "id": "0c037fb3",
   "metadata": {},
   "outputs": [
    {
     "data": {
      "application/vnd.jupyter.widget-view+json": {
       "model_id": "fe30af98106946c99b0c11d0283cc642",
       "version_major": 2,
       "version_minor": 0
      },
      "text/plain": [
       "  0%|          | 0/254 [00:00<?, ?it/s]"
      ]
     },
     "metadata": {},
     "output_type": "display_data"
    },
    {
     "name": "stdout",
     "output_type": "stream",
     "text": [
      "Оптимальное порог = 0.6899475198534974,\t accuracy=0.8383925933221708\n"
     ]
    }
   ],
   "source": [
    "thresholds_cv (lin_model, features_OHE_train, target_train)"
   ]
  },
  {
   "cell_type": "markdown",
   "id": "4391ad84",
   "metadata": {},
   "source": [
    "Проверка на тесте"
   ]
  },
  {
   "cell_type": "code",
   "execution_count": 163,
   "id": "226c682d",
   "metadata": {},
   "outputs": [
    {
     "name": "stdout",
     "output_type": "stream",
     "text": [
      "Метрика accuracy для линейной модели с оптимальным порогом 0.8212290502793296\n"
     ]
    }
   ],
   "source": [
    "predictions = get_predict (lin_model, 0.68995, features_OHE_test)\n",
    "print('Метрика accuracy для линейной модели с оптимальным порогом', accuracy_score(predictions, target_test))"
   ]
  },
  {
   "cell_type": "markdown",
   "id": "bee0225c",
   "metadata": {},
   "source": [
    "Подбор порога дя <b>дерева решений</b> на кросс-валидации"
   ]
  },
  {
   "cell_type": "code",
   "execution_count": 164,
   "id": "ce85e1c9",
   "metadata": {},
   "outputs": [
    {
     "data": {
      "application/vnd.jupyter.widget-view+json": {
       "model_id": "175ded9ecc91471790e4094938d08def",
       "version_major": 2,
       "version_minor": 0
      },
      "text/plain": [
       "  0%|          | 0/14 [00:00<?, ?it/s]"
      ]
     },
     "metadata": {},
     "output_type": "display_data"
    },
    {
     "name": "stdout",
     "output_type": "stream",
     "text": [
      "Оптимальное порог = 0.4530718795531813,\t accuracy=0.8412390426474934\n"
     ]
    }
   ],
   "source": [
    "thresholds_cv (tree_model, features_OHE_train, target_train)"
   ]
  },
  {
   "cell_type": "markdown",
   "id": "6e4c229c",
   "metadata": {},
   "source": [
    "Проверка на тесте"
   ]
  },
  {
   "cell_type": "code",
   "execution_count": 165,
   "id": "612b7e28",
   "metadata": {},
   "outputs": [
    {
     "name": "stdout",
     "output_type": "stream",
     "text": [
      "Метрика accuracy для дерева решения с оптимальным порогом 0.8100558659217877\n"
     ]
    }
   ],
   "source": [
    "predictions = get_predict (tree_model, 0.45307, features_OHE_test)\n",
    "print('Метрика accuracy для дерева решения с оптимальным порогом', accuracy_score(predictions, target_test))"
   ]
  },
  {
   "cell_type": "markdown",
   "id": "d7c63d09",
   "metadata": {},
   "source": [
    "Подбор порога дя <b>случайного леса</b> на кросс-валидации"
   ]
  },
  {
   "cell_type": "code",
   "execution_count": 166,
   "id": "8597e547",
   "metadata": {},
   "outputs": [
    {
     "data": {
      "application/vnd.jupyter.widget-view+json": {
       "model_id": "aeb9733e201041a2991f00f9fb6ed886",
       "version_major": 2,
       "version_minor": 0
      },
      "text/plain": [
       "  0%|          | 0/240 [00:00<?, ?it/s]"
      ]
     },
     "metadata": {},
     "output_type": "display_data"
    },
    {
     "name": "stdout",
     "output_type": "stream",
     "text": [
      "Оптимальное порог = 0.6327676602978759,\t accuracy=0.8833842214123905\n"
     ]
    }
   ],
   "source": [
    "thresholds_cv (forest_model, features_OHE_train, target_train)"
   ]
  },
  {
   "cell_type": "markdown",
   "id": "29555407",
   "metadata": {},
   "source": [
    "Проверка на тесте"
   ]
  },
  {
   "cell_type": "code",
   "execution_count": 167,
   "id": "24bbde41",
   "metadata": {},
   "outputs": [
    {
     "name": "stdout",
     "output_type": "stream",
     "text": [
      "Метрика accuracy для случайного леса с оптимальным порогом 0.8324022346368715\n"
     ]
    }
   ],
   "source": [
    "predictions = get_predict (forest_model, 0.63276, features_OHE_test)\n",
    "print('Метрика accuracy для случайного леса с оптимальным порогом', accuracy_score(predictions, target_test))"
   ]
  },
  {
   "cell_type": "markdown",
   "id": "7174182f",
   "metadata": {},
   "source": [
    "Подбор порога дя <b>CatBoost с OHE</b> на кросс-валидации"
   ]
  },
  {
   "cell_type": "code",
   "execution_count": 168,
   "id": "f48aa3a1",
   "metadata": {},
   "outputs": [
    {
     "data": {
      "application/vnd.jupyter.widget-view+json": {
       "model_id": "613ad59434ca4d34bd090226e19438fa",
       "version_major": 2,
       "version_minor": 0
      },
      "text/plain": [
       "  0%|          | 0/206 [00:00<?, ?it/s]"
      ]
     },
     "metadata": {},
     "output_type": "display_data"
    },
    {
     "name": "stdout",
     "output_type": "stream",
     "text": [
      "Оптимальное порог = 0.5073345940214479,\t accuracy=0.9016546833448242\n"
     ]
    }
   ],
   "source": [
    "thresholds_cv (cat_model_OHE, features_OHE_train, target_train)"
   ]
  },
  {
   "cell_type": "code",
   "execution_count": 169,
   "id": "b11d90aa",
   "metadata": {},
   "outputs": [
    {
     "name": "stdout",
     "output_type": "stream",
     "text": [
      "Метрика accuracy для CatBoost с OHE с оптимальным порогом 0.8044692737430168\n"
     ]
    }
   ],
   "source": [
    "predictions = get_predict (cat_model_OHE, 0.50733, features_OHE_test)\n",
    "print('Метрика accuracy для CatBoost с OHE с оптимальным порогом', accuracy_score(predictions, target_test))"
   ]
  },
  {
   "cell_type": "markdown",
   "id": "8288198f",
   "metadata": {},
   "source": [
    "Подбор порога дя <b>CatBoost с OHE (CV)</b> на кросс-валидации"
   ]
  },
  {
   "cell_type": "code",
   "execution_count": 170,
   "id": "78f1d486",
   "metadata": {},
   "outputs": [
    {
     "data": {
      "application/vnd.jupyter.widget-view+json": {
       "model_id": "98bd2e6bfc814bad96edff9cf8c91628",
       "version_major": 2,
       "version_minor": 0
      },
      "text/plain": [
       "  0%|          | 0/182 [00:00<?, ?it/s]"
      ]
     },
     "metadata": {},
     "output_type": "display_data"
    },
    {
     "name": "stdout",
     "output_type": "stream",
     "text": [
      "Оптимальное порог = 0.49694226226251154,\t accuracy=0.9115039889687777\n"
     ]
    }
   ],
   "source": [
    "thresholds_cv (cat_model_OHE_CV, features_OHE_train, target_train)"
   ]
  },
  {
   "cell_type": "code",
   "execution_count": 171,
   "id": "fc245173",
   "metadata": {},
   "outputs": [
    {
     "name": "stdout",
     "output_type": "stream",
     "text": [
      "Метрика accuracy для CatBoost с OHE (CV) с оптимальным порогом 0.8044692737430168\n"
     ]
    }
   ],
   "source": [
    "predictions = get_predict (cat_model_OHE_CV, 0.49694, features_OHE_test)\n",
    "print('Метрика accuracy для CatBoost с OHE (CV) с оптимальным порогом', accuracy_score(predictions, target_test))"
   ]
  },
  {
   "cell_type": "markdown",
   "id": "7e27581c",
   "metadata": {},
   "source": [
    "Подбор порога дя <b>CatBoost без OHE</b> на кросс-валидации"
   ]
  },
  {
   "cell_type": "code",
   "execution_count": 172,
   "id": "af34cc4d",
   "metadata": {},
   "outputs": [
    {
     "data": {
      "application/vnd.jupyter.widget-view+json": {
       "model_id": "ce565007b812471f8295ab3e871d8a41",
       "version_major": 2,
       "version_minor": 0
      },
      "text/plain": [
       "  0%|          | 0/240 [00:00<?, ?it/s]"
      ]
     },
     "metadata": {},
     "output_type": "display_data"
    },
    {
     "name": "stdout",
     "output_type": "stream",
     "text": [
      "Оптимальное порог = 0.49546612559025094,\t accuracy=0.8608982566729045\n"
     ]
    }
   ],
   "source": [
    "thresholds_cv (cat_model_without_OHE, features_without_OHE_train.values, target_train)"
   ]
  },
  {
   "cell_type": "code",
   "execution_count": 173,
   "id": "7a792ac9",
   "metadata": {},
   "outputs": [
    {
     "name": "stdout",
     "output_type": "stream",
     "text": [
      "Метрика accuracy для CatBoost без OHE с оптимальным порогом 0.8324022346368715\n"
     ]
    }
   ],
   "source": [
    "predictions = get_predict (cat_model_without_OHE, 0.49547, features_without_OHE_test)\n",
    "print('Метрика accuracy для CatBoost без OHE с оптимальным порогом', accuracy_score(predictions, target_test))"
   ]
  },
  {
   "cell_type": "markdown",
   "id": "3e287516",
   "metadata": {},
   "source": [
    "Подбор порога дя <b>CatBoost без OHE (CV)</b> на кросс-валидации"
   ]
  },
  {
   "cell_type": "code",
   "execution_count": 174,
   "id": "b8724055",
   "metadata": {},
   "outputs": [
    {
     "data": {
      "application/vnd.jupyter.widget-view+json": {
       "model_id": "951436b6b8b545acbe454117d60f1a82",
       "version_major": 2,
       "version_minor": 0
      },
      "text/plain": [
       "  0%|          | 0/227 [00:00<?, ?it/s]"
      ]
     },
     "metadata": {},
     "output_type": "display_data"
    },
    {
     "name": "stdout",
     "output_type": "stream",
     "text": [
      "Оптимальное порог = 0.49169224574793224,\t accuracy=0.877760267901113\n"
     ]
    }
   ],
   "source": [
    "thresholds_cv (cat_model_without_OHE_CV, features_without_OHE_train.values, target_train)"
   ]
  },
  {
   "cell_type": "code",
   "execution_count": 175,
   "id": "d0727652",
   "metadata": {},
   "outputs": [
    {
     "name": "stdout",
     "output_type": "stream",
     "text": [
      "Метрика accuracy для CatBoost без OHE (CV) с оптимальным порогом 0.8212290502793296\n"
     ]
    }
   ],
   "source": [
    "predictions = get_predict (cat_model_without_OHE_CV, 0.49169, features_without_OHE_test)\n",
    "print('Метрика accuracy для CatBoost без OHE (CV) с оптимальным порогом', accuracy_score(predictions, target_test))"
   ]
  },
  {
   "cell_type": "markdown",
   "id": "e98fd2ba",
   "metadata": {},
   "source": [
    "Добавим полученные данные в сводную таблицу"
   ]
  },
  {
   "cell_type": "code",
   "execution_count": 176,
   "id": "c3b58a48",
   "metadata": {},
   "outputs": [],
   "source": [
    "df_result['Оптимальный порог'] = [np.nan, 0.68995, 0.45307, 0.63276, np.nan, 0.50733, 0.49694, 0.49547, 0.49169]\n",
    "df_result['Результат на трейне (оптимальный порог)'] = [np.nan, 0.8384, 0.8412, 0.8834, np.nan, 0.9017, 0.9115, 0.8609, 0.8778]\n",
    "df_result['Результат на тесте (оптимальный порог)'] = [np.nan, 0.8212, 0.8101, 0.8324, np.nan, 0.8045, 0.8045, 0.8324, 0.8212]"
   ]
  },
  {
   "cell_type": "code",
   "execution_count": 177,
   "id": "bf04cb98",
   "metadata": {},
   "outputs": [
    {
     "data": {
      "text/html": [
       "<style type=\"text/css\">\n",
       "#T_128d2_row0_col1, #T_128d2_row0_col3, #T_128d2_row0_col4, #T_128d2_row1_col6, #T_128d2_row5_col7, #T_128d2_row6_col7 {\n",
       "  background-color: #f7fbff;\n",
       "  color: #000000;\n",
       "}\n",
       "#T_128d2_row0_col6, #T_128d2_row0_col7, #T_128d2_row4_col6, #T_128d2_row4_col7 {\n",
       "  background-color: #000000;\n",
       "  color: #f1f1f1;\n",
       "}\n",
       "#T_128d2_row1_col1, #T_128d2_row2_col3 {\n",
       "  background-color: #084c95;\n",
       "  color: #f1f1f1;\n",
       "}\n",
       "#T_128d2_row1_col3, #T_128d2_row2_col4, #T_128d2_row3_col7, #T_128d2_row6_col6, #T_128d2_row7_col1, #T_128d2_row7_col4, #T_128d2_row7_col7, #T_128d2_row8_col1, #T_128d2_row8_col4 {\n",
       "  background-color: #08306b;\n",
       "  color: #f1f1f1;\n",
       "}\n",
       "#T_128d2_row1_col4 {\n",
       "  background-color: #0e58a2;\n",
       "  color: #f1f1f1;\n",
       "}\n",
       "#T_128d2_row1_col7, #T_128d2_row8_col7 {\n",
       "  background-color: #4a98c9;\n",
       "  color: #f1f1f1;\n",
       "}\n",
       "#T_128d2_row2_col1 {\n",
       "  background-color: #1561a9;\n",
       "  color: #f1f1f1;\n",
       "}\n",
       "#T_128d2_row2_col6 {\n",
       "  background-color: #f0f6fd;\n",
       "  color: #000000;\n",
       "}\n",
       "#T_128d2_row2_col7 {\n",
       "  background-color: #d0e1f2;\n",
       "  color: #000000;\n",
       "}\n",
       "#T_128d2_row3_col1 {\n",
       "  background-color: #083674;\n",
       "  color: #f1f1f1;\n",
       "}\n",
       "#T_128d2_row3_col3 {\n",
       "  background-color: #083a7a;\n",
       "  color: #f1f1f1;\n",
       "}\n",
       "#T_128d2_row3_col4 {\n",
       "  background-color: #084b93;\n",
       "  color: #f1f1f1;\n",
       "}\n",
       "#T_128d2_row3_col6 {\n",
       "  background-color: #4594c7;\n",
       "  color: #f1f1f1;\n",
       "}\n",
       "#T_128d2_row4_col1, #T_128d2_row5_col6 {\n",
       "  background-color: #0a539e;\n",
       "  color: #f1f1f1;\n",
       "}\n",
       "#T_128d2_row4_col3 {\n",
       "  background-color: #084184;\n",
       "  color: #f1f1f1;\n",
       "}\n",
       "#T_128d2_row4_col4 {\n",
       "  background-color: #084488;\n",
       "  color: #f1f1f1;\n",
       "}\n",
       "#T_128d2_row5_col1, #T_128d2_row6_col1 {\n",
       "  background-color: #08458a;\n",
       "  color: #f1f1f1;\n",
       "}\n",
       "#T_128d2_row5_col3, #T_128d2_row6_col3 {\n",
       "  background-color: #08316d;\n",
       "  color: #f1f1f1;\n",
       "}\n",
       "#T_128d2_row5_col4 {\n",
       "  background-color: #084a91;\n",
       "  color: #f1f1f1;\n",
       "}\n",
       "#T_128d2_row6_col4 {\n",
       "  background-color: #08519c;\n",
       "  color: #f1f1f1;\n",
       "}\n",
       "#T_128d2_row7_col3, #T_128d2_row8_col3 {\n",
       "  background-color: #083877;\n",
       "  color: #f1f1f1;\n",
       "}\n",
       "#T_128d2_row7_col6 {\n",
       "  background-color: #b4d3e9;\n",
       "  color: #000000;\n",
       "}\n",
       "#T_128d2_row8_col6 {\n",
       "  background-color: #5fa6d1;\n",
       "  color: #f1f1f1;\n",
       "}\n",
       "</style>\n",
       "<table id=\"T_128d2\">\n",
       "  <thead>\n",
       "    <tr>\n",
       "      <th class=\"blank level0\" >&nbsp;</th>\n",
       "      <th id=\"T_128d2_level0_col0\" class=\"col_heading level0 col0\" >Модель</th>\n",
       "      <th id=\"T_128d2_level0_col1\" class=\"col_heading level0 col1\" >Accuracy (тест) с параметрами по умолчанию</th>\n",
       "      <th id=\"T_128d2_level0_col2\" class=\"col_heading level0 col2\" >Оптимальные параметры (кроссвалидация)</th>\n",
       "      <th id=\"T_128d2_level0_col3\" class=\"col_heading level0 col3\" >Accuracy (кроссвалидация) с оптимальными параметрами</th>\n",
       "      <th id=\"T_128d2_level0_col4\" class=\"col_heading level0 col4\" >Accuracy (Тест) с оптимальными параметрами</th>\n",
       "      <th id=\"T_128d2_level0_col5\" class=\"col_heading level0 col5\" >Оптимальный порог</th>\n",
       "      <th id=\"T_128d2_level0_col6\" class=\"col_heading level0 col6\" >Результат на трейне (оптимальный порог)</th>\n",
       "      <th id=\"T_128d2_level0_col7\" class=\"col_heading level0 col7\" >Результат на тесте (оптимальный порог)</th>\n",
       "    </tr>\n",
       "  </thead>\n",
       "  <tbody>\n",
       "    <tr>\n",
       "      <th id=\"T_128d2_level0_row0\" class=\"row_heading level0 row0\" >0</th>\n",
       "      <td id=\"T_128d2_row0_col0\" class=\"data row0 col0\" >Dummy модель</td>\n",
       "      <td id=\"T_128d2_row0_col1\" class=\"data row0 col1\" >0.614500</td>\n",
       "      <td id=\"T_128d2_row0_col2\" class=\"data row0 col2\" >нет</td>\n",
       "      <td id=\"T_128d2_row0_col3\" class=\"data row0 col3\" >0.614500</td>\n",
       "      <td id=\"T_128d2_row0_col4\" class=\"data row0 col4\" >0.614500</td>\n",
       "      <td id=\"T_128d2_row0_col5\" class=\"data row0 col5\" >nan</td>\n",
       "      <td id=\"T_128d2_row0_col6\" class=\"data row0 col6\" >nan</td>\n",
       "      <td id=\"T_128d2_row0_col7\" class=\"data row0 col7\" >nan</td>\n",
       "    </tr>\n",
       "    <tr>\n",
       "      <th id=\"T_128d2_level0_row1\" class=\"row_heading level0 row1\" >1</th>\n",
       "      <td id=\"T_128d2_row1_col0\" class=\"data row1 col0\" >Логистическая регресия</td>\n",
       "      <td id=\"T_128d2_row1_col1\" class=\"data row1 col1\" >0.798900</td>\n",
       "      <td id=\"T_128d2_row1_col2\" class=\"data row1 col2\" >С = 0.95409548</td>\n",
       "      <td id=\"T_128d2_row1_col3\" class=\"data row1 col3\" >0.845100</td>\n",
       "      <td id=\"T_128d2_row1_col4\" class=\"data row1 col4\" >0.798900</td>\n",
       "      <td id=\"T_128d2_row1_col5\" class=\"data row1 col5\" >0.689950</td>\n",
       "      <td id=\"T_128d2_row1_col6\" class=\"data row1 col6\" >0.838400</td>\n",
       "      <td id=\"T_128d2_row1_col7\" class=\"data row1 col7\" >0.821200</td>\n",
       "    </tr>\n",
       "    <tr>\n",
       "      <th id=\"T_128d2_level0_row2\" class=\"row_heading level0 row2\" >2</th>\n",
       "      <td id=\"T_128d2_row2_col0\" class=\"data row2 col0\" >Решающее дерево</td>\n",
       "      <td id=\"T_128d2_row2_col1\" class=\"data row2 col1\" >0.782100</td>\n",
       "      <td id=\"T_128d2_row2_col2\" class=\"data row2 col2\" >'max_depth': 4, 'max_features': 22, 'min_samples_leaf': 7</td>\n",
       "      <td id=\"T_128d2_row2_col3\" class=\"data row2 col3\" >0.820200</td>\n",
       "      <td id=\"T_128d2_row2_col4\" class=\"data row2 col4\" >0.832400</td>\n",
       "      <td id=\"T_128d2_row2_col5\" class=\"data row2 col5\" >0.453070</td>\n",
       "      <td id=\"T_128d2_row2_col6\" class=\"data row2 col6\" >0.841200</td>\n",
       "      <td id=\"T_128d2_row2_col7\" class=\"data row2 col7\" >0.810100</td>\n",
       "    </tr>\n",
       "    <tr>\n",
       "      <th id=\"T_128d2_level0_row3\" class=\"row_heading level0 row3\" >3</th>\n",
       "      <td id=\"T_128d2_row3_col0\" class=\"data row3 col0\" >Случайны лес</td>\n",
       "      <td id=\"T_128d2_row3_col1\" class=\"data row3 col1\" >0.815600</td>\n",
       "      <td id=\"T_128d2_row3_col2\" class=\"data row3 col2\" >'max_depth': 6,  'max_features': 12, 'min_samples_leaf': 1, 'n_estimators': 150</td>\n",
       "      <td id=\"T_128d2_row3_col3\" class=\"data row3 col3\" >0.835900</td>\n",
       "      <td id=\"T_128d2_row3_col4\" class=\"data row3 col4\" >0.810000</td>\n",
       "      <td id=\"T_128d2_row3_col5\" class=\"data row3 col5\" >0.632760</td>\n",
       "      <td id=\"T_128d2_row3_col6\" class=\"data row3 col6\" >0.883400</td>\n",
       "      <td id=\"T_128d2_row3_col7\" class=\"data row3 col7\" >0.832400</td>\n",
       "    </tr>\n",
       "    <tr>\n",
       "      <th id=\"T_128d2_level0_row4\" class=\"row_heading level0 row4\" >4</th>\n",
       "      <td id=\"T_128d2_row4_col0\" class=\"data row4 col0\" >Модель k ближайших соседей</td>\n",
       "      <td id=\"T_128d2_row4_col1\" class=\"data row4 col1\" >0.793300</td>\n",
       "      <td id=\"T_128d2_row4_col2\" class=\"data row4 col2\" >'n_neighbors': 21</td>\n",
       "      <td id=\"T_128d2_row4_col3\" class=\"data row4 col3\" >0.829900</td>\n",
       "      <td id=\"T_128d2_row4_col4\" class=\"data row4 col4\" >0.815600</td>\n",
       "      <td id=\"T_128d2_row4_col5\" class=\"data row4 col5\" >nan</td>\n",
       "      <td id=\"T_128d2_row4_col6\" class=\"data row4 col6\" >nan</td>\n",
       "      <td id=\"T_128d2_row4_col7\" class=\"data row4 col7\" >nan</td>\n",
       "    </tr>\n",
       "    <tr>\n",
       "      <th id=\"T_128d2_level0_row5\" class=\"row_heading level0 row5\" >5</th>\n",
       "      <td id=\"T_128d2_row5_col0\" class=\"data row5 col0\" >CatBoost с OHE</td>\n",
       "      <td id=\"T_128d2_row5_col1\" class=\"data row5 col1\" >0.804400</td>\n",
       "      <td id=\"T_128d2_row5_col2\" class=\"data row5 col2\" >'max_depth': 5, 'n_estimators': 850</td>\n",
       "      <td id=\"T_128d2_row5_col3\" class=\"data row5 col3\" >0.844100</td>\n",
       "      <td id=\"T_128d2_row5_col4\" class=\"data row5 col4\" >0.810600</td>\n",
       "      <td id=\"T_128d2_row5_col5\" class=\"data row5 col5\" >0.507330</td>\n",
       "      <td id=\"T_128d2_row5_col6\" class=\"data row5 col6\" >0.901700</td>\n",
       "      <td id=\"T_128d2_row5_col7\" class=\"data row5 col7\" >0.804500</td>\n",
       "    </tr>\n",
       "    <tr>\n",
       "      <th id=\"T_128d2_level0_row6\" class=\"row_heading level0 row6\" >6</th>\n",
       "      <td id=\"T_128d2_row6_col0\" class=\"data row6 col0\" >CatBoost с OHE со встроенной CV</td>\n",
       "      <td id=\"T_128d2_row6_col1\" class=\"data row6 col1\" >0.804400</td>\n",
       "      <td id=\"T_128d2_row6_col2\" class=\"data row6 col2\" >iterations = 342\t</td>\n",
       "      <td id=\"T_128d2_row6_col3\" class=\"data row6 col3\" >0.844100</td>\n",
       "      <td id=\"T_128d2_row6_col4\" class=\"data row6 col4\" >0.804500</td>\n",
       "      <td id=\"T_128d2_row6_col5\" class=\"data row6 col5\" >0.496940</td>\n",
       "      <td id=\"T_128d2_row6_col6\" class=\"data row6 col6\" >0.911500</td>\n",
       "      <td id=\"T_128d2_row6_col7\" class=\"data row6 col7\" >0.804500</td>\n",
       "    </tr>\n",
       "    <tr>\n",
       "      <th id=\"T_128d2_level0_row7\" class=\"row_heading level0 row7\" >7</th>\n",
       "      <td id=\"T_128d2_row7_col0\" class=\"data row7 col0\" >CatBoost без OHE</td>\n",
       "      <td id=\"T_128d2_row7_col1\" class=\"data row7 col1\" >0.821200</td>\n",
       "      <td id=\"T_128d2_row7_col2\" class=\"data row7 col2\" >'max_depth': 4, 'n_estimators': 950</td>\n",
       "      <td id=\"T_128d2_row7_col3\" class=\"data row7 col3\" >0.837000</td>\n",
       "      <td id=\"T_128d2_row7_col4\" class=\"data row7 col4\" >0.832400</td>\n",
       "      <td id=\"T_128d2_row7_col5\" class=\"data row7 col5\" >0.495470</td>\n",
       "      <td id=\"T_128d2_row7_col6\" class=\"data row7 col6\" >0.860900</td>\n",
       "      <td id=\"T_128d2_row7_col7\" class=\"data row7 col7\" >0.832400</td>\n",
       "    </tr>\n",
       "    <tr>\n",
       "      <th id=\"T_128d2_level0_row8\" class=\"row_heading level0 row8\" >8</th>\n",
       "      <td id=\"T_128d2_row8_col0\" class=\"data row8 col0\" >CatBoost без OHE со встроенной CV</td>\n",
       "      <td id=\"T_128d2_row8_col1\" class=\"data row8 col1\" >0.821200</td>\n",
       "      <td id=\"T_128d2_row8_col2\" class=\"data row8 col2\" >iterations = 597</td>\n",
       "      <td id=\"T_128d2_row8_col3\" class=\"data row8 col3\" >0.837000</td>\n",
       "      <td id=\"T_128d2_row8_col4\" class=\"data row8 col4\" >0.832400</td>\n",
       "      <td id=\"T_128d2_row8_col5\" class=\"data row8 col5\" >0.491690</td>\n",
       "      <td id=\"T_128d2_row8_col6\" class=\"data row8 col6\" >0.877800</td>\n",
       "      <td id=\"T_128d2_row8_col7\" class=\"data row8 col7\" >0.821200</td>\n",
       "    </tr>\n",
       "  </tbody>\n",
       "</table>\n"
      ],
      "text/plain": [
       "<pandas.io.formats.style.Styler at 0x234aca57700>"
      ]
     },
     "metadata": {},
     "output_type": "display_data"
    }
   ],
   "source": [
    "display(df_result.style\n",
    " .background_gradient(subset=['Accuracy (тест) с параметрами по умолчанию',\n",
    "                              'Accuracy (кроссвалидация) с оптимальными параметрами', \n",
    "                              'Accuracy (Тест) с оптимальными параметрами',\n",
    "                              'Результат на трейне (оптимальный порог)',\n",
    "                              'Результат на тесте (оптимальный порог)'], \n",
    "                      cmap='Blues'))"
   ]
  },
  {
   "cell_type": "markdown",
   "id": "630cbd4d",
   "metadata": {},
   "source": [
    "### Финальное обучение моделей на всех данных и проверка на тесте с Kaggle"
   ]
  },
  {
   "cell_type": "code",
   "execution_count": 179,
   "id": "ca6ee4fc",
   "metadata": {},
   "outputs": [
    {
     "data": {
      "text/plain": [
       "LogisticRegression(C=0.95409548, class_weight='balanced')"
      ]
     },
     "execution_count": 179,
     "metadata": {},
     "output_type": "execute_result"
    }
   ],
   "source": [
    "lin_model = LogisticRegression(class_weight='balanced', C=0.95409548)\n",
    "lin_model.fit(features_OHE_train, target_train)"
   ]
  },
  {
   "cell_type": "code",
   "execution_count": 180,
   "id": "6f282ee5",
   "metadata": {},
   "outputs": [
    {
     "data": {
      "text/plain": [
       "DecisionTreeClassifier(class_weight='balanced', max_depth=4, max_features=22,\n",
       "                       min_samples_leaf=7, random_state=123)"
      ]
     },
     "execution_count": 180,
     "metadata": {},
     "output_type": "execute_result"
    }
   ],
   "source": [
    "tree_model = DecisionTreeClassifier(class_weight='balanced',\n",
    "                                   random_state=123,\n",
    "                                   max_depth=4,\n",
    "                                   max_features=22,\n",
    "                                   min_samples_leaf=7)\n",
    "tree_model.fit(features_OHE_train, target_train)"
   ]
  },
  {
   "cell_type": "code",
   "execution_count": 181,
   "id": "e6e02593",
   "metadata": {},
   "outputs": [
    {
     "data": {
      "text/plain": [
       "RandomForestClassifier(class_weight='balanced', max_depth=6, max_features=12,\n",
       "                       n_estimators=150, random_state=123)"
      ]
     },
     "execution_count": 181,
     "metadata": {},
     "output_type": "execute_result"
    }
   ],
   "source": [
    "forest_model = RandomForestClassifier(class_weight='balanced',\n",
    "                                     random_state=123,\n",
    "                                     max_depth=6,\n",
    "                                     max_features=12,\n",
    "                                     min_samples_leaf=1,\n",
    "                                     n_estimators=150)\n",
    "forest_model.fit(features_OHE_train, target_train)"
   ]
  },
  {
   "cell_type": "code",
   "execution_count": 182,
   "id": "750181db",
   "metadata": {},
   "outputs": [
    {
     "data": {
      "text/plain": [
       "KNeighborsClassifier(n_neighbors=21)"
      ]
     },
     "execution_count": 182,
     "metadata": {},
     "output_type": "execute_result"
    }
   ],
   "source": [
    "knn_model = KNeighborsClassifier(n_neighbors=21)\n",
    "knn_model.fit(features_OHE_train, target_train)"
   ]
  },
  {
   "cell_type": "code",
   "execution_count": 183,
   "id": "d10adf92",
   "metadata": {},
   "outputs": [
    {
     "name": "stdout",
     "output_type": "stream",
     "text": [
      "Learning rate set to 0.010343\n",
      "0:\tlearn: 0.6863684\ttotal: 1.07ms\tremaining: 906ms\n",
      "100:\tlearn: 0.4285998\ttotal: 95.7ms\tremaining: 710ms\n",
      "200:\tlearn: 0.3805668\ttotal: 181ms\tremaining: 584ms\n",
      "300:\tlearn: 0.3583353\ttotal: 266ms\tremaining: 485ms\n",
      "400:\tlearn: 0.3426128\ttotal: 352ms\tremaining: 395ms\n",
      "500:\tlearn: 0.3291788\ttotal: 439ms\tremaining: 306ms\n",
      "600:\tlearn: 0.3185051\ttotal: 527ms\tremaining: 218ms\n",
      "700:\tlearn: 0.3071176\ttotal: 645ms\tremaining: 137ms\n",
      "800:\tlearn: 0.2959601\ttotal: 740ms\tremaining: 45.3ms\n",
      "849:\tlearn: 0.2907299\ttotal: 784ms\tremaining: 0us\n"
     ]
    },
    {
     "data": {
      "text/plain": [
       "<catboost.core.CatBoostClassifier at 0x234a9f32740>"
      ]
     },
     "execution_count": 183,
     "metadata": {},
     "output_type": "execute_result"
    }
   ],
   "source": [
    "cat_model_OHE = CatBoostClassifier(random_state=123, \n",
    "                                   verbose=100,\n",
    "                                  max_depth=5,\n",
    "                                  n_estimators=850)\n",
    "cat_model_OHE.fit(features_OHE_train, target_train)"
   ]
  },
  {
   "cell_type": "code",
   "execution_count": 184,
   "id": "eaf10d64",
   "metadata": {},
   "outputs": [
    {
     "name": "stdout",
     "output_type": "stream",
     "text": [
      "Learning rate set to 0.023836\n",
      "0:\tlearn: 0.6757891\ttotal: 1.37ms\tremaining: 466ms\n",
      "318:\tlearn: 0.2820808\ttotal: 346ms\tremaining: 25ms\n",
      "341:\tlearn: 0.2752767\ttotal: 370ms\tremaining: 0us\n"
     ]
    },
    {
     "data": {
      "text/plain": [
       "<catboost.core.CatBoostClassifier at 0x234a9f30190>"
      ]
     },
     "execution_count": 184,
     "metadata": {},
     "output_type": "execute_result"
    }
   ],
   "source": [
    "cat_model_OHE_CV = CatBoostClassifier(random_state=123, \n",
    "                                   verbose=318,\n",
    "                                  iterations = 342)\n",
    "cat_model_OHE_CV.fit(features_OHE_train, target_train)"
   ]
  },
  {
   "cell_type": "code",
   "execution_count": 185,
   "id": "79d184e2",
   "metadata": {},
   "outputs": [
    {
     "name": "stdout",
     "output_type": "stream",
     "text": [
      "Learning rate set to 0.009341\n",
      "0:\tlearn: 0.6889536\ttotal: 5.36ms\tremaining: 5.09s\n",
      "100:\tlearn: 0.4596171\ttotal: 643ms\tremaining: 5.4s\n",
      "200:\tlearn: 0.4109885\ttotal: 1.29s\tremaining: 4.82s\n",
      "300:\tlearn: 0.3911101\ttotal: 1.95s\tremaining: 4.2s\n",
      "400:\tlearn: 0.3802962\ttotal: 2.58s\tremaining: 3.53s\n",
      "500:\tlearn: 0.3711851\ttotal: 3.23s\tremaining: 2.9s\n",
      "600:\tlearn: 0.3629054\ttotal: 3.86s\tremaining: 2.24s\n",
      "700:\tlearn: 0.3544772\ttotal: 4.47s\tremaining: 1.59s\n",
      "800:\tlearn: 0.3488296\ttotal: 5.12s\tremaining: 952ms\n",
      "900:\tlearn: 0.3429870\ttotal: 5.74s\tremaining: 312ms\n",
      "949:\tlearn: 0.3400200\ttotal: 6.05s\tremaining: 0us\n"
     ]
    },
    {
     "data": {
      "text/plain": [
       "<catboost.core.CatBoostClassifier at 0x234ac40abc0>"
      ]
     },
     "execution_count": 185,
     "metadata": {},
     "output_type": "execute_result"
    }
   ],
   "source": [
    "cat_model_without_OHE = CatBoostClassifier(random_state=123, \n",
    "                                           verbose=100, \n",
    "                                           cat_features=cat_colomns,\n",
    "                                           max_depth=4,\n",
    "                                           n_estimators=950)\n",
    "cat_model_without_OHE.fit(features_without_OHE_train, target_train)"
   ]
  },
  {
   "cell_type": "code",
   "execution_count": 186,
   "id": "d2ffee84",
   "metadata": {},
   "outputs": [
    {
     "name": "stdout",
     "output_type": "stream",
     "text": [
      "Learning rate set to 0.014301\n",
      "0:\tlearn: 0.6867465\ttotal: 4.71ms\tremaining: 2.81s\n",
      "100:\tlearn: 0.4051725\ttotal: 937ms\tremaining: 4.6s\n",
      "200:\tlearn: 0.3596026\ttotal: 1.98s\tremaining: 3.89s\n",
      "300:\tlearn: 0.3337044\ttotal: 2.94s\tremaining: 2.89s\n",
      "400:\tlearn: 0.3142314\ttotal: 3.97s\tremaining: 1.94s\n",
      "500:\tlearn: 0.2990143\ttotal: 4.96s\tremaining: 950ms\n",
      "596:\tlearn: 0.2847737\ttotal: 5.9s\tremaining: 0us\n"
     ]
    },
    {
     "data": {
      "text/plain": [
       "<catboost.core.CatBoostClassifier at 0x234a9f33340>"
      ]
     },
     "execution_count": 186,
     "metadata": {},
     "output_type": "execute_result"
    }
   ],
   "source": [
    "cat_model_without_OHE_CV = CatBoostClassifier(random_state=123, \n",
    "                                           verbose=100, \n",
    "                                           cat_features=cat_colomns,\n",
    "                                           iterations = 597)\n",
    "cat_model_without_OHE_CV.fit(features_without_OHE_train, target_train)"
   ]
  },
  {
   "cell_type": "markdown",
   "id": "c458a337",
   "metadata": {},
   "source": [
    "Загрузим тестовые данные и преобразуем их для дальнейшей работы моделей как с OHE так и без него"
   ]
  },
  {
   "cell_type": "code",
   "execution_count": 187,
   "id": "71fefa4a",
   "metadata": {},
   "outputs": [],
   "source": [
    "test_data = pd.read_csv('test.csv')"
   ]
  },
  {
   "cell_type": "code",
   "execution_count": 188,
   "id": "ba518246",
   "metadata": {},
   "outputs": [],
   "source": [
    "test_data_OHE = ful_pipeline_OHE.transform(test_data)\n",
    "test_data_without_OHE = ful_pipeline_without_OHE.transform(test_data)\n",
    "test_data_without_OHE = pd.DataFrame(data=test_data_without_OHE, columns=all_colomns)\n",
    "test_data_without_OHE[['Sex', 'Pclass', 'Embarked', 'Tit', 'Age_part']] = test_data_without_OHE[['Sex', 'Pclass', 'Embarked', 'Tit', 'Age_part']].astype(str)"
   ]
  },
  {
   "cell_type": "code",
   "execution_count": 189,
   "id": "84703dd8",
   "metadata": {},
   "outputs": [],
   "source": [
    "# для всех кроме knn и dummy_model\n",
    "def predict_and_save_file (model, threshold, feature, name):\n",
    "    predictions = get_predict (model, threshold, feature)\n",
    "\n",
    "    predict_df = pd.DataFrame(\n",
    "        {\n",
    "         'PassengerId' : test_data['PassengerId'],\n",
    "         'Survived': predictions     \n",
    "        }\n",
    "        )\n",
    "    predict_df.to_csv(name, index=False)"
   ]
  },
  {
   "cell_type": "code",
   "execution_count": 190,
   "id": "13bf552d",
   "metadata": {},
   "outputs": [],
   "source": [
    "predictions = dummy_model.predict(test_data_OHE)\n",
    "predict_df = pd.DataFrame(\n",
    "    {\n",
    "     'PassengerId' : test_data['PassengerId'],\n",
    "     'Survived': predictions     \n",
    "    }\n",
    "    )\n",
    "predict_df.to_csv('dummy_model.csv', index=False)"
   ]
  },
  {
   "cell_type": "code",
   "execution_count": 191,
   "id": "7f6aa4ae",
   "metadata": {},
   "outputs": [],
   "source": [
    "predict_and_save_file(lin_model, 0.68995, test_data_OHE, 'lin_model.csv')"
   ]
  },
  {
   "cell_type": "code",
   "execution_count": 192,
   "id": "46783294",
   "metadata": {},
   "outputs": [],
   "source": [
    "predict_and_save_file(tree_model, 0.45307, test_data_OHE, 'tree_model.csv')"
   ]
  },
  {
   "cell_type": "code",
   "execution_count": 193,
   "id": "34b06522",
   "metadata": {},
   "outputs": [],
   "source": [
    "predict_and_save_file(forest_model, 0.63276, test_data_OHE, 'forest_model.csv')"
   ]
  },
  {
   "cell_type": "code",
   "execution_count": 194,
   "id": "2b86a500",
   "metadata": {},
   "outputs": [],
   "source": [
    "predictions = knn_model.predict(test_data_OHE)\n",
    "predict_df = pd.DataFrame(\n",
    "    {\n",
    "     'PassengerId' : test_data['PassengerId'],\n",
    "     'Survived': predictions     \n",
    "    }\n",
    "    )\n",
    "predict_df.to_csv('knn_model.csv', index=False)"
   ]
  },
  {
   "cell_type": "code",
   "execution_count": 195,
   "id": "4854680c",
   "metadata": {},
   "outputs": [],
   "source": [
    "predict_and_save_file(cat_model_OHE, 0.50733, test_data_OHE, 'cat_model_OHE.csv')"
   ]
  },
  {
   "cell_type": "code",
   "execution_count": 196,
   "id": "8f46ebaf",
   "metadata": {},
   "outputs": [],
   "source": [
    "predict_and_save_file(cat_model_OHE_CV, 0.49694, test_data_OHE, 'cat_model_OHE_CV.csv')"
   ]
  },
  {
   "cell_type": "code",
   "execution_count": 197,
   "id": "2d39c928",
   "metadata": {},
   "outputs": [],
   "source": [
    "predict_and_save_file(cat_model_without_OHE, 0.49547, test_data_without_OHE, 'cat_model_without_OHE.csv')"
   ]
  },
  {
   "cell_type": "code",
   "execution_count": 198,
   "id": "f677b4ff",
   "metadata": {},
   "outputs": [],
   "source": [
    "predict_and_save_file(cat_model_without_OHE_CV, 0.49169, test_data_without_OHE, 'cat_model_without_OHE_CV.csv')"
   ]
  },
  {
   "cell_type": "markdown",
   "id": "708d2764",
   "metadata": {},
   "source": [
    "Загрузим полученные предсказания на Kaggel и добавим эти данные в финальный датасет"
   ]
  },
  {
   "cell_type": "code",
   "execution_count": 199,
   "id": "b6972bec",
   "metadata": {},
   "outputs": [],
   "source": [
    "df_result['Тест на Kaggle'] = [0.62200, 0.76555,  0.73923, 0.77511, 0.78229, 0.79425, 0.79425, 0.79425, 0.79665]"
   ]
  },
  {
   "cell_type": "code",
   "execution_count": 200,
   "id": "56854b5a",
   "metadata": {},
   "outputs": [
    {
     "data": {
      "text/html": [
       "<style type=\"text/css\">\n",
       "#T_723a7_row0_col8 {\n",
       "  background-color: #f7fbff;\n",
       "  color: #000000;\n",
       "}\n",
       "#T_723a7_row1_col8 {\n",
       "  background-color: #125ea6;\n",
       "  color: #f1f1f1;\n",
       "}\n",
       "#T_723a7_row2_col8 {\n",
       "  background-color: #3686c0;\n",
       "  color: #f1f1f1;\n",
       "}\n",
       "#T_723a7_row3_col8 {\n",
       "  background-color: #08509b;\n",
       "  color: #f1f1f1;\n",
       "}\n",
       "#T_723a7_row4_col8 {\n",
       "  background-color: #08468b;\n",
       "  color: #f1f1f1;\n",
       "}\n",
       "#T_723a7_row5_col8, #T_723a7_row6_col8, #T_723a7_row7_col8 {\n",
       "  background-color: #083370;\n",
       "  color: #f1f1f1;\n",
       "}\n",
       "#T_723a7_row8_col8 {\n",
       "  background-color: #08306b;\n",
       "  color: #f1f1f1;\n",
       "}\n",
       "</style>\n",
       "<table id=\"T_723a7\">\n",
       "  <thead>\n",
       "    <tr>\n",
       "      <th class=\"blank level0\" >&nbsp;</th>\n",
       "      <th id=\"T_723a7_level0_col0\" class=\"col_heading level0 col0\" >Модель</th>\n",
       "      <th id=\"T_723a7_level0_col1\" class=\"col_heading level0 col1\" >Accuracy (тест) с параметрами по умолчанию</th>\n",
       "      <th id=\"T_723a7_level0_col2\" class=\"col_heading level0 col2\" >Оптимальные параметры (кроссвалидация)</th>\n",
       "      <th id=\"T_723a7_level0_col3\" class=\"col_heading level0 col3\" >Accuracy (кроссвалидация) с оптимальными параметрами</th>\n",
       "      <th id=\"T_723a7_level0_col4\" class=\"col_heading level0 col4\" >Accuracy (Тест) с оптимальными параметрами</th>\n",
       "      <th id=\"T_723a7_level0_col5\" class=\"col_heading level0 col5\" >Оптимальный порог</th>\n",
       "      <th id=\"T_723a7_level0_col6\" class=\"col_heading level0 col6\" >Результат на трейне (оптимальный порог)</th>\n",
       "      <th id=\"T_723a7_level0_col7\" class=\"col_heading level0 col7\" >Результат на тесте (оптимальный порог)</th>\n",
       "      <th id=\"T_723a7_level0_col8\" class=\"col_heading level0 col8\" >Тест на Kaggle</th>\n",
       "    </tr>\n",
       "  </thead>\n",
       "  <tbody>\n",
       "    <tr>\n",
       "      <th id=\"T_723a7_level0_row0\" class=\"row_heading level0 row0\" >0</th>\n",
       "      <td id=\"T_723a7_row0_col0\" class=\"data row0 col0\" >Dummy модель</td>\n",
       "      <td id=\"T_723a7_row0_col1\" class=\"data row0 col1\" >0.614500</td>\n",
       "      <td id=\"T_723a7_row0_col2\" class=\"data row0 col2\" >нет</td>\n",
       "      <td id=\"T_723a7_row0_col3\" class=\"data row0 col3\" >0.614500</td>\n",
       "      <td id=\"T_723a7_row0_col4\" class=\"data row0 col4\" >0.614500</td>\n",
       "      <td id=\"T_723a7_row0_col5\" class=\"data row0 col5\" >nan</td>\n",
       "      <td id=\"T_723a7_row0_col6\" class=\"data row0 col6\" >nan</td>\n",
       "      <td id=\"T_723a7_row0_col7\" class=\"data row0 col7\" >nan</td>\n",
       "      <td id=\"T_723a7_row0_col8\" class=\"data row0 col8\" >0.622000</td>\n",
       "    </tr>\n",
       "    <tr>\n",
       "      <th id=\"T_723a7_level0_row1\" class=\"row_heading level0 row1\" >1</th>\n",
       "      <td id=\"T_723a7_row1_col0\" class=\"data row1 col0\" >Логистическая регресия</td>\n",
       "      <td id=\"T_723a7_row1_col1\" class=\"data row1 col1\" >0.798900</td>\n",
       "      <td id=\"T_723a7_row1_col2\" class=\"data row1 col2\" >С = 0.95409548</td>\n",
       "      <td id=\"T_723a7_row1_col3\" class=\"data row1 col3\" >0.845100</td>\n",
       "      <td id=\"T_723a7_row1_col4\" class=\"data row1 col4\" >0.798900</td>\n",
       "      <td id=\"T_723a7_row1_col5\" class=\"data row1 col5\" >0.689950</td>\n",
       "      <td id=\"T_723a7_row1_col6\" class=\"data row1 col6\" >0.838400</td>\n",
       "      <td id=\"T_723a7_row1_col7\" class=\"data row1 col7\" >0.821200</td>\n",
       "      <td id=\"T_723a7_row1_col8\" class=\"data row1 col8\" >0.765550</td>\n",
       "    </tr>\n",
       "    <tr>\n",
       "      <th id=\"T_723a7_level0_row2\" class=\"row_heading level0 row2\" >2</th>\n",
       "      <td id=\"T_723a7_row2_col0\" class=\"data row2 col0\" >Решающее дерево</td>\n",
       "      <td id=\"T_723a7_row2_col1\" class=\"data row2 col1\" >0.782100</td>\n",
       "      <td id=\"T_723a7_row2_col2\" class=\"data row2 col2\" >'max_depth': 4, 'max_features': 22, 'min_samples_leaf': 7</td>\n",
       "      <td id=\"T_723a7_row2_col3\" class=\"data row2 col3\" >0.820200</td>\n",
       "      <td id=\"T_723a7_row2_col4\" class=\"data row2 col4\" >0.832400</td>\n",
       "      <td id=\"T_723a7_row2_col5\" class=\"data row2 col5\" >0.453070</td>\n",
       "      <td id=\"T_723a7_row2_col6\" class=\"data row2 col6\" >0.841200</td>\n",
       "      <td id=\"T_723a7_row2_col7\" class=\"data row2 col7\" >0.810100</td>\n",
       "      <td id=\"T_723a7_row2_col8\" class=\"data row2 col8\" >0.739230</td>\n",
       "    </tr>\n",
       "    <tr>\n",
       "      <th id=\"T_723a7_level0_row3\" class=\"row_heading level0 row3\" >3</th>\n",
       "      <td id=\"T_723a7_row3_col0\" class=\"data row3 col0\" >Случайны лес</td>\n",
       "      <td id=\"T_723a7_row3_col1\" class=\"data row3 col1\" >0.815600</td>\n",
       "      <td id=\"T_723a7_row3_col2\" class=\"data row3 col2\" >'max_depth': 6,  'max_features': 12, 'min_samples_leaf': 1, 'n_estimators': 150</td>\n",
       "      <td id=\"T_723a7_row3_col3\" class=\"data row3 col3\" >0.835900</td>\n",
       "      <td id=\"T_723a7_row3_col4\" class=\"data row3 col4\" >0.810000</td>\n",
       "      <td id=\"T_723a7_row3_col5\" class=\"data row3 col5\" >0.632760</td>\n",
       "      <td id=\"T_723a7_row3_col6\" class=\"data row3 col6\" >0.883400</td>\n",
       "      <td id=\"T_723a7_row3_col7\" class=\"data row3 col7\" >0.832400</td>\n",
       "      <td id=\"T_723a7_row3_col8\" class=\"data row3 col8\" >0.775110</td>\n",
       "    </tr>\n",
       "    <tr>\n",
       "      <th id=\"T_723a7_level0_row4\" class=\"row_heading level0 row4\" >4</th>\n",
       "      <td id=\"T_723a7_row4_col0\" class=\"data row4 col0\" >Модель k ближайших соседей</td>\n",
       "      <td id=\"T_723a7_row4_col1\" class=\"data row4 col1\" >0.793300</td>\n",
       "      <td id=\"T_723a7_row4_col2\" class=\"data row4 col2\" >'n_neighbors': 21</td>\n",
       "      <td id=\"T_723a7_row4_col3\" class=\"data row4 col3\" >0.829900</td>\n",
       "      <td id=\"T_723a7_row4_col4\" class=\"data row4 col4\" >0.815600</td>\n",
       "      <td id=\"T_723a7_row4_col5\" class=\"data row4 col5\" >nan</td>\n",
       "      <td id=\"T_723a7_row4_col6\" class=\"data row4 col6\" >nan</td>\n",
       "      <td id=\"T_723a7_row4_col7\" class=\"data row4 col7\" >nan</td>\n",
       "      <td id=\"T_723a7_row4_col8\" class=\"data row4 col8\" >0.782290</td>\n",
       "    </tr>\n",
       "    <tr>\n",
       "      <th id=\"T_723a7_level0_row5\" class=\"row_heading level0 row5\" >5</th>\n",
       "      <td id=\"T_723a7_row5_col0\" class=\"data row5 col0\" >CatBoost с OHE</td>\n",
       "      <td id=\"T_723a7_row5_col1\" class=\"data row5 col1\" >0.804400</td>\n",
       "      <td id=\"T_723a7_row5_col2\" class=\"data row5 col2\" >'max_depth': 5, 'n_estimators': 850</td>\n",
       "      <td id=\"T_723a7_row5_col3\" class=\"data row5 col3\" >0.844100</td>\n",
       "      <td id=\"T_723a7_row5_col4\" class=\"data row5 col4\" >0.810600</td>\n",
       "      <td id=\"T_723a7_row5_col5\" class=\"data row5 col5\" >0.507330</td>\n",
       "      <td id=\"T_723a7_row5_col6\" class=\"data row5 col6\" >0.901700</td>\n",
       "      <td id=\"T_723a7_row5_col7\" class=\"data row5 col7\" >0.804500</td>\n",
       "      <td id=\"T_723a7_row5_col8\" class=\"data row5 col8\" >0.794250</td>\n",
       "    </tr>\n",
       "    <tr>\n",
       "      <th id=\"T_723a7_level0_row6\" class=\"row_heading level0 row6\" >6</th>\n",
       "      <td id=\"T_723a7_row6_col0\" class=\"data row6 col0\" >CatBoost с OHE со встроенной CV</td>\n",
       "      <td id=\"T_723a7_row6_col1\" class=\"data row6 col1\" >0.804400</td>\n",
       "      <td id=\"T_723a7_row6_col2\" class=\"data row6 col2\" >iterations = 342\t</td>\n",
       "      <td id=\"T_723a7_row6_col3\" class=\"data row6 col3\" >0.844100</td>\n",
       "      <td id=\"T_723a7_row6_col4\" class=\"data row6 col4\" >0.804500</td>\n",
       "      <td id=\"T_723a7_row6_col5\" class=\"data row6 col5\" >0.496940</td>\n",
       "      <td id=\"T_723a7_row6_col6\" class=\"data row6 col6\" >0.911500</td>\n",
       "      <td id=\"T_723a7_row6_col7\" class=\"data row6 col7\" >0.804500</td>\n",
       "      <td id=\"T_723a7_row6_col8\" class=\"data row6 col8\" >0.794250</td>\n",
       "    </tr>\n",
       "    <tr>\n",
       "      <th id=\"T_723a7_level0_row7\" class=\"row_heading level0 row7\" >7</th>\n",
       "      <td id=\"T_723a7_row7_col0\" class=\"data row7 col0\" >CatBoost без OHE</td>\n",
       "      <td id=\"T_723a7_row7_col1\" class=\"data row7 col1\" >0.821200</td>\n",
       "      <td id=\"T_723a7_row7_col2\" class=\"data row7 col2\" >'max_depth': 4, 'n_estimators': 950</td>\n",
       "      <td id=\"T_723a7_row7_col3\" class=\"data row7 col3\" >0.837000</td>\n",
       "      <td id=\"T_723a7_row7_col4\" class=\"data row7 col4\" >0.832400</td>\n",
       "      <td id=\"T_723a7_row7_col5\" class=\"data row7 col5\" >0.495470</td>\n",
       "      <td id=\"T_723a7_row7_col6\" class=\"data row7 col6\" >0.860900</td>\n",
       "      <td id=\"T_723a7_row7_col7\" class=\"data row7 col7\" >0.832400</td>\n",
       "      <td id=\"T_723a7_row7_col8\" class=\"data row7 col8\" >0.794250</td>\n",
       "    </tr>\n",
       "    <tr>\n",
       "      <th id=\"T_723a7_level0_row8\" class=\"row_heading level0 row8\" >8</th>\n",
       "      <td id=\"T_723a7_row8_col0\" class=\"data row8 col0\" >CatBoost без OHE со встроенной CV</td>\n",
       "      <td id=\"T_723a7_row8_col1\" class=\"data row8 col1\" >0.821200</td>\n",
       "      <td id=\"T_723a7_row8_col2\" class=\"data row8 col2\" >iterations = 597</td>\n",
       "      <td id=\"T_723a7_row8_col3\" class=\"data row8 col3\" >0.837000</td>\n",
       "      <td id=\"T_723a7_row8_col4\" class=\"data row8 col4\" >0.832400</td>\n",
       "      <td id=\"T_723a7_row8_col5\" class=\"data row8 col5\" >0.491690</td>\n",
       "      <td id=\"T_723a7_row8_col6\" class=\"data row8 col6\" >0.877800</td>\n",
       "      <td id=\"T_723a7_row8_col7\" class=\"data row8 col7\" >0.821200</td>\n",
       "      <td id=\"T_723a7_row8_col8\" class=\"data row8 col8\" >0.796650</td>\n",
       "    </tr>\n",
       "  </tbody>\n",
       "</table>\n"
      ],
      "text/plain": [
       "<pandas.io.formats.style.Styler at 0x234acf24c70>"
      ]
     },
     "metadata": {},
     "output_type": "display_data"
    }
   ],
   "source": [
    "display(df_result.style\n",
    " .background_gradient(subset=['Тест на Kaggle'], \n",
    "                      cmap='Blues'))"
   ]
  },
  {
   "cell_type": "markdown",
   "id": "f2ed9b9c",
   "metadata": {},
   "source": [
    "Лучшие результаты показали  все модели CatBoost. При этом самый максимальный результат получился у CatBoost без OHE и с кросс валидацией (метрика равна 0.79665)"
   ]
  },
  {
   "cell_type": "markdown",
   "id": "5bd976d6",
   "metadata": {},
   "source": [
    "## Выводы"
   ]
  },
  {
   "cell_type": "markdown",
   "id": "5740ce79",
   "metadata": {},
   "source": [
    "Нами был изучен датасет Titanic, рассмотрены зависимости, которые встречаются в данных. Сами данные не полные и местами зашумлены. Для данных были составлены пайплайны, и обучены модели. Лучший показатель дала модель CatBoost, в который подавали некодированные категориальные признаки. Метрика у данной модели на тестовой выборке оказалась равна 0.79665, что значительно лучше dammy модели, которая имеет метрику равную 0.622"
   ]
  },
  {
   "cell_type": "code",
   "execution_count": null,
   "id": "b51f8962",
   "metadata": {},
   "outputs": [],
   "source": []
  }
 ],
 "metadata": {
  "kernelspec": {
   "display_name": "Python 3 (ipykernel)",
   "language": "python",
   "name": "python3"
  },
  "language_info": {
   "codemirror_mode": {
    "name": "ipython",
    "version": 3
   },
   "file_extension": ".py",
   "mimetype": "text/x-python",
   "name": "python",
   "nbconvert_exporter": "python",
   "pygments_lexer": "ipython3",
   "version": "3.10.4"
  },
  "toc": {
   "base_numbering": 1,
   "nav_menu": {},
   "number_sections": true,
   "sideBar": true,
   "skip_h1_title": true,
   "title_cell": "Table of Contents",
   "title_sidebar": "Contents",
   "toc_cell": false,
   "toc_position": {
    "height": "calc(100% - 180px)",
    "left": "10px",
    "top": "150px",
    "width": "349.08px"
   },
   "toc_section_display": true,
   "toc_window_display": true
  }
 },
 "nbformat": 4,
 "nbformat_minor": 5
}
