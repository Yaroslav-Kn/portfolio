{
 "cells": [
  {
   "cell_type": "markdown",
   "metadata": {
    "toc": true
   },
   "source": [
    "<h1>Содержание<span class=\"tocSkip\"></span></h1>\n",
    "<div class=\"toc\"><ul class=\"toc-item\"><li><span><a href=\"#Подготовка\" data-toc-modified-id=\"Подготовка-1\"><span class=\"toc-item-num\">1&nbsp;&nbsp;</span>Подготовка</a></span><ul class=\"toc-item\"><li><span><a href=\"#Подготовка-корпусов-TF-IDF\" data-toc-modified-id=\"Подготовка-корпусов-TF-IDF-1.1\"><span class=\"toc-item-num\">1.1&nbsp;&nbsp;</span>Подготовка корпусов TF-IDF</a></span></li><li><span><a href=\"#Подготовка-корпусов-Bert\" data-toc-modified-id=\"Подготовка-корпусов-Bert-1.2\"><span class=\"toc-item-num\">1.2&nbsp;&nbsp;</span>Подготовка корпусов Bert</a></span></li><li><span><a href=\"#Выводы\" data-toc-modified-id=\"Выводы-1.3\"><span class=\"toc-item-num\">1.3&nbsp;&nbsp;</span>Выводы</a></span></li></ul></li><li><span><a href=\"#Обучение\" data-toc-modified-id=\"Обучение-2\"><span class=\"toc-item-num\">2&nbsp;&nbsp;</span>Обучение</a></span><ul class=\"toc-item\"><li><span><a href=\"#Обучение-моделей-с-корпусами-TF-IDF\" data-toc-modified-id=\"Обучение-моделей-с-корпусами-TF-IDF-2.1\"><span class=\"toc-item-num\">2.1&nbsp;&nbsp;</span>Обучение моделей с корпусами TF-IDF</a></span></li><li><span><a href=\"#Обучение-моделей-с-корпусами-Bert\" data-toc-modified-id=\"Обучение-моделей-с-корпусами-Bert-2.2\"><span class=\"toc-item-num\">2.2&nbsp;&nbsp;</span>Обучение моделей с корпусами Bert</a></span></li><li><span><a href=\"#Сравнение-результатов-моделей-обученных-на-корпусах-TF-IDF-и-Bert\" data-toc-modified-id=\"Сравнение-результатов-моделей-обученных-на-корпусах-TF-IDF-и-Bert-2.3\"><span class=\"toc-item-num\">2.3&nbsp;&nbsp;</span>Сравнение результатов моделей обученных на корпусах TF-IDF и Bert</a></span></li><li><span><a href=\"#Выводы\" data-toc-modified-id=\"Выводы-2.4\"><span class=\"toc-item-num\">2.4&nbsp;&nbsp;</span>Выводы</a></span></li></ul></li><li><span><a href=\"#Общие-выводы\" data-toc-modified-id=\"Общие-выводы-3\"><span class=\"toc-item-num\">3&nbsp;&nbsp;</span>Общие выводы</a></span></li></ul></div>"
   ]
  },
  {
   "cell_type": "markdown",
   "metadata": {},
   "source": [
    "# Проект для анализа таксичности нового сервиса интернет магазина."
   ]
  },
  {
   "cell_type": "markdown",
   "metadata": {},
   "source": [
    "Интернет-магазин запускает новый сервис и теперь пользователи могут редактировать и дополнять описания товаров, как в вики-сообществах. То есть клиенты предлагают свои правки и комментируют изменения других. Магазину нужен инструмент, который будет искать токсичные комментарии и отправлять их на модерацию. \n",
    "\n",
    "Обучим модель классифицировать комментарии на позитивные и негативные на основании набора данных с разметкой о токсичности правок. Построеная модель должна иметь метрику качества *F1* не меньше 0.75. \n",
    "\n",
    "**В ходе проекта необходимо сделать следующее**\n",
    "\n",
    "1. Загрузить и подготовить данные.\n",
    "2. Обучить и проанализировать разные модели. \n",
    "3. Сделать выводы.\n"
   ]
  },
  {
   "cell_type": "markdown",
   "metadata": {},
   "source": [
    "## Подготовка"
   ]
  },
  {
   "cell_type": "markdown",
   "metadata": {},
   "source": [
    "Строить модель будем при помощи TF-IDF."
   ]
  },
  {
   "cell_type": "markdown",
   "metadata": {},
   "source": [
    "Импортируем требуемые библиотеки."
   ]
  },
  {
   "cell_type": "code",
   "execution_count": 1,
   "metadata": {
    "scrolled": true
   },
   "outputs": [],
   "source": [
    "import pandas as pd\n",
    "import seaborn as sns\n",
    "import matplotlib.pyplot as plt\n",
    "import numpy as np\n",
    "\n",
    "import nltk\n",
    "from nltk.stem import WordNetLemmatizer \n",
    "from nltk.corpus import stopwords as nltk_stopwords\n",
    "from nltk.tokenize import word_tokenize\n",
    "\n",
    "import re \n",
    "from tqdm import notebook \n",
    "from tqdm.notebook import tqdm\n",
    "\n",
    "from sklearn.feature_extraction.text import TfidfVectorizer \n",
    "from nltk.corpus import stopwords\n",
    "import nltk\n",
    "\n",
    "import torch\n",
    "import transformers\n",
    "\n",
    "from sklearn.model_selection import train_test_split\n",
    "from sklearn.model_selection import StratifiedKFold\n",
    "from sklearn.model_selection import GridSearchCV\n",
    "from sklearn.model_selection import KFold\n",
    "\n",
    "from sklearn.linear_model import LogisticRegression\n",
    "from sklearn.ensemble import RandomForestClassifier\n",
    "from sklearn.neighbors import KNeighborsClassifier\n",
    "from sklearn.linear_model import LogisticRegressionCV\n",
    "\n",
    "from catboost import CatBoostClassifier\n",
    "from catboost import cv\n",
    "from catboost import Pool\n",
    "\n",
    "from sklearn.metrics import f1_score\n",
    "from sklearn.metrics import accuracy_score\n",
    "from sklearn.metrics import plot_precision_recall_curve"
   ]
  },
  {
   "cell_type": "code",
   "execution_count": 2,
   "metadata": {},
   "outputs": [],
   "source": [
    "tqdm.pandas()"
   ]
  },
  {
   "cell_type": "markdown",
   "metadata": {},
   "source": [
    "Прочитаем данные из файла и выведем на экран первые 5 строк датасета."
   ]
  },
  {
   "cell_type": "code",
   "execution_count": 3,
   "metadata": {},
   "outputs": [],
   "source": [
    "data = pd.read_csv(\"toxic_comments.csv\")"
   ]
  },
  {
   "cell_type": "code",
   "execution_count": 4,
   "metadata": {
    "scrolled": false
   },
   "outputs": [
    {
     "data": {
      "text/html": [
       "<div>\n",
       "<style scoped>\n",
       "    .dataframe tbody tr th:only-of-type {\n",
       "        vertical-align: middle;\n",
       "    }\n",
       "\n",
       "    .dataframe tbody tr th {\n",
       "        vertical-align: top;\n",
       "    }\n",
       "\n",
       "    .dataframe thead th {\n",
       "        text-align: right;\n",
       "    }\n",
       "</style>\n",
       "<table border=\"1\" class=\"dataframe\">\n",
       "  <thead>\n",
       "    <tr style=\"text-align: right;\">\n",
       "      <th></th>\n",
       "      <th>text</th>\n",
       "      <th>toxic</th>\n",
       "    </tr>\n",
       "  </thead>\n",
       "  <tbody>\n",
       "    <tr>\n",
       "      <th>0</th>\n",
       "      <td>Explanation\\nWhy the edits made under my usern...</td>\n",
       "      <td>0</td>\n",
       "    </tr>\n",
       "    <tr>\n",
       "      <th>1</th>\n",
       "      <td>D'aww! He matches this background colour I'm s...</td>\n",
       "      <td>0</td>\n",
       "    </tr>\n",
       "    <tr>\n",
       "      <th>2</th>\n",
       "      <td>Hey man, I'm really not trying to edit war. It...</td>\n",
       "      <td>0</td>\n",
       "    </tr>\n",
       "    <tr>\n",
       "      <th>3</th>\n",
       "      <td>\"\\nMore\\nI can't make any real suggestions on ...</td>\n",
       "      <td>0</td>\n",
       "    </tr>\n",
       "    <tr>\n",
       "      <th>4</th>\n",
       "      <td>You, sir, are my hero. Any chance you remember...</td>\n",
       "      <td>0</td>\n",
       "    </tr>\n",
       "  </tbody>\n",
       "</table>\n",
       "</div>"
      ],
      "text/plain": [
       "                                                text  toxic\n",
       "0  Explanation\\nWhy the edits made under my usern...      0\n",
       "1  D'aww! He matches this background colour I'm s...      0\n",
       "2  Hey man, I'm really not trying to edit war. It...      0\n",
       "3  \"\\nMore\\nI can't make any real suggestions on ...      0\n",
       "4  You, sir, are my hero. Any chance you remember...      0"
      ]
     },
     "metadata": {},
     "output_type": "display_data"
    }
   ],
   "source": [
    "display(data.head())"
   ]
  },
  {
   "cell_type": "markdown",
   "metadata": {},
   "source": [
    "Выведем информацию по датасету и изучим данные"
   ]
  },
  {
   "cell_type": "code",
   "execution_count": 5,
   "metadata": {
    "scrolled": true
   },
   "outputs": [
    {
     "name": "stdout",
     "output_type": "stream",
     "text": [
      "<class 'pandas.core.frame.DataFrame'>\n",
      "RangeIndex: 159571 entries, 0 to 159570\n",
      "Data columns (total 2 columns):\n",
      " #   Column  Non-Null Count   Dtype \n",
      "---  ------  --------------   ----- \n",
      " 0   text    159571 non-null  object\n",
      " 1   toxic   159571 non-null  int64 \n",
      "dtypes: int64(1), object(1)\n",
      "memory usage: 2.4+ MB\n"
     ]
    }
   ],
   "source": [
    "data.info()"
   ]
  },
  {
   "cell_type": "code",
   "execution_count": 6,
   "metadata": {},
   "outputs": [
    {
     "data": {
      "text/html": [
       "<div>\n",
       "<style scoped>\n",
       "    .dataframe tbody tr th:only-of-type {\n",
       "        vertical-align: middle;\n",
       "    }\n",
       "\n",
       "    .dataframe tbody tr th {\n",
       "        vertical-align: top;\n",
       "    }\n",
       "\n",
       "    .dataframe thead th {\n",
       "        text-align: right;\n",
       "    }\n",
       "</style>\n",
       "<table border=\"1\" class=\"dataframe\">\n",
       "  <thead>\n",
       "    <tr style=\"text-align: right;\">\n",
       "      <th></th>\n",
       "      <th>text</th>\n",
       "      <th>toxic</th>\n",
       "    </tr>\n",
       "  </thead>\n",
       "  <tbody>\n",
       "    <tr>\n",
       "      <th>count</th>\n",
       "      <td>159571</td>\n",
       "      <td>159571.000000</td>\n",
       "    </tr>\n",
       "    <tr>\n",
       "      <th>unique</th>\n",
       "      <td>159571</td>\n",
       "      <td>NaN</td>\n",
       "    </tr>\n",
       "    <tr>\n",
       "      <th>top</th>\n",
       "      <td>Explanation\\nWhy the edits made under my usern...</td>\n",
       "      <td>NaN</td>\n",
       "    </tr>\n",
       "    <tr>\n",
       "      <th>freq</th>\n",
       "      <td>1</td>\n",
       "      <td>NaN</td>\n",
       "    </tr>\n",
       "    <tr>\n",
       "      <th>mean</th>\n",
       "      <td>NaN</td>\n",
       "      <td>0.101679</td>\n",
       "    </tr>\n",
       "    <tr>\n",
       "      <th>std</th>\n",
       "      <td>NaN</td>\n",
       "      <td>0.302226</td>\n",
       "    </tr>\n",
       "    <tr>\n",
       "      <th>min</th>\n",
       "      <td>NaN</td>\n",
       "      <td>0.000000</td>\n",
       "    </tr>\n",
       "    <tr>\n",
       "      <th>25%</th>\n",
       "      <td>NaN</td>\n",
       "      <td>0.000000</td>\n",
       "    </tr>\n",
       "    <tr>\n",
       "      <th>50%</th>\n",
       "      <td>NaN</td>\n",
       "      <td>0.000000</td>\n",
       "    </tr>\n",
       "    <tr>\n",
       "      <th>75%</th>\n",
       "      <td>NaN</td>\n",
       "      <td>0.000000</td>\n",
       "    </tr>\n",
       "    <tr>\n",
       "      <th>max</th>\n",
       "      <td>NaN</td>\n",
       "      <td>1.000000</td>\n",
       "    </tr>\n",
       "  </tbody>\n",
       "</table>\n",
       "</div>"
      ],
      "text/plain": [
       "                                                     text          toxic\n",
       "count                                              159571  159571.000000\n",
       "unique                                             159571            NaN\n",
       "top     Explanation\\nWhy the edits made under my usern...            NaN\n",
       "freq                                                    1            NaN\n",
       "mean                                                  NaN       0.101679\n",
       "std                                                   NaN       0.302226\n",
       "min                                                   NaN       0.000000\n",
       "25%                                                   NaN       0.000000\n",
       "50%                                                   NaN       0.000000\n",
       "75%                                                   NaN       0.000000\n",
       "max                                                   NaN       1.000000"
      ]
     },
     "execution_count": 6,
     "metadata": {},
     "output_type": "execute_result"
    }
   ],
   "source": [
    "data.describe(include='all')"
   ]
  },
  {
   "cell_type": "markdown",
   "metadata": {},
   "source": [
    "Как видно из описания столбца 'toxic'у нас имеется достаточно сильный дисбаланс классов. Построим графическое отображение данной метрики, чтобы лучши представлять степень дисбаланса"
   ]
  },
  {
   "cell_type": "code",
   "execution_count": 7,
   "metadata": {},
   "outputs": [
    {
     "data": {
      "image/png": "[encoded data removed]",
      "text/plain": [
       "<Figure size 720x576 with 1 Axes>"
      ]
     },
     "metadata": {
      "needs_background": "light"
     },
     "output_type": "display_data"
    }
   ],
   "source": [
    "plt.figure(figsize = (10, 8))\n",
    "ax = sns.countplot(x = data['toxic'])\n",
    "ax.set_yscale('log')\n",
    "total=len(data['toxic'])\n",
    "for p in ax.patches:\n",
    "    px = p.get_bbox().get_points()[:,0]\n",
    "    py = p.get_bbox().get_points()[1,1]\n",
    "    ax.annotate('{:.1f}%'.format(100.*py/total), (px.mean(), py), ha='center', va='bottom')\n",
    "    "
   ]
  },
  {
   "cell_type": "markdown",
   "metadata": {},
   "source": [
    "Диаграмма подтверждает наши предварительные выводы, что модель имеет очень сильный дисбаланс целевого признака, поэтом использовать в качестве метрики accuracy не имеет смысла (так как даже, если модель будет предсказывать все сообщения как не токсичные, данная метрика будет равна почти 0,9). Поэтому в данном проекте восользуемся f1 метрикой."
   ]
  },
  {
   "cell_type": "markdown",
   "metadata": {},
   "source": [
    "### Подготовка корпусов TF-IDF"
   ]
  },
  {
   "cell_type": "markdown",
   "metadata": {},
   "source": [
    "Цитаты приведены на английском языке, это необходимо будет учесть при создании регулярных выражений.  Сам датасет заполнен полностью, поэтому можем начать с ним рабоать. Создадим столбец с лематизированным текстом, для этого из nltk загузим требуемые данные и инициализируем лематизатор."
   ]
  },
  {
   "cell_type": "code",
   "execution_count": 9,
   "metadata": {
    "scrolled": true
   },
   "outputs": [
    {
     "name": "stderr",
     "output_type": "stream",
     "text": [
      "[nltk_data] Downloading package wordnet to\n",
      "[nltk_data]     C:\\Users\\Ярослав\\AppData\\Roaming\\nltk_data...\n",
      "[nltk_data]   Package wordnet is already up-to-date!\n"
     ]
    },
    {
     "data": {
      "text/plain": [
       "True"
      ]
     },
     "execution_count": 9,
     "metadata": {},
     "output_type": "execute_result"
    }
   ],
   "source": [
    "nltk.download('wordnet')"
   ]
  },
  {
   "cell_type": "code",
   "execution_count": 10,
   "metadata": {},
   "outputs": [
    {
     "name": "stderr",
     "output_type": "stream",
     "text": [
      "[nltk_data] Downloading package omw-1.4 to\n",
      "[nltk_data]     C:\\Users\\Ярослав\\AppData\\Roaming\\nltk_data...\n",
      "[nltk_data]   Package omw-1.4 is already up-to-date!\n"
     ]
    },
    {
     "data": {
      "text/plain": [
       "True"
      ]
     },
     "execution_count": 10,
     "metadata": {},
     "output_type": "execute_result"
    }
   ],
   "source": [
    "nltk.download('omw-1.4')"
   ]
  },
  {
   "cell_type": "code",
   "execution_count": 11,
   "metadata": {
    "scrolled": true
   },
   "outputs": [
    {
     "name": "stderr",
     "output_type": "stream",
     "text": [
      "[nltk_data] Downloading package punkt to\n",
      "[nltk_data]     C:\\Users\\Ярослав\\AppData\\Roaming\\nltk_data...\n",
      "[nltk_data]   Package punkt is already up-to-date!\n"
     ]
    },
    {
     "data": {
      "text/plain": [
       "True"
      ]
     },
     "execution_count": 11,
     "metadata": {},
     "output_type": "execute_result"
    }
   ],
   "source": [
    "nltk.download('punkt')"
   ]
  },
  {
   "cell_type": "code",
   "execution_count": 12,
   "metadata": {},
   "outputs": [],
   "source": [
    "lemmatizer = WordNetLemmatizer()"
   ]
  },
  {
   "cell_type": "markdown",
   "metadata": {},
   "source": [
    "Создадим две функции: одну для того, чтобы выбрать из текста только слова на латинице, вторую - непосредственно для лематизации текста."
   ]
  },
  {
   "cell_type": "code",
   "execution_count": 13,
   "metadata": {},
   "outputs": [],
   "source": [
    "def clear_text(text):\n",
    "    new_text = re.sub(r'[^a-zA-Z]', ' ', text)\n",
    "    \n",
    "    new_text = new_text.split()\n",
    "    return ' '.join(new_text)\n",
    "\n",
    "def lemmatize(text):\n",
    "\n",
    "    text_list = nltk.word_tokenize(text)\n",
    "    lemm_list = []\n",
    "    \n",
    "    for word in text_list:\n",
    "        lemm_list.append(lemmatizer.lemmatize(word))\n",
    "    \n",
    "    lemm_text = \" \".join(lemm_list)\n",
    "        \n",
    "    return lemm_text"
   ]
  },
  {
   "cell_type": "markdown",
   "metadata": {},
   "source": [
    "Проверим работоспособность наших функций передав им фразу на английском языке."
   ]
  },
  {
   "cell_type": "code",
   "execution_count": 14,
   "metadata": {},
   "outputs": [
    {
     "data": {
      "text/plain": [
       "'More I can t make any real suggestion'"
      ]
     },
     "execution_count": 14,
     "metadata": {},
     "output_type": "execute_result"
    }
   ],
   "source": [
    "text_1 = \"More I can't make any real suggestions\"\n",
    "text_1 = clear_text(text_1)\n",
    "new_text_1 = lemmatize(text_1)\n",
    "new_text_1"
   ]
  },
  {
   "cell_type": "markdown",
   "metadata": {},
   "source": [
    "Функции работают нормально, поэтому применим их к нашим данным. Учитывая, что размер датасета достаточно большой, то операцию лемматизации будем производить батчами."
   ]
  },
  {
   "cell_type": "code",
   "execution_count": 15,
   "metadata": {
    "scrolled": true
   },
   "outputs": [
    {
     "data": {
      "application/vnd.jupyter.widget-view+json": {
       "model_id": "dca7d7a2b6d34e13ba6a2850d3d4e534",
       "version_major": 2,
       "version_minor": 0
      },
      "text/plain": [
       "  0%|          | 0/159571 [00:00<?, ?it/s]"
      ]
     },
     "metadata": {},
     "output_type": "display_data"
    }
   ],
   "source": [
    "data['lemm_text'] = data['text'].progress_apply(clear_text)"
   ]
  },
  {
   "cell_type": "code",
   "execution_count": 16,
   "metadata": {
    "scrolled": true
   },
   "outputs": [
    {
     "data": {
      "application/vnd.jupyter.widget-view+json": {
       "model_id": "2ec2354d02764465a59b2446f03d35bc",
       "version_major": 2,
       "version_minor": 0
      },
      "text/plain": [
       "  0%|          | 0/159 [00:00<?, ?it/s]"
      ]
     },
     "metadata": {},
     "output_type": "display_data"
    },
    {
     "name": "stderr",
     "output_type": "stream",
     "text": [
      "C:\\Users\\Ярослав\\AppData\\Local\\Temp\\ipykernel_12284\\211739927.py:3: SettingWithCopyWarning: \n",
      "A value is trying to be set on a copy of a slice from a DataFrame\n",
      "\n",
      "See the caveats in the documentation: https://pandas.pydata.org/pandas-docs/stable/user_guide/indexing.html#returning-a-view-versus-a-copy\n",
      "  data['lemm_text'][i:i+batch_size] = data['lemm_text'][i:i+batch_size].apply(lemmatize)\n"
     ]
    }
   ],
   "source": [
    "batch_size = 1000\n",
    "for i in notebook.tqdm(range(data.shape[0] // batch_size)):\n",
    "        data['lemm_text'][i:i+batch_size] = data['lemm_text'][i:i+batch_size].apply(lemmatize) \n",
    "        "
   ]
  },
  {
   "cell_type": "markdown",
   "metadata": {},
   "source": [
    "Выведем на экран получившийся датасет."
   ]
  },
  {
   "cell_type": "code",
   "execution_count": 17,
   "metadata": {},
   "outputs": [
    {
     "data": {
      "text/html": [
       "<div>\n",
       "<style scoped>\n",
       "    .dataframe tbody tr th:only-of-type {\n",
       "        vertical-align: middle;\n",
       "    }\n",
       "\n",
       "    .dataframe tbody tr th {\n",
       "        vertical-align: top;\n",
       "    }\n",
       "\n",
       "    .dataframe thead th {\n",
       "        text-align: right;\n",
       "    }\n",
       "</style>\n",
       "<table border=\"1\" class=\"dataframe\">\n",
       "  <thead>\n",
       "    <tr style=\"text-align: right;\">\n",
       "      <th></th>\n",
       "      <th>text</th>\n",
       "      <th>toxic</th>\n",
       "      <th>lemm_text</th>\n",
       "    </tr>\n",
       "  </thead>\n",
       "  <tbody>\n",
       "    <tr>\n",
       "      <th>0</th>\n",
       "      <td>Explanation\\nWhy the edits made under my usern...</td>\n",
       "      <td>0</td>\n",
       "      <td>Explanation Why the edits made under my userna...</td>\n",
       "    </tr>\n",
       "    <tr>\n",
       "      <th>1</th>\n",
       "      <td>D'aww! He matches this background colour I'm s...</td>\n",
       "      <td>0</td>\n",
       "      <td>D aww He match this background colour I m seem...</td>\n",
       "    </tr>\n",
       "    <tr>\n",
       "      <th>2</th>\n",
       "      <td>Hey man, I'm really not trying to edit war. It...</td>\n",
       "      <td>0</td>\n",
       "      <td>Hey man I m really not trying to edit war It s...</td>\n",
       "    </tr>\n",
       "    <tr>\n",
       "      <th>3</th>\n",
       "      <td>\"\\nMore\\nI can't make any real suggestions on ...</td>\n",
       "      <td>0</td>\n",
       "      <td>More I can t make any real suggestion on impro...</td>\n",
       "    </tr>\n",
       "    <tr>\n",
       "      <th>4</th>\n",
       "      <td>You, sir, are my hero. Any chance you remember...</td>\n",
       "      <td>0</td>\n",
       "      <td>You sir are my hero Any chance you remember wh...</td>\n",
       "    </tr>\n",
       "    <tr>\n",
       "      <th>...</th>\n",
       "      <td>...</td>\n",
       "      <td>...</td>\n",
       "      <td>...</td>\n",
       "    </tr>\n",
       "    <tr>\n",
       "      <th>159566</th>\n",
       "      <td>\":::::And for the second time of asking, when ...</td>\n",
       "      <td>0</td>\n",
       "      <td>And for the second time of asking when your vi...</td>\n",
       "    </tr>\n",
       "    <tr>\n",
       "      <th>159567</th>\n",
       "      <td>You should be ashamed of yourself \\n\\nThat is ...</td>\n",
       "      <td>0</td>\n",
       "      <td>You should be ashamed of yourself That is a ho...</td>\n",
       "    </tr>\n",
       "    <tr>\n",
       "      <th>159568</th>\n",
       "      <td>Spitzer \\n\\nUmm, theres no actual article for ...</td>\n",
       "      <td>0</td>\n",
       "      <td>Spitzer Umm theres no actual article for prost...</td>\n",
       "    </tr>\n",
       "    <tr>\n",
       "      <th>159569</th>\n",
       "      <td>And it looks like it was actually you who put ...</td>\n",
       "      <td>0</td>\n",
       "      <td>And it looks like it was actually you who put ...</td>\n",
       "    </tr>\n",
       "    <tr>\n",
       "      <th>159570</th>\n",
       "      <td>\"\\nAnd ... I really don't think you understand...</td>\n",
       "      <td>0</td>\n",
       "      <td>And I really don t think you understand I came...</td>\n",
       "    </tr>\n",
       "  </tbody>\n",
       "</table>\n",
       "<p>159571 rows × 3 columns</p>\n",
       "</div>"
      ],
      "text/plain": [
       "                                                     text  toxic  \\\n",
       "0       Explanation\\nWhy the edits made under my usern...      0   \n",
       "1       D'aww! He matches this background colour I'm s...      0   \n",
       "2       Hey man, I'm really not trying to edit war. It...      0   \n",
       "3       \"\\nMore\\nI can't make any real suggestions on ...      0   \n",
       "4       You, sir, are my hero. Any chance you remember...      0   \n",
       "...                                                   ...    ...   \n",
       "159566  \":::::And for the second time of asking, when ...      0   \n",
       "159567  You should be ashamed of yourself \\n\\nThat is ...      0   \n",
       "159568  Spitzer \\n\\nUmm, theres no actual article for ...      0   \n",
       "159569  And it looks like it was actually you who put ...      0   \n",
       "159570  \"\\nAnd ... I really don't think you understand...      0   \n",
       "\n",
       "                                                lemm_text  \n",
       "0       Explanation Why the edits made under my userna...  \n",
       "1       D aww He match this background colour I m seem...  \n",
       "2       Hey man I m really not trying to edit war It s...  \n",
       "3       More I can t make any real suggestion on impro...  \n",
       "4       You sir are my hero Any chance you remember wh...  \n",
       "...                                                   ...  \n",
       "159566  And for the second time of asking when your vi...  \n",
       "159567  You should be ashamed of yourself That is a ho...  \n",
       "159568  Spitzer Umm theres no actual article for prost...  \n",
       "159569  And it looks like it was actually you who put ...  \n",
       "159570  And I really don t think you understand I came...  \n",
       "\n",
       "[159571 rows x 3 columns]"
      ]
     },
     "metadata": {},
     "output_type": "display_data"
    }
   ],
   "source": [
    "display(data)"
   ]
  },
  {
   "cell_type": "markdown",
   "metadata": {},
   "source": [
    "Функции отработали корректно. Данные преобразовались нормально."
   ]
  },
  {
   "cell_type": "markdown",
   "metadata": {},
   "source": [
    "Чтобы получить правильный результат на тесте выделим целевой признак и разделем исходные данные на тестовую и тренировочную выборку."
   ]
  },
  {
   "cell_type": "code",
   "execution_count": 18,
   "metadata": {},
   "outputs": [],
   "source": [
    "data_train, data_test = train_test_split(data, test_size=0.2, random_state=123) "
   ]
  },
  {
   "cell_type": "code",
   "execution_count": 19,
   "metadata": {},
   "outputs": [],
   "source": [
    "target_train = data_train['toxic']\n",
    "target_test = data_test['toxic']"
   ]
  },
  {
   "cell_type": "code",
   "execution_count": 20,
   "metadata": {},
   "outputs": [],
   "source": [
    "corpus_train = data_train['lemm_text']\n",
    "corpus_test = data_test['lemm_text']"
   ]
  },
  {
   "cell_type": "markdown",
   "metadata": {},
   "source": [
    "Очистим корпус от стоп слов и вычислим TF-IDF для корпусов. Обучать TF-IDF будем только на трэйне. После применения TF-IDF выведем информацию о размерах получившихся корпусов, чтобы убедиться, что код отработал правильно."
   ]
  },
  {
   "cell_type": "code",
   "execution_count": 21,
   "metadata": {},
   "outputs": [
    {
     "name": "stderr",
     "output_type": "stream",
     "text": [
      "[nltk_data] Downloading package stopwords to\n",
      "[nltk_data]     C:\\Users\\Ярослав\\AppData\\Roaming\\nltk_data...\n",
      "[nltk_data]   Package stopwords is already up-to-date!\n"
     ]
    }
   ],
   "source": [
    "nltk.download('stopwords')\n",
    "stopwords = set(nltk_stopwords.words('english'))"
   ]
  },
  {
   "cell_type": "code",
   "execution_count": 22,
   "metadata": {},
   "outputs": [],
   "source": [
    "count_tf_idf = TfidfVectorizer(stop_words=stopwords) \n",
    "tf_idf = count_tf_idf.fit(corpus_train) "
   ]
  },
  {
   "cell_type": "code",
   "execution_count": 23,
   "metadata": {},
   "outputs": [
    {
     "data": {
      "text/plain": [
       "(127656, 148034)"
      ]
     },
     "execution_count": 23,
     "metadata": {},
     "output_type": "execute_result"
    }
   ],
   "source": [
    "corpus_train = tf_idf.transform(corpus_train)\n",
    "corpus_train.shape"
   ]
  },
  {
   "cell_type": "code",
   "execution_count": 24,
   "metadata": {
    "scrolled": true
   },
   "outputs": [
    {
     "data": {
      "text/plain": [
       "(31915, 148034)"
      ]
     },
     "execution_count": 24,
     "metadata": {},
     "output_type": "execute_result"
    }
   ],
   "source": [
    "corpus_test = tf_idf.transform(corpus_test)\n",
    "corpus_test.shape"
   ]
  },
  {
   "cell_type": "markdown",
   "metadata": {},
   "source": [
    "Размерности по количеству признаков в корпусах совпали, поэтому можно сделать вывод, что вероятнее всего, преобразование проведено корректно"
   ]
  },
  {
   "cell_type": "markdown",
   "metadata": {},
   "source": [
    "### Подготовка корпусов Bert"
   ]
  },
  {
   "cell_type": "markdown",
   "metadata": {},
   "source": [
    "Проведём подготовку данных для корпусов полученных при помощи предообученной модели Bert. Для этого заново откроем файл с данными, чтобы работать первоначальной информацией."
   ]
  },
  {
   "cell_type": "code",
   "execution_count": 25,
   "metadata": {},
   "outputs": [],
   "source": [
    "data = pd.read_csv(\"toxic_comments.csv\")"
   ]
  },
  {
   "cell_type": "markdown",
   "metadata": {},
   "source": [
    "Создадим экземпляр модели, токинайзера и весов для Берта."
   ]
  },
  {
   "cell_type": "code",
   "execution_count": 26,
   "metadata": {
    "scrolled": false
   },
   "outputs": [
    {
     "name": "stderr",
     "output_type": "stream",
     "text": [
      "Some weights of the model checkpoint at bert-base-uncased were not used when initializing BertModel: ['cls.predictions.transform.LayerNorm.bias', 'cls.seq_relationship.bias', 'cls.seq_relationship.weight', 'cls.predictions.transform.LayerNorm.weight', 'cls.predictions.transform.dense.weight', 'cls.predictions.decoder.weight', 'cls.predictions.transform.dense.bias', 'cls.predictions.bias']\n",
      "- This IS expected if you are initializing BertModel from the checkpoint of a model trained on another task or with another architecture (e.g. initializing a BertForSequenceClassification model from a BertForPreTraining model).\n",
      "- This IS NOT expected if you are initializing BertModel from the checkpoint of a model that you expect to be exactly identical (initializing a BertForSequenceClassification model from a BertForSequenceClassification model).\n"
     ]
    }
   ],
   "source": [
    "model_class, tokenizer_class, pretrained_weights = (transformers.BertModel, \n",
    "                                                   transformers.BertTokenizer,\n",
    "                                                   'bert-base-uncased')\n",
    "\n",
    "bert_model = model_class.from_pretrained(pretrained_weights).cuda()\n",
    "bert_tokenizer = tokenizer_class.from_pretrained(pretrained_weights)"
   ]
  },
  {
   "cell_type": "markdown",
   "metadata": {},
   "source": [
    "Проведём токенизацию данных."
   ]
  },
  {
   "cell_type": "code",
   "execution_count": 27,
   "metadata": {
    "scrolled": true
   },
   "outputs": [
    {
     "data": {
      "application/vnd.jupyter.widget-view+json": {
       "model_id": "d76e235e77b943e98c677007abe9a682",
       "version_major": 2,
       "version_minor": 0
      },
      "text/plain": [
       "  0%|          | 0/159571 [00:00<?, ?it/s]"
      ]
     },
     "metadata": {},
     "output_type": "display_data"
    },
    {
     "name": "stderr",
     "output_type": "stream",
     "text": [
      "Truncation was not explicitly activated but `max_length` is provided a specific value, please use `truncation=True` to explicitly truncate examples to max length. Defaulting to 'longest_first' truncation strategy. If you encode pairs of sequences (GLUE-style) with the tokenizer you can select this strategy more precisely by providing a specific strategy to `truncation`.\n"
     ]
    },
    {
     "name": "stdout",
     "output_type": "stream",
     "text": [
      "CPU times: total: 2min 53s\n",
      "Wall time: 2min 54s\n"
     ]
    }
   ],
   "source": [
    "%%time\n",
    "tokenized = data['text'].progress_apply(\n",
    "    lambda x: bert_tokenizer.encode(x, max_length=512, add_special_tokens=True))"
   ]
  },
  {
   "cell_type": "markdown",
   "metadata": {},
   "source": [
    "Приведём тексты в корпусе к единой длине (padding)"
   ]
  },
  {
   "cell_type": "code",
   "execution_count": 28,
   "metadata": {},
   "outputs": [],
   "source": [
    "max_len = 0\n",
    "for i in tokenized.values:\n",
    "    if len(i) > max_len:\n",
    "        max_len = len(i)\n",
    "\n",
    "padded = np.array([i + [0]*(max_len - len(i)) for i in tokenized.values])"
   ]
  },
  {
   "cell_type": "markdown",
   "metadata": {},
   "source": [
    "Выведем информацию по размерам получившегося корпуса, поскольку bert не работает с текстами длиной больше 512 токенов"
   ]
  },
  {
   "cell_type": "code",
   "execution_count": 29,
   "metadata": {},
   "outputs": [
    {
     "data": {
      "text/plain": [
       "(159571, 512)"
      ]
     },
     "execution_count": 29,
     "metadata": {},
     "output_type": "execute_result"
    }
   ],
   "source": [
    "padded.shape"
   ]
  },
  {
   "cell_type": "markdown",
   "metadata": {},
   "source": [
    "Создадим маску, чтобы модель могла определить какие токены важные"
   ]
  },
  {
   "cell_type": "code",
   "execution_count": 30,
   "metadata": {},
   "outputs": [],
   "source": [
    "attention_mask = np.where(padded != 0, 1, 0)"
   ]
  },
  {
   "cell_type": "markdown",
   "metadata": {},
   "source": [
    "Проведём эмбэдинг. Данные будем подавать бачами по 50 строк."
   ]
  },
  {
   "cell_type": "code",
   "execution_count": 31,
   "metadata": {},
   "outputs": [
    {
     "data": {
      "application/vnd.jupyter.widget-view+json": {
       "model_id": "709421c336724d8097e4940df77ac63b",
       "version_major": 2,
       "version_minor": 0
      },
      "text/plain": [
       "  0%|          | 0/3192 [00:00<?, ?it/s]"
      ]
     },
     "metadata": {},
     "output_type": "display_data"
    },
    {
     "name": "stdout",
     "output_type": "stream",
     "text": [
      "CPU times: total: 1h 9min 5s\n",
      "Wall time: 1h 9min 13s\n"
     ]
    }
   ],
   "source": [
    "%%time\n",
    "batch_size = 50\n",
    "embeddings = []\n",
    "for i in notebook.tqdm(range(padded.shape[0] // batch_size+1)):\n",
    "    \n",
    "    batch = torch.LongTensor(padded[batch_size*i:batch_size*(i+1)]).cuda()\n",
    "    attention_mask_batch = torch.LongTensor(attention_mask[batch_size*i:batch_size*(i+1)]).cuda()\n",
    "    \n",
    "    with torch.no_grad():            \n",
    "        batch_embeddings = bert_model(batch, attention_mask=attention_mask_batch)\n",
    "        \n",
    "    embeddings.append(batch_embeddings[0][:,0,:].cpu().numpy())\n",
    "    "
   ]
  },
  {
   "cell_type": "markdown",
   "metadata": {},
   "source": [
    "Выделим корпуса для обучения и теста, а также целевые признаки."
   ]
  },
  {
   "cell_type": "code",
   "execution_count": 32,
   "metadata": {},
   "outputs": [],
   "source": [
    "target = data['toxic']\n",
    "corpus_bert = np.concatenate(embeddings)\n",
    "\n",
    "corpus_train_bert, corpus_test_bert, target_train_bert, target_test_bert = train_test_split(corpus_bert, target, \n",
    "                                                                                           test_size=0.2, \n",
    "                                                                                           random_state=123) "
   ]
  },
  {
   "cell_type": "markdown",
   "metadata": {},
   "source": [
    "Выведем информацию по размерам тренировочного корпуса и таргета."
   ]
  },
  {
   "cell_type": "code",
   "execution_count": 33,
   "metadata": {
    "scrolled": true
   },
   "outputs": [
    {
     "data": {
      "text/plain": [
       "(127656, 768)"
      ]
     },
     "execution_count": 33,
     "metadata": {},
     "output_type": "execute_result"
    }
   ],
   "source": [
    "corpus_train_bert.shape"
   ]
  },
  {
   "cell_type": "code",
   "execution_count": 34,
   "metadata": {},
   "outputs": [
    {
     "data": {
      "text/plain": [
       "(127656,)"
      ]
     },
     "execution_count": 34,
     "metadata": {},
     "output_type": "execute_result"
    }
   ],
   "source": [
    "target_train_bert.shape"
   ]
  },
  {
   "cell_type": "markdown",
   "metadata": {},
   "source": [
    "Выведем информацию по размерам тестового корпуса и таргета."
   ]
  },
  {
   "cell_type": "code",
   "execution_count": 35,
   "metadata": {},
   "outputs": [
    {
     "data": {
      "text/plain": [
       "(31915, 768)"
      ]
     },
     "execution_count": 35,
     "metadata": {},
     "output_type": "execute_result"
    }
   ],
   "source": [
    "corpus_test_bert.shape"
   ]
  },
  {
   "cell_type": "code",
   "execution_count": 36,
   "metadata": {},
   "outputs": [
    {
     "data": {
      "text/plain": [
       "(31915,)"
      ]
     },
     "execution_count": 36,
     "metadata": {},
     "output_type": "execute_result"
    }
   ],
   "source": [
    "target_test_bert.shape"
   ]
  },
  {
   "cell_type": "markdown",
   "metadata": {},
   "source": [
    "### Выводы"
   ]
  },
  {
   "cell_type": "markdown",
   "metadata": {},
   "source": [
    "В данном разделе были загружены исходные данные, проведён анализ дисбаланса целевого признака, был создан столбец с лемматизированным текстом из которого были созданы корпуса для обучения и теста. Также были созданы корпуса для обучения из обучающей и тестовой выборки при помощи TF-IDF и нейросети Bert."
   ]
  },
  {
   "cell_type": "markdown",
   "metadata": {},
   "source": [
    "## Обучение"
   ]
  },
  {
   "cell_type": "markdown",
   "metadata": {},
   "source": [
    "### Обучение моделей с корпусами TF-IDF"
   ]
  },
  {
   "cell_type": "markdown",
   "metadata": {},
   "source": [
    "Рассмотрим несколько моделей и подберём наиболее подходящую для решения задачи анализа тональности текста."
   ]
  },
  {
   "cell_type": "markdown",
   "metadata": {},
   "source": [
    "Обучим модель **логистической регрессии**."
   ]
  },
  {
   "cell_type": "code",
   "execution_count": 37,
   "metadata": {},
   "outputs": [
    {
     "name": "stdout",
     "output_type": "stream",
     "text": [
      "Результат f1 для линейной модели равен 0.7334615384615384\n"
     ]
    },
    {
     "name": "stderr",
     "output_type": "stream",
     "text": [
      "C:\\Users\\Ярослав\\AppData\\Local\\Programs\\Python\\Python310\\lib\\site-packages\\sklearn\\linear_model\\_logistic.py:814: ConvergenceWarning: lbfgs failed to converge (status=1):\n",
      "STOP: TOTAL NO. of ITERATIONS REACHED LIMIT.\n",
      "\n",
      "Increase the number of iterations (max_iter) or scale the data as shown in:\n",
      "    https://scikit-learn.org/stable/modules/preprocessing.html\n",
      "Please also refer to the documentation for alternative solver options:\n",
      "    https://scikit-learn.org/stable/modules/linear_model.html#logistic-regression\n",
      "  n_iter_i = _check_optimize_result(\n"
     ]
    }
   ],
   "source": [
    "lin_model = LogisticRegression()\n",
    "lin_model.fit(corpus_train, target_train)\n",
    "\n",
    "predictions = lin_model.predict(corpus_test)\n",
    "print('Результат f1 для линейной модели равен', f1_score(target_test, predictions))"
   ]
  },
  {
   "cell_type": "markdown",
   "metadata": {},
   "source": [
    "Попробуем улучшить показатель логистической модели, указав информацию, что классы несбалансированы."
   ]
  },
  {
   "cell_type": "code",
   "execution_count": 38,
   "metadata": {
    "scrolled": true
   },
   "outputs": [
    {
     "name": "stdout",
     "output_type": "stream",
     "text": [
      "Результат f1 для линейной модели равен 0.7498959633791095\n"
     ]
    },
    {
     "name": "stderr",
     "output_type": "stream",
     "text": [
      "C:\\Users\\Ярослав\\AppData\\Local\\Programs\\Python\\Python310\\lib\\site-packages\\sklearn\\linear_model\\_logistic.py:814: ConvergenceWarning: lbfgs failed to converge (status=1):\n",
      "STOP: TOTAL NO. of ITERATIONS REACHED LIMIT.\n",
      "\n",
      "Increase the number of iterations (max_iter) or scale the data as shown in:\n",
      "    https://scikit-learn.org/stable/modules/preprocessing.html\n",
      "Please also refer to the documentation for alternative solver options:\n",
      "    https://scikit-learn.org/stable/modules/linear_model.html#logistic-regression\n",
      "  n_iter_i = _check_optimize_result(\n"
     ]
    }
   ],
   "source": [
    "lin_model = LogisticRegression(class_weight='balanced')\n",
    "lin_model.fit(corpus_train, target_train)\n",
    "\n",
    "predictions = lin_model.predict(corpus_test)\n",
    "print('Результат f1 для линейной модели равен', f1_score(target_test, predictions))"
   ]
  },
  {
   "cell_type": "markdown",
   "metadata": {},
   "source": [
    "Изменение гиперпараметра class_weight на 'balanced' позволило улучшить качество модели, однако, пока она не удовлетворяет требованиям технического задания."
   ]
  },
  {
   "cell_type": "markdown",
   "metadata": {},
   "source": [
    "Попробуем улучшить модель, для этого подберём гиперпараметр C при помощи LogisticRegressionCV "
   ]
  },
  {
   "cell_type": "code",
   "execution_count": 39,
   "metadata": {},
   "outputs": [
    {
     "name": "stderr",
     "output_type": "stream",
     "text": [
      "[Parallel(n_jobs=-1)]: Using backend LokyBackend with 12 concurrent workers.\n",
      "[Parallel(n_jobs=-1)]: Done   5 out of   5 | elapsed:  4.5min finished\n",
      "C:\\Users\\Ярослав\\AppData\\Local\\Programs\\Python\\Python310\\lib\\site-packages\\sklearn\\linear_model\\_logistic.py:814: ConvergenceWarning: lbfgs failed to converge (status=1):\n",
      "STOP: TOTAL NO. of ITERATIONS REACHED LIMIT.\n",
      "\n",
      "Increase the number of iterations (max_iter) or scale the data as shown in:\n",
      "    https://scikit-learn.org/stable/modules/preprocessing.html\n",
      "Please also refer to the documentation for alternative solver options:\n",
      "    https://scikit-learn.org/stable/modules/linear_model.html#logistic-regression\n",
      "  n_iter_i = _check_optimize_result(\n"
     ]
    },
    {
     "data": {
      "text/plain": [
       "LogisticRegressionCV(Cs=array([1.00000000e-01, 1.20679264e-01, 1.45634848e-01, 1.75751062e-01,\n",
       "       2.12095089e-01, 2.55954792e-01, 3.08884360e-01, 3.72759372e-01,\n",
       "       4.49843267e-01, 5.42867544e-01, 6.55128557e-01, 7.90604321e-01,\n",
       "       9.54095476e-01, 1.15139540e+00, 1.38949549e+00, 1.67683294e+00,\n",
       "       2.02358965e+00, 2.44205309e+00, 2.94705170e+00, 3.55648031e+00,\n",
       "       4.29193426e+00, 5.17...\n",
       "       4.09491506e+01, 4.94171336e+01, 5.96362332e+01, 7.19685673e+01,\n",
       "       8.68511374e+01, 1.04811313e+02, 1.26485522e+02, 1.52641797e+02,\n",
       "       1.84206997e+02, 2.22299648e+02, 2.68269580e+02, 3.23745754e+02,\n",
       "       3.90693994e+02, 4.71486636e+02, 5.68986603e+02, 6.86648845e+02,\n",
       "       8.28642773e+02, 1.00000000e+03]),\n",
       "                     class_weight='balanced',\n",
       "                     cv=StratifiedKFold(n_splits=5, random_state=17, shuffle=True),\n",
       "                     n_jobs=-1, scoring='f1', verbose=1)"
      ]
     },
     "execution_count": 39,
     "metadata": {},
     "output_type": "execute_result"
    }
   ],
   "source": [
    "skf = StratifiedKFold(n_splits=5, shuffle=True, random_state=17)\n",
    "c_values = np.logspace(-1, 3, 50)\n",
    "\n",
    "logit_searcher = LogisticRegressionCV(Cs=c_values, \n",
    "                                      cv=skf, \n",
    "                                      verbose=1, \n",
    "                                      n_jobs=-1, \n",
    "                                      class_weight='balanced', \n",
    "                                      scoring='f1')\n",
    "logit_searcher.fit(corpus_train, target_train)"
   ]
  },
  {
   "cell_type": "code",
   "execution_count": 40,
   "metadata": {
    "scrolled": true
   },
   "outputs": [
    {
     "name": "stdout",
     "output_type": "stream",
     "text": [
      "Результат f1 на тренировочной выборке при кросс валидации 0.7778808684357024\n"
     ]
    }
   ],
   "source": [
    "print('Результат f1 на тренировочной выборке при кросс валидации', logit_searcher.scores_[1].max())"
   ]
  },
  {
   "cell_type": "code",
   "execution_count": 41,
   "metadata": {},
   "outputs": [
    {
     "name": "stdout",
     "output_type": "stream",
     "text": [
      "Оптимальное значение гиперпараметра C: [10.98541142]\n"
     ]
    }
   ],
   "source": [
    "print('Оптимальное значение гиперпараметра C:', logit_searcher.C_)"
   ]
  },
  {
   "cell_type": "markdown",
   "metadata": {},
   "source": [
    "Проверим полученные данные на тестовой выборке"
   ]
  },
  {
   "cell_type": "code",
   "execution_count": 42,
   "metadata": {
    "scrolled": true
   },
   "outputs": [
    {
     "name": "stdout",
     "output_type": "stream",
     "text": [
      "Результат f1 для линейной модели после подбора uиперпараметра C равен 0.7711413364872857\n"
     ]
    }
   ],
   "source": [
    "predictions = logit_searcher.predict(corpus_test)\n",
    "print('Результат f1 для линейной модели после подбора uиперпараметра C равен', f1_score(target_test, predictions))"
   ]
  },
  {
   "cell_type": "markdown",
   "metadata": {},
   "source": [
    "Поскольку на тренировочной и тестовой выборке метрики примерно равны, можно предположить, что нам не только удалось улучшить модель, но и добиться того, чтобы она не переобучилась."
   ]
  },
  {
   "cell_type": "markdown",
   "metadata": {},
   "source": [
    "Обучим модель **случайного леса**."
   ]
  },
  {
   "cell_type": "code",
   "execution_count": 43,
   "metadata": {},
   "outputs": [
    {
     "name": "stdout",
     "output_type": "stream",
     "text": [
      "f1 0.38476079685909553\n",
      "accuracy 0.7348582171392762\n"
     ]
    }
   ],
   "source": [
    "forest_model = RandomForestClassifier(class_weight='balanced', max_depth=20, random_state=123)\n",
    "forest_model.fit(corpus_train, target_train)\n",
    "\n",
    "predictions = forest_model.predict(corpus_test)\n",
    "print('f1',f1_score(target_test, predictions))\n",
    "print('accuracy',accuracy_score(target_test, predictions))"
   ]
  },
  {
   "cell_type": "markdown",
   "metadata": {},
   "source": [
    "Модель случайного леса очень не подходит для работы с данной задачей. Показатель метрики f1 очень низкий, попробуем улучшить его подобрав гиперпараметры при помощи GridSerchCV."
   ]
  },
  {
   "cell_type": "code",
   "execution_count": 44,
   "metadata": {},
   "outputs": [],
   "source": [
    "forest = RandomForestClassifier(class_weight='balanced', random_state=123)\n",
    "\n",
    "forest_params = {'max_depth': range(1,11),\n",
    "                'n_estimators': range(5, 100, 5)}\n",
    "\n",
    "forest_grid = GridSearchCV(forest, \n",
    "                         forest_params,\n",
    "                         cv=5, \n",
    "                         n_jobs=-1,\n",
    "                         scoring = 'f1',\n",
    "                         verbose=True)"
   ]
  },
  {
   "cell_type": "code",
   "execution_count": 45,
   "metadata": {},
   "outputs": [
    {
     "name": "stdout",
     "output_type": "stream",
     "text": [
      "Fitting 5 folds for each of 190 candidates, totalling 950 fits\n"
     ]
    },
    {
     "data": {
      "text/plain": [
       "GridSearchCV(cv=5,\n",
       "             estimator=RandomForestClassifier(class_weight='balanced',\n",
       "                                              random_state=123),\n",
       "             n_jobs=-1,\n",
       "             param_grid={'max_depth': range(1, 11),\n",
       "                         'n_estimators': range(5, 100, 5)},\n",
       "             scoring='f1', verbose=True)"
      ]
     },
     "execution_count": 45,
     "metadata": {},
     "output_type": "execute_result"
    }
   ],
   "source": [
    "forest_grid.fit(corpus_train, target_train)"
   ]
  },
  {
   "cell_type": "markdown",
   "metadata": {},
   "source": [
    "Лучшее сочетание параметров для модели случайного леса:"
   ]
  },
  {
   "cell_type": "code",
   "execution_count": 46,
   "metadata": {},
   "outputs": [
    {
     "data": {
      "text/plain": [
       "{'max_depth': 10, 'n_estimators': 95}"
      ]
     },
     "execution_count": 46,
     "metadata": {},
     "output_type": "execute_result"
    }
   ],
   "source": [
    "forest_grid.best_params_"
   ]
  },
  {
   "cell_type": "code",
   "execution_count": 47,
   "metadata": {},
   "outputs": [
    {
     "name": "stdout",
     "output_type": "stream",
     "text": [
      "Лучший результат f1 для модели случайного леса на кросс валидации при оптимальных параметрах равен 0.3622002419336437\n"
     ]
    }
   ],
   "source": [
    "print('Лучший результат f1 для модели случайного леса на кросс валидации при оптимальных параметрах равен', forest_grid.best_score_)"
   ]
  },
  {
   "cell_type": "markdown",
   "metadata": {},
   "source": [
    "Посчитаем значение метрики на тестовой выборке"
   ]
  },
  {
   "cell_type": "code",
   "execution_count": 48,
   "metadata": {},
   "outputs": [
    {
     "name": "stdout",
     "output_type": "stream",
     "text": [
      "Результат f1 для модели случайного леса с оптимальными параметрами на тестовой выборке равен 0.34767419292230056\n"
     ]
    }
   ],
   "source": [
    "predictions = forest_grid.predict(corpus_test)\n",
    "print('Результат f1 для модели случайного леса с оптимальными параметрами на тестовой выборке равен', f1_score(target_test, predictions))"
   ]
  },
  {
   "cell_type": "markdown",
   "metadata": {},
   "source": [
    "Даже с оптимальными параметрами модель случайного леса имеет весьма плохой результат и не дотягивает до установленного baseline."
   ]
  },
  {
   "cell_type": "markdown",
   "metadata": {},
   "source": [
    "Обучим модель **k ближайших соседей**."
   ]
  },
  {
   "cell_type": "code",
   "execution_count": 49,
   "metadata": {},
   "outputs": [
    {
     "name": "stdout",
     "output_type": "stream",
     "text": [
      "f1 0.27297297297297296\n"
     ]
    }
   ],
   "source": [
    "knn_model = KNeighborsClassifier()\n",
    "knn_model.fit(corpus_train, target_train)\n",
    "\n",
    "predictions = knn_model.predict(corpus_test)\n",
    "print('f1',f1_score(target_test, predictions))"
   ]
  },
  {
   "cell_type": "markdown",
   "metadata": {},
   "source": [
    "Постараемся улучшить показатель модели knn подобрав количество оптимальное количество ближайших соседей."
   ]
  },
  {
   "cell_type": "code",
   "execution_count": 50,
   "metadata": {},
   "outputs": [],
   "source": [
    "knn = KNeighborsClassifier()\n",
    "\n",
    "knn_params = {'n_neighbors': range(1,11)}\n",
    "\n",
    "knn_grid = GridSearchCV(knn, \n",
    "                         knn_params,\n",
    "                         cv=5, \n",
    "                         n_jobs=-1,\n",
    "                         scoring = 'f1',\n",
    "                         verbose=True)"
   ]
  },
  {
   "cell_type": "code",
   "execution_count": 51,
   "metadata": {
    "scrolled": true
   },
   "outputs": [
    {
     "name": "stdout",
     "output_type": "stream",
     "text": [
      "Fitting 5 folds for each of 10 candidates, totalling 50 fits\n"
     ]
    },
    {
     "data": {
      "text/plain": [
       "GridSearchCV(cv=5, estimator=KNeighborsClassifier(), n_jobs=-1,\n",
       "             param_grid={'n_neighbors': range(1, 11)}, scoring='f1',\n",
       "             verbose=True)"
      ]
     },
     "execution_count": 51,
     "metadata": {},
     "output_type": "execute_result"
    }
   ],
   "source": [
    "knn_grid.fit(corpus_train, target_train)"
   ]
  },
  {
   "cell_type": "markdown",
   "metadata": {},
   "source": [
    "Оптимальное количество соседей для модели KNN:"
   ]
  },
  {
   "cell_type": "code",
   "execution_count": 52,
   "metadata": {},
   "outputs": [
    {
     "data": {
      "text/plain": [
       "{'n_neighbors': 1}"
      ]
     },
     "execution_count": 52,
     "metadata": {},
     "output_type": "execute_result"
    }
   ],
   "source": [
    "knn_grid.best_params_"
   ]
  },
  {
   "cell_type": "code",
   "execution_count": 53,
   "metadata": {},
   "outputs": [
    {
     "name": "stdout",
     "output_type": "stream",
     "text": [
      "Лучший результат f1 для модели k ближайших соседей на кросс валидации при оптимальных параметрах (на кросс валидации) равен 0.35310748756851107\n"
     ]
    }
   ],
   "source": [
    "print('Лучший результат f1 для модели k ближайших соседей на кросс валидации при оптимальных параметрах (на кросс валидации) равен', knn_grid.best_score_)"
   ]
  },
  {
   "cell_type": "markdown",
   "metadata": {},
   "source": [
    "Посмотрим результат на тестовой вборке "
   ]
  },
  {
   "cell_type": "code",
   "execution_count": 54,
   "metadata": {},
   "outputs": [
    {
     "name": "stdout",
     "output_type": "stream",
     "text": [
      "Результат f1 для модели случайного леса с оптимальными параметрами на тестовой выборке равен 0.4063579820317899\n"
     ]
    }
   ],
   "source": [
    "predictions = knn_grid.predict(corpus_test)\n",
    "print('Результат f1 для модели случайного леса с оптимальными параметрами на тестовой выборке равен', f1_score(target_test, predictions))"
   ]
  },
  {
   "cell_type": "markdown",
   "metadata": {},
   "source": [
    "На тестовой выборке модель KNN получила более хороший показатель метрики f1, чем модель случайного леса, однако на трейне с кросс-валидацией у модели KNN качество хуже. При этом обе модели всё равно уступает логистической ригресии. "
   ]
  },
  {
   "cell_type": "markdown",
   "metadata": {},
   "source": [
    "Обучим модель **CatBoost**."
   ]
  },
  {
   "cell_type": "code",
   "execution_count": 55,
   "metadata": {},
   "outputs": [
    {
     "name": "stdout",
     "output_type": "stream",
     "text": [
      "Learning rate set to 0.081698\n",
      "0:\tlearn: 0.6466171\ttotal: 934ms\tremaining: 15m 33s\n",
      "100:\tlearn: 0.3040436\ttotal: 1m 9s\tremaining: 10m 14s\n",
      "200:\tlearn: 0.2628437\ttotal: 2m 15s\tremaining: 9m\n",
      "300:\tlearn: 0.2386347\ttotal: 3m 22s\tremaining: 7m 50s\n",
      "400:\tlearn: 0.2221686\ttotal: 4m 28s\tremaining: 6m 41s\n",
      "500:\tlearn: 0.2091541\ttotal: 5m 35s\tremaining: 5m 33s\n",
      "600:\tlearn: 0.1989944\ttotal: 6m 41s\tremaining: 4m 26s\n",
      "700:\tlearn: 0.1906123\ttotal: 7m 47s\tremaining: 3m 19s\n",
      "800:\tlearn: 0.1828781\ttotal: 8m 53s\tremaining: 2m 12s\n",
      "900:\tlearn: 0.1764432\ttotal: 10m\tremaining: 1m 5s\n",
      "999:\tlearn: 0.1705276\ttotal: 11m 5s\tremaining: 0us\n",
      "f1 0.7858217689349607\n"
     ]
    }
   ],
   "source": [
    "cat_model = CatBoostClassifier(random_state=123, \n",
    "                               verbose=100, \n",
    "                               class_weights=[1, 3]                        \n",
    "                               )\n",
    "cat_model.fit(corpus_train, target_train)\n",
    "\n",
    "predictions = cat_model.predict(corpus_test)\n",
    "print('f1',f1_score(target_test, predictions))"
   ]
  },
  {
   "cell_type": "markdown",
   "metadata": {},
   "source": [
    "Подберём оптимальное количество итераций при помощи встроенной кроссвалидации"
   ]
  },
  {
   "cell_type": "code",
   "execution_count": 56,
   "metadata": {},
   "outputs": [
    {
     "name": "stdout",
     "output_type": "stream",
     "text": [
      "Training on fold [0/5]\n",
      "\n",
      "bestTest = 0.1280226331\n",
      "bestIteration = 2997\n",
      "\n",
      "Training on fold [1/5]\n",
      "\n",
      "bestTest = 0.1322197116\n",
      "bestIteration = 2995\n",
      "\n",
      "Training on fold [2/5]\n",
      "\n",
      "bestTest = 0.1281280602\n",
      "bestIteration = 2999\n",
      "\n",
      "Training on fold [3/5]\n",
      "\n",
      "bestTest = 0.13084494\n",
      "bestIteration = 2996\n",
      "\n",
      "Training on fold [4/5]\n",
      "\n",
      "bestTest = 0.1320847301\n",
      "bestIteration = 2996\n",
      "\n"
     ]
    }
   ],
   "source": [
    "params = {\n",
    "    'loss_function': 'Logloss',\n",
    "    'iterations': 3000,\n",
    "    'custom_loss': 'F1'\n",
    "}\n",
    "\n",
    "cv_data = cv(\n",
    "    params=params, \n",
    "    pool=Pool(data=corpus_train, label=target_train),\n",
    "    fold_count=5,\n",
    "    shuffle=False, \n",
    "    partition_random_seed=0,\n",
    "    stratified=True, \n",
    "    verbose=False\n",
    ")"
   ]
  },
  {
   "cell_type": "code",
   "execution_count": 57,
   "metadata": {},
   "outputs": [
    {
     "name": "stdout",
     "output_type": "stream",
     "text": [
      "Лучшее значение F1: 0.7485+/-0.002 на шаге 2995\n"
     ]
    }
   ],
   "source": [
    "best_value = np.max(cv_data['test-F1-mean'])\n",
    "best_iter = np.argmax(cv_data['test-F1-mean'])\n",
    "print(\"Лучшее значение F1: {:.4f}+/-{:.3f} на шаге {}\".format(\n",
    "best_value, cv_data['test-Logloss-std'][best_iter], best_iter))"
   ]
  },
  {
   "cell_type": "code",
   "execution_count": 97,
   "metadata": {},
   "outputs": [
    {
     "name": "stdout",
     "output_type": "stream",
     "text": [
      "Learning rate set to 0.033992\n",
      "0:\tlearn: 0.6730537\ttotal: 724ms\tremaining: 31m 24s\n",
      "100:\tlearn: 0.3554637\ttotal: 1m 10s\tremaining: 29m 3s\n",
      "200:\tlearn: 0.3157775\ttotal: 2m 20s\tremaining: 27m 58s\n",
      "300:\tlearn: 0.2930791\ttotal: 3m 29s\tremaining: 26m 39s\n",
      "400:\tlearn: 0.2757000\ttotal: 4m 36s\tremaining: 25m 18s\n",
      "500:\tlearn: 0.2618765\ttotal: 5m 43s\tremaining: 24m 1s\n",
      "600:\tlearn: 0.2505332\ttotal: 6m 51s\tremaining: 22m 49s\n",
      "700:\tlearn: 0.2412890\ttotal: 7m 58s\tremaining: 21m 37s\n",
      "800:\tlearn: 0.2333915\ttotal: 9m 5s\tremaining: 20m 27s\n",
      "900:\tlearn: 0.2263918\ttotal: 10m 12s\tremaining: 19m 17s\n",
      "1000:\tlearn: 0.2202805\ttotal: 11m 20s\tremaining: 18m 7s\n",
      "1100:\tlearn: 0.2146513\ttotal: 12m 27s\tremaining: 16m 59s\n",
      "1200:\tlearn: 0.2096597\ttotal: 13m 34s\tremaining: 15m 50s\n",
      "1300:\tlearn: 0.2050804\ttotal: 14m 42s\tremaining: 14m 42s\n",
      "1400:\tlearn: 0.2009298\ttotal: 15m 49s\tremaining: 13m 34s\n",
      "1500:\tlearn: 0.1971187\ttotal: 16m 56s\tremaining: 12m 25s\n",
      "1600:\tlearn: 0.1934564\ttotal: 18m 3s\tremaining: 11m 17s\n",
      "1700:\tlearn: 0.1899547\ttotal: 19m 11s\tremaining: 10m 9s\n",
      "1800:\tlearn: 0.1867029\ttotal: 20m 18s\tremaining: 9m 1s\n",
      "1900:\tlearn: 0.1836702\ttotal: 21m 25s\tremaining: 7m 53s\n",
      "2000:\tlearn: 0.1805650\ttotal: 22m 32s\tremaining: 6m 46s\n",
      "2100:\tlearn: 0.1777914\ttotal: 23m 39s\tremaining: 5m 38s\n",
      "2200:\tlearn: 0.1751770\ttotal: 24m 47s\tremaining: 4m 30s\n",
      "2300:\tlearn: 0.1726656\ttotal: 25m 53s\tremaining: 3m 23s\n",
      "2400:\tlearn: 0.1703494\ttotal: 27m\tremaining: 2m 15s\n",
      "2500:\tlearn: 0.1683363\ttotal: 28m 6s\tremaining: 1m 8s\n",
      "2600:\tlearn: 0.1663245\ttotal: 29m 13s\tremaining: 674ms\n",
      "2601:\tlearn: 0.1663131\ttotal: 29m 13s\tremaining: 0us\n",
      "Результат f1 для модели CatBoost после подбора гиперпараметров 0.7868469370722752\n"
     ]
    }
   ],
   "source": [
    "cat_model = CatBoostClassifier(random_state=123, \n",
    "                               verbose=100, \n",
    "                               iterations=best_iter,\n",
    "                               class_weights=[1, 3]                        \n",
    "                               )\n",
    "cat_model.fit(corpus_train, target_train)\n",
    "\n",
    "predictions = cat_model.predict(corpus_test)\n",
    "print('Результат f1 для модели CatBoost после подбора гиперпараметров',f1_score(target_test, predictions))"
   ]
  },
  {
   "cell_type": "markdown",
   "metadata": {},
   "source": [
    "Построим precision-recall кривые для данных моделей и сравним их"
   ]
  },
  {
   "cell_type": "code",
   "execution_count": 59,
   "metadata": {
    "scrolled": false
   },
   "outputs": [
    {
     "name": "stderr",
     "output_type": "stream",
     "text": [
      "C:\\Users\\Ярослав\\AppData\\Local\\Programs\\Python\\Python310\\lib\\site-packages\\sklearn\\utils\\deprecation.py:87: FutureWarning: Function plot_precision_recall_curve is deprecated; Function `plot_precision_recall_curve` is deprecated in 1.0 and will be removed in 1.2. Use one of the class methods: PrecisionRecallDisplay.from_predictions or PrecisionRecallDisplay.from_estimator.\n",
      "  warnings.warn(msg, category=FutureWarning)\n",
      "C:\\Users\\Ярослав\\AppData\\Local\\Programs\\Python\\Python310\\lib\\site-packages\\sklearn\\utils\\deprecation.py:87: FutureWarning: Function plot_precision_recall_curve is deprecated; Function `plot_precision_recall_curve` is deprecated in 1.0 and will be removed in 1.2. Use one of the class methods: PrecisionRecallDisplay.from_predictions or PrecisionRecallDisplay.from_estimator.\n",
      "  warnings.warn(msg, category=FutureWarning)\n",
      "C:\\Users\\Ярослав\\AppData\\Local\\Programs\\Python\\Python310\\lib\\site-packages\\sklearn\\utils\\deprecation.py:87: FutureWarning: Function plot_precision_recall_curve is deprecated; Function `plot_precision_recall_curve` is deprecated in 1.0 and will be removed in 1.2. Use one of the class methods: PrecisionRecallDisplay.from_predictions or PrecisionRecallDisplay.from_estimator.\n",
      "  warnings.warn(msg, category=FutureWarning)\n",
      "C:\\Users\\Ярослав\\AppData\\Local\\Programs\\Python\\Python310\\lib\\site-packages\\sklearn\\utils\\deprecation.py:87: FutureWarning: Function plot_precision_recall_curve is deprecated; Function `plot_precision_recall_curve` is deprecated in 1.0 and will be removed in 1.2. Use one of the class methods: PrecisionRecallDisplay.from_predictions or PrecisionRecallDisplay.from_estimator.\n",
      "  warnings.warn(msg, category=FutureWarning)\n"
     ]
    },
    {
     "data": {
      "text/plain": [
       "<sklearn.metrics._plot.precision_recall_curve.PrecisionRecallDisplay at 0x2098af67580>"
      ]
     },
     "execution_count": 59,
     "metadata": {},
     "output_type": "execute_result"
    },
    {
     "data": {
      "image/png": "[encoded data removed]",
      "text/plain": [
       "<Figure size 864x576 with 1 Axes>"
      ]
     },
     "metadata": {
      "needs_background": "light"
     },
     "output_type": "display_data"
    }
   ],
   "source": [
    "plt.figure(figsize =(12,8))\n",
    "roc_disp = plot_precision_recall_curve(logit_searcher, corpus_test, target_test, ax=plt.axes(), name='LogisticRegression')\n",
    "plot_precision_recall_curve(forest_grid, corpus_test, target_test, ax=roc_disp.ax_, name='RandomForestClassifier')\n",
    "plot_precision_recall_curve(knn_grid, corpus_test, target_test, ax=roc_disp.ax_, name='KNeighborsClassifier')\n",
    "plot_precision_recall_curve(cat_model, corpus_test, target_test, ax=roc_disp.ax_, name='CatBoostClassifier')"
   ]
  },
  {
   "cell_type": "markdown",
   "metadata": {},
   "source": [
    "Из полученной диаграммы видно, что лучше всего себя показывают модели логистической регрессии и CatBoost, Другие соседи значительно уступают им. "
   ]
  },
  {
   "cell_type": "markdown",
   "metadata": {},
   "source": [
    "### Обучение моделей с корпусами Bert"
   ]
  },
  {
   "cell_type": "markdown",
   "metadata": {},
   "source": [
    "Обучим модели на корпусах полученных при помощи предообученной нейросети Bert. Чтобы сократить время обучения для начала обучим все модели а потом подберём гиперпараметры для лучших из них."
   ]
  },
  {
   "cell_type": "markdown",
   "metadata": {},
   "source": [
    "Обучим модель **логистической регрессии**"
   ]
  },
  {
   "cell_type": "code",
   "execution_count": 60,
   "metadata": {},
   "outputs": [
    {
     "name": "stdout",
     "output_type": "stream",
     "text": [
      "Результат f1 для линейной модели на корпусе Bert равен 0.6423992673992674\n"
     ]
    },
    {
     "name": "stderr",
     "output_type": "stream",
     "text": [
      "C:\\Users\\Ярослав\\AppData\\Local\\Programs\\Python\\Python310\\lib\\site-packages\\sklearn\\linear_model\\_logistic.py:814: ConvergenceWarning: lbfgs failed to converge (status=1):\n",
      "STOP: TOTAL NO. of ITERATIONS REACHED LIMIT.\n",
      "\n",
      "Increase the number of iterations (max_iter) or scale the data as shown in:\n",
      "    https://scikit-learn.org/stable/modules/preprocessing.html\n",
      "Please also refer to the documentation for alternative solver options:\n",
      "    https://scikit-learn.org/stable/modules/linear_model.html#logistic-regression\n",
      "  n_iter_i = _check_optimize_result(\n"
     ]
    }
   ],
   "source": [
    "lin_model_bert = LogisticRegression(class_weight='balanced')\n",
    "lin_model_bert.fit(corpus_train_bert, target_train_bert)\n",
    "\n",
    "predictions = lin_model_bert.predict(corpus_test_bert)\n",
    "print('Результат f1 для линейной модели на корпусе Bert равен', f1_score(target_test_bert, predictions))"
   ]
  },
  {
   "cell_type": "markdown",
   "metadata": {},
   "source": [
    "Обучим модель **случайного леса**."
   ]
  },
  {
   "cell_type": "code",
   "execution_count": 61,
   "metadata": {},
   "outputs": [
    {
     "name": "stdout",
     "output_type": "stream",
     "text": [
      "Результат f1 для модели случайного леса на корпусе Bert равен 0.5875394321766562\n"
     ]
    }
   ],
   "source": [
    "forest_model_bert = RandomForestClassifier(class_weight='balanced', max_depth=20, random_state=123, n_jobs=-1)\n",
    "forest_model_bert.fit(corpus_train_bert, target_train_bert)\n",
    "\n",
    "predictions = forest_model_bert.predict(corpus_test_bert)\n",
    "print('Результат f1 для модели случайного леса на корпусе Bert равен',f1_score(target_test_bert, predictions))"
   ]
  },
  {
   "cell_type": "markdown",
   "metadata": {},
   "source": [
    "Обучим модель **k ближайших соседей**."
   ]
  },
  {
   "cell_type": "code",
   "execution_count": 62,
   "metadata": {},
   "outputs": [
    {
     "name": "stdout",
     "output_type": "stream",
     "text": [
      "Результат f1 для модели KNN на корпусе Bert равен 0.6071558963125229\n"
     ]
    }
   ],
   "source": [
    "knn_model_bert = KNeighborsClassifier()\n",
    "knn_model_bert.fit(corpus_train_bert, target_train_bert)\n",
    "\n",
    "predictions = knn_model_bert.predict(corpus_test_bert)\n",
    "print('Результат f1 для модели KNN на корпусе Bert равен',f1_score(target_test_bert, predictions))"
   ]
  },
  {
   "cell_type": "markdown",
   "metadata": {},
   "source": [
    "Обучим модель **CatBoost**."
   ]
  },
  {
   "cell_type": "code",
   "execution_count": 81,
   "metadata": {},
   "outputs": [
    {
     "name": "stdout",
     "output_type": "stream",
     "text": [
      "Learning rate set to 0.081698\n",
      "0:\tlearn: 0.6330550\ttotal: 130ms\tremaining: 2m 10s\n",
      "100:\tlearn: 0.2401339\ttotal: 12.8s\tremaining: 1m 53s\n",
      "200:\tlearn: 0.2117312\ttotal: 24.5s\tremaining: 1m 37s\n",
      "300:\tlearn: 0.1907797\ttotal: 35.8s\tremaining: 1m 23s\n",
      "400:\tlearn: 0.1737639\ttotal: 47s\tremaining: 1m 10s\n",
      "500:\tlearn: 0.1595101\ttotal: 58.1s\tremaining: 57.9s\n",
      "600:\tlearn: 0.1467569\ttotal: 1m 9s\tremaining: 46s\n",
      "700:\tlearn: 0.1354189\ttotal: 1m 20s\tremaining: 34.3s\n",
      "800:\tlearn: 0.1252782\ttotal: 1m 31s\tremaining: 22.8s\n",
      "900:\tlearn: 0.1162055\ttotal: 1m 42s\tremaining: 11.3s\n",
      "999:\tlearn: 0.1079742\ttotal: 1m 54s\tremaining: 0us\n",
      "Результат f1 для модели CatBoost на корпусе Bert равен 0.7145522388059701\n"
     ]
    }
   ],
   "source": [
    "cat_model_bert = CatBoostClassifier(random_state=123, \n",
    "                               verbose=100, \n",
    "                               class_weights=[1, 3]                        \n",
    "                               )\n",
    "cat_model_bert.fit(corpus_train_bert, target_train_bert)\n",
    "\n",
    "predictions = cat_model_bert.predict(corpus_test_bert)\n",
    "print('Результат f1 для модели CatBoost на корпусе Bert равен',f1_score(target_test_bert, predictions))"
   ]
  },
  {
   "cell_type": "markdown",
   "metadata": {},
   "source": [
    "Лучшими оказались модель линейной регресси и CatBoost подберём для них гиперапарметры. Начнём с линейной модели."
   ]
  },
  {
   "cell_type": "code",
   "execution_count": 64,
   "metadata": {},
   "outputs": [
    {
     "name": "stderr",
     "output_type": "stream",
     "text": [
      "[Parallel(n_jobs=-1)]: Using backend LokyBackend with 12 concurrent workers.\n",
      "[Parallel(n_jobs=-1)]: Done   5 out of   5 | elapsed:  7.7min finished\n",
      "C:\\Users\\Ярослав\\AppData\\Local\\Programs\\Python\\Python310\\lib\\site-packages\\sklearn\\linear_model\\_logistic.py:814: ConvergenceWarning: lbfgs failed to converge (status=1):\n",
      "STOP: TOTAL NO. of ITERATIONS REACHED LIMIT.\n",
      "\n",
      "Increase the number of iterations (max_iter) or scale the data as shown in:\n",
      "    https://scikit-learn.org/stable/modules/preprocessing.html\n",
      "Please also refer to the documentation for alternative solver options:\n",
      "    https://scikit-learn.org/stable/modules/linear_model.html#logistic-regression\n",
      "  n_iter_i = _check_optimize_result(\n"
     ]
    },
    {
     "data": {
      "text/plain": [
       "LogisticRegressionCV(Cs=array([1.00000000e-01, 1.20679264e-01, 1.45634848e-01, 1.75751062e-01,\n",
       "       2.12095089e-01, 2.55954792e-01, 3.08884360e-01, 3.72759372e-01,\n",
       "       4.49843267e-01, 5.42867544e-01, 6.55128557e-01, 7.90604321e-01,\n",
       "       9.54095476e-01, 1.15139540e+00, 1.38949549e+00, 1.67683294e+00,\n",
       "       2.02358965e+00, 2.44205309e+00, 2.94705170e+00, 3.55648031e+00,\n",
       "       4.29193426e+00, 5.17...\n",
       "       4.09491506e+01, 4.94171336e+01, 5.96362332e+01, 7.19685673e+01,\n",
       "       8.68511374e+01, 1.04811313e+02, 1.26485522e+02, 1.52641797e+02,\n",
       "       1.84206997e+02, 2.22299648e+02, 2.68269580e+02, 3.23745754e+02,\n",
       "       3.90693994e+02, 4.71486636e+02, 5.68986603e+02, 6.86648845e+02,\n",
       "       8.28642773e+02, 1.00000000e+03]),\n",
       "                     class_weight='balanced',\n",
       "                     cv=StratifiedKFold(n_splits=5, random_state=17, shuffle=True),\n",
       "                     n_jobs=-1, scoring='f1', verbose=1)"
      ]
     },
     "execution_count": 64,
     "metadata": {},
     "output_type": "execute_result"
    }
   ],
   "source": [
    "skf = StratifiedKFold(n_splits=5, shuffle=True, random_state=17)\n",
    "c_values = np.logspace(-1, 3, 50)\n",
    "\n",
    "logit_searcher_bert = LogisticRegressionCV(Cs=c_values, \n",
    "                                      cv=skf, \n",
    "                                      verbose=1, \n",
    "                                      n_jobs=-1, \n",
    "                                      class_weight='balanced', \n",
    "                                      scoring='f1')\n",
    "logit_searcher_bert.fit(corpus_train_bert, target_train_bert)"
   ]
  },
  {
   "cell_type": "code",
   "execution_count": 66,
   "metadata": {},
   "outputs": [
    {
     "name": "stdout",
     "output_type": "stream",
     "text": [
      "Результат f1 для логистической регресии после кроссвалидации на корпусе Bert равен 0.6570986351484451\n"
     ]
    }
   ],
   "source": [
    "print('Результат f1 для логистической регресии после кроссвалидации на корпусе Bert равен', logit_searcher_bert.scores_[1].max())"
   ]
  },
  {
   "cell_type": "code",
   "execution_count": 67,
   "metadata": {},
   "outputs": [
    {
     "name": "stdout",
     "output_type": "stream",
     "text": [
      "Оптимальное значение гиперпараметра C: [0.21209509]\n"
     ]
    }
   ],
   "source": [
    "print('Оптимальное значение гиперпараметра C:', logit_searcher_bert.C_)"
   ]
  },
  {
   "cell_type": "code",
   "execution_count": 69,
   "metadata": {},
   "outputs": [
    {
     "name": "stdout",
     "output_type": "stream",
     "text": [
      "Результат f1 для тестовой выборки для логистической регресии после кроссвалидации на корпусе Bert равен 0.6457254631227707\n"
     ]
    }
   ],
   "source": [
    "predictions = logit_searcher_bert.predict(corpus_test_bert)\n",
    "print('Результат f1 для тестовой выборки для логистической регресии после кроссвалидации на корпусе Bert равен', f1_score(target_test_bert, predictions))"
   ]
  },
  {
   "cell_type": "markdown",
   "metadata": {},
   "source": [
    "Подберём количество итераций CatBoost"
   ]
  },
  {
   "cell_type": "code",
   "execution_count": 76,
   "metadata": {},
   "outputs": [
    {
     "name": "stdout",
     "output_type": "stream",
     "text": [
      "Training on fold [0/5]\n",
      "\n",
      "bestTest = 0.1381530263\n",
      "bestIteration = 2896\n",
      "\n",
      "Training on fold [1/5]\n",
      "\n",
      "bestTest = 0.1365992134\n",
      "bestIteration = 2929\n",
      "\n",
      "Training on fold [2/5]\n",
      "\n",
      "bestTest = 0.1375223736\n",
      "bestIteration = 2988\n",
      "\n",
      "Training on fold [3/5]\n",
      "\n",
      "bestTest = 0.1371279026\n",
      "bestIteration = 2920\n",
      "\n",
      "Training on fold [4/5]\n",
      "\n",
      "bestTest = 0.1389634915\n",
      "bestIteration = 2995\n",
      "\n"
     ]
    }
   ],
   "source": [
    "params = {\n",
    "    'loss_function': 'Logloss',\n",
    "    'iterations': 3000,\n",
    "    'custom_loss': 'F1'\n",
    "}\n",
    "\n",
    "cv_data = cv(\n",
    "    params=params, \n",
    "    pool=Pool(data=corpus_train_bert, label=target_train_bert),\n",
    "    fold_count=5,\n",
    "    shuffle=False, \n",
    "    partition_random_seed=0,\n",
    "    stratified=True, \n",
    "    verbose=False\n",
    ")"
   ]
  },
  {
   "cell_type": "code",
   "execution_count": 77,
   "metadata": {},
   "outputs": [
    {
     "name": "stdout",
     "output_type": "stream",
     "text": [
      "Лучшее значение F1: 0.7025+/-0.001 на шаге 2602\n"
     ]
    }
   ],
   "source": [
    "best_value = np.max(cv_data['test-F1-mean'])\n",
    "best_iter = np.argmax(cv_data['test-F1-mean'])\n",
    "print(\"Лучшее значение F1: {:.4f}+/-{:.3f} на шаге {}\".format(\n",
    "best_value, cv_data['test-Logloss-std'][best_iter], best_iter))"
   ]
  },
  {
   "cell_type": "markdown",
   "metadata": {},
   "source": [
    "Обучим модель CatBoost с оптимальным значением итераций."
   ]
  },
  {
   "cell_type": "code",
   "execution_count": 82,
   "metadata": {},
   "outputs": [
    {
     "name": "stdout",
     "output_type": "stream",
     "text": [
      "Learning rate set to 0.033992\n",
      "0:\tlearn: 0.6671133\ttotal: 126ms\tremaining: 5m 27s\n",
      "100:\tlearn: 0.2789089\ttotal: 13.1s\tremaining: 5m 23s\n",
      "200:\tlearn: 0.2469679\ttotal: 25.3s\tremaining: 5m 2s\n",
      "300:\tlearn: 0.2318378\ttotal: 37.2s\tremaining: 4m 44s\n",
      "400:\tlearn: 0.2199272\ttotal: 48.7s\tremaining: 4m 27s\n",
      "500:\tlearn: 0.2090146\ttotal: 1m\tremaining: 4m 12s\n",
      "600:\tlearn: 0.1997629\ttotal: 1m 11s\tremaining: 3m 58s\n",
      "700:\tlearn: 0.1913842\ttotal: 1m 23s\tremaining: 3m 45s\n",
      "800:\tlearn: 0.1837381\ttotal: 1m 34s\tremaining: 3m 32s\n",
      "900:\tlearn: 0.1768528\ttotal: 1m 45s\tremaining: 3m 19s\n",
      "1000:\tlearn: 0.1704177\ttotal: 1m 56s\tremaining: 3m 7s\n",
      "1100:\tlearn: 0.1643632\ttotal: 2m 8s\tremaining: 2m 54s\n",
      "1200:\tlearn: 0.1585512\ttotal: 2m 19s\tremaining: 2m 42s\n",
      "1300:\tlearn: 0.1531536\ttotal: 2m 30s\tremaining: 2m 30s\n",
      "1400:\tlearn: 0.1480188\ttotal: 2m 41s\tremaining: 2m 18s\n",
      "1500:\tlearn: 0.1431475\ttotal: 2m 52s\tremaining: 2m 6s\n",
      "1600:\tlearn: 0.1383823\ttotal: 3m 3s\tremaining: 1m 54s\n",
      "1700:\tlearn: 0.1337286\ttotal: 3m 15s\tremaining: 1m 43s\n",
      "1800:\tlearn: 0.1294709\ttotal: 3m 26s\tremaining: 1m 31s\n",
      "1900:\tlearn: 0.1253167\ttotal: 3m 37s\tremaining: 1m 20s\n",
      "2000:\tlearn: 0.1214151\ttotal: 3m 48s\tremaining: 1m 8s\n",
      "2100:\tlearn: 0.1175553\ttotal: 3m 59s\tremaining: 57.2s\n",
      "2200:\tlearn: 0.1139309\ttotal: 4m 11s\tremaining: 45.7s\n",
      "2300:\tlearn: 0.1104684\ttotal: 4m 22s\tremaining: 34.3s\n",
      "2400:\tlearn: 0.1070765\ttotal: 4m 33s\tremaining: 22.9s\n",
      "2500:\tlearn: 0.1038177\ttotal: 4m 44s\tremaining: 11.5s\n",
      "2600:\tlearn: 0.1006851\ttotal: 4m 56s\tremaining: 114ms\n",
      "2601:\tlearn: 0.1006407\ttotal: 4m 56s\tremaining: 0us\n",
      "Результат f1 для модели CatBoost после подбора гиперпараметров, на корпусе Bert равен 0.7169515446134548\n"
     ]
    }
   ],
   "source": [
    "cat_model_bert = CatBoostClassifier(random_state=123, \n",
    "                               verbose=100,\n",
    "                               iterations=best_iter, \n",
    "                               class_weights=[1, 3]    \n",
    "                               )\n",
    "cat_model_bert.fit(corpus_train_bert, target_train_bert)\n",
    "\n",
    "predictions = cat_model_bert.predict(corpus_test_bert)\n",
    "print('Результат f1 для модели CatBoost после подбора гиперпараметров, на корпусе Bert равен',f1_score(target_test_bert, predictions))"
   ]
  },
  {
   "cell_type": "markdown",
   "metadata": {},
   "source": [
    "Сравним полученные модели на корпусах Bert при помощи графика precision-recall"
   ]
  },
  {
   "cell_type": "code",
   "execution_count": 83,
   "metadata": {},
   "outputs": [
    {
     "name": "stderr",
     "output_type": "stream",
     "text": [
      "C:\\Users\\Ярослав\\AppData\\Local\\Programs\\Python\\Python310\\lib\\site-packages\\sklearn\\utils\\deprecation.py:87: FutureWarning: Function plot_precision_recall_curve is deprecated; Function `plot_precision_recall_curve` is deprecated in 1.0 and will be removed in 1.2. Use one of the class methods: PrecisionRecallDisplay.from_predictions or PrecisionRecallDisplay.from_estimator.\n",
      "  warnings.warn(msg, category=FutureWarning)\n",
      "C:\\Users\\Ярослав\\AppData\\Local\\Programs\\Python\\Python310\\lib\\site-packages\\sklearn\\utils\\deprecation.py:87: FutureWarning: Function plot_precision_recall_curve is deprecated; Function `plot_precision_recall_curve` is deprecated in 1.0 and will be removed in 1.2. Use one of the class methods: PrecisionRecallDisplay.from_predictions or PrecisionRecallDisplay.from_estimator.\n",
      "  warnings.warn(msg, category=FutureWarning)\n",
      "C:\\Users\\Ярослав\\AppData\\Local\\Programs\\Python\\Python310\\lib\\site-packages\\sklearn\\utils\\deprecation.py:87: FutureWarning: Function plot_precision_recall_curve is deprecated; Function `plot_precision_recall_curve` is deprecated in 1.0 and will be removed in 1.2. Use one of the class methods: PrecisionRecallDisplay.from_predictions or PrecisionRecallDisplay.from_estimator.\n",
      "  warnings.warn(msg, category=FutureWarning)\n",
      "C:\\Users\\Ярослав\\AppData\\Local\\Programs\\Python\\Python310\\lib\\site-packages\\sklearn\\utils\\deprecation.py:87: FutureWarning: Function plot_precision_recall_curve is deprecated; Function `plot_precision_recall_curve` is deprecated in 1.0 and will be removed in 1.2. Use one of the class methods: PrecisionRecallDisplay.from_predictions or PrecisionRecallDisplay.from_estimator.\n",
      "  warnings.warn(msg, category=FutureWarning)\n"
     ]
    },
    {
     "data": {
      "text/plain": [
       "<sklearn.metrics._plot.precision_recall_curve.PrecisionRecallDisplay at 0x20ba0e789d0>"
      ]
     },
     "execution_count": 83,
     "metadata": {},
     "output_type": "execute_result"
    },
    {
     "data": {
      "image/png": "[encoded data removed]",
      "text/plain": [
       "<Figure size 864x576 with 1 Axes>"
      ]
     },
     "metadata": {
      "needs_background": "light"
     },
     "output_type": "display_data"
    }
   ],
   "source": [
    "plt.figure(figsize =(12,8))\n",
    "roc_disp = plot_precision_recall_curve(logit_searcher_bert, corpus_test_bert, target_test_bert, ax=plt.axes(), name='LogisticRegression')\n",
    "plot_precision_recall_curve(forest_model_bert, corpus_test_bert, target_test_bert, ax=roc_disp.ax_, name='RandomForestClassifier')\n",
    "plot_precision_recall_curve(knn_model_bert, corpus_test_bert, target_test_bert, ax=roc_disp.ax_, name='KNeighborsClassifier')\n",
    "plot_precision_recall_curve(cat_model_bert, corpus_test_bert, target_test_bert, ax=roc_disp.ax_, name='CatBoostClassifier')"
   ]
  },
  {
   "cell_type": "markdown",
   "metadata": {},
   "source": [
    "### Сравнение результатов моделей обученных на корпусах TF-IDF и Bert"
   ]
  },
  {
   "cell_type": "markdown",
   "metadata": {},
   "source": [
    "Сравним лучшие рмодели полученные при помощи TF-IDF и предообученного Bert. Для начала построим график precision-recall с лучшими моделями."
   ]
  },
  {
   "cell_type": "code",
   "execution_count": 84,
   "metadata": {
    "scrolled": true
   },
   "outputs": [
    {
     "name": "stderr",
     "output_type": "stream",
     "text": [
      "C:\\Users\\Ярослав\\AppData\\Local\\Programs\\Python\\Python310\\lib\\site-packages\\sklearn\\utils\\deprecation.py:87: FutureWarning: Function plot_precision_recall_curve is deprecated; Function `plot_precision_recall_curve` is deprecated in 1.0 and will be removed in 1.2. Use one of the class methods: PrecisionRecallDisplay.from_predictions or PrecisionRecallDisplay.from_estimator.\n",
      "  warnings.warn(msg, category=FutureWarning)\n",
      "C:\\Users\\Ярослав\\AppData\\Local\\Programs\\Python\\Python310\\lib\\site-packages\\sklearn\\utils\\deprecation.py:87: FutureWarning: Function plot_precision_recall_curve is deprecated; Function `plot_precision_recall_curve` is deprecated in 1.0 and will be removed in 1.2. Use one of the class methods: PrecisionRecallDisplay.from_predictions or PrecisionRecallDisplay.from_estimator.\n",
      "  warnings.warn(msg, category=FutureWarning)\n",
      "C:\\Users\\Ярослав\\AppData\\Local\\Programs\\Python\\Python310\\lib\\site-packages\\sklearn\\utils\\deprecation.py:87: FutureWarning: Function plot_precision_recall_curve is deprecated; Function `plot_precision_recall_curve` is deprecated in 1.0 and will be removed in 1.2. Use one of the class methods: PrecisionRecallDisplay.from_predictions or PrecisionRecallDisplay.from_estimator.\n",
      "  warnings.warn(msg, category=FutureWarning)\n",
      "C:\\Users\\Ярослав\\AppData\\Local\\Programs\\Python\\Python310\\lib\\site-packages\\sklearn\\utils\\deprecation.py:87: FutureWarning: Function plot_precision_recall_curve is deprecated; Function `plot_precision_recall_curve` is deprecated in 1.0 and will be removed in 1.2. Use one of the class methods: PrecisionRecallDisplay.from_predictions or PrecisionRecallDisplay.from_estimator.\n",
      "  warnings.warn(msg, category=FutureWarning)\n"
     ]
    },
    {
     "data": {
      "text/plain": [
       "<sklearn.metrics._plot.precision_recall_curve.PrecisionRecallDisplay at 0x20b5edeab30>"
      ]
     },
     "execution_count": 84,
     "metadata": {},
     "output_type": "execute_result"
    },
    {
     "data": {
      "image/png": "[encoded data removed]",
      "text/plain": [
       "<Figure size 864x576 with 1 Axes>"
      ]
     },
     "metadata": {
      "needs_background": "light"
     },
     "output_type": "display_data"
    }
   ],
   "source": [
    "plt.figure(figsize =(12,8))\n",
    "\n",
    "roc_disp = plot_precision_recall_curve(logit_searcher, corpus_test, target_test, ax=plt.axes(), name='TF-IDF_LogisticRegression')\n",
    "plot_precision_recall_curve(cat_model, corpus_test, target_test, ax=roc_disp.ax_, name='TF-IDF_CatBoostClassifier')\n",
    "plot_precision_recall_curve(logit_searcher_bert, corpus_test_bert, target_test_bert, ax=roc_disp.ax_, name='Bert_LogisticRegression')\n",
    "plot_precision_recall_curve(cat_model_bert, corpus_test_bert, target_test_bert, ax=roc_disp.ax_, name='Bert_CatBoostClassifier')"
   ]
  },
  {
   "cell_type": "markdown",
   "metadata": {},
   "source": [
    "Из графика видно, что модели обученные на корпусах, полученных при помощи TF-IDF превосходят модели обученные на предобученном Bert."
   ]
  },
  {
   "cell_type": "markdown",
   "metadata": {},
   "source": [
    "Определим время необходимое каждой модели для предсказания на тестовом корпусе."
   ]
  },
  {
   "cell_type": "code",
   "execution_count": 91,
   "metadata": {},
   "outputs": [
    {
     "name": "stdout",
     "output_type": "stream",
     "text": [
      "Результат f1 для линейной модели после подбора uиперпараметра C равен 0.7711413364872857\n",
      "CPU times: total: 15.6 ms\n",
      "Wall time: 14 ms\n"
     ]
    }
   ],
   "source": [
    "%%time\n",
    "predictions = logit_searcher.predict(corpus_test)\n",
    "print('Результат f1 для линейной модели после подбора uиперпараметра C равен', f1_score(target_test, predictions))"
   ]
  },
  {
   "cell_type": "code",
   "execution_count": 100,
   "metadata": {},
   "outputs": [
    {
     "name": "stdout",
     "output_type": "stream",
     "text": [
      "Результат f1 для модели CatBoost после подбора гиперпараметров 0.7868469370722752\n",
      "CPU times: total: 1.52 s\n",
      "Wall time: 349 ms\n"
     ]
    }
   ],
   "source": [
    "%%time\n",
    "predictions = cat_model.predict(corpus_test)\n",
    "print('Результат f1 для модели CatBoost после подбора гиперпараметров',f1_score(target_test, predictions))"
   ]
  },
  {
   "cell_type": "code",
   "execution_count": 95,
   "metadata": {},
   "outputs": [
    {
     "name": "stdout",
     "output_type": "stream",
     "text": [
      "Результат f1 для тестовой выборки для логистической регресии после кроссвалидации на корпусе Bert равен 0.6457254631227707\n",
      "CPU times: total: 78.1 ms\n",
      "Wall time: 77 ms\n"
     ]
    }
   ],
   "source": [
    "%%time\n",
    "predictions = logit_searcher_bert.predict(corpus_test_bert)\n",
    "print('Результат f1 для тестовой выборки для логистической регресии после кроссвалидации на корпусе Bert равен', f1_score(target_test_bert, predictions))"
   ]
  },
  {
   "cell_type": "code",
   "execution_count": 98,
   "metadata": {},
   "outputs": [
    {
     "name": "stdout",
     "output_type": "stream",
     "text": [
      "Результат f1 для модели CatBoost после подбора гиперпараметров, на корпусе Bert равен 0.7169515446134548\n",
      "CPU times: total: 859 ms\n",
      "Wall time: 470 ms\n"
     ]
    }
   ],
   "source": [
    "%%time\n",
    "predictions = cat_model_bert.predict(corpus_test_bert)\n",
    "print('Результат f1 для модели CatBoost после подбора гиперпараметров, на корпусе Bert равен',f1_score(target_test_bert, predictions))"
   ]
  },
  {
   "cell_type": "code",
   "execution_count": 103,
   "metadata": {},
   "outputs": [
    {
     "data": {
      "text/html": [
       "<style type=\"text/css\">\n",
       "#T_d8cc6_row0_col1, #T_d8cc6_row1_col2, #T_d8cc6_row1_col3 {\n",
       "  background-color: #08306b;\n",
       "  color: #f1f1f1;\n",
       "}\n",
       "#T_d8cc6_row0_col2, #T_d8cc6_row2_col3, #T_d8cc6_row3_col1 {\n",
       "  background-color: #f7fbff;\n",
       "  color: #000000;\n",
       "}\n",
       "#T_d8cc6_row0_col3 {\n",
       "  background-color: #08458a;\n",
       "  color: #f1f1f1;\n",
       "}\n",
       "#T_d8cc6_row1_col1 {\n",
       "  background-color: #0b559f;\n",
       "  color: #f1f1f1;\n",
       "}\n",
       "#T_d8cc6_row2_col1 {\n",
       "  background-color: #dbe9f6;\n",
       "  color: #000000;\n",
       "}\n",
       "#T_d8cc6_row2_col2 {\n",
       "  background-color: #eff6fc;\n",
       "  color: #000000;\n",
       "}\n",
       "#T_d8cc6_row3_col2 {\n",
       "  background-color: #57a0ce;\n",
       "  color: #f1f1f1;\n",
       "}\n",
       "#T_d8cc6_row3_col3 {\n",
       "  background-color: #6dafd7;\n",
       "  color: #f1f1f1;\n",
       "}\n",
       "</style>\n",
       "<table id=\"T_d8cc6\">\n",
       "  <thead>\n",
       "    <tr>\n",
       "      <th class=\"blank level0\" >&nbsp;</th>\n",
       "      <th id=\"T_d8cc6_level0_col0\" class=\"col_heading level0 col0\" >Модель</th>\n",
       "      <th id=\"T_d8cc6_level0_col1\" class=\"col_heading level0 col1\" >precision-recall-AUC</th>\n",
       "      <th id=\"T_d8cc6_level0_col2\" class=\"col_heading level0 col2\" >CPU times: total [ms]</th>\n",
       "      <th id=\"T_d8cc6_level0_col3\" class=\"col_heading level0 col3\" >F1</th>\n",
       "    </tr>\n",
       "  </thead>\n",
       "  <tbody>\n",
       "    <tr>\n",
       "      <th id=\"T_d8cc6_level0_row0\" class=\"row_heading level0 row0\" >0</th>\n",
       "      <td id=\"T_d8cc6_row0_col0\" class=\"data row0 col0\" >TF-IDF_LogisticRegression</td>\n",
       "      <td id=\"T_d8cc6_row0_col1\" class=\"data row0 col1\" >0.870000</td>\n",
       "      <td id=\"T_d8cc6_row0_col2\" class=\"data row0 col2\" >15.600000</td>\n",
       "      <td id=\"T_d8cc6_row0_col3\" class=\"data row0 col3\" >0.777800</td>\n",
       "    </tr>\n",
       "    <tr>\n",
       "      <th id=\"T_d8cc6_level0_row1\" class=\"row_heading level0 row1\" >1</th>\n",
       "      <td id=\"T_d8cc6_row1_col0\" class=\"data row1 col0\" >TF-IDF_CatBoostClassifier</td>\n",
       "      <td id=\"T_d8cc6_row1_col1\" class=\"data row1 col1\" >0.860000</td>\n",
       "      <td id=\"T_d8cc6_row1_col2\" class=\"data row1 col2\" >1520.000000</td>\n",
       "      <td id=\"T_d8cc6_row1_col3\" class=\"data row1 col3\" >0.789500</td>\n",
       "    </tr>\n",
       "    <tr>\n",
       "      <th id=\"T_d8cc6_level0_row2\" class=\"row_heading level0 row2\" >2</th>\n",
       "      <td id=\"T_d8cc6_row2_col0\" class=\"data row2 col0\" >Bert_LogisticRegression</td>\n",
       "      <td id=\"T_d8cc6_row2_col1\" class=\"data row2 col1\" >0.810000</td>\n",
       "      <td id=\"T_d8cc6_row2_col2\" class=\"data row2 col2\" >78.100000</td>\n",
       "      <td id=\"T_d8cc6_row2_col3\" class=\"data row2 col3\" >0.645700</td>\n",
       "    </tr>\n",
       "    <tr>\n",
       "      <th id=\"T_d8cc6_level0_row3\" class=\"row_heading level0 row3\" >3</th>\n",
       "      <td id=\"T_d8cc6_row3_col0\" class=\"data row3 col0\" >Bert_CatBoostClassifier</td>\n",
       "      <td id=\"T_d8cc6_row3_col1\" class=\"data row3 col1\" >0.800000</td>\n",
       "      <td id=\"T_d8cc6_row3_col2\" class=\"data row3 col2\" >859.000000</td>\n",
       "      <td id=\"T_d8cc6_row3_col3\" class=\"data row3 col3\" >0.717000</td>\n",
       "    </tr>\n",
       "  </tbody>\n",
       "</table>\n"
      ],
      "text/plain": [
       "<pandas.io.formats.style.Styler at 0x20be4706a70>"
      ]
     },
     "metadata": {},
     "output_type": "display_data"
    }
   ],
   "source": [
    "data_comparison = pd.DataFrame({\n",
    "    'Модель': ['TF-IDF_LogisticRegression', 'TF-IDF_CatBoostClassifier', 'Bert_LogisticRegression', 'Bert_CatBoostClassifier'],\n",
    "    'precision-recall-AUC':[0.87, 0.86, 0.81, 0.8],\n",
    "    'CPU times: total [ms]': [15.6, 1520, 78.1, 859],\n",
    "    'F1': [0.7778, 0.7895, 0.6457, 0.7170]\n",
    "    \n",
    "})\n",
    "\n",
    "display(data_comparison.style.background_gradient(cmap='Blues'))"
   ]
  },
  {
   "cell_type": "markdown",
   "metadata": {},
   "source": [
    "Исходя из полученных данных, можно сделать вывод, что модели на корпусах полученных при помощи TF-IDF показывают лучшее качество, чем корпуса, полученные на предообученном Bertе. Также стоит отметить, что на тесте лучшую метрику показала модель catBoost. Однако, модель логистической регрессии не сильно ей уступила в качестве и также превзошла требуемый порог в 0,75, при этом она имеет лучший показатель precision-recall-AUC и выполняется значительно быстрее, поэтому для решения данной задаче рекомендуется использовать именно данную модель."
   ]
  },
  {
   "cell_type": "markdown",
   "metadata": {},
   "source": [
    "### Выводы"
   ]
  },
  {
   "cell_type": "markdown",
   "metadata": {},
   "source": [
    "В данном разделе были рассмотрены и проанализированы модели: линейная, случайного леса, k ближайших соседей и CatBoost. Данные модели были построенны как на корпусах TF-IDF так и на корпусах Berta. Исходя из полученных результатов можно сделать вывод, что по совокупности характеристик для данной задачи лучше вссего подходит модель логистической регрессии, которая позволила получить метрику f1=0.7778 обученная на корпусах TF-IDF."
   ]
  },
  {
   "cell_type": "markdown",
   "metadata": {},
   "source": [
    "## Общие выводы"
   ]
  },
  {
   "cell_type": "markdown",
   "metadata": {},
   "source": [
    "В ходе данной работы был импортирован и подготовлен датасет. Был проведён анализ, входе которого установлено, что в данных имеется сильный дисбаланс по целевому признаку. Далее была проведена лемматизация, текст был очищен от стоп слов и сформированы корпуса для обучения и для тестирования модели (корпуса были сформированы при помощи TF-IDF и предообученной нейросети Bert).  \n",
    "На следующем этапе были обучены следующие модели: логистическая регрессия, случайный лес, knn, CatBoost (отдельно для корпусов TF-IDF, отдельно для Berta). После этого был проведён анализ моделей и из всех моделей, по совокупности характеристик, наиболе подходящей оказалась линейная модель обученная на корпусах TF-IDF с метрикой f1=0.7778, что соответствует требованиям задачи. Также для данной задачи можно рекомендовать модель CatBoost, она имеет немного лучшую метрику качества(0.7895), но выполняется значительно медленней линейной модели."
   ]
  },
  {
   "cell_type": "code",
   "execution_count": null,
   "metadata": {},
   "outputs": [],
   "source": []
  }
 ],
 "metadata": {
  "ExecuteTimeLog": [
   {
    "duration": 228,
    "start_time": "2022-04-28T06:43:59.497Z"
   },
   {
    "duration": 937,
    "start_time": "2022-04-28T06:44:46.088Z"
   },
   {
    "duration": 20,
    "start_time": "2022-04-28T06:44:58.392Z"
   },
   {
    "duration": 239,
    "start_time": "2022-04-28T06:48:38.905Z"
   },
   {
    "duration": 40,
    "start_time": "2022-04-28T06:51:13.450Z"
   },
   {
    "duration": 8,
    "start_time": "2022-04-28T06:52:53.450Z"
   },
   {
    "duration": 187,
    "start_time": "2022-04-28T06:55:03.834Z"
   },
   {
    "duration": 3389,
    "start_time": "2022-04-28T06:58:00.444Z"
   },
   {
    "duration": 19,
    "start_time": "2022-04-28T06:58:33.859Z"
   },
   {
    "duration": 5,
    "start_time": "2022-04-28T06:59:02.676Z"
   },
   {
    "duration": 9,
    "start_time": "2022-04-28T06:59:05.315Z"
   },
   {
    "duration": 8,
    "start_time": "2022-04-28T06:59:16.588Z"
   },
   {
    "duration": 1046,
    "start_time": "2022-04-28T06:59:29.436Z"
   },
   {
    "duration": 974,
    "start_time": "2022-04-28T06:59:47.556Z"
   },
   {
    "duration": 21,
    "start_time": "2022-04-28T07:01:20.869Z"
   },
   {
    "duration": 5,
    "start_time": "2022-04-28T07:01:37.532Z"
   },
   {
    "duration": 6,
    "start_time": "2022-04-28T07:01:46.260Z"
   },
   {
    "duration": 7,
    "start_time": "2022-04-28T07:01:54.181Z"
   },
   {
    "duration": 12,
    "start_time": "2022-04-28T07:01:57.908Z"
   },
   {
    "duration": 5,
    "start_time": "2022-04-28T07:02:44.493Z"
   },
   {
    "duration": 224,
    "start_time": "2022-04-28T07:04:36.253Z"
   },
   {
    "duration": 119032,
    "start_time": "2022-04-28T07:05:13.733Z"
   },
   {
    "duration": 0,
    "start_time": "2022-04-28T07:07:12.768Z"
   },
   {
    "duration": 30,
    "start_time": "2022-04-28T07:07:52.511Z"
   },
   {
    "duration": 21,
    "start_time": "2022-04-28T07:07:55.189Z"
   },
   {
    "duration": 226,
    "start_time": "2022-04-28T07:09:27.460Z"
   },
   {
    "duration": 420574,
    "start_time": "2022-04-28T07:09:34.758Z"
   },
   {
    "duration": 0,
    "start_time": "2022-04-28T07:17:12.546Z"
   },
   {
    "duration": 10363,
    "start_time": "2022-04-28T07:17:20.087Z"
   },
   {
    "duration": 20,
    "start_time": "2022-04-28T07:17:31.151Z"
   },
   {
    "duration": 62,
    "start_time": "2022-04-28T07:17:56.280Z"
   },
   {
    "duration": 1725262,
    "start_time": "2022-04-28T07:18:03.991Z"
   },
   {
    "duration": 5480,
    "start_time": "2022-04-28T07:47:41.243Z"
   },
   {
    "duration": 5495,
    "start_time": "2022-04-28T07:47:56.488Z"
   },
   {
    "duration": 18,
    "start_time": "2022-04-28T07:48:04.650Z"
   },
   {
    "duration": 2135,
    "start_time": "2022-04-28T07:55:02.867Z"
   },
   {
    "duration": 1008,
    "start_time": "2022-04-28T07:55:05.005Z"
   },
   {
    "duration": 20,
    "start_time": "2022-04-28T07:55:06.015Z"
   },
   {
    "duration": 67,
    "start_time": "2022-04-28T07:55:06.037Z"
   },
   {
    "duration": 2395,
    "start_time": "2022-04-28T09:21:04.221Z"
   },
   {
    "duration": 1022,
    "start_time": "2022-04-28T09:21:06.619Z"
   },
   {
    "duration": 21,
    "start_time": "2022-04-28T09:21:07.643Z"
   },
   {
    "duration": 62,
    "start_time": "2022-04-28T09:21:07.666Z"
   },
   {
    "duration": 13160083,
    "start_time": "2022-04-28T09:21:07.732Z"
   },
   {
    "duration": 0,
    "start_time": "2022-04-28T13:00:27.822Z"
   },
   {
    "duration": 5535,
    "start_time": "2022-04-28T13:00:31.587Z"
   },
   {
    "duration": 46231,
    "start_time": "2022-04-28T13:00:45.154Z"
   },
   {
    "duration": 6968,
    "start_time": "2022-04-28T13:01:47.586Z"
   },
   {
    "duration": 6,
    "start_time": "2022-04-28T13:02:01.147Z"
   },
   {
    "duration": 21027,
    "start_time": "2022-04-28T13:02:04.569Z"
   },
   {
    "duration": 94083,
    "start_time": "2022-04-28T13:03:29.636Z"
   },
   {
    "duration": 95149,
    "start_time": "2022-04-28T13:05:50.165Z"
   },
   {
    "duration": 945069,
    "start_time": "2022-04-28T13:08:26.384Z"
   },
   {
    "duration": 24,
    "start_time": "2022-04-28T13:35:10.339Z"
   },
   {
    "duration": 18,
    "start_time": "2022-04-28T13:35:21.695Z"
   },
   {
    "duration": 4,
    "start_time": "2022-04-28T14:23:30.231Z"
   },
   {
    "duration": 974,
    "start_time": "2022-04-28T14:23:30.238Z"
   },
   {
    "duration": 10,
    "start_time": "2022-04-28T14:23:31.214Z"
   },
   {
    "duration": 59,
    "start_time": "2022-04-28T14:23:31.226Z"
   },
   {
    "duration": 5650,
    "start_time": "2022-04-28T14:23:31.292Z"
   },
   {
    "duration": 1931,
    "start_time": "2022-04-28T14:24:54.797Z"
   },
   {
    "duration": 1017,
    "start_time": "2022-04-28T14:24:56.732Z"
   },
   {
    "duration": 23,
    "start_time": "2022-04-28T14:24:57.752Z"
   },
   {
    "duration": 46,
    "start_time": "2022-04-28T14:24:57.793Z"
   },
   {
    "duration": 5834,
    "start_time": "2022-04-28T14:24:57.843Z"
   },
   {
    "duration": 16432567,
    "start_time": "2022-04-28T14:25:03.680Z"
   },
   {
    "duration": 20,
    "start_time": "2022-04-28T18:58:56.249Z"
   },
   {
    "duration": 53,
    "start_time": "2022-04-28T18:59:41.301Z"
   },
   {
    "duration": 5,
    "start_time": "2022-04-28T18:59:44.608Z"
   },
   {
    "duration": 1937,
    "start_time": "2022-04-28T19:01:13.133Z"
   },
   {
    "duration": 1041,
    "start_time": "2022-04-28T19:01:15.073Z"
   },
   {
    "duration": 21,
    "start_time": "2022-04-28T19:01:16.116Z"
   },
   {
    "duration": 62,
    "start_time": "2022-04-28T19:01:16.140Z"
   },
   {
    "duration": 5971,
    "start_time": "2022-04-28T19:01:16.204Z"
   },
   {
    "duration": 2327,
    "start_time": "2022-04-28T19:14:24.398Z"
   },
   {
    "duration": 1024,
    "start_time": "2022-04-28T19:14:26.728Z"
   },
   {
    "duration": 21,
    "start_time": "2022-04-28T19:14:27.755Z"
   },
   {
    "duration": 55,
    "start_time": "2022-04-28T19:14:27.778Z"
   },
   {
    "duration": 9100,
    "start_time": "2022-04-28T19:14:27.836Z"
   },
   {
    "duration": 1904,
    "start_time": "2022-04-28T19:36:51.355Z"
   },
   {
    "duration": 1003,
    "start_time": "2022-04-28T19:36:53.262Z"
   },
   {
    "duration": 28,
    "start_time": "2022-04-28T19:36:54.267Z"
   },
   {
    "duration": 40,
    "start_time": "2022-04-28T19:36:54.298Z"
   },
   {
    "duration": 5680,
    "start_time": "2022-04-28T19:36:54.340Z"
   },
   {
    "duration": 1808,
    "start_time": "2022-04-29T06:09:18.087Z"
   },
   {
    "duration": 962,
    "start_time": "2022-04-29T06:09:19.898Z"
   },
   {
    "duration": 34,
    "start_time": "2022-04-29T06:09:20.862Z"
   },
   {
    "duration": 43,
    "start_time": "2022-04-29T06:09:20.899Z"
   },
   {
    "duration": 5735,
    "start_time": "2022-04-29T06:09:20.944Z"
   },
   {
    "duration": 6025,
    "start_time": "2022-04-29T06:09:26.681Z"
   },
   {
    "duration": 4,
    "start_time": "2022-04-29T06:09:32.708Z"
   },
   {
    "duration": 21,
    "start_time": "2022-04-29T06:09:32.713Z"
   },
   {
    "duration": 6,
    "start_time": "2022-04-29T06:11:15.969Z"
   },
   {
    "duration": 32,
    "start_time": "2022-04-29T06:11:27.331Z"
   },
   {
    "duration": 5461,
    "start_time": "2022-04-29T06:11:29.732Z"
   },
   {
    "duration": 17,
    "start_time": "2022-04-29T06:11:37.011Z"
   },
   {
    "duration": 5747,
    "start_time": "2022-04-29T06:11:53.492Z"
   },
   {
    "duration": 4478,
    "start_time": "2022-04-29T06:12:02.739Z"
   },
   {
    "duration": 3087,
    "start_time": "2022-04-29T06:12:15.643Z"
   },
   {
    "duration": 6,
    "start_time": "2022-04-29T06:12:37.484Z"
   },
   {
    "duration": 6,
    "start_time": "2022-04-29T06:12:45.957Z"
   },
   {
    "duration": 75,
    "start_time": "2022-04-29T06:14:12.997Z"
   },
   {
    "duration": 2076,
    "start_time": "2022-04-29T06:14:33.268Z"
   },
   {
    "duration": 1059,
    "start_time": "2022-04-29T06:14:35.347Z"
   },
   {
    "duration": 20,
    "start_time": "2022-04-29T06:14:36.408Z"
   },
   {
    "duration": 62,
    "start_time": "2022-04-29T06:14:36.431Z"
   },
   {
    "duration": 498,
    "start_time": "2022-04-29T06:14:36.496Z"
   },
   {
    "duration": 6023,
    "start_time": "2022-04-29T06:14:36.997Z"
   },
   {
    "duration": 6830,
    "start_time": "2022-04-29T06:14:43.022Z"
   },
   {
    "duration": 2583,
    "start_time": "2022-04-29T06:14:49.854Z"
   },
   {
    "duration": 12,
    "start_time": "2022-04-29T06:18:12.628Z"
   },
   {
    "duration": 182,
    "start_time": "2022-04-29T06:20:00.650Z"
   },
   {
    "duration": 78,
    "start_time": "2022-04-29T06:21:29.989Z"
   },
   {
    "duration": 2100,
    "start_time": "2022-04-29T06:22:27.906Z"
   },
   {
    "duration": 1032,
    "start_time": "2022-04-29T06:22:30.010Z"
   },
   {
    "duration": 23,
    "start_time": "2022-04-29T06:22:31.045Z"
   },
   {
    "duration": 60,
    "start_time": "2022-04-29T06:22:31.070Z"
   },
   {
    "duration": 499,
    "start_time": "2022-04-29T06:22:31.135Z"
   },
   {
    "duration": 5838,
    "start_time": "2022-04-29T06:22:31.636Z"
   },
   {
    "duration": 6545,
    "start_time": "2022-04-29T06:22:37.477Z"
   },
   {
    "duration": 101,
    "start_time": "2022-04-29T06:22:44.024Z"
   },
   {
    "duration": 2046,
    "start_time": "2022-04-29T06:22:44.127Z"
   },
   {
    "duration": 517,
    "start_time": "2022-04-29T06:22:46.176Z"
   },
   {
    "duration": 11,
    "start_time": "2022-04-29T06:22:46.695Z"
   },
   {
    "duration": 12116,
    "start_time": "2022-04-29T06:26:12.643Z"
   },
   {
    "duration": 12399,
    "start_time": "2022-04-29T06:26:44.706Z"
   },
   {
    "duration": 3257,
    "start_time": "2022-04-29T06:27:23.147Z"
   },
   {
    "duration": 0,
    "start_time": "2022-04-29T06:27:26.407Z"
   },
   {
    "duration": 12557,
    "start_time": "2022-04-29T06:27:33.827Z"
   },
   {
    "duration": 2906,
    "start_time": "2022-04-29T06:27:46.387Z"
   },
   {
    "duration": 5,
    "start_time": "2022-04-29T06:28:58.363Z"
   },
   {
    "duration": 10687,
    "start_time": "2022-04-29T06:29:02.339Z"
   },
   {
    "duration": 10306,
    "start_time": "2022-04-29T06:29:17.227Z"
   },
   {
    "duration": 2623,
    "start_time": "2022-04-29T06:29:28.531Z"
   },
   {
    "duration": 2116,
    "start_time": "2022-04-29T06:30:00.936Z"
   },
   {
    "duration": 1086,
    "start_time": "2022-04-29T06:30:03.054Z"
   },
   {
    "duration": 20,
    "start_time": "2022-04-29T06:30:04.142Z"
   },
   {
    "duration": 53,
    "start_time": "2022-04-29T06:30:04.164Z"
   },
   {
    "duration": 408,
    "start_time": "2022-04-29T06:30:04.220Z"
   },
   {
    "duration": 5515,
    "start_time": "2022-04-29T06:30:04.631Z"
   },
   {
    "duration": 6196,
    "start_time": "2022-04-29T06:30:10.149Z"
   },
   {
    "duration": 91,
    "start_time": "2022-04-29T06:30:16.347Z"
   },
   {
    "duration": 2028,
    "start_time": "2022-04-29T06:30:16.440Z"
   },
   {
    "duration": 509,
    "start_time": "2022-04-29T06:30:18.470Z"
   },
   {
    "duration": 19,
    "start_time": "2022-04-29T06:30:18.982Z"
   },
   {
    "duration": 10791,
    "start_time": "2022-04-29T06:30:19.005Z"
   },
   {
    "duration": 10653,
    "start_time": "2022-04-29T06:30:29.800Z"
   },
   {
    "duration": 3049,
    "start_time": "2022-04-29T06:30:40.457Z"
   },
   {
    "duration": 10607,
    "start_time": "2022-04-29T06:31:55.781Z"
   },
   {
    "duration": 2590,
    "start_time": "2022-04-29T06:32:12.653Z"
   },
   {
    "duration": 194,
    "start_time": "2022-04-29T06:32:21.821Z"
   },
   {
    "duration": 2580,
    "start_time": "2022-04-29T06:32:34.556Z"
   },
   {
    "duration": 1017,
    "start_time": "2022-04-29T06:32:37.139Z"
   },
   {
    "duration": 20,
    "start_time": "2022-04-29T06:32:38.159Z"
   },
   {
    "duration": 49,
    "start_time": "2022-04-29T06:32:38.192Z"
   },
   {
    "duration": 169,
    "start_time": "2022-04-29T06:32:38.244Z"
   },
   {
    "duration": 6021,
    "start_time": "2022-04-29T06:32:38.415Z"
   },
   {
    "duration": 6440,
    "start_time": "2022-04-29T06:32:44.439Z"
   },
   {
    "duration": 104,
    "start_time": "2022-04-29T06:32:50.896Z"
   },
   {
    "duration": 2071,
    "start_time": "2022-04-29T06:32:51.005Z"
   },
   {
    "duration": 535,
    "start_time": "2022-04-29T06:32:53.079Z"
   },
   {
    "duration": 13,
    "start_time": "2022-04-29T06:32:53.617Z"
   },
   {
    "duration": 10646,
    "start_time": "2022-04-29T06:32:53.632Z"
   },
   {
    "duration": 10802,
    "start_time": "2022-04-29T06:33:04.280Z"
   },
   {
    "duration": 2685,
    "start_time": "2022-04-29T06:33:15.086Z"
   },
   {
    "duration": 4,
    "start_time": "2022-04-29T06:36:15.085Z"
   },
   {
    "duration": 6,
    "start_time": "2022-04-29T06:39:02.614Z"
   },
   {
    "duration": 56254,
    "start_time": "2022-04-29T06:39:16.942Z"
   },
   {
    "duration": 5,
    "start_time": "2022-04-29T06:40:38.623Z"
   },
   {
    "duration": 62835,
    "start_time": "2022-04-29T06:41:23.072Z"
   },
   {
    "duration": 170,
    "start_time": "2022-04-29T06:45:03.832Z"
   },
   {
    "duration": 58008,
    "start_time": "2022-04-29T06:45:20.599Z"
   },
   {
    "duration": 14744,
    "start_time": "2022-04-29T06:54:44.610Z"
   },
   {
    "duration": 91195,
    "start_time": "2022-04-29T06:55:10.381Z"
   },
   {
    "duration": 21097,
    "start_time": "2022-04-29T06:57:25.067Z"
   },
   {
    "duration": 118785,
    "start_time": "2022-04-29T06:58:33.787Z"
   },
   {
    "duration": 82663,
    "start_time": "2022-04-29T07:00:35.973Z"
   },
   {
    "duration": 0,
    "start_time": "2022-04-29T07:06:11.422Z"
   },
   {
    "duration": 12683,
    "start_time": "2022-04-29T07:06:17.061Z"
   },
   {
    "duration": 15,
    "start_time": "2022-04-29T07:07:33.621Z"
   },
   {
    "duration": 14,
    "start_time": "2022-04-29T07:07:43.269Z"
   },
   {
    "duration": 13,
    "start_time": "2022-04-29T07:07:48.357Z"
   },
   {
    "duration": 5,
    "start_time": "2022-04-29T07:07:52.541Z"
   },
   {
    "duration": 12640,
    "start_time": "2022-04-29T07:08:27.485Z"
   },
   {
    "duration": 6,
    "start_time": "2022-04-29T07:13:02.398Z"
   },
   {
    "duration": 17,
    "start_time": "2022-04-29T07:14:12.639Z"
   },
   {
    "duration": 200004,
    "start_time": "2022-04-29T07:14:17.303Z"
   },
   {
    "duration": 39103,
    "start_time": "2022-04-29T07:23:26.049Z"
   },
   {
    "duration": 2037,
    "start_time": "2022-04-29T07:28:09.129Z"
   },
   {
    "duration": 1016,
    "start_time": "2022-04-29T07:28:11.169Z"
   },
   {
    "duration": 27,
    "start_time": "2022-04-29T07:28:12.187Z"
   },
   {
    "duration": 40,
    "start_time": "2022-04-29T07:28:12.219Z"
   },
   {
    "duration": 527,
    "start_time": "2022-04-29T07:28:12.263Z"
   },
   {
    "duration": 5908,
    "start_time": "2022-04-29T07:28:12.793Z"
   },
   {
    "duration": 6644,
    "start_time": "2022-04-29T07:28:18.705Z"
   },
   {
    "duration": 97,
    "start_time": "2022-04-29T07:28:25.352Z"
   },
   {
    "duration": 2077,
    "start_time": "2022-04-29T07:28:25.451Z"
   },
   {
    "duration": 521,
    "start_time": "2022-04-29T07:28:27.531Z"
   },
   {
    "duration": 11,
    "start_time": "2022-04-29T07:28:28.055Z"
   },
   {
    "duration": 10564,
    "start_time": "2022-04-29T07:28:28.069Z"
   },
   {
    "duration": 10944,
    "start_time": "2022-04-29T07:28:38.635Z"
   },
   {
    "duration": 3077,
    "start_time": "2022-04-29T07:28:49.583Z"
   },
   {
    "duration": 3,
    "start_time": "2022-04-29T07:28:52.663Z"
   },
   {
    "duration": 60147,
    "start_time": "2022-04-29T07:28:52.668Z"
   },
   {
    "duration": 59883,
    "start_time": "2022-04-29T07:29:52.818Z"
   },
   {
    "duration": 13607,
    "start_time": "2022-04-29T07:30:52.704Z"
   },
   {
    "duration": 206524,
    "start_time": "2022-04-29T07:31:06.314Z"
   },
   {
    "duration": 3898169,
    "start_time": "2022-04-29T07:34:32.841Z"
   },
   {
    "duration": 53,
    "start_time": "2022-05-03T15:42:37.316Z"
   },
   {
    "duration": 0,
    "start_time": "2022-05-03T15:42:37.371Z"
   },
   {
    "duration": 0,
    "start_time": "2022-05-03T15:42:37.373Z"
   },
   {
    "duration": 0,
    "start_time": "2022-05-03T15:42:37.374Z"
   },
   {
    "duration": 0,
    "start_time": "2022-05-03T15:42:37.375Z"
   },
   {
    "duration": 0,
    "start_time": "2022-05-03T15:42:37.376Z"
   },
   {
    "duration": 0,
    "start_time": "2022-05-03T15:42:37.377Z"
   },
   {
    "duration": 0,
    "start_time": "2022-05-03T15:42:37.378Z"
   },
   {
    "duration": 0,
    "start_time": "2022-05-03T15:42:37.379Z"
   },
   {
    "duration": 0,
    "start_time": "2022-05-03T15:42:37.380Z"
   },
   {
    "duration": 0,
    "start_time": "2022-05-03T15:42:37.381Z"
   },
   {
    "duration": 0,
    "start_time": "2022-05-03T15:42:37.382Z"
   },
   {
    "duration": 0,
    "start_time": "2022-05-03T15:42:37.384Z"
   },
   {
    "duration": 0,
    "start_time": "2022-05-03T15:42:37.385Z"
   },
   {
    "duration": 0,
    "start_time": "2022-05-03T15:42:37.385Z"
   },
   {
    "duration": 0,
    "start_time": "2022-05-03T15:42:37.408Z"
   },
   {
    "duration": 0,
    "start_time": "2022-05-03T15:42:37.410Z"
   },
   {
    "duration": 1468,
    "start_time": "2022-05-03T15:42:42.211Z"
   },
   {
    "duration": 933,
    "start_time": "2022-05-03T15:42:43.681Z"
   },
   {
    "duration": 17,
    "start_time": "2022-05-03T15:42:44.616Z"
   },
   {
    "duration": 30,
    "start_time": "2022-05-03T15:42:44.634Z"
   },
   {
    "duration": 1474,
    "start_time": "2022-05-03T15:44:08.688Z"
   },
   {
    "duration": 930,
    "start_time": "2022-05-03T15:44:10.166Z"
   },
   {
    "duration": 29,
    "start_time": "2022-05-03T15:44:11.098Z"
   },
   {
    "duration": 35,
    "start_time": "2022-05-03T15:44:11.129Z"
   },
   {
    "duration": 172996,
    "start_time": "2022-05-03T15:44:11.167Z"
   },
   {
    "duration": 0,
    "start_time": "2022-05-03T15:47:04.165Z"
   },
   {
    "duration": 1,
    "start_time": "2022-05-03T15:47:04.166Z"
   },
   {
    "duration": 0,
    "start_time": "2022-05-03T15:47:04.167Z"
   },
   {
    "duration": 1,
    "start_time": "2022-05-03T15:47:04.168Z"
   },
   {
    "duration": 0,
    "start_time": "2022-05-03T15:47:04.169Z"
   },
   {
    "duration": 0,
    "start_time": "2022-05-03T15:47:04.170Z"
   },
   {
    "duration": 0,
    "start_time": "2022-05-03T15:47:04.171Z"
   },
   {
    "duration": 0,
    "start_time": "2022-05-03T15:47:04.172Z"
   },
   {
    "duration": 0,
    "start_time": "2022-05-03T15:47:04.173Z"
   },
   {
    "duration": 0,
    "start_time": "2022-05-03T15:47:04.174Z"
   },
   {
    "duration": 0,
    "start_time": "2022-05-03T15:47:04.175Z"
   },
   {
    "duration": 0,
    "start_time": "2022-05-03T15:47:04.176Z"
   },
   {
    "duration": 0,
    "start_time": "2022-05-03T15:47:04.177Z"
   },
   {
    "duration": 0,
    "start_time": "2022-05-03T15:47:04.178Z"
   },
   {
    "duration": 0,
    "start_time": "2022-05-03T15:47:04.179Z"
   },
   {
    "duration": 1421,
    "start_time": "2022-05-03T15:48:55.778Z"
   },
   {
    "duration": 906,
    "start_time": "2022-05-03T15:48:57.201Z"
   },
   {
    "duration": 19,
    "start_time": "2022-05-03T15:48:58.109Z"
   },
   {
    "duration": 36,
    "start_time": "2022-05-03T15:48:58.131Z"
   },
   {
    "duration": 167,
    "start_time": "2022-05-03T15:48:58.169Z"
   },
   {
    "duration": 0,
    "start_time": "2022-05-03T15:48:58.338Z"
   },
   {
    "duration": 0,
    "start_time": "2022-05-03T15:48:58.340Z"
   },
   {
    "duration": 0,
    "start_time": "2022-05-03T15:48:58.342Z"
   },
   {
    "duration": 0,
    "start_time": "2022-05-03T15:48:58.343Z"
   },
   {
    "duration": 1,
    "start_time": "2022-05-03T15:48:58.344Z"
   },
   {
    "duration": 0,
    "start_time": "2022-05-03T15:48:58.346Z"
   },
   {
    "duration": 0,
    "start_time": "2022-05-03T15:48:58.347Z"
   },
   {
    "duration": 0,
    "start_time": "2022-05-03T15:48:58.348Z"
   },
   {
    "duration": 1,
    "start_time": "2022-05-03T15:48:58.349Z"
   },
   {
    "duration": 0,
    "start_time": "2022-05-03T15:48:58.351Z"
   },
   {
    "duration": 0,
    "start_time": "2022-05-03T15:48:58.352Z"
   },
   {
    "duration": 0,
    "start_time": "2022-05-03T15:48:58.353Z"
   },
   {
    "duration": 0,
    "start_time": "2022-05-03T15:48:58.355Z"
   },
   {
    "duration": 0,
    "start_time": "2022-05-03T15:48:58.356Z"
   },
   {
    "duration": 0,
    "start_time": "2022-05-03T15:48:58.357Z"
   },
   {
    "duration": 0,
    "start_time": "2022-05-03T15:48:58.358Z"
   },
   {
    "duration": 272,
    "start_time": "2022-05-03T15:49:22.101Z"
   },
   {
    "duration": 10,
    "start_time": "2022-05-03T15:52:30.633Z"
   },
   {
    "duration": 579,
    "start_time": "2022-05-03T15:52:52.611Z"
   },
   {
    "duration": 150,
    "start_time": "2022-05-03T15:52:57.961Z"
   },
   {
    "duration": 61,
    "start_time": "2022-05-03T15:56:50.296Z"
   },
   {
    "duration": 72,
    "start_time": "2022-05-03T15:57:03.609Z"
   },
   {
    "duration": 74,
    "start_time": "2022-05-03T15:57:15.864Z"
   },
   {
    "duration": 288,
    "start_time": "2022-05-03T15:59:48.389Z"
   },
   {
    "duration": 199,
    "start_time": "2022-05-03T16:00:04.780Z"
   },
   {
    "duration": 213,
    "start_time": "2022-05-03T16:00:55.099Z"
   },
   {
    "duration": 197,
    "start_time": "2022-05-03T16:01:23.555Z"
   },
   {
    "duration": 208,
    "start_time": "2022-05-03T16:01:58.456Z"
   },
   {
    "duration": 464,
    "start_time": "2022-05-03T16:02:07.873Z"
   },
   {
    "duration": 59,
    "start_time": "2022-05-03T16:02:18.082Z"
   },
   {
    "duration": 190,
    "start_time": "2022-05-03T16:02:28.931Z"
   },
   {
    "duration": 202,
    "start_time": "2022-05-03T16:02:46.442Z"
   },
   {
    "duration": 88,
    "start_time": "2022-05-03T16:03:19.288Z"
   },
   {
    "duration": 11,
    "start_time": "2022-05-03T16:03:25.129Z"
   },
   {
    "duration": 4,
    "start_time": "2022-05-03T16:03:48.285Z"
   },
   {
    "duration": 212,
    "start_time": "2022-05-03T16:03:53.080Z"
   },
   {
    "duration": 209,
    "start_time": "2022-05-03T16:04:00.173Z"
   },
   {
    "duration": 1579,
    "start_time": "2022-05-03T16:08:42.753Z"
   },
   {
    "duration": 820,
    "start_time": "2022-05-03T16:08:44.335Z"
   },
   {
    "duration": 13,
    "start_time": "2022-05-03T16:08:45.157Z"
   },
   {
    "duration": 46,
    "start_time": "2022-05-03T16:08:45.172Z"
   },
   {
    "duration": 278,
    "start_time": "2022-05-03T16:08:45.221Z"
   },
   {
    "duration": 380,
    "start_time": "2022-05-03T16:08:45.501Z"
   },
   {
    "duration": 1804,
    "start_time": "2022-05-03T16:10:09.074Z"
   },
   {
    "duration": 870,
    "start_time": "2022-05-03T16:10:10.880Z"
   },
   {
    "duration": 13,
    "start_time": "2022-05-03T16:10:11.751Z"
   },
   {
    "duration": 47,
    "start_time": "2022-05-03T16:10:11.766Z"
   },
   {
    "duration": 303,
    "start_time": "2022-05-03T16:10:11.816Z"
   },
   {
    "duration": 412,
    "start_time": "2022-05-03T16:10:12.121Z"
   },
   {
    "duration": 1698,
    "start_time": "2022-05-03T16:15:53.207Z"
   },
   {
    "duration": 822,
    "start_time": "2022-05-03T16:15:54.907Z"
   },
   {
    "duration": 11,
    "start_time": "2022-05-03T16:15:55.731Z"
   },
   {
    "duration": 33,
    "start_time": "2022-05-03T16:15:55.744Z"
   },
   {
    "duration": 276,
    "start_time": "2022-05-03T16:15:55.779Z"
   },
   {
    "duration": 386,
    "start_time": "2022-05-03T16:15:56.057Z"
   },
   {
    "duration": 197021,
    "start_time": "2022-05-03T16:15:56.444Z"
   },
   {
    "duration": 0,
    "start_time": "2022-05-03T16:19:13.470Z"
   },
   {
    "duration": 0,
    "start_time": "2022-05-03T16:19:13.471Z"
   },
   {
    "duration": 0,
    "start_time": "2022-05-03T16:19:13.473Z"
   },
   {
    "duration": 0,
    "start_time": "2022-05-03T16:19:13.475Z"
   },
   {
    "duration": 0,
    "start_time": "2022-05-03T16:19:13.476Z"
   },
   {
    "duration": 0,
    "start_time": "2022-05-03T16:19:13.477Z"
   },
   {
    "duration": 0,
    "start_time": "2022-05-03T16:19:13.479Z"
   },
   {
    "duration": 0,
    "start_time": "2022-05-03T16:19:13.480Z"
   },
   {
    "duration": 0,
    "start_time": "2022-05-03T16:19:13.482Z"
   },
   {
    "duration": 0,
    "start_time": "2022-05-03T16:19:13.507Z"
   },
   {
    "duration": 0,
    "start_time": "2022-05-03T16:19:13.509Z"
   },
   {
    "duration": 0,
    "start_time": "2022-05-03T16:19:13.511Z"
   },
   {
    "duration": 0,
    "start_time": "2022-05-03T16:19:13.512Z"
   },
   {
    "duration": 0,
    "start_time": "2022-05-03T16:19:13.515Z"
   },
   {
    "duration": 0,
    "start_time": "2022-05-03T16:19:13.517Z"
   },
   {
    "duration": 451,
    "start_time": "2022-05-03T16:19:16.398Z"
   },
   {
    "duration": 19,
    "start_time": "2022-05-03T16:19:23.696Z"
   },
   {
    "duration": 13,
    "start_time": "2022-05-03T16:22:10.095Z"
   },
   {
    "duration": 4076,
    "start_time": "2022-05-03T16:22:35.588Z"
   },
   {
    "duration": 13,
    "start_time": "2022-05-03T16:25:36.977Z"
   },
   {
    "duration": 70,
    "start_time": "2022-05-03T16:26:09.561Z"
   },
   {
    "duration": 4628,
    "start_time": "2022-05-03T16:26:14.185Z"
   },
   {
    "duration": 12,
    "start_time": "2022-05-03T16:26:21.471Z"
   },
   {
    "duration": 45,
    "start_time": "2022-05-03T16:26:25.095Z"
   },
   {
    "duration": 4,
    "start_time": "2022-05-03T16:26:25.657Z"
   },
   {
    "duration": 3,
    "start_time": "2022-05-03T16:26:26.178Z"
   },
   {
    "duration": 8,
    "start_time": "2022-05-03T16:26:56.107Z"
   },
   {
    "duration": 5860,
    "start_time": "2022-05-03T16:27:01.430Z"
   },
   {
    "duration": 3,
    "start_time": "2022-05-03T16:33:08.609Z"
   },
   {
    "duration": 19,
    "start_time": "2022-05-03T16:34:03.036Z"
   },
   {
    "duration": 5734,
    "start_time": "2022-05-03T16:34:18.598Z"
   },
   {
    "duration": 1351,
    "start_time": "2022-05-03T16:34:26.834Z"
   },
   {
    "duration": 3,
    "start_time": "2022-05-03T16:34:32.130Z"
   },
   {
    "duration": 48431,
    "start_time": "2022-05-03T16:34:35.480Z"
   },
   {
    "duration": 52832,
    "start_time": "2022-05-03T16:36:10.682Z"
   },
   {
    "duration": 5,
    "start_time": "2022-05-03T17:38:58.082Z"
   },
   {
    "duration": 4,
    "start_time": "2022-05-03T17:39:37.602Z"
   },
   {
    "duration": 6,
    "start_time": "2022-05-03T17:39:44.509Z"
   },
   {
    "duration": 12,
    "start_time": "2022-05-03T17:43:30.834Z"
   },
   {
    "duration": 4,
    "start_time": "2022-05-03T17:44:04.667Z"
   },
   {
    "duration": 4,
    "start_time": "2022-05-03T17:44:16.054Z"
   },
   {
    "duration": 3,
    "start_time": "2022-05-03T17:44:43.914Z"
   },
   {
    "duration": 0,
    "start_time": "2022-05-03T17:49:29.945Z"
   },
   {
    "duration": 50838,
    "start_time": "2022-05-03T17:49:35.187Z"
   },
   {
    "duration": 200753,
    "start_time": "2022-05-03T17:50:36.760Z"
   },
   {
    "duration": 1713,
    "start_time": "2022-05-03T17:55:46.281Z"
   },
   {
    "duration": 874,
    "start_time": "2022-05-03T17:55:47.997Z"
   },
   {
    "duration": 13,
    "start_time": "2022-05-03T17:55:48.873Z"
   },
   {
    "duration": 47,
    "start_time": "2022-05-03T17:55:48.888Z"
   },
   {
    "duration": 293,
    "start_time": "2022-05-03T17:55:48.937Z"
   },
   {
    "duration": 414,
    "start_time": "2022-05-03T17:55:49.232Z"
   },
   {
    "duration": 150761,
    "start_time": "2022-05-03T17:55:49.648Z"
   },
   {
    "duration": 0,
    "start_time": "2022-05-03T17:58:20.412Z"
   },
   {
    "duration": 0,
    "start_time": "2022-05-03T17:58:20.414Z"
   },
   {
    "duration": 0,
    "start_time": "2022-05-03T17:58:20.415Z"
   },
   {
    "duration": 0,
    "start_time": "2022-05-03T17:58:20.417Z"
   },
   {
    "duration": 0,
    "start_time": "2022-05-03T17:58:20.419Z"
   },
   {
    "duration": 0,
    "start_time": "2022-05-03T17:58:20.420Z"
   },
   {
    "duration": 0,
    "start_time": "2022-05-03T17:58:20.422Z"
   },
   {
    "duration": 0,
    "start_time": "2022-05-03T17:58:20.423Z"
   },
   {
    "duration": 0,
    "start_time": "2022-05-03T17:58:20.424Z"
   },
   {
    "duration": 0,
    "start_time": "2022-05-03T17:58:20.425Z"
   },
   {
    "duration": 0,
    "start_time": "2022-05-03T17:58:20.427Z"
   },
   {
    "duration": 0,
    "start_time": "2022-05-03T17:58:20.428Z"
   },
   {
    "duration": 0,
    "start_time": "2022-05-03T17:58:20.429Z"
   },
   {
    "duration": 0,
    "start_time": "2022-05-03T17:58:20.430Z"
   },
   {
    "duration": 138966,
    "start_time": "2022-05-03T17:58:22.366Z"
   },
   {
    "duration": 1632,
    "start_time": "2022-05-03T18:01:54.373Z"
   },
   {
    "duration": 813,
    "start_time": "2022-05-03T18:01:56.008Z"
   },
   {
    "duration": 11,
    "start_time": "2022-05-03T18:01:56.823Z"
   },
   {
    "duration": 32,
    "start_time": "2022-05-03T18:01:56.836Z"
   },
   {
    "duration": 263,
    "start_time": "2022-05-03T18:01:56.870Z"
   },
   {
    "duration": 368,
    "start_time": "2022-05-03T18:01:57.134Z"
   },
   {
    "duration": 155216,
    "start_time": "2022-05-03T18:01:59.958Z"
   },
   {
    "duration": 4,
    "start_time": "2022-05-03T18:05:17.997Z"
   },
   {
    "duration": 830,
    "start_time": "2022-05-03T18:05:18.003Z"
   },
   {
    "duration": 8,
    "start_time": "2022-05-03T18:05:18.836Z"
   },
   {
    "duration": 32,
    "start_time": "2022-05-03T18:05:18.846Z"
   },
   {
    "duration": 268,
    "start_time": "2022-05-03T18:05:18.880Z"
   },
   {
    "duration": 224,
    "start_time": "2022-05-03T18:05:19.150Z"
   },
   {
    "duration": 1716,
    "start_time": "2022-05-03T18:06:17.680Z"
   },
   {
    "duration": 831,
    "start_time": "2022-05-03T18:06:19.399Z"
   },
   {
    "duration": 11,
    "start_time": "2022-05-03T18:06:20.232Z"
   },
   {
    "duration": 31,
    "start_time": "2022-05-03T18:06:20.244Z"
   },
   {
    "duration": 271,
    "start_time": "2022-05-03T18:06:20.277Z"
   },
   {
    "duration": 387,
    "start_time": "2022-05-03T18:06:20.550Z"
   },
   {
    "duration": 3867,
    "start_time": "2022-05-03T18:11:05.092Z"
   },
   {
    "duration": 889,
    "start_time": "2022-05-03T18:11:08.961Z"
   },
   {
    "duration": 13,
    "start_time": "2022-05-03T18:11:09.851Z"
   },
   {
    "duration": 54,
    "start_time": "2022-05-03T18:11:09.865Z"
   },
   {
    "duration": 289,
    "start_time": "2022-05-03T18:11:09.921Z"
   },
   {
    "duration": 410,
    "start_time": "2022-05-03T18:11:10.212Z"
   },
   {
    "duration": 177842,
    "start_time": "2022-05-03T18:11:10.625Z"
   },
   {
    "duration": 0,
    "start_time": "2022-05-03T18:14:08.469Z"
   },
   {
    "duration": 0,
    "start_time": "2022-05-03T18:14:08.471Z"
   },
   {
    "duration": 0,
    "start_time": "2022-05-03T18:14:08.472Z"
   },
   {
    "duration": 0,
    "start_time": "2022-05-03T18:14:08.472Z"
   },
   {
    "duration": 0,
    "start_time": "2022-05-03T18:14:08.473Z"
   },
   {
    "duration": 0,
    "start_time": "2022-05-03T18:14:08.475Z"
   },
   {
    "duration": 0,
    "start_time": "2022-05-03T18:14:08.476Z"
   },
   {
    "duration": 0,
    "start_time": "2022-05-03T18:14:08.477Z"
   },
   {
    "duration": 0,
    "start_time": "2022-05-03T18:14:08.478Z"
   },
   {
    "duration": 0,
    "start_time": "2022-05-03T18:14:08.480Z"
   },
   {
    "duration": 0,
    "start_time": "2022-05-03T18:14:08.481Z"
   },
   {
    "duration": 0,
    "start_time": "2022-05-03T18:14:08.482Z"
   },
   {
    "duration": 0,
    "start_time": "2022-05-03T18:14:08.483Z"
   },
   {
    "duration": 0,
    "start_time": "2022-05-03T18:14:08.484Z"
   },
   {
    "duration": 0,
    "start_time": "2022-05-03T18:14:08.485Z"
   },
   {
    "duration": 0,
    "start_time": "2022-05-03T18:14:08.486Z"
   },
   {
    "duration": 0,
    "start_time": "2022-05-03T18:14:08.508Z"
   },
   {
    "duration": 1664,
    "start_time": "2022-05-03T18:15:50.683Z"
   },
   {
    "duration": 849,
    "start_time": "2022-05-03T18:15:52.349Z"
   },
   {
    "duration": 13,
    "start_time": "2022-05-03T18:15:53.200Z"
   },
   {
    "duration": 42,
    "start_time": "2022-05-03T18:15:53.215Z"
   },
   {
    "duration": 280,
    "start_time": "2022-05-03T18:15:53.259Z"
   },
   {
    "duration": 410,
    "start_time": "2022-05-03T18:15:53.541Z"
   },
   {
    "duration": 196,
    "start_time": "2022-05-03T18:15:53.953Z"
   },
   {
    "duration": 4143,
    "start_time": "2022-05-03T18:15:54.151Z"
   },
   {
    "duration": 4472,
    "start_time": "2022-05-03T18:15:58.296Z"
   },
   {
    "duration": 13,
    "start_time": "2022-05-03T18:16:02.770Z"
   },
   {
    "duration": 56,
    "start_time": "2022-05-03T18:16:02.808Z"
   },
   {
    "duration": 3,
    "start_time": "2022-05-03T18:16:02.866Z"
   },
   {
    "duration": 7,
    "start_time": "2022-05-03T18:16:02.871Z"
   },
   {
    "duration": 29,
    "start_time": "2022-05-03T18:16:02.881Z"
   },
   {
    "duration": 5541,
    "start_time": "2022-05-03T18:16:02.912Z"
   },
   {
    "duration": 5454,
    "start_time": "2022-05-03T18:16:08.456Z"
   },
   {
    "duration": 1355,
    "start_time": "2022-05-03T18:16:13.911Z"
   },
   {
    "duration": 3,
    "start_time": "2022-05-03T18:16:15.268Z"
   },
   {
    "duration": 56145,
    "start_time": "2022-05-03T18:16:15.272Z"
   },
   {
    "duration": 50127,
    "start_time": "2022-05-03T18:17:11.419Z"
   },
   {
    "duration": 0,
    "start_time": "2022-05-03T18:18:01.548Z"
   },
   {
    "duration": 0,
    "start_time": "2022-05-03T18:18:01.549Z"
   },
   {
    "duration": 0,
    "start_time": "2022-05-03T18:18:01.550Z"
   },
   {
    "duration": 0,
    "start_time": "2022-05-03T18:18:01.551Z"
   },
   {
    "duration": 57865,
    "start_time": "2022-05-03T18:18:23.147Z"
   },
   {
    "duration": 1669,
    "start_time": "2022-05-03T18:26:46.687Z"
   },
   {
    "duration": 839,
    "start_time": "2022-05-03T18:26:48.358Z"
   },
   {
    "duration": 12,
    "start_time": "2022-05-03T18:26:49.198Z"
   },
   {
    "duration": 32,
    "start_time": "2022-05-03T18:26:49.212Z"
   },
   {
    "duration": 262,
    "start_time": "2022-05-03T18:26:49.246Z"
   },
   {
    "duration": 376,
    "start_time": "2022-05-03T18:26:49.509Z"
   },
   {
    "duration": 320931,
    "start_time": "2022-05-03T18:26:49.887Z"
   },
   {
    "duration": 0,
    "start_time": "2022-05-03T18:32:10.822Z"
   },
   {
    "duration": 0,
    "start_time": "2022-05-03T18:32:10.824Z"
   },
   {
    "duration": 0,
    "start_time": "2022-05-03T18:32:10.825Z"
   },
   {
    "duration": 0,
    "start_time": "2022-05-03T18:32:10.826Z"
   },
   {
    "duration": 0,
    "start_time": "2022-05-03T18:32:10.828Z"
   },
   {
    "duration": 0,
    "start_time": "2022-05-03T18:32:10.830Z"
   },
   {
    "duration": 0,
    "start_time": "2022-05-03T18:32:10.831Z"
   },
   {
    "duration": 0,
    "start_time": "2022-05-03T18:32:10.833Z"
   },
   {
    "duration": 0,
    "start_time": "2022-05-03T18:32:10.834Z"
   },
   {
    "duration": 0,
    "start_time": "2022-05-03T18:32:10.836Z"
   },
   {
    "duration": 0,
    "start_time": "2022-05-03T18:32:10.838Z"
   },
   {
    "duration": 0,
    "start_time": "2022-05-03T18:32:10.839Z"
   },
   {
    "duration": 0,
    "start_time": "2022-05-03T18:32:10.841Z"
   },
   {
    "duration": 0,
    "start_time": "2022-05-03T18:32:10.843Z"
   },
   {
    "duration": 0,
    "start_time": "2022-05-03T18:32:10.844Z"
   },
   {
    "duration": 0,
    "start_time": "2022-05-03T18:32:10.845Z"
   },
   {
    "duration": 0,
    "start_time": "2022-05-03T18:32:10.847Z"
   },
   {
    "duration": 25849,
    "start_time": "2022-05-03T18:32:13.130Z"
   },
   {
    "duration": 5,
    "start_time": "2022-05-03T18:32:42.340Z"
   },
   {
    "duration": 810,
    "start_time": "2022-05-03T18:32:42.347Z"
   },
   {
    "duration": 7,
    "start_time": "2022-05-03T18:32:43.160Z"
   },
   {
    "duration": 39,
    "start_time": "2022-05-03T18:32:43.168Z"
   },
   {
    "duration": 242,
    "start_time": "2022-05-03T18:32:43.209Z"
   },
   {
    "duration": 223,
    "start_time": "2022-05-03T18:32:43.453Z"
   },
   {
    "duration": 234141,
    "start_time": "2022-05-03T18:32:43.678Z"
   },
   {
    "duration": 0,
    "start_time": "2022-05-03T18:36:37.822Z"
   },
   {
    "duration": 0,
    "start_time": "2022-05-03T18:36:37.823Z"
   },
   {
    "duration": 0,
    "start_time": "2022-05-03T18:36:37.825Z"
   },
   {
    "duration": 0,
    "start_time": "2022-05-03T18:36:37.827Z"
   },
   {
    "duration": 0,
    "start_time": "2022-05-03T18:36:37.828Z"
   },
   {
    "duration": 0,
    "start_time": "2022-05-03T18:36:37.830Z"
   },
   {
    "duration": 0,
    "start_time": "2022-05-03T18:36:37.831Z"
   },
   {
    "duration": 0,
    "start_time": "2022-05-03T18:36:37.833Z"
   },
   {
    "duration": 0,
    "start_time": "2022-05-03T18:36:37.834Z"
   },
   {
    "duration": 0,
    "start_time": "2022-05-03T18:36:37.836Z"
   },
   {
    "duration": 0,
    "start_time": "2022-05-03T18:36:37.837Z"
   },
   {
    "duration": 0,
    "start_time": "2022-05-03T18:36:37.839Z"
   },
   {
    "duration": 0,
    "start_time": "2022-05-03T18:36:37.840Z"
   },
   {
    "duration": 0,
    "start_time": "2022-05-03T18:36:37.842Z"
   },
   {
    "duration": 0,
    "start_time": "2022-05-03T18:36:37.844Z"
   },
   {
    "duration": 0,
    "start_time": "2022-05-03T18:36:37.845Z"
   },
   {
    "duration": 0,
    "start_time": "2022-05-03T18:36:37.846Z"
   },
   {
    "duration": 18140,
    "start_time": "2022-05-03T18:36:42.234Z"
   },
   {
    "duration": 10299,
    "start_time": "2022-05-03T18:37:25.236Z"
   },
   {
    "duration": 1632,
    "start_time": "2022-05-03T18:37:53.619Z"
   },
   {
    "duration": 832,
    "start_time": "2022-05-03T18:37:55.253Z"
   },
   {
    "duration": 12,
    "start_time": "2022-05-03T18:37:56.087Z"
   },
   {
    "duration": 32,
    "start_time": "2022-05-03T18:37:56.109Z"
   },
   {
    "duration": 269,
    "start_time": "2022-05-03T18:37:56.143Z"
   },
   {
    "duration": 414,
    "start_time": "2022-05-03T18:37:56.414Z"
   },
   {
    "duration": 944369,
    "start_time": "2022-05-03T18:37:56.830Z"
   },
   {
    "duration": 0,
    "start_time": "2022-05-03T18:53:41.201Z"
   },
   {
    "duration": 0,
    "start_time": "2022-05-03T18:53:41.202Z"
   },
   {
    "duration": 0,
    "start_time": "2022-05-03T18:53:41.203Z"
   },
   {
    "duration": 0,
    "start_time": "2022-05-03T18:53:41.204Z"
   },
   {
    "duration": 0,
    "start_time": "2022-05-03T18:53:41.207Z"
   },
   {
    "duration": 0,
    "start_time": "2022-05-03T18:53:41.209Z"
   },
   {
    "duration": 0,
    "start_time": "2022-05-03T18:53:41.210Z"
   },
   {
    "duration": 0,
    "start_time": "2022-05-03T18:53:41.212Z"
   },
   {
    "duration": 0,
    "start_time": "2022-05-03T18:53:41.214Z"
   },
   {
    "duration": 0,
    "start_time": "2022-05-03T18:53:41.215Z"
   },
   {
    "duration": 0,
    "start_time": "2022-05-03T18:53:41.217Z"
   },
   {
    "duration": 0,
    "start_time": "2022-05-03T18:53:41.218Z"
   },
   {
    "duration": 0,
    "start_time": "2022-05-03T18:53:41.220Z"
   },
   {
    "duration": 0,
    "start_time": "2022-05-03T18:53:41.221Z"
   },
   {
    "duration": 0,
    "start_time": "2022-05-03T18:53:41.222Z"
   },
   {
    "duration": 0,
    "start_time": "2022-05-03T18:53:41.224Z"
   },
   {
    "duration": 0,
    "start_time": "2022-05-03T18:53:41.225Z"
   },
   {
    "duration": 5,
    "start_time": "2022-05-03T18:53:46.500Z"
   },
   {
    "duration": 859,
    "start_time": "2022-05-03T18:53:46.508Z"
   },
   {
    "duration": 8,
    "start_time": "2022-05-03T18:53:47.370Z"
   },
   {
    "duration": 49,
    "start_time": "2022-05-03T18:53:47.381Z"
   },
   {
    "duration": 251,
    "start_time": "2022-05-03T18:53:47.432Z"
   },
   {
    "duration": 225,
    "start_time": "2022-05-03T18:53:47.685Z"
   },
   {
    "duration": 196,
    "start_time": "2022-05-03T18:53:47.912Z"
   },
   {
    "duration": 4522,
    "start_time": "2022-05-03T18:53:48.110Z"
   },
   {
    "duration": 4550,
    "start_time": "2022-05-03T18:53:52.634Z"
   },
   {
    "duration": 30,
    "start_time": "2022-05-03T18:53:57.185Z"
   },
   {
    "duration": 59,
    "start_time": "2022-05-03T18:53:57.217Z"
   },
   {
    "duration": 4,
    "start_time": "2022-05-03T18:53:57.277Z"
   },
   {
    "duration": 4,
    "start_time": "2022-05-03T18:53:57.307Z"
   },
   {
    "duration": 5,
    "start_time": "2022-05-03T18:53:57.314Z"
   },
   {
    "duration": 5926,
    "start_time": "2022-05-03T18:53:57.321Z"
   },
   {
    "duration": 5755,
    "start_time": "2022-05-03T18:54:03.249Z"
   },
   {
    "duration": 1386,
    "start_time": "2022-05-03T18:54:09.006Z"
   },
   {
    "duration": 4,
    "start_time": "2022-05-03T18:54:10.394Z"
   },
   {
    "duration": 52127,
    "start_time": "2022-05-03T18:54:10.408Z"
   },
   {
    "duration": 53382,
    "start_time": "2022-05-03T18:55:02.536Z"
   },
   {
    "duration": 3953395,
    "start_time": "2022-05-03T18:55:55.920Z"
   },
   {
    "duration": 0,
    "start_time": "2022-05-03T20:01:49.317Z"
   },
   {
    "duration": 0,
    "start_time": "2022-05-03T20:01:49.319Z"
   },
   {
    "duration": 0,
    "start_time": "2022-05-03T20:01:49.321Z"
   },
   {
    "duration": 155597,
    "start_time": "2022-05-03T20:01:55.341Z"
   },
   {
    "duration": 6,
    "start_time": "2022-05-03T20:04:42.263Z"
   },
   {
    "duration": 5,
    "start_time": "2022-05-03T20:04:55.647Z"
   },
   {
    "duration": 5,
    "start_time": "2022-05-03T20:05:03.465Z"
   },
   {
    "duration": 2107597,
    "start_time": "2022-05-03T20:05:18.215Z"
   },
   {
    "duration": 4,
    "start_time": "2022-05-03T20:42:32.374Z"
   },
   {
    "duration": 4,
    "start_time": "2022-05-03T20:42:49.288Z"
   },
   {
    "duration": 5,
    "start_time": "2022-05-03T20:42:59.907Z"
   },
   {
    "duration": 8,
    "start_time": "2022-05-03T20:43:22.794Z"
   },
   {
    "duration": 6,
    "start_time": "2022-05-03T20:43:57.382Z"
   },
   {
    "duration": 10,
    "start_time": "2022-05-03T20:44:45.539Z"
   },
   {
    "duration": 4,
    "start_time": "2022-05-03T20:45:01.990Z"
   },
   {
    "duration": 18,
    "start_time": "2022-05-03T20:46:10.712Z"
   },
   {
    "duration": 5,
    "start_time": "2022-05-03T20:46:58.558Z"
   },
   {
    "duration": 6,
    "start_time": "2022-05-03T20:47:17.731Z"
   },
   {
    "duration": 5,
    "start_time": "2022-05-03T20:47:26.076Z"
   },
   {
    "duration": 4,
    "start_time": "2022-05-03T20:48:52.042Z"
   },
   {
    "duration": 4,
    "start_time": "2022-05-03T20:48:59.510Z"
   },
   {
    "duration": 17,
    "start_time": "2022-05-03T20:50:18.400Z"
   },
   {
    "duration": 5,
    "start_time": "2022-05-03T20:52:21.639Z"
   },
   {
    "duration": 4,
    "start_time": "2022-05-03T20:52:57.927Z"
   },
   {
    "duration": 10,
    "start_time": "2022-05-03T20:53:06.194Z"
   },
   {
    "duration": 76,
    "start_time": "2022-05-03T20:53:12.167Z"
   },
   {
    "duration": 5,
    "start_time": "2022-05-03T20:53:14.472Z"
   },
   {
    "duration": 5,
    "start_time": "2022-05-03T20:54:01.413Z"
   },
   {
    "duration": 59,
    "start_time": "2022-05-03T20:55:45.346Z"
   },
   {
    "duration": 4,
    "start_time": "2022-05-03T20:55:48.886Z"
   },
   {
    "duration": 60,
    "start_time": "2022-05-03T20:56:21.725Z"
   },
   {
    "duration": 1782,
    "start_time": "2022-05-04T06:22:58.044Z"
   },
   {
    "duration": 817,
    "start_time": "2022-05-04T06:22:59.828Z"
   },
   {
    "duration": 12,
    "start_time": "2022-05-04T06:23:00.646Z"
   },
   {
    "duration": 47,
    "start_time": "2022-05-04T06:23:00.660Z"
   },
   {
    "duration": 261,
    "start_time": "2022-05-04T06:23:00.709Z"
   },
   {
    "duration": 382,
    "start_time": "2022-05-04T06:23:00.972Z"
   },
   {
    "duration": 610542,
    "start_time": "2022-05-04T06:23:01.356Z"
   },
   {
    "duration": 0,
    "start_time": "2022-05-04T06:33:11.901Z"
   },
   {
    "duration": 0,
    "start_time": "2022-05-04T06:33:11.907Z"
   },
   {
    "duration": 0,
    "start_time": "2022-05-04T06:33:11.909Z"
   },
   {
    "duration": 0,
    "start_time": "2022-05-04T06:33:11.910Z"
   },
   {
    "duration": 0,
    "start_time": "2022-05-04T06:33:11.911Z"
   },
   {
    "duration": 0,
    "start_time": "2022-05-04T06:33:11.913Z"
   },
   {
    "duration": 1,
    "start_time": "2022-05-04T06:33:11.913Z"
   },
   {
    "duration": 0,
    "start_time": "2022-05-04T06:33:11.915Z"
   },
   {
    "duration": 0,
    "start_time": "2022-05-04T06:33:11.916Z"
   },
   {
    "duration": 0,
    "start_time": "2022-05-04T06:33:11.917Z"
   },
   {
    "duration": 0,
    "start_time": "2022-05-04T06:33:11.918Z"
   },
   {
    "duration": 0,
    "start_time": "2022-05-04T06:33:11.919Z"
   },
   {
    "duration": 0,
    "start_time": "2022-05-04T06:33:11.921Z"
   },
   {
    "duration": 0,
    "start_time": "2022-05-04T06:33:11.922Z"
   },
   {
    "duration": 0,
    "start_time": "2022-05-04T06:33:11.923Z"
   },
   {
    "duration": 0,
    "start_time": "2022-05-04T06:33:11.925Z"
   },
   {
    "duration": 0,
    "start_time": "2022-05-04T06:33:11.926Z"
   },
   {
    "duration": 0,
    "start_time": "2022-05-04T06:33:11.927Z"
   },
   {
    "duration": 0,
    "start_time": "2022-05-04T06:33:11.928Z"
   },
   {
    "duration": 0,
    "start_time": "2022-05-04T06:33:11.929Z"
   },
   {
    "duration": 6,
    "start_time": "2022-05-04T06:33:14.893Z"
   },
   {
    "duration": 853,
    "start_time": "2022-05-04T06:33:14.901Z"
   },
   {
    "duration": 7,
    "start_time": "2022-05-04T06:33:15.758Z"
   },
   {
    "duration": 50,
    "start_time": "2022-05-04T06:33:15.768Z"
   },
   {
    "duration": 270,
    "start_time": "2022-05-04T06:33:15.820Z"
   },
   {
    "duration": 224,
    "start_time": "2022-05-04T06:33:16.093Z"
   },
   {
    "duration": 1246780,
    "start_time": "2022-05-04T06:33:16.320Z"
   },
   {
    "duration": 0,
    "start_time": "2022-05-04T06:54:03.104Z"
   },
   {
    "duration": 0,
    "start_time": "2022-05-04T06:54:03.105Z"
   },
   {
    "duration": 0,
    "start_time": "2022-05-04T06:54:03.106Z"
   },
   {
    "duration": 0,
    "start_time": "2022-05-04T06:54:03.107Z"
   },
   {
    "duration": 0,
    "start_time": "2022-05-04T06:54:03.108Z"
   },
   {
    "duration": 0,
    "start_time": "2022-05-04T06:54:03.110Z"
   },
   {
    "duration": 0,
    "start_time": "2022-05-04T06:54:03.111Z"
   },
   {
    "duration": 0,
    "start_time": "2022-05-04T06:54:03.112Z"
   },
   {
    "duration": 0,
    "start_time": "2022-05-04T06:54:03.113Z"
   },
   {
    "duration": 0,
    "start_time": "2022-05-04T06:54:03.114Z"
   },
   {
    "duration": 0,
    "start_time": "2022-05-04T06:54:03.115Z"
   },
   {
    "duration": 0,
    "start_time": "2022-05-04T06:54:03.116Z"
   },
   {
    "duration": 0,
    "start_time": "2022-05-04T06:54:03.117Z"
   },
   {
    "duration": 0,
    "start_time": "2022-05-04T06:54:03.118Z"
   },
   {
    "duration": 0,
    "start_time": "2022-05-04T06:54:03.119Z"
   },
   {
    "duration": 0,
    "start_time": "2022-05-04T06:54:03.121Z"
   },
   {
    "duration": 0,
    "start_time": "2022-05-04T06:54:03.123Z"
   },
   {
    "duration": 0,
    "start_time": "2022-05-04T06:54:03.124Z"
   },
   {
    "duration": 0,
    "start_time": "2022-05-04T06:54:03.125Z"
   },
   {
    "duration": 0,
    "start_time": "2022-05-04T06:54:03.127Z"
   },
   {
    "duration": 1603,
    "start_time": "2022-05-04T06:54:13.017Z"
   },
   {
    "duration": 826,
    "start_time": "2022-05-04T06:54:14.622Z"
   },
   {
    "duration": 13,
    "start_time": "2022-05-04T06:54:15.450Z"
   },
   {
    "duration": 49,
    "start_time": "2022-05-04T06:54:15.466Z"
   },
   {
    "duration": 276,
    "start_time": "2022-05-04T06:54:15.517Z"
   },
   {
    "duration": 399,
    "start_time": "2022-05-04T06:54:15.794Z"
   },
   {
    "duration": 737022,
    "start_time": "2022-05-04T06:54:16.195Z"
   },
   {
    "duration": 0,
    "start_time": "2022-05-04T07:06:33.227Z"
   },
   {
    "duration": 0,
    "start_time": "2022-05-04T07:06:33.229Z"
   },
   {
    "duration": 0,
    "start_time": "2022-05-04T07:06:33.232Z"
   },
   {
    "duration": 0,
    "start_time": "2022-05-04T07:06:33.233Z"
   },
   {
    "duration": 0,
    "start_time": "2022-05-04T07:06:33.235Z"
   },
   {
    "duration": 0,
    "start_time": "2022-05-04T07:06:33.237Z"
   },
   {
    "duration": 0,
    "start_time": "2022-05-04T07:06:33.240Z"
   },
   {
    "duration": 0,
    "start_time": "2022-05-04T07:06:33.242Z"
   },
   {
    "duration": 0,
    "start_time": "2022-05-04T07:06:33.244Z"
   },
   {
    "duration": 0,
    "start_time": "2022-05-04T07:06:33.246Z"
   },
   {
    "duration": 0,
    "start_time": "2022-05-04T07:06:33.248Z"
   },
   {
    "duration": 0,
    "start_time": "2022-05-04T07:06:33.249Z"
   },
   {
    "duration": 0,
    "start_time": "2022-05-04T07:06:33.250Z"
   },
   {
    "duration": 0,
    "start_time": "2022-05-04T07:06:33.252Z"
   },
   {
    "duration": 0,
    "start_time": "2022-05-04T07:06:33.253Z"
   },
   {
    "duration": 0,
    "start_time": "2022-05-04T07:06:33.254Z"
   },
   {
    "duration": 0,
    "start_time": "2022-05-04T07:06:33.255Z"
   },
   {
    "duration": 0,
    "start_time": "2022-05-04T07:06:33.257Z"
   },
   {
    "duration": 0,
    "start_time": "2022-05-04T07:06:33.258Z"
   },
   {
    "duration": 0,
    "start_time": "2022-05-04T07:06:33.260Z"
   },
   {
    "duration": 189155,
    "start_time": "2022-05-04T07:06:35.643Z"
   },
   {
    "duration": 5,
    "start_time": "2022-05-04T07:09:49.766Z"
   },
   {
    "duration": 935,
    "start_time": "2022-05-04T07:09:49.773Z"
   },
   {
    "duration": 8,
    "start_time": "2022-05-04T07:09:50.714Z"
   },
   {
    "duration": 33,
    "start_time": "2022-05-04T07:09:50.726Z"
   },
   {
    "duration": 300,
    "start_time": "2022-05-04T07:09:50.761Z"
   },
   {
    "duration": 238,
    "start_time": "2022-05-04T07:09:51.064Z"
   },
   {
    "duration": 3283,
    "start_time": "2022-05-04T15:09:03.450Z"
   },
   {
    "duration": 289,
    "start_time": "2022-05-04T15:09:06.735Z"
   },
   {
    "duration": 0,
    "start_time": "2022-05-04T15:09:07.028Z"
   },
   {
    "duration": 0,
    "start_time": "2022-05-04T15:09:07.030Z"
   },
   {
    "duration": 0,
    "start_time": "2022-05-04T15:09:07.032Z"
   },
   {
    "duration": 0,
    "start_time": "2022-05-04T15:09:07.033Z"
   },
   {
    "duration": 0,
    "start_time": "2022-05-04T15:09:07.035Z"
   },
   {
    "duration": 0,
    "start_time": "2022-05-04T15:09:07.036Z"
   },
   {
    "duration": 0,
    "start_time": "2022-05-04T15:09:07.037Z"
   },
   {
    "duration": 0,
    "start_time": "2022-05-04T15:09:07.039Z"
   },
   {
    "duration": 0,
    "start_time": "2022-05-04T15:09:07.040Z"
   },
   {
    "duration": 0,
    "start_time": "2022-05-04T15:09:07.041Z"
   },
   {
    "duration": 0,
    "start_time": "2022-05-04T15:09:07.043Z"
   },
   {
    "duration": 0,
    "start_time": "2022-05-04T15:09:07.044Z"
   },
   {
    "duration": 0,
    "start_time": "2022-05-04T15:09:07.045Z"
   },
   {
    "duration": 0,
    "start_time": "2022-05-04T15:09:07.047Z"
   },
   {
    "duration": 0,
    "start_time": "2022-05-04T15:09:07.048Z"
   },
   {
    "duration": 0,
    "start_time": "2022-05-04T15:09:07.049Z"
   },
   {
    "duration": 0,
    "start_time": "2022-05-04T15:09:07.050Z"
   },
   {
    "duration": 0,
    "start_time": "2022-05-04T15:09:07.052Z"
   },
   {
    "duration": 0,
    "start_time": "2022-05-04T15:09:07.053Z"
   },
   {
    "duration": 0,
    "start_time": "2022-05-04T15:09:07.055Z"
   },
   {
    "duration": 0,
    "start_time": "2022-05-04T15:09:07.092Z"
   },
   {
    "duration": 0,
    "start_time": "2022-05-04T15:09:07.094Z"
   },
   {
    "duration": 0,
    "start_time": "2022-05-04T15:09:07.095Z"
   },
   {
    "duration": 0,
    "start_time": "2022-05-04T15:09:07.097Z"
   },
   {
    "duration": 0,
    "start_time": "2022-05-04T15:09:07.098Z"
   },
   {
    "duration": 0,
    "start_time": "2022-05-04T15:09:07.099Z"
   },
   {
    "duration": 0,
    "start_time": "2022-05-04T15:09:07.101Z"
   },
   {
    "duration": 0,
    "start_time": "2022-05-04T15:09:07.103Z"
   },
   {
    "duration": 0,
    "start_time": "2022-05-04T15:09:07.104Z"
   },
   {
    "duration": 0,
    "start_time": "2022-05-04T15:09:07.106Z"
   },
   {
    "duration": 0,
    "start_time": "2022-05-04T15:09:07.108Z"
   },
   {
    "duration": 0,
    "start_time": "2022-05-04T15:09:07.109Z"
   },
   {
    "duration": 0,
    "start_time": "2022-05-04T15:09:07.111Z"
   },
   {
    "duration": 0,
    "start_time": "2022-05-04T15:09:07.112Z"
   },
   {
    "duration": 0,
    "start_time": "2022-05-04T15:09:07.114Z"
   },
   {
    "duration": 1314,
    "start_time": "2022-05-04T15:09:47.432Z"
   },
   {
    "duration": 20,
    "start_time": "2022-05-04T15:09:48.749Z"
   },
   {
    "duration": 60,
    "start_time": "2022-05-04T15:09:49.084Z"
   },
   {
    "duration": 508,
    "start_time": "2022-05-04T15:09:51.125Z"
   },
   {
    "duration": 713,
    "start_time": "2022-05-04T15:09:51.967Z"
   },
   {
    "duration": 278,
    "start_time": "2022-05-04T15:09:54.041Z"
   },
   {
    "duration": 7971,
    "start_time": "2022-05-04T15:09:55.588Z"
   },
   {
    "duration": 7111,
    "start_time": "2022-05-04T15:10:10.323Z"
   },
   {
    "duration": 20,
    "start_time": "2022-05-04T15:10:22.803Z"
   },
   {
    "duration": 68,
    "start_time": "2022-05-04T16:23:51.428Z"
   },
   {
    "duration": 4,
    "start_time": "2022-05-04T16:23:51.988Z"
   },
   {
    "duration": 4,
    "start_time": "2022-05-04T16:23:52.374Z"
   },
   {
    "duration": 240,
    "start_time": "2022-05-04T16:23:54.169Z"
   },
   {
    "duration": 13762,
    "start_time": "2022-05-04T16:23:55.088Z"
   },
   {
    "duration": 12933,
    "start_time": "2022-05-04T16:24:08.853Z"
   },
   {
    "duration": 2069,
    "start_time": "2022-05-04T16:24:21.789Z"
   },
   {
    "duration": 4,
    "start_time": "2022-05-04T16:25:10.631Z"
   },
   {
    "duration": 63671,
    "start_time": "2022-05-04T16:40:02.440Z"
   },
   {
    "duration": 57083,
    "start_time": "2022-05-04T16:41:06.115Z"
   },
   {
    "duration": 2486759,
    "start_time": "2022-05-04T16:42:03.200Z"
   },
   {
    "duration": 0,
    "start_time": "2022-05-04T17:23:29.962Z"
   },
   {
    "duration": 0,
    "start_time": "2022-05-04T17:23:29.964Z"
   },
   {
    "duration": 0,
    "start_time": "2022-05-04T17:23:29.966Z"
   },
   {
    "duration": 0,
    "start_time": "2022-05-04T17:23:29.968Z"
   },
   {
    "duration": 0,
    "start_time": "2022-05-04T17:23:29.970Z"
   },
   {
    "duration": 0,
    "start_time": "2022-05-04T17:23:29.972Z"
   },
   {
    "duration": 0,
    "start_time": "2022-05-04T17:23:29.975Z"
   },
   {
    "duration": 0,
    "start_time": "2022-05-04T17:23:29.993Z"
   },
   {
    "duration": 0,
    "start_time": "2022-05-04T17:23:29.995Z"
   },
   {
    "duration": 1,
    "start_time": "2022-05-04T17:23:29.999Z"
   },
   {
    "duration": 0,
    "start_time": "2022-05-04T17:23:30.001Z"
   },
   {
    "duration": 0,
    "start_time": "2022-05-04T17:23:30.003Z"
   },
   {
    "duration": 0,
    "start_time": "2022-05-04T17:23:30.006Z"
   },
   {
    "duration": 0,
    "start_time": "2022-05-04T17:23:30.008Z"
   },
   {
    "duration": 0,
    "start_time": "2022-05-04T17:23:30.010Z"
   },
   {
    "duration": 0,
    "start_time": "2022-05-04T17:23:30.012Z"
   },
   {
    "duration": 1751,
    "start_time": "2022-05-05T15:27:49.198Z"
   },
   {
    "duration": 4,
    "start_time": "2022-05-05T15:27:50.951Z"
   },
   {
    "duration": 187,
    "start_time": "2022-05-05T15:27:51.743Z"
   },
   {
    "duration": 69,
    "start_time": "2022-05-05T15:28:12.830Z"
   },
   {
    "duration": 768,
    "start_time": "2022-05-05T15:28:32.690Z"
   },
   {
    "duration": 13,
    "start_time": "2022-05-05T15:28:34.042Z"
   },
   {
    "duration": 36,
    "start_time": "2022-05-05T15:28:34.518Z"
   },
   {
    "duration": 284,
    "start_time": "2022-05-05T15:28:36.312Z"
   },
   {
    "duration": 369,
    "start_time": "2022-05-05T15:28:37.331Z"
   },
   {
    "duration": 405837,
    "start_time": "2022-05-05T15:28:39.018Z"
   }
  ],
  "kernelspec": {
   "display_name": "Python 3 (ipykernel)",
   "language": "python",
   "name": "python3"
  },
  "language_info": {
   "codemirror_mode": {
    "name": "ipython",
    "version": 3
   },
   "file_extension": ".py",
   "mimetype": "text/x-python",
   "name": "python",
   "nbconvert_exporter": "python",
   "pygments_lexer": "ipython3",
   "version": "3.9.13"
  },
  "toc": {
   "base_numbering": 1,
   "nav_menu": {},
   "number_sections": true,
   "sideBar": true,
   "skip_h1_title": true,
   "title_cell": "Содержание",
   "title_sidebar": "Contents",
   "toc_cell": true,
   "toc_position": {
    "height": "calc(100% - 180px)",
    "left": "10px",
    "top": "150px",
    "width": "302.344px"
   },
   "toc_section_display": true,
   "toc_window_display": true
  },
  "varInspector": {
   "cols": {
    "lenName": 16,
    "lenType": 16,
    "lenVar": 40
   },
   "kernels_config": {
    "python": {
     "delete_cmd_postfix": "",
     "delete_cmd_prefix": "del ",
     "library": "var_list.py",
     "varRefreshCmd": "print(var_dic_list())"
    },
    "r": {
     "delete_cmd_postfix": ") ",
     "delete_cmd_prefix": "rm(",
     "library": "var_list.r",
     "varRefreshCmd": "cat(var_dic_list()) "
    }
   },
   "types_to_exclude": [
    "module",
    "function",
    "builtin_function_or_method",
    "instance",
    "_Feature"
   ],
   "window_display": false
  }
 },
 "nbformat": 4,
 "nbformat_minor": 2
}
